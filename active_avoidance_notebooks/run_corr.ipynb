{
 "cells": [
  {
   "cell_type": "code",
   "execution_count": 1,
   "metadata": {
    "collapsed": true
   },
   "outputs": [],
   "source": [
    "# all modules necessary for this nb\n",
    "import os\n",
    "import sys\n",
    "import pickle\n",
    "from collections import Counter\n",
    "\n",
    "import numpy as np\n",
    "import pylab as pl\n",
    "import scipy.stats as sstats\n",
    "import pandas as pd\n",
    "\n",
    "# setting parameters for default matplotlib plots\n",
    "%matplotlib inline"
   ]
  },
  {
   "cell_type": "code",
   "execution_count": 2,
   "metadata": {
    "collapsed": true
   },
   "outputs": [],
   "source": [
    "pl.style.use('fabiostyle')"
   ]
  },
  {
   "cell_type": "code",
   "execution_count": 3,
   "metadata": {
    "collapsed": false,
    "nbpresent": {
     "id": "74d6493e-cf63-4efb-8856-1394244ac4d5"
    }
   },
   "outputs": [],
   "source": [
    "# needs to find the library of functions\n",
    "sys.path.append('../../../code/')  # to be replaced!\n",
    "\n",
    "import utils as ut\n",
    "import plots as pt"
   ]
  },
  {
   "cell_type": "code",
   "execution_count": 4,
   "metadata": {
    "collapsed": false,
    "nbpresent": {
     "id": "6b878791-4155-40ef-82ee-10e123c8f1d8"
    }
   },
   "outputs": [],
   "source": [
    "NOTEBOOK_NAME = 'run_corr'"
   ]
  },
  {
   "cell_type": "code",
   "execution_count": 5,
   "metadata": {
    "collapsed": false,
    "nbpresent": {
     "id": "dd42cd63-cf61-43ef-aca1-72f72cc9da73"
    }
   },
   "outputs": [
    {
     "name": "stdout",
     "output_type": "stream",
     "text": [
      "Unable to restore variable 'add_significance', ignoring (use %store -d to forget!)\n",
      "('The error was:', <type 'exceptions.KeyError'>)\n",
      "Unable to restore variable 'calc_rho', ignoring (use %store -d to forget!)\n",
      "('The error was:', <type 'exceptions.KeyError'>)\n",
      "Unable to restore variable 'extract_single_cycle_signal', ignoring (use %store -d to forget!)\n",
      "('The error was:', <type 'exceptions.KeyError'>)\n",
      "Unable to restore variable 'filter_cycle', ignoring (use %store -d to forget!)\n",
      "('The error was:', <type 'exceptions.KeyError'>)\n",
      "Unable to restore variable 'plot_it', ignoring (use %store -d to forget!)\n",
      "('The error was:', <type 'exceptions.KeyError'>)\n"
     ]
    }
   ],
   "source": [
    "from pickleshare import PickleShareDB\n",
    "\n",
    "autorestore_folder = os.path.join(os.getcwd(), 'autorestore', NOTEBOOK_NAME)\n",
    "db = PickleShareDB(autorestore_folder)\n",
    "import sys\n",
    "from workspace import *\n",
    "import IPython\n",
    "ip = IPython.get_ipython()\n",
    "\n",
    "# this will restore all the saved variables. ignore the errors listed.\n",
    "load_workspace(ip, db)\n",
    "\n",
    "# use `save_worspace(db)` to save variables at the end"
   ]
  },
  {
   "cell_type": "code",
   "execution_count": 6,
   "metadata": {
    "collapsed": true
   },
   "outputs": [],
   "source": [
    "#this will cause text to be exported as 'true text' which can be edited in Adobe Illustrator\n",
    "pl.rcParams['pdf.fonttype']=42\n",
    "pl.rcParams['ps.fonttype']=42"
   ]
  },
  {
   "cell_type": "code",
   "execution_count": 264,
   "metadata": {
    "collapsed": false
   },
   "outputs": [
    {
     "name": "stdout",
     "output_type": "stream",
     "text": [
      "('c18m9', 'vNAc7', '99b', '94', '94b', '96', '100', '98', '98b', '99', '104', '104b', 'dhpc40', 'dhpc40b', 'dhpc37', 'dhpc39', 'dNAc3')\n"
     ]
    }
   ],
   "source": [
    "#post data only\n",
    "vhpc_animals = 'c18m9','vNAc7','99b','94', '94b', '96', '100', '98', '98b', '99', '104', '104b'\n",
    "vhpc_high_performing_animals = '94','94b','96','98b','99b','99','100','vNAc7','c18m9'\n",
    "dhpc_animals = 'dhpc40', 'dhpc40b' ,'dhpc37', 'dhpc39', 'dNAc3'\n",
    "high_performing_animals = 'dhpc37','dhpc39','dNAc3'\n",
    "\n",
    "all_animals = vhpc_animals + dhpc_animals\n",
    "print all_animals"
   ]
  },
  {
   "cell_type": "code",
   "execution_count": 278,
   "metadata": {
    "collapsed": false
   },
   "outputs": [],
   "source": [
    "speed_interp_vhpc = {}\n",
    "for ani in vhpc_animals: \n",
    "    for var in 'speed', 'speed_times','time_ax','cycles_ends','cycles_starts','cycles','events','STIM5_ons','STIM6_ons','STIM7_ons',:\n",
    "        exec(\"%s_vhpc['%s'] = ut.load_variable('%s', '../%s/post/notebooks/autorestore/preprocessing')\"%(var, ani, var, ani))\n",
    "    exec(\"speed_interp_vhpc['%s'] = np.interp(time_ax_vhpc['%s'],speed_times_vhpc['%s'],speed_vhpc['%s'])\"%(ani,ani,ani,ani))\n",
    "speed_interp_dhpc = {}\n",
    "for ani in dhpc_animals: \n",
    "    for var in 'speed', 'speed_times','time_ax','cycles_ends','cycles_starts','cycles','events','STIM5_ons','STIM6_ons','STIM7_ons',:\n",
    "        exec(\"%s_vhpc['%s'] = ut.load_variable('%s', '../%s/post/notebooks/autorestore/preprocessing')\"%(var, ani, var, ani))\n",
    "    exec(\"speed_interp_dhpc['%s'] = np.interp(time_ax_vhpc['%s'],speed_times_vhpc['%s'],speed_vhpc['%s'])\"%(ani,ani,ani,ani))"
   ]
  },
  {
   "cell_type": "code",
   "execution_count": 279,
   "metadata": {
    "collapsed": true
   },
   "outputs": [],
   "source": [
    "def extract_single_cycle_signal(time_ax, signal, cycles, cycle, sample_start=7,sample_end=11):\n",
    "    fc = filter_cycle(time_ax, cycles, cycle)\n",
    "    t0 = time_ax[fc][0]\n",
    "    return time_ax[fc] - t0, signal[fc][sample_start:sample_end]"
   ]
  },
  {
   "cell_type": "code",
   "execution_count": 280,
   "metadata": {
    "collapsed": true
   },
   "outputs": [],
   "source": [
    "def filter_cycle(time_ax, cycles, cycle):\n",
    "    return (time_ax>=cycles[cycle][0]) * (time_ax<cycles[cycle][1])"
   ]
  },
  {
   "cell_type": "code",
   "execution_count": 376,
   "metadata": {
    "collapsed": false
   },
   "outputs": [
    {
     "data": {
      "text/plain": [
       "120"
      ]
     },
     "execution_count": 376,
     "metadata": {},
     "output_type": "execute_result"
    }
   ],
   "source": [
    "k={}\n",
    "for i in range(120):\n",
    "    fc = filter_cycle(time_ax_dhpc['dhpc40'],cycles_dhpc['dhpc40'],i)\n",
    "    k[i]=events_dhpc['dhpc40'][fc][16:29]\n",
    "len(k)"
   ]
  },
  {
   "cell_type": "code",
   "execution_count": 381,
   "metadata": {
    "collapsed": false
   },
   "outputs": [
    {
     "data": {
      "text/plain": [
       "431"
      ]
     },
     "execution_count": 381,
     "metadata": {},
     "output_type": "execute_result"
    }
   ],
   "source": [
    "len(k[0][0])"
   ]
  },
  {
   "cell_type": "code",
   "execution_count": 427,
   "metadata": {
    "collapsed": false
   },
   "outputs": [],
   "source": [
    "from itertools import chain\n",
    "\n",
    "ev_vhpc={}\n",
    "speed_bin_vhpc={}\n",
    "\n",
    "for ani in vhpc_animals:\n",
    "    exec(\"ev_vhpc['%s']=[]\"%(ani))\n",
    "    exec(\"speed_bin_vhpc['%s']=[]\"%(ani))\n",
    "    for i in range(120):\n",
    "        exec(\"a,temp_ev = extract_single_cycle_signal(time_ax_vhpc['%s'],events_vhpc['%s'],cycles_vhpc['%s'],i,16,29)\"%(ani,ani,ani))\n",
    "        exec(\"ev_vhpc['%s'].append(temp_ev)\"%(ani))\n",
    "        exec(\"a,temp_speed = extract_single_cycle_signal(time_ax_vhpc['%s'],speed_interp_vhpc['%s'],cycles_vhpc['%s'],i,16,29)\"%(ani,ani,ani))\n",
    "        exec(\"speed_bin_vhpc['%s'].append(temp_speed)\"%(ani))\n",
    "    exec(\"t_list = [x.tolist() for x in speed_bin_vhpc['%s']]\"%(ani))\n",
    "    exec(\"speed_bin_vhpc['%s'] = list(chain(*t_list))\"%(ani))\n",
    "    exec(\"ev_vhpc['%s'] = [x for xs in ev_vhpc['%s'] for x in xs]\"%(ani,ani))\n",
    "    \n",
    "ev_dhpc={}\n",
    "speed_bin_dhpc={}\n",
    "\n",
    "for ani in dhpc_animals:\n",
    "    exec(\"ev_dhpc['%s']=[]\"%(ani))\n",
    "    exec(\"speed_bin_dhpc['%s']=[]\"%(ani))\n",
    "    for i in range(120):\n",
    "        exec(\"a,temp_ev = extract_single_cycle_signal(time_ax_dhpc['%s'],events_dhpc['%s'],cycles_dhpc['%s'],i,16,29)\"%(ani,ani,ani))\n",
    "        exec(\"ev_dhpc['%s'].append(temp_ev)\"%(ani))\n",
    "        exec(\"a,temp_speed = extract_single_cycle_signal(time_ax_dhpc['%s'],speed_interp_dhpc['%s'],cycles_dhpc['%s'],i,16,29)\"%(ani,ani,ani))\n",
    "        exec(\"speed_bin_dhpc['%s'].append(temp_speed)\"%(ani))\n",
    "    exec(\"ev_dhpc['%s'] = [x for xs in ev_dhpc['%s'] for x in xs]\"%(ani,ani))\n",
    "    exec(\"t_list = [x.tolist() for x in speed_bin_dhpc['%s']]\"%(ani))\n",
    "    exec(\"speed_bin_dhpc['%s'] = list(chain(*t_list))\"%(ani))"
   ]
  },
  {
   "cell_type": "code",
   "execution_count": 454,
   "metadata": {
    "collapsed": true
   },
   "outputs": [],
   "source": [
    "from sklearn.linear_model import LinearRegression, Lasso, Ridge\n",
    "from sklearn.model_selection import cross_val_score, LeaveOneGroupOut\n",
    "from matplotlib.lines import Line2D"
   ]
  },
  {
   "cell_type": "code",
   "execution_count": 455,
   "metadata": {
    "collapsed": true
   },
   "outputs": [],
   "source": [
    "def calc_rho(events,speed,animal):\n",
    "    exec(\"events = events['%s']\"%(animal))\n",
    "    exec(\"speed = speed['%s']\"%(animal))\n",
    "    scores=[]\n",
    "    lr = Lasso()\n",
    "    cv = LeaveOneGroupOut()\n",
    "    n_chunks=10\n",
    "    groups = np.repeat(np.arange(n_chunks), len(events)/n_chunks+1)[:len(events)]\n",
    "    scores.append(cross_val_score(lr, events, speed,\n",
    "                                              cv=10))\n",
    "    scores=np.mean(scores)\n",
    "    return scores"
   ]
  },
  {
   "cell_type": "code",
   "execution_count": 456,
   "metadata": {
    "collapsed": false
   },
   "outputs": [],
   "source": [
    "rhos_vhpc = [calc_rho(ev_vhpc,speed_bin_vhpc,animal) for animal in vhpc_animals]\n",
    "rhos_dhpc = [calc_rho(ev_dhpc,speed_bin_dhpc,animal) for animal in dhpc_animals]"
   ]
  },
  {
   "cell_type": "code",
   "execution_count": 457,
   "metadata": {
    "collapsed": true
   },
   "outputs": [],
   "source": [
    "def plot_it(ax, xpos, values, color='k', errs=False):\n",
    "    vals = [[vv for vv in v if vv>-1e10] for v in values]\n",
    "    [ax.plot(np.random.rand(len(v))*0.2+x-0.1, v, 'o', mew=0.5, mfc=(0,0,0,0), mec=color, ms=2)\n",
    "     for x, v in zip(xpos, vals)]\n",
    "    m = [np.mean(v) for v in vals]\n",
    "    s = [sstats.sem(v) for v in vals]\n",
    "    ax.plot(xpos, m, '_', ms=8, lw=0.5, color=color)\n",
    "    if errs:        \n",
    "        ax.errorbar(xpos, m, s, lw=0, elinewidth=0.5, color=color)\n",
    "        "
   ]
  },
  {
   "cell_type": "code",
   "execution_count": 458,
   "metadata": {
    "collapsed": true
   },
   "outputs": [],
   "source": [
    "def add_significance(ax, array1, array2, x1, x2, y, ticksize=0.02, sig_func=None, thresholds=(0.05, 0.01, 0.001)):\n",
    "    if sig_func is None:\n",
    "        sig_func = lambda x, y: sstats.ttest_ind(x, y)\n",
    "    p = sig_func(array1, array2)[-1]\n",
    "    sig_value = sig_func(array1, array2)[0]\n",
    "    deltay = np.diff(ax.axis()[-2:])*ticksize\n",
    "    line = Line2D([x1, x1, x2, x2], [y-deltay, y, y, y-deltay], lw=1, color='k', clip_on=False)\n",
    "    ax.add_line(line)\n",
    "    ax.text(np.mean([x1, x2]), y+deltay,\n",
    "            'n.s.' if p>thresholds[0] else\n",
    "            '*' if p>thresholds[1] else\n",
    "            '**' if p>thresholds[2] else\n",
    "            '***',\n",
    "            ha='center', fontsize=5)\n",
    "    return sig_value, p"
   ]
  },
  {
   "cell_type": "code",
   "execution_count": 7,
   "metadata": {
    "collapsed": true
   },
   "outputs": [],
   "source": [
    "def report_stats (array1, array2, sig_func=None,mcc=1):\n",
    "    if sig_func is None:\n",
    "        sig_func = lambda x, y: sstats.mannwhitneyu(x, y, alternative='two-sided')\n",
    "        U = sig_func(array1, array2)[0]\n",
    "        z = ((U-((loops*loops)/2))/(np.sqrt(((loops*loops)*(loops+loops+1))/12)))\n",
    "        r = z/np.sqrt(loops*2)\n",
    "        p = sig_func(array1, array2)[-1]\n",
    "        print \"U =\",U,\"p =\",p*mcc,\"r =\",r\n",
    "    if sig_func is 'ttest':\n",
    "        sig_func = lambda x, y: sstats.ttest_ind(x, y)\n",
    "        cohens_d = (np.mean(array1)-np.mean(array2))/np.sqrt((np.std(array1)**2+np.std(array2)**2)/2)\n",
    "        p = sig_func(array1, array2)[-1]\n",
    "        print sig_func(array1, array2),\"d =\", cohens_d, 'corrected p =',p*mcc\n",
    "    if sig_func is 'fishers':\n",
    "        table = array1,array2\n",
    "        sig_func = lambda x: sstats.fisher_exact(x, alternative='two-sided')\n",
    "        p = sig_func(table)[-1]\n",
    "        odds_ratio = sig_func(table)[0]\n",
    "        print sig_func(table),\"odd's ratio =\", odds_ratio, 'corrected p =',p*mcc\n",
    "        \n",
    "\n",
    "def report_stats_chance (array1, chance=0.5, sig_func=None,mcc=1):\n",
    "    if sig_func is None:\n",
    "        sig_func = lambda x: sstats.wilcoxon(x)\n",
    "        subtracted = [x-chance for x in array1]\n",
    "        U = sig_func(subtracted)[0]\n",
    "        z = ((U-((loops*loops)/2))/(np.sqrt(((loops*loops)*(loops+loops+1))/12)))\n",
    "        r = z/np.sqrt(loops*2)\n",
    "        print sig_func(subtracted),\"r =\",r\n",
    "    elif sig_func is 'ttest':\n",
    "        sig_func = lambda x, y: sstats.ttest_1samp(x,y)\n",
    "        cohens_d = (np.mean(array1)-chance)/np.std(array1)\n",
    "        print sig_func(array1,chance),\"d =\",cohens_d"
   ]
  },
  {
   "cell_type": "code",
   "execution_count": 463,
   "metadata": {
    "collapsed": false
   },
   "outputs": [
    {
     "data": {
      "image/png": "[encoded data removed]",
      "text/plain": [
       "<matplotlib.figure.Figure at 0x7f95f424ac10>"
      ]
     },
     "metadata": {},
     "output_type": "display_data"
    }
   ],
   "source": [
    "fig, ax = pl.subplots(1, 1, figsize=(1., 1), sharex=True, sharey=True)\n",
    "\n",
    "values_vhpc =  np.r_[rhos_vhpc]\n",
    "values_dhpc =  np.r_[rhos_dhpc]\n",
    "\n",
    "plot_it(ax, [0], [values_vhpc], color='#FC766AFF',errs=True)\n",
    "plot_it(ax, [1], [values_dhpc], color='#5B84B1FF', errs=True)\n",
    "ax.set_ylim(-0.5, 1)\n",
    "ax.set_xlim(-0.5, 1.5)\n",
    "\n",
    "ax.set_xticks(np.arange(2))\n",
    "ax.set_xticklabels(['vCA1', 'dCA1'])\n",
    "\n",
    "ax.set_ylabel(r'$R^2$')\n",
    "\n",
    "#ax.legend([Line2D('', '', color=c, lw=.5) for c in 'k', 'r'], ['Early', 'Late'])\n",
    "\n",
    "# axs[0].text(1, 0.5, u\"☆\", fontsize=5, color='r', ha='center')\n",
    "\n",
    "ax.hlines(0, -0.5, 1.5, color='0.7')\n",
    "\n",
    "pvs = []\n",
    "pvs.append(add_significance(ax, values_vhpc, values_dhpc, 0, 1, 1))\n",
    "\n",
    "\n",
    "#fig.tight_layout()\n",
    "fig.savefig('../figures/%s_Rsqu.pdf'%NOTEBOOK_NAME)"
   ]
  },
  {
   "cell_type": "code",
   "execution_count": 11,
   "metadata": {
    "collapsed": false
   },
   "outputs": [
    {
     "name": "stdout",
     "output_type": "stream",
     "text": [
      "Ttest_indResult(statistic=-6.6826178905193405, pvalue=7.3200408679722307e-06) d = -3.37840533443 corrected p = 7.32004086797e-06\n"
     ]
    }
   ],
   "source": [
    "values_vhpc =  np.r_[rhos_vhpc]\n",
    "values_dhpc =  np.r_[rhos_dhpc]\n",
    "report_stats(values_vhpc,values_dhpc,sig_func='ttest')"
   ]
  },
  {
   "cell_type": "code",
   "execution_count": 10,
   "metadata": {
    "collapsed": false
   },
   "outputs": [
    {
     "data": {
      "text/plain": [
       "array([-0.09431797, -0.03313903, -0.03934337, -0.07613127, -0.0205899 ,\n",
       "       -0.13428789, -0.13453237, -0.00738177, -0.21178703, -0.04959706,\n",
       "        0.10914292,  0.05252664])"
      ]
     },
     "execution_count": 10,
     "metadata": {},
     "output_type": "execute_result"
    }
   ],
   "source": [
    "values_vhpc"
   ]
  },
  {
   "cell_type": "code",
   "execution_count": 460,
   "metadata": {
    "collapsed": false
   },
   "outputs": [
    {
     "name": "stdout",
     "output_type": "stream",
     "text": [
      "Could not store variable 'IPython'. Skipping...\n",
      "Could not store variable 'sstats'. Skipping...\n",
      "Could not store variable 'pickle'. Skipping...\n",
      "Could not store variable 'pt'. Skipping...\n",
      "Could not store variable 'pd'. Skipping...\n",
      "Could not store variable 'pl'. Skipping...\n",
      "Could not store variable 'ip'. Skipping...\n",
      "Could not store variable 'sys'. Skipping...\n",
      "Could not store variable 'os'. Skipping...\n",
      "Could not store variable 'ut'. Skipping...\n",
      "Could not store variable 'np'. Skipping...\n"
     ]
    }
   ],
   "source": [
    "save_workspace(db)"
   ]
  },
  {
   "cell_type": "code",
   "execution_count": null,
   "metadata": {
    "collapsed": true
   },
   "outputs": [],
   "source": []
  }
 ],
 "metadata": {
  "anaconda-cloud": {},
  "kernelspec": {
   "display_name": "Python [default]",
   "language": "python",
   "name": "python2"
  },
  "language_info": {
   "codemirror_mode": {
    "name": "ipython",
    "version": 2
   },
   "file_extension": ".py",
   "mimetype": "text/x-python",
   "name": "python",
   "nbconvert_exporter": "python",
   "pygments_lexer": "ipython2",
   "version": "2.7.12"
  },
  "nbpresent": {
   "slides": {
    "0d986ed2-5f0a-4fb5-bef8-671b9a7944c2": {
     "id": "0d986ed2-5f0a-4fb5-bef8-671b9a7944c2",
     "layout": "grid",
     "prev": null,
     "regions": {
      "8225e319-a034-4787-b6c3-67ba18e539df": {
       "attrs": {
        "height": 1,
        "pad": 0.01,
        "treemap:weight": 1,
        "width": 0.5,
        "x": 0.5,
        "y": 0
       },
       "id": "8225e319-a034-4787-b6c3-67ba18e539df"
      },
      "da963486-c522-4461-b750-f656e415a1be": {
       "attrs": {
        "height": 1,
        "pad": 0.01,
        "treemap:weight": 1,
        "width": 0.5,
        "x": 0,
        "y": 0
       },
       "id": "da963486-c522-4461-b750-f656e415a1be"
      }
     }
    },
    "1735d954-277d-4120-b50d-1eda74274968": {
     "id": "1735d954-277d-4120-b50d-1eda74274968",
     "prev": "0d986ed2-5f0a-4fb5-bef8-671b9a7944c2",
     "regions": {
      "a6210379-c2c0-4a0b-b180-def0b2e45d5a": {
       "attrs": {
        "height": 1,
        "width": 1,
        "x": 0,
        "y": 0
       },
       "content": {
        "cell": "58ed5f85-9757-4f05-94ef-a631c3d9dd51",
        "part": "outputs"
       },
       "id": "a6210379-c2c0-4a0b-b180-def0b2e45d5a"
      }
     }
    },
    "17414c21-2d5e-4e85-a979-be0a81228952": {
     "id": "17414c21-2d5e-4e85-a979-be0a81228952",
     "prev": "3ba851ce-b3eb-409e-8809-d72887d124c6",
     "regions": {
      "8b369589-ef7b-40d4-986f-89079045d9ea": {
       "attrs": {
        "height": 1,
        "width": 1,
        "x": 0,
        "y": 0
       },
       "id": "8b369589-ef7b-40d4-986f-89079045d9ea"
      }
     }
    },
    "3ba851ce-b3eb-409e-8809-d72887d124c6": {
     "id": "3ba851ce-b3eb-409e-8809-d72887d124c6",
     "prev": "1735d954-277d-4120-b50d-1eda74274968",
     "regions": {
      "a70ad6eb-6c6c-4a9b-b2e6-844787805048": {
       "attrs": {
        "height": 0.7020408163265306,
        "width": 0.8377551020408163,
        "x": 0.1622448979591837,
        "y": 0.2979591836734694
       },
       "content": {
        "cell": "c50576db-4f27-48e8-a63a-42de45527151",
        "part": "outputs"
       },
       "id": "a70ad6eb-6c6c-4a9b-b2e6-844787805048"
      },
      "bebea0da-137b-4a60-9392-618d040c348d": {
       "attrs": {
        "height": 0.1360544217687075,
        "width": 0.8604591836734694,
        "x": 0.1,
        "y": 0.1
       },
       "id": "bebea0da-137b-4a60-9392-618d040c348d"
      }
     }
    }
   },
   "themes": {}
  }
 },
 "nbformat": 4,
 "nbformat_minor": 2
}
