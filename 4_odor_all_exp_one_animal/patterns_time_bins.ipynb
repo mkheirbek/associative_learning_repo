{
 "cells": [
  {
   "cell_type": "markdown",
   "metadata": {},
   "source": [
    "# define labels and extract activity patterns binned at different durations. Also extract patterns of cells registered across sessions"
   ]
  },
  {
   "cell_type": "code",
   "execution_count": 1,
   "metadata": {
    "collapsed": false
   },
   "outputs": [
    {
     "data": {
      "text/html": [
       "<script>jQuery(function() {if (jQuery(\"body.notebook_app\").length == 0) { jQuery(\".input_area\").toggle(); jQuery(\".prompt\").toggle();}});</script>"
      ]
     },
     "metadata": {},
     "output_type": "display_data"
    },
    {
     "data": {
      "text/html": [
       "<button onclick=\"jQuery('.input_area').toggle(); jQuery('.prompt').toggle();\">Toggle code</button>"
      ]
     },
     "metadata": {},
     "output_type": "display_data"
    }
   ],
   "source": [
    "from IPython.display import display\n",
    "from IPython.display import HTML\n",
    "import IPython.core.display as di # Example: di.display_html('<h3>%s:</h3>' % str, raw=True)\n",
    "\n",
    "# This line will hide code by default when the notebook is exported as HTML\n",
    "di.display_html('<script>jQuery(function() {if (jQuery(\"body.notebook_app\").length == 0) { jQuery(\".input_area\").toggle(); jQuery(\".prompt\").toggle();}});</script>', raw=True)\n",
    "\n",
    "# This line will add a button to toggle visibility of code blocks, for use with the HTML export version\n",
    "di.display_html('''<button onclick=\"jQuery('.input_area').toggle(); jQuery('.prompt').toggle();\">Toggle code</button>''', raw=True)\n"
   ]
  },
  {
   "cell_type": "code",
   "execution_count": 2,
   "metadata": {
    "collapsed": true
   },
   "outputs": [],
   "source": [
    "# all modules necessary for this nb\n",
    "import os\n",
    "import sys\n",
    "import pickle\n",
    "\n",
    "import numpy as np\n",
    "import pylab as pl\n",
    "\n",
    "# setting parameters for default matplotlib plots\n",
    "%matplotlib inline"
   ]
  },
  {
   "cell_type": "code",
   "execution_count": 3,
   "metadata": {
    "collapsed": true
   },
   "outputs": [],
   "source": [
    "pl.style.use('fabiostyle')\n",
    "# needs to find the library of functions\n",
    "sys.path.append('../../../../code/')  # to be replaced!\n",
    "\n",
    "import utils as ut\n",
    "import plots as pt"
   ]
  },
  {
   "cell_type": "code",
   "execution_count": 4,
   "metadata": {
    "collapsed": true
   },
   "outputs": [],
   "source": [
    "NOTEBOOK_NAME = 'patterns_time_bins'"
   ]
  },
  {
   "cell_type": "code",
   "execution_count": 5,
   "metadata": {
    "collapsed": false
   },
   "outputs": [],
   "source": [
    "from pickleshare import PickleShareDB\n",
    "\n",
    "autorestore_folder = os.path.join(os.getcwd(), 'autorestore', NOTEBOOK_NAME)\n",
    "db = PickleShareDB(autorestore_folder)\n",
    "import sys\n",
    "from workspace import *\n",
    "import IPython\n",
    "ip = IPython.get_ipython()\n",
    "\n",
    "# this will restore all the saved variables. ignore the errors listed.\n",
    "load_workspace(ip, db)\n",
    "\n",
    "# use `save_worspace(db)` to save variables at the end"
   ]
  },
  {
   "cell_type": "code",
   "execution_count": 6,
   "metadata": {
    "collapsed": false
   },
   "outputs": [],
   "source": [
    "sessions = 'expo','pre','post','post_hiatus'"
   ]
  },
  {
   "cell_type": "code",
   "execution_count": 7,
   "metadata": {
    "collapsed": false
   },
   "outputs": [],
   "source": [
    "#import variables.\n",
    "for sess in sessions:\n",
    "    #try:\n",
    "        if sess == 'expo':\n",
    "            folder = '../4_odor_expo/notebooks/autorestore/preprocessing'\n",
    "        else:\n",
    "            exec(\"folder = '../%s/notebooks/autorestore/preprocessing'\")%sess\n",
    "        for var in ('time_ax', 'traces', 'events', 'cycles',\n",
    "                'is_STIM1t', 'is_STIM2t', 'is_STIM3t','is_STIM4t','rewards','licks',\n",
    "                'CYCLE_START','CS_DURATION','DELAY','US_START'): \n",
    "            exec('%s_%s = ut.load_variable(\\'%s\\', folder=\\'%s\\')'%(var, sess, var, folder))\n",
    "    #except:\n",
    "    #    print ('%s failed')%sess"
   ]
  },
  {
   "cell_type": "code",
   "execution_count": 8,
   "metadata": {
    "collapsed": false
   },
   "outputs": [],
   "source": [
    "#assign labels\n",
    "for sess in sessions:\n",
    "    #try:\n",
    "        exec('labels_%s = ((np.r_[is_STIM1t_%s]*1)+(np.r_[is_STIM2t_%s]*2)+(np.r_[is_STIM3t_%s]*3)+(np.r_[is_STIM4t_%s]*4))'%(sess,sess,sess,sess,sess))\n",
    "    #except:\n",
    "    #    print'nope %s'%(sess)"
   ]
  },
  {
   "cell_type": "code",
   "execution_count": 9,
   "metadata": {
    "collapsed": false
   },
   "outputs": [],
   "source": [
    "#0.5sec time bins\n",
    "delta_t0 = 0.5\n",
    "t_start0 = -5.5  # sec\n",
    "t_stop0 = 10.5  # sec\n",
    "\n",
    "for sess in sessions:\n",
    "    #try:\n",
    "        exec(\"patterns_evs_05s_%s = np.r_[[ut.extract_activity(time_ax_%s,events_%s, cycles_%s,\\\n",
    "                                       CYCLE_START_%s,i*delta_t0, (i+1)*delta_t0, offset=t_start0)\\\n",
    "                                       for i in xrange(int((t_stop0-t_start0)/delta_t0))]]\"%(sess,sess,sess,sess,sess))\n",
    "    #except:\n",
    "    #    print 'nope %s'%(sess)"
   ]
  },
  {
   "cell_type": "code",
   "execution_count": 10,
   "metadata": {
    "collapsed": false
   },
   "outputs": [],
   "source": [
    "#1sec time bins\n",
    "delta_t0 = 1\n",
    "t_start0 = -5  # sec\n",
    "t_stop0 = 11  # sec\n",
    "\n",
    "for sess in sessions:\n",
    "    #try:\n",
    "        exec(\"patterns_evs_1s_%s = np.r_[[ut.extract_activity(time_ax_%s,events_%s, cycles_%s,\\\n",
    "                                       CYCLE_START_%s,i*delta_t0, (i+1)*delta_t0, offset=t_start0)\\\n",
    "                                       for i in xrange(int((t_stop0-t_start0)/delta_t0))]]\"%(sess,sess,sess,sess,sess))\n",
    "    #except:\n",
    "    #    print 'nope %s'%(sess)"
   ]
  },
  {
   "cell_type": "code",
   "execution_count": 11,
   "metadata": {
    "collapsed": true
   },
   "outputs": [],
   "source": [
    "#1sec time bins centered on the half-second\n",
    "delta_t0 = 1\n",
    "t_start0 = -5.5  # sec\n",
    "t_stop0 = 10.5  # sec\n",
    "\n",
    "for sess in sessions:\n",
    "    #try:\n",
    "        exec(\"patterns_evs_15s_%s = np.r_[[ut.extract_activity(time_ax_%s,events_%s, cycles_%s,\\\n",
    "                                       CYCLE_START_%s,i*delta_t0, (i+1)*delta_t0, offset=t_start0)\\\n",
    "                                       for i in xrange(int((t_stop0-t_start0)/delta_t0))]]\"%(sess,sess,sess,sess,sess))\n",
    "    #except:\n",
    "    #    print 'nope %s'%(sess)"
   ]
  },
  {
   "cell_type": "code",
   "execution_count": 12,
   "metadata": {
    "collapsed": false
   },
   "outputs": [],
   "source": [
    "#2sec time bins\n",
    "delta_t0 = 2\n",
    "t_start0 = -4  # sec\n",
    "t_stop0 = 10  # sec\n",
    "\n",
    "for sess in sessions:\n",
    "    #try:\n",
    "        exec(\"patterns_evs_2s_%s = np.r_[[ut.extract_activity(time_ax_%s,events_%s, cycles_%s,\\\n",
    "                                       CYCLE_START_%s,i*delta_t0, (i+1)*delta_t0, offset=t_start0)\\\n",
    "                                       for i in xrange(int((t_stop0-t_start0)/delta_t0))]]\"%(sess,sess,sess,sess,sess))\n",
    "    #except:\n",
    "    #    print 'nope %s'%(sess)"
   ]
  },
  {
   "cell_type": "code",
   "execution_count": 13,
   "metadata": {
    "collapsed": false
   },
   "outputs": [],
   "source": [
    "#replace all nan values with 0\n",
    "for tb in ['05s','1s','15s','2s']:\n",
    "    for sess in sessions:\n",
    "        try:\n",
    "            for x in np.argwhere(np.isnan(eval(\"patterns_evs_%s_%s\"%(tb,sess)))):\n",
    "                print x,\n",
    "                exec(\"patterns_evs_%s_%s[x[0],x[1],x[2]]=0\"%(tb,sess))\n",
    "        except:\n",
    "            print 'nope',tb,sess"
   ]
  },
  {
   "cell_type": "code",
   "execution_count": 14,
   "metadata": {
    "collapsed": false
   },
   "outputs": [],
   "source": [
    "#make sure no more nan values remain (nothing should be printed when run)\n",
    "for tb in ['05s','1s','15s','2s']:\n",
    "        for sess in sessions:\n",
    "            try:\n",
    "                for x in np.argwhere(np.isnan(eval(\"patterns_evs_%s_%s\"%(tb,sess)))):\n",
    "                    print x,\n",
    "            except:\n",
    "                print 'nope',tb,sess"
   ]
  },
  {
   "cell_type": "markdown",
   "metadata": {},
   "source": [
    "CR_comparisons = 'pre_vs_post','pre_vs_post_hiatus','post_vs_post_hiatus','all' #exclude expo session, since did not cellreg this"
   ]
  },
  {
   "cell_type": "code",
   "execution_count": 15,
   "metadata": {
    "collapsed": true
   },
   "outputs": [],
   "source": [
    "CR_comparisons = [['pre','post'],['pre','post_hiatus'],['post','post_hiatus']] #exclude expo session, since did not cellreg this"
   ]
  },
  {
   "cell_type": "code",
   "execution_count": 16,
   "metadata": {
    "collapsed": true
   },
   "outputs": [],
   "source": [
    "# import cells registered across session pairs\n",
    "for cr in CR_comparisons:\n",
    "    try:\n",
    "        exec(\"cellregs_%s_vs_%s = ut.load_variable('cellregs_%s_vs_%s', folder='../notebooks/autorestore/cellregs')\"%(cr[0],cr[1],\n",
    "                                                                                                                cr[0],cr[1]))\n",
    "    except:\n",
    "        print ('%s_vs_%s failed')%cr[0],cr[1]"
   ]
  },
  {
   "cell_type": "code",
   "execution_count": 17,
   "metadata": {
    "collapsed": false
   },
   "outputs": [],
   "source": [
    "# import cells registered across all 3 sessions.\n",
    "cellregs_all = ut.load_variable('cellregs_all', folder='../notebooks/autorestore/cellregs')"
   ]
  },
  {
   "cell_type": "code",
   "execution_count": 18,
   "metadata": {
    "collapsed": false
   },
   "outputs": [],
   "source": [
    "#extract patterns using only registered cells\n",
    "for tb in ['05s','1s','15s','2s']:\n",
    "    for cr in CR_comparisons:\n",
    "            #try:\n",
    "                exec(\"patterns_evs_reg_%s_%s_%s = patterns_evs_%s_%s[:, :, cellregs_%s_vs_%s['%s']]\"%(tb,cr[0],cr[1],\n",
    "                                                                  tb,cr[0],cr[0],cr[1],cr[0]))\n",
    "                exec(\"patterns_evs_reg_%s_%s_%s = patterns_evs_%s_%s[:, :, cellregs_%s_vs_%s['%s']]\"%(tb,cr[1],cr[0],\n",
    "                                                                  tb,cr[1],cr[0],cr[1],cr[1]))\n",
    "            #except:\n",
    "            #    print 'nope %s'%tb,cr,"
   ]
  },
  {
   "cell_type": "code",
   "execution_count": 19,
   "metadata": {
    "collapsed": false
   },
   "outputs": [],
   "source": [
    "#extract patterns using only cells registered across all 3 sessions (pre, post, post_hiatus)\n",
    "for tb in ['05s','1s','15s','2s']:\n",
    "    for sess in sessions[1:]: #exclude expo session (cuz didn't register those)\n",
    "            #try:\n",
    "                exec(\"patterns_evs_reg_%s_%s_all = patterns_evs_%s_%s[:, :, cellregs_all['%s']]\"%(tb,sess,tb,sess,sess))\n",
    "                exec(\"patterns_evs_reg_%s_%s_all = patterns_evs_%s_%s[:, :, cellregs_all['%s']]\"%(tb,sess,tb,sess,sess))\n",
    "            #except:\n",
    "            #    print 'nope %s'%tb,cr,"
   ]
  },
  {
   "cell_type": "code",
   "execution_count": 20,
   "metadata": {
    "collapsed": false
   },
   "outputs": [
    {
     "name": "stdout",
     "output_type": "stream",
     "text": [
      "Could not store variable 'di'. Skipping...\n",
      "Could not store variable 'os'. Skipping...\n",
      "Could not store variable 'IPython'. Skipping...\n",
      "Could not store variable 'pt'. Skipping...\n",
      "Could not store variable 'pl'. Skipping...\n",
      "Could not store variable 'ut'. Skipping...\n",
      "Could not store variable 'pickle'. Skipping...\n",
      "Could not store variable 'ip'. Skipping...\n",
      "Could not store variable 'np'. Skipping...\n",
      "Could not store variable 'sys'. Skipping...\n"
     ]
    }
   ],
   "source": [
    "save_workspace(db);"
   ]
  },
  {
   "cell_type": "code",
   "execution_count": 21,
   "metadata": {
    "collapsed": true
   },
   "outputs": [],
   "source": []
  }
 ],
 "metadata": {
  "anaconda-cloud": {},
  "kernelspec": {
   "display_name": "Python [default]",
   "language": "python",
   "name": "python2"
  },
  "language_info": {
   "codemirror_mode": {
    "name": "ipython",
    "version": 2
   },
   "file_extension": ".py",
   "mimetype": "text/x-python",
   "name": "python",
   "nbconvert_exporter": "python",
   "pygments_lexer": "ipython2",
   "version": "2.7.12"
  }
 },
 "nbformat": 4,
 "nbformat_minor": 2
}
