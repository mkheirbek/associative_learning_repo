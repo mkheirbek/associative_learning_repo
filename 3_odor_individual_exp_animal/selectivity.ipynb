{
 "cells": [
  {
   "cell_type": "code",
   "execution_count": 1,
   "metadata": {
    "collapsed": false
   },
   "outputs": [
    {
     "data": {
      "text/html": [
       "<script>jQuery(function() {if (jQuery(\"body.notebook_app\").length == 0) { jQuery(\".input_area\").toggle(); jQuery(\".prompt\").toggle();}});</script>"
      ]
     },
     "metadata": {},
     "output_type": "display_data"
    },
    {
     "data": {
      "text/html": [
       "<button onclick=\"jQuery('.input_area').toggle(); jQuery('.prompt').toggle();\">Toggle code</button>"
      ]
     },
     "metadata": {},
     "output_type": "display_data"
    }
   ],
   "source": [
    "from IPython.display import display\n",
    "from IPython.display import HTML\n",
    "import IPython.core.display as di # Example: di.display_html('<h3>%s:</h3>' % str, raw=True)\n",
    "\n",
    "# This line will hide code by default when the notebook is exported as HTML\n",
    "di.display_html('<script>jQuery(function() {if (jQuery(\"body.notebook_app\").length == 0) { jQuery(\".input_area\").toggle(); jQuery(\".prompt\").toggle();}});</script>', raw=True)\n",
    "\n",
    "# This line will add a button to toggle visibility of code blocks, for use with the HTML export version\n",
    "di.display_html('''<button onclick=\"jQuery('.input_area').toggle(); jQuery('.prompt').toggle();\">Toggle code</button>''', raw=True)\n"
   ]
  },
  {
   "cell_type": "code",
   "execution_count": 2,
   "metadata": {
    "collapsed": true
   },
   "outputs": [],
   "source": [
    "# all modules necessary for this nb\n",
    "import os\n",
    "import sys\n",
    "import pickle\n",
    "\n",
    "import numpy as np\n",
    "import pylab as pl\n",
    "\n",
    "# setting parameters for default matplotlib plots\n",
    "%matplotlib inline"
   ]
  },
  {
   "cell_type": "code",
   "execution_count": 3,
   "metadata": {
    "collapsed": true
   },
   "outputs": [],
   "source": [
    "pl.style.use('fabiostyle')\n",
    "\n",
    "# needs to find the library of functions\n",
    "sys.path.append('../../../../../code/')  # to be replaced!\n",
    "\n",
    "import utils as ut\n",
    "import plots as pt"
   ]
  },
  {
   "cell_type": "code",
   "execution_count": 4,
   "metadata": {
    "collapsed": false
   },
   "outputs": [],
   "source": [
    "# %%javascript\n",
    "# var nb = IPython.notebook;\n",
    "# var kernel = IPython.notebook.kernel;\n",
    "# var command = \"NOTEBOOK_NAME = '\" + nb.base_url + nb.notebook_path + \"'\";\n",
    "# kernel.execute(command);"
   ]
  },
  {
   "cell_type": "code",
   "execution_count": 5,
   "metadata": {
    "collapsed": true
   },
   "outputs": [],
   "source": [
    "# NOTEBOOK_NAME = NOTEBOOK_NAME.split('/')[-1][:-6]\n",
    "NOTEBOOK_NAME = 'selectivity'"
   ]
  },
  {
   "cell_type": "code",
   "execution_count": 6,
   "metadata": {
    "collapsed": false
   },
   "outputs": [],
   "source": [
    "from pickleshare import PickleShareDB\n",
    "\n",
    "autorestore_folder = os.path.join(os.getcwd(), 'autorestore', NOTEBOOK_NAME)\n",
    "db = PickleShareDB(autorestore_folder)\n",
    "import sys\n",
    "from workspace import *\n",
    "import IPython\n",
    "ip = IPython.get_ipython()\n",
    "\n",
    "# this will restore all the saved variables. ignore the errors listed.\n",
    "load_workspace(ip, db)\n",
    "\n",
    "# use `save_worspace(db)` to save variables at the end"
   ]
  },
  {
   "cell_type": "code",
   "execution_count": 7,
   "metadata": {
    "collapsed": false
   },
   "outputs": [],
   "source": [
    "folder = './autorestore/preprocessing'\n",
    "for var in ('time_ax', 'traces', 'events', 'areas', 'cycles',\n",
    "            'is_rewardt', 'is_CSmt', 'is_sht', 'CYCLE_START', 'CS_DURATION', 'DELAY'): \n",
    "    exec('%s = ut.load_variable(\\'%s\\', folder=\\'%s\\')'%(var, var, folder))"
   ]
  },
  {
   "cell_type": "code",
   "execution_count": 8,
   "metadata": {
    "collapsed": false
   },
   "outputs": [],
   "source": [
    "trial_types = np.r_[['CSmt', 'rewardt','sht']]\n",
    "\n",
    "# CHOOSE WHAT PERIOD DEFINES THE CS WITH REF. TO CYCLE START\n",
    "cs_timeframe = (-CYCLE_START, CS_DURATION-CYCLE_START+DELAY)\n",
    "baseline_timeframe = (-CYCLE_START-4, -CYCLE_START)\n",
    "\n",
    "selectivity = {}\n",
    "for t in trial_types:\n",
    "    \n",
    "    # this one selects which trials to consider\n",
    "    which_cycles = eval('is_%s'%t)\n",
    "    \n",
    "    if not np.any(which_cycles):\n",
    "        continue\n",
    "    \n",
    "    selectivity[t] = ut.compute_selectivity(time_ax, events, cycles[which_cycles],\n",
    "                                            cs_timeframe, baseline_timeframe)"
   ]
  },
  {
   "cell_type": "code",
   "execution_count": 9,
   "metadata": {
    "collapsed": true
   },
   "outputs": [],
   "source": [
    "trial_types = np.r_[['CSmt', 'rewardt','sht']]\n",
    "\n",
    "# CHOOSE WHAT PERIOD DEFINES THE CS WITH REF. TO CYCLE START\n",
    "cs_timeframe = (-CYCLE_START+CS_DURATION, CS_DURATION-CYCLE_START+DELAY)\n",
    "baseline_timeframe = (-CYCLE_START-4, -CYCLE_START)\n",
    "\n",
    "for t in trial_types:\n",
    "    \n",
    "    # this one selects which trials to consider\n",
    "    which_cycles = eval('is_%s'%t)\n",
    "    \n",
    "    if not np.any(which_cycles):\n",
    "        continue\n",
    "    \n",
    "    selectivity[t+'_tr'] = ut.compute_selectivity(time_ax, events, cycles[which_cycles],\n",
    "                                            cs_timeframe, baseline_timeframe)"
   ]
  },
  {
   "cell_type": "code",
   "execution_count": 10,
   "metadata": {
    "collapsed": false
   },
   "outputs": [],
   "source": [
    "trial_types = np.r_[['CSmt', 'rewardt','sht']]\n",
    "\n",
    "# CHOOSE WHAT PERIOD DEFINES THE CS WITH REF. TO CYCLE START\n",
    "cs_timeframe = (CS_DURATION-CYCLE_START+DELAY, CS_DURATION-CYCLE_START+DELAY+2)\n",
    "baseline_timeframe = (-CYCLE_START-4, -CYCLE_START)\n",
    "\n",
    "for t in trial_types:\n",
    "    \n",
    "    # this one selects which trials to consider\n",
    "    which_cycles = eval('is_%s'%t)\n",
    "    \n",
    "    if not np.any(which_cycles):\n",
    "        continue\n",
    "    \n",
    "    selectivity[t+'_us'] = ut.compute_selectivity(time_ax, events, cycles[which_cycles],\n",
    "                                            cs_timeframe, baseline_timeframe)"
   ]
  },
  {
   "cell_type": "code",
   "execution_count": 11,
   "metadata": {
    "collapsed": false
   },
   "outputs": [
    {
     "name": "stdout",
     "output_type": "stream",
     "text": [
      "CSmt 0.3125\n",
      "rewardt 0.416666666667\n",
      "sht 0.270833333333\n"
     ]
    }
   ],
   "source": [
    "significance = 0.05\n",
    "\n",
    "for t in trial_types:\n",
    "    print t, np.mean([s[1]<significance for s in selectivity[t][:, 0]])"
   ]
  },
  {
   "cell_type": "code",
   "execution_count": 12,
   "metadata": {
    "collapsed": false
   },
   "outputs": [
    {
     "name": "stdout",
     "output_type": "stream",
     "text": [
      "CSmt 0.125\n",
      "rewardt 0.1875\n",
      "sht 0.0\n"
     ]
    }
   ],
   "source": [
    "significance = 0.05\n",
    "\n",
    "for t in trial_types:\n",
    "    print t, np.mean(ut.adjust_pvalues([s[1] for s in selectivity[t][:, 0]])<significance)"
   ]
  },
  {
   "cell_type": "code",
   "execution_count": 13,
   "metadata": {
    "collapsed": false
   },
   "outputs": [
    {
     "name": "stdout",
     "output_type": "stream",
     "text": [
      "mkdir: cannot create directory ‘../img’: File exists\r\n"
     ]
    }
   ],
   "source": [
    "mkdir ../img"
   ]
  },
  {
   "cell_type": "code",
   "execution_count": 14,
   "metadata": {
    "collapsed": false
   },
   "outputs": [
    {
     "data": {
      "image/png": "[encoded data removed]",
      "text/plain": [
       "<matplotlib.figure.Figure at 0x7fb3540a5b50>"
      ]
     },
     "metadata": {},
     "output_type": "display_data"
    }
   ],
   "source": [
    "significance = 0.05\n",
    "\n",
    "trial_types = ['CSmt', 'rewardt', 'sht', 'CSmt_tr', 'rewardt_tr', 'sht_tr', 'CSmt_us', 'rewardt_us', 'sht_us']\n",
    "fig, ax = pl.subplots(1, 1, figsize=(2, 1.5))\n",
    "values = [np.mean(ut.adjust_pvalues([s[1] for s in selectivity[t][:, 0]])<significance)*100 for t in trial_types]\n",
    "pt.plot_bars(values, colors=['r', 'g'], ax=ax)\n",
    "ax.set_xticks(range(len(trial_types)))\n",
    "ax.set_xticklabels(trial_types, rotation=30)\n",
    "pt.nicer_plot(ax)\n",
    "ax.set_ylabel('Proportion of Selective cells %')\n",
    "ax.set_ylim(0, 70)\n",
    "\n",
    "fig.savefig('../img/%s__bars.pdf'%NOTEBOOK_NAME, bbox_inches='tight')"
   ]
  },
  {
   "cell_type": "code",
   "execution_count": 15,
   "metadata": {
    "collapsed": false
   },
   "outputs": [
    {
     "data": {
      "text/plain": [
       "['sht',\n",
       " 'rewardt',\n",
       " 'sht_tr',\n",
       " 'CSmt_tr',\n",
       " 'CSmt_us',\n",
       " 'sht_us',\n",
       " 'CSmt',\n",
       " 'rewardt_tr',\n",
       " 'rewardt_us']"
      ]
     },
     "execution_count": 15,
     "metadata": {},
     "output_type": "execute_result"
    }
   ],
   "source": [
    "selectivity.keys()"
   ]
  },
  {
   "cell_type": "code",
   "execution_count": 16,
   "metadata": {
    "collapsed": false
   },
   "outputs": [],
   "source": [
    "for o in ['CSmt', 'rewardt','sht']:\n",
    "    exec(\"cells_%s = ut.adjust_pvalues([s[1] for s in selectivity[\\'%s\\'][:, 0]])<significance\"%(o, o))\n",
    "cells_CSmt_rwt = cells_CSmt*cells_rewardt\n",
    "cells_sht_rwt = cells_sht*cells_rewardt\n",
    "cells_CSmt_sht = cells_CSmt*cells_sht"
   ]
  },
  {
   "cell_type": "code",
   "execution_count": 17,
   "metadata": {
    "collapsed": true
   },
   "outputs": [],
   "source": [
    "tuned_CSmt = np.argwhere(cells_CSmt).flatten()\n",
    "tuned_rewardt = np.argwhere(cells_rewardt).flatten()\n",
    "tuned_sht = np.argwhere(cells_sht).flatten()"
   ]
  },
  {
   "cell_type": "code",
   "execution_count": 18,
   "metadata": {
    "collapsed": false
   },
   "outputs": [
    {
     "name": "stdout",
     "output_type": "stream",
     "text": [
      "Could not store variable 'IPython'. Skipping...\n",
      "Could not store variable 'pt'. Skipping...\n",
      "Could not store variable 'pl'. Skipping...\n",
      "Could not store variable 'di'. Skipping...\n",
      "Could not store variable 'pickle'. Skipping...\n",
      "Could not store variable 'ut'. Skipping...\n",
      "Could not store variable 'ip'. Skipping...\n",
      "Could not store variable 'np'. Skipping...\n",
      "Could not store variable 'sys'. Skipping...\n",
      "Could not store variable 'os'. Skipping...\n"
     ]
    }
   ],
   "source": [
    "save_workspace(db)"
   ]
  },
  {
   "cell_type": "code",
   "execution_count": 19,
   "metadata": {
    "collapsed": true
   },
   "outputs": [],
   "source": []
  },
  {
   "cell_type": "code",
   "execution_count": 19,
   "metadata": {
    "collapsed": true
   },
   "outputs": [],
   "source": []
  }
 ],
 "metadata": {
  "anaconda-cloud": {},
  "kernelspec": {
   "display_name": "Python [default]",
   "language": "python",
   "name": "python2"
  },
  "language_info": {
   "codemirror_mode": {
    "name": "ipython",
    "version": 2
   },
   "file_extension": ".py",
   "mimetype": "text/x-python",
   "name": "python",
   "nbconvert_exporter": "python",
   "pygments_lexer": "ipython2",
   "version": "2.7.12"
  }
 },
 "nbformat": 4,
 "nbformat_minor": 2
}
