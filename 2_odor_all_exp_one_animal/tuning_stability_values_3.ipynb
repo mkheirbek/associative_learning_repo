{
 "cells": [
  {
   "cell_type": "code",
   "execution_count": 24,
   "metadata": {
    "collapsed": false
   },
   "outputs": [
    {
     "data": {
      "text/html": [
       "<script>jQuery(function() {if (jQuery(\"body.notebook_app\").length == 0) { jQuery(\".input_area\").toggle(); jQuery(\".prompt\").toggle();}});</script>"
      ]
     },
     "metadata": {},
     "output_type": "display_data"
    },
    {
     "data": {
      "text/html": [
       "<button onclick=\"jQuery('.input_area').toggle(); jQuery('.prompt').toggle();\">Toggle code</button>"
      ]
     },
     "metadata": {},
     "output_type": "display_data"
    }
   ],
   "source": [
    "from IPython.display import display\n",
    "from IPython.display import HTML\n",
    "import IPython.core.display as di # Example: di.display_html('<h3>%s:</h3>' % str, raw=True)\n",
    "\n",
    "# This line will hide code by default when the notebook is exported as HTML\n",
    "di.display_html('<script>jQuery(function() {if (jQuery(\"body.notebook_app\").length == 0) { jQuery(\".input_area\").toggle(); jQuery(\".prompt\").toggle();}});</script>', raw=True)\n",
    "\n",
    "# This line will add a button to toggle visibility of code blocks, for use with the HTML export version\n",
    "di.display_html('''<button onclick=\"jQuery('.input_area').toggle(); jQuery('.prompt').toggle();\">Toggle code</button>''', raw=True)\n"
   ]
  },
  {
   "cell_type": "code",
   "execution_count": 25,
   "metadata": {
    "collapsed": true
   },
   "outputs": [],
   "source": [
    "# all modules necessary for this nb\n",
    "import os\n",
    "import sys\n",
    "import pickle\n",
    "\n",
    "import numpy as np\n",
    "import pylab as pl\n",
    "\n",
    "# setting parameters for default matplotlib plots\n",
    "%matplotlib inline"
   ]
  },
  {
   "cell_type": "code",
   "execution_count": 26,
   "metadata": {
    "collapsed": false
   },
   "outputs": [],
   "source": [
    "pl.style.use('fabiostyle')\n",
    "# !mkdir ../img\n",
    "\n",
    "# needs to find the library of functions\n",
    "sys.path.append('../../../code/')  # to be replaced!\n",
    "\n",
    "import utils as ut\n",
    "import plots as pt"
   ]
  },
  {
   "cell_type": "code",
   "execution_count": 27,
   "metadata": {
    "collapsed": true
   },
   "outputs": [],
   "source": [
    "NOTEBOOK_NAME = 'tuning_stability_values'"
   ]
  },
  {
   "cell_type": "code",
   "execution_count": 28,
   "metadata": {
    "collapsed": false
   },
   "outputs": [],
   "source": [
    "from pickleshare import PickleShareDB\n",
    "\n",
    "autorestore_folder = os.path.join(os.getcwd(), 'autorestore', NOTEBOOK_NAME)\n",
    "db = PickleShareDB(autorestore_folder)\n",
    "import sys\n",
    "from workspace import *\n",
    "import IPython\n",
    "ip = IPython.get_ipython()\n",
    "\n",
    "# this will restore all the saved variables. ignore the errors listed.\n",
    "# load_workspace(ip, db)\n",
    "\n",
    "# use `save_worspace(db)` to save variables at the end"
   ]
  },
  {
   "cell_type": "code",
   "execution_count": 37,
   "metadata": {
    "collapsed": false
   },
   "outputs": [],
   "source": [
    "vars_pre = {}\n",
    "folder = '../pre/notebooks/autorestore/preprocessing/'\n",
    "for var in ('time_ax', 'events', 'cycles', 'licks',\n",
    "             'is_CSmt', 'is_rewardt','is_sht',\n",
    "             'odor_CSm_ons', 'odor_rw_ons', 'odor_CSm_offs', 'odor_rw_offs',\n",
    "             'CYCLE_START', 'DELAY', 'CS_DURATION'): \n",
    "     vars_pre.update({var:ut.load_variable(var, folder=folder)})\n",
    "\n",
    "vars_post = {}\n",
    "folder = '../post/notebooks/autorestore/preprocessing/'\n",
    "for var in ('time_ax', 'events', 'cycles', 'licks',\n",
    "             'is_CSmt', 'is_rewardt','is_sht',\n",
    "             'odor_CSm_ons', 'odor_rw_ons', 'odor_CSm_offs', 'odor_rw_offs',\n",
    "             'CYCLE_START', 'DELAY', 'CS_DURATION'): \n",
    "     vars_post.update({var:ut.load_variable(var, folder=folder)})\n",
    "    \n",
    "vars_ext1 = {}\n",
    "folder = '../ext1/notebooks/autorestore/preprocessing/'\n",
    "for var in ('time_ax', 'events', 'cycles', 'licks',\n",
    "             'is_CSmt', 'is_rewardt','is_sht',\n",
    "             'odor_CSm_ons', 'odor_rw_ons', 'odor_CSm_offs', 'odor_rw_offs',\n",
    "             'CYCLE_START', 'DELAY', 'CS_DURATION'): \n",
    "     vars_ext1.update({var:ut.load_variable(var, folder=folder)})\n",
    "    \n",
    "vars_ext2 = {}\n",
    "folder = '../ext2/notebooks/autorestore/preprocessing/'\n",
    "for var in ('time_ax', 'events', 'cycles', 'licks',\n",
    "             'is_CSmt', 'is_rewardt','is_sht',\n",
    "             'odor_CSm_ons', 'odor_rw_ons', 'odor_CSm_offs', 'odor_rw_offs',\n",
    "             'CYCLE_START', 'DELAY', 'CS_DURATION'): \n",
    "     vars_ext2.update({var:ut.load_variable(var, folder=folder)})\n",
    "\n",
    "vars_renew = {}\n",
    "folder = '../renew/notebooks/autorestore/preprocessing/'\n",
    "for var in ('time_ax', 'events', 'cycles', 'licks',\n",
    "             'is_CSmt', 'is_rewardt','is_sht',\n",
    "             'odor_CSm_ons', 'odor_rw_ons', 'odor_CSm_offs', 'odor_rw_offs',\n",
    "             'CYCLE_START', 'DELAY', 'CS_DURATION'): \n",
    "     vars_renew.update({var:ut.load_variable(var, folder=folder)})"
   ]
  },
  {
   "cell_type": "code",
   "execution_count": 38,
   "metadata": {
    "collapsed": true
   },
   "outputs": [],
   "source": [
    "pvalue = 0.05"
   ]
  },
  {
   "cell_type": "code",
   "execution_count": 39,
   "metadata": {
    "collapsed": true
   },
   "outputs": [],
   "source": [
    "sessions = 'pre', 'post', 'ext1', 'ext2', 'renew'"
   ]
  },
  {
   "cell_type": "code",
   "execution_count": 42,
   "metadata": {
    "collapsed": false
   },
   "outputs": [],
   "source": [
    "for sess in sessions:\n",
    "    for trial in \"rewardt_tr\", \"CSmt_tr\",\"rewardt_us\", \"CSmt_us\", \"sht_tr\",\"sht_us\",:\n",
    "        try:\n",
    "            exec(\"selectivity_%s = ut.load_variable('selectivity', folder='../%s/notebooks/autorestore/selectivity/')\"%(sess, sess))\n",
    "            exec(\"pvalues_%s%s = ut.adjust_pvalues([s[0][-1] for s in selectivity_%s['%s']])\"%(sess, trial, sess, trial))\n",
    "            exec(\"d_up = np.r_[[s[1]>0 for s in selectivity_%s['%s']]]\"%(sess, trial))\n",
    "            exec(\"d_dn = np.r_[[s[1]<0 for s in selectivity_%s['%s']]]\"%(sess, trial))\n",
    "            exec(\"cells_%s%s_up = (pvalues_%s%s < pvalue) * d_up\"%(sess, trial, sess, trial))\n",
    "            exec(\"cells_%s%s_dn = (pvalues_%s%s < pvalue) * d_dn\"%(sess, trial, sess, trial))\n",
    "        except:\n",
    "            print \"No session:\", sess"
   ]
  },
  {
   "cell_type": "code",
   "execution_count": 43,
   "metadata": {
    "collapsed": false
   },
   "outputs": [
    {
     "name": "stdout",
     "output_type": "stream",
     "text": [
      "Could not store variable 'di'. Skipping...\n",
      "Could not store variable 'pickle'. Skipping...\n",
      "Could not store variable 'os'. Skipping...\n",
      "Could not store variable 'IPython'. Skipping...\n",
      "Could not store variable 'pt'. Skipping...\n",
      "Could not store variable 'pl'. Skipping...\n",
      "Could not store variable 'ut'. Skipping...\n",
      "Could not store variable 'ip'. Skipping...\n",
      "Could not store variable 'np'. Skipping...\n",
      "Could not store variable 'sys'. Skipping...\n"
     ]
    }
   ],
   "source": [
    "save_workspace(db)"
   ]
  },
  {
   "cell_type": "code",
   "execution_count": null,
   "metadata": {
    "collapsed": true
   },
   "outputs": [],
   "source": []
  },
  {
   "cell_type": "code",
   "execution_count": null,
   "metadata": {
    "collapsed": true
   },
   "outputs": [],
   "source": []
  }
 ],
 "metadata": {
  "anaconda-cloud": {},
  "kernelspec": {
   "display_name": "Python [default]",
   "language": "python",
   "name": "python2"
  },
  "language_info": {
   "codemirror_mode": {
    "name": "ipython",
    "version": 2
   },
   "file_extension": ".py",
   "mimetype": "text/x-python",
   "name": "python",
   "nbconvert_exporter": "python",
   "pygments_lexer": "ipython2",
   "version": "2.7.12"
  }
 },
 "nbformat": 4,
 "nbformat_minor": 2
}
