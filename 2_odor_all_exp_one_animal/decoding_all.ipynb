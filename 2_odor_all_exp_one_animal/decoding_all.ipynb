{
 "cells": [
  {
   "cell_type": "code",
   "execution_count": 31,
   "metadata": {
    "collapsed": false
   },
   "outputs": [
    {
     "data": {
      "text/html": [
       "<script>jQuery(function() {if (jQuery(\"body.notebook_app\").length == 0) { jQuery(\".input_area\").toggle(); jQuery(\".prompt\").toggle();}});</script>"
      ]
     },
     "metadata": {},
     "output_type": "display_data"
    },
    {
     "data": {
      "text/html": [
       "<button onclick=\"jQuery('.input_area').toggle(); jQuery('.prompt').toggle();\">Toggle code</button>"
      ]
     },
     "metadata": {},
     "output_type": "display_data"
    }
   ],
   "source": [
    "from IPython.display import display\n",
    "from IPython.display import HTML\n",
    "import IPython.core.display as di # Example: di.display_html('<h3>%s:</h3>' % str, raw=True)\n",
    "\n",
    "# This line will hide code by default when the notebook is exported as HTML\n",
    "di.display_html('<script>jQuery(function() {if (jQuery(\"body.notebook_app\").length == 0) { jQuery(\".input_area\").toggle(); jQuery(\".prompt\").toggle();}});</script>', raw=True)\n",
    "\n",
    "# This line will add a button to toggle visibility of code blocks, for use with the HTML export version\n",
    "di.display_html('''<button onclick=\"jQuery('.input_area').toggle(); jQuery('.prompt').toggle();\">Toggle code</button>''', raw=True)\n"
   ]
  },
  {
   "cell_type": "code",
   "execution_count": 32,
   "metadata": {
    "collapsed": true
   },
   "outputs": [],
   "source": [
    "# all modules necessary for this nb\n",
    "import os\n",
    "import sys\n",
    "import pickle\n",
    "\n",
    "import numpy as np\n",
    "import pylab as pl\n",
    "\n",
    "# setting parameters for default matplotlib plots\n",
    "%matplotlib inline"
   ]
  },
  {
   "cell_type": "code",
   "execution_count": 33,
   "metadata": {
    "collapsed": true
   },
   "outputs": [],
   "source": [
    "pl.style.use('fabiostyle')\n",
    "# needs to find the library of functions\n",
    "sys.path.append('../../../code/')  # to be replaced!\n",
    "\n",
    "import utils as ut\n",
    "import plots as pt"
   ]
  },
  {
   "cell_type": "code",
   "execution_count": 34,
   "metadata": {
    "collapsed": true
   },
   "outputs": [],
   "source": [
    "NOTEBOOK_NAME = 'decoding_all'"
   ]
  },
  {
   "cell_type": "code",
   "execution_count": 35,
   "metadata": {
    "collapsed": false
   },
   "outputs": [
    {
     "name": "stdout",
     "output_type": "stream",
     "text": [
      "Unable to restore variable 'f', ignoring (use %store -d to forget!)\n",
      "('The error was:', <type 'exceptions.KeyError'>)\n"
     ]
    },
    {
     "name": "stderr",
     "output_type": "stream",
     "text": [
      "Exception KeyError: KeyError(0,) in 'h5py._objects.ObjectID.__dealloc__' ignored\n"
     ]
    }
   ],
   "source": [
    "from pickleshare import PickleShareDB\n",
    "\n",
    "autorestore_folder = os.path.join(os.getcwd(), 'autorestore', NOTEBOOK_NAME)\n",
    "db = PickleShareDB(autorestore_folder)\n",
    "import sys\n",
    "from workspace import *\n",
    "import IPython\n",
    "ip = IPython.get_ipython()\n",
    "\n",
    "# this will restore all the saved variables. ignore the errors listed.\n",
    "load_workspace(ip, db)\n",
    "\n",
    "# use `save_worspace(db)` to save variables at the end"
   ]
  },
  {
   "cell_type": "code",
   "execution_count": 36,
   "metadata": {
    "collapsed": true
   },
   "outputs": [],
   "source": [
    "sessions = 'expo','pre','d2','post','ext1','ext2','renew'"
   ]
  },
  {
   "cell_type": "code",
   "execution_count": 37,
   "metadata": {
    "collapsed": false
   },
   "outputs": [],
   "source": [
    "vars_expo = {}\n",
    "folder = '../2_odor_expo/notebooks/autorestore/preprocessing'\n",
    "for var in ('time_ax', 'events', 'cycles', 'is_CSmt', 'is_rewardt',\n",
    "            'CYCLE_START', 'CS_DURATION', 'DELAY'):\n",
    "    vars_expo.update({var:ut.load_variable(var, folder=folder)})\n",
    "    \n",
    "for sess in sessions[1:]:\n",
    "    try:\n",
    "        exec(\"vars_%s = {}\"%sess)\n",
    "        folder = '../%s/notebooks/autorestore/preprocessing'%sess\n",
    "        for var in ('time_ax', 'events', 'cycles', 'is_CSmt', 'is_rewardt',\n",
    "                    'CYCLE_START', 'CS_DURATION', 'DELAY'):\n",
    "            exec(\"vars_%s.update({var:ut.load_variable(var, folder=folder)})\"%sess)\n",
    "    except:\n",
    "        print 'nope %s'%sess"
   ]
  },
  {
   "cell_type": "code",
   "execution_count": 38,
   "metadata": {
    "collapsed": true
   },
   "outputs": [],
   "source": [
    "import h5py"
   ]
  },
  {
   "cell_type": "code",
   "execution_count": 39,
   "metadata": {
    "collapsed": false
   },
   "outputs": [],
   "source": [
    "try:\n",
    "    filepath = '../data/cellreg_preVSpost.mat'\n",
    "    arrays = {}\n",
    "    f = h5py.File(filepath)\n",
    "    cellreg_map = np.array(f['cell_registered_struct']['cell_to_index_map'])-1\n",
    "    keep = np.prod(cellreg_map, 0)>0\n",
    "    cellregs_preVSpost = dict(zip(['pre_post', 'post_pre'], cellreg_map.T[keep].T.astype(int)))\n",
    "except:\n",
    "    print 'not there'"
   ]
  },
  {
   "cell_type": "code",
   "execution_count": 40,
   "metadata": {
    "collapsed": false
   },
   "outputs": [
    {
     "data": {
      "text/plain": [
       "array([[  0.,   1.,   2.,   3.,   4.,   5.,   6.,   7.,   8.,   9.,  10.,\n",
       "         11.,  12.,  13.,  14.,  15.,  16.,  17.,  18.,  19.,  20.,  21.,\n",
       "         22.,  23.,  24.,  25.,  26.,  27.,  28.,  29.,  30.,  31.,  32.,\n",
       "         33.,  34.,  35.,  36.,  37.,  38.,  39.,  40.,  41.,  42.,  43.,\n",
       "         44.,  45.,  46.,  47.,  48.,  49.,  50.,  51.,  52.,  -1.,  -1.,\n",
       "         -1.,  -1.,  -1.,  -1.,  -1.,  -1.,  -1.,  -1.,  -1.,  -1.,  -1.,\n",
       "         -1.,  -1.,  -1.,  -1.,  -1.,  -1.,  -1.,  -1.,  -1.,  -1.,  -1.,\n",
       "         -1.,  -1.,  -1.,  -1.,  -1.,  -1.,  -1.,  -1.],\n",
       "       [  7.,   1.,  13.,   2.,  -1.,  -1.,   0.,  -1.,  -1.,  -1.,  -1.,\n",
       "         39.,  -1.,  30.,  56.,  29.,  -1.,  15.,  22.,  16.,  -1.,  32.,\n",
       "         21.,  -1.,  -1.,  -1.,  -1.,  -1.,  -1.,  -1.,  -1.,  26.,  24.,\n",
       "         55.,  27.,  17.,  -1.,  -1.,  14.,  -1.,  48.,  35.,  52.,  -1.,\n",
       "         19.,  59.,  58.,  49.,  -1.,  -1.,  57.,  -1.,  -1.,   3.,   4.,\n",
       "          5.,   6.,   8.,   9.,  10.,  11.,  12.,  18.,  20.,  23.,  25.,\n",
       "         28.,  31.,  33.,  34.,  36.,  37.,  38.,  40.,  41.,  42.,  43.,\n",
       "         44.,  45.,  46.,  47.,  50.,  51.,  53.,  54.]])"
      ]
     },
     "execution_count": 40,
     "metadata": {},
     "output_type": "execute_result"
    }
   ],
   "source": [
    "cellreg_map"
   ]
  },
  {
   "cell_type": "code",
   "execution_count": 10,
   "metadata": {
    "collapsed": false
   },
   "outputs": [],
   "source": [
    "try:\n",
    "    filepath = '../data/cellreg_preVSd2.mat'\n",
    "    arrays = {}\n",
    "    f = h5py.File(filepath)\n",
    "    cellreg_map = np.array(f['cell_registered_struct']['cell_to_index_map'])-1\n",
    "    keep = np.prod(cellreg_map, 0)>0\n",
    "    cellregs_preVSd2 = dict(zip(['pre_d2', 'd2_pre'], cellreg_map.T[keep].T.astype(int)))\n",
    "except:\n",
    "    print 'not there'"
   ]
  },
  {
   "cell_type": "code",
   "execution_count": 11,
   "metadata": {
    "collapsed": true
   },
   "outputs": [],
   "source": [
    "try:\n",
    "    filepath = '../data/cellreg_preVSext1.mat'\n",
    "    arrays = {}\n",
    "    f = h5py.File(filepath)\n",
    "    cellreg_map = np.array(f['cell_registered_struct']['cell_to_index_map'])-1\n",
    "    keep = np.prod(cellreg_map, 0)>0\n",
    "    cellregs_preVSext1 = dict(zip(['pre_ext1', 'ext1_pre'], cellreg_map.T[keep].T.astype(int)))\n",
    "except:\n",
    "    print 'not there'"
   ]
  },
  {
   "cell_type": "code",
   "execution_count": 12,
   "metadata": {
    "collapsed": true
   },
   "outputs": [],
   "source": [
    "try:\n",
    "    filepath = '../data/cellreg_preVSext2.mat'\n",
    "    arrays = {}\n",
    "    f = h5py.File(filepath)\n",
    "    cellreg_map = np.array(f['cell_registered_struct']['cell_to_index_map'])-1\n",
    "    keep = np.prod(cellreg_map, 0)>0\n",
    "    cellregs_preVSext2 = dict(zip(['pre_ext2', 'ext2_pre'], cellreg_map.T[keep].T.astype(int)))\n",
    "except:\n",
    "    print 'not there'"
   ]
  },
  {
   "cell_type": "code",
   "execution_count": 13,
   "metadata": {
    "collapsed": true
   },
   "outputs": [],
   "source": [
    "try:\n",
    "    filepath = '../data/cellreg_preVSrenew.mat'\n",
    "    arrays = {}\n",
    "    f = h5py.File(filepath)\n",
    "    cellreg_map = np.array(f['cell_registered_struct']['cell_to_index_map'])-1\n",
    "    keep = np.prod(cellreg_map, 0)>0\n",
    "    cellregs_preVSrenew = dict(zip(['pre_renew', 'renew_pre'], cellreg_map.T[keep].T.astype(int)))\n",
    "except:\n",
    "    print 'not there'"
   ]
  },
  {
   "cell_type": "code",
   "execution_count": 14,
   "metadata": {
    "collapsed": false
   },
   "outputs": [],
   "source": [
    "try:\n",
    "    filepath = '../data/cellreg_d2VSpost.mat'\n",
    "    arrays = {}\n",
    "    f = h5py.File(filepath)\n",
    "    cellreg_map = np.array(f['cell_registered_struct']['cell_to_index_map'])-1\n",
    "    keep = np.prod(cellreg_map, 0)>0\n",
    "    cellregs_d2VSpost = dict(zip(['d2_post', 'post_d2'], cellreg_map.T[keep].T.astype(int)))\n",
    "except:\n",
    "    print 'not there'"
   ]
  },
  {
   "cell_type": "code",
   "execution_count": 15,
   "metadata": {
    "collapsed": false
   },
   "outputs": [],
   "source": [
    "try:\n",
    "    filepath = '../data/cellreg_d2VSext1.mat'\n",
    "    arrays = {}\n",
    "    f = h5py.File(filepath)\n",
    "    cellreg_map = np.array(f['cell_registered_struct']['cell_to_index_map'])-1\n",
    "    keep = np.prod(cellreg_map, 0)>0\n",
    "    cellregs_d2VSext1 = dict(zip(['d2_ext1', 'ext1_d2'], cellreg_map.T[keep].T.astype(int)))\n",
    "except:\n",
    "    print 'not there'"
   ]
  },
  {
   "cell_type": "code",
   "execution_count": 16,
   "metadata": {
    "collapsed": false
   },
   "outputs": [],
   "source": [
    "try:\n",
    "    filepath = '../data/cellreg_d2VSext2.mat'\n",
    "    arrays = {}\n",
    "    f = h5py.File(filepath)\n",
    "    cellreg_map = np.array(f['cell_registered_struct']['cell_to_index_map'])-1\n",
    "    keep = np.prod(cellreg_map, 0)>0\n",
    "    cellregs_d2VSext2 = dict(zip(['d2_ext2', 'ext2_d2'], cellreg_map.T[keep].T.astype(int)))\n",
    "except:\n",
    "    print 'not there'"
   ]
  },
  {
   "cell_type": "code",
   "execution_count": 17,
   "metadata": {
    "collapsed": false
   },
   "outputs": [],
   "source": [
    "try:\n",
    "    filepath = '../data/cellreg_d2VSrenew.mat'\n",
    "    arrays = {}\n",
    "    f = h5py.File(filepath)\n",
    "    cellreg_map = np.array(f['cell_registered_struct']['cell_to_index_map'])-1\n",
    "    keep = np.prod(cellreg_map, 0)>0\n",
    "    cellregs_d2VSrenew = dict(zip(['d2_renew', 'renew_d2'], cellreg_map.T[keep].T.astype(int)))\n",
    "except:\n",
    "    print 'not there'"
   ]
  },
  {
   "cell_type": "code",
   "execution_count": 18,
   "metadata": {
    "collapsed": true
   },
   "outputs": [],
   "source": [
    "try:\n",
    "    filepath = '../data/cellreg_postVSext1.mat'\n",
    "    arrays = {}\n",
    "    f = h5py.File(filepath)\n",
    "    cellreg_map = np.array(f['cell_registered_struct']['cell_to_index_map'])-1\n",
    "    keep = np.prod(cellreg_map, 0)>0\n",
    "    cellregs_postVSext1 = dict(zip(['post_ext1', 'ext1_post'], cellreg_map.T[keep].T.astype(int)))\n",
    "except:\n",
    "    print 'not there'"
   ]
  },
  {
   "cell_type": "code",
   "execution_count": 19,
   "metadata": {
    "collapsed": true
   },
   "outputs": [],
   "source": [
    "try:\n",
    "    filepath = '../data/cellreg_postVSext2.mat'\n",
    "    arrays = {}\n",
    "    f = h5py.File(filepath)\n",
    "    cellreg_map = np.array(f['cell_registered_struct']['cell_to_index_map'])-1\n",
    "    keep = np.prod(cellreg_map, 0)>0\n",
    "    cellregs_postVSext2 = dict(zip(['post_ext2', 'ext2_post'], cellreg_map.T[keep].T.astype(int)))\n",
    "except:\n",
    "    print 'not there'"
   ]
  },
  {
   "cell_type": "code",
   "execution_count": 20,
   "metadata": {
    "collapsed": true
   },
   "outputs": [],
   "source": [
    "try:\n",
    "    filepath = '../data/cellreg_postVSrenew.mat'\n",
    "    arrays = {}\n",
    "    f = h5py.File(filepath)\n",
    "    cellreg_map = np.array(f['cell_registered_struct']['cell_to_index_map'])-1\n",
    "    keep = np.prod(cellreg_map, 0)>0\n",
    "    cellregs_postVSrenew = dict(zip(['post_renew', 'renew_post'], cellreg_map.T[keep].T.astype(int)))\n",
    "except:\n",
    "    print 'not there'"
   ]
  },
  {
   "cell_type": "code",
   "execution_count": 21,
   "metadata": {
    "collapsed": true
   },
   "outputs": [],
   "source": [
    "try:\n",
    "    filepath = '../data/cellreg_ext1VSext2.mat'\n",
    "    arrays = {}\n",
    "    f = h5py.File(filepath)\n",
    "    cellreg_map = np.array(f['cell_registered_struct']['cell_to_index_map'])-1\n",
    "    keep = np.prod(cellreg_map, 0)>0\n",
    "    cellregs_ext1VSext2 = dict(zip(['ext1_ext2', 'ext2_ext1'], cellreg_map.T[keep].T.astype(int)))\n",
    "except:\n",
    "    print 'not there'"
   ]
  },
  {
   "cell_type": "code",
   "execution_count": 22,
   "metadata": {
    "collapsed": true
   },
   "outputs": [],
   "source": [
    "try:\n",
    "    filepath = '../data/cellreg_ext1VSrenew.mat'\n",
    "    arrays = {}\n",
    "    f = h5py.File(filepath)\n",
    "    cellreg_map = np.array(f['cell_registered_struct']['cell_to_index_map'])-1\n",
    "    keep = np.prod(cellreg_map, 0)>0\n",
    "    cellregs_ext1VSrenew = dict(zip(['ext1_renew', 'renew_ext1'], cellreg_map.T[keep].T.astype(int)))\n",
    "except:\n",
    "    print 'not there'"
   ]
  },
  {
   "cell_type": "code",
   "execution_count": 23,
   "metadata": {
    "collapsed": true
   },
   "outputs": [],
   "source": [
    "try:\n",
    "    filepath = '../data/cellreg_ext2VSrenew.mat'\n",
    "    arrays = {}\n",
    "    f = h5py.File(filepath)\n",
    "    cellreg_map = np.array(f['cell_registered_struct']['cell_to_index_map'])-1\n",
    "    keep = np.prod(cellreg_map, 0)>0\n",
    "    cellregs_ext2VSrenew = dict(zip(['ext2_renew', 'renew_ext2'], cellreg_map.T[keep].T.astype(int)))\n",
    "except:\n",
    "    print 'not there'"
   ]
  },
  {
   "cell_type": "code",
   "execution_count": 24,
   "metadata": {
    "collapsed": false
   },
   "outputs": [],
   "source": [
    "patterns_evs_expo = ut.extract_patterns(vars_expo['time_ax'], vars_expo['events'], vars_expo['cycles'],\n",
    "                                       vars_expo['CYCLE_START'], vars_expo['CS_DURATION'], vars_expo['CS_DURATION'] + vars_expo['DELAY'])\n",
    "patterns_evs_pre = ut.extract_patterns(vars_pre['time_ax'], vars_pre['events'], vars_pre['cycles'],\n",
    "                                       vars_pre['CYCLE_START'], vars_pre['CS_DURATION'], vars_pre['CS_DURATION'] + vars_pre['DELAY'])\n",
    "patterns_evs_d2 = ut.extract_patterns(vars_d2['time_ax'], vars_d2['events'], vars_d2['cycles'],\n",
    "                                       vars_d2['CYCLE_START'], vars_d2['CS_DURATION'], vars_d2['CS_DURATION'] + vars_d2['DELAY'])\n",
    "patterns_evs_post = ut.extract_patterns(vars_post['time_ax'], vars_post['events'], vars_post['cycles'],\n",
    "                                       vars_post['CYCLE_START'], vars_post['CS_DURATION'], vars_post['CS_DURATION'] + vars_post['DELAY'])\n",
    "patterns_evs_ext1 = ut.extract_patterns(vars_ext1['time_ax'], vars_ext1['events'], vars_ext1['cycles'],\n",
    "                                       vars_ext1['CYCLE_START'], vars_ext1['CS_DURATION'], vars_ext1['CS_DURATION'] + vars_ext1['DELAY'])\n",
    "patterns_evs_ext2 = ut.extract_patterns(vars_ext2['time_ax'], vars_ext2['events'], vars_ext2['cycles'],\n",
    "                                       vars_ext2['CYCLE_START'], vars_ext2['CS_DURATION'], vars_ext2['CS_DURATION'] + vars_ext2['DELAY'])\n",
    "patterns_evs_renew = ut.extract_patterns(vars_renew['time_ax'], vars_renew['events'], vars_renew['cycles'],\n",
    "                                       vars_renew['CYCLE_START'], vars_renew['CS_DURATION'], vars_renew['CS_DURATION'] + vars_renew['DELAY'])\n",
    "\n",
    "patterns_CS_evs_expo = ut.extract_patterns(vars_expo['time_ax'], vars_expo['events'], vars_expo['cycles'],\n",
    "                                       vars_expo['CYCLE_START'], 0, vars_expo['CS_DURATION'])\n",
    "patterns_CS_evs_pre = ut.extract_patterns(vars_pre['time_ax'], vars_pre['events'], vars_pre['cycles'],\n",
    "                                       vars_pre['CYCLE_START'], 0, vars_pre['CS_DURATION'])\n",
    "patterns_CS_evs_d2 = ut.extract_patterns(vars_d2['time_ax'], vars_d2['events'], vars_d2['cycles'],\n",
    "                                       vars_d2['CYCLE_START'], 0, vars_d2['CS_DURATION'])\n",
    "patterns_CS_evs_post = ut.extract_patterns(vars_post['time_ax'], vars_post['events'], vars_post['cycles'],\n",
    "                                       vars_post['CYCLE_START'], 0, vars_post['CS_DURATION'])\n",
    "patterns_CS_evs_ext1 = ut.extract_patterns(vars_ext1['time_ax'], vars_ext1['events'], vars_ext1['cycles'],\n",
    "                                       vars_ext1['CYCLE_START'], 0, vars_ext1['CS_DURATION'])\n",
    "patterns_CS_evs_ext2 = ut.extract_patterns(vars_ext2['time_ax'], vars_ext2['events'], vars_ext2['cycles'],\n",
    "                                       vars_ext2['CYCLE_START'], 0, vars_ext2['CS_DURATION'])\n",
    "patterns_CS_evs_renew = ut.extract_patterns(vars_renew['time_ax'], vars_renew['events'], vars_renew['cycles'],\n",
    "                                       vars_renew['CYCLE_START'], 0, vars_renew['CS_DURATION'])\n",
    "\n",
    "labels_expo = (np.r_[vars_expo['is_rewardt']] * 1)\n",
    "labels_pre = (np.r_[vars_pre['is_rewardt']] * 1)\n",
    "labels_d2 = (np.r_[vars_d2['is_rewardt']] * 1)\n",
    "labels_post = (np.r_[vars_post['is_rewardt']] * 1)\n",
    "labels_ext1 = (np.r_[vars_ext1['is_rewardt']] * 1)\n",
    "labels_ext2 = (np.r_[vars_ext2['is_rewardt']] * 1)\n",
    "labels_renew = (np.r_[vars_renew['is_rewardt']] * 1)"
   ]
  },
  {
   "cell_type": "code",
   "execution_count": 25,
   "metadata": {
    "collapsed": false
   },
   "outputs": [],
   "source": [
    "#extract patterns using only registered cells\n",
    "try:\n",
    "    patterns_evs_pre_post = patterns_evs_pre[:, cellregs_preVSpost['pre_post']]\n",
    "    patterns_evs_post_pre = patterns_evs_post[:, cellregs_preVSpost['post_pre']]\n",
    "    patterns_CS_evs_pre_post = patterns_CS_evs_pre[:, cellregs_preVSpost['pre_post']]\n",
    "    patterns_CS_evs_post_pre = patterns_CS_evs_post[:, cellregs_preVSpost['post_pre']]\n",
    "except:\n",
    "    print 'nope1'\n",
    "try:\n",
    "    patterns_evs_pre_d2 = patterns_evs_pre[:, cellregs_preVSd2['pre_d2']]\n",
    "    patterns_evs_d2_pre = patterns_evs_d2[:, cellregs_preVSd2['d2_pre']]\n",
    "    patterns_CS_evs_pre_d2 = patterns_CS_evs_pre[:, cellregs_preVSd2['pre_d2']]\n",
    "    patterns_CS_evs_d2_pre = patterns_CS_evs_d2[:, cellregs_preVSd2['d2_pre']]\n",
    "except:\n",
    "    print 'nope2'\n",
    "try:\n",
    "    patterns_evs_d2_post = patterns_evs_d2[:, cellregs_d2VSpost['d2_post']]\n",
    "    patterns_evs_post_d2 = patterns_evs_post[:, cellregs_d2VSpost['post_d2']]\n",
    "    patterns_CS_evs_d2_post = patterns_CS_evs_d2[:, cellregs_d2VSpost['d2_post']]\n",
    "    patterns_CS_evs_post_d2 = patterns_CS_evs_post[:, cellregs_d2VSpost['post_d2']]\n",
    "except:\n",
    "    print 'nope3'\n",
    "try:\n",
    "    patterns_evs_d2_ext1 = patterns_evs_d2[:, cellregs_d2VSext1['d2_ext1']]\n",
    "    patterns_evs_ext1_d2 = patterns_evs_ext1[:, cellregs_d2VSext1['ext1_d2']]\n",
    "    patterns_CS_evs_d2_ext1 = patterns_CS_evs_d2[:, cellregs_d2VSext1['d2_ext1']]\n",
    "    patterns_CS_evs_ext1_d2 = patterns_CS_evs_ext1[:, cellregs_d2VSext1['ext1_d2']]\n",
    "except:\n",
    "    print 'nope4'\n",
    "try:\n",
    "    patterns_evs_d2_ext2 = patterns_evs_d2[:, cellregs_d2VSext2['d2_ext2']]\n",
    "    patterns_evs_ext2_d2 = patterns_evs_ext2[:, cellregs_d2VSext2['ext2_d2']]\n",
    "    patterns_CS_evs_d2_ext2 = patterns_CS_evs_d2[:, cellregs_d2VSext2['d2_ext2']]\n",
    "    patterns_CS_evs_ext2_d2 = patterns_CS_evs_ext2[:, cellregs_d2VSext2['ext2_d2']]\n",
    "except:\n",
    "    print 'nope5'\n",
    "try:\n",
    "    patterns_evs_d2_renew = patterns_evs_d2[:, cellregs_d2VSrenew['d2_renew']]\n",
    "    patterns_evs_renew_d2 = patterns_evs_renew[:, cellregs_d2VSrenew['renew_d2']]\n",
    "    patterns_CS_evs_d2_renew = patterns_CS_evs_d2[:, cellregs_d2VSrenew['d2_renew']]\n",
    "    patterns_CS_evs_renew_d2 = patterns_CS_evs_renew[:, cellregs_d2VSrenew['renew_d2']]\n",
    "except:\n",
    "    print 'nope6'\n",
    "try:\n",
    "    patterns_evs_post_renew = patterns_evs_post[:, cellregs_postVSrenew['post_renew']]\n",
    "    patterns_evs_renew_post = patterns_evs_renew[:, cellregs_postVSrenew['renew_post']]\n",
    "    patterns_CS_evs_post_renew = patterns_CS_evs_post[:, cellregs_postVSrenew['post_renew']]\n",
    "    patterns_CS_evs_renew_post = patterns_CS_evs_renew[:, cellregs_postVSrenew['renew_post']]\n",
    "except:\n",
    "    print 'nope7'\n",
    "try:\n",
    "    patterns_evs_ext1_post = patterns_evs_ext1[:, cellregs_postVSext1['ext1_post']]\n",
    "    patterns_evs_post_ext1 = patterns_evs_post[:, cellregs_postVSext1['post_ext1']]\n",
    "    patterns_CS_evs_ext1_post = patterns_CS_evs_ext1[:, cellregs_postVSext1['ext1_post']]\n",
    "    patterns_CS_evs_post_ext1 = patterns_CS_evs_post[:, cellregs_postVSext1['post_ext1']]\n",
    "except:\n",
    "    print 'nope8'\n",
    "try:\n",
    "    patterns_evs_ext2_post = patterns_evs_ext2[:, cellregs_postVSext2['ext2_post']]\n",
    "    patterns_evs_post_ext2 = patterns_evs_post[:, cellregs_postVSext2['post_ext2']]\n",
    "    patterns_CS_evs_ext2_post = patterns_CS_evs_ext2[:, cellregs_postVSext2['ext2_post']]\n",
    "    patterns_CS_evs_post_ext2 = patterns_CS_evs_post[:, cellregs_postVSext2['post_ext2']]\n",
    "except:\n",
    "    print 'nope9'\n",
    "try:\n",
    "    patterns_evs_renew_ext1 = patterns_evs_renew[:, cellregs_ext1VSrenew['renew_ext1']]\n",
    "    patterns_evs_ext1_renew = patterns_evs_ext1[:, cellregs_ext1VSrenew['ext1_renew']]\n",
    "    patterns_CS_evs_renew_ext1 = patterns_CS_evs_renew[:, cellregs_ext1VSrenew['renew_ext1']]\n",
    "    patterns_CS_evs_ext1_renew = patterns_CS_evs_ext1[:, cellregs_ext1VSrenew['ext1_renew']]\n",
    "except:\n",
    "    print 'nope10'\n",
    "try:\n",
    "    patterns_evs_renew_ext2 = patterns_evs_renew[:, cellregs_ext2VSrenew['renew_ext2']]\n",
    "    patterns_evs_ext2_renew = patterns_evs_ext2[:, cellregs_ext2VSrenew['ext2_renew']]\n",
    "    patterns_CS_evs_renew_ext2 = patterns_CS_evs_renew[:, cellregs_ext2VSrenew['renew_ext2']]\n",
    "    patterns_CS_evs_ext2_renew = patterns_CS_evs_ext2[:, cellregs_ext2VSrenew['ext2_renew']]\n",
    "except:\n",
    "    print 'nope11'\n",
    "try:\n",
    "    patterns_evs_ext1_ext2 = patterns_evs_ext1[:, cellregs_ext1VSext2['ext1_ext2']]\n",
    "    patterns_evs_ext2_ext1 = patterns_evs_ext2[:, cellregs_ext1VSext2['ext2_ext1']]\n",
    "    patterns_CS_evs_ext1_ext2 = patterns_CS_evs_ext1[:, cellregs_ext1VSext2['ext1_ext2']]\n",
    "    patterns_CS_evs_ext2_ext1 = patterns_CS_evs_ext2[:, cellregs_ext1VSext2['ext2_ext1']]\n",
    "except:\n",
    "    print 'nope12'\n",
    "try:    \n",
    "    patterns_evs_ext1_pre = patterns_evs_ext1[:, cellregs_preVSext1['ext1_pre']]\n",
    "    patterns_evs_pre_ext1 = patterns_evs_pre[:, cellregs_preVSext1['pre_ext1']]\n",
    "    patterns_CS_evs_ext1_pre = patterns_CS_evs_ext1[:, cellregs_preVSext1['ext1_pre']]\n",
    "    patterns_CS_evs_pre_ext1 = patterns_CS_evs_pre[:, cellregs_preVSext1['pre_ext1']]\n",
    "except:\n",
    "    print 'nope13'\n",
    "try:    \n",
    "    patterns_evs_ext2_pre = patterns_evs_ext2[:, cellregs_preVSext2['ext2_pre']]\n",
    "    patterns_evs_pre_ext2 = patterns_evs_pre[:, cellregs_preVSext2['pre_ext2']]\n",
    "    patterns_CS_evs_ext2_pre = patterns_CS_evs_ext2[:, cellregs_preVSext2['ext2_pre']]\n",
    "    patterns_CS_evs_pre_ext2 = patterns_CS_evs_pre[:, cellregs_preVSext2['pre_ext2']]\n",
    "except:\n",
    "    print 'nope14'\n",
    "try:    \n",
    "    patterns_evs_renew_pre = patterns_evs_renew[:, cellregs_preVSrenew['renew_pre']]\n",
    "    patterns_evs_pre_renew = patterns_evs_pre[:, cellregs_preVSrenew['pre_renew']]\n",
    "    patterns_CS_evs_renew_pre = patterns_CS_evs_renew[:, cellregs_preVSrenew['renew_pre']]\n",
    "    patterns_CS_evs_pre_renew = patterns_CS_evs_pre[:, cellregs_preVSrenew['pre_renew']]\n",
    "except:\n",
    "    print 'nope15'"
   ]
  },
  {
   "cell_type": "code",
   "execution_count": 26,
   "metadata": {
    "collapsed": true
   },
   "outputs": [],
   "source": [
    "#extract patterns of only last sec of epoch\n",
    "patterns_evs_expo_1s = ut.extract_patterns(vars_expo['time_ax'], vars_expo['events'], vars_expo['cycles'],\n",
    "                                       vars_expo['CYCLE_START'], 3,4)\n",
    "patterns_evs_pre_1s = ut.extract_patterns(vars_pre['time_ax'], vars_pre['events'], vars_pre['cycles'],\n",
    "                                       vars_pre['CYCLE_START'], 3,4)\n",
    "patterns_evs_d2_1s = ut.extract_patterns(vars_d2['time_ax'], vars_d2['events'], vars_d2['cycles'],\n",
    "                                       vars_d2['CYCLE_START'], 3,4)\n",
    "patterns_evs_post_1s = ut.extract_patterns(vars_post['time_ax'], vars_post['events'], vars_post['cycles'],\n",
    "                                       vars_post['CYCLE_START'], 3,4)\n",
    "patterns_evs_ext1_1s = ut.extract_patterns(vars_ext1['time_ax'], vars_ext1['events'], vars_ext1['cycles'],\n",
    "                                       vars_ext1['CYCLE_START'], 3,4)\n",
    "patterns_evs_ext2_1s = ut.extract_patterns(vars_ext2['time_ax'], vars_ext2['events'], vars_ext2['cycles'],\n",
    "                                       vars_ext2['CYCLE_START'], 3,4)\n",
    "patterns_evs_renew_1s = ut.extract_patterns(vars_renew['time_ax'], vars_renew['events'], vars_renew['cycles'],\n",
    "                                       vars_renew['CYCLE_START'], 3,4)\n",
    "\n",
    "patterns_CS_evs_expo_1s = ut.extract_patterns(vars_expo['time_ax'], vars_expo['events'], vars_expo['cycles'],\n",
    "                                       vars_expo['CYCLE_START'], 1,2)\n",
    "patterns_CS_evs_pre_1s = ut.extract_patterns(vars_pre['time_ax'], vars_pre['events'], vars_pre['cycles'],\n",
    "                                       vars_pre['CYCLE_START'], 1,2)\n",
    "patterns_CS_evs_d2_1s = ut.extract_patterns(vars_d2['time_ax'], vars_d2['events'], vars_d2['cycles'],\n",
    "                                       vars_d2['CYCLE_START'], 1,2)\n",
    "patterns_CS_evs_post_1s = ut.extract_patterns(vars_post['time_ax'], vars_post['events'], vars_post['cycles'],\n",
    "                                       vars_post['CYCLE_START'], 1,2)\n",
    "patterns_CS_evs_ext1_1s = ut.extract_patterns(vars_ext1['time_ax'], vars_ext1['events'], vars_ext1['cycles'],\n",
    "                                       vars_ext1['CYCLE_START'], 1,2)\n",
    "patterns_CS_evs_ext2_1s = ut.extract_patterns(vars_ext2['time_ax'], vars_ext2['events'], vars_ext2['cycles'],\n",
    "                                       vars_ext2['CYCLE_START'], 1,2)\n",
    "patterns_CS_evs_renew_1s = ut.extract_patterns(vars_renew['time_ax'], vars_renew['events'], vars_renew['cycles'],\n",
    "                                       vars_renew['CYCLE_START'], 1,2)"
   ]
  },
  {
   "cell_type": "code",
   "execution_count": 27,
   "metadata": {
    "collapsed": false
   },
   "outputs": [],
   "source": [
    "#extract 1s patterns using only registered cells\n",
    "try:\n",
    "    patterns_evs_pre_post_1s = patterns_evs_pre_1s[:, cellregs_preVSpost['pre_post']]\n",
    "    patterns_evs_post_pre_1s = patterns_evs_post_1s[:, cellregs_preVSpost['post_pre']]\n",
    "    patterns_CS_evs_pre_post_1s = patterns_CS_evs_pre_1s[:, cellregs_preVSpost['pre_post']]\n",
    "    patterns_CS_evs_post_pre_1s = patterns_CS_evs_post_1s[:, cellregs_preVSpost['post_pre']]\n",
    "except:\n",
    "    print 'nope1'\n",
    "try:\n",
    "    patterns_evs_pre_d2_1s = patterns_evs_pre_1s[:, cellregs_preVSd2['pre_d2']]\n",
    "    patterns_evs_d2_pre_1s = patterns_evs_d2_1s[:, cellregs_preVSd2['d2_pre']]\n",
    "    patterns_CS_evs_pre_d2_1s = patterns_CS_evs_pre_1s[:, cellregs_preVSd2['pre_d2']]\n",
    "    patterns_CS_evs_d2_pre_1s = patterns_CS_evs_d2_1s[:, cellregs_preVSd2['d2_pre']]\n",
    "except:\n",
    "    print 'nope2'\n",
    "try:\n",
    "    patterns_evs_d2_post_1s = patterns_evs_d2_1s[:, cellregs_d2VSpost['d2_post']]\n",
    "    patterns_evs_post_d2_1s = patterns_evs_post_1s[:, cellregs_d2VSpost['post_d2']]\n",
    "    patterns_CS_evs_d2_post_1s = patterns_CS_evs_d2_1s[:, cellregs_d2VSpost['d2_post']]\n",
    "    patterns_CS_evs_post_d2_1s = patterns_CS_evs_post_1s[:, cellregs_d2VSpost['post_d2']]\n",
    "except:\n",
    "    print 'nope3'\n",
    "try:\n",
    "    patterns_evs_d2_ext1_1s = patterns_evs_d2_1s[:, cellregs_d2VSext1['d2_ext1']]\n",
    "    patterns_evs_ext1_d2_1s = patterns_evs_ext1_1s[:, cellregs_d2VSext1['ext1_d2']]\n",
    "    patterns_CS_evs_d2_ext1_1s = patterns_CS_evs_d2_1s[:, cellregs_d2VSext1['d2_ext1']]\n",
    "    patterns_CS_evs_ext1_d2_1s = patterns_CS_evs_ext1_1s[:, cellregs_d2VSext1['ext1_d2']]\n",
    "except:\n",
    "    print 'nope4'\n",
    "try:\n",
    "    patterns_evs_d2_ext2_1s = patterns_evs_d2_1s[:, cellregs_d2VSext2['d2_ext2']]\n",
    "    patterns_evs_ext2_d2_1s = patterns_evs_ext2_1s[:, cellregs_d2VSext2['ext2_d2']]\n",
    "    patterns_CS_evs_d2_ext2_1s = patterns_CS_evs_d2_1s[:, cellregs_d2VSext2['d2_ext2']]\n",
    "    patterns_CS_evs_ext2_d2_1s = patterns_CS_evs_ext2_1s[:, cellregs_d2VSext2['ext2_d2']]\n",
    "except:\n",
    "    print 'nope5'\n",
    "try:\n",
    "    patterns_evs_d2_renew_1s = patterns_evs_d2_1s[:, cellregs_d2VSrenew['d2_renew']]\n",
    "    patterns_evs_renew_d2_1s = patterns_evs_renew_1s[:, cellregs_d2VSrenew['renew_d2']]\n",
    "    patterns_CS_evs_d2_renew_1s = patterns_CS_evs_d2_1s[:, cellregs_d2VSrenew['d2_renew']]\n",
    "    patterns_CS_evs_renew_d2_1s = patterns_CS_evs_renew_1s[:, cellregs_d2VSrenew['renew_d2']]\n",
    "except:\n",
    "    print 'nope6'\n",
    "try:\n",
    "    patterns_evs_post_renew_1s = patterns_evs_post_1s[:, cellregs_postVSrenew['post_renew']]\n",
    "    patterns_evs_renew_post_1s = patterns_evs_renew_1s[:, cellregs_postVSrenew['renew_post']]\n",
    "    patterns_CS_evs_post_renew_1s = patterns_CS_evs_post_1s[:, cellregs_postVSrenew['post_renew']]\n",
    "    patterns_CS_evs_renew_post_1s = patterns_CS_evs_renew_1s[:, cellregs_postVSrenew['renew_post']]\n",
    "except:\n",
    "    print 'nope7'\n",
    "try:\n",
    "    patterns_evs_ext1_post_1s = patterns_evs_ext1_1s[:, cellregs_postVSext1['ext1_post']]\n",
    "    patterns_evs_post_ext1_1s = patterns_evs_post_1s[:, cellregs_postVSext1['post_ext1']]\n",
    "    patterns_CS_evs_ext1_post_1s = patterns_CS_evs_ext1_1s[:, cellregs_postVSext1['ext1_post']]\n",
    "    patterns_CS_evs_post_ext1_1s = patterns_CS_evs_post_1s[:, cellregs_postVSext1['post_ext1']]\n",
    "except:\n",
    "    print 'nope8'\n",
    "try:\n",
    "    patterns_evs_ext2_post_1s = patterns_evs_ext2_1s[:, cellregs_postVSext2['ext2_post']]\n",
    "    patterns_evs_post_ext2_1s = patterns_evs_post_1s[:, cellregs_postVSext2['post_ext2']]\n",
    "    patterns_CS_evs_ext2_post_1s = patterns_CS_evs_ext2_1s[:, cellregs_postVSext2['ext2_post']]\n",
    "    patterns_CS_evs_post_ext2_1s = patterns_CS_evs_post_1s[:, cellregs_postVSext2['post_ext2']]\n",
    "except:\n",
    "    print 'nope9'\n",
    "try:\n",
    "    patterns_evs_renew_ext1_1s = patterns_evs_renew_1s[:, cellregs_ext1VSrenew['renew_ext1']]\n",
    "    patterns_evs_ext1_renew_1s = patterns_evs_ext1_1s[:, cellregs_ext1VSrenew['ext1_renew']]\n",
    "    patterns_CS_evs_renew_ext1_1s = patterns_CS_evs_renew_1s[:, cellregs_ext1VSrenew['renew_ext1']]\n",
    "    patterns_CS_evs_ext1_renew_1s = patterns_CS_evs_ext1_1s[:, cellregs_ext1VSrenew['ext1_renew']]\n",
    "except:\n",
    "    print 'nope10'\n",
    "try:\n",
    "    patterns_evs_renew_ext2_1s = patterns_evs_renew_1s[:, cellregs_ext2VSrenew['renew_ext2']]\n",
    "    patterns_evs_ext2_renew_1s = patterns_evs_ext2_1s[:, cellregs_ext2VSrenew['ext2_renew']]\n",
    "    patterns_CS_evs_renew_ext2_1s = patterns_CS_evs_renew_1s[:, cellregs_ext2VSrenew['renew_ext2']]\n",
    "    patterns_CS_evs_ext2_renew_1s = patterns_CS_evs_ext2_1s[:, cellregs_ext2VSrenew['ext2_renew']]\n",
    "except:\n",
    "    print 'nope11'\n",
    "try:\n",
    "    patterns_evs_ext1_ext2_1s = patterns_evs_ext1_1s[:, cellregs_ext1VSext2['ext1_ext2']]\n",
    "    patterns_evs_ext2_ext1_1s = patterns_evs_ext2_1s[:, cellregs_ext1VSext2['ext2_ext1']]\n",
    "    patterns_CS_evs_ext1_ext2_1s = patterns_CS_evs_ext1_1s[:, cellregs_ext1VSext2['ext1_ext2']]\n",
    "    patterns_CS_evs_ext2_ext1_1s = patterns_CS_evs_ext2_1s[:, cellregs_ext1VSext2['ext2_ext1']]\n",
    "except:\n",
    "    print 'nope12'\n",
    "try:    \n",
    "    patterns_evs_ext1_pre_1s = patterns_evs_ext1_1s[:, cellregs_preVSext1['ext1_pre']]\n",
    "    patterns_evs_pre_ext1_1s = patterns_evs_pre_1s[:, cellregs_preVSext1['pre_ext1']]\n",
    "    patterns_CS_evs_ext1_pre_1s = patterns_CS_evs_ext1_1s[:, cellregs_preVSext1['ext1_pre']]\n",
    "    patterns_CS_evs_pre_ext1_1s = patterns_CS_evs_pre_1s[:, cellregs_preVSext1['pre_ext1']]\n",
    "except:\n",
    "    print 'nope13'\n",
    "try:    \n",
    "    patterns_evs_ext2_pre_1s = patterns_evs_ext2_1s[:, cellregs_preVSext2['ext2_pre']]\n",
    "    patterns_evs_pre_ext2_1s = patterns_evs_pre_1s[:, cellregs_preVSext2['pre_ext2']]\n",
    "    patterns_CS_evs_ext2_pre_1s = patterns_CS_evs_ext2_1s[:, cellregs_preVSext2['ext2_pre']]\n",
    "    patterns_CS_evs_pre_ext2_1s = patterns_CS_evs_pre_1s[:, cellregs_preVSext2['pre_ext2']]\n",
    "except:\n",
    "    print 'nope14'\n",
    "try:    \n",
    "    patterns_evs_renew_pre_1s = patterns_evs_renew_1s[:, cellregs_preVSrenew['renew_pre']]\n",
    "    patterns_evs_pre_renew_1s = patterns_evs_pre_1s[:, cellregs_preVSrenew['pre_renew']]\n",
    "    patterns_CS_evs_renew_pre_1s = patterns_CS_evs_renew_1s[:, cellregs_preVSrenew['renew_pre']]\n",
    "    patterns_CS_evs_pre_renew_1s = patterns_CS_evs_pre_1s[:, cellregs_preVSrenew['pre_renew']]\n",
    "except:\n",
    "    print 'nope15'"
   ]
  },
  {
   "cell_type": "code",
   "execution_count": 28,
   "metadata": {
    "collapsed": false
   },
   "outputs": [],
   "source": [
    "from sklearn.naive_bayes import MultinomialNB\n",
    "from sklearn.svm import LinearSVC\n",
    "\n",
    "from sklearn.model_selection import cross_val_score, StratifiedKFold, LeaveOneOut"
   ]
  },
  {
   "cell_type": "markdown",
   "metadata": {},
   "source": [
    "# Decoding odor - setting as markdown for now. set as code if wanna run"
   ]
  },
  {
   "cell_type": "markdown",
   "metadata": {},
   "source": [
    "## decode within session (use all cells)"
   ]
  },
  {
   "cell_type": "markdown",
   "metadata": {
    "collapsed": true
   },
   "source": [
    "decoder = LinearSVC()\n",
    "# decoder = MultinomialNB()\n",
    "cv = LeaveOneOut() #StratifiedKFold(n_splits=30)\n",
    "perf_pre, perf_pre_chance = ut.decode(patterns_evs_pre, labels_pre, cv=LeaveOneOut(), n_jobs=10, decoder=decoder)\n",
    "perf_post, perf_post_chance = ut.decode(patterns_evs_post, labels_post, cv=LeaveOneOut(), n_jobs=10, decoder=decoder)\n",
    "perf_ext1, perf_ext1_chance = ut.decode(patterns_evs_ext1, labels_ext1, cv=LeaveOneOut(), n_jobs=10, decoder=decoder)\n",
    "perf_ext2, perf_ext2_chance = ut.decode(patterns_evs_ext2, labels_ext2, cv=LeaveOneOut(), n_jobs=10, decoder=decoder)\n",
    "perf_expo, perf_expo_chance = ut.decode(patterns_evs_expo, labels_expo, cv=LeaveOneOut(), n_jobs=10, decoder=decoder)\n",
    "perf_renew, perf_renew_chance = ut.decode(patterns_evs_renew, labels_renew, cv=LeaveOneOut(), n_jobs=10, decoder=decoder)\n",
    "\n",
    "perf_CS_pre, perf_CS_pre_chance = ut.decode(patterns_CS_evs_pre, labels_pre, cv=LeaveOneOut(), n_jobs=10, decoder=decoder)\n",
    "perf_CS_post, perf_CS_post_chance = ut.decode(patterns_CS_evs_post, labels_post, cv=LeaveOneOut(), n_jobs=10, decoder=decoder)\n",
    "perf_CS_ext1, perf_CS_ext1_chance = ut.decode(patterns_CS_evs_ext1, labels_ext1, cv=LeaveOneOut(), n_jobs=10, decoder=decoder)\n",
    "perf_CS_ext2, perf_CS_ext2_chance = ut.decode(patterns_CS_evs_ext2, labels_ext2, cv=LeaveOneOut(), n_jobs=10, decoder=decoder)\n",
    "perf_CS_expo, perf_CS_expo_chance = ut.decode(patterns_CS_evs_expo, labels_expo, cv=LeaveOneOut(), n_jobs=10, decoder=decoder)\n",
    "perf_CS_renew, perf_CS_renew_chance = ut.decode(patterns_CS_evs_renew, labels_renew, cv=LeaveOneOut(), n_jobs=10, decoder=decoder)\n",
    "\n",
    "perf_pre_1s, perf_pre_chance_1s = ut.decode(patterns_evs_pre_1s, labels_pre, cv=LeaveOneOut(), n_jobs=10, decoder=decoder)\n",
    "perf_post_1s, perf_post_chance_1s = ut.decode(patterns_evs_post_1s, labels_post, cv=LeaveOneOut(), n_jobs=10, decoder=decoder)\n",
    "perf_ext1_1s, perf_ext1_chance_1s = ut.decode(patterns_evs_ext1_1s, labels_ext1, cv=LeaveOneOut(), n_jobs=10, decoder=decoder)\n",
    "perf_ext2_1s, perf_ext2_chance_1s = ut.decode(patterns_evs_ext2_1s, labels_ext2, cv=LeaveOneOut(), n_jobs=10, decoder=decoder)\n",
    "perf_expo_1s, perf_expo_chance_1s = ut.decode(patterns_evs_expo_1s, labels_expo, cv=LeaveOneOut(), n_jobs=10, decoder=decoder)\n",
    "perf_renew_1s, perf_renew_chance_1s = ut.decode(patterns_evs_renew_1s, labels_renew, cv=LeaveOneOut(), n_jobs=10, decoder=decoder)\n",
    "\n",
    "perf_CS_pre_1s, perf_CS_pre_chance_1s = ut.decode(patterns_CS_evs_pre_1s, labels_pre, cv=LeaveOneOut(), n_jobs=10, decoder=decoder)\n",
    "perf_CS_post_1s, perf_CS_post_chance_1s = ut.decode(patterns_CS_evs_post_1s, labels_post, cv=LeaveOneOut(), n_jobs=10, decoder=decoder)\n",
    "perf_CS_ext1_1s, perf_CS_ext1_chance_1s = ut.decode(patterns_CS_evs_ext1_1s, labels_ext1, cv=LeaveOneOut(), n_jobs=10, decoder=decoder)\n",
    "perf_CS_ext2_1s, perf_CS_ext2_chance_1s = ut.decode(patterns_CS_evs_ext2_1s, labels_ext2, cv=LeaveOneOut(), n_jobs=10, decoder=decoder)\n",
    "perf_CS_expo_1s, perf_CS_expo_chance_1s = ut.decode(patterns_CS_evs_expo_1s, labels_expo, cv=LeaveOneOut(), n_jobs=10, decoder=decoder)\n",
    "perf_CS_renew_1s, perf_CS_renew_chance_1s = ut.decode(patterns_CS_evs_renew_1s, labels_renew, cv=LeaveOneOut(), n_jobs=10, decoder=decoder)"
   ]
  },
  {
   "cell_type": "markdown",
   "metadata": {},
   "source": [
    "  ## Train/test on same day"
   ]
  },
  {
   "cell_type": "markdown",
   "metadata": {
    "collapsed": true
   },
   "source": [
    "decoder = LinearSVC()\n",
    "# decoder = MultinomialNB()\n",
    "cv = LeaveOneOut() #StratifiedKFold(n_splits=30)\n",
    "perf_pre_post_within = cross_val_score(decoder, patterns_evs_pre_post, labels_pre, cv=cv)\n",
    "perf_post_pre_within = cross_val_score(decoder, patterns_evs_post_pre, labels_post, cv=cv)\n",
    "perf_CS_pre_post_within = cross_val_score(decoder, patterns_CS_evs_pre_post, labels_pre, cv=cv)\n",
    "perf_CS_post_pre_within = cross_val_score(decoder, patterns_CS_evs_post_pre, labels_post, cv=cv)\n",
    "perf_post_renew_within = cross_val_score(decoder, patterns_evs_post_renew, labels_post, cv=cv)\n",
    "perf_renew_post_within = cross_val_score(decoder, patterns_evs_renew_post, labels_renew, cv=cv)\n",
    "perf_CS_post_renew_within = cross_val_score(decoder, patterns_CS_evs_post_renew, labels_post, cv=cv)\n",
    "perf_CS_renew_post_within = cross_val_score(decoder, patterns_CS_evs_renew_post, labels_renew, cv=cv)\n",
    "perf_ext1_post_within = cross_val_score(decoder, patterns_evs_ext1_post, labels_ext1, cv=cv)\n",
    "perf_post_ext1_within = cross_val_score(decoder, patterns_evs_post_ext1, labels_post, cv=cv)\n",
    "perf_CS_ext1_post_within = cross_val_score(decoder, patterns_CS_evs_ext1_post, labels_ext1, cv=cv)\n",
    "perf_CS_post_ext1_within = cross_val_score(decoder, patterns_CS_evs_post_ext1, labels_post, cv=cv)\n",
    "perf_ext2_post_within = cross_val_score(decoder, patterns_evs_ext2_post, labels_ext2, cv=cv)\n",
    "perf_post_ext2_within = cross_val_score(decoder, patterns_evs_post_ext2, labels_post, cv=cv)\n",
    "perf_CS_ext2_post_within = cross_val_score(decoder, patterns_CS_evs_ext2_post, labels_ext2, cv=cv)\n",
    "perf_CS_post_ext2_within = cross_val_score(decoder, patterns_CS_evs_post_ext2, labels_post, cv=cv)\n",
    "perf_renew_ext1_within = cross_val_score(decoder, patterns_evs_renew_ext1, labels_renew, cv=cv)\n",
    "perf_ext1_renew_within = cross_val_score(decoder, patterns_evs_ext1_renew, labels_ext1, cv=cv)\n",
    "perf_CS_renew_ext1_within = cross_val_score(decoder, patterns_CS_evs_renew_ext1, labels_renew, cv=cv)\n",
    "perf_CS_ext1_renew_within = cross_val_score(decoder, patterns_CS_evs_ext1_renew, labels_ext1, cv=cv)\n",
    "perf_renew_ext2_within = cross_val_score(decoder, patterns_evs_renew_ext2, labels_renew, cv=cv)\n",
    "perf_ext2_renew_within = cross_val_score(decoder, patterns_evs_ext2_renew, labels_ext2, cv=cv)\n",
    "perf_CS_renew_ext2_within = cross_val_score(decoder, patterns_CS_evs_renew_ext2, labels_renew, cv=cv)\n",
    "perf_CS_ext2_renew_within = cross_val_score(decoder, patterns_CS_evs_ext2_renew, labels_ext2, cv=cv)\n",
    "perf_ext1_ext2_within = cross_val_score(decoder, patterns_evs_ext1_ext2, labels_ext1, cv=cv)\n",
    "perf_ext2_ext1_within = cross_val_score(decoder, patterns_evs_ext2_ext1, labels_ext2, cv=cv)\n",
    "perf_CS_ext1_ext2_within = cross_val_score(decoder, patterns_CS_evs_ext1_ext2, labels_ext1, cv=cv)\n",
    "perf_CS_ext2_ext1_within = cross_val_score(decoder, patterns_CS_evs_ext2_ext1, labels_ext2, cv=cv)\n",
    "\n",
    "perf_ext1_pre_within = cross_val_score(decoder, patterns_evs_ext1_pre, labels_ext1, cv=cv)\n",
    "perf_pre_ext1_within = cross_val_score(decoder, patterns_evs_pre_ext1, labels_pre, cv=cv)\n",
    "perf_CS_ext1_pre_within = cross_val_score(decoder, patterns_CS_evs_ext1_pre, labels_ext1, cv=cv)\n",
    "perf_CS_pre_ext1_within = cross_val_score(decoder, patterns_CS_evs_pre_ext1, labels_pre, cv=cv)\n",
    "perf_ext2_pre_within = cross_val_score(decoder, patterns_evs_ext2_pre, labels_ext2, cv=cv)\n",
    "perf_pre_ext2_within = cross_val_score(decoder, patterns_evs_pre_ext2, labels_pre, cv=cv)\n",
    "perf_CS_ext2_pre_within = cross_val_score(decoder, patterns_CS_evs_ext2_pre, labels_ext2, cv=cv)\n",
    "perf_CS_pre_ext2_within = cross_val_score(decoder, patterns_CS_evs_pre_ext2, labels_pre, cv=cv)\n",
    "perf_renew_pre_within = cross_val_score(decoder, patterns_evs_renew_pre, labels_renew, cv=cv)\n",
    "perf_pre_renew_within = cross_val_score(decoder, patterns_evs_pre_renew, labels_pre, cv=cv)\n",
    "perf_CS_renew_pre_within = cross_val_score(decoder, patterns_CS_evs_renew_pre, labels_renew, cv=cv)\n",
    "perf_CS_pre_renew_within = cross_val_score(decoder, patterns_CS_evs_pre_renew, labels_pre, cv=cv)"
   ]
  },
  {
   "cell_type": "markdown",
   "metadata": {},
   "source": [
    "## Train on pre test on post and vv."
   ]
  },
  {
   "cell_type": "markdown",
   "metadata": {
    "collapsed": true
   },
   "source": [
    "perf_pre_post_across = []\n",
    "decoder.fit(patterns_evs_pre_post, labels_pre)\n",
    "perf_pre_post_across.append(decoder.score(patterns_evs_post_pre, labels_post))\n",
    "decoder.fit(patterns_evs_post_pre, labels_post)\n",
    "perf_pre_post_across.append(decoder.score(patterns_evs_pre_post, labels_pre))\n",
    "\n",
    "perf_ext1_post_across = []\n",
    "decoder.fit(patterns_evs_ext1_post, labels_ext1)\n",
    "perf_ext1_post_across.append(decoder.score(patterns_evs_post_ext1, labels_post))\n",
    "decoder.fit(patterns_evs_post_ext1, labels_post)\n",
    "perf_ext1_post_across.append(decoder.score(patterns_evs_ext1_post, labels_ext1))\n",
    "\n",
    "perf_ext2_post_across = []\n",
    "decoder.fit(patterns_evs_ext2_post, labels_ext2)\n",
    "perf_ext2_post_across.append(decoder.score(patterns_evs_post_ext2, labels_post))\n",
    "decoder.fit(patterns_evs_post_ext2, labels_post)\n",
    "perf_ext2_post_across.append(decoder.score(patterns_evs_ext2_post, labels_ext2))\n",
    "\n",
    "perf_post_renew_across = []\n",
    "decoder.fit(patterns_evs_post_renew, labels_post)\n",
    "perf_post_renew_across.append(decoder.score(patterns_evs_renew_post, labels_renew))\n",
    "decoder.fit(patterns_evs_renew_post, labels_renew)\n",
    "perf_post_renew_across.append(decoder.score(patterns_evs_post_renew, labels_post))\n",
    "\n",
    "perf_ext1_renew_across = []\n",
    "decoder.fit(patterns_evs_ext1_renew, labels_ext1)\n",
    "perf_ext1_renew_across.append(decoder.score(patterns_evs_renew_ext1, labels_renew))\n",
    "decoder.fit(patterns_evs_renew_ext1, labels_renew)\n",
    "perf_ext1_renew_across.append(decoder.score(patterns_evs_ext1_renew, labels_ext1))\n",
    "\n",
    "perf_ext2_renew_across = []\n",
    "decoder.fit(patterns_evs_ext2_renew, labels_ext2)\n",
    "perf_ext2_renew_across.append(decoder.score(patterns_evs_renew_ext2, labels_renew))\n",
    "decoder.fit(patterns_evs_renew_ext2, labels_renew)\n",
    "perf_ext2_renew_across.append(decoder.score(patterns_evs_ext2_renew, labels_ext2))\n",
    "\n",
    "perf_ext1_ext2_across = []\n",
    "decoder.fit(patterns_evs_ext1_ext2, labels_ext1)\n",
    "perf_ext1_ext2_across.append(decoder.score(patterns_evs_ext2_ext1, labels_ext2))\n",
    "decoder.fit(patterns_evs_ext2_ext1, labels_ext2)\n",
    "perf_ext1_ext2_across.append(decoder.score(patterns_evs_ext1_ext2, labels_ext1))\n",
    "\n",
    "\n",
    "\n",
    "perf_pre_ext1_across = []\n",
    "decoder.fit(patterns_evs_pre_ext1, labels_pre)\n",
    "perf_pre_ext1_across.append(decoder.score(patterns_evs_ext1_pre, labels_ext1))\n",
    "decoder.fit(patterns_evs_ext1_pre, labels_ext1)\n",
    "perf_pre_ext1_across.append(decoder.score(patterns_evs_pre_ext1, labels_pre))\n",
    "\n",
    "perf_pre_ext2_across = []\n",
    "decoder.fit(patterns_evs_pre_ext2, labels_pre)\n",
    "perf_pre_ext2_across.append(decoder.score(patterns_evs_ext2_pre, labels_ext2))\n",
    "decoder.fit(patterns_evs_ext2_pre, labels_ext2)\n",
    "perf_pre_ext2_across.append(decoder.score(patterns_evs_pre_ext2, labels_pre))\n",
    "\n",
    "perf_pre_renew_across = []\n",
    "decoder.fit(patterns_evs_pre_renew, labels_pre)\n",
    "perf_pre_renew_across.append(decoder.score(patterns_evs_renew_pre, labels_renew))\n",
    "decoder.fit(patterns_evs_renew_pre, labels_renew)\n",
    "perf_pre_renew_across.append(decoder.score(patterns_evs_pre_renew, labels_pre))"
   ]
  },
  {
   "cell_type": "markdown",
   "metadata": {
    "collapsed": true
   },
   "source": [
    "perf_CS_pre_post_across = []\n",
    "decoder.fit(patterns_CS_evs_pre_post, labels_pre)\n",
    "perf_CS_pre_post_across.append(decoder.score(patterns_CS_evs_post_pre, labels_post))\n",
    "decoder.fit(patterns_CS_evs_post_pre, labels_post)\n",
    "perf_CS_pre_post_across.append(decoder.score(patterns_CS_evs_pre_post, labels_pre))\n",
    "\n",
    "perf_CS_ext1_post_across = []\n",
    "decoder.fit(patterns_CS_evs_ext1_post, labels_ext1)\n",
    "perf_CS_ext1_post_across.append(decoder.score(patterns_CS_evs_post_ext1, labels_post))\n",
    "decoder.fit(patterns_CS_evs_post_ext1, labels_post)\n",
    "perf_CS_ext1_post_across.append(decoder.score(patterns_CS_evs_ext1_post, labels_ext1))\n",
    "\n",
    "perf_CS_ext2_post_across = []\n",
    "decoder.fit(patterns_CS_evs_ext2_post, labels_ext2)\n",
    "perf_CS_ext2_post_across.append(decoder.score(patterns_CS_evs_post_ext2, labels_post))\n",
    "decoder.fit(patterns_CS_evs_post_ext2, labels_post)\n",
    "perf_CS_ext2_post_across.append(decoder.score(patterns_CS_evs_ext2_post, labels_ext2))\n",
    "\n",
    "perf_CS_post_renew_across = []\n",
    "decoder.fit(patterns_CS_evs_post_renew, labels_post)\n",
    "perf_CS_post_renew_across.append(decoder.score(patterns_CS_evs_renew_post, labels_renew))\n",
    "decoder.fit(patterns_CS_evs_renew_post, labels_renew)\n",
    "perf_CS_post_renew_across.append(decoder.score(patterns_CS_evs_post_renew, labels_post))\n",
    "\n",
    "perf_CS_ext1_renew_across = []\n",
    "decoder.fit(patterns_CS_evs_ext1_renew, labels_ext1)\n",
    "perf_CS_ext1_renew_across.append(decoder.score(patterns_CS_evs_renew_ext1, labels_renew))\n",
    "decoder.fit(patterns_CS_evs_renew_ext1, labels_renew)\n",
    "perf_CS_ext1_renew_across.append(decoder.score(patterns_CS_evs_ext1_renew, labels_ext1))\n",
    "\n",
    "perf_CS_ext2_renew_across = []\n",
    "decoder.fit(patterns_CS_evs_ext2_renew, labels_ext2)\n",
    "perf_CS_ext2_renew_across.append(decoder.score(patterns_CS_evs_renew_ext2, labels_renew))\n",
    "decoder.fit(patterns_CS_evs_renew_ext2, labels_renew)\n",
    "perf_CS_ext2_renew_across.append(decoder.score(patterns_CS_evs_ext2_renew, labels_ext2))\n",
    "\n",
    "perf_CS_ext1_ext2_across = []\n",
    "decoder.fit(patterns_CS_evs_ext1_ext2, labels_ext1)\n",
    "perf_CS_ext1_ext2_across.append(decoder.score(patterns_CS_evs_ext2_ext1, labels_ext2))\n",
    "decoder.fit(patterns_CS_evs_ext2_ext1, labels_ext2)\n",
    "perf_CS_ext1_ext2_across.append(decoder.score(patterns_CS_evs_ext1_ext2, labels_ext1))\n",
    "\n",
    "\n",
    "\n",
    "perf_CS_pre_ext1_across = []\n",
    "decoder.fit(patterns_CS_evs_pre_ext1, labels_pre)\n",
    "perf_CS_pre_ext1_across.append(decoder.score(patterns_CS_evs_ext1_pre, labels_ext1))\n",
    "decoder.fit(patterns_CS_evs_ext1_pre, labels_ext1)\n",
    "perf_CS_pre_ext1_across.append(decoder.score(patterns_CS_evs_pre_ext1, labels_pre))\n",
    "\n",
    "perf_CS_pre_ext2_across = []\n",
    "decoder.fit(patterns_CS_evs_pre_ext2, labels_pre)\n",
    "perf_CS_pre_ext2_across.append(decoder.score(patterns_CS_evs_ext2_pre, labels_ext2))\n",
    "decoder.fit(patterns_CS_evs_ext2_pre, labels_ext2)\n",
    "perf_CS_pre_ext2_across.append(decoder.score(patterns_CS_evs_pre_ext2, labels_pre))\n",
    "\n",
    "perf_CS_pre_renew_across = []\n",
    "decoder.fit(patterns_CS_evs_pre_renew, labels_pre)\n",
    "perf_CS_pre_renew_across.append(decoder.score(patterns_CS_evs_renew_pre, labels_renew))\n",
    "decoder.fit(patterns_CS_evs_renew_pre, labels_renew)\n",
    "perf_CS_pre_renew_across.append(decoder.score(patterns_CS_evs_pre_renew, labels_pre))"
   ]
  },
  {
   "cell_type": "markdown",
   "metadata": {
    "collapsed": false
   },
   "source": [
    "decoder = LinearSVC()\n",
    "# decoder = MultinomialNB()\n",
    "cv = LeaveOneOut() #StratifiedKFold(n_splits=30)\n",
    "perf_pre_post_within_1s = cross_val_score(decoder, patterns_evs_pre_post_1s, labels_pre, cv=cv)\n",
    "perf_post_pre_within_1s = cross_val_score(decoder, patterns_evs_post_pre_1s, labels_post, cv=cv)\n",
    "perf_CS_pre_post_within_1s = cross_val_score(decoder, patterns_CS_evs_pre_post_1s, labels_pre, cv=cv)\n",
    "perf_CS_post_pre_within_1s = cross_val_score(decoder, patterns_CS_evs_post_pre_1s, labels_post, cv=cv)\n",
    "perf_post_renew_within_1s = cross_val_score(decoder, patterns_evs_post_renew_1s, labels_post, cv=cv)\n",
    "perf_renew_post_within_1s = cross_val_score(decoder, patterns_evs_renew_post_1s, labels_renew, cv=cv)\n",
    "perf_CS_post_renew_within_1s = cross_val_score(decoder, patterns_CS_evs_post_renew_1s, labels_post, cv=cv)\n",
    "perf_CS_renew_post_within_1s = cross_val_score(decoder, patterns_CS_evs_renew_post_1s, labels_renew, cv=cv)\n",
    "perf_ext1_post_within_1s = cross_val_score(decoder, patterns_evs_ext1_post_1s, labels_ext1, cv=cv)\n",
    "perf_post_ext1_within_1s = cross_val_score(decoder, patterns_evs_post_ext1_1s, labels_post, cv=cv)\n",
    "perf_CS_ext1_post_within_1s = cross_val_score(decoder, patterns_CS_evs_ext1_post_1s, labels_ext1, cv=cv)\n",
    "perf_CS_post_ext1_within_1s = cross_val_score(decoder, patterns_CS_evs_post_ext1_1s, labels_post, cv=cv)\n",
    "perf_ext2_post_within_1s = cross_val_score(decoder, patterns_evs_ext2_post_1s, labels_ext2, cv=cv)\n",
    "perf_post_ext2_within_1s = cross_val_score(decoder, patterns_evs_post_ext2_1s, labels_post, cv=cv)\n",
    "perf_CS_ext2_post_within_1s = cross_val_score(decoder, patterns_CS_evs_ext2_post_1s, labels_ext2, cv=cv)\n",
    "perf_CS_post_ext2_within_1s = cross_val_score(decoder, patterns_CS_evs_post_ext2_1s, labels_post, cv=cv)\n",
    "perf_renew_ext1_within_1s = cross_val_score(decoder, patterns_evs_renew_ext1_1s, labels_renew, cv=cv)\n",
    "perf_ext1_renew_within_1s = cross_val_score(decoder, patterns_evs_ext1_renew_1s, labels_ext1, cv=cv)\n",
    "perf_CS_renew_ext1_within_1s = cross_val_score(decoder, patterns_CS_evs_renew_ext1_1s, labels_renew, cv=cv)\n",
    "perf_CS_ext1_renew_within_1s = cross_val_score(decoder, patterns_CS_evs_ext1_renew_1s, labels_ext1, cv=cv)\n",
    "perf_renew_ext2_within_1s = cross_val_score(decoder, patterns_evs_renew_ext2_1s, labels_renew, cv=cv)\n",
    "perf_ext2_renew_within_1s = cross_val_score(decoder, patterns_evs_ext2_renew_1s, labels_ext2, cv=cv)\n",
    "perf_CS_renew_ext2_within_1s = cross_val_score(decoder, patterns_CS_evs_renew_ext2_1s, labels_renew, cv=cv)\n",
    "perf_CS_ext2_renew_within_1s = cross_val_score(decoder, patterns_CS_evs_ext2_renew_1s, labels_ext2, cv=cv)\n",
    "perf_ext1_ext2_within_1s = cross_val_score(decoder, patterns_evs_ext1_ext2_1s, labels_ext1, cv=cv)\n",
    "perf_ext2_ext1_within_1s = cross_val_score(decoder, patterns_evs_ext2_ext1_1s, labels_ext2, cv=cv)\n",
    "perf_CS_ext1_ext2_within_1s = cross_val_score(decoder, patterns_CS_evs_ext1_ext2_1s, labels_ext1, cv=cv)\n",
    "perf_CS_ext2_ext1_within_1s = cross_val_score(decoder, patterns_CS_evs_ext2_ext1_1s, labels_ext2, cv=cv)\n",
    "\n",
    "perf_ext1_pre_within_1s = cross_val_score(decoder, patterns_evs_ext1_pre_1s, labels_ext1, cv=cv)\n",
    "perf_pre_ext1_within_1s = cross_val_score(decoder, patterns_evs_pre_ext1_1s, labels_pre, cv=cv)\n",
    "perf_CS_ext1_pre_within_1s = cross_val_score(decoder, patterns_CS_evs_ext1_pre_1s, labels_ext1, cv=cv)\n",
    "perf_CS_pre_ext1_within_1s = cross_val_score(decoder, patterns_CS_evs_pre_ext1_1s, labels_pre, cv=cv)\n",
    "perf_ext2_pre_within_1s = cross_val_score(decoder, patterns_evs_ext2_pre_1s, labels_ext2, cv=cv)\n",
    "perf_pre_ext2_within_1s = cross_val_score(decoder, patterns_evs_pre_ext2_1s, labels_pre, cv=cv)\n",
    "perf_CS_ext2_pre_within_1s = cross_val_score(decoder, patterns_CS_evs_ext2_pre_1s, labels_ext2, cv=cv)\n",
    "perf_CS_pre_ext2_within_1s = cross_val_score(decoder, patterns_CS_evs_pre_ext2_1s, labels_pre, cv=cv)\n",
    "perf_renew_pre_within_1s = cross_val_score(decoder, patterns_evs_renew_pre_1s, labels_renew, cv=cv)\n",
    "perf_pre_renew_within_1s = cross_val_score(decoder, patterns_evs_pre_renew_1s, labels_pre, cv=cv)\n",
    "perf_CS_renew_pre_within_1s = cross_val_score(decoder, patterns_CS_evs_renew_pre_1s, labels_renew, cv=cv)\n",
    "perf_CS_pre_renew_within_1s = cross_val_score(decoder, patterns_CS_evs_pre_renew_1s, labels_pre, cv=cv)"
   ]
  },
  {
   "cell_type": "markdown",
   "metadata": {
    "collapsed": true
   },
   "source": [
    "perf_pre_post_across_1s = []\n",
    "decoder.fit(patterns_evs_pre_post_1s, labels_pre)\n",
    "perf_pre_post_across_1s.append(decoder.score(patterns_evs_post_pre_1s, labels_post))\n",
    "decoder.fit(patterns_evs_post_pre_1s, labels_post)\n",
    "perf_pre_post_across_1s.append(decoder.score(patterns_evs_pre_post_1s, labels_pre))\n",
    "\n",
    "perf_ext1_post_across_1s = []\n",
    "decoder.fit(patterns_evs_ext1_post_1s, labels_ext1)\n",
    "perf_ext1_post_across_1s.append(decoder.score(patterns_evs_post_ext1_1s, labels_post))\n",
    "decoder.fit(patterns_evs_post_ext1_1s, labels_post)\n",
    "perf_ext1_post_across_1s.append(decoder.score(patterns_evs_ext1_post_1s, labels_ext1))\n",
    "\n",
    "perf_ext2_post_across_1s = []\n",
    "decoder.fit(patterns_evs_ext2_post_1s, labels_ext2)\n",
    "perf_ext2_post_across_1s.append(decoder.score(patterns_evs_post_ext2_1s, labels_post))\n",
    "decoder.fit(patterns_evs_post_ext2_1s, labels_post)\n",
    "perf_ext2_post_across_1s.append(decoder.score(patterns_evs_ext2_post_1s, labels_ext2))\n",
    "\n",
    "perf_post_renew_across_1s = []\n",
    "decoder.fit(patterns_evs_post_renew_1s, labels_post)\n",
    "perf_post_renew_across_1s.append(decoder.score(patterns_evs_renew_post_1s, labels_renew))\n",
    "decoder.fit(patterns_evs_renew_post_1s, labels_renew)\n",
    "perf_post_renew_across_1s.append(decoder.score(patterns_evs_post_renew_1s, labels_post))\n",
    "\n",
    "perf_ext1_renew_across_1s = []\n",
    "decoder.fit(patterns_evs_ext1_renew_1s, labels_ext1)\n",
    "perf_ext1_renew_across_1s.append(decoder.score(patterns_evs_renew_ext1_1s, labels_renew))\n",
    "decoder.fit(patterns_evs_renew_ext1_1s, labels_renew)\n",
    "perf_ext1_renew_across_1s.append(decoder.score(patterns_evs_ext1_renew_1s, labels_ext1))\n",
    "\n",
    "perf_ext2_renew_across_1s = []\n",
    "decoder.fit(patterns_evs_ext2_renew_1s, labels_ext2)\n",
    "perf_ext2_renew_across_1s.append(decoder.score(patterns_evs_renew_ext2_1s, labels_renew))\n",
    "decoder.fit(patterns_evs_renew_ext2_1s, labels_renew)\n",
    "perf_ext2_renew_across_1s.append(decoder.score(patterns_evs_ext2_renew_1s, labels_ext2))\n",
    "\n",
    "perf_ext1_ext2_across_1s = []\n",
    "decoder.fit(patterns_evs_ext1_ext2_1s, labels_ext1)\n",
    "perf_ext1_ext2_across_1s.append(decoder.score(patterns_evs_ext2_ext1_1s, labels_ext2))\n",
    "decoder.fit(patterns_evs_ext2_ext1_1s, labels_ext2)\n",
    "perf_ext1_ext2_across_1s.append(decoder.score(patterns_evs_ext1_ext2_1s, labels_ext1))\n",
    "\n",
    "\n",
    "\n",
    "perf_pre_ext1_across_1s = []\n",
    "decoder.fit(patterns_evs_pre_ext1_1s, labels_pre)\n",
    "perf_pre_ext1_across_1s.append(decoder.score(patterns_evs_ext1_pre_1s, labels_ext1))\n",
    "decoder.fit(patterns_evs_ext1_pre_1s, labels_ext1)\n",
    "perf_pre_ext1_across_1s.append(decoder.score(patterns_evs_pre_ext1_1s, labels_pre))\n",
    "\n",
    "perf_pre_ext2_across_1s = []\n",
    "decoder.fit(patterns_evs_pre_ext2_1s, labels_pre)\n",
    "perf_pre_ext2_across_1s.append(decoder.score(patterns_evs_ext2_pre_1s, labels_ext2))\n",
    "decoder.fit(patterns_evs_ext2_pre_1s, labels_ext2)\n",
    "perf_pre_ext2_across_1s.append(decoder.score(patterns_evs_pre_ext2_1s, labels_pre))\n",
    "\n",
    "perf_pre_renew_across_1s = []\n",
    "decoder.fit(patterns_evs_pre_renew_1s, labels_pre)\n",
    "perf_pre_renew_across_1s.append(decoder.score(patterns_evs_renew_pre_1s, labels_renew))\n",
    "decoder.fit(patterns_evs_renew_pre_1s, labels_renew)\n",
    "perf_pre_renew_across_1s.append(decoder.score(patterns_evs_pre_renew_1s, labels_pre))"
   ]
  },
  {
   "cell_type": "markdown",
   "metadata": {
    "collapsed": true
   },
   "source": [
    "perf_CS_pre_post_across_1s = []\n",
    "decoder.fit(patterns_CS_evs_pre_post_1s, labels_pre)\n",
    "perf_CS_pre_post_across_1s.append(decoder.score(patterns_CS_evs_post_pre_1s, labels_post))\n",
    "decoder.fit(patterns_CS_evs_post_pre_1s, labels_post)\n",
    "perf_CS_pre_post_across_1s.append(decoder.score(patterns_CS_evs_pre_post_1s, labels_pre))\n",
    "\n",
    "perf_CS_ext1_post_across_1s = []\n",
    "decoder.fit(patterns_CS_evs_ext1_post_1s, labels_ext1)\n",
    "perf_CS_ext1_post_across_1s.append(decoder.score(patterns_CS_evs_post_ext1_1s, labels_post))\n",
    "decoder.fit(patterns_CS_evs_post_ext1_1s, labels_post)\n",
    "perf_CS_ext1_post_across_1s.append(decoder.score(patterns_CS_evs_ext1_post_1s, labels_ext1))\n",
    "\n",
    "perf_CS_ext2_post_across_1s = []\n",
    "decoder.fit(patterns_CS_evs_ext2_post_1s, labels_ext2)\n",
    "perf_CS_ext2_post_across_1s.append(decoder.score(patterns_CS_evs_post_ext2_1s, labels_post))\n",
    "decoder.fit(patterns_CS_evs_post_ext2_1s, labels_post)\n",
    "perf_CS_ext2_post_across_1s.append(decoder.score(patterns_CS_evs_ext2_post_1s, labels_ext2))\n",
    "\n",
    "perf_CS_post_renew_across_1s = []\n",
    "decoder.fit(patterns_CS_evs_post_renew_1s, labels_post)\n",
    "perf_CS_post_renew_across_1s.append(decoder.score(patterns_CS_evs_renew_post_1s, labels_renew))\n",
    "decoder.fit(patterns_CS_evs_renew_post_1s, labels_renew)\n",
    "perf_CS_post_renew_across_1s.append(decoder.score(patterns_CS_evs_post_renew_1s, labels_post))\n",
    "\n",
    "perf_CS_ext1_renew_across_1s = []\n",
    "decoder.fit(patterns_CS_evs_ext1_renew_1s, labels_ext1)\n",
    "perf_CS_ext1_renew_across_1s.append(decoder.score(patterns_CS_evs_renew_ext1_1s, labels_renew))\n",
    "decoder.fit(patterns_CS_evs_renew_ext1_1s, labels_renew)\n",
    "perf_CS_ext1_renew_across_1s.append(decoder.score(patterns_CS_evs_ext1_renew_1s, labels_ext1))\n",
    "\n",
    "perf_CS_ext2_renew_across_1s = []\n",
    "decoder.fit(patterns_CS_evs_ext2_renew_1s, labels_ext2)\n",
    "perf_CS_ext2_renew_across_1s.append(decoder.score(patterns_CS_evs_renew_ext2_1s, labels_renew))\n",
    "decoder.fit(patterns_CS_evs_renew_ext2_1s, labels_renew)\n",
    "perf_CS_ext2_renew_across_1s.append(decoder.score(patterns_CS_evs_ext2_renew_1s, labels_ext2))\n",
    "\n",
    "perf_CS_ext1_ext2_across_1s = []\n",
    "decoder.fit(patterns_CS_evs_ext1_ext2_1s, labels_ext1)\n",
    "perf_CS_ext1_ext2_across_1s.append(decoder.score(patterns_CS_evs_ext2_ext1_1s, labels_ext2))\n",
    "decoder.fit(patterns_CS_evs_ext2_ext1_1s, labels_ext2)\n",
    "perf_CS_ext1_ext2_across_1s.append(decoder.score(patterns_CS_evs_ext1_ext2_1s, labels_ext1))\n",
    "\n",
    "\n",
    "\n",
    "perf_CS_pre_ext1_across_1s = []\n",
    "decoder.fit(patterns_CS_evs_pre_ext1_1s, labels_pre)\n",
    "perf_CS_pre_ext1_across_1s.append(decoder.score(patterns_CS_evs_ext1_pre_1s, labels_ext1))\n",
    "decoder.fit(patterns_CS_evs_ext1_pre_1s, labels_ext1)\n",
    "perf_CS_pre_ext1_across_1s.append(decoder.score(patterns_CS_evs_pre_ext1_1s, labels_pre))\n",
    "\n",
    "perf_CS_pre_ext2_across_1s = []\n",
    "decoder.fit(patterns_CS_evs_pre_ext2_1s, labels_pre)\n",
    "perf_CS_pre_ext2_across_1s.append(decoder.score(patterns_CS_evs_ext2_pre_1s, labels_ext2))\n",
    "decoder.fit(patterns_CS_evs_ext2_pre_1s, labels_ext2)\n",
    "perf_CS_pre_ext2_across_1s.append(decoder.score(patterns_CS_evs_pre_ext2_1s, labels_pre))\n",
    "\n",
    "perf_CS_pre_renew_across_1s = []\n",
    "decoder.fit(patterns_CS_evs_pre_renew_1s, labels_pre)\n",
    "perf_CS_pre_renew_across_1s.append(decoder.score(patterns_CS_evs_renew_pre_1s, labels_renew))\n",
    "decoder.fit(patterns_CS_evs_renew_pre_1s, labels_renew)\n",
    "perf_CS_pre_renew_across_1s.append(decoder.score(patterns_CS_evs_pre_renew_1s, labels_pre))"
   ]
  },
  {
   "cell_type": "markdown",
   "metadata": {
    "collapsed": true
   },
   "source": [
    "from matplotlib.lines import Line2D"
   ]
  },
  {
   "cell_type": "markdown",
   "metadata": {},
   "source": [
    "## uncomment the line that you'd like to plot below"
   ]
  },
  {
   "cell_type": "markdown",
   "metadata": {
    "collapsed": false
   },
   "source": [
    "wut = [np.concatenate([perf_pre_post_within, perf_post_pre_within]), perf_pre_post_across, 'pre vs post, 2-4s'] #pre VS post\n",
    "#wut = [np.concatenate([perf_ext1_post_within, perf_post_ext1_within]), perf_ext1_post_across, 'ext1 vs post, 2-4s'] #ext1 VS post\n",
    "#wut = [np.concatenate([perf_ext2_post_within, perf_post_ext2_within]), perf_ext2_post_across, 'ext2 vs post, 2-4s'] #ext2 vs post\n",
    "#wut = [np.concatenate([perf_post_renew_within, perf_renew_post_within]), perf_post_renew_across, 'post vs renew 2-4s'] #post vs renew\n",
    "#wut = [np.concatenate([perf_ext1_renew_within, perf_renew_ext1_within]), perf_ext1_renew_across, 'ext1 vs renew 2-4s'] #ext1 vs renew\n",
    "#wut = [np.concatenate([perf_ext2_renew_within, perf_renew_ext2_within]), perf_ext2_renew_across, 'ext2 vs renew 2-4s'] #ext2 vs renew\n",
    "#wut = [np.concatenate([perf_ext1_ext2_within, perf_ext2_ext1_within]), perf_ext1_ext2_across, 'ext1 vs ext2 2-4s'] #ext1 vs ext2\n",
    "#wut = [np.concatenate([perf_pre_ext1_within, perf_ext1_pre_within]), perf_pre_ext1_across, 'pre vs ext1 2-4s'] #pre vs ext1\n",
    "#wut = [np.concatenate([perf_pre_ext2_within, perf_ext2_pre_within]), perf_pre_ext2_across, 'pre vs ext2 2-4s'] #pre vs ext2\n",
    "#wut = [np.concatenate([perf_pre_renew_within, perf_renew_pre_within]), perf_pre_renew_across, 'pre vs renew 2-4s'] #pre vs renew\n",
    "\n",
    "#wut = [np.concatenate([perf_pre_post_within_1s, perf_post_pre_within_1s]), perf_pre_post_across_1s, 'pre vs post, 3-4s'] #pre vs post\n",
    "#wut = [np.concatenate([perf_ext1_post_within_1s, perf_post_ext1_within_1s]), perf_ext1_post_across_1s, 'ext1 vs post, 3-4s'] #ext1 vs post\n",
    "#wut = [np.concatenate([perf_ext2_post_within_1s, perf_post_ext2_within_1s]), perf_ext2_post_across_1s, 'ext2 vs post 3-4s'] #ext2 vs post\n",
    "#wut = [np.concatenate([perf_post_renew_within_1s, perf_renew_post_within_1s]), perf_post_renew_across_1s, 'post vs renew 3-4s'] #post vs renew\n",
    "#wut = [np.concatenate([perf_ext2_renew_within_1s, perf_renew_ext2_within_1s]), perf_ext2_renew_across_1s, 'ext2 vs renew 3-4s'] #ext2 vs renew\n",
    "#wut = [np.concatenate([perf_pre_ext1_within_1s, perf_ext1_pre_within_1s]), perf_pre_ext1_across_1s, 'pre vs ext1 3-4s'] #pre vs ext1\n",
    "#wut = [np.concatenate([perf_pre_ext2_within_1s, perf_ext2_pre_within_1s]), perf_pre_ext2_across_1s, 'pre vs ext2 3-4s'] #pre vs ext2\n",
    "\n",
    "#wut = [np.concatenate([perf_CS_pre_post_within, perf_CS_post_pre_within]), perf_CS_pre_post_across, 'pre vs post, 0-2s'] #pre VS post\n",
    "#wut = [np.concatenate([perf_CS_ext1_post_within, perf_CS_post_ext1_within]), perf_CS_ext1_post_across, 'ext1 vs post, 0-2s'] #ext1 VS post\n",
    "#wut = [np.concatenate([perf_CS_ext2_post_within, perf_CS_post_ext2_within]), perf_CS_ext2_post_across, 'ext2 vs post, 0-2s'] #ext2 vs post\n",
    "#wut = [np.concatenate([perf_CS_post_renew_within, perf_CS_renew_post_within]), perf_CS_post_renew_across, 'post vs renew 0-2s'] #post vs renew\n",
    "#wut = [np.concatenate([perf_CS_ext2_renew_within, perf_CS_renew_ext2_within]), perf_CS_ext2_renew_across, 'ext2 vs renew 0-2s'] #ext2 vs renew\n",
    "#wut = [np.concatenate([perf_CS_pre_ext1_within, perf_CS_ext1_pre_within]), perf_CS_pre_ext1_across, 'pre vs ext1 0-2s'] #pre vs ext1\n",
    "#wut = [np.concatenate([perf_CS_pre_ext2_within, perf_CS_ext2_pre_within]), perf_CS_pre_ext2_across, 'pre vs ext2 0-2s'] #pre vs ext2\n",
    "\n",
    "#wut = [np.concatenate([perf_CS_pre_post_within_1s, perf_CS_post_pre_within_1s]), perf_CS_pre_post_across_1s, 'pre vs post, 1-2s'] #pre vs post\n",
    "#wut = [np.concatenate([perf_CS_ext1_post_within_1s, perf_CS_post_ext1_within_1s]), perf_CS_ext1_post_across_1s, 'ext1 vs post, 1-2s'] #ext1 vs post\n",
    "#wut = [np.concatenate([perf_CS_ext2_post_within_1s, perf_CS_post_ext2_within_1s]), perf_CS_ext2_post_across_1s, 'ext2 vs post 1-2s'] #ext2 vs post\n",
    "#wut = [np.concatenate([perf_CS_post_renew_within_1s, perf_CS_renew_post_within_1s]), perf_CS_post_renew_across_1s, 'post vs renew 1-2s'] #post vs renew\n",
    "#wut = [np.concatenate([perf_CS_ext2_renew_within_1s, perf_CS_renew_ext2_within_1s]), perf_CS_ext2_renew_across_1s, 'ext2 vs renew 1-2s'] #ext2 vs renew\n",
    "#wut = [np.concatenate([perf_CS_pre_ext1_within_1s, perf_CS_ext1_pre_within_1s]), perf_CS_pre_ext1_across_1s, 'pre vs ext1 1-2s'] #pre vs ext1\n",
    "#wut = [np.concatenate([perf_CS_pre_ext2_within_1s, perf_CS_ext2_pre_within_1s]), perf_CS_pre_ext2_across_1s, 'pre vs ext2 1-2s'] #pre vs ext2\n",
    "\n",
    "what_to_plot = wut"
   ]
  },
  {
   "cell_type": "markdown",
   "metadata": {
    "collapsed": false
   },
   "source": [
    "fig, ax = pl.subplots(1, 1, figsize=(1, 2))\n",
    "\n",
    "values = [what_to_plot[0]]  #within day\n",
    "pt.plot_bars(np.r_[values]*100, xpos=np.arange(len(values))*3-0.5, colors='0.7', ax=ax, stderr=True)\n",
    "\n",
    "values = [what_to_plot[1]]  #cross day\n",
    "pt.plot_bars(np.r_[values]*100, xpos=np.arange(len(values))*3+0.5, colors='k', ax=ax, stderr=True)\n",
    "\n",
    "ax.set_xticks(np.arange(1))\n",
    "pt.nicer_plot(ax)\n",
    "ax.spines['bottom'].set_bounds(-1.2, 1.2)\n",
    "ax.set_xticklabels(['CS+ vs CS-',])\n",
    "ax.hlines(50, -1.2, 1.2, linestyles='dotted', lw=1)\n",
    "ax.legend((Line2D('', '', color='0.7', lw=1),\n",
    "           Line2D('', '', color='k', lw=1),\n",
    "           Line2D('', '', color='k', linestyle='dotted', lw=1)),\n",
    "          ['Same day', 'Across days', 'Chance'],\n",
    "          fontsize=5, loc=(1.01, 0))\n",
    "\n",
    "ax.set_ylabel('Decoding accuracy\\n' + eval(\"'%s'\"%(what_to_plot[2])))\n",
    "\n",
    "ax.set_ylim(0, 100)\n",
    "\n",
    "# pl.savefig('decoding_prepost_all_odors', format=\"pdf\", bbox_inches=\"tight\")"
   ]
  },
  {
   "cell_type": "code",
   "execution_count": 29,
   "metadata": {
    "collapsed": false
   },
   "outputs": [
    {
     "name": "stdout",
     "output_type": "stream",
     "text": [
      "Could not store variable 'IPython'. Skipping...\n",
      "Could not store variable 'pickle'. Skipping...\n",
      "Could not store variable 'h5py'. Skipping...\n",
      "Could not store variable 'di'. Skipping...\n",
      "Could not store variable 'pt'. Skipping...\n",
      "Could not store variable 'pl'. Skipping...\n",
      "Could not store variable 'ip'. Skipping...\n",
      "Could not store variable 'sys'. Skipping...\n",
      "Could not store variable 'os'. Skipping...\n",
      "Could not store variable 'ut'. Skipping...\n",
      "Could not store variable 'np'. Skipping...\n"
     ]
    }
   ],
   "source": [
    "save_workspace(db);"
   ]
  },
  {
   "cell_type": "code",
   "execution_count": 30,
   "metadata": {
    "collapsed": false
   },
   "outputs": [
    {
     "data": {
      "text/plain": [
       "{'post_pre': array([ 1, 13,  2, 39, 30, 56, 29, 15, 22, 16, 32, 21, 26, 24, 55, 27, 17,\n",
       "        14, 48, 35, 52, 19, 59, 58, 49, 57]),\n",
       " 'pre_post': array([ 1,  2,  3, 11, 13, 14, 15, 17, 18, 19, 21, 22, 31, 32, 33, 34, 35,\n",
       "        38, 40, 41, 42, 44, 45, 46, 47, 50])}"
      ]
     },
     "execution_count": 30,
     "metadata": {},
     "output_type": "execute_result"
    }
   ],
   "source": [
    "cellregs_preVSpost"
   ]
  },
  {
   "cell_type": "code",
   "execution_count": null,
   "metadata": {
    "collapsed": true
   },
   "outputs": [],
   "source": []
  }
 ],
 "metadata": {
  "anaconda-cloud": {},
  "kernelspec": {
   "display_name": "Python [default]",
   "language": "python",
   "name": "python2"
  },
  "language_info": {
   "codemirror_mode": {
    "name": "ipython",
    "version": 2
   },
   "file_extension": ".py",
   "mimetype": "text/x-python",
   "name": "python",
   "nbconvert_exporter": "python",
   "pygments_lexer": "ipython2",
   "version": "2.7.12"
  }
 },
 "nbformat": 4,
 "nbformat_minor": 2
}
