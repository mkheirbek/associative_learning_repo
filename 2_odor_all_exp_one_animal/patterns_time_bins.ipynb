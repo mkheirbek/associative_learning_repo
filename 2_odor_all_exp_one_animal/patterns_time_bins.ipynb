{
 "cells": [
  {
   "cell_type": "code",
   "execution_count": 1,
   "metadata": {
    "collapsed": false
   },
   "outputs": [
    {
     "data": {
      "text/html": [
       "<script>jQuery(function() {if (jQuery(\"body.notebook_app\").length == 0) { jQuery(\".input_area\").toggle(); jQuery(\".prompt\").toggle();}});</script>"
      ]
     },
     "metadata": {},
     "output_type": "display_data"
    },
    {
     "data": {
      "text/html": [
       "<button onclick=\"jQuery('.input_area').toggle(); jQuery('.prompt').toggle();\">Toggle code</button>"
      ]
     },
     "metadata": {},
     "output_type": "display_data"
    }
   ],
   "source": [
    "from IPython.display import display\n",
    "from IPython.display import HTML\n",
    "import IPython.core.display as di # Example: di.display_html('<h3>%s:</h3>' % str, raw=True)\n",
    "\n",
    "# This line will hide code by default when the notebook is exported as HTML\n",
    "di.display_html('<script>jQuery(function() {if (jQuery(\"body.notebook_app\").length == 0) { jQuery(\".input_area\").toggle(); jQuery(\".prompt\").toggle();}});</script>', raw=True)\n",
    "\n",
    "# This line will add a button to toggle visibility of code blocks, for use with the HTML export version\n",
    "di.display_html('''<button onclick=\"jQuery('.input_area').toggle(); jQuery('.prompt').toggle();\">Toggle code</button>''', raw=True)\n"
   ]
  },
  {
   "cell_type": "code",
   "execution_count": 2,
   "metadata": {
    "collapsed": true
   },
   "outputs": [],
   "source": [
    "# all modules necessary for this nb\n",
    "import os\n",
    "import sys\n",
    "import pickle\n",
    "\n",
    "import numpy as np\n",
    "import pylab as pl\n",
    "\n",
    "# setting parameters for default matplotlib plots\n",
    "%matplotlib inline"
   ]
  },
  {
   "cell_type": "code",
   "execution_count": 3,
   "metadata": {
    "collapsed": true
   },
   "outputs": [],
   "source": [
    "pl.style.use('fabiostyle')\n",
    "# needs to find the library of functions\n",
    "sys.path.append('../../../code/')  # to be replaced!\n",
    "\n",
    "import utils as ut\n",
    "import plots as pt"
   ]
  },
  {
   "cell_type": "code",
   "execution_count": 4,
   "metadata": {
    "collapsed": true
   },
   "outputs": [],
   "source": [
    "NOTEBOOK_NAME = 'patterns_time_bins'"
   ]
  },
  {
   "cell_type": "code",
   "execution_count": 5,
   "metadata": {
    "collapsed": false
   },
   "outputs": [],
   "source": [
    "from pickleshare import PickleShareDB\n",
    "\n",
    "autorestore_folder = os.path.join(os.getcwd(), 'autorestore', NOTEBOOK_NAME)\n",
    "db = PickleShareDB(autorestore_folder)\n",
    "import sys\n",
    "from workspace import *\n",
    "import IPython\n",
    "ip = IPython.get_ipython()\n",
    "\n",
    "# this will restore all the saved variables. ignore the errors listed.\n",
    "#load_workspace(ip, db)\n",
    "\n",
    "# use `save_worspace(db)` to save variables at the end"
   ]
  },
  {
   "cell_type": "code",
   "execution_count": 6,
   "metadata": {
    "collapsed": true
   },
   "outputs": [],
   "source": [
    "sessions = 'expo','pre','d2','post','ext1','ext2','renew'"
   ]
  },
  {
   "cell_type": "code",
   "execution_count": 7,
   "metadata": {
    "collapsed": false
   },
   "outputs": [],
   "source": [
    "vars_expo = {}\n",
    "folder = '../2_odor_expo/notebooks/autorestore/preprocessing'\n",
    "for var in ('time_ax', 'events', 'cycles', 'is_CSmt', 'is_rewardt',\n",
    "            'CYCLE_START', 'CS_DURATION', 'DELAY'):\n",
    "    vars_expo.update({var:ut.load_variable(var, folder=folder)})\n",
    "    \n",
    "for sess in sessions[1:]:\n",
    "    try:\n",
    "        exec(\"vars_%s = {}\"%sess)\n",
    "        folder = '../%s/notebooks/autorestore/preprocessing'%sess\n",
    "        for var in ('time_ax', 'events', 'cycles', 'is_CSmt', 'is_rewardt',\n",
    "                    'CYCLE_START', 'CS_DURATION', 'DELAY'):\n",
    "            exec(\"vars_%s.update({var:ut.load_variable(var, folder=folder)})\"%sess)\n",
    "    except:\n",
    "        print 'nope %s'%sess"
   ]
  },
  {
   "cell_type": "code",
   "execution_count": 8,
   "metadata": {
    "collapsed": true
   },
   "outputs": [],
   "source": [
    "import h5py"
   ]
  },
  {
   "cell_type": "code",
   "execution_count": 9,
   "metadata": {
    "collapsed": false
   },
   "outputs": [],
   "source": [
    "try:\n",
    "    filepath = '../data/cellreg_preVSpost.mat'\n",
    "    arrays = {}\n",
    "    f = h5py.File(filepath)\n",
    "    cellreg_map = np.array(f['cell_registered_struct']['cell_to_index_map'])-1\n",
    "    keep = np.prod(cellreg_map, 0)>0\n",
    "    cellregs_preVSpost = dict(zip(['pre_post', 'post_pre'], cellreg_map.T[keep].T.astype(int)))\n",
    "except:\n",
    "    print 'not there'"
   ]
  },
  {
   "cell_type": "code",
   "execution_count": 10,
   "metadata": {
    "collapsed": false
   },
   "outputs": [],
   "source": [
    "try:\n",
    "    filepath = '../data/cellreg_preVSd2.mat'\n",
    "    arrays = {}\n",
    "    f = h5py.File(filepath)\n",
    "    cellreg_map = np.array(f['cell_registered_struct']['cell_to_index_map'])-1\n",
    "    keep = np.prod(cellreg_map, 0)>0\n",
    "    cellregs_preVSd2 = dict(zip(['pre_d2', 'd2_pre'], cellreg_map.T[keep].T.astype(int)))\n",
    "except:\n",
    "    print 'not there'"
   ]
  },
  {
   "cell_type": "code",
   "execution_count": 11,
   "metadata": {
    "collapsed": true
   },
   "outputs": [],
   "source": [
    "try:\n",
    "    filepath = '../data/cellreg_preVSext1.mat'\n",
    "    arrays = {}\n",
    "    f = h5py.File(filepath)\n",
    "    cellreg_map = np.array(f['cell_registered_struct']['cell_to_index_map'])-1\n",
    "    keep = np.prod(cellreg_map, 0)>0\n",
    "    cellregs_preVSext1 = dict(zip(['pre_ext1', 'ext1_pre'], cellreg_map.T[keep].T.astype(int)))\n",
    "except:\n",
    "    print 'not there'"
   ]
  },
  {
   "cell_type": "code",
   "execution_count": 12,
   "metadata": {
    "collapsed": true
   },
   "outputs": [],
   "source": [
    "try:\n",
    "    filepath = '../data/cellreg_preVSext2.mat'\n",
    "    arrays = {}\n",
    "    f = h5py.File(filepath)\n",
    "    cellreg_map = np.array(f['cell_registered_struct']['cell_to_index_map'])-1\n",
    "    keep = np.prod(cellreg_map, 0)>0\n",
    "    cellregs_preVSext2 = dict(zip(['pre_ext2', 'ext2_pre'], cellreg_map.T[keep].T.astype(int)))\n",
    "except:\n",
    "    print 'not there'"
   ]
  },
  {
   "cell_type": "code",
   "execution_count": 13,
   "metadata": {
    "collapsed": true
   },
   "outputs": [],
   "source": [
    "try:\n",
    "    filepath = '../data/cellreg_preVSrenew.mat'\n",
    "    arrays = {}\n",
    "    f = h5py.File(filepath)\n",
    "    cellreg_map = np.array(f['cell_registered_struct']['cell_to_index_map'])-1\n",
    "    keep = np.prod(cellreg_map, 0)>0\n",
    "    cellregs_preVSrenew = dict(zip(['pre_renew', 'renew_pre'], cellreg_map.T[keep].T.astype(int)))\n",
    "except:\n",
    "    print 'not there'"
   ]
  },
  {
   "cell_type": "code",
   "execution_count": 14,
   "metadata": {
    "collapsed": false
   },
   "outputs": [],
   "source": [
    "try:\n",
    "    filepath = '../data/cellreg_d2VSpost.mat'\n",
    "    arrays = {}\n",
    "    f = h5py.File(filepath)\n",
    "    cellreg_map = np.array(f['cell_registered_struct']['cell_to_index_map'])-1\n",
    "    keep = np.prod(cellreg_map, 0)>0\n",
    "    cellregs_d2VSpost = dict(zip(['d2_post', 'post_d2'], cellreg_map.T[keep].T.astype(int)))\n",
    "except:\n",
    "    print 'not there'"
   ]
  },
  {
   "cell_type": "code",
   "execution_count": 15,
   "metadata": {
    "collapsed": false
   },
   "outputs": [],
   "source": [
    "try:\n",
    "    filepath = '../data/cellreg_d2VSext1.mat'\n",
    "    arrays = {}\n",
    "    f = h5py.File(filepath)\n",
    "    cellreg_map = np.array(f['cell_registered_struct']['cell_to_index_map'])-1\n",
    "    keep = np.prod(cellreg_map, 0)>0\n",
    "    cellregs_d2VSext1 = dict(zip(['d2_ext1', 'ext1_d2'], cellreg_map.T[keep].T.astype(int)))\n",
    "except:\n",
    "    print 'not there'"
   ]
  },
  {
   "cell_type": "code",
   "execution_count": 16,
   "metadata": {
    "collapsed": false
   },
   "outputs": [],
   "source": [
    "try:\n",
    "    filepath = '../data/cellreg_d2VSext2.mat'\n",
    "    arrays = {}\n",
    "    f = h5py.File(filepath)\n",
    "    cellreg_map = np.array(f['cell_registered_struct']['cell_to_index_map'])-1\n",
    "    keep = np.prod(cellreg_map, 0)>0\n",
    "    cellregs_d2VSext2 = dict(zip(['d2_ext2', 'ext2_d2'], cellreg_map.T[keep].T.astype(int)))\n",
    "except:\n",
    "    print 'not there'"
   ]
  },
  {
   "cell_type": "code",
   "execution_count": 17,
   "metadata": {
    "collapsed": false
   },
   "outputs": [],
   "source": [
    "try:\n",
    "    filepath = '../data/cellreg_d2VSrenew.mat'\n",
    "    arrays = {}\n",
    "    f = h5py.File(filepath)\n",
    "    cellreg_map = np.array(f['cell_registered_struct']['cell_to_index_map'])-1\n",
    "    keep = np.prod(cellreg_map, 0)>0\n",
    "    cellregs_d2VSrenew = dict(zip(['d2_renew', 'renew_d2'], cellreg_map.T[keep].T.astype(int)))\n",
    "except:\n",
    "    print 'not there'"
   ]
  },
  {
   "cell_type": "code",
   "execution_count": 18,
   "metadata": {
    "collapsed": true
   },
   "outputs": [],
   "source": [
    "try:\n",
    "    filepath = '../data/cellreg_postVSext1.mat'\n",
    "    arrays = {}\n",
    "    f = h5py.File(filepath)\n",
    "    cellreg_map = np.array(f['cell_registered_struct']['cell_to_index_map'])-1\n",
    "    keep = np.prod(cellreg_map, 0)>0\n",
    "    cellregs_postVSext1 = dict(zip(['post_ext1', 'ext1_post'], cellreg_map.T[keep].T.astype(int)))\n",
    "except:\n",
    "    print 'not there'"
   ]
  },
  {
   "cell_type": "code",
   "execution_count": 19,
   "metadata": {
    "collapsed": true
   },
   "outputs": [],
   "source": [
    "try:\n",
    "    filepath = '../data/cellreg_postVSext2.mat'\n",
    "    arrays = {}\n",
    "    f = h5py.File(filepath)\n",
    "    cellreg_map = np.array(f['cell_registered_struct']['cell_to_index_map'])-1\n",
    "    keep = np.prod(cellreg_map, 0)>0\n",
    "    cellregs_postVSext2 = dict(zip(['post_ext2', 'ext2_post'], cellreg_map.T[keep].T.astype(int)))\n",
    "except:\n",
    "    print 'not there'"
   ]
  },
  {
   "cell_type": "code",
   "execution_count": 20,
   "metadata": {
    "collapsed": true
   },
   "outputs": [],
   "source": [
    "try:\n",
    "    filepath = '../data/cellreg_postVSrenew.mat'\n",
    "    arrays = {}\n",
    "    f = h5py.File(filepath)\n",
    "    cellreg_map = np.array(f['cell_registered_struct']['cell_to_index_map'])-1\n",
    "    keep = np.prod(cellreg_map, 0)>0\n",
    "    cellregs_postVSrenew = dict(zip(['post_renew', 'renew_post'], cellreg_map.T[keep].T.astype(int)))\n",
    "except:\n",
    "    print 'not there'"
   ]
  },
  {
   "cell_type": "code",
   "execution_count": 21,
   "metadata": {
    "collapsed": true
   },
   "outputs": [],
   "source": [
    "try:\n",
    "    filepath = '../data/cellreg_ext1VSext2.mat'\n",
    "    arrays = {}\n",
    "    f = h5py.File(filepath)\n",
    "    cellreg_map = np.array(f['cell_registered_struct']['cell_to_index_map'])-1\n",
    "    keep = np.prod(cellreg_map, 0)>0\n",
    "    cellregs_ext1VSext2 = dict(zip(['ext1_ext2', 'ext2_ext1'], cellreg_map.T[keep].T.astype(int)))\n",
    "except:\n",
    "    print 'not there'"
   ]
  },
  {
   "cell_type": "code",
   "execution_count": 22,
   "metadata": {
    "collapsed": true
   },
   "outputs": [],
   "source": [
    "try:\n",
    "    filepath = '../data/cellreg_ext1VSrenew.mat'\n",
    "    arrays = {}\n",
    "    f = h5py.File(filepath)\n",
    "    cellreg_map = np.array(f['cell_registered_struct']['cell_to_index_map'])-1\n",
    "    keep = np.prod(cellreg_map, 0)>0\n",
    "    cellregs_ext1VSrenew = dict(zip(['ext1_renew', 'renew_ext1'], cellreg_map.T[keep].T.astype(int)))\n",
    "except:\n",
    "    print 'not there'"
   ]
  },
  {
   "cell_type": "code",
   "execution_count": 23,
   "metadata": {
    "collapsed": true
   },
   "outputs": [],
   "source": [
    "try:\n",
    "    filepath = '../data/cellreg_ext2VSrenew.mat'\n",
    "    arrays = {}\n",
    "    f = h5py.File(filepath)\n",
    "    cellreg_map = np.array(f['cell_registered_struct']['cell_to_index_map'])-1\n",
    "    keep = np.prod(cellreg_map, 0)>0\n",
    "    cellregs_ext2VSrenew = dict(zip(['ext2_renew', 'renew_ext2'], cellreg_map.T[keep].T.astype(int)))\n",
    "except:\n",
    "    print 'not there'"
   ]
  },
  {
   "cell_type": "code",
   "execution_count": 24,
   "metadata": {
    "collapsed": true
   },
   "outputs": [],
   "source": [
    "#0.5sec time bins\n",
    "delta_t0 = 0.5\n",
    "t_start0 = -4.5  # sec\n",
    "t_stop0 = 10.5  # sec\n",
    "\n",
    "\n",
    "for sess in sessions:\n",
    "    try:\n",
    "        exec(\"patterns_evs_05s_%s = np.r_[[ut.extract_activity(vars_%s['time_ax'], vars_%s['events'], vars_%s['cycles'],\\\n",
    "                                       vars_%s['CYCLE_START'],i*delta_t0, (i+1)*delta_t0, offset=t_start0)\\\n",
    "                                       for i in xrange(int((t_stop0-t_start0)/delta_t0))]]\"%(sess,sess,sess,sess,sess))\n",
    "    except:\n",
    "        print 'nope %s'%sess"
   ]
  },
  {
   "cell_type": "code",
   "execution_count": 25,
   "metadata": {
    "collapsed": false
   },
   "outputs": [],
   "source": [
    "#1sec time bins\n",
    "delta_t0 = 1\n",
    "t_start0 = -5  # sec\n",
    "t_stop0 = 11  # sec\n",
    "\n",
    "for sess in sessions:\n",
    "    try:\n",
    "        exec(\"patterns_evs_1s_%s = np.r_[[ut.extract_activity(vars_%s['time_ax'], vars_%s['events'], vars_%s['cycles'],\\\n",
    "                                       vars_%s['CYCLE_START'],i*delta_t0, (i+1)*delta_t0, offset=t_start0)\\\n",
    "                                       for i in xrange(int((t_stop0-t_start0)/delta_t0))]]\"%(sess,sess,sess,sess,sess))\n",
    "    except:\n",
    "        print 'nope %s'%sess"
   ]
  },
  {
   "cell_type": "code",
   "execution_count": 26,
   "metadata": {
    "collapsed": true
   },
   "outputs": [],
   "source": [
    "#2sec time bins\n",
    "delta_t0 = 2\n",
    "t_start0 = -4  # sec\n",
    "t_stop0 = 10  # sec\n",
    "\n",
    "for sess in sessions:\n",
    "    try:\n",
    "        exec(\"patterns_evs_2s_%s = np.r_[[ut.extract_activity(vars_%s['time_ax'], vars_%s['events'], vars_%s['cycles'],\\\n",
    "                                       vars_%s['CYCLE_START'],i*delta_t0, (i+1)*delta_t0, offset=t_start0)\\\n",
    "                                       for i in xrange(int((t_stop0-t_start0)/delta_t0))]]\"%(sess,sess,sess,sess,sess))\n",
    "    except:\n",
    "        print 'nope %s'%sess"
   ]
  },
  {
   "cell_type": "code",
   "execution_count": 27,
   "metadata": {
    "collapsed": true
   },
   "outputs": [],
   "source": [
    "labels_expo = (np.r_[vars_expo['is_rewardt']] * 1)\n",
    "labels_pre = (np.r_[vars_pre['is_rewardt']] * 1)\n",
    "labels_d2 = (np.r_[vars_d2['is_rewardt']] * 1)\n",
    "labels_post = (np.r_[vars_post['is_rewardt']] * 1)\n",
    "labels_ext1 = (np.r_[vars_ext1['is_rewardt']] * 1)\n",
    "labels_ext2 = (np.r_[vars_ext2['is_rewardt']] * 1)\n",
    "labels_renew = (np.r_[vars_renew['is_rewardt']] * 1)"
   ]
  },
  {
   "cell_type": "code",
   "execution_count": 28,
   "metadata": {
    "collapsed": false
   },
   "outputs": [],
   "source": [
    "#extract patterns using only registered cells\n",
    "for tb in ['05s','1s','2s']:\n",
    "    try:\n",
    "        exec(\"patterns_evs_%s_pre_post = patterns_evs_%s_pre[:, :, cellregs_preVSpost['pre_post']]\"%(tb,tb))\n",
    "        exec(\"patterns_evs_%s_post_pre = patterns_evs_%s_post[:, :, cellregs_preVSpost['post_pre']]\"%(tb,tb))\n",
    "    except:\n",
    "        print 'nope %s'%tb\n",
    "    try:\n",
    "        exec(\"patterns_evs_%s_pre_d2 = patterns_evs_%s_pre[:, :, cellregs_preVSd2['pre_d2']]\"%(tb,tb))\n",
    "        exec(\"patterns_evs_%s_d2_pre = patterns_evs_%s_d2[:, :, cellregs_preVSd2['d2_pre']]\"%(tb,tb))\n",
    "    except:\n",
    "        print 'nope %s'%tb\n",
    "    try:\n",
    "        exec(\"patterns_evs_%s_d2_post = patterns_evs_%s_d2[:, :, cellregs_d2VSpost['d2_post']]\"%(tb,tb))\n",
    "        exec(\"patterns_evs_%s_post_d2 = patterns_evs_%s_post[:, :, cellregs_d2VSpost['post_d2']]\"%(tb,tb))\n",
    "    except:\n",
    "        print 'nope %s'%tb\n",
    "    try:\n",
    "        exec(\"patterns_evs_%s_d2_ext1 = patterns_evs_%s_d2[:, :, cellregs_d2VSext1['d2_ext1']]\"%(tb,tb))\n",
    "        exec(\"patterns_evs_%s_ext1_d2 = patterns_evs_%s_ext1[:, :, cellregs_d2VSext1['ext1_d2']]\"%(tb,tb))\n",
    "    except:\n",
    "        print 'nope %s'%tb\n",
    "    try:\n",
    "        exec(\"patterns_evs_%s_d2_ext2 = patterns_evs_%s_d2[:, :, cellregs_d2VSext2['d2_ext2']]\"%(tb,tb))\n",
    "        exec(\"patterns_evs_%s_ext2_d2 = patterns_evs_%s_ext2[:, :, cellregs_d2VSext2['ext2_d2']]\"%(tb,tb))\n",
    "    except:\n",
    "        print 'nope %s'%tb\n",
    "    try:\n",
    "        exec(\"patterns_evs_%s_d2_renew = patterns_evs_%s_d2[:, :, cellregs_d2VSrenew['d2_renew']]\"%(tb,tb))\n",
    "        exec(\"patterns_evs_%s_renew_d2 = patterns_evs_%s_renew[:, :, cellregs_d2VSrenew['renew_d2']]\"%(tb,tb))\n",
    "    except:\n",
    "        print 'nope %s'%tb\n",
    "    try:\n",
    "        exec(\"patterns_evs_%s_post_renew = patterns_evs_%s_post[:, :, cellregs_postVSrenew['post_renew']]\"%(tb,tb))\n",
    "        exec(\"patterns_evs_%s_renew_post = patterns_evs_%s_renew[:, :, cellregs_postVSrenew['renew_post']]\"%(tb,tb))\n",
    "    except:\n",
    "        print 'nope %s'%tb\n",
    "    try:\n",
    "        exec(\"patterns_evs_%s_ext1_post = patterns_evs_%s_ext1[:, :, cellregs_postVSext1['ext1_post']]\"%(tb,tb))\n",
    "        exec(\"patterns_evs_%s_post_ext1 = patterns_evs_%s_post[:, :, cellregs_postVSext1['post_ext1']]\"%(tb,tb))\n",
    "    except:\n",
    "        print 'nope %s'%tb\n",
    "    try:\n",
    "        exec(\"patterns_evs_%s_ext2_post = patterns_evs_%s_ext2[:, :, cellregs_postVSext2['ext2_post']]\"%(tb,tb))\n",
    "        exec(\"patterns_evs_%s_post_ext2 = patterns_evs_%s_post[:, :, cellregs_postVSext2['post_ext2']]\"%(tb,tb))\n",
    "    except:\n",
    "        print 'nope %s'%tb\n",
    "    try:\n",
    "        exec(\"patterns_evs_%s_renew_ext1 = patterns_evs_%s_renew[:, :, cellregs_ext1VSrenew['renew_ext1']]\"%(tb,tb))\n",
    "        exec(\"patterns_evs_%s_ext1_renew = patterns_evs_%s_ext1[:, :, cellregs_ext1VSrenew['ext1_renew']]\"%(tb,tb))\n",
    "    except:\n",
    "        print 'nope %s'%tb\n",
    "    try:\n",
    "        exec(\"patterns_evs_%s_renew_ext2 = patterns_evs_%s_renew[:, :, cellregs_ext2VSrenew['renew_ext2']]\"%(tb,tb))\n",
    "        exec(\"patterns_evs_%s_ext2_renew = patterns_evs_%s_ext2[:, :, cellregs_ext2VSrenew['ext2_renew']]\"%(tb,tb))\n",
    "    except:\n",
    "        print 'nope %s'%tb\n",
    "    try:\n",
    "        exec(\"patterns_evs_%s_ext1_ext2 = patterns_evs_%s_ext1[:, :, cellregs_ext1VSext2['ext1_ext2']]\"%(tb,tb))\n",
    "        exec(\"patterns_evs_%s_ext2_ext1 = patterns_evs_%s_ext2[:, :, cellregs_ext1VSext2['ext2_ext1']]\"%(tb,tb))\n",
    "    except:\n",
    "        print 'nope %s'%tb\n",
    "    try:    \n",
    "        exec(\"patterns_evs_%s_ext1_pre = patterns_evs_%s_ext1[:, :, cellregs_preVSext1['ext1_pre']]\"%(tb,tb))\n",
    "        exec(\"patterns_evs_%s_pre_ext1 = patterns_evs_%s_pre[:, :, cellregs_preVSext1['pre_ext1']]\"%(tb,tb))\n",
    "    except:\n",
    "        print 'nope %s'%tb\n",
    "    try:    \n",
    "        exec(\"patterns_evs_%s_ext2_pre = patterns_evs_%s_ext2[:, :, cellregs_preVSext2['ext2_pre']]\"%(tb,tb))\n",
    "        exec(\"patterns_evs_%s_pre_ext2 = patterns_evs_%s_pre[:, :, cellregs_preVSext2['pre_ext2']]\"%(tb,tb))\n",
    "    except:\n",
    "        print 'nope %s'%tb\n",
    "    try:    \n",
    "        exec(\"patterns_evs_%s_renew_pre = patterns_evs_%s_renew[:, :, cellregs_preVSrenew['renew_pre']]\"%(tb,tb))\n",
    "        exec(\"patterns_evs_%s_pre_renew = patterns_evs_%s_pre[:, :, cellregs_preVSrenew['pre_renew']]\"%(tb,tb))\n",
    "    except:\n",
    "        print 'nope %s'%tb"
   ]
  },
  {
   "cell_type": "markdown",
   "metadata": {},
   "source": [
    "# commenting out everything below. Only care about extracting patterns and labels in this nb"
   ]
  },
  {
   "cell_type": "markdown",
   "metadata": {},
   "source": [
    "from sklearn.naive_bayes import MultinomialNB\n",
    "from sklearn.svm import LinearSVC\n",
    "\n",
    "from sklearn.model_selection import cross_val_score, StratifiedKFold, LeaveOneOut"
   ]
  },
  {
   "cell_type": "markdown",
   "metadata": {},
   "source": [
    "decoder = LinearSVC()\n",
    "# decoder = MultinomialNB()\n",
    "cv = LeaveOneOut() #StratifiedKFold(n_splits=30)"
   ]
  },
  {
   "cell_type": "markdown",
   "metadata": {},
   "source": [
    "for x in range(len(patterns_evs_2s_pre)):\n",
    "    print x,\n",
    "    exec('perf_2s_pre_post_within_tb_%s = cross_val_score(decoder, patterns_evs_2s_pre_post[x], labels_pre, cv=cv)'%(x))\n",
    "    exec('perf_2s_post_pre_within_tb_%s = cross_val_score(decoder, patterns_evs_2s_post_pre[x], labels_post, cv=cv)'%(x))\n",
    "    exec('perf_2s_post_renew_within_tb_%s = cross_val_score(decoder, patterns_evs_2s_post_renew[x], labels_post, cv=cv)'%(x))\n",
    "    exec('perf_2s_renew_post_within_tb_%s = cross_val_score(decoder, patterns_evs_2s_renew_post[x], labels_renew, cv=cv)'%(x))\n",
    "    exec('perf_2s_ext1_post_within_tb_%s = cross_val_score(decoder, patterns_evs_2s_ext1_post[x], labels_ext1, cv=cv)'%(x))\n",
    "    exec('perf_2s_post_ext1_within_tb_%s = cross_val_score(decoder, patterns_evs_2s_post_ext1[x], labels_post, cv=cv)'%(x))\n",
    "    exec('perf_2s_ext2_post_within_tb_%s = cross_val_score(decoder, patterns_evs_2s_ext2_post[x], labels_ext2, cv=cv)'%(x))\n",
    "    exec('perf_2s_post_ext2_within_tb_%s = cross_val_score(decoder, patterns_evs_2s_post_ext2[x], labels_post, cv=cv)'%(x))\n",
    "    exec('perf_2s_renew_ext1_within_tb_%s = cross_val_score(decoder, patterns_evs_2s_renew_ext1[x], labels_renew, cv=cv)'%(x))\n",
    "    exec('perf_2s_ext1_renew_within_tb_%s = cross_val_score(decoder, patterns_evs_2s_ext1_renew[x], labels_ext1, cv=cv)'%(x))\n",
    "    exec('perf_2s_renew_ext2_within_tb_%s = cross_val_score(decoder, patterns_evs_2s_renew_ext2[x], labels_renew, cv=cv)'%(x))\n",
    "    exec('perf_2s_ext2_renew_within_tb_%s = cross_val_score(decoder, patterns_evs_2s_ext2_renew[x], labels_ext2, cv=cv)'%(x))\n",
    "    exec('perf_2s_ext1_ext2_within_tb_%s = cross_val_score(decoder, patterns_evs_2s_ext1_ext2[x], labels_ext1, cv=cv)'%(x))\n",
    "    exec('perf_2s_ext2_ext1_within_tb_%s = cross_val_score(decoder, patterns_evs_2s_ext2_ext1[x], labels_ext2, cv=cv)'%(x))\n",
    "    exec('perf_2s_ext1_pre_within_tb_%s = cross_val_score(decoder, patterns_evs_2s_ext1_pre[x], labels_ext1, cv=cv)'%(x))\n",
    "    exec('perf_2s_pre_ext1_within_tb_%s = cross_val_score(decoder, patterns_evs_2s_pre_ext1[x], labels_pre, cv=cv)'%(x))\n",
    "    exec('perf_2s_ext2_pre_within_tb_%s = cross_val_score(decoder, patterns_evs_2s_ext2_pre[x], labels_ext2, cv=cv)'%(x))\n",
    "    exec('perf_2s_pre_ext2_within_tb_%s = cross_val_score(decoder, patterns_evs_2s_pre_ext2[x], labels_pre, cv=cv)'%(x))\n",
    "    exec('perf_2s_renew_pre_within_tb_%s = cross_val_score(decoder, patterns_evs_2s_renew_pre[x], labels_renew, cv=cv)'%(x))\n",
    "    exec('perf_2s_pre_renew_within_tb_%s = cross_val_score(decoder, patterns_evs_2s_pre_renew[x], labels_pre, cv=cv)'%(x))"
   ]
  },
  {
   "cell_type": "markdown",
   "metadata": {},
   "source": [
    "for x in range(len(patterns_evs_1s_pre)):\n",
    "    print x,\n",
    "    exec('perf_1s_pre_post_within_tb_%s = cross_val_score(decoder, patterns_evs_1s_pre_post[x], labels_pre, cv=cv)'%(x))\n",
    "    exec('perf_1s_post_pre_within_tb_%s = cross_val_score(decoder, patterns_evs_1s_post_pre[x], labels_post, cv=cv)'%(x))\n",
    "    exec('perf_1s_post_renew_within_tb_%s = cross_val_score(decoder, patterns_evs_1s_post_renew[x], labels_post, cv=cv)'%(x))\n",
    "    exec('perf_1s_renew_post_within_tb_%s = cross_val_score(decoder, patterns_evs_1s_renew_post[x], labels_renew, cv=cv)'%(x))\n",
    "    exec('perf_1s_ext1_post_within_tb_%s = cross_val_score(decoder, patterns_evs_1s_ext1_post[x], labels_ext1, cv=cv)'%(x))\n",
    "    exec('perf_1s_post_ext1_within_tb_%s = cross_val_score(decoder, patterns_evs_1s_post_ext1[x], labels_post, cv=cv)'%(x))\n",
    "    exec('perf_1s_ext2_post_within_tb_%s = cross_val_score(decoder, patterns_evs_1s_ext2_post[x], labels_ext2, cv=cv)'%(x))\n",
    "    exec('perf_1s_post_ext2_within_tb_%s = cross_val_score(decoder, patterns_evs_1s_post_ext2[x], labels_post, cv=cv)'%(x))\n",
    "    exec('perf_1s_renew_ext1_within_tb_%s = cross_val_score(decoder, patterns_evs_1s_renew_ext1[x], labels_renew, cv=cv)'%(x))\n",
    "    exec('perf_1s_ext1_renew_within_tb_%s = cross_val_score(decoder, patterns_evs_1s_ext1_renew[x], labels_ext1, cv=cv)'%(x))\n",
    "    exec('perf_1s_renew_ext2_within_tb_%s = cross_val_score(decoder, patterns_evs_1s_renew_ext2[x], labels_renew, cv=cv)'%(x))\n",
    "    exec('perf_1s_ext2_renew_within_tb_%s = cross_val_score(decoder, patterns_evs_1s_ext2_renew[x], labels_ext2, cv=cv)'%(x))\n",
    "    exec('perf_1s_ext1_ext2_within_tb_%s = cross_val_score(decoder, patterns_evs_1s_ext1_ext2[x], labels_ext1, cv=cv)'%(x))\n",
    "    exec('perf_1s_ext2_ext1_within_tb_%s = cross_val_score(decoder, patterns_evs_1s_ext2_ext1[x], labels_ext2, cv=cv)'%(x))\n",
    "    exec('perf_1s_ext1_pre_within_tb_%s = cross_val_score(decoder, patterns_evs_1s_ext1_pre[x], labels_ext1, cv=cv)'%(x))\n",
    "    exec('perf_1s_pre_ext1_within_tb_%s = cross_val_score(decoder, patterns_evs_1s_pre_ext1[x], labels_pre, cv=cv)'%(x))\n",
    "    exec('perf_1s_ext2_pre_within_tb_%s = cross_val_score(decoder, patterns_evs_1s_ext2_pre[x], labels_ext2, cv=cv)'%(x))\n",
    "    exec('perf_1s_pre_ext2_within_tb_%s = cross_val_score(decoder, patterns_evs_1s_pre_ext2[x], labels_pre, cv=cv)'%(x))\n",
    "    exec('perf_1s_renew_pre_within_tb_%s = cross_val_score(decoder, patterns_evs_1s_renew_pre[x], labels_renew, cv=cv)'%(x))\n",
    "    exec('perf_1s_pre_renew_within_tb_%s = cross_val_score(decoder, patterns_evs_1s_pre_renew[x], labels_pre, cv=cv)'%(x))"
   ]
  },
  {
   "cell_type": "markdown",
   "metadata": {},
   "source": [
    "for x in range(len(patterns_evs_05s_pre)):\n",
    "    print x,\n",
    "    exec('perf_05s_pre_post_within_tb_%s = cross_val_score(decoder, patterns_evs_05s_pre_post[x], labels_pre, cv=cv)'%(x))\n",
    "    exec('perf_05s_post_pre_within_tb_%s = cross_val_score(decoder, patterns_evs_05s_post_pre[x], labels_post, cv=cv)'%(x))\n",
    "    exec('perf_05s_post_renew_within_tb_%s = cross_val_score(decoder, patterns_evs_05s_post_renew[x], labels_post, cv=cv)'%(x))\n",
    "    exec('perf_05s_renew_post_within_tb_%s = cross_val_score(decoder, patterns_evs_05s_renew_post[x], labels_renew, cv=cv)'%(x))\n",
    "    exec('perf_05s_ext1_post_within_tb_%s = cross_val_score(decoder, patterns_evs_05s_ext1_post[x], labels_ext1, cv=cv)'%(x))\n",
    "    exec('perf_05s_post_ext1_within_tb_%s = cross_val_score(decoder, patterns_evs_05s_post_ext1[x], labels_post, cv=cv)'%(x))\n",
    "    exec('perf_05s_ext2_post_within_tb_%s = cross_val_score(decoder, patterns_evs_05s_ext2_post[x], labels_ext2, cv=cv)'%(x))\n",
    "    exec('perf_05s_post_ext2_within_tb_%s = cross_val_score(decoder, patterns_evs_05s_post_ext2[x], labels_post, cv=cv)'%(x))\n",
    "    exec('perf_05s_renew_ext1_within_tb_%s = cross_val_score(decoder, patterns_evs_05s_renew_ext1[x], labels_renew, cv=cv)'%(x))\n",
    "    exec('perf_05s_ext1_renew_within_tb_%s = cross_val_score(decoder, patterns_evs_05s_ext1_renew[x], labels_ext1, cv=cv)'%(x))\n",
    "    exec('perf_05s_renew_ext2_within_tb_%s = cross_val_score(decoder, patterns_evs_05s_renew_ext2[x], labels_renew, cv=cv)'%(x))\n",
    "    exec('perf_05s_ext2_renew_within_tb_%s = cross_val_score(decoder, patterns_evs_05s_ext2_renew[x], labels_ext2, cv=cv)'%(x))\n",
    "    exec('perf_05s_ext1_ext2_within_tb_%s = cross_val_score(decoder, patterns_evs_05s_ext1_ext2[x], labels_ext1, cv=cv)'%(x))\n",
    "    exec('perf_05s_ext2_ext1_within_tb_%s = cross_val_score(decoder, patterns_evs_05s_ext2_ext1[x], labels_ext2, cv=cv)'%(x))\n",
    "    exec('perf_05s_ext1_pre_within_tb_%s = cross_val_score(decoder, patterns_evs_05s_ext1_pre[x], labels_ext1, cv=cv)'%(x))\n",
    "    exec('perf_05s_pre_ext1_within_tb_%s = cross_val_score(decoder, patterns_evs_05s_pre_ext1[x], labels_pre, cv=cv)'%(x))\n",
    "    exec('perf_05s_ext2_pre_within_tb_%s = cross_val_score(decoder, patterns_evs_05s_ext2_pre[x], labels_ext2, cv=cv)'%(x))\n",
    "    exec('perf_05s_pre_ext2_within_tb_%s = cross_val_score(decoder, patterns_evs_05s_pre_ext2[x], labels_pre, cv=cv)'%(x))\n",
    "    exec('perf_05s_renew_pre_within_tb_%s = cross_val_score(decoder, patterns_evs_05s_renew_pre[x], labels_renew, cv=cv)'%(x))\n",
    "    exec('perf_05s_pre_renew_within_tb_%s = cross_val_score(decoder, patterns_evs_05s_pre_renew[x], labels_pre, cv=cv)'%(x))"
   ]
  },
  {
   "cell_type": "markdown",
   "metadata": {},
   "source": [
    "## Train on pre test on post and vv."
   ]
  },
  {
   "cell_type": "markdown",
   "metadata": {},
   "source": [
    "for x in range(len(patterns_evs_2s_pre)):\n",
    "    print x,\n",
    "    exec('perf_2s_pre_post_across_tb_%s = []'%x)\n",
    "    decoder.fit(patterns_evs_2s_pre_post[x], labels_pre)\n",
    "    eval('perf_2s_pre_post_across_tb_%s.append(decoder.score(patterns_evs_2s_post_pre[x], labels_post))'%x)\n",
    "    decoder.fit(patterns_evs_2s_post_pre[x], labels_post)\n",
    "    eval('perf_2s_pre_post_across_tb_%s.append(decoder.score(patterns_evs_2s_pre_post[x], labels_pre))'%x)\n",
    "    \n",
    "    exec('perf_2s_ext1_post_across_tb_%s = []'%x)\n",
    "    decoder.fit(patterns_evs_2s_ext1_post[x], labels_ext1)\n",
    "    eval('perf_2s_ext1_post_across_tb_%s.append(decoder.score(patterns_evs_2s_post_ext1[x], labels_post))'%x)\n",
    "    decoder.fit(patterns_evs_2s_post_ext1[x], labels_post)\n",
    "    eval('perf_2s_ext1_post_across_tb_%s.append(decoder.score(patterns_evs_2s_ext1_post[x], labels_ext1))'%x)\n",
    "    \n",
    "    exec('perf_2s_ext2_post_across_tb_%s = []'%x)\n",
    "    decoder.fit(patterns_evs_2s_ext2_post[x], labels_ext2)\n",
    "    eval('perf_2s_ext2_post_across_tb_%s.append(decoder.score(patterns_evs_2s_post_ext2[x], labels_post))'%x)\n",
    "    decoder.fit(patterns_evs_2s_post_ext2[x], labels_post)\n",
    "    eval('perf_2s_ext2_post_across_tb_%s.append(decoder.score(patterns_evs_2s_ext2_post[x], labels_ext2))'%x)\n",
    "    \n",
    "    exec('perf_2s_post_renew_across_tb_%s = []'%x)\n",
    "    decoder.fit(patterns_evs_2s_post_renew[x], labels_post)\n",
    "    eval('perf_2s_post_renew_across_tb_%s.append(decoder.score(patterns_evs_2s_renew_post[x], labels_renew))'%x)\n",
    "    decoder.fit(patterns_evs_2s_renew_post[x], labels_renew)\n",
    "    eval('perf_2s_post_renew_across_tb_%s.append(decoder.score(patterns_evs_2s_post_renew[x], labels_post))'%x)\n",
    "    \n",
    "    exec('perf_2s_ext1_renew_across_tb_%s = []'%x)\n",
    "    decoder.fit(patterns_evs_2s_ext1_renew[x], labels_ext1)\n",
    "    eval('perf_2s_ext1_renew_across_tb_%s.append(decoder.score(patterns_evs_2s_renew_ext1[x], labels_renew))'%x)\n",
    "    decoder.fit(patterns_evs_2s_renew_ext1[x], labels_renew)\n",
    "    eval('perf_2s_ext1_renew_across_tb_%s.append(decoder.score(patterns_evs_2s_ext1_renew[x], labels_ext1))'%x)\n",
    "    \n",
    "    exec('perf_2s_ext2_renew_across_tb_%s = []'%x)\n",
    "    decoder.fit(patterns_evs_2s_ext2_renew[x], labels_ext2)\n",
    "    eval('perf_2s_ext2_renew_across_tb_%s.append(decoder.score(patterns_evs_2s_renew_ext2[x], labels_renew))'%x)\n",
    "    decoder.fit(patterns_evs_2s_renew_ext2[x], labels_renew)\n",
    "    eval('perf_2s_ext2_renew_across_tb_%s.append(decoder.score(patterns_evs_2s_ext2_renew[x], labels_ext2))'%x)\n",
    "    \n",
    "    exec('perf_2s_ext1_ext2_across_tb_%s = []'%x)\n",
    "    decoder.fit(patterns_evs_2s_ext1_ext2[x], labels_ext1)\n",
    "    eval('perf_2s_ext1_ext2_across_tb_%s.append(decoder.score(patterns_evs_2s_ext2_ext1[x], labels_ext2))'%x)\n",
    "    decoder.fit(patterns_evs_2s_ext2_ext1[x], labels_ext2)\n",
    "    eval('perf_2s_ext1_ext2_across_tb_%s.append(decoder.score(patterns_evs_2s_ext1_ext2[x], labels_ext1))'%x)\n",
    "\n",
    "    exec('perf_2s_pre_ext1_across_tb_%s = []'%x)\n",
    "    decoder.fit(patterns_evs_2s_pre_ext1[x], labels_pre)\n",
    "    eval('perf_2s_pre_ext1_across_tb_%s.append(decoder.score(patterns_evs_2s_ext1_pre[x], labels_ext1))'%x)\n",
    "    decoder.fit(patterns_evs_2s_ext1_pre[x], labels_ext1)\n",
    "    eval('perf_2s_pre_ext1_across_tb_%s.append(decoder.score(patterns_evs_2s_pre_ext1[x], labels_pre))'%x)\n",
    "    \n",
    "    exec('perf_2s_pre_ext2_across_tb_%s = []'%x)\n",
    "    decoder.fit(patterns_evs_2s_pre_ext2[x], labels_pre)\n",
    "    eval('perf_2s_pre_ext2_across_tb_%s.append(decoder.score(patterns_evs_2s_ext2_pre[x], labels_ext2))'%x)\n",
    "    decoder.fit(patterns_evs_2s_ext2_pre[x], labels_ext2)\n",
    "    eval('perf_2s_pre_ext2_across_tb_%s.append(decoder.score(patterns_evs_2s_pre_ext2[x], labels_pre))'%x)\n",
    "    \n",
    "    exec('perf_2s_pre_renew_across_tb_%s = []'%x)\n",
    "    decoder.fit(patterns_evs_2s_pre_renew[x], labels_pre)\n",
    "    eval('perf_2s_pre_renew_across_tb_%s.append(decoder.score(patterns_evs_2s_renew_pre[x], labels_renew))'%x)\n",
    "    decoder.fit(patterns_evs_2s_renew_pre[x], labels_renew)\n",
    "    eval('perf_2s_pre_renew_across_tb_%s.append(decoder.score(patterns_evs_2s_pre_renew[x], labels_pre))'%x)"
   ]
  },
  {
   "cell_type": "markdown",
   "metadata": {},
   "source": [
    "for x in range(len(patterns_evs_1s_pre)):\n",
    "    print x,\n",
    "    exec('perf_1s_pre_post_across_tb_%s = []'%x)\n",
    "    decoder.fit(patterns_evs_1s_pre_post[x], labels_pre)\n",
    "    eval('perf_1s_pre_post_across_tb_%s.append(decoder.score(patterns_evs_1s_post_pre[x], labels_post))'%x)\n",
    "    decoder.fit(patterns_evs_1s_post_pre[x], labels_post)\n",
    "    eval('perf_1s_pre_post_across_tb_%s.append(decoder.score(patterns_evs_1s_pre_post[x], labels_pre))'%x)\n",
    "    \n",
    "    exec('perf_1s_ext1_post_across_tb_%s = []'%x)\n",
    "    decoder.fit(patterns_evs_1s_ext1_post[x], labels_ext1)\n",
    "    eval('perf_1s_ext1_post_across_tb_%s.append(decoder.score(patterns_evs_1s_post_ext1[x], labels_post))'%x)\n",
    "    decoder.fit(patterns_evs_1s_post_ext1[x], labels_post)\n",
    "    eval('perf_1s_ext1_post_across_tb_%s.append(decoder.score(patterns_evs_1s_ext1_post[x], labels_ext1))'%x)\n",
    "    \n",
    "    exec('perf_1s_ext2_post_across_tb_%s = []'%x)\n",
    "    decoder.fit(patterns_evs_1s_ext2_post[x], labels_ext2)\n",
    "    eval('perf_1s_ext2_post_across_tb_%s.append(decoder.score(patterns_evs_1s_post_ext2[x], labels_post))'%x)\n",
    "    decoder.fit(patterns_evs_1s_post_ext2[x], labels_post)\n",
    "    eval('perf_1s_ext2_post_across_tb_%s.append(decoder.score(patterns_evs_1s_ext2_post[x], labels_ext2))'%x)\n",
    "    \n",
    "    exec('perf_1s_post_renew_across_tb_%s = []'%x)\n",
    "    decoder.fit(patterns_evs_1s_post_renew[x], labels_post)\n",
    "    eval('perf_1s_post_renew_across_tb_%s.append(decoder.score(patterns_evs_1s_renew_post[x], labels_renew))'%x)\n",
    "    decoder.fit(patterns_evs_1s_renew_post[x], labels_renew)\n",
    "    eval('perf_1s_post_renew_across_tb_%s.append(decoder.score(patterns_evs_1s_post_renew[x], labels_post))'%x)\n",
    "    \n",
    "    exec('perf_1s_ext1_renew_across_tb_%s = []'%x)\n",
    "    decoder.fit(patterns_evs_1s_ext1_renew[x], labels_ext1)\n",
    "    eval('perf_1s_ext1_renew_across_tb_%s.append(decoder.score(patterns_evs_1s_renew_ext1[x], labels_renew))'%x)\n",
    "    decoder.fit(patterns_evs_1s_renew_ext1[x], labels_renew)\n",
    "    eval('perf_1s_ext1_renew_across_tb_%s.append(decoder.score(patterns_evs_1s_ext1_renew[x], labels_ext1))'%x)\n",
    "    \n",
    "    exec('perf_1s_ext2_renew_across_tb_%s = []'%x)\n",
    "    decoder.fit(patterns_evs_1s_ext2_renew[x], labels_ext2)\n",
    "    eval('perf_1s_ext2_renew_across_tb_%s.append(decoder.score(patterns_evs_1s_renew_ext2[x], labels_renew))'%x)\n",
    "    decoder.fit(patterns_evs_1s_renew_ext2[x], labels_renew)\n",
    "    eval('perf_1s_ext2_renew_across_tb_%s.append(decoder.score(patterns_evs_1s_ext2_renew[x], labels_ext2))'%x)\n",
    "    \n",
    "    exec('perf_1s_ext1_ext2_across_tb_%s = []'%x)\n",
    "    decoder.fit(patterns_evs_1s_ext1_ext2[x], labels_ext1)\n",
    "    eval('perf_1s_ext1_ext2_across_tb_%s.append(decoder.score(patterns_evs_1s_ext2_ext1[x], labels_ext2))'%x)\n",
    "    decoder.fit(patterns_evs_1s_ext2_ext1[x], labels_ext2)\n",
    "    eval('perf_1s_ext1_ext2_across_tb_%s.append(decoder.score(patterns_evs_1s_ext1_ext2[x], labels_ext1))'%x)\n",
    "\n",
    "    exec('perf_1s_pre_ext1_across_tb_%s = []'%x)\n",
    "    decoder.fit(patterns_evs_1s_pre_ext1[x], labels_pre)\n",
    "    eval('perf_1s_pre_ext1_across_tb_%s.append(decoder.score(patterns_evs_1s_ext1_pre[x], labels_ext1))'%x)\n",
    "    decoder.fit(patterns_evs_1s_ext1_pre[x], labels_ext1)\n",
    "    eval('perf_1s_pre_ext1_across_tb_%s.append(decoder.score(patterns_evs_1s_pre_ext1[x], labels_pre))'%x)\n",
    "    \n",
    "    exec('perf_1s_pre_ext2_across_tb_%s = []'%x)\n",
    "    decoder.fit(patterns_evs_1s_pre_ext2[x], labels_pre)\n",
    "    eval('perf_1s_pre_ext2_across_tb_%s.append(decoder.score(patterns_evs_1s_ext2_pre[x], labels_ext2))'%x)\n",
    "    decoder.fit(patterns_evs_1s_ext2_pre[x], labels_ext2)\n",
    "    eval('perf_1s_pre_ext2_across_tb_%s.append(decoder.score(patterns_evs_1s_pre_ext2[x], labels_pre))'%x)\n",
    "    \n",
    "    exec('perf_1s_pre_renew_across_tb_%s = []'%x)\n",
    "    decoder.fit(patterns_evs_1s_pre_renew[x], labels_pre)\n",
    "    eval('perf_1s_pre_renew_across_tb_%s.append(decoder.score(patterns_evs_1s_renew_pre[x], labels_renew))'%x)\n",
    "    decoder.fit(patterns_evs_1s_renew_pre[x], labels_renew)\n",
    "    eval('perf_1s_pre_renew_across_tb_%s.append(decoder.score(patterns_evs_1s_pre_renew[x], labels_pre))'%x)"
   ]
  },
  {
   "cell_type": "markdown",
   "metadata": {},
   "source": [
    "for x in range(len(patterns_evs_05s_pre)):\n",
    "    print x,\n",
    "    exec('perf_05s_pre_post_across_tb_%s = []'%x)\n",
    "    decoder.fit(patterns_evs_05s_pre_post[x], labels_pre)\n",
    "    eval('perf_05s_pre_post_across_tb_%s.append(decoder.score(patterns_evs_05s_post_pre[x], labels_post))'%x)\n",
    "    decoder.fit(patterns_evs_05s_post_pre[x], labels_post)\n",
    "    eval('perf_05s_pre_post_across_tb_%s.append(decoder.score(patterns_evs_05s_pre_post[x], labels_pre))'%x)\n",
    "    \n",
    "    exec('perf_05s_ext1_post_across_tb_%s = []'%x)\n",
    "    decoder.fit(patterns_evs_05s_ext1_post[x], labels_ext1)\n",
    "    eval('perf_05s_ext1_post_across_tb_%s.append(decoder.score(patterns_evs_05s_post_ext1[x], labels_post))'%x)\n",
    "    decoder.fit(patterns_evs_05s_post_ext1[x], labels_post)\n",
    "    eval('perf_05s_ext1_post_across_tb_%s.append(decoder.score(patterns_evs_05s_ext1_post[x], labels_ext1))'%x)\n",
    "    \n",
    "    exec('perf_05s_ext2_post_across_tb_%s = []'%x)\n",
    "    decoder.fit(patterns_evs_05s_ext2_post[x], labels_ext2)\n",
    "    eval('perf_05s_ext2_post_across_tb_%s.append(decoder.score(patterns_evs_05s_post_ext2[x], labels_post))'%x)\n",
    "    decoder.fit(patterns_evs_05s_post_ext2[x], labels_post)\n",
    "    eval('perf_05s_ext2_post_across_tb_%s.append(decoder.score(patterns_evs_05s_ext2_post[x], labels_ext2))'%x)\n",
    "    \n",
    "    exec('perf_05s_post_renew_across_tb_%s = []'%x)\n",
    "    decoder.fit(patterns_evs_05s_post_renew[x], labels_post)\n",
    "    eval('perf_05s_post_renew_across_tb_%s.append(decoder.score(patterns_evs_05s_renew_post[x], labels_renew))'%x)\n",
    "    decoder.fit(patterns_evs_05s_renew_post[x], labels_renew)\n",
    "    eval('perf_05s_post_renew_across_tb_%s.append(decoder.score(patterns_evs_05s_post_renew[x], labels_post))'%x)\n",
    "    \n",
    "    exec('perf_05s_ext1_renew_across_tb_%s = []'%x)\n",
    "    decoder.fit(patterns_evs_05s_ext1_renew[x], labels_ext1)\n",
    "    eval('perf_05s_ext1_renew_across_tb_%s.append(decoder.score(patterns_evs_05s_renew_ext1[x], labels_renew))'%x)\n",
    "    decoder.fit(patterns_evs_05s_renew_ext1[x], labels_renew)\n",
    "    eval('perf_05s_ext1_renew_across_tb_%s.append(decoder.score(patterns_evs_05s_ext1_renew[x], labels_ext1))'%x)\n",
    "    \n",
    "    exec('perf_05s_ext2_renew_across_tb_%s = []'%x)\n",
    "    decoder.fit(patterns_evs_05s_ext2_renew[x], labels_ext2)\n",
    "    eval('perf_05s_ext2_renew_across_tb_%s.append(decoder.score(patterns_evs_05s_renew_ext2[x], labels_renew))'%x)\n",
    "    decoder.fit(patterns_evs_05s_renew_ext2[x], labels_renew)\n",
    "    eval('perf_05s_ext2_renew_across_tb_%s.append(decoder.score(patterns_evs_05s_ext2_renew[x], labels_ext2))'%x)\n",
    "    \n",
    "    exec('perf_05s_ext1_ext2_across_tb_%s = []'%x)\n",
    "    decoder.fit(patterns_evs_05s_ext1_ext2[x], labels_ext1)\n",
    "    eval('perf_05s_ext1_ext2_across_tb_%s.append(decoder.score(patterns_evs_05s_ext2_ext1[x], labels_ext2))'%x)\n",
    "    decoder.fit(patterns_evs_05s_ext2_ext1[x], labels_ext2)\n",
    "    eval('perf_05s_ext1_ext2_across_tb_%s.append(decoder.score(patterns_evs_05s_ext1_ext2[x], labels_ext1))'%x)\n",
    "\n",
    "    exec('perf_05s_pre_ext1_across_tb_%s = []'%x)\n",
    "    decoder.fit(patterns_evs_05s_pre_ext1[x], labels_pre)\n",
    "    eval('perf_05s_pre_ext1_across_tb_%s.append(decoder.score(patterns_evs_05s_ext1_pre[x], labels_ext1))'%x)\n",
    "    decoder.fit(patterns_evs_05s_ext1_pre[x], labels_ext1)\n",
    "    eval('perf_05s_pre_ext1_across_tb_%s.append(decoder.score(patterns_evs_05s_pre_ext1[x], labels_pre))'%x)\n",
    "    \n",
    "    exec('perf_05s_pre_ext2_across_tb_%s = []'%x)\n",
    "    decoder.fit(patterns_evs_05s_pre_ext2[x], labels_pre)\n",
    "    eval('perf_05s_pre_ext2_across_tb_%s.append(decoder.score(patterns_evs_05s_ext2_pre[x], labels_ext2))'%x)\n",
    "    decoder.fit(patterns_evs_05s_ext2_pre[x], labels_ext2)\n",
    "    eval('perf_05s_pre_ext2_across_tb_%s.append(decoder.score(patterns_evs_05s_pre_ext2[x], labels_pre))'%x)\n",
    "    \n",
    "    exec('perf_05s_pre_renew_across_tb_%s = []'%x)\n",
    "    decoder.fit(patterns_evs_05s_pre_renew[x], labels_pre)\n",
    "    eval('perf_05s_pre_renew_across_tb_%s.append(decoder.score(patterns_evs_05s_renew_pre[x], labels_renew))'%x)\n",
    "    decoder.fit(patterns_evs_05s_renew_pre[x], labels_renew)\n",
    "    eval('perf_05s_pre_renew_across_tb_%s.append(decoder.score(patterns_evs_05s_pre_renew[x], labels_pre))'%x)"
   ]
  },
  {
   "cell_type": "markdown",
   "metadata": {},
   "source": [
    "from matplotlib.lines import Line2D"
   ]
  },
  {
   "cell_type": "markdown",
   "metadata": {},
   "source": [
    "## uncomment the line that you'd like to plot below (have not updated this yet)"
   ]
  },
  {
   "cell_type": "markdown",
   "metadata": {},
   "source": [
    "wut = [np.concatenate([perf_2s_pre_post_within_tb_3, perf_2s_post_pre_within_tb_3]), perf_2s_pre_post_across_tb_3, 'pre vs post, 2-4s'] #pre VS post\n",
    "#wut = [np.concatenate([perf_ext1_post_within, perf_post_ext1_within]), perf_ext1_post_across, 'ext1 vs post, 2-4s'] #ext1 VS post\n",
    "#wut = [np.concatenate([perf_ext2_post_within, perf_post_ext2_within]), perf_ext2_post_across, 'ext2 vs post, 2-4s'] #ext2 vs post\n",
    "#wut = [np.concatenate([perf_post_renew_within, perf_renew_post_within]), perf_post_renew_across, 'post vs renew 2-4s'] #post vs renew\n",
    "#wut = [np.concatenate([perf_ext1_renew_within, perf_renew_ext1_within]), perf_ext1_renew_across, 'ext1 vs renew 2-4s'] #ext1 vs renew\n",
    "#wut = [np.concatenate([perf_ext2_renew_within, perf_renew_ext2_within]), perf_ext2_renew_across, 'ext2 vs renew 2-4s'] #ext2 vs renew\n",
    "#wut = [np.concatenate([perf_ext1_ext2_within, perf_ext2_ext1_within]), perf_ext1_ext2_across, 'ext1 vs ext2 2-4s'] #ext1 vs ext2\n",
    "#wut = [np.concatenate([perf_pre_ext1_within, perf_ext1_pre_within]), perf_pre_ext1_across, 'pre vs ext1 2-4s'] #pre vs ext1\n",
    "#wut = [np.concatenate([perf_pre_ext2_within, perf_ext2_pre_within]), perf_pre_ext2_across, 'pre vs ext2 2-4s'] #pre vs ext2\n",
    "#wut = [np.concatenate([perf_pre_renew_within, perf_renew_pre_within]), perf_pre_renew_across, 'pre vs renew 2-4s'] #pre vs renew\n",
    "\n",
    "#wut = [np.concatenate([perf_pre_post_within_1s, perf_post_pre_within_1s]), perf_pre_post_across_1s, 'pre vs post, 3-4s'] #pre vs post\n",
    "#wut = [np.concatenate([perf_ext1_post_within_1s, perf_post_ext1_within_1s]), perf_ext1_post_across_1s, 'ext1 vs post, 3-4s'] #ext1 vs post\n",
    "#wut = [np.concatenate([perf_ext2_post_within_1s, perf_post_ext2_within_1s]), perf_ext2_post_across_1s, 'ext2 vs post 3-4s'] #ext2 vs post\n",
    "#wut = [np.concatenate([perf_post_renew_within_1s, perf_renew_post_within_1s]), perf_post_renew_across_1s, 'post vs renew 3-4s'] #post vs renew\n",
    "#wut = [np.concatenate([perf_ext2_renew_within_1s, perf_renew_ext2_within_1s]), perf_ext2_renew_across_1s, 'ext2 vs renew 3-4s'] #ext2 vs renew\n",
    "#wut = [np.concatenate([perf_pre_ext1_within_1s, perf_ext1_pre_within_1s]), perf_pre_ext1_across_1s, 'pre vs ext1 3-4s'] #pre vs ext1\n",
    "#wut = [np.concatenate([perf_pre_ext2_within_1s, perf_ext2_pre_within_1s]), perf_pre_ext2_across_1s, 'pre vs ext2 3-4s'] #pre vs ext2\n",
    "\n",
    "#wut = [np.concatenate([perf_CS_pre_post_within, perf_CS_post_pre_within]), perf_CS_pre_post_across, 'pre vs post, 0-2s'] #pre VS post\n",
    "#wut = [np.concatenate([perf_CS_ext1_post_within, perf_CS_post_ext1_within]), perf_CS_ext1_post_across, 'ext1 vs post, 0-2s'] #ext1 VS post\n",
    "#wut = [np.concatenate([perf_CS_ext2_post_within, perf_CS_post_ext2_within]), perf_CS_ext2_post_across, 'ext2 vs post, 0-2s'] #ext2 vs post\n",
    "#wut = [np.concatenate([perf_CS_post_renew_within, perf_CS_renew_post_within]), perf_CS_post_renew_across, 'post vs renew 0-2s'] #post vs renew\n",
    "#wut = [np.concatenate([perf_CS_ext2_renew_within, perf_CS_renew_ext2_within]), perf_CS_ext2_renew_across, 'ext2 vs renew 0-2s'] #ext2 vs renew\n",
    "#wut = [np.concatenate([perf_CS_pre_ext1_within, perf_CS_ext1_pre_within]), perf_CS_pre_ext1_across, 'pre vs ext1 0-2s'] #pre vs ext1\n",
    "#wut = [np.concatenate([perf_CS_pre_ext2_within, perf_CS_ext2_pre_within]), perf_CS_pre_ext2_across, 'pre vs ext2 0-2s'] #pre vs ext2\n",
    "\n",
    "#wut = [np.concatenate([perf_CS_pre_post_within_1s, perf_CS_post_pre_within_1s]), perf_CS_pre_post_across_1s, 'pre vs post, 1-2s'] #pre vs post\n",
    "#wut = [np.concatenate([perf_CS_ext1_post_within_1s, perf_CS_post_ext1_within_1s]), perf_CS_ext1_post_across_1s, 'ext1 vs post, 1-2s'] #ext1 vs post\n",
    "#wut = [np.concatenate([perf_CS_ext2_post_within_1s, perf_CS_post_ext2_within_1s]), perf_CS_ext2_post_across_1s, 'ext2 vs post 1-2s'] #ext2 vs post\n",
    "#wut = [np.concatenate([perf_CS_post_renew_within_1s, perf_CS_renew_post_within_1s]), perf_CS_post_renew_across_1s, 'post vs renew 1-2s'] #post vs renew\n",
    "#wut = [np.concatenate([perf_CS_ext2_renew_within_1s, perf_CS_renew_ext2_within_1s]), perf_CS_ext2_renew_across_1s, 'ext2 vs renew 1-2s'] #ext2 vs renew\n",
    "#wut = [np.concatenate([perf_CS_pre_ext1_within_1s, perf_CS_ext1_pre_within_1s]), perf_CS_pre_ext1_across_1s, 'pre vs ext1 1-2s'] #pre vs ext1\n",
    "#wut = [np.concatenate([perf_CS_pre_ext2_within_1s, perf_CS_ext2_pre_within_1s]), perf_CS_pre_ext2_across_1s, 'pre vs ext2 1-2s'] #pre vs ext2\n",
    "\n",
    "what_to_plot = wut"
   ]
  },
  {
   "cell_type": "markdown",
   "metadata": {},
   "source": [
    "fig, ax = pl.subplots(1, 1, figsize=(1, 2))\n",
    "\n",
    "values = [what_to_plot[0]]  #within day\n",
    "pt.plot_bars(np.r_[values]*100, xpos=np.arange(len(values))*3-0.5, colors='0.7', ax=ax, stderr=True)\n",
    "\n",
    "values = [what_to_plot[1]]  #cross day\n",
    "pt.plot_bars(np.r_[values]*100, xpos=np.arange(len(values))*3+0.5, colors='k', ax=ax, stderr=True)\n",
    "\n",
    "ax.set_xticks(np.arange(1))\n",
    "pt.nicer_plot(ax)\n",
    "ax.spines['bottom'].set_bounds(-1.2, 1.2)\n",
    "ax.set_xticklabels(['CS+ vs CS-',])\n",
    "ax.hlines(50, -1.2, 1.2, linestyles='dotted', lw=1)\n",
    "ax.legend((Line2D('', '', color='0.7', lw=1),\n",
    "           Line2D('', '', color='k', lw=1),\n",
    "           Line2D('', '', color='k', linestyle='dotted', lw=1)),\n",
    "          ['Same day', 'Across days', 'Chance'],\n",
    "          fontsize=5, loc=(1.01, 0))\n",
    "\n",
    "ax.set_ylabel('Decoding accuracy\\n' + eval(\"'%s'\"%(what_to_plot[2])))\n",
    "\n",
    "ax.set_ylim(0, 100)\n",
    "\n",
    "## pl.savefig('decoding_prepost_all_odors', format=\"pdf\", bbox_inches=\"tight\")"
   ]
  },
  {
   "cell_type": "code",
   "execution_count": 29,
   "metadata": {
    "collapsed": false
   },
   "outputs": [
    {
     "name": "stdout",
     "output_type": "stream",
     "text": [
      "Could not store variable 'di'. Skipping...\n",
      "Could not store variable 'pickle'. Skipping...\n",
      "Could not store variable 'IPython'. Skipping...\n",
      "Could not store variable 'pt'. Skipping...\n",
      "Could not store variable 'pl'. Skipping...\n",
      "Could not store variable 'ip'. Skipping...\n",
      "Could not store variable 'sys'. Skipping...\n",
      "Could not store variable 'h5py'. Skipping...\n",
      "Could not store variable 'os'. Skipping...\n",
      "Could not store variable 'ut'. Skipping...\n",
      "Could not store variable 'np'. Skipping...\n"
     ]
    }
   ],
   "source": [
    "save_workspace(db);"
   ]
  },
  {
   "cell_type": "code",
   "execution_count": 30,
   "metadata": {
    "collapsed": true
   },
   "outputs": [],
   "source": []
  }
 ],
 "metadata": {
  "anaconda-cloud": {},
  "kernelspec": {
   "display_name": "Python [default]",
   "language": "python",
   "name": "python2"
  },
  "language_info": {
   "codemirror_mode": {
    "name": "ipython",
    "version": 2
   },
   "file_extension": ".py",
   "mimetype": "text/x-python",
   "name": "python",
   "nbconvert_exporter": "python",
   "pygments_lexer": "ipython2",
   "version": "2.7.12"
  }
 },
 "nbformat": 4,
 "nbformat_minor": 2
}
