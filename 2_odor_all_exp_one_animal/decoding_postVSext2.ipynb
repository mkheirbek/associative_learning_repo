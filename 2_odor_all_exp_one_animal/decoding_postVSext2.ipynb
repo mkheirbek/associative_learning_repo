{
 "cells": [
  {
   "cell_type": "code",
   "execution_count": 1,
   "metadata": {
    "collapsed": false
   },
   "outputs": [
    {
     "data": {
      "text/html": [
       "<script>jQuery(function() {if (jQuery(\"body.notebook_app\").length == 0) { jQuery(\".input_area\").toggle(); jQuery(\".prompt\").toggle();}});</script>"
      ]
     },
     "metadata": {},
     "output_type": "display_data"
    },
    {
     "data": {
      "text/html": [
       "<button onclick=\"jQuery('.input_area').toggle(); jQuery('.prompt').toggle();\">Toggle code</button>"
      ]
     },
     "metadata": {},
     "output_type": "display_data"
    }
   ],
   "source": [
    "from IPython.display import display\n",
    "from IPython.display import HTML\n",
    "import IPython.core.display as di # Example: di.display_html('<h3>%s:</h3>' % str, raw=True)\n",
    "\n",
    "# This line will hide code by default when the notebook is exported as HTML\n",
    "di.display_html('<script>jQuery(function() {if (jQuery(\"body.notebook_app\").length == 0) { jQuery(\".input_area\").toggle(); jQuery(\".prompt\").toggle();}});</script>', raw=True)\n",
    "\n",
    "# This line will add a button to toggle visibility of code blocks, for use with the HTML export version\n",
    "di.display_html('''<button onclick=\"jQuery('.input_area').toggle(); jQuery('.prompt').toggle();\">Toggle code</button>''', raw=True)\n"
   ]
  },
  {
   "cell_type": "code",
   "execution_count": 2,
   "metadata": {
    "collapsed": true
   },
   "outputs": [],
   "source": [
    "# all modules necessary for this nb\n",
    "import os\n",
    "import sys\n",
    "import pickle\n",
    "\n",
    "import numpy as np\n",
    "import pylab as pl\n",
    "\n",
    "# setting parameters for default matplotlib plots\n",
    "%matplotlib inline"
   ]
  },
  {
   "cell_type": "code",
   "execution_count": 3,
   "metadata": {
    "collapsed": true
   },
   "outputs": [],
   "source": [
    "pl.style.use('fabiostyle')\n",
    "# needs to find the library of functions\n",
    "sys.path.append('../../../code/')  # to be replaced!\n",
    "\n",
    "import utils as ut\n",
    "import plots as pt"
   ]
  },
  {
   "cell_type": "code",
   "execution_count": 4,
   "metadata": {
    "collapsed": true
   },
   "outputs": [],
   "source": [
    "NOTEBOOK_NAME = 'decoding_postVSext2'"
   ]
  },
  {
   "cell_type": "code",
   "execution_count": 5,
   "metadata": {
    "collapsed": false
   },
   "outputs": [
    {
     "name": "stdout",
     "output_type": "stream",
     "text": [
      "Unable to restore variable 'f', ignoring (use %store -d to forget!)\n",
      "('The error was:', <type 'exceptions.KeyError'>)\n"
     ]
    },
    {
     "name": "stderr",
     "output_type": "stream",
     "text": [
      "Exception KeyError: KeyError(0,) in 'h5py._objects.ObjectID.__dealloc__' ignored\n"
     ]
    }
   ],
   "source": [
    "from pickleshare import PickleShareDB\n",
    "\n",
    "autorestore_folder = os.path.join(os.getcwd(), 'autorestore', NOTEBOOK_NAME)\n",
    "db = PickleShareDB(autorestore_folder)\n",
    "import sys\n",
    "from workspace import *\n",
    "import IPython\n",
    "ip = IPython.get_ipython()\n",
    "\n",
    "# this will restore all the saved variables. ignore the errors listed.\n",
    "load_workspace(ip, db)\n",
    "\n",
    "# use `save_worspace(db)` to save variables at the end"
   ]
  },
  {
   "cell_type": "code",
   "execution_count": 6,
   "metadata": {
    "collapsed": false
   },
   "outputs": [],
   "source": [
    "vars_ext2 = {}\n",
    "folder = '../ext2/notebooks/autorestore/preprocessing'\n",
    "for var in ('time_ax', 'events', 'cycles', 'is_CSmt', 'is_rewardt',\n",
    "            'CYCLE_START', 'CS_DURATION', 'DELAY'):\n",
    "    vars_ext2.update({var:ut.load_variable(var, folder=folder)})\n",
    "    \n",
    "vars_post = {}\n",
    "folder = '../post/notebooks/autorestore/preprocessing'\n",
    "for var in ('time_ax', 'events', 'cycles', 'is_CSmt', 'is_rewardt',\n",
    "            'CYCLE_START', 'CS_DURATION', 'DELAY'):\n",
    "    vars_post.update({var:ut.load_variable(var, folder=folder)})"
   ]
  },
  {
   "cell_type": "code",
   "execution_count": 7,
   "metadata": {
    "collapsed": false
   },
   "outputs": [],
   "source": [
    "import h5py\n",
    "filepath = '../data/cellreg_postVSext2.mat'\n",
    "arrays = {}\n",
    "f = h5py.File(filepath)\n",
    "cellreg_map = np.array(f['cell_registered_struct']['cell_to_index_map'])-1\n",
    "keep = np.prod(cellreg_map, 0)>0\n",
    "cellregs = dict(zip(['post', 'ext2'], cellreg_map.T[keep].T.astype(int)))"
   ]
  },
  {
   "cell_type": "code",
   "execution_count": 8,
   "metadata": {
    "collapsed": false
   },
   "outputs": [],
   "source": [
    "patterns_evs_ext2 = ut.extract_patterns(vars_ext2['time_ax'], vars_ext2['events'], vars_ext2['cycles'],\n",
    "                                       vars_ext2['CYCLE_START'], vars_ext2['CS_DURATION'], vars_ext2['CS_DURATION'] + vars_ext2['DELAY'])\n",
    "labels_ext2 = (np.r_[vars_ext2['is_rewardt']] * 1)\n",
    "\n",
    "patterns_evs_post = ut.extract_patterns(vars_post['time_ax'], vars_post['events'], vars_post['cycles'],\n",
    "                                       vars_post['CYCLE_START'], vars_post['CS_DURATION'], vars_post['CS_DURATION'] + vars_post['DELAY'])\n",
    "labels_post = (np.r_[vars_post['is_rewardt']] * 1)\n",
    "\n",
    "patterns_CS_evs_ext2 = ut.extract_patterns(vars_ext2['time_ax'], vars_ext2['events'], vars_ext2['cycles'],\n",
    "                                       vars_ext2['CYCLE_START'], 0, vars_ext2['CS_DURATION'])\n",
    "\n",
    "patterns_CS_evs_post = ut.extract_patterns(vars_post['time_ax'], vars_post['events'], vars_post['cycles'],\n",
    "                                       vars_post['CYCLE_START'], 0, vars_post['CS_DURATION'])"
   ]
  },
  {
   "cell_type": "code",
   "execution_count": 9,
   "metadata": {
    "collapsed": false
   },
   "outputs": [],
   "source": [
    "patterns_evs_ext2 = patterns_evs_ext2[:, cellregs['ext2']]\n",
    "patterns_evs_post = patterns_evs_post[:, cellregs['post']]\n",
    "patterns_CS_evs_ext2 = patterns_CS_evs_ext2[:, cellregs['ext2']]\n",
    "patterns_CS_evs_post = patterns_CS_evs_post[:, cellregs['post']]"
   ]
  },
  {
   "cell_type": "code",
   "execution_count": 10,
   "metadata": {
    "collapsed": false
   },
   "outputs": [],
   "source": [
    "from sklearn.naive_bayes import MultinomialNB\n",
    "from sklearn.svm import LinearSVC\n",
    "\n",
    "from sklearn.model_selection import cross_val_score, StratifiedKFold, LeaveOneOut"
   ]
  },
  {
   "cell_type": "markdown",
   "metadata": {},
   "source": [
    "# Decoding odor"
   ]
  },
  {
   "cell_type": "markdown",
   "metadata": {},
   "source": [
    "  ## Train/test on same day"
   ]
  },
  {
   "cell_type": "code",
   "execution_count": 11,
   "metadata": {
    "collapsed": false
   },
   "outputs": [],
   "source": [
    "decoder = LinearSVC()\n",
    "# decoder = MultinomialNB()\n",
    "cv = LeaveOneOut() #StratifiedKFold(n_splits=30)\n",
    "perf_ext2 = cross_val_score(decoder, patterns_evs_ext2, labels_ext2, cv=cv)\n",
    "perf_post = cross_val_score(decoder, patterns_evs_post, labels_post, cv=cv)"
   ]
  },
  {
   "cell_type": "markdown",
   "metadata": {},
   "source": [
    "## Train on pre test on post and vv."
   ]
  },
  {
   "cell_type": "code",
   "execution_count": 12,
   "metadata": {
    "collapsed": false
   },
   "outputs": [],
   "source": [
    "perf_ext2post = []\n",
    "\n",
    "decoder.fit(patterns_evs_ext2, labels_ext2)\n",
    "perf_ext2post.append(decoder.score(patterns_evs_post, labels_post))\n",
    "\n",
    "decoder.fit(patterns_evs_post, labels_post)\n",
    "perf_ext2post.append(decoder.score(patterns_evs_ext2, labels_ext2))"
   ]
  },
  {
   "cell_type": "code",
   "execution_count": 13,
   "metadata": {
    "collapsed": true
   },
   "outputs": [],
   "source": [
    "from matplotlib.lines import Line2D"
   ]
  },
  {
   "cell_type": "code",
   "execution_count": 14,
   "metadata": {
    "collapsed": false
   },
   "outputs": [
    {
     "data": {
      "text/plain": [
       "(0, 100)"
      ]
     },
     "execution_count": 14,
     "metadata": {},
     "output_type": "execute_result"
    },
    {
     "data": {
      "image/png": "[encoded data removed]",
      "text/plain": [
       "<matplotlib.figure.Figure at 0x7f5848119c50>"
      ]
     },
     "metadata": {},
     "output_type": "display_data"
    }
   ],
   "source": [
    "fig, ax = pl.subplots(1, 1, figsize=(1, 2))\n",
    "\n",
    "values = [np.concatenate([perf_ext2, perf_post]),  # 3 odors, same day\n",
    "         ]\n",
    "\n",
    "pt.plot_bars(np.r_[values]*100, xpos=np.arange(len(values))*3-0.5, colors='0.7', ax=ax, stderr=True)\n",
    "\n",
    "values = [perf_ext2post,  # 3 odors, cross day\n",
    "         ]\n",
    "\n",
    "pt.plot_bars(np.r_[values]*100, xpos=np.arange(len(values))*3+0.5, colors='k', ax=ax, stderr=True)\n",
    "ax.set_xticks(np.arange(1))\n",
    "\n",
    "pt.nicer_plot(ax)\n",
    "ax.spines['bottom'].set_bounds(-1.2, 1.2)\n",
    "\n",
    "ax.set_xticklabels(['CS+ vs CS-',])\n",
    "\n",
    "ax.hlines(50, -1.2, 1.2, linestyles='dotted', lw=1)\n",
    "\n",
    "ax.legend((Line2D('', '', color='0.7', lw=1),\n",
    "           Line2D('', '', color='k', lw=1),\n",
    "           Line2D('', '', color='k', linestyle='dotted', lw=1)),\n",
    "          ['Same day', 'Across days', 'Chance'],\n",
    "          fontsize=5, loc=(1.01, 0))\n",
    "\n",
    "ax.set_ylabel('% Odor decoding accuracy')\n",
    "\n",
    "ax.set_ylim(0, 100)\n",
    "\n",
    "# pl.savefig('decoding_ext2post_all_odors', format=\"pdf\", bbox_inches=\"tight\")"
   ]
  },
  {
   "cell_type": "code",
   "execution_count": 15,
   "metadata": {
    "collapsed": false
   },
   "outputs": [
    {
     "name": "stdout",
     "output_type": "stream",
     "text": [
      "Could not store variable 'IPython'. Skipping...\n",
      "Could not store variable 'pt'. Skipping...\n",
      "Could not store variable 'pl'. Skipping...\n",
      "Could not store variable 'di'. Skipping...\n",
      "Could not store variable 'ut'. Skipping...\n",
      "Could not store variable 'h5py'. Skipping...\n",
      "Could not store variable 'pickle'. Skipping...\n",
      "Could not store variable 'ip'. Skipping...\n",
      "Could not store variable 'np'. Skipping...\n",
      "Could not store variable 'sys'. Skipping...\n",
      "Could not store variable 'os'. Skipping...\n"
     ]
    }
   ],
   "source": [
    "save_workspace(db);"
   ]
  },
  {
   "cell_type": "code",
   "execution_count": 16,
   "metadata": {
    "collapsed": true
   },
   "outputs": [],
   "source": []
  }
 ],
 "metadata": {
  "anaconda-cloud": {},
  "kernelspec": {
   "display_name": "Python [default]",
   "language": "python",
   "name": "python2"
  },
  "language_info": {
   "codemirror_mode": {
    "name": "ipython",
    "version": 2
   },
   "file_extension": ".py",
   "mimetype": "text/x-python",
   "name": "python",
   "nbconvert_exporter": "python",
   "pygments_lexer": "ipython2",
   "version": "2.7.12"
  }
 },
 "nbformat": 4,
 "nbformat_minor": 2
}
