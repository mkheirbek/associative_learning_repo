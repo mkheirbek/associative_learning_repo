{
 "cells": [
  {
   "cell_type": "code",
   "execution_count": 1,
   "metadata": {
    "collapsed": false
   },
   "outputs": [
    {
     "data": {
      "text/html": [
       "<script>jQuery(function() {if (jQuery(\"body.notebook_app\").length == 0) { jQuery(\".input_area\").toggle(); jQuery(\".prompt\").toggle();}});</script>"
      ]
     },
     "metadata": {},
     "output_type": "display_data"
    },
    {
     "data": {
      "text/html": [
       "<button onclick=\"jQuery('.input_area').toggle(); jQuery('.prompt').toggle();\">Toggle code</button>"
      ]
     },
     "metadata": {},
     "output_type": "display_data"
    }
   ],
   "source": [
    "from IPython.display import display\n",
    "from IPython.display import HTML\n",
    "import IPython.core.display as di # Example: di.display_html('<h3>%s:</h3>' % str, raw=True)\n",
    "\n",
    "# This line will hide code by default when the notebook is exported as HTML\n",
    "di.display_html('<script>jQuery(function() {if (jQuery(\"body.notebook_app\").length == 0) { jQuery(\".input_area\").toggle(); jQuery(\".prompt\").toggle();}});</script>', raw=True)\n",
    "\n",
    "# This line will add a button to toggle visibility of code blocks, for use with the HTML export version\n",
    "di.display_html('''<button onclick=\"jQuery('.input_area').toggle(); jQuery('.prompt').toggle();\">Toggle code</button>''', raw=True)\n"
   ]
  },
  {
   "cell_type": "code",
   "execution_count": 2,
   "metadata": {
    "collapsed": true
   },
   "outputs": [],
   "source": [
    "# all modules necessary for this nb\n",
    "import os\n",
    "import sys\n",
    "import pickle\n",
    "\n",
    "import numpy as np\n",
    "import pylab as pl\n",
    "\n",
    "# setting parameters for default matplotlib plots\n",
    "%matplotlib inline"
   ]
  },
  {
   "cell_type": "code",
   "execution_count": 3,
   "metadata": {
    "collapsed": false
   },
   "outputs": [],
   "source": [
    "pl.style.use('fabiostyle')\n",
    "# !mkdir ../img\n",
    "\n",
    "# needs to find the library of functions\n",
    "sys.path.append('../../../code/')  # to be replaced!\n",
    "\n",
    "import utils as ut\n",
    "import plots as pt"
   ]
  },
  {
   "cell_type": "code",
   "execution_count": 4,
   "metadata": {
    "collapsed": true
   },
   "outputs": [],
   "source": [
    "NOTEBOOK_NAME = 'tuning_stability_values_JSB_pvalue01'"
   ]
  },
  {
   "cell_type": "code",
   "execution_count": 5,
   "metadata": {
    "collapsed": false
   },
   "outputs": [],
   "source": [
    "from pickleshare import PickleShareDB\n",
    "\n",
    "autorestore_folder = os.path.join(os.getcwd(), 'autorestore', NOTEBOOK_NAME)\n",
    "db = PickleShareDB(autorestore_folder)\n",
    "import sys\n",
    "from workspace import *\n",
    "import IPython\n",
    "ip = IPython.get_ipython()\n",
    "\n",
    "# this will restore all the saved variables. ignore the errors listed.\n",
    "load_workspace(ip, db)\n",
    "\n",
    "# use `save_worspace(db)` to save variables at the end"
   ]
  },
  {
   "cell_type": "code",
   "execution_count": 6,
   "metadata": {
    "collapsed": false
   },
   "outputs": [],
   "source": [
    "vars_pre = {}\n",
    "folder = '../pre/notebooks/autorestore/preprocessing/'\n",
    "for var in ('time_ax', 'events', 'cycles', 'licks',\n",
    "            'is_CSmt', 'is_rewardt',\n",
    "            'odor_CSm_ons', 'odor_rw_ons', 'odor_CSm_offs', 'odor_rw_offs',\n",
    "            'CYCLE_START', 'DELAY', 'CS_DURATION'): \n",
    "    vars_pre.update({var:ut.load_variable(var, folder=folder)})\n",
    "\n",
    "vars_post = {}\n",
    "folder = '../post/notebooks/autorestore/preprocessing/'\n",
    "for var in ('time_ax', 'events', 'cycles', 'licks',\n",
    "            'is_CSmt', 'is_rewardt',\n",
    "            'odor_CSm_ons', 'odor_rw_ons', 'odor_CSm_offs', 'odor_rw_offs',\n",
    "            'CYCLE_START', 'DELAY', 'CS_DURATION'): \n",
    "    vars_post.update({var:ut.load_variable(var, folder=folder)})\n",
    "    \n",
    "selectivity_pre = {}\n",
    "selectivity_pre.update(ut.load_variable('selectivity', folder='../pre/notebooks/autorestore/selectivity_JSB/'))\n",
    "\n",
    "selectivity_post = {}\n",
    "selectivity_post.update(ut.load_variable('selectivity', folder='../post/notebooks/autorestore/selectivity_JSB/'))\n",
    "\n",
    "selectivity_ext2 = {}\n",
    "selectivity_ext2.update(ut.load_variable('selectivity', folder='../ext2/notebooks/autorestore/selectivity_JSB/'))"
   ]
  },
  {
   "cell_type": "code",
   "execution_count": 7,
   "metadata": {
    "collapsed": true
   },
   "outputs": [],
   "source": [
    "pvalue = 0.01"
   ]
  },
  {
   "cell_type": "code",
   "execution_count": 8,
   "metadata": {
    "collapsed": false
   },
   "outputs": [
    {
     "data": {
      "text/plain": [
       "['CSmt_prebs',\n",
       " 'rewardt_licks',\n",
       " 'rewardt',\n",
       " 'CSmt_cstr',\n",
       " 'CSmt_tr',\n",
       " 'rewardt_cstr',\n",
       " 'CSmt_us',\n",
       " 'rewardt_prebs',\n",
       " 'CSmt',\n",
       " 'rewardt_tr',\n",
       " 'rewardt_us']"
      ]
     },
     "execution_count": 8,
     "metadata": {},
     "output_type": "execute_result"
    }
   ],
   "source": [
    "selectivity_pre.keys()"
   ]
  },
  {
   "cell_type": "code",
   "execution_count": 9,
   "metadata": {
    "collapsed": false
   },
   "outputs": [],
   "source": [
    "pvalues_preCS = ut.adjust_pvalues([s[0][-1] for s in selectivity_pre['rewardt']])\n",
    "d_up = np.r_[[s[1]>0 for s in selectivity_pre['rewardt']]]\n",
    "d_dn = np.r_[[s[1]<0 for s in selectivity_pre['rewardt']]]\n",
    "cells_preCS_up = (pvalues_preCS < pvalue) * d_up\n",
    "cells_preCS_dn = (pvalues_preCS < pvalue) * d_dn\n",
    "\n",
    "pvalues_postCS = ut.adjust_pvalues([s[0][-1] for s in selectivity_post['rewardt']])\n",
    "d_up = np.r_[[s[1]>0 for s in selectivity_post['rewardt']]]\n",
    "d_dn = np.r_[[s[1]<0 for s in selectivity_post['rewardt']]]\n",
    "cells_postCS_up = (pvalues_postCS < pvalue) * d_up\n",
    "cells_postCS_dn = (pvalues_postCS < pvalue) * d_dn\n",
    "\n",
    "pvalues_ext2CS = ut.adjust_pvalues([s[0][-1] for s in selectivity_ext2['rewardt']])\n",
    "d_up = np.r_[[s[1]>0 for s in selectivity_ext2['rewardt']]]\n",
    "d_dn = np.r_[[s[1]<0 for s in selectivity_ext2['rewardt']]]\n",
    "cells_ext2CS_up = (pvalues_ext2CS < pvalue) * d_up\n",
    "cells_ext2CS_dn = (pvalues_ext2CS < pvalue) * d_dn\n",
    "\n",
    "pvalues_preCSm = ut.adjust_pvalues([s[0][-1] for s in selectivity_pre['CSmt']])\n",
    "d_up = np.r_[[s[1]>0 for s in selectivity_pre['CSmt']]]\n",
    "d_dn = np.r_[[s[1]<0 for s in selectivity_pre['CSmt']]]\n",
    "cells_preCSm_up = (pvalues_preCSm < pvalue) * d_up\n",
    "cells_preCSm_dn = (pvalues_preCSm < pvalue) * d_dn\n",
    "\n",
    "pvalues_postCSm = ut.adjust_pvalues([s[0][-1] for s in selectivity_post['CSmt']])\n",
    "d_up = np.r_[[s[1]>0 for s in selectivity_post['CSmt']]]\n",
    "d_dn = np.r_[[s[1]<0 for s in selectivity_post['CSmt']]]\n",
    "cells_postCSm_up = (pvalues_postCSm < pvalue) * d_up\n",
    "cells_postCSm_dn = (pvalues_postCSm < pvalue) * d_dn\n",
    "\n",
    "pvalues_ext2CSm = ut.adjust_pvalues([s[0][-1] for s in selectivity_ext2['CSmt']])\n",
    "d_up = np.r_[[s[1]>0 for s in selectivity_ext2['CSmt']]]\n",
    "d_dn = np.r_[[s[1]<0 for s in selectivity_ext2['CSmt']]]\n",
    "cells_ext2CSm_up = (pvalues_ext2CSm < pvalue) * d_up\n",
    "cells_ext2CSm_dn = (pvalues_ext2CSm < pvalue) * d_dn"
   ]
  },
  {
   "cell_type": "code",
   "execution_count": 10,
   "metadata": {
    "collapsed": false
   },
   "outputs": [],
   "source": [
    "pvalues_preCS_tr = ut.adjust_pvalues([s[0][-1] for s in selectivity_pre['rewardt_tr']])\n",
    "d_up = np.r_[[s[1]>0 for s in selectivity_pre['rewardt']]]\n",
    "d_dn = np.r_[[s[1]<0 for s in selectivity_pre['rewardt']]]\n",
    "cells_preCS_up_tr = (pvalues_preCS_tr < pvalue) * d_up\n",
    "cells_preCS_dn_tr = (pvalues_preCS_tr < pvalue) * d_dn\n",
    "\n",
    "pvalues_postCS_tr = ut.adjust_pvalues([s[0][-1] for s in selectivity_post['rewardt_tr']])\n",
    "d_up = np.r_[[s[1]>0 for s in selectivity_post['rewardt']]]\n",
    "d_dn = np.r_[[s[1]<0 for s in selectivity_post['rewardt']]]\n",
    "cells_postCS_up_tr = (pvalues_postCS_tr < pvalue) * d_up\n",
    "cells_postCS_dn_tr = (pvalues_postCS_tr < pvalue) * d_dn\n",
    "\n",
    "pvalues_ext2CS_tr = ut.adjust_pvalues([s[0][-1] for s in selectivity_ext2['rewardt_tr']])\n",
    "d_up = np.r_[[s[1]>0 for s in selectivity_ext2['rewardt']]]\n",
    "d_dn = np.r_[[s[1]<0 for s in selectivity_ext2['rewardt']]]\n",
    "cells_ext2CS_up_tr = (pvalues_ext2CS_tr < pvalue) * d_up\n",
    "cells_ext2CS_dn_tr = (pvalues_ext2CS_tr < pvalue) * d_dn\n",
    "\n",
    "pvalues_preCSm_tr = ut.adjust_pvalues([s[0][-1] for s in selectivity_pre['CSmt_tr']])\n",
    "d_up = np.r_[[s[1]>0 for s in selectivity_pre['CSmt']]]\n",
    "d_dn = np.r_[[s[1]<0 for s in selectivity_pre['CSmt']]]\n",
    "cells_preCSm_up_tr = (pvalues_preCSm_tr < pvalue) * d_up\n",
    "cells_preCSm_dn_tr = (pvalues_preCSm_tr < pvalue) * d_dn\n",
    "\n",
    "pvalues_postCSm_tr = ut.adjust_pvalues([s[0][-1] for s in selectivity_post['CSmt_tr']])\n",
    "d_up = np.r_[[s[1]>0 for s in selectivity_post['CSmt']]]\n",
    "d_dn = np.r_[[s[1]<0 for s in selectivity_post['CSmt']]]\n",
    "cells_postCSm_up_tr = (pvalues_postCSm_tr < pvalue) * d_up\n",
    "cells_postCSm_dn_tr = (pvalues_postCSm_tr < pvalue) * d_dn\n",
    "\n",
    "pvalues_ext2CSm_tr = ut.adjust_pvalues([s[0][-1] for s in selectivity_ext2['CSmt_tr']])\n",
    "d_up = np.r_[[s[1]>0 for s in selectivity_ext2['CSmt']]]\n",
    "d_dn = np.r_[[s[1]<0 for s in selectivity_ext2['CSmt']]]\n",
    "cells_ext2CSm_up_tr = (pvalues_ext2CSm_tr < pvalue) * d_up\n",
    "cells_ext2CSm_dn_tr = (pvalues_ext2CSm_tr < pvalue) * d_dn"
   ]
  },
  {
   "cell_type": "code",
   "execution_count": 11,
   "metadata": {
    "collapsed": false
   },
   "outputs": [],
   "source": [
    "pvalues_preCS_cstr = ut.adjust_pvalues([s[0][-1] for s in selectivity_pre['rewardt_cstr']])\n",
    "d_up = np.r_[[s[1]>0 for s in selectivity_pre['rewardt_cstr']]]\n",
    "d_dn = np.r_[[s[1]<0 for s in selectivity_pre['rewardt_cstr']]]\n",
    "cells_preCS_up_cstr = (pvalues_preCS_cstr < pvalue) * d_up\n",
    "cells_preCS_dn_cstr = (pvalues_preCS_cstr < pvalue) * d_dn\n",
    "\n",
    "pvalues_postCS_cstr = ut.adjust_pvalues([s[0][-1] for s in selectivity_post['rewardt_cstr']])\n",
    "d_up = np.r_[[s[1]>0 for s in selectivity_post['rewardt_cstr']]]\n",
    "d_dn = np.r_[[s[1]<0 for s in selectivity_post['rewardt_cstr']]]\n",
    "cells_postCS_up_cstr = (pvalues_postCS_cstr < pvalue) * d_up\n",
    "cells_postCS_dn_cstr = (pvalues_postCS_cstr < pvalue) * d_dn\n",
    "\n",
    "pvalues_ext2CS_cstr = ut.adjust_pvalues([s[0][-1] for s in selectivity_ext2['rewardt_cstr']])\n",
    "d_up = np.r_[[s[1]>0 for s in selectivity_ext2['rewardt_cstr']]]\n",
    "d_dn = np.r_[[s[1]<0 for s in selectivity_ext2['rewardt_cstr']]]\n",
    "cells_ext2CS_up_cstr = (pvalues_ext2CS_cstr < pvalue) * d_up\n",
    "cells_ext2CS_dn_cstr = (pvalues_ext2CS_cstr < pvalue) * d_dn\n",
    "\n",
    "pvalues_preCSm_cstr = ut.adjust_pvalues([s[0][-1] for s in selectivity_pre['CSmt_cstr']])\n",
    "d_up = np.r_[[s[1]>0 for s in selectivity_pre['CSmt_cstr']]]\n",
    "d_dn = np.r_[[s[1]<0 for s in selectivity_pre['CSmt_cstr']]]\n",
    "cells_preCSm_up_cstr = (pvalues_preCSm_cstr < pvalue) * d_up\n",
    "cells_preCSm_dn_cstr = (pvalues_preCSm_cstr < pvalue) * d_dn\n",
    "\n",
    "pvalues_postCSm_cstr = ut.adjust_pvalues([s[0][-1] for s in selectivity_post['CSmt_cstr']])\n",
    "d_up = np.r_[[s[1]>0 for s in selectivity_post['CSmt_cstr']]]\n",
    "d_dn = np.r_[[s[1]<0 for s in selectivity_post['CSmt_cstr']]]\n",
    "cells_postCSm_up_cstr = (pvalues_postCSm_cstr < pvalue) * d_up\n",
    "cells_postCSm_dn_cstr = (pvalues_postCSm_cstr < pvalue) * d_dn\n",
    "\n",
    "pvalues_ext2CSm_cstr = ut.adjust_pvalues([s[0][-1] for s in selectivity_ext2['CSmt_cstr']])\n",
    "d_up = np.r_[[s[1]>0 for s in selectivity_ext2['CSmt_cstr']]]\n",
    "d_dn = np.r_[[s[1]<0 for s in selectivity_ext2['CSmt_cstr']]]\n",
    "cells_ext2CSm_up_cstr = (pvalues_ext2CSm_cstr < pvalue) * d_up\n",
    "cells_ext2CSm_dn_cstr = (pvalues_ext2CSm_cstr < pvalue) * d_dn"
   ]
  },
  {
   "cell_type": "code",
   "execution_count": 12,
   "metadata": {
    "collapsed": true
   },
   "outputs": [],
   "source": [
    "pvalues_preCS_licks = ut.adjust_pvalues([s[0][-1] for s in selectivity_pre['rewardt_licks']])\n",
    "d_up = np.r_[[s[1]>0 for s in selectivity_pre['rewardt_licks']]]\n",
    "d_dn = np.r_[[s[1]<0 for s in selectivity_pre['rewardt_licks']]]\n",
    "cells_preCS_up_licks = (pvalues_preCS_licks < pvalue) * d_up\n",
    "cells_preCS_dn_licks = (pvalues_preCS_licks < pvalue) * d_dn\n",
    "\n",
    "pvalues_postCS_licks = ut.adjust_pvalues([s[0][-1] for s in selectivity_post['rewardt_licks']])\n",
    "d_up = np.r_[[s[1]>0 for s in selectivity_post['rewardt_licks']]]\n",
    "d_dn = np.r_[[s[1]<0 for s in selectivity_post['rewardt_licks']]]\n",
    "cells_postCS_up_licks = (pvalues_postCS_licks < pvalue) * d_up\n",
    "cells_postCS_dn_licks = (pvalues_postCS_licks < pvalue) * d_dn\n",
    "\n",
    "pvalues_ext2CS_licks = ut.adjust_pvalues([s[0][-1] for s in selectivity_ext2['rewardt_licks']])\n",
    "d_up = np.r_[[s[1]>0 for s in selectivity_ext2['rewardt_licks']]]\n",
    "d_dn = np.r_[[s[1]<0 for s in selectivity_ext2['rewardt_licks']]]\n",
    "cells_ext2CS_up_licks = (pvalues_ext2CS_licks < pvalue) * d_up\n",
    "cells_ext2CS_dn_licks = (pvalues_ext2CS_licks < pvalue) * d_dn"
   ]
  },
  {
   "cell_type": "code",
   "execution_count": 13,
   "metadata": {
    "collapsed": false
   },
   "outputs": [],
   "source": [
    "pvalues_preCS_us = ut.adjust_pvalues([s[0][-1] for s in selectivity_pre['rewardt_us']])\n",
    "d_up = np.r_[[s[1]>0 for s in selectivity_pre['rewardt_us']]]\n",
    "d_dn = np.r_[[s[1]<0 for s in selectivity_pre['rewardt_us']]]\n",
    "cells_preCS_up_us = (pvalues_preCS_us < pvalue) * d_up\n",
    "cells_preCS_dn_us = (pvalues_preCS_us < pvalue) * d_dn\n",
    "\n",
    "pvalues_postCS_us = ut.adjust_pvalues([s[0][-1] for s in selectivity_post['rewardt_us']])\n",
    "d_up = np.r_[[s[1]>0 for s in selectivity_post['rewardt_us']]]\n",
    "d_dn = np.r_[[s[1]<0 for s in selectivity_post['rewardt_us']]]\n",
    "cells_postCS_up_us = (pvalues_postCS_us < pvalue) * d_up\n",
    "cells_postCS_dn_us = (pvalues_postCS_us < pvalue) * d_dn\n",
    "\n",
    "pvalues_ext2CS_us = ut.adjust_pvalues([s[0][-1] for s in selectivity_ext2['rewardt_us']])\n",
    "d_up = np.r_[[s[1]>0 for s in selectivity_ext2['rewardt_us']]]\n",
    "d_dn = np.r_[[s[1]<0 for s in selectivity_ext2['rewardt_us']]]\n",
    "cells_ext2CS_up_us = (pvalues_ext2CS_us < pvalue) * d_up\n",
    "cells_ext2CS_dn_us = (pvalues_ext2CS_us < pvalue) * d_dn\n",
    "\n",
    "pvalues_preCSm_us = ut.adjust_pvalues([s[0][-1] for s in selectivity_pre['CSmt_us']])\n",
    "d_up = np.r_[[s[1]>0 for s in selectivity_pre['CSmt_us']]]\n",
    "d_dn = np.r_[[s[1]<0 for s in selectivity_pre['CSmt_us']]]\n",
    "cells_preCSm_up_us = (pvalues_preCSm_us < pvalue) * d_up\n",
    "cells_preCSm_dn_us = (pvalues_preCSm_us < pvalue) * d_dn\n",
    "\n",
    "pvalues_postCSm_us = ut.adjust_pvalues([s[0][-1] for s in selectivity_post['CSmt_us']])\n",
    "d_up = np.r_[[s[1]>0 for s in selectivity_post['CSmt_us']]]\n",
    "d_dn = np.r_[[s[1]<0 for s in selectivity_post['CSmt_us']]]\n",
    "cells_postCSm_up_us = (pvalues_postCSm_us < pvalue) * d_up\n",
    "cells_postCSm_dn_us = (pvalues_postCSm_us < pvalue) * d_dn\n",
    "\n",
    "pvalues_ext2CSm_us = ut.adjust_pvalues([s[0][-1] for s in selectivity_ext2['CSmt_us']])\n",
    "d_up = np.r_[[s[1]>0 for s in selectivity_ext2['CSmt_us']]]\n",
    "d_dn = np.r_[[s[1]<0 for s in selectivity_ext2['CSmt_us']]]\n",
    "cells_ext2CSm_up_us = (pvalues_ext2CSm_us < pvalue) * d_up\n",
    "cells_ext2CSm_dn_us = (pvalues_ext2CSm_us < pvalue) * d_dn"
   ]
  },
  {
   "cell_type": "code",
   "execution_count": 14,
   "metadata": {
    "collapsed": false
   },
   "outputs": [
    {
     "name": "stdout",
     "output_type": "stream",
     "text": [
      "Could not store variable 'di'. Skipping...\n",
      "Could not store variable 'os'. Skipping...\n",
      "Could not store variable 'IPython'. Skipping...\n",
      "Could not store variable 'pt'. Skipping...\n",
      "Could not store variable 'pl'. Skipping...\n",
      "Could not store variable 'ut'. Skipping...\n",
      "Could not store variable 'pickle'. Skipping...\n",
      "Could not store variable 'ip'. Skipping...\n",
      "Could not store variable 'np'. Skipping...\n",
      "Could not store variable 'sys'. Skipping...\n"
     ]
    }
   ],
   "source": [
    "save_workspace(db)"
   ]
  },
  {
   "cell_type": "code",
   "execution_count": null,
   "metadata": {
    "collapsed": true
   },
   "outputs": [],
   "source": []
  }
 ],
 "metadata": {
  "anaconda-cloud": {},
  "kernelspec": {
   "display_name": "Python [default]",
   "language": "python",
   "name": "python2"
  },
  "language_info": {
   "codemirror_mode": {
    "name": "ipython",
    "version": 2
   },
   "file_extension": ".py",
   "mimetype": "text/x-python",
   "name": "python",
   "nbconvert_exporter": "python",
   "pygments_lexer": "ipython2",
   "version": "2.7.12"
  }
 },
 "nbformat": 4,
 "nbformat_minor": 2
}
