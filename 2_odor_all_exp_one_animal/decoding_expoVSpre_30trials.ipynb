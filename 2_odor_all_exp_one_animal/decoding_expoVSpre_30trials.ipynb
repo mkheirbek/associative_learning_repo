{
 "cells": [
  {
   "cell_type": "code",
   "execution_count": 1,
   "metadata": {
    "collapsed": false
   },
   "outputs": [
    {
     "data": {
      "text/html": [
       "<script>jQuery(function() {if (jQuery(\"body.notebook_app\").length == 0) { jQuery(\".input_area\").toggle(); jQuery(\".prompt\").toggle();}});</script>"
      ]
     },
     "metadata": {},
     "output_type": "display_data"
    },
    {
     "data": {
      "text/html": [
       "<button onclick=\"jQuery('.input_area').toggle(); jQuery('.prompt').toggle();\">Toggle code</button>"
      ]
     },
     "metadata": {},
     "output_type": "display_data"
    }
   ],
   "source": [
    "from IPython.display import display\n",
    "from IPython.display import HTML\n",
    "import IPython.core.display as di # Example: di.display_html('<h3>%s:</h3>' % str, raw=True)\n",
    "\n",
    "# This line will hide code by default when the notebook is exported as HTML\n",
    "di.display_html('<script>jQuery(function() {if (jQuery(\"body.notebook_app\").length == 0) { jQuery(\".input_area\").toggle(); jQuery(\".prompt\").toggle();}});</script>', raw=True)\n",
    "\n",
    "# This line will add a button to toggle visibility of code blocks, for use with the HTML export version\n",
    "di.display_html('''<button onclick=\"jQuery('.input_area').toggle(); jQuery('.prompt').toggle();\">Toggle code</button>''', raw=True)\n"
   ]
  },
  {
   "cell_type": "code",
   "execution_count": 2,
   "metadata": {
    "collapsed": true
   },
   "outputs": [],
   "source": [
    "# all modules necessary for this nb\n",
    "import os\n",
    "import sys\n",
    "import pickle\n",
    "\n",
    "import numpy as np\n",
    "import pylab as pl\n",
    "\n",
    "# setting parameters for default matplotlib plots\n",
    "%matplotlib inline"
   ]
  },
  {
   "cell_type": "code",
   "execution_count": 3,
   "metadata": {
    "collapsed": true
   },
   "outputs": [],
   "source": [
    "pl.style.use('fabiostyle')\n",
    "# needs to find the library of functions\n",
    "sys.path.append('../../../code/')  # to be replaced!\n",
    "\n",
    "import utils as ut\n",
    "import plots as pt"
   ]
  },
  {
   "cell_type": "code",
   "execution_count": 4,
   "metadata": {
    "collapsed": true
   },
   "outputs": [],
   "source": [
    "NOTEBOOK_NAME = 'decoding_expoVSpre_30trials'"
   ]
  },
  {
   "cell_type": "code",
   "execution_count": 5,
   "metadata": {
    "collapsed": true
   },
   "outputs": [],
   "source": [
    "from pickleshare import PickleShareDB\n",
    "\n",
    "autorestore_folder = os.path.join(os.getcwd(), 'autorestore', NOTEBOOK_NAME)\n",
    "db = PickleShareDB(autorestore_folder)\n",
    "import sys\n",
    "from workspace import *\n",
    "import IPython\n",
    "ip = IPython.get_ipython()\n",
    "\n",
    "# this will restore all the saved variables. ignore the errors listed.\n",
    "#load_workspace(ip, db)\n",
    "\n",
    "# use `save_worspace(db)` to save variables at the end"
   ]
  },
  {
   "cell_type": "code",
   "execution_count": 6,
   "metadata": {
    "collapsed": false
   },
   "outputs": [],
   "source": [
    "vars_expo = {}\n",
    "folder = '../2_odor_expo/notebooks/autorestore/preprocessing'\n",
    "for var in ('time_ax', 'events', 'cycles', 'is_CSmt', 'is_rewardt',\n",
    "            'CYCLE_START', 'CS_DURATION', 'DELAY'):\n",
    "    vars_expo.update({var:ut.load_variable(var, folder=folder)})\n",
    "\n",
    "vars_pre = {}\n",
    "folder = '../pre/notebooks/autorestore/preprocessing'\n",
    "for var in ('time_ax', 'events', 'cycles', 'is_CSmt', 'is_rewardt',\n",
    "            'CYCLE_START', 'CS_DURATION', 'DELAY'):\n",
    "    vars_pre.update({var:ut.load_variable(var, folder=folder)})"
   ]
  },
  {
   "cell_type": "code",
   "execution_count": 7,
   "metadata": {
    "collapsed": true
   },
   "outputs": [],
   "source": [
    "import h5py\n",
    "filepath = '../data/cellreg_expoVSpre.mat'\n",
    "arrays = {}\n",
    "f = h5py.File(filepath)\n",
    "cellreg_map = np.array(f['cell_registered_struct']['cell_to_index_map'])-1\n",
    "keep = np.prod(cellreg_map, 0)>0\n",
    "cellregs_expopre = dict(zip(['expo', 'pre'], cellreg_map.T[keep].T.astype(int)))"
   ]
  },
  {
   "cell_type": "code",
   "execution_count": 8,
   "metadata": {
    "collapsed": false
   },
   "outputs": [],
   "source": [
    "patterns_evs_expo = ut.extract_patterns(vars_expo['time_ax'], vars_expo['events'], vars_expo['cycles'],\n",
    "                                       vars_expo['CYCLE_START'], vars_expo['CS_DURATION'], vars_expo['CS_DURATION'] + vars_expo['DELAY'])\n",
    "\n",
    "patterns_evs_pre = ut.extract_patterns(vars_pre['time_ax'], vars_pre['events'], vars_pre['cycles'],\n",
    "                                       vars_pre['CYCLE_START'], vars_pre['CS_DURATION'], vars_pre['CS_DURATION'] + vars_pre['DELAY'])\n",
    "\n",
    "patterns_CS_evs_expo = ut.extract_patterns(vars_expo['time_ax'], vars_expo['events'], vars_expo['cycles'],\n",
    "                                       vars_expo['CYCLE_START'], 0, vars_expo['CS_DURATION'])\n",
    "\n",
    "patterns_CS_evs_pre = ut.extract_patterns(vars_pre['time_ax'], vars_pre['events'], vars_pre['cycles'],\n",
    "                                       vars_pre['CYCLE_START'], 0, vars_pre['CS_DURATION'])\n",
    "\n",
    "labels_expo = (np.r_[vars_expo['is_rewardt']] * 1)\n",
    "labels_pre = (np.r_[vars_pre['is_rewardt']] * 1)"
   ]
  },
  {
   "cell_type": "code",
   "execution_count": 9,
   "metadata": {
    "collapsed": false
   },
   "outputs": [],
   "source": [
    "patterns_evs_expopre = patterns_evs_expo[:, cellregs_expopre['expo']]\n",
    "patterns_evs_pre = patterns_evs_pre[:, cellregs_expopre['pre']]\n",
    "patterns_CS_evs_expopre = patterns_CS_evs_expo[:, cellregs_expopre['expo']]\n",
    "patterns_CS_evs_pre = patterns_CS_evs_pre[:, cellregs_expopre['pre']]"
   ]
  },
  {
   "cell_type": "code",
   "execution_count": 10,
   "metadata": {
    "collapsed": false
   },
   "outputs": [],
   "source": [
    "patterns_evs_pre_first30 = patterns_evs_pre[:30]\n",
    "labels_pre_first30 = labels_pre[:30]\n",
    "patterns_CS_evs_pre_first30 = patterns_CS_evs_pre[:30]"
   ]
  },
  {
   "cell_type": "code",
   "execution_count": 11,
   "metadata": {
    "collapsed": false
   },
   "outputs": [],
   "source": [
    "from sklearn.naive_bayes import MultinomialNB\n",
    "from sklearn.svm import LinearSVC\n",
    "\n",
    "from sklearn.model_selection import cross_val_score, StratifiedKFold, LeaveOneOut"
   ]
  },
  {
   "cell_type": "markdown",
   "metadata": {},
   "source": [
    "# Decoding odor"
   ]
  },
  {
   "cell_type": "markdown",
   "metadata": {},
   "source": [
    "  ## Train/test on same day"
   ]
  },
  {
   "cell_type": "code",
   "execution_count": 12,
   "metadata": {
    "collapsed": false
   },
   "outputs": [],
   "source": [
    "decoder = LinearSVC()\n",
    "# decoder = MultinomialNB()\n",
    "cv = LeaveOneOut()\n",
    "perf_expo_first30 = cross_val_score(decoder, patterns_evs_expo[:30], labels_expo[:30], cv=cv)\n",
    "perf_pre_first30 = cross_val_score(decoder, patterns_evs_pre[:30], labels_pre[:30], cv=cv)"
   ]
  },
  {
   "cell_type": "code",
   "execution_count": 13,
   "metadata": {
    "collapsed": false
   },
   "outputs": [
    {
     "data": {
      "text/plain": [
       "120"
      ]
     },
     "execution_count": 13,
     "metadata": {},
     "output_type": "execute_result"
    }
   ],
   "source": [
    "len(patterns_evs_pre)"
   ]
  },
  {
   "cell_type": "markdown",
   "metadata": {},
   "source": [
    "## Train on expo, test on post and vv."
   ]
  },
  {
   "cell_type": "code",
   "execution_count": 14,
   "metadata": {
    "collapsed": false
   },
   "outputs": [],
   "source": [
    "perf_expopre_first30 = []\n",
    "decoder.fit(patterns_evs_expopre[:30], labels_expo[:30])\n",
    "perf_expopre_first30.append(decoder.score(patterns_evs_pre[:30], labels_pre[:30]))\n",
    "decoder.fit(patterns_evs_pre[:30], labels_pre[:30])\n",
    "perf_expopre_first30.append(decoder.score(patterns_evs_expopre[:30], labels_expo[:30]))\n",
    "perf_expopre_first30 = np.array(perf_expopre_first30)"
   ]
  },
  {
   "cell_type": "code",
   "execution_count": 15,
   "metadata": {
    "collapsed": true
   },
   "outputs": [],
   "source": [
    "from matplotlib.lines import Line2D"
   ]
  },
  {
   "cell_type": "code",
   "execution_count": 16,
   "metadata": {
    "collapsed": false
   },
   "outputs": [],
   "source": [
    "def plot_it(scores_pre, scores_post, scores_prepost, ax, labels=['Sess \\n1', 'Sess\\n2', 'Cross\\nsession'], colors=['0.7', '0.7', 'k'],\n",
    "            dots=False):\n",
    "    values = (100*(scores_pre),\n",
    "              100*(scores_post),\n",
    "              100*(scores_prepost),)\n",
    "    pt.plot_bars(values, ax=ax, stderr=True, colors=colors)\n",
    "\n",
    "    ax.set_xticks(range(3))\n",
    "    ax.set_xticklabels(labels, fontsize=4)\n",
    "\n",
    "    ax.hlines(50, -0.5, 2.5, lw=1, zorder=0, linestyles='dashed', color='0.7')\n",
    "\n",
    "    ax.set_ylim(0, 100)\n",
    "    \n",
    "    if dots:\n",
    "        for ani in scores_pre.keys():\n",
    "            ax.plot(np.arange(len(values))+np.random.rand(len(values))*0.1-0.05,\n",
    "                [np.mean(scores_pre[ani])*100,\n",
    "                     np.mean(scores_post[ani])*100,\n",
    "                     np.mean(scores_prepost[ani])*100],            \n",
    "                    'o', mew=0, alpha=0.5, zorder=0, ms=3)"
   ]
  },
  {
   "cell_type": "code",
   "execution_count": 17,
   "metadata": {
    "collapsed": false
   },
   "outputs": [
    {
     "data": {
      "image/png": "[encoded data removed]",
      "text/plain": [
       "<matplotlib.figure.Figure at 0x7fe92c12a3d0>"
      ]
     },
     "metadata": {},
     "output_type": "display_data"
    }
   ],
   "source": [
    "fig, axs = pl.subplots(1, 5, figsize=(5, 2), sharey=True)\n",
    "\n",
    "\n",
    "axs[0].set_ylabel('Decoding performance %\\n(using trace period)\\ntrials 1-30')\n",
    "\n",
    "plot_it(perf_expo_first30, perf_pre_first30, perf_expopre_first30, axs[0], \n",
    "        labels=['Expo', 'Pre', 'Cross\\nSession'], colors = ['limegreen','b','k'])\n",
    "\n",
    "#ax.set_ylim(0, 100)\n",
    "\n",
    "# fig.savefig('../img/%s__across_session_cellreg.pdf'%NOTEBOOK_NAME, bbox='tight')\n",
    "\n",
    "# fig.savefig('../img/%s__across_session_cellreg.pdf'%NOTEBOOK_NAME, bbox='tight')"
   ]
  },
  {
   "cell_type": "code",
   "execution_count": 18,
   "metadata": {
    "collapsed": false
   },
   "outputs": [
    {
     "name": "stdout",
     "output_type": "stream",
     "text": [
      "Could not store variable 'di'. Skipping...\n",
      "Could not store variable 'h5py'. Skipping...\n",
      "Could not store variable 'os'. Skipping...\n",
      "Could not store variable 'IPython'. Skipping...\n",
      "Could not store variable 'pt'. Skipping...\n",
      "Could not store variable 'pl'. Skipping...\n",
      "Could not store variable 'ut'. Skipping...\n",
      "Could not store variable 'pickle'. Skipping...\n",
      "Could not store variable 'ip'. Skipping...\n",
      "Could not store variable 'np'. Skipping...\n",
      "Could not store variable 'sys'. Skipping...\n"
     ]
    }
   ],
   "source": [
    "save_workspace(db);"
   ]
  },
  {
   "cell_type": "code",
   "execution_count": 19,
   "metadata": {
    "collapsed": true
   },
   "outputs": [],
   "source": []
  }
 ],
 "metadata": {
  "anaconda-cloud": {},
  "kernelspec": {
   "display_name": "Python [default]",
   "language": "python",
   "name": "python2"
  },
  "language_info": {
   "codemirror_mode": {
    "name": "ipython",
    "version": 2
   },
   "file_extension": ".py",
   "mimetype": "text/x-python",
   "name": "python",
   "nbconvert_exporter": "python",
   "pygments_lexer": "ipython2",
   "version": "2.7.12"
  }
 },
 "nbformat": 4,
 "nbformat_minor": 2
}
