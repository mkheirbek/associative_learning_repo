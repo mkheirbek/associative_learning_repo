{
 "cells": [
  {
   "cell_type": "code",
   "execution_count": 1,
   "metadata": {
    "collapsed": false
   },
   "outputs": [
    {
     "data": {
      "text/html": [
       "<script>jQuery(function() {if (jQuery(\"body.notebook_app\").length == 0) { jQuery(\".input_area\").toggle(); jQuery(\".prompt\").toggle();}});</script>"
      ]
     },
     "metadata": {},
     "output_type": "display_data"
    },
    {
     "data": {
      "text/html": [
       "<button onclick=\"jQuery('.input_area').toggle(); jQuery('.prompt').toggle();\">Toggle code</button>"
      ]
     },
     "metadata": {},
     "output_type": "display_data"
    }
   ],
   "source": [
    "from IPython.display import display\n",
    "from IPython.display import HTML\n",
    "import IPython.core.display as di # Example: di.display_html('<h3>%s:</h3>' % str, raw=True)\n",
    "\n",
    "# This line will hide code by default when the notebook is exported as HTML\n",
    "di.display_html('<script>jQuery(function() {if (jQuery(\"body.notebook_app\").length == 0) { jQuery(\".input_area\").toggle(); jQuery(\".prompt\").toggle();}});</script>', raw=True)\n",
    "\n",
    "# This line will add a button to toggle visibility of code blocks, for use with the HTML export version\n",
    "di.display_html('''<button onclick=\"jQuery('.input_area').toggle(); jQuery('.prompt').toggle();\">Toggle code</button>''', raw=True)\n"
   ]
  },
  {
   "cell_type": "code",
   "execution_count": 2,
   "metadata": {
    "collapsed": true
   },
   "outputs": [],
   "source": [
    "# all modules necessary for this nb\n",
    "import os\n",
    "import sys\n",
    "import pickle\n",
    "\n",
    "import numpy as np\n",
    "import pylab as pl\n",
    "\n",
    "# setting parameters for default matplotlib plots\n",
    "%matplotlib inline"
   ]
  },
  {
   "cell_type": "code",
   "execution_count": 3,
   "metadata": {
    "collapsed": true
   },
   "outputs": [],
   "source": [
    "pl.style.use('fabiostyle')\n",
    "# needs to find the library of functions\n",
    "sys.path.append('../../../code/')  # to be replaced!\n",
    "\n",
    "import utils as ut\n",
    "import plots as pt"
   ]
  },
  {
   "cell_type": "code",
   "execution_count": 4,
   "metadata": {
    "collapsed": true
   },
   "outputs": [],
   "source": [
    "NOTEBOOK_NAME = 'decoding_expoVSall'"
   ]
  },
  {
   "cell_type": "code",
   "execution_count": 5,
   "metadata": {
    "collapsed": true
   },
   "outputs": [],
   "source": [
    "from pickleshare import PickleShareDB\n",
    "\n",
    "autorestore_folder = os.path.join(os.getcwd(), 'autorestore', NOTEBOOK_NAME)\n",
    "db = PickleShareDB(autorestore_folder)\n",
    "import sys\n",
    "from workspace import *\n",
    "import IPython\n",
    "ip = IPython.get_ipython()\n",
    "\n",
    "# this will restore all the saved variables. ignore the errors listed.\n",
    "#load_workspace(ip, db)\n",
    "\n",
    "# use `save_worspace(db)` to save variables at the end"
   ]
  },
  {
   "cell_type": "code",
   "execution_count": 6,
   "metadata": {
    "collapsed": false
   },
   "outputs": [],
   "source": [
    "vars_expo = {}\n",
    "folder = '../2_odor_expo/notebooks/autorestore/preprocessing'\n",
    "for var in ('time_ax', 'events', 'cycles', 'is_CSmt', 'is_rewardt',\n",
    "            'CYCLE_START', 'CS_DURATION', 'DELAY'):\n",
    "    vars_expo.update({var:ut.load_variable(var, folder=folder)})\n",
    "\n",
    "vars_pre = {}\n",
    "folder = '../pre/notebooks/autorestore/preprocessing'\n",
    "for var in ('time_ax', 'events', 'cycles', 'is_CSmt', 'is_rewardt',\n",
    "            'CYCLE_START', 'CS_DURATION', 'DELAY'):\n",
    "    vars_pre.update({var:ut.load_variable(var, folder=folder)})\n",
    "    \n",
    "vars_post = {}\n",
    "folder = '../post/notebooks/autorestore/preprocessing'\n",
    "for var in ('time_ax', 'events', 'cycles', 'is_CSmt', 'is_rewardt',\n",
    "            'CYCLE_START', 'CS_DURATION', 'DELAY'):\n",
    "    vars_post.update({var:ut.load_variable(var, folder=folder)})\n",
    "    \n",
    "vars_ext1 = {}\n",
    "folder = '../ext1/notebooks/autorestore/preprocessing'\n",
    "for var in ('time_ax', 'events', 'cycles', 'is_CSmt', 'is_rewardt',\n",
    "            'CYCLE_START', 'CS_DURATION', 'DELAY'):\n",
    "    vars_ext1.update({var:ut.load_variable(var, folder=folder)})\n",
    "    \n",
    "vars_ext2 = {}\n",
    "folder = '../ext2/notebooks/autorestore/preprocessing'\n",
    "for var in ('time_ax', 'events', 'cycles', 'is_CSmt', 'is_rewardt',\n",
    "            'CYCLE_START', 'CS_DURATION', 'DELAY'):\n",
    "    vars_ext2.update({var:ut.load_variable(var, folder=folder)})\n",
    "    \n",
    "vars_renew = {}\n",
    "folder = '../renew/notebooks/autorestore/preprocessing'\n",
    "for var in ('time_ax', 'events', 'cycles', 'is_CSmt', 'is_rewardt',\n",
    "            'CYCLE_START', 'CS_DURATION', 'DELAY'):\n",
    "    vars_renew.update({var:ut.load_variable(var, folder=folder)})"
   ]
  },
  {
   "cell_type": "code",
   "execution_count": 7,
   "metadata": {
    "collapsed": true
   },
   "outputs": [],
   "source": [
    "import h5py\n",
    "filepath = '../data/cellreg_expoVSpre.mat'\n",
    "arrays = {}\n",
    "f = h5py.File(filepath)\n",
    "cellreg_map = np.array(f['cell_registered_struct']['cell_to_index_map'])-1\n",
    "keep = np.prod(cellreg_map, 0)>0\n",
    "cellregs_expopre = dict(zip(['expo', 'pre'], cellreg_map.T[keep].T.astype(int)))"
   ]
  },
  {
   "cell_type": "code",
   "execution_count": 8,
   "metadata": {
    "collapsed": false
   },
   "outputs": [],
   "source": [
    "import h5py\n",
    "filepath = '../data/cellreg_expoVSpost.mat'\n",
    "arrays = {}\n",
    "f = h5py.File(filepath)\n",
    "cellreg_map = np.array(f['cell_registered_struct']['cell_to_index_map'])-1\n",
    "keep = np.prod(cellreg_map, 0)>0\n",
    "cellregs_expopost = dict(zip(['expo', 'post'], cellreg_map.T[keep].T.astype(int)))"
   ]
  },
  {
   "cell_type": "code",
   "execution_count": 9,
   "metadata": {
    "collapsed": true
   },
   "outputs": [],
   "source": [
    "import h5py\n",
    "filepath = '../data/cellreg_expoVSext1.mat'\n",
    "arrays = {}\n",
    "f = h5py.File(filepath)\n",
    "cellreg_map = np.array(f['cell_registered_struct']['cell_to_index_map'])-1\n",
    "keep = np.prod(cellreg_map, 0)>0\n",
    "cellregs_expoext1 = dict(zip(['expo', 'ext1'], cellreg_map.T[keep].T.astype(int)))"
   ]
  },
  {
   "cell_type": "code",
   "execution_count": 10,
   "metadata": {
    "collapsed": true
   },
   "outputs": [],
   "source": [
    "import h5py\n",
    "filepath = '../data/cellreg_expoVSext2.mat'\n",
    "arrays = {}\n",
    "f = h5py.File(filepath)\n",
    "cellreg_map = np.array(f['cell_registered_struct']['cell_to_index_map'])-1\n",
    "keep = np.prod(cellreg_map, 0)>0\n",
    "cellregs_expoext2 = dict(zip(['expo', 'ext2'], cellreg_map.T[keep].T.astype(int)))"
   ]
  },
  {
   "cell_type": "code",
   "execution_count": 11,
   "metadata": {
    "collapsed": true
   },
   "outputs": [],
   "source": [
    "import h5py\n",
    "filepath = '../data/cellreg_expoVSrenew.mat'\n",
    "arrays = {}\n",
    "f = h5py.File(filepath)\n",
    "cellreg_map = np.array(f['cell_registered_struct']['cell_to_index_map'])-1\n",
    "keep = np.prod(cellreg_map, 0)>0\n",
    "cellregs_exporenew = dict(zip(['expo', 'renew'], cellreg_map.T[keep].T.astype(int)))"
   ]
  },
  {
   "cell_type": "code",
   "execution_count": 12,
   "metadata": {
    "collapsed": false
   },
   "outputs": [],
   "source": [
    "patterns_evs_expo = ut.extract_patterns(vars_expo['time_ax'], vars_expo['events'], vars_expo['cycles'],\n",
    "                                       vars_expo['CYCLE_START'], vars_expo['CS_DURATION'], vars_expo['CS_DURATION'] + vars_expo['DELAY'])\n",
    "labels_expo = (np.r_[vars_expo['is_rewardt']] * 1)\n",
    "\n",
    "\n",
    "patterns_evs_pre = ut.extract_patterns(vars_pre['time_ax'], vars_pre['events'], vars_pre['cycles'],\n",
    "                                       vars_pre['CYCLE_START'], vars_pre['CS_DURATION'], vars_pre['CS_DURATION'] + vars_pre['DELAY'])\n",
    "labels_pre = (np.r_[vars_pre['is_rewardt']] * 1)\n",
    "\n",
    "\n",
    "patterns_evs_post = ut.extract_patterns(vars_post['time_ax'], vars_post['events'], vars_post['cycles'],\n",
    "                                       vars_post['CYCLE_START'], vars_post['CS_DURATION'], vars_post['CS_DURATION'] + vars_post['DELAY'])\n",
    "labels_post = (np.r_[vars_post['is_rewardt']] * 1)\n",
    "\n",
    "\n",
    "patterns_evs_ext1 = ut.extract_patterns(vars_ext1['time_ax'], vars_ext1['events'], vars_ext1['cycles'],\n",
    "                                       vars_ext1['CYCLE_START'], vars_ext1['CS_DURATION'], vars_ext1['CS_DURATION'] + vars_ext1['DELAY'])\n",
    "labels_ext1 = (np.r_[vars_ext1['is_rewardt']] * 1)\n",
    "\n",
    "\n",
    "patterns_evs_ext2 = ut.extract_patterns(vars_ext2['time_ax'], vars_ext2['events'], vars_ext2['cycles'],\n",
    "                                       vars_ext2['CYCLE_START'], vars_ext2['CS_DURATION'], vars_ext2['CS_DURATION'] + vars_ext2['DELAY'])\n",
    "labels_ext2 = (np.r_[vars_ext2['is_rewardt']] * 1)\n",
    "\n",
    "\n",
    "patterns_evs_renew = ut.extract_patterns(vars_renew['time_ax'], vars_renew['events'], vars_renew['cycles'],\n",
    "                                       vars_renew['CYCLE_START'], vars_renew['CS_DURATION'], vars_renew['CS_DURATION'] + vars_renew['DELAY'])\n",
    "labels_renew = (np.r_[vars_renew['is_rewardt']] * 1)"
   ]
  },
  {
   "cell_type": "code",
   "execution_count": 13,
   "metadata": {
    "collapsed": false
   },
   "outputs": [],
   "source": [
    "patterns_evs_expopre = patterns_evs_expo[:, cellregs_expopre['expo']]\n",
    "patterns_evs_expopost = patterns_evs_expo[:, cellregs_expopost['expo']]\n",
    "patterns_evs_expoext1 = patterns_evs_expo[:, cellregs_expoext1['expo']]\n",
    "patterns_evs_expoext2 = patterns_evs_expo[:, cellregs_expoext2['expo']]\n",
    "patterns_evs_exporenew = patterns_evs_expo[:, cellregs_exporenew['expo']]\n",
    "patterns_evs_pre = patterns_evs_pre[:, cellregs_expopre['pre']]\n",
    "patterns_evs_post = patterns_evs_post[:, cellregs_expopost['post']]\n",
    "patterns_evs_ext1 = patterns_evs_ext1[:, cellregs_expoext1['ext1']]\n",
    "patterns_evs_ext2 = patterns_evs_ext2[:, cellregs_expoext2['ext2']]\n",
    "patterns_evs_renew = patterns_evs_renew[:, cellregs_exporenew['renew']]"
   ]
  },
  {
   "cell_type": "code",
   "execution_count": 14,
   "metadata": {
    "collapsed": false
   },
   "outputs": [],
   "source": [
    "from sklearn.naive_bayes import MultinomialNB\n",
    "from sklearn.svm import LinearSVC\n",
    "\n",
    "from sklearn.model_selection import cross_val_score, StratifiedKFold, LeaveOneOut"
   ]
  },
  {
   "cell_type": "markdown",
   "metadata": {},
   "source": [
    "# Decoding odor"
   ]
  },
  {
   "cell_type": "markdown",
   "metadata": {},
   "source": [
    "  ## Train/test on same day"
   ]
  },
  {
   "cell_type": "code",
   "execution_count": 15,
   "metadata": {
    "collapsed": false
   },
   "outputs": [],
   "source": [
    "decoder = LinearSVC()\n",
    "# decoder = MultinomialNB()\n",
    "cv = LeaveOneOut()\n",
    "perf_expo = cross_val_score(decoder, patterns_evs_expo, labels_expo, cv=cv)\n",
    "perf_pre = cross_val_score(decoder, patterns_evs_pre, labels_pre, cv=cv)\n",
    "perf_post = cross_val_score(decoder, patterns_evs_post, labels_post, cv=cv)\n",
    "perf_ext1 = cross_val_score(decoder, patterns_evs_ext1, labels_ext1, cv=cv)\n",
    "perf_ext2 = cross_val_score(decoder, patterns_evs_ext2, labels_ext2, cv=cv)\n",
    "perf_renew = cross_val_score(decoder, patterns_evs_renew, labels_renew, cv=cv)"
   ]
  },
  {
   "cell_type": "markdown",
   "metadata": {},
   "source": [
    "## Train on expo, test on post and vv."
   ]
  },
  {
   "cell_type": "code",
   "execution_count": 16,
   "metadata": {
    "collapsed": false
   },
   "outputs": [],
   "source": [
    "perf_expopre = []\n",
    "decoder.fit(patterns_evs_expopre, labels_expo)\n",
    "perf_expopre.append(decoder.score(patterns_evs_pre, labels_pre))\n",
    "decoder.fit(patterns_evs_pre, labels_pre)\n",
    "perf_expopre.append(decoder.score(patterns_evs_expopre, labels_expo))\n",
    "perf_expopre = np.array(perf_expopre)\n",
    "\n",
    "perf_expopost = []\n",
    "decoder.fit(patterns_evs_expopost, labels_expo)\n",
    "perf_expopost.append(decoder.score(patterns_evs_post, labels_post))\n",
    "decoder.fit(patterns_evs_post, labels_post)\n",
    "perf_expopost.append(decoder.score(patterns_evs_expopost, labels_expo))\n",
    "perf_expopost = np.array(perf_expopost)\n",
    "\n",
    "perf_expoext1 = []\n",
    "decoder.fit(patterns_evs_expoext1, labels_expo)\n",
    "perf_expoext1.append(decoder.score(patterns_evs_ext1, labels_ext1))\n",
    "decoder.fit(patterns_evs_ext1, labels_ext1)\n",
    "perf_expoext1.append(decoder.score(patterns_evs_expoext1, labels_expo))\n",
    "perf_expoext1 = np.array(perf_expoext1)\n",
    "\n",
    "perf_expoext2 = []\n",
    "decoder.fit(patterns_evs_expoext2, labels_expo)\n",
    "perf_expoext2.append(decoder.score(patterns_evs_ext2, labels_ext2))\n",
    "decoder.fit(patterns_evs_ext2, labels_ext2)\n",
    "perf_expoext2.append(decoder.score(patterns_evs_expoext2, labels_expo))\n",
    "perf_expoext2 = np.array(perf_expoext2)\n",
    "\n",
    "perf_exporenew = []\n",
    "decoder.fit(patterns_evs_exporenew, labels_expo)\n",
    "perf_exporenew.append(decoder.score(patterns_evs_renew, labels_renew))\n",
    "decoder.fit(patterns_evs_renew, labels_renew)\n",
    "perf_exporenew.append(decoder.score(patterns_evs_exporenew, labels_expo))\n",
    "perf_exporenew = np.array(perf_exporenew)"
   ]
  },
  {
   "cell_type": "code",
   "execution_count": 17,
   "metadata": {
    "collapsed": true
   },
   "outputs": [],
   "source": [
    "from matplotlib.lines import Line2D"
   ]
  },
  {
   "cell_type": "code",
   "execution_count": 18,
   "metadata": {
    "collapsed": false
   },
   "outputs": [],
   "source": [
    "def plot_it(scores_pre, scores_post, scores_prepost, ax, labels=['Sess \\n1', 'Sess\\n2', 'Cross\\nsession'], colors=['0.7', '0.7', 'k'],\n",
    "            dots=False):\n",
    "    values = (100*(scores_pre),\n",
    "              100*(scores_post),\n",
    "              100*(scores_prepost),)\n",
    "    pt.plot_bars(values, ax=ax, stderr=True, colors=colors)\n",
    "\n",
    "    ax.set_xticks(range(3))\n",
    "    ax.set_xticklabels(labels, fontsize=4)\n",
    "\n",
    "    ax.hlines(50, -0.5, 2.5, lw=1, zorder=0, linestyles='dashed', color='0.7')\n",
    "\n",
    "    ax.set_ylim(0, 100)\n",
    "    \n",
    "    if dots:\n",
    "        for ani in scores_pre.keys():\n",
    "            ax.plot(np.arange(len(values))+np.random.rand(len(values))*0.1-0.05,\n",
    "                [np.mean(scores_pre[ani])*100,\n",
    "                     np.mean(scores_post[ani])*100,\n",
    "                     np.mean(scores_prepost[ani])*100],            \n",
    "                    'o', mew=0, alpha=0.5, zorder=0, ms=3)"
   ]
  },
  {
   "cell_type": "code",
   "execution_count": 19,
   "metadata": {
    "collapsed": false
   },
   "outputs": [
    {
     "data": {
      "image/png": "[encoded data removed]",
      "text/plain": [
       "<matplotlib.figure.Figure at 0x7facf00cda90>"
      ]
     },
     "metadata": {},
     "output_type": "display_data"
    }
   ],
   "source": [
    "fig, axs = pl.subplots(1, 5, figsize=(5, 2), sharey=True)\n",
    "\n",
    "\n",
    "axs[0].set_ylabel('Decoding Performance %\\n(using trace period)')\n",
    "\n",
    "plot_it(perf_expo, perf_pre, perf_expopre, axs[0], \n",
    "        labels=['Expo', 'Pre', 'Cross\\nSession'], colors = ['limegreen','b','k'])\n",
    "plot_it(perf_expo, perf_post, perf_expopost, axs[1], \n",
    "        labels=['Expo', 'Post', 'Cross\\nSession'], colors = ['limegreen','r','k'])\n",
    "plot_it(perf_expo, perf_ext1, perf_expoext1, axs[2], \n",
    "        labels=['Expo', 'Ext1', 'Cross\\nSession'], colors = ['limegreen','silver','k'])\n",
    "plot_it(perf_expo, perf_ext2, perf_expoext2, axs[3], \n",
    "        labels=['Expo', 'Ext2', 'Cross\\nSession'], colors = ['limegreen','gray','k'])\n",
    "plot_it(perf_expo, perf_renew, perf_exporenew, axs[4], \n",
    "        labels=['Expo', 'Renew', 'Cross\\nSession'], colors = ['limegreen','y','k'])\n",
    "\n",
    "#ax.set_ylim(0, 100)\n",
    "\n",
    "# fig.savefig('../img/%s__across_session_cellreg.pdf'%NOTEBOOK_NAME, bbox='tight')\n",
    "\n",
    "# fig.savefig('../img/%s__across_session_cellreg.pdf'%NOTEBOOK_NAME, bbox='tight')"
   ]
  },
  {
   "cell_type": "code",
   "execution_count": 20,
   "metadata": {
    "collapsed": false
   },
   "outputs": [
    {
     "name": "stdout",
     "output_type": "stream",
     "text": [
      "Could not store variable 'di'. Skipping...\n",
      "Could not store variable 'h5py'. Skipping...\n",
      "Could not store variable 'os'. Skipping...\n",
      "Could not store variable 'IPython'. Skipping...\n",
      "Could not store variable 'pt'. Skipping...\n",
      "Could not store variable 'pl'. Skipping...\n",
      "Could not store variable 'ut'. Skipping...\n",
      "Could not store variable 'pickle'. Skipping...\n",
      "Could not store variable 'ip'. Skipping...\n",
      "Could not store variable 'np'. Skipping...\n",
      "Could not store variable 'sys'. Skipping...\n"
     ]
    }
   ],
   "source": [
    "save_workspace(db);"
   ]
  },
  {
   "cell_type": "code",
   "execution_count": 21,
   "metadata": {
    "collapsed": true
   },
   "outputs": [],
   "source": []
  }
 ],
 "metadata": {
  "anaconda-cloud": {},
  "kernelspec": {
   "display_name": "Python [default]",
   "language": "python",
   "name": "python2"
  },
  "language_info": {
   "codemirror_mode": {
    "name": "ipython",
    "version": 2
   },
   "file_extension": ".py",
   "mimetype": "text/x-python",
   "name": "python",
   "nbconvert_exporter": "python",
   "pygments_lexer": "ipython2",
   "version": "2.7.12"
  }
 },
 "nbformat": 4,
 "nbformat_minor": 2
}
