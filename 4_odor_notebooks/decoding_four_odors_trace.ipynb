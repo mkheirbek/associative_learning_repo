{
 "cells": [
  {
   "cell_type": "code",
   "execution_count": 1,
   "metadata": {
    "collapsed": true
   },
   "outputs": [],
   "source": [
    "# all modules necessary for this nb\n",
    "import os\n",
    "import sys\n",
    "import pickle\n",
    "\n",
    "import numpy as np\n",
    "np.random.seed(0)\n",
    "import pylab as pl\n",
    "import scipy.stats as sstats\n",
    "\n",
    "# setting parameters for default matplotlib plots\n",
    "%matplotlib inline"
   ]
  },
  {
   "cell_type": "code",
   "execution_count": 2,
   "metadata": {
    "collapsed": true
   },
   "outputs": [],
   "source": [
    "pl.style.use('fabiostyle')\n",
    "# needs to find the library of functions\n",
    "sys.path.append('../../code/')  # to be replaced!\n",
    "\n",
    "import utils as ut\n",
    "import plots as pt"
   ]
  },
  {
   "cell_type": "code",
   "execution_count": 3,
   "metadata": {
    "collapsed": true
   },
   "outputs": [],
   "source": [
    "NOTEBOOK_NAME = 'decoding_four_odors_trace'"
   ]
  },
  {
   "cell_type": "code",
   "execution_count": 4,
   "metadata": {
    "collapsed": true
   },
   "outputs": [],
   "source": [
    "from pickleshare import PickleShareDB\n",
    "\n",
    "autorestore_folder = os.path.join(os.getcwd(), 'autorestore', NOTEBOOK_NAME)\n",
    "db = PickleShareDB(autorestore_folder)\n",
    "import sys\n",
    "from workspace import *\n",
    "import IPython\n",
    "ip = IPython.get_ipython()\n",
    "\n",
    "# this will restore all the saved variables. ignore the errors listed.\n",
    "load_workspace(ip, db)\n",
    "\n",
    "# use `save_worspace(db)` to save variables at the end"
   ]
  },
  {
   "cell_type": "code",
   "execution_count": 5,
   "metadata": {
    "collapsed": false
   },
   "outputs": [
    {
     "name": "stdout",
     "output_type": "stream",
     "text": [
      "['90', '90_475', '91', '93_500', '93_580', '93_720', '93_810', 'c10m6', 'c10m6_587', 'c10m8', 'c3f3', 'c3m1', 'c3m1_725', 'c3m2', 'c3m2_645', 'dhpcg20', 'dhpcg20_200']\n"
     ]
    }
   ],
   "source": [
    "import glob\n",
    "animals = [ani[3:] for ani in glob.glob(\"../*\")\n",
    "           if\n",
    "           ani != '../img' and\n",
    "           ani != '../notebooks' and\n",
    "          ani != '../general notebooks']\n",
    "print animals"
   ]
  },
  {
   "cell_type": "code",
   "execution_count": 6,
   "metadata": {
    "collapsed": false
   },
   "outputs": [
    {
     "name": "stdout",
     "output_type": "stream",
     "text": [
      "('c3m1', 'c3m2', 'c3f3', 'c10m6', 'c10m8')\n",
      "DORSAL: ['dhpcg20', 'dhpcg20_200']\n"
     ]
    }
   ],
   "source": [
    "#vhpc_animals = [ani for ani in animals if ani[0]!='d']\n",
    "vhpc_pre_animals = 'c3m1', 'c3m2', 'c3f3', 'c10m6','c10m8'\n",
    "vhpc_post_animals = 'c3m1', 'c3m2', 'c3f3', 'c10m6','c10m8'\n",
    "dhpc_animals = [ani for ani in animals if ani[0]=='d']\n",
    "#print \"VENTRAL:\", vhpc_animals\n",
    "print vhpc_pre_animals\n",
    "print \"DORSAL:\", dhpc_animals"
   ]
  },
  {
   "cell_type": "code",
   "execution_count": 7,
   "metadata": {
    "collapsed": false
   },
   "outputs": [
    {
     "name": "stdout",
     "output_type": "stream",
     "text": [
      "Could not load: scores for dhpcg20_200 in post/decoding_four_odors_trace\n",
      "Could not load: scores for dhpcg20_200 in pre/decoding_four_odors_trace\n"
     ]
    }
   ],
   "source": [
    "scores_vhpc_post = ut.load_all_animals_vars(\"scores\", vhpc_post_animals, session='post', notebook='decoding_four_odors_trace')\n",
    "scores_vhpc_pre = ut.load_all_animals_vars(\"scores\", vhpc_pre_animals, session='pre', notebook='decoding_four_odors_trace')\n",
    "\n",
    "scores_dhpc_post = ut.load_all_animals_vars(\"scores\", dhpc_animals, session='post', notebook='decoding_four_odors_trace')\n",
    "scores_dhpc_pre = ut.load_all_animals_vars(\"scores\", dhpc_animals, session='pre', notebook='decoding_four_odors_trace')"
   ]
  },
  {
   "cell_type": "code",
   "execution_count": 8,
   "metadata": {
    "collapsed": false
   },
   "outputs": [
    {
     "name": "stdout",
     "output_type": "stream",
     "text": [
      "Could not load: patterns for dhpcg20_200 in post/decoding_four_odors_trace\n",
      "Could not load: patterns for dhpcg20_200 in pre/decoding_four_odors_trace\n"
     ]
    }
   ],
   "source": [
    "def func(x):\n",
    "    return x.shape[1]\n",
    "\n",
    "ncells_vhpc_post = ut.load_all_animals_vars(\"patterns\", vhpc_post_animals, session='post', notebook='decoding_four_odors_trace',\n",
    "                                            func=func)\n",
    "ncells_vhpc_pre = ut.load_all_animals_vars(\"patterns\", vhpc_pre_animals, session='pre', notebook='decoding_four_odors_trace',\n",
    "                                           func=func)\n",
    "\n",
    "ncells_dhpc_post = ut.load_all_animals_vars(\"patterns\", dhpc_animals, session='post', notebook='decoding_four_odors_trace',\n",
    "                                            func=func)\n",
    "ncells_dhpc_pre = ut.load_all_animals_vars(\"patterns\", dhpc_animals, session='pre', notebook='decoding_four_odors_trace',\n",
    "                                           func=func)"
   ]
  },
  {
   "cell_type": "code",
   "execution_count": 11,
   "metadata": {
    "collapsed": false
   },
   "outputs": [
    {
     "data": {
      "text/plain": [
       "<matplotlib.legend.Legend at 0x7f5108107390>"
      ]
     },
     "execution_count": 11,
     "metadata": {},
     "output_type": "execute_result"
    },
    {
     "data": {
      "image/png": "[encoded data removed]",
      "text/plain": [
       "<matplotlib.figure.Figure at 0x7f51281253d0>"
      ]
     },
     "metadata": {},
     "output_type": "display_data"
    }
   ],
   "source": [
    "# vhpc_pre, vhpc_post, dhpc_pre, dhpc_post\n",
    "\n",
    "fig, ax = pl.subplots(1, 1, figsize=(1, 1))\n",
    "\n",
    "x = [ncells_vhpc_pre[ani] for ani in vhpc_pre_animals if ani in ncells_vhpc_pre]\n",
    "y = [np.mean(scores_vhpc_pre[ani])*100 for ani in vhpc_pre_animals if ani in scores_vhpc_pre]\n",
    "ax.plot(x, y, 'o', ms=3, mew=0);\n",
    "\n",
    "x = [ncells_vhpc_post[ani] for ani in vhpc_post_animals if ani in ncells_vhpc_post]\n",
    "y = [np.mean(scores_vhpc_post[ani])*100 for ani in vhpc_post_animals if ani in scores_vhpc_post]\n",
    "ax.plot(x, y, 'o', ms=3, mew=0);\n",
    "\n",
    "x = [ncells_dhpc_pre[ani] for ani in dhpc_animals if ani in ncells_dhpc_pre]\n",
    "y = [np.mean(scores_dhpc_pre[ani]) *100for ani in dhpc_animals if ani in scores_dhpc_pre]\n",
    "ax.plot(x, y, 'o', ms=3, mew=0);\n",
    "\n",
    "x = [ncells_dhpc_post[ani] for ani in dhpc_animals if ani in ncells_dhpc_post]\n",
    "y = [np.mean(scores_dhpc_post[ani])*100 for ani in dhpc_animals if ani in scores_dhpc_post]\n",
    "ax.plot(x, y, 'o', ms=3, mew=0);\n",
    "\n",
    "ax.set_ylim(0, 100)\n",
    "ax.set_yticks((0, 100))\n",
    "ax.set_xlim(0, 250)\n",
    "ax.set_xticks((0, 250))\n",
    "ax.set_ylabel(\"Trace decoding\\nperformance %\")\n",
    "ax.set_xlabel(\"No. of Cells\")\n",
    "\n",
    "ax.hlines(25, 0, 250, linestyles='dashed', )\n",
    "ax.legend([\"vpre\", \"vpost\", \"dpre\", \"dpost\"], loc=(1.1, 0))\n"
   ]
  },
  {
   "cell_type": "code",
   "execution_count": null,
   "metadata": {
    "collapsed": true
   },
   "outputs": [],
   "source": []
  }
 ],
 "metadata": {
  "anaconda-cloud": {},
  "kernelspec": {
   "display_name": "Python [default]",
   "language": "python",
   "name": "python2"
  },
  "language_info": {
   "codemirror_mode": {
    "name": "ipython",
    "version": 2
   },
   "file_extension": ".py",
   "mimetype": "text/x-python",
   "name": "python",
   "nbconvert_exporter": "python",
   "pygments_lexer": "ipython2",
   "version": "2.7.12"
  }
 },
 "nbformat": 4,
 "nbformat_minor": 2
}
