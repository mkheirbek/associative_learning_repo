{
 "cells": [
  {
   "cell_type": "markdown",
   "metadata": {},
   "source": [
    "# yeah, was trying to combine all cells and do pca, but seems a bit too tricky for me - JSB"
   ]
  },
  {
   "cell_type": "code",
   "execution_count": null,
   "metadata": {
    "collapsed": true
   },
   "outputs": [],
   "source": [
    "# all modules necessary for this nb\n",
    "import os\n",
    "import sys\n",
    "import pickle\n",
    "\n",
    "import numpy as np\n",
    "np.random.seed(0)\n",
    "import pylab as pl\n",
    "import scipy.stats as sstats\n",
    "\n",
    "# setting parameters for default matplotlib plots\n",
    "%matplotlib inline"
   ]
  },
  {
   "cell_type": "code",
   "execution_count": null,
   "metadata": {
    "collapsed": false
   },
   "outputs": [],
   "source": [
    "pl.style.use('fabiostyle')\n",
    "# needs to find the library of functions\n",
    "sys.path.append('../../../code/')  # to be replaced!\n",
    "\n",
    "import utils as ut\n",
    "import plots as pt"
   ]
  },
  {
   "cell_type": "code",
   "execution_count": null,
   "metadata": {
    "collapsed": false
   },
   "outputs": [],
   "source": [
    "NOTEBOOK_NAME = 'pca_prepost'"
   ]
  },
  {
   "cell_type": "code",
   "execution_count": null,
   "metadata": {
    "collapsed": false
   },
   "outputs": [],
   "source": [
    "from pickleshare import PickleShareDB\n",
    "\n",
    "autorestore_folder = os.path.join(os.getcwd(), 'autorestore', NOTEBOOK_NAME)\n",
    "db = PickleShareDB(autorestore_folder)\n",
    "import sys\n",
    "from workspace import *\n",
    "import IPython\n",
    "ip = IPython.get_ipython()\n",
    "\n",
    "# this will restore all the saved variables. ignore the errors listed.\n",
    "load_workspace(ip, db)\n",
    "\n",
    "# use `save_worspace(db)` to save variables at the end"
   ]
  },
  {
   "cell_type": "code",
   "execution_count": null,
   "metadata": {
    "collapsed": true
   },
   "outputs": [],
   "source": [
    "#from itertools import product\n",
    "#def load_all_animals_vars(varname, animal_list, pilot_list=None, notebook='preprocessing'):\n",
    "#    all_of_them = {}\n",
    "#    for ani in animal_list:\n",
    "#        folder = '../%s/notebooks/autorestore/%s/' % (ani, notebook)\n",
    "#        all_of_them.update({ani: ut.load_variable(varname, folder)})\n",
    "#    return all_of_them"
   ]
  },
  {
   "cell_type": "code",
   "execution_count": null,
   "metadata": {
    "collapsed": true
   },
   "outputs": [],
   "source": [
    "from itertools import product\n",
    "def load_all_animals_vars(varname, animal_list, pilot_list=None, notebook='preprocessing', session='',\n",
    "                          func=lambda x: x):\n",
    "    all_of_them = {}\n",
    "    for ani in animal_list:\n",
    "        try:\n",
    "            folder = '../%s/%s/notebooks/autorestore/%s/' % (ani, session, notebook)\n",
    "            all_of_them.update({ani: func(ut.load_variable(varname, folder))})\n",
    "        except IOError:\n",
    "            print \"Nope: %s, %s, %s\" % (ani, session, varname)\n",
    "    return all_of_them"
   ]
  },
  {
   "cell_type": "code",
   "execution_count": null,
   "metadata": {
    "collapsed": true
   },
   "outputs": [],
   "source": [
    "pre_animals  = 'c3m1', 'c3m2', 'c3f3','c10m8'\n",
    "post_animals = '90','90_475','91','93_500','93_580','93_720','93_810','c3m1', 'c3m2', 'c3f3', 'c10m8'"
   ]
  },
  {
   "cell_type": "code",
   "execution_count": null,
   "metadata": {
    "collapsed": true
   },
   "outputs": [],
   "source": [
    "#labels = load_all_animals_vars('labels', all_animals, notebook='decoding_four_odors', session='pre')"
   ]
  },
  {
   "cell_type": "code",
   "execution_count": null,
   "metadata": {
    "collapsed": false
   },
   "outputs": [],
   "source": [
    "variables = ('time_ax', 'time_ax_single', 'events', 'cycles',\n",
    "            'is_STIM1t', 'is_STIM2t', 'is_STIM3t', 'is_STIM4t',\n",
    "            'traces',\n",
    "            'STIM1_ons', 'STIM2_ons', 'STIM3_ons', 'STIM4_ons',\n",
    "            'CYCLE_START', 'CS_DURATION')\n",
    "vars_pre={}\n",
    "for var in variables:\n",
    "    vars_pre[var] = load_all_animals_vars(var, pre_animals, notebook='preprocessing', session='pre')\n",
    "\n",
    "vars_post={}\n",
    "for var in variables:\n",
    "    vars_post[var] = load_all_animals_vars(var, post_animals, notebook='preprocessing', session='post')\n",
    "\n",
    "#vars_pre = {}\n",
    "#folder = '../pre/notebooks/autorestore/preprocessing/'\n",
    "#for var in variables: \n",
    "#    vars_pre.update({var:ut.load_variable(var, folder=folder)})\n",
    "#    \n",
    "#vars_post = {}\n",
    "#folder = '../post/notebooks/autorestore/preprocessing'\n",
    "#for var in variables:\n",
    "#    vars_post.update({var:ut.load_variable(var, folder=folder)})"
   ]
  },
  {
   "cell_type": "code",
   "execution_count": null,
   "metadata": {
    "collapsed": false
   },
   "outputs": [],
   "source": [
    "vars_pre['traces']['c3m1']"
   ]
  },
  {
   "cell_type": "code",
   "execution_count": null,
   "metadata": {
    "collapsed": true
   },
   "outputs": [],
   "source": [
    "import h5py\n",
    "def load_cellreg(filename='pre_vs_post', keys=['pre', 'post']):\n",
    "    with h5py.File('../data/%s.mat'%filename, 'r') as f:\n",
    "        g = np.r_[f['cell_registered_struct']['cell_to_index_map']]\n",
    "        cellreg_dict = {k:g[i][np.where(np.prod([gg>0 for gg in g], 0))[0]].astype(int)-1\n",
    "                        for i, k in enumerate(keys)}\n",
    "    return cellreg_dict"
   ]
  },
  {
   "cell_type": "code",
   "execution_count": null,
   "metadata": {
    "collapsed": false
   },
   "outputs": [],
   "source": [
    "#conditions = ['pre', 'post']\n",
    "#cellregs = load_cellreg('pre_vs_post', conditions)"
   ]
  },
  {
   "cell_type": "code",
   "execution_count": null,
   "metadata": {
    "collapsed": true
   },
   "outputs": [],
   "source": [
    "import scipy.stats as sstats"
   ]
  },
  {
   "cell_type": "code",
   "execution_count": null,
   "metadata": {
    "collapsed": true
   },
   "outputs": [],
   "source": [
    "from sklearn.decomposition import PCA\n",
    "\n",
    "pca = PCA()"
   ]
  },
  {
   "cell_type": "code",
   "execution_count": null,
   "metadata": {
    "collapsed": true
   },
   "outputs": [],
   "source": [
    "from sklearn.manifold import LocallyLinearEmbedding\n",
    "\n",
    "lle = LocallyLinearEmbedding(n_components=3)"
   ]
  },
  {
   "cell_type": "code",
   "execution_count": null,
   "metadata": {
    "collapsed": false
   },
   "outputs": [],
   "source": [
    "vars_pre_traces_all =[]\n",
    "for ani in pre_animals:\n",
    "    vars_pre_traces_all.append(vars_pre['traces'][ani])\n",
    "print vars_pre_traces_all\n",
    "vars_pre_traces_all = reduce(lambda x,y: x+y,vars_pre_traces_all)\n",
    "print vars_pre_traces_all\n"
   ]
  },
  {
   "cell_type": "code",
   "execution_count": null,
   "metadata": {
    "collapsed": false
   },
   "outputs": [],
   "source": [
    "traces_pca_pre = pca.fit_transform([vars_pre['traces'][ani] for ani in pre_animals])\n",
    "traces_pca_post = pca.fit_transform([vars_post['traces'][ani] for ani in post_animals])\n",
    "# traces_pca_pre = lle.fit_transform(vars_pre['traces'][:, cellregs['pre']])\n",
    "# traces_pca_post = lle.transform(vars_post['traces'][:, cellregs['post']])\n"
   ]
  },
  {
   "cell_type": "code",
   "execution_count": null,
   "metadata": {
    "collapsed": true
   },
   "outputs": [],
   "source": []
  },
  {
   "cell_type": "code",
   "execution_count": null,
   "metadata": {
    "collapsed": false
   },
   "outputs": [],
   "source": [
    "def plot_mean_pca(ax, traces_pca_pre, vars_pre, odor='odor1', color='0.7', pca_dims=[0, 1], cmap=pl.cm.gray_r, tpre=4, tpost=4):\n",
    "    all_traces = ut.extract_traces_around_event(vars_pre['time_ax'], traces_pca_pre, vars_pre['%s_ons'%odor],\n",
    "                                                tpre=tpre, tpost=tpost)\n",
    "    x, y = all_traces.mean(0)[:, pca_dims[0]], all_traces.mean(0)[:, pca_dims[1]]\n",
    "    dx, dy = sstats.sem(all_traces, 0)[:, pca_dims[0]], sstats.sem(all_traces, 0)[:, pca_dims[1]]\n",
    "    xyinit = x[0], y[0]\n",
    "    ax.plot(x-xyinit[0], y-xyinit[1], '-', lw=0.5, color=color, zorder=2)\n",
    "    ax.errorbar(x-xyinit[0], y-xyinit[1], dx, dy, elinewidth=0.5, zorder=1, color='0.7')\n",
    "    colors = cmap(np.linspace(0.1, 0.9, all_traces.shape[1]))\n",
    "    ax.scatter(x-xyinit[0], y-xyinit[1], s=2, linewidths=0, edgecolors=colors, c=colors, zorder=19)\n",
    "    ax.set_xlabel('PC%d'%(pca_dims[0]+1), fontsize=5)\n",
    "    ax.set_ylabel('PC%d'%(pca_dims[1]+1), fontsize=5)\n",
    "    \n",
    "fig, axs = pl.subplots(1, 2, figsize=(4, 2), sharex=True, sharey=True)\n",
    "plot_mean_pca(axs[0], traces_pca_pre, vars_pre, odor='STIM1', pca_dims=[0, 1], tpre=0, tpost=15, color='red', cmap=pl.cm.Reds)\n",
    "plot_mean_pca(axs[1], traces_pca_post, vars_post, odor='STIM1', pca_dims=[0, 1], tpre=0, tpost=15, color='red', cmap=pl.cm.Reds)\n",
    "\n",
    "axs[0].set_title('CS+ 1, Pre', fontsize=7)\n",
    "axs[1].set_title('CS+ 1, Post', fontsize=7)\n",
    "\n",
    "lims = [ax.axis() for ax in axs]\n",
    "xmin, xmax, ymin, ymax = [np.min([l[i] for l in lims]) for i in range(4)]\n",
    "for ax in axs:\n",
    "    pt.remove_axes(ax)\n",
    "    ax.vlines(0, np.min((ymin, -ymax)), np.max((ymax, -ymin)), color='k', lw=0.5, zorder=0)\n",
    "    ax.hlines(0, np.min((xmin, -xmax)), np.max((xmax, -xmin)), color='k', lw=0.5, zorder=0)\n"
   ]
  },
  {
   "cell_type": "code",
   "execution_count": null,
   "metadata": {
    "collapsed": true
   },
   "outputs": [],
   "source": [
    "def plot_mean_pca_3d(ax, traces_pca_pre, vars_pre, odor='odor1', color='0.7', pca_dims=[0, 1, 2],\n",
    "                     cmap=pl.cm.gray_r, tpre=4, tpost=4, window=1):\n",
    "    all_traces = ut.extract_traces_around_event(vars_pre['time_ax'], traces_pca_pre, vars_pre['%s_ons'%odor],\n",
    "                                                tpre=tpre, tpost=tpost)\n",
    "    conv_func = np.ones(window).astype(float)\n",
    "    conv_func /= conv_func.sum()\n",
    "    x = np.convolve(all_traces.mean(0)[:, pca_dims[0]], conv_func, mode='same')\n",
    "    y = np.convolve(all_traces.mean(0)[:, pca_dims[1]], conv_func, mode='same')\n",
    "    z = np.convolve(all_traces.mean(0)[:, pca_dims[2]], conv_func, mode='same')\n",
    "    xyinit = x[0], y[0], z[0]\n",
    "    ax.plot(x-xyinit[0], y-xyinit[1], z-xyinit[2], '-', lw=0.5, color=color, alpha=0.3)\n",
    "    colors = cmap(np.linspace(0.1, 0.9, all_traces.shape[1]))\n",
    "    ax.scatter(x-xyinit[0], y-xyinit[1], z-xyinit[2], s=5, linewidths=0, edgecolors=colors, c=colors, zorder=19)\n",
    "    \n",
    "    ax.plot([x[0]-xyinit[0]], [y[0]-xyinit[1]], [z[0]-xyinit[2]],\n",
    "            'o', mew=1, mfc=(0, 0, 0, 0,), mec='k', ms=5, lw=0.5)\n",
    "    \n",
    "    ax.plot([x[-1]-xyinit[0]], [y[-1]-xyinit[1]], [z[-1]-xyinit[2]],\n",
    "            'o', mew=1, mfc=(0, 0, 0, 0,), mec=color, ms=5, lw=0.5)\n",
    "    \n",
    "    pt.remove_axes(ax)\n",
    "    ax.set_zticks(())\n",
    "#     xmin, xmax, ymin, ymax = ax.axis()\n",
    "#     ax.vlines(0, np.min((ymin, -ymax)), np.max((ymax, -ymin)), color='k', lw=0.5, zorder=0)\n",
    "#     ax.hlines(0, np.min((xmin, -xmax)), np.max((xmax, -xmin)), color='k', lw=0.5, zorder=0)\n",
    "    ax.set_xlabel('PC%d'%(pca_dims[0]+1), fontsize=5)\n",
    "    ax.set_ylabel('PC%d'%(pca_dims[1]+1), fontsize=5)\n",
    "    ax.set_zlabel('PC%d'%(pca_dims[2]+1), fontsize=5)\n",
    "#     lims = np.max(abs(np.r_[ax.axis()]))\n",
    "#     ax.set_xlim(-lims, lims)\n",
    "#     ax.set_ylim(-lims, lims)\n",
    "#     ax.set_zlim(-lims, lims)\n",
    "    \n",
    "from mpl_toolkits.mplot3d import Axes3D\n",
    "import matplotlib.pyplot as plt"
   ]
  },
  {
   "cell_type": "code",
   "execution_count": null,
   "metadata": {
    "collapsed": false
   },
   "outputs": [],
   "source": [
    "view = (10, 10)\n",
    "\n",
    "fig = pl.figure(figsize=(8, 2))\n",
    "\n",
    "for i in range(4):\n",
    "       \n",
    "    ax = fig.add_subplot(1, 4, i+1, projection='3d')\n",
    "    \n",
    "    ax.set_title('Odor %d'%(i+1))\n",
    "    \n",
    "    ax.view_init(view[0], view[1])\n",
    "    plot_mean_pca_3d(ax, traces_pca_pre, vars_pre, odor='STIM%d'%(i+1), pca_dims=[0, 1, 2], window=4,\n",
    "                     tpre=0, tpost=5, color='grey', cmap=pl.cm.Greys)\n",
    "#     ax.set_title('Pre', fontsize=7)\n",
    "#     ax = fig.add_subplot(1, 4, i+1, projection='3d')\n",
    "#     ax.view_init(view[0], view[1])\n",
    "    plot_mean_pca_3d(ax, traces_pca_post, vars_post, odor='STIM%d'%(i+1), pca_dims=[0, 1, 2], window=4,\n",
    "                     tpre=0, tpost=5, color='r', cmap=pl.cm.Reds)\n",
    "#     ax.set_title('Post', fontsize=7)\n",
    "\n",
    "    ax.plot([0], [0], [0], 'ko', mew=1, mfc=(0, 0, 0, 0,), mec='k', ms=5, lw=0.5)\n",
    "\n",
    "    ax.set_xlim(-20, 20)\n",
    "    ax.set_ylim(-20, 20)\n",
    "    ax.set_zlim(-20, 20)\n",
    "    \n",
    "ax.legend([pt.Line2D([], [], lw=0.5, color='grey'),\n",
    "           pt.Line2D([], [], lw=0.5, color='red')],\n",
    "          ['Pre', 'Post'])\n",
    "\n",
    "# def animate(i):\n",
    "#     for ax in fig.axes:\n",
    "#         ax.view_init(elev=10., azim=i*2)\n",
    "#     return fig,\n",
    "\n",
    "# from matplotlib import animation\n",
    "# anim = animation.FuncAnimation(fig, animate,\n",
    "#                                frames=50, interval=20, blit=True)\n",
    "# # Save\n",
    "# anim.save('basic_animation.mp4', fps=30, extra_args=['-vcodec', 'libx264'])\n"
   ]
  },
  {
   "cell_type": "code",
   "execution_count": null,
   "metadata": {
    "collapsed": false,
    "scrolled": false
   },
   "outputs": [],
   "source": [
    "view = (10, 10)\n",
    "tpost = 10\n",
    "\n",
    "fig = pl.figure(figsize=(6, 6))\n",
    "\n",
    "\n",
    "def plot_it(ax, t, v, o, cmap):\n",
    "\n",
    "    ax.view_init(view[0], view[1])\n",
    "    plot_mean_pca_3d(ax, t, v, odor=o, pca_dims=[0, 1, 2], window=4,\n",
    "                     tpre=0, tpost=tpost, color='grey', cmap=cmap)\n",
    "\n",
    "    ax.plot([0], [0], [0], 'ko', mew=1, mfc=(0, 0, 0, 0,), mec='k', ms=5, lw=0.5)\n",
    "\n",
    "    ax.set_xlim(-20, 20)\n",
    "    ax.set_ylim(-20, 20)\n",
    "    ax.set_zlim(-20, 20)\n",
    "    return ax\n",
    "\n",
    "ax = fig.add_subplot(2, 2, 1, projection='3d')\n",
    "plot_it(ax, traces_pca_pre, vars_pre, 'STIM1', pl.cm.Greens)\n",
    "plot_it(ax, traces_pca_pre, vars_pre, 'STIM2', pl.cm.Reds)\n",
    "ax.set_title(\"Pre\", fontsize=7)\n",
    "ax = fig.add_subplot(2, 2, 2, projection='3d')\n",
    "plot_it(ax, traces_pca_post, vars_post, 'STIM1', pl.cm.Greens)\n",
    "plot_it(ax, traces_pca_post, vars_post, 'STIM2', pl.cm.Reds)  \n",
    "ax.set_title(\"Post\", fontsize=7)\n",
    "\n",
    "ax.legend([pt.Line2D([], [], lw=1, color='g'),\n",
    "           pt.Line2D([], [], lw=1, color='r')],\n",
    "          ['CS+1', 'CS+2'])\n",
    "\n",
    "ax = fig.add_subplot(2, 2, 3, projection='3d')\n",
    "plot_it(ax, traces_pca_pre, vars_pre, 'STIM3', pl.cm.Greens)\n",
    "plot_it(ax, traces_pca_pre, vars_pre, 'STIM4', pl.cm.Reds)\n",
    "ax = fig.add_subplot(2, 2, 4, projection='3d')\n",
    "plot_it(ax, traces_pca_post, vars_post, 'STIM3', pl.cm.Greens)\n",
    "plot_it(ax, traces_pca_post, vars_post, 'STIM4', pl.cm.Reds)\n",
    "  \n",
    "ax.legend([pt.Line2D([], [], lw=1, color='g'),\n",
    "           pt.Line2D([], [], lw=1, color='r')],\n",
    "          ['CS-1', 'CS-2'])\n",
    "\n",
    "def animate(i):\n",
    "    for ax in fig.axes:\n",
    "        ax.view_init(elev=10., azim=i*2)\n",
    "    return fig,\n",
    "\n",
    "from matplotlib import animation\n",
    "anim = animation.FuncAnimation(fig, animate,\n",
    "                               frames=150, interval=20, blit=True)\n",
    "# Save\n",
    "anim.save('basic_animation_CS12.mp4', fps=30, extra_args=['-vcodec', 'libx264'])\n"
   ]
  },
  {
   "cell_type": "code",
   "execution_count": null,
   "metadata": {
    "collapsed": false
   },
   "outputs": [],
   "source": [
    "pl.plot(np.cumsum(pca.explained_variance_ratio_))\n",
    "pl.ylabel('expl. var. ratio')\n",
    "pl.xlabel('# components')"
   ]
  },
  {
   "cell_type": "code",
   "execution_count": null,
   "metadata": {
    "collapsed": false
   },
   "outputs": [],
   "source": [
    "save_workspace(db)"
   ]
  }
 ],
 "metadata": {
  "anaconda-cloud": {},
  "kernelspec": {
   "display_name": "Python [default]",
   "language": "python",
   "name": "python2"
  },
  "language_info": {
   "codemirror_mode": {
    "name": "ipython",
    "version": 2
   },
   "file_extension": ".py",
   "mimetype": "text/x-python",
   "name": "python",
   "nbconvert_exporter": "python",
   "pygments_lexer": "ipython2",
   "version": "2.7.12"
  }
 },
 "nbformat": 4,
 "nbformat_minor": 2
}
