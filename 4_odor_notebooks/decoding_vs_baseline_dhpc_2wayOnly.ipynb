{
 "cells": [
  {
   "cell_type": "markdown",
   "metadata": {},
   "source": [
    "# Decode against a 1s preodor baseline period, within a trial type (to see if trial-type decoding is being driven by changes in CS+ representation, CS-, or both)"
   ]
  },
  {
   "cell_type": "raw",
   "metadata": {
    "collapsed": false
   },
   "source": [
    "### from IPython.display import display\n",
    "from IPython.display import HTML\n",
    "import IPython.core.display as di # Example: di.display_html('<h3>%s:</h3>' % str, raw=True)\n",
    "\n",
    "# This line will hide code by default when the notebook is exported as HTML\n",
    "di.display_html('<script>jQuery(function() {if (jQuery(\"body.notebook_app\").length == 0) { jQuery(\".input_area\").toggle(); jQuery(\".prompt\").toggle();}});</script>', raw=True)\n",
    "\n",
    "# This line will add a button to toggle visibility of code blocks, for use with the HTML export version\n",
    "di.display_html('''<button onclick=\"jQuery('.input_area').toggle(); jQuery('.prompt').toggle();\">Toggle code</button>''', raw=True)\n"
   ]
  },
  {
   "cell_type": "code",
   "execution_count": 1,
   "metadata": {
    "collapsed": true
   },
   "outputs": [],
   "source": [
    "# all modules necessary for this nb\n",
    "import os\n",
    "import sys\n",
    "import pickle\n",
    "\n",
    "import numpy as np\n",
    "import pylab as pl\n",
    "import scipy.stats as sstats\n",
    "\n",
    "# setting parameters for default matplotlib plots\n",
    "%matplotlib inline"
   ]
  },
  {
   "cell_type": "code",
   "execution_count": 2,
   "metadata": {
    "collapsed": false
   },
   "outputs": [],
   "source": [
    "pl.style.use('fabiostyle')\n",
    "# needs to find the library of functions\n",
    "sys.path.append('../../code/')  # to be replaced!\n",
    "\n",
    "import utils as ut\n",
    "import plots as pt"
   ]
  },
  {
   "cell_type": "code",
   "execution_count": 3,
   "metadata": {
    "collapsed": false
   },
   "outputs": [],
   "source": [
    "# %%javascript\n",
    "# var nb = IPython.notebook;\n",
    "# var kernel = IPython.notebook.kernel;\n",
    "# var command = \"NOTEBOOK_NAME = '\" + nb.base_url + nb.notebook_path + \"'\";\n",
    "# kernel.execute(command);"
   ]
  },
  {
   "cell_type": "code",
   "execution_count": 4,
   "metadata": {
    "collapsed": true
   },
   "outputs": [],
   "source": [
    "# NOTEBOOK_NAME = NOTEBOOK_NAME.split('/')[-1][:-6]\n",
    "NOTEBOOK_NAME = 'decoding_vs_baseline_dhpc_2wayOnly'"
   ]
  },
  {
   "cell_type": "code",
   "execution_count": 5,
   "metadata": {
    "collapsed": false
   },
   "outputs": [],
   "source": [
    "from pickleshare import PickleShareDB\n",
    "\n",
    "autorestore_folder = os.path.join(os.getcwd(), 'autorestore', NOTEBOOK_NAME)\n",
    "db = PickleShareDB(autorestore_folder)\n",
    "import sys\n",
    "from workspace import *\n",
    "import IPython\n",
    "ip = IPython.get_ipython()\n",
    "\n",
    "# this will restore all the saved variables. ignore the errors listed.\n",
    "load_workspace(ip, db)\n",
    "\n",
    "# use `save_worspace(db)` to save variables at the end"
   ]
  },
  {
   "cell_type": "code",
   "execution_count": 6,
   "metadata": {
    "collapsed": true
   },
   "outputs": [],
   "source": [
    "from itertools import product\n",
    "def load_all_animals_vars(varname, animal_list, pilot_list=None, notebook='preprocessing'):\n",
    "    all_of_them = {}\n",
    "    for ani in animal_list:\n",
    "        folder = '../%s/notebooks/autorestore/%s/' % (ani, notebook)\n",
    "        all_of_them.update({ani: ut.load_variable(varname, folder)})\n",
    "    return all_of_them"
   ]
  },
  {
   "cell_type": "code",
   "execution_count": 7,
   "metadata": {
    "collapsed": false
   },
   "outputs": [],
   "source": [
    "expo_animals = 'dhpc35','dhpc36'\n",
    "pre_animals =  'dhpc35','dhpc36'\n",
    "post_animals = 'dhpc35','dhpc36','dhpc35_254'"
   ]
  },
  {
   "cell_type": "code",
   "execution_count": 8,
   "metadata": {
    "collapsed": true
   },
   "outputs": [],
   "source": [
    "sessions = 'expo', 'pre', 'post'"
   ]
  },
  {
   "cell_type": "code",
   "execution_count": 9,
   "metadata": {
    "collapsed": false
   },
   "outputs": [],
   "source": [
    "for sess in 'pre', 'post':\n",
    "\n",
    "    exec(\"patterns_tb_%s = dict(zip(%s_animals, [ut.load_variable('patterns_tb',\\\n",
    "                                                           '../%%s/%s/notebooks/autorestore/decoding_around_onset/'%%ani)\\\n",
    "                                                  for ani in %s_animals]))\"%(sess, sess, sess, sess))\n",
    "    exec(\"labels_%s = dict(zip(%s_animals, [ut.load_variable('labels',\\\n",
    "                                                         '../%%s/%s/notebooks/autorestore/decoding_around_onset/'%%ani)\\\n",
    "                                                  for ani in %s_animals]))\"%(sess, sess, sess, sess))"
   ]
  },
  {
   "cell_type": "code",
   "execution_count": 10,
   "metadata": {
    "collapsed": false
   },
   "outputs": [],
   "source": [
    "#have to extract 4_odor_expo varibles differently from that used above\n",
    "patterns_tb_expo = dict(zip(expo_animals,\n",
    "                                [ut.load_variable('patterns_tb','../%s/4_odor_expo/notebooks/autorestore/decoding_around_onset'%ani)\n",
    "                                                  for ani in expo_animals]))\n",
    "\n",
    "labels_expo = dict(zip(expo_animals,\n",
    "                                [ut.load_variable('labels','../%s/4_odor_expo/notebooks/autorestore/decoding_around_onset'%ani)\n",
    "                                                  for ani in expo_animals]))"
   ]
  },
  {
   "cell_type": "code",
   "execution_count": 11,
   "metadata": {
    "collapsed": true
   },
   "outputs": [],
   "source": [
    "delta_t0 = 1\n",
    "\n",
    "t_start0 = -5  # sec\n",
    "t_stop0 = 9  # sec"
   ]
  },
  {
   "cell_type": "code",
   "execution_count": 12,
   "metadata": {
    "collapsed": false
   },
   "outputs": [],
   "source": [
    "import h5py\n",
    "\n",
    "def do_decoding_combined_within(patterns, labels, n_loops=10, ncells=None, cellreg=False, n_steps=15, **args):\n",
    "     \n",
    "    scores = np.r_[[do_test_within(patterns, labels, **args) for i in range(n_loops)]]\n",
    "    \n",
    "    if ncells is None:\n",
    "        total_n = np.sum([patterns[ani].shape[1] for ani in patterns.keys()])\n",
    "        ncells = np.repeat(np.r_[np.linspace(5, total_n, n_steps).astype(int)], 5)\n",
    "        \n",
    "    scores_ncells = np.r_[[do_test_within(patterns, labels, n_cells=n, **args) \n",
    "                                        for n in ncells]]\n",
    "    \n",
    "    return scores, ncells, scores_ncells\n",
    "\n",
    "\n",
    "from sklearn.model_selection import KFold, LeaveOneOut\n",
    "from sklearn.svm import SVC\n",
    "\n",
    "def combine_train_test_patterns(patterns, labels, train_test_split=0.5, classes=None, n_cells=None,\n",
    "                                relabel=None, relabel_test=None):\n",
    "\n",
    "    if classes is None:\n",
    "        classes = [0, 1]\n",
    "\n",
    "    which_train = {}\n",
    "    which_test = {}\n",
    "    for ani in patterns.keys():\n",
    "        which_trains = []\n",
    "        which_tests = []\n",
    "        for l in classes:\n",
    "            if l>=0:\n",
    "                wt = np.random.permutation(np.where(labels[ani]==l)[0])\n",
    "                if train_test_split<1:\n",
    "                    wT = wt[:int(len(wt)*train_test_split)]\n",
    "                    which_trains.append(wt[int(len(wt)*train_test_split):])\n",
    "                    which_tests.append(wT)\n",
    "                else:\n",
    "                    which_trains.append(wt)\n",
    "        which_train[ani] = np.concatenate(which_trains)\n",
    "        if train_test_split<1:\n",
    "            which_test[ani] = np.concatenate(which_tests)\n",
    "    \n",
    "    patterns_t = patterns.copy()\n",
    "    labels_t = labels.copy()\n",
    "    for ani in patterns.keys():\n",
    "        patterns_t[ani] = patterns[ani][which_train[ani]]\n",
    "        labels_t[ani] = labels[ani][which_train[ani]]\n",
    "    patterns_comb_train, labels_comb_ = ut.combine_patterns(patterns_t, labels_t, classes=classes)\n",
    "        \n",
    "    if train_test_split<1:\n",
    "        patterns_T = patterns.copy()\n",
    "        labels_T = labels.copy()\n",
    "        for ani in patterns.keys():\n",
    "            patterns_T[ani] = patterns[ani][which_test[ani]]\n",
    "            labels_T[ani] = labels[ani][which_test[ani]]\n",
    "        patterns_comb_test, labels_comb_test_ = ut.combine_patterns(patterns_T, labels_T, classes=classes)\n",
    "    else:\n",
    "        patterns_comb_test = None\n",
    "    \n",
    "    if relabel is not None:\n",
    "        labels_comb = np.r_[[relabel[l] for l in labels_comb_]]\n",
    "    else:\n",
    "        labels_comb = labels_comb_\n",
    "    \n",
    "    if train_test_split<1:\n",
    "        if relabel_test is not None:\n",
    "            labels_comb_test = np.r_[[relabel_test[l] for l in labels_comb_test_]]\n",
    "        else:\n",
    "            if relabel is not None:\n",
    "                labels_comb_test = np.r_[[relabel[l] for l in labels_comb_test_]]\n",
    "            else:\n",
    "                labels_comb_test = labels_comb_test_\n",
    "    elif train_test_split == 1:\n",
    "        labels_comb_test = None\n",
    "    \n",
    "    \n",
    "    if n_cells is None:\n",
    "        which_cells = [True]*patterns_comb_train.shape[1]\n",
    "    else:\n",
    "        which_cells = np.random.permutation(range(patterns_comb_train.shape[1]))[:n_cells]\n",
    "     \n",
    "    patterns_comb_train = patterns_comb_train[:, which_cells]\n",
    "    patterns_comb_test = patterns_comb_test[:, which_cells] if train_test_split<1 else patterns_comb_test\n",
    "    \n",
    "    if train_test_split<1:\n",
    "        return (patterns_comb_train[labels_comb>=0], labels_comb[labels_comb>=0],\n",
    "                patterns_comb_test[labels_comb_test>=0], labels_comb_test[labels_comb_test>=0])\n",
    "    if train_test_split == 1:\n",
    "        return (patterns_comb_train[labels_comb>=0], labels_comb[labels_comb>=0],\n",
    "                None,None)\n",
    "\n",
    "def do_test_within(patterns, labels, **args):\n",
    "    x, y, xT, yT = combine_train_test_patterns(patterns, labels, **args)\n",
    "    decoder.fit(x, y)\n",
    "    return decoder.score(xT, yT)\n",
    "        \n",
    "def load_cellreg(animal, filename='pre_vs_post.mat', keys=['pre', 'post']):\n",
    "    with h5py.File('../%s/data/%s'%(animal, filename), 'r') as f:\n",
    "        g = np.r_[f['cell_registered_struct']['cell_to_index_map']]\n",
    "        cellreg_dict = {k:g[i][np.where(np.prod([gg>0 for gg in g], 0))[0]].astype(int)-1\n",
    "                        for i, k in enumerate(keys)}\n",
    "    return cellreg_dict"
   ]
  },
  {
   "cell_type": "code",
   "execution_count": 13,
   "metadata": {
    "collapsed": true
   },
   "outputs": [],
   "source": [
    "from sklearn.model_selection import KFold, LeaveOneOut\n",
    "from sklearn.svm import SVC\n",
    "\n",
    "def do_test_within_beta(patterns_train,patterns_test, labels_train, labels_test, relabel=None, n_cells=None):\n",
    "    \n",
    "    if relabel is not None:\n",
    "        labels_train = np.r_[[relabel[l] for l in labels_train]]\n",
    "        labels_test = np.r_[[relabel[l] for l in labels_test]]\n",
    "    else:\n",
    "        labels_train = labels_train\n",
    "        labels_test = labels_test\n",
    "    \n",
    "    if n_cells is None:\n",
    "        cells = list(range(patterns_train.shape[1]))\n",
    "    else:\n",
    "        cells = np.random.choice(range(patterns_train.shape[1]), size=n_cells, replace=False)\n",
    "    \n",
    "    decoder.fit(patterns_train[:, cells], labels_train)\n",
    "    scores = decoder.score(patterns_test[:, cells], labels_test)\n",
    "    decoder.fit(patterns_test[:, cells], labels_test)\n",
    "    return np.append(scores, decoder.score(patterns_train[:, cells], labels_train))"
   ]
  },
  {
   "cell_type": "code",
   "execution_count": 14,
   "metadata": {
    "collapsed": true
   },
   "outputs": [],
   "source": [
    "from matplotlib.lines import Line2D\n",
    "def add_significance(ax, array1, array2, x1, x2, y, ticksize=0.02, sig_func=None, thresholds=(0.05, 0.01, 0.001)):\n",
    "    if sig_func is None:\n",
    "        sig_func = lambda x, y: sstats.mannwhitneyu(x, y, alternative='two-sided')\n",
    "    p = sig_func(array1, array2)[-1]\n",
    "    sig_value = sig_func(array1, array2)[0]\n",
    "    deltay = np.diff(ax.axis()[-2:])*ticksize\n",
    "    line = Line2D([x1, x1, x2, x2], [y-deltay, y, y, y-deltay], lw=.5, color='k', clip_on=False)\n",
    "    ax.add_line(line)\n",
    "    ax.text(np.mean([x1, x2]), y+1,\n",
    "            'n.s.' if p>thresholds[0] else\n",
    "            '*' if p>thresholds[1] else\n",
    "            '**' if p>thresholds[2] else\n",
    "            '***',\n",
    "            ha='center', fontsize=4)\n",
    "    return sig_value, p"
   ]
  },
  {
   "cell_type": "code",
   "execution_count": 15,
   "metadata": {
    "collapsed": false
   },
   "outputs": [],
   "source": [
    "def sig_vs_chance(ax, array1, chance, x1, y1, loops=15, ticksize=0.02, sig_func=None, thresholds=(0.05, 0.01, 0.001),colors='k'):\n",
    "    if sig_func is None:\n",
    "        sig_func = lambda x: sstats.wilcoxon(x)\n",
    "        subtracted = [x-chance for x in array1]\n",
    "        p = sig_func(subtracted)[-1]\n",
    "        sig_value = sig_func(subtracted)[0]\n",
    "    elif sig_func is ttest:\n",
    "        sig_func = lambda x, y: sstats.ttest_1samp(x,y)\n",
    "        p = sig_func(array1,chance)[-1]\n",
    "        sig_value = sig_func(array1,chance)[0]\n",
    "    ax.text(x1, y1,\n",
    "            'n.s.' if p>thresholds[0] else\n",
    "            '*' if p>thresholds[1] else\n",
    "            '**' if p>thresholds[2] else\n",
    "            '***',\n",
    "            ha='center', fontsize=4, color=colors)\n",
    "    return sig_value, p"
   ]
  },
  {
   "cell_type": "code",
   "execution_count": 16,
   "metadata": {
    "collapsed": true
   },
   "outputs": [],
   "source": [
    "decoder = SVC(kernel='linear', decision_function_shape='ovo')"
   ]
  },
  {
   "cell_type": "code",
   "execution_count": 17,
   "metadata": {
    "collapsed": false
   },
   "outputs": [
    {
     "name": "stdout",
     "output_type": "stream",
     "text": [
      "expo dhpc35 expo dhpc36 expo dhpc35 expo dhpc36 expo dhpc35 expo dhpc36 expo dhpc35 expo dhpc36 expo dhpc35 expo dhpc36 expo dhpc35 expo dhpc36 expo dhpc35 expo dhpc36 expo dhpc35 expo dhpc36 expo dhpc35 expo dhpc36 expo dhpc35 expo dhpc36 expo dhpc35 expo dhpc36 expo dhpc35 expo dhpc36 expo dhpc35 expo dhpc36 expo dhpc35 expo dhpc36 pre dhpc35 pre dhpc36 pre dhpc35 pre dhpc36 pre dhpc35 pre dhpc36 pre dhpc35 pre dhpc36 pre dhpc35 pre dhpc36 pre dhpc35 pre dhpc36 pre dhpc35 pre dhpc36 pre dhpc35 pre dhpc36 pre dhpc35 pre dhpc36 pre dhpc35 pre dhpc36 pre dhpc35 pre dhpc36 pre dhpc35 pre dhpc36 pre dhpc35 pre dhpc36 pre dhpc35 pre dhpc36 post dhpc35 post dhpc36 post dhpc35_254 post dhpc35 post dhpc36 post dhpc35_254 post dhpc35 post dhpc36 post dhpc35_254 post dhpc35 post dhpc36 post dhpc35_254 post dhpc35 post dhpc36 post dhpc35_254 post dhpc35 post dhpc36 post dhpc35_254 post dhpc35 post dhpc36 post dhpc35_254 post dhpc35 post dhpc36 post dhpc35_254 post dhpc35 post dhpc36 post dhpc35_254 post dhpc35 post dhpc36 post dhpc35_254 post dhpc35 post dhpc36 post dhpc35_254 post dhpc35 post dhpc36 post dhpc35_254 post dhpc35 post dhpc36 post dhpc35_254 post dhpc35 post dhpc36 post dhpc35_254\n"
     ]
    }
   ],
   "source": [
    "for sess in sessions:\n",
    "    for t in range(14):\n",
    "        exec('patterns_tb_%s_%s = {}'%(t, sess))\n",
    "        for ani in eval('%s_animals'%sess):\n",
    "            try:\n",
    "                print sess,\n",
    "                print ani,\n",
    "                exec(\"patterns_tb_%s_%s['%s'] = patterns_tb_%s['%s'][%s]\"%(t,sess,ani,sess,ani,t))\n",
    "            except IOError as error:\n",
    "                print error\n",
    "            continue"
   ]
  },
  {
   "cell_type": "markdown",
   "metadata": {},
   "source": [
    "### need to take data from a single trial type and duplicate it, assigning it a new label/class. Then use the baseline time bin of the dataset with this new label and decode against all time bins from original dataset"
   ]
  },
  {
   "cell_type": "code",
   "execution_count": 18,
   "metadata": {
    "collapsed": true
   },
   "outputs": [],
   "source": [
    "#make a new label array, assigning new labels for each trial type\n",
    "relabel_baselines = {1:5,2:6,3:7,4:8}\n",
    "\n",
    "for sess in sessions:\n",
    "    exec(\"labels_baselines_%s = {}\"%sess)\n",
    "    for ani in eval(\"%s_animals\"%sess):\n",
    "        exec(\"labels_baselines_%s[ani] = np.r_[[relabel_baselines[l] for l in labels_%s[ani]]]\"%(sess,sess))"
   ]
  },
  {
   "cell_type": "code",
   "execution_count": 20,
   "metadata": {
    "collapsed": false
   },
   "outputs": [],
   "source": [
    "#concatenate new label array to original\n",
    "for sess in sessions:\n",
    "    exec(\"labels_%s_w_baselines = {}\"%sess)\n",
    "    for ani in eval(\"labels_%s.keys()\"%sess):\n",
    "        exec(\"labels_%s_w_baselines[ani] = np.concatenate((labels_%s[ani],labels_baselines_%s[ani]))\"%(sess,sess,sess))"
   ]
  },
  {
   "cell_type": "code",
   "execution_count": 75,
   "metadata": {
    "collapsed": false
   },
   "outputs": [],
   "source": [
    "# concatenate patterns from one time bin with itself\n",
    "base =1 # time bin that will be used as baseline (0 = -5 to -4)\n",
    "for sess in sessions:\n",
    "    for t in range(14):\n",
    "        exec(\"patterns_tb_%s_%s_w_baselines = {}\"%(t,sess))\n",
    "        for ani in eval(\"patterns_tb_%s_%s.keys()\"%(t,sess)):\n",
    "            exec(\"patterns_tb_%s_%s_w_baselines[ani] = np.concatenate((patterns_tb_%s_%s[ani],patterns_tb_%s_%s[ani]))\"%(t,sess,t,sess,base,sess))"
   ]
  },
  {
   "cell_type": "markdown",
   "metadata": {},
   "source": [
    "#### now decode using both labels from a single trial type, reserving one label for the baseline time bin, and the other label for all time bins"
   ]
  },
  {
   "cell_type": "code",
   "execution_count": 76,
   "metadata": {
    "collapsed": false
   },
   "outputs": [
    {
     "name": "stdout",
     "output_type": "stream",
     "text": [
      "expo 0 pre 0 post 0 expo 1 pre 1 post 1 expo 2 pre 2 post 2 expo 3 pre 3 post 3 expo 4 pre 4 post 4 expo 5 pre 5 post 5 expo 6 pre 6 post 6 expo 7 pre 7 post 7 expo 8 pre 8 post 8 expo 9 pre 9 post 9 expo 10 pre 10 post 10 expo 11 pre 11 post 11 expo 12 pre 12 post 12 expo 13 pre 13 post 13CPU times: user 32.7 s, sys: 464 ms, total: 33.2 s\n",
      "Wall time: 33.1 s\n",
      "\n"
     ]
    }
   ],
   "source": [
    "%%time\n",
    "#get train and test subsamples for each timebin, for each session\n",
    "relabel = {1:0,5:1,2:-1,3:-1,4:-1,6:-1,7:-1,8:-1}\n",
    "n_loops=15\n",
    "for t in range(14): # number of time bins\n",
    "    exec('baseline_scores_tb_%s_CS1 = {}'%t)\n",
    "    for sess in sessions:\n",
    "        print sess,\n",
    "        print t,\n",
    "        eval(\"baseline_scores_tb_%s_CS1\"%t)[sess] = np.r_[[do_test_within(eval(\"patterns_tb_%s_%s_w_baselines\"%(t,sess)),\n",
    "            eval(\"labels_%s_w_baselines\"%sess),classes=range(1,9), n_cells=None, relabel=relabel) for i in range(n_loops)]]"
   ]
  },
  {
   "cell_type": "code",
   "execution_count": 77,
   "metadata": {
    "collapsed": false
   },
   "outputs": [
    {
     "name": "stdout",
     "output_type": "stream",
     "text": [
      "expo 0 pre 0 post 0 expo 1 pre 1 post 1 expo 2 pre 2 post 2 expo 3 pre 3 post 3 expo 4 pre 4 post 4 expo 5 pre 5 post 5 expo 6 pre 6 post 6 expo 7 pre 7 post 7 expo 8 pre 8 post 8 expo 9 pre 9 post 9 expo 10 pre 10 post 10 expo 11 pre 11 post 11 expo 12 pre 12 post 12 expo 13 pre 13 post 13CPU times: user 33 s, sys: 360 ms, total: 33.4 s\n",
      "Wall time: 33.3 s\n",
      "\n"
     ]
    }
   ],
   "source": [
    "%%time\n",
    "#get train and test subsamples for each timebin, for each session\n",
    "relabel = {2:0,6:1,1:-1,3:-1,4:-1,5:-1,7:-1,8:-1}\n",
    "n_loops=15\n",
    "for t in range(14): # number of time bins\n",
    "    exec('baseline_scores_tb_%s_CS2 = {}'%t)\n",
    "    for sess in sessions:\n",
    "        print sess,\n",
    "        print t,\n",
    "        eval(\"baseline_scores_tb_%s_CS2\"%t)[sess] = np.r_[[do_test_within(eval(\"patterns_tb_%s_%s_w_baselines\"%(t,sess)),\n",
    "            eval(\"labels_%s_w_baselines\"%sess),classes=range(1,9), n_cells=None, relabel=relabel) for i in range(n_loops)]]"
   ]
  },
  {
   "cell_type": "code",
   "execution_count": 78,
   "metadata": {
    "collapsed": false
   },
   "outputs": [
    {
     "name": "stdout",
     "output_type": "stream",
     "text": [
      "expo 0 pre 0 post 0 expo 1 pre 1 post 1 expo 2 pre 2 post 2 expo 3 pre 3 post 3 expo 4 pre 4 post 4 expo 5 pre 5 post 5 expo 6 pre 6 post 6 expo 7 pre 7 post 7 expo 8 pre 8 post 8 expo 9 pre 9 post 9 expo 10 pre 10 post 10 expo 11 pre 11 post 11 expo 12 pre 12 post 12 expo 13 pre 13 post 13CPU times: user 32.9 s, sys: 384 ms, total: 33.3 s\n",
      "Wall time: 33.2 s\n",
      "\n"
     ]
    }
   ],
   "source": [
    "%%time\n",
    "#get train and test subsamples for each timebin, for each session\n",
    "relabel = {3:0,7:1,2:-1,1:-1,4:-1,6:-1,5:-1,8:-1}\n",
    "n_loops=15\n",
    "for t in range(14): # number of time bins\n",
    "    exec('baseline_scores_tb_%s_CS3 = {}'%t)\n",
    "    for sess in sessions:\n",
    "        print sess,\n",
    "        print t,\n",
    "        eval(\"baseline_scores_tb_%s_CS3\"%t)[sess] = np.r_[[do_test_within(eval(\"patterns_tb_%s_%s_w_baselines\"%(t,sess)),\n",
    "            eval(\"labels_%s_w_baselines\"%sess),classes=range(1,9), n_cells=None, relabel=relabel) for i in range(n_loops)]]"
   ]
  },
  {
   "cell_type": "code",
   "execution_count": 79,
   "metadata": {
    "collapsed": false
   },
   "outputs": [
    {
     "name": "stdout",
     "output_type": "stream",
     "text": [
      "expo 0 pre 0 post 0 expo 1 pre 1 post 1 expo 2 pre 2 post 2 expo 3 pre 3 post 3 expo 4 pre 4 post 4 expo 5 pre 5 post 5 expo 6 pre 6 post 6 expo 7 pre 7 post 7 expo 8 pre 8 post 8 expo 9 pre 9 post 9 expo 10 pre 10 post 10 expo 11 pre 11 post 11 expo 12 pre 12 post 12 expo 13 pre 13 post 13CPU times: user 33.2 s, sys: 396 ms, total: 33.6 s\n",
      "Wall time: 33.5 s\n",
      "\n"
     ]
    }
   ],
   "source": [
    "%%time\n",
    "#get train and test subsamples for each timebin, for each session\n",
    "relabel = {4:0,8:1,2:-1,3:-1,1:-1,6:-1,7:-1,5:-1}\n",
    "n_loops=15\n",
    "for t in range(14): # number of time bins\n",
    "    exec('baseline_scores_tb_%s_CS4 = {}'%t)\n",
    "    for sess in sessions:\n",
    "        print sess,\n",
    "        print t,\n",
    "        eval(\"baseline_scores_tb_%s_CS4\"%t)[sess] = np.r_[[do_test_within(eval(\"patterns_tb_%s_%s_w_baselines\"%(t,sess)),\n",
    "            eval(\"labels_%s_w_baselines\"%sess),classes=range(1,9), n_cells=None, relabel=relabel) for i in range(n_loops)]]"
   ]
  },
  {
   "cell_type": "code",
   "execution_count": 80,
   "metadata": {
    "collapsed": true
   },
   "outputs": [],
   "source": [
    "dark_co = ('forestgreen','darkcyan','firebrick')"
   ]
  },
  {
   "cell_type": "code",
   "execution_count": 81,
   "metadata": {
    "collapsed": false
   },
   "outputs": [],
   "source": [
    "#for an alternative take on CS+ vs CS-, average each idividual comparison\n",
    "for t in range(14):\n",
    "    exec(\"baseline_scores_tb_%s_CSP_averaged = {}\"%t)\n",
    "    for sess in sessions:\n",
    "        exec(\"baseline_scores_tb_%s_CSP_averaged[sess] = np.mean((baseline_scores_tb_%s_CS1[sess],baseline_scores_tb_%s_CS2[sess]),axis=0)\"%(t,t,t))"
   ]
  },
  {
   "cell_type": "code",
   "execution_count": 82,
   "metadata": {
    "collapsed": false
   },
   "outputs": [],
   "source": [
    "#for an alternative take on CS+ vs CS-, average each idividual comparison\n",
    "for t in range(14):\n",
    "    exec(\"baseline_scores_tb_%s_CSM_averaged = {}\"%t)\n",
    "    for sess in sessions:\n",
    "        exec(\"baseline_scores_tb_%s_CSM_averaged[sess] = np.mean((baseline_scores_tb_%s_CS3[sess],baseline_scores_tb_%s_CS4[sess]),axis=0)\"%(t,t,t))"
   ]
  },
  {
   "cell_type": "code",
   "execution_count": 89,
   "metadata": {
    "collapsed": false
   },
   "outputs": [
    {
     "data": {
      "image/png": "[encoded data removed]",
      "text/plain": [
       "<matplotlib.figure.Figure at 0x7f1569ccb490>"
      ]
     },
     "metadata": {},
     "output_type": "display_data"
    }
   ],
   "source": [
    "fig, ax = pl.subplots(1,3, figsize=(5, 1.5))\n",
    "\n",
    "for comp,c,la in zip(['CS1','CS2','CS3','CS4','CSP_averaged','CSM_averaged'],['lightcoral','red','deepskyblue','cornflowerblue','darkred','darkblue'],['CS1+','CS2+','CS3-','CS4-','avg CS+','avg CS-']):\n",
    "    for r,sess in zip(range(3),sessions):\n",
    "        ax[r].plot([(t-4) for t in range(14)], [(np.mean(eval(\"baseline_scores_tb_%s_%s[sess]\"%(t,comp)))*100) for t in range(14)],\n",
    "                   color=c, ls='-',lw=.5, zorder=19 ,ms=1,label=la)\n",
    "        m = np.array([(np.mean(eval(\"baseline_scores_tb_%s_%s[sess]\"%(t,comp)))*100) for t in range(14)])\n",
    "        s = np.array([np.std(eval(\"baseline_scores_tb_%s_%s[sess]\"%(t,comp)))*100 for t in range(14)])\n",
    "        ax[r].fill_between([(t-4) for t in range(14)],m-s,m+s,alpha=0.2,color=c,linewidth=0)\n",
    "for x in range (3):\n",
    "    ax[x].set_ylim(0, 100)\n",
    "    ax[x].set_xlim(-2, 9)\n",
    "    ax[x].set_xticks(np.arange(-2,11, 2))\n",
    "    ax[x].set_xticklabels(np.arange(-2,11, 2))\n",
    "    ax[x].hlines(50, -5,9, color='k', lw=1, linestyles='dotted')\n",
    "    ax[x].set_xlabel('Time from odor onset (s)')\n",
    "    ax[x].set_ylabel('Performance %')\n",
    "    pt.plot_period_bar(ax[x], 25, start_end=(0, 2), color='r', delta_y=3)\n",
    "# pt.plot_period_bar(ax, 25, start_end=(2, 4), color='0.7', delta_y=2)\n",
    "    pt.plot_period_bar(ax[x], 25, start_end=(4, 4.2), color='b', delta_y=3)\n",
    "    ax[x].hlines(25+1, 2, 4, color='k', lw=0.5, linestyles='dotted')\n",
    "ax[0].set_title('Baseline', color=dark_co[0])\n",
    "ax[1].set_title('Early', color = dark_co[1])\n",
    "ax[2].set_title('Late', color = dark_co[2])\n",
    "ax[2].legend(bbox_to_anchor=(1.05, 1), loc='upper left', borderaxespad=0.)\n",
    "pl.suptitle(\"Decoding vs baseline (4-3s prior to odor onset)  (dCA1)\", fontsize=9, y=1.05)\n",
    "\n",
    "fig.tight_layout(pad=2)\n",
    "\n",
    "#fig.savefig('../img/%s_3comp_horizontal.jpg'%NOTEBOOK_NAME)"
   ]
  },
  {
   "cell_type": "code",
   "execution_count": 84,
   "metadata": {
    "collapsed": false
   },
   "outputs": [
    {
     "name": "stdout",
     "output_type": "stream",
     "text": [
      "Could not store variable 'IPython'. Skipping...\n",
      "Could not store variable 'pt'. Skipping...\n",
      "Could not store variable 'sstats'. Skipping...\n",
      "Could not store variable 'pl'. Skipping...\n",
      "Could not store variable 'pickle'. Skipping...\n",
      "Could not store variable 'ip'. Skipping...\n",
      "Could not store variable 'sys'. Skipping...\n",
      "Could not store variable 'np'. Skipping...\n",
      "Could not store variable 'h5py'. Skipping...\n",
      "Could not store variable 'os'. Skipping...\n",
      "Could not store variable 'ut'. Skipping...\n"
     ]
    }
   ],
   "source": [
    "save_workspace(db)"
   ]
  },
  {
   "cell_type": "code",
   "execution_count": null,
   "metadata": {
    "collapsed": true
   },
   "outputs": [],
   "source": []
  },
  {
   "cell_type": "code",
   "execution_count": null,
   "metadata": {
    "collapsed": true
   },
   "outputs": [],
   "source": []
  },
  {
   "cell_type": "code",
   "execution_count": null,
   "metadata": {
    "collapsed": true
   },
   "outputs": [],
   "source": []
  },
  {
   "cell_type": "code",
   "execution_count": null,
   "metadata": {
    "collapsed": true
   },
   "outputs": [],
   "source": []
  },
  {
   "cell_type": "code",
   "execution_count": null,
   "metadata": {
    "collapsed": true
   },
   "outputs": [],
   "source": []
  },
  {
   "cell_type": "markdown",
   "metadata": {},
   "source": [
    "# Now for equalizing cell #s across all sess by using min"
   ]
  },
  {
   "cell_type": "markdown",
   "metadata": {
    "collapsed": false
   },
   "source": [
    "#get number of vHPC cells used for decoding\n",
    "cell_total = ['total_cells_expo_vHPC', 'total_cells_pre_vHPC', 'total_cells_post_vHPC']\n",
    "for tot in cell_total:\n",
    "    what = ut.load_variable('%s'%(tot), '../notebooks/autorestore/decoding_n_cells/')\n",
    "    exec('%s = what'%(tot))\n",
    "    print '%s ='%(tot),\n",
    "    print what"
   ]
  },
  {
   "cell_type": "markdown",
   "metadata": {
    "collapsed": false
   },
   "source": [
    "#get number of dHPC cells used for decoding\n",
    "cell_total = ['total_cells_expo_dHPC_2wayOnly', 'total_cells_pre_dHPC_2wayOnly', 'total_cells_post_dHPC_2wayOnly']\n",
    "for tot in cell_total:\n",
    "    what = ut.load_variable('%s'%(tot), '../notebooks/autorestore/decoding_n_cells/')\n",
    "    exec('%s = what'%(tot))\n",
    "    print '%s ='%(tot),\n",
    "    print what"
   ]
  },
  {
   "cell_type": "markdown",
   "metadata": {
    "collapsed": false
   },
   "source": [
    "gmin = np.min((total_cells_pre_vHPC,total_cells_pre_dHPC, total_cells_post_vHPC,total_cells_post_dHPC,\n",
    "                total_cells_expo_vHPC,total_cells_expo_dHPC))\n",
    "print gmin\n",
    "\n",
    "dmin = np.min((total_cells_pre_dHPC, total_cells_post_dHPC,total_cells_expo_dHPC))\n",
    "print dmin\n",
    "\n",
    "lmin =  np.min((total_cells_post_dHPC_2wayOnly, total_cells_post_vHPC))\n",
    "print lmin"
   ]
  },
  {
   "cell_type": "markdown",
   "metadata": {
    "collapsed": false
   },
   "source": [
    "#get train and test subsamples for each timebin, for each session\n",
    "relabel = {1:0,2:1,3:-1,4:-1}\n",
    "n_loops=20\n",
    "for t in range(14): # number of time bins\n",
    "    exec('scores_tb_%s_gmin_CS1vsCS2 = {}'%t)\n",
    "    for sess in sessions:\n",
    "        print sess,\n",
    "        print t,\n",
    "        eval(\"scores_tb_%s_gmin_CS1vsCS2\"%t)[sess] = np.r_[[do_test_within(eval(\"patterns_tb_%s_%s\"%(t,sess)),eval(\"labels_%s\"%sess),\n",
    "              classes=range(1,5), n_cells=gmin, relabel=relabel) for i in range(n_loops)]]"
   ]
  },
  {
   "cell_type": "markdown",
   "metadata": {
    "collapsed": false
   },
   "source": [
    "%%time\n",
    "relabel = {1:0,2:0,3:1,4:1}\n",
    "for t in range(14): # number of time bins\n",
    "    exec('scores_tb_%s_gmin_CSPvsCSM = {}'%t)\n",
    "    n_loops = 20\n",
    "    for sess in sessions:\n",
    "        print sess,\n",
    "        print t,\n",
    "        eval(\"scores_tb_%s_gmin_CSPvsCSM\"%t)[sess] = np.r_[[do_test_within(eval(\"patterns_tb_%s_%s\"%(t,sess)),eval(\"labels_%s\"%sess),\n",
    "              classes=range(1,5), n_cells=gmin, relabel=relabel) for i in range(n_loops)]]"
   ]
  },
  {
   "cell_type": "markdown",
   "metadata": {
    "collapsed": false
   },
   "source": [
    "%%time\n",
    "relabel = {1:0,2:-1,3:1,4:-1}\n",
    "for t in range(14): # number of time bins\n",
    "    exec('scores_tb_%s_gmin_CS1vsCS3 = {}'%t)\n",
    "    n_loops = 20\n",
    "    for sess in sessions:\n",
    "        print sess,\n",
    "        print t,\n",
    "        eval(\"scores_tb_%s_gmin_CS1vsCS3\"%t)[sess] = np.r_[[do_test_within(eval(\"patterns_tb_%s_%s\"%(t,sess)),eval(\"labels_%s\"%sess),\n",
    "              classes=range(1,5), n_cells=gmin, relabel=relabel) for i in range(n_loops)]]"
   ]
  },
  {
   "cell_type": "markdown",
   "metadata": {
    "collapsed": false
   },
   "source": [
    "%%time\n",
    "relabel = {1:0,2:-1,3:-1,4:1}\n",
    "for t in range(14): # number of time bins\n",
    "    exec('scores_tb_%s_gmin_CS1vsCS4 = {}'%t)\n",
    "    n_loops = 20\n",
    "    for sess in sessions:\n",
    "        print sess,\n",
    "        print t,\n",
    "        eval(\"scores_tb_%s_gmin_CS1vsCS4\"%t)[sess] = np.r_[[do_test_within(eval(\"patterns_tb_%s_%s\"%(t,sess)),eval(\"labels_%s\"%sess),\n",
    "              classes=range(1,5), n_cells=gmin, relabel=relabel) for i in range(n_loops)]]"
   ]
  },
  {
   "cell_type": "markdown",
   "metadata": {
    "collapsed": false
   },
   "source": [
    "%%time\n",
    "relabel = {1:-1,2:0,3:1,4:-1}\n",
    "for t in range(14): # number of time bins\n",
    "    exec('scores_tb_%s_gmin_CS2vsCS3 = {}'%t)\n",
    "    n_loops = 20\n",
    "    for sess in sessions:\n",
    "        print sess,\n",
    "        print t,\n",
    "        eval(\"scores_tb_%s_gmin_CS2vsCS3\"%t)[sess] = np.r_[[do_test_within(eval(\"patterns_tb_%s_%s\"%(t,sess)),eval(\"labels_%s\"%sess),\n",
    "              classes=range(1,5), n_cells=gmin, relabel=relabel) for i in range(n_loops)]]"
   ]
  },
  {
   "cell_type": "markdown",
   "metadata": {
    "collapsed": false
   },
   "source": [
    "%%time\n",
    "relabel = {1:-1,2:0,3:-1,4:1}\n",
    "for t in range(14): # number of time bins\n",
    "    exec('scores_tb_%s_gmin_CS2vsCS4 = {}'%t)\n",
    "    n_loops = 20\n",
    "    for sess in sessions:\n",
    "        print sess,\n",
    "        print t,\n",
    "        eval(\"scores_tb_%s_gmin_CS2vsCS4\"%t)[sess] = np.r_[[do_test_within(eval(\"patterns_tb_%s_%s\"%(t,sess)),eval(\"labels_%s\"%sess),\n",
    "              classes=range(1,5), n_cells=gmin, relabel=relabel) for i in range(n_loops)]]"
   ]
  },
  {
   "cell_type": "markdown",
   "metadata": {
    "collapsed": false
   },
   "source": [
    "%%time\n",
    "relabel = {1:-1,2:-1,3:0,4:1}\n",
    "for t in range(14): # number of time bins\n",
    "    exec('scores_tb_%s_gmin_CS3vsCS4 = {}'%t)\n",
    "    n_loops = 20\n",
    "    for sess in sessions:\n",
    "        print sess,\n",
    "        print t,\n",
    "        eval(\"scores_tb_%s_gmin_CS3vsCS4\"%t)[sess] = np.r_[[do_test_within(eval(\"patterns_tb_%s_%s\"%(t,sess)),eval(\"labels_%s\"%sess),\n",
    "              classes=range(1,5), n_cells=gmin, relabel=relabel) for i in range(n_loops)]]"
   ]
  },
  {
   "cell_type": "markdown",
   "metadata": {
    "collapsed": false
   },
   "source": [
    "%%time\n",
    "tt_relabels = [{1:0,2:-1,3:1,4:-1}, {1:0,2:-1,3:-1,4:1}, {1:-1,2:0,3:1,4:-1}, {1:-1,2:0,3:-1,4:1}]\n",
    "tt_relabels_test = [{1:-1,2:0,3:-1,4:1}, {1:-1,2:0,3:1,4:-1}, {1:0,2:-1,3:-1,4:1}, {1:0,2:-1,3:1,4:-1}]\n",
    "tt_pairs = ['tr13_ts24','tr14_ts23','tr23_ts14','tr24_ts13']\n",
    "for t in range(14): # number of time bins\n",
    "    for re, rete, it in zip(tt_relabels,tt_relabels_test,tt_pairs):\n",
    "        exec('scores_tb_%s_gmin_outcome_%s = {}'%(t,it))\n",
    "        n_loops = 20\n",
    "        for sess in sessions:\n",
    "            print sess,\n",
    "            print t,\n",
    "            eval(\"scores_tb_%s_gmin_outcome_%s\"%(t,it))[sess] = np.r_[[do_test_within(eval(\"patterns_tb_%s_%s\"%(t,sess)),eval(\"labels_%s\"%sess),\n",
    "                  classes=range(1,5), n_cells=gmin, relabel=re, relabel_test=rete) for i in range(n_loops)]]"
   ]
  },
  {
   "cell_type": "markdown",
   "metadata": {
    "collapsed": false
   },
   "source": [
    "%%time\n",
    "tt_relabels_cont = [{1:0,2:1,3:-1,4:-1}]\n",
    "tt_relabels_test_cont = [{1:-1,2:-1,3:0,4:1}]\n",
    "for t in range(14): # number of time bins\n",
    "    for re, rete, it in zip(tt_relabels_cont,tt_relabels_test_cont,['tr12_ts34']):\n",
    "        exec('scores_tb_%s_gmin_outcome_%s = {}'%(t,it))\n",
    "        n_loops = 20\n",
    "        for sess in sessions:\n",
    "            print sess,\n",
    "            print t,\n",
    "            eval(\"scores_tb_%s_gmin_outcome_%s\"%(t,it))[sess] = np.r_[[do_test_within(eval(\"patterns_tb_%s_%s\"%(t,sess)),eval(\"labels_%s\"%sess),\n",
    "                  classes=range(1,5), n_cells=gmin, relabel=re, relabel_test=rete) for i in range(n_loops)]]"
   ]
  },
  {
   "cell_type": "markdown",
   "metadata": {
    "collapsed": true
   },
   "source": [
    "#for an alternative take on CS+ vs CS-, average each idividual comparison\n",
    "for t in range(14):\n",
    "    exec(\"scores_tb_%s_gmin_CSPvsCSM_averaged = {}\"%t)\n",
    "    for sess in sessions:\n",
    "        exec(\"scores_tb_%s_gmin_CSPvsCSM_averaged[sess] = np.mean((scores_tb_%s_gmin_CS1vsCS3[sess],scores_tb_%s_gmin_CS1vsCS4[sess],\\\n",
    "              scores_tb_%s_gmin_CS2vsCS3[sess],scores_tb_%s_gmin_CS2vsCS4[sess]),axis=0)\"%(t,t,t,t,t))"
   ]
  },
  {
   "cell_type": "markdown",
   "metadata": {
    "collapsed": false
   },
   "source": [
    "#for outcome endoding, average each idividual comparison\n",
    "for t in range(14):\n",
    "    exec(\"scores_tb_%s_gmin_outcome_averaged = {}\"%t)\n",
    "    for sess in sessions:\n",
    "        exec(\"scores_tb_%s_gmin_outcome_averaged[sess] = np.mean((scores_tb_%s_gmin_outcome_tr13_ts24[sess],scores_tb_%s_gmin_outcome_tr14_ts23[sess],\\\n",
    "              scores_tb_%s_gmin_outcome_tr23_ts14[sess],scores_tb_%s_gmin_outcome_tr24_ts13[sess]),axis=0)\"%(t,t,t,t,t))"
   ]
  },
  {
   "cell_type": "markdown",
   "metadata": {
    "collapsed": false
   },
   "source": [
    "fig, ax = pl.subplots(1,3, figsize=(7, 1.9))\n",
    "\n",
    "for comp,c,la in zip(['CS1vsCS2','CS3vsCS4','CSPvsCSM'],['cyan','m','k'],['CS+ vs CS+','CS-  vs CS-','CS+ vs CS-']):\n",
    "    for r,sess in zip(range(3),sessions):\n",
    "        ax[r].plot([(t-4.5) for t in range(14)], [(np.mean(eval(\"scores_tb_%s_gmin_%s[sess]\"%(t,comp)))*100) for t in range(14)],\n",
    "                   color=c, ls='-',lw=.5, zorder=19 ,ms=1,label=la)\n",
    "        m = np.array([(np.mean(eval(\"scores_tb_%s_gmin_%s[sess]\"%(t,comp)))*100) for t in range(14)])\n",
    "        s = np.array([np.std(eval(\"scores_tb_%s_gmin_%s[sess]\"%(t,comp)))*100 for t in range(14)])\n",
    "        ax[r].fill_between([(t-4.5) for t in range(14)],m-s,m+s,alpha=0.2,color=c,linewidth=0)\n",
    "for x in range (3):\n",
    "    ax[x].set_ylim(0, 100)\n",
    "    ax[x].set_xlim(-5, 9)\n",
    "    ax[x].set_xticks(np.arange(-5,11, 5))\n",
    "    ax[x].set_xticklabels(np.arange(-5,11, 5))\n",
    "    ax[x].hlines(50, -5,9, color='k', lw=1, linestyles='dotted')\n",
    "    ax[x].set_xlabel('Time from odor onset (s)')\n",
    "    ax[x].set_ylabel('Performance %')\n",
    "    pt.plot_period_bar(ax[x], 0, start_end=(0, 2), color='k', delta_y=100,alpha=.09)\n",
    "    pt.plot_period_bar(ax[x], 0, start_end=(4, 6), color='cornflowerblue', delta_y=100, alpha=.2)\n",
    "ax[0].set_title('Baseline', color=dark_co[0])\n",
    "ax[1].set_title('Early', color = dark_co[1])\n",
    "ax[2].set_title('Late', color = dark_co[2])\n",
    "ax[2].legend(bbox_to_anchor=(1.05, 1), loc='upper left', borderaxespad=0.)\n",
    "pl.suptitle(\"Within and across CS classes (dCA1), gmin\", fontsize=9, y=1.05)\n",
    "\n",
    "fig.tight_layout(pad=2)\n",
    "\n",
    "\n",
    "fig.savefig('../img/%s_3comp_horizontal_gmin.jpg'%NOTEBOOK_NAME)"
   ]
  },
  {
   "cell_type": "markdown",
   "metadata": {
    "collapsed": false
   },
   "source": [
    "fig, ax = pl.subplots(1,3, figsize=(6, 1.5))\n",
    "\n",
    "for comp,c,la in zip(comparisons,comp_colors,comp_labels):\n",
    "    for r,sess in zip(range(3),sessions):\n",
    "        ax[r].plot([(t-4) for t in range(14)], [(np.mean(eval(\"scores_tb_%s_gmin_%s[sess]\"%(t,comp)))*100) for t in range(14)],\n",
    "                   color=c, ls='-',lw=.5, zorder=19 ,ms=1,label=la)\n",
    "        m = np.array([(np.mean(eval(\"scores_tb_%s_gmin_%s[sess]\"%(t,comp)))*100) for t in range(14)])\n",
    "        s = np.array([np.std(eval(\"scores_tb_%s_gmin_%s[sess]\"%(t,comp)))*100 for t in range(14)])\n",
    "        ax[r].fill_between([(t-4) for t in range(14)],m-s,m+s,alpha=0.2,color=c,linewidth=0)\n",
    "for x in range (3):\n",
    "    ax[x].set_ylim(0, 100)\n",
    "    ax[x].set_xlim(-5, 9)\n",
    "    ax[x].set_xticks(np.arange(-5,11, 5))\n",
    "    ax[x].set_xticklabels(np.arange(-5,11, 5))\n",
    "    ax[x].hlines(50, -5,9, color='k', lw=1, linestyles='dotted')\n",
    "    ax[x].set_xlabel('Time from odor onset (s)')\n",
    "    ax[x].set_ylabel('Performance %')\n",
    "    pt.plot_period_bar(ax[x], 25, start_end=(0, 2), color='r', delta_y=3)\n",
    "# pt.plot_period_bar(ax, 25, start_end=(2, 4), color='0.7', delta_y=2)\n",
    "    pt.plot_period_bar(ax[x], 25, start_end=(4, 4.2), color='b', delta_y=3)\n",
    "    ax[x].hlines(25+1, 2, 4, color='k', lw=0.5, linestyles='dotted')\n",
    "ax[0].set_title('Baseline', color=dark_co[0])\n",
    "ax[1].set_title('Early', color = dark_co[1])\n",
    "ax[2].set_title('Late', color = dark_co[2])\n",
    "ax[2].legend(bbox_to_anchor=(1.05, 1), loc='upper left', borderaxespad=0.)\n",
    "pl.suptitle(\"dCA1, all comparisons (global minimum cell count)\", fontsize=9, y=1.05)\n",
    "\n",
    "fig.tight_layout(pad=2)\n",
    "\n",
    "\n",
    "#fig.savefig('../img/%s_CSPvsCSM_horizontal.pdf'%NOTEBOOK_NAME)"
   ]
  },
  {
   "cell_type": "markdown",
   "metadata": {
    "collapsed": false
   },
   "source": [
    "fig, ax = pl.subplots(1,3, figsize=(4, 1.7))\n",
    "loops=15\n",
    "for comp,c,la,i in zip(alt_comparisons[:3],alt2_colors[:3],comp_labels[:3],range(len(comparisons[:3]))):\n",
    "    for r,sess in zip(range(3),sessions):\n",
    "        ax[r].bar(i,np.mean(eval(\"scores_tb_6_gmin_%s[sess][:loops]\"%(comp)))*100,width=.8, color=c,label=la)\n",
    "        exec(\"s_%s_%s = np.array(np.std(scores_tb_6_gmin_%s[sess][:loops])*100)\"%(comp,sess,comp))\n",
    "        ax[r].errorbar(i,np.mean(eval(\"scores_tb_6_gmin_%s[sess][:loops]\"%(comp)))*100,yerr=eval('s_%s_%s'%(comp,sess)),color='k')\n",
    "for x in range (3):\n",
    "    ax[x].set_ylim(0, 100)\n",
    "    #ax[x].set_xlim(-5, 9)\n",
    "    ax[x].hlines(50, -0.5,2.5, color='k', lw=1, linestyles='dotted')\n",
    "    #ax[x].set_xlabel('Comparison')\n",
    "    ax[x].set_ylabel('Performance %')\n",
    "    ax[x].tick_params(axis='x',bottom='off',labelbottom='off')\n",
    "\n",
    "pvs=[]\n",
    "for r,sess in zip(range(3),sessions):\n",
    "    pvs.append(add_significance(ax[r], eval(\"scores_tb_6_gmin_%s[sess]\"%(alt_comparisons[0]))[:loops],\n",
    "                eval(\"scores_tb_6_gmin_%s[sess]\"%(alt_comparisons[1]))[:loops],0,.9,110))\n",
    "    pvs.append(add_significance(ax[r], eval(\"scores_tb_6_gmin_%s[sess]\"%(alt_comparisons[1]))[:loops],\n",
    "                eval(\"scores_tb_6_gmin_%s[sess]\"%(alt_comparisons[2]))[:loops],1.1,2,110))\n",
    "    pvs.append(add_significance(ax[r], eval(\"scores_tb_6_gmin_%s[sess]\"%(alt_comparisons[0]))[:loops],\n",
    "                eval(\"scores_tb_6_gmin_%s[sess]\"%(alt_comparisons[2]))[:loops],0,2,119))\n",
    "for comp,i in zip(alt_comparisons[:3], range(len(alt_comparisons[:3]))):\n",
    "    for r,sess in zip(range(3),sessions):\n",
    "        pvs.append(sig_vs_chance(ax[r],eval(\"scores_tb_6_gmin_%s[sess]\"%(comp))[:loops],.5,i,\n",
    "               np.mean(eval(\"scores_tb_6_gmin_%s[sess][:loops]\"%(comp)))*100+(eval(\"s_%s_%s\"%(comp,sess)))+1,loops=loops,sig_func=None,colors='k'))\n",
    "\n",
    "ax[0].set_title('Baseline', color=dark_co[0], y=1.2)\n",
    "ax[1].set_title('Early', color = dark_co[1], y=1.2)\n",
    "ax[2].set_title('Late', color = dark_co[2], y=1.2)\n",
    "ax[2].legend(bbox_to_anchor=(1.05, 1), loc='upper left', borderaxespad=0.)\n",
    "pl.suptitle(\"CS decoding accuracy (dCA1, gmin)\", fontsize=10, y=1)\n",
    "\n",
    "fig.tight_layout(pad=2)\n",
    "\n",
    "\n",
    "#fig.savefig('../img/%s_CSPvsCSM_horizontal.pdf'%NOTEBOOK_NAME)"
   ]
  },
  {
   "cell_type": "markdown",
   "metadata": {
    "collapsed": false
   },
   "source": [
    "fig, ax = pl.subplots(1,3, figsize=(4, 1.7))\n",
    "loops=15\n",
    "for comp,c,la,i in zip(alt_comparisons[:3],alt2_colors[:3],comp_labels[:3],range(len(alt_comparisons[:3]))):\n",
    "    for r,sess in zip(range(3),sessions):\n",
    "        ax[r].bar(i,np.mean(eval(\"scores_tb_8_gmin_%s[sess][:loops]\"%(comp)))*100,width=.8, color=c,label=la)\n",
    "        exec(\"s_%s_%s = np.array(np.std(scores_tb_8_gmin_%s[sess][:loops])*100)\"%(comp,sess,comp))\n",
    "        ax[r].errorbar(i,np.mean(eval(\"scores_tb_8_gmin_%s[sess][:loops]\"%(comp)))*100,yerr=eval('s_%s_%s'%(comp,sess)),color='k')\n",
    "for x in range (3):\n",
    "    ax[x].set_ylim(0, 100)\n",
    "    #ax[x].set_xlim(-5, 9)\n",
    "    ax[x].hlines(50, -0.5,2.5, color='k', lw=1, linestyles='dotted')\n",
    "    #ax[x].set_xlabel('Comparison')\n",
    "    ax[x].set_ylabel('Performance %')\n",
    "    ax[x].tick_params(axis='x',bottom='off',labelbottom='off')\n",
    "\n",
    "pvs=[]\n",
    "for r,sess in zip(range(3),sessions):\n",
    "    pvs.append(add_significance(ax[r], eval(\"scores_tb_8_gmin_%s[sess]\"%(alt_comparisons[0]))[:loops],\n",
    "                eval(\"scores_tb_8_gmin_%s[sess]\"%(alt_comparisons[1]))[:loops],0,.9,110))\n",
    "    pvs.append(add_significance(ax[r], eval(\"scores_tb_8_gmin_%s[sess]\"%(alt_comparisons[1]))[:loops],\n",
    "                eval(\"scores_tb_8_gmin_%s[sess]\"%(alt_comparisons[2]))[:loops],1.1,2,110))\n",
    "    pvs.append(add_significance(ax[r], eval(\"scores_tb_8_gmin_%s[sess]\"%(alt_comparisons[0]))[:loops],\n",
    "                eval(\"scores_tb_8_gmin_%s[sess]\"%(alt_comparisons[2]))[:loops],0,2,119))\n",
    "for comp,i in zip(alt_comparisons[:3], range(len(alt_comparisons[:3]))):\n",
    "    for r,sess in zip(range(3),sessions):\n",
    "        pvs.append(sig_vs_chance(ax[r],eval(\"scores_tb_8_gmin_%s[sess]\"%(comp))[:loops],.5,i,\n",
    "               np.mean(eval(\"scores_tb_8_gmin_%s[sess][:loops]\"%(comp)))*100+(eval(\"s_%s_%s\"%(comp,sess)))+1,loops=loops,sig_func=None,colors='k'))\n",
    "\n",
    "ax[0].set_title('Baseline', color=dark_co[0], y=1.2)\n",
    "ax[1].set_title('Early', color = dark_co[1], y=1.2)\n",
    "ax[2].set_title('Late', color = dark_co[2], y=1.2)\n",
    "ax[2].legend(bbox_to_anchor=(1.05, 1), loc='upper left', borderaxespad=0.)\n",
    "pl.suptitle(\"Trace decoding accuracy (dCA1, gmin)\", fontsize=10, y=1)\n",
    "\n",
    "fig.tight_layout(pad=2)\n",
    "\n",
    "\n",
    "#fig.savefig('../img/%s_CSPvsCSM_horizontal.pdf'%NOTEBOOK_NAME)"
   ]
  },
  {
   "cell_type": "markdown",
   "metadata": {
    "collapsed": false
   },
   "source": [
    "fig, ax = pl.subplots(1,3, figsize=(6, 1.5))\n",
    "\n",
    "for comp,c,la in zip(['tr13_ts24','tr14_ts23','tr23_ts14','tr24_ts13','tr12_ts34'],tt_colors,['tr13_ts24','tr14_ts23','tr23_ts14','tr24_ts13','tr12_ts34']):\n",
    "    for r,sess in zip(range(3),sessions):\n",
    "        ax[r].plot([(t-4.5) for t in range(14)], [(np.mean(eval(\"scores_tb_%s_gmin_outcome_%s[sess]\"%(t,comp)))*100) for t in range(14)],\n",
    "                   color=c, ls='-',lw=.5, zorder=19 ,ms=1,label=la)\n",
    "        m = np.array([(np.mean(eval(\"scores_tb_%s_gmin_outcome_%s[sess]\"%(t,comp)))*100) for t in range(14)])\n",
    "        s = np.array([np.std(eval(\"scores_tb_%s_gmin_outcome_%s[sess]\"%(t,comp)))*100 for t in range(14)])\n",
    "        ax[r].fill_between([(t-4.5) for t in range(14)],m-s,m+s,alpha=0.2,color=c,linewidth=0)\n",
    "for x in range (3):\n",
    "    ax[x].set_ylim(0, 100)\n",
    "    ax[x].set_xlim(-5, 9)\n",
    "    ax[x].set_xticks(np.arange(-5,11, 5))\n",
    "    ax[x].set_xticklabels(np.arange(-5,11, 5))\n",
    "    ax[x].hlines(50, -5,9, color='k', lw=1, linestyles='dotted')\n",
    "    ax[x].set_xlabel('Time from odor onset (s)')\n",
    "    ax[x].set_ylabel('Performance %')\n",
    "    pt.plot_period_bar(ax[x], 25, start_end=(0, 2), color='r', delta_y=3)\n",
    "# pt.plot_period_bar(ax, 25, start_end=(2, 4), color='0.7', delta_y=2)\n",
    "    pt.plot_period_bar(ax[x], 25, start_end=(4, 4.2), color='b', delta_y=3)\n",
    "    ax[x].hlines(25+1, 2, 4, color='k', lw=0.5, linestyles='dotted')\n",
    "ax[0].set_title('Baseline', color=dark_co[0])\n",
    "ax[1].set_title('Early', color = dark_co[1])\n",
    "ax[2].set_title('Late', color = dark_co[2])\n",
    "ax[2].legend(bbox_to_anchor=(1.05, 1), loc='upper left', borderaxespad=0.)\n",
    "pl.suptitle(\"Decoding Oucome dCA1, gmin (train on 1 CS+/CS- pair, test on other)\", fontsize=9, y=1.05)\n",
    "\n",
    "fig.tight_layout(pad=2)\n",
    "\n",
    "\n",
    "#fig.savefig('../img/%s_CSPvsCSM_horizontal.pdf'%NOTEBOOK_NAME)"
   ]
  },
  {
   "cell_type": "markdown",
   "metadata": {
    "collapsed": false,
    "scrolled": false
   },
   "source": [
    "fig, ax = pl.subplots(1,3, figsize=(4, 1.5))\n",
    "loops=15\n",
    "tt_comparisons =['tr13_ts24','tr14_ts23','tr23_ts14','tr24_ts13','averaged']\n",
    "for comp,c,la,i in zip(tt_comparisons,tt_colors_k,['1v3 & 2v4','1v4 & 2v3','2v3 & 1v4','2v4 & 1v3','Average'],range(5)):\n",
    "    for r,sess in zip(range(3),sessions):\n",
    "        ax[r].bar(i,np.mean(eval(\"scores_tb_8_gmin_outcome_%s[sess][:loops]\"%(comp)))*100,width=.8, color=c,label=la)\n",
    "        exec(\"s_%s_%s = np.array(np.std(scores_tb_8_gmin_outcome_%s[sess][:loops])*100)\"%(comp,sess,comp))\n",
    "        ax[r].errorbar(i,np.mean(eval(\"scores_tb_8_gmin_outcome_%s[sess][:loops]\"%(comp)))*100,yerr=eval('s_%s_%s'%(comp,sess)),color='k')\n",
    "for x in range (3):\n",
    "    ax[x].set_ylim(0, 100)\n",
    "    #ax[x].set_xlim(-5, 9)\n",
    "    ax[x].hlines(50, -0.5,4.7, color='k', lw=1, linestyles='dotted')\n",
    "    #ax[x].set_xlabel('Comparison')\n",
    "    ax[x].set_ylabel('Performance %')\n",
    "    ax[x].tick_params(axis='x',bottom='off',labelbottom='off')\n",
    "\n",
    "pvs=[]\n",
    "#for r,sess in zip(range(3),sessions):\n",
    "#    pvs.append(add_significance(ax[r], eval(\"scores_tb_8_gmin_outcome_%s[sess]\"%(tt_comparisons[0]))[:loops],\n",
    "#                eval(\"scores_tb_8_gmin_outcome_%s[sess]\"%(tt_comparisons[1]))[:loops],0,.9,110))\n",
    "#    pvs.append(add_significance(ax[r], eval(\"scores_tb_8_gmin_outcome_%s[sess]\"%(tt_comparisons[1]))[:loops],\n",
    "#                eval(\"scores_tb_8_gmin_outcome_%s[sess]\"%(tt_comparisons[2]))[:loops],1.1,2,110))\n",
    "#    pvs.append(add_significance(ax[r], eval(\"scores_tb_8_gmin_outcome_%s[sess]\"%(tt_comparisons[0]))[:loops],\n",
    "#                eval(\"scores_tb_8_gmin_outcome_%s[sess]\"%(tt_comparisons[2]))[:loops],0,2,119))\n",
    "for comp,i in zip(tt_comparisons, range(len(tt_comparisons))):\n",
    "    for r,sess in zip(range(3),sessions):\n",
    "        pvs.append(sig_vs_chance(ax[r],eval(\"scores_tb_8_gmin_outcome_%s[sess]\"%(comp))[:loops],.5,i,\n",
    "               np.mean(eval(\"scores_tb_8_gmin_outcome_%s[sess][:loops]\"%(comp)))*100+(eval(\"s_%s_%s\"%(comp,sess)))+1,loops=loops,sig_func=None,colors='k'))\n",
    "\n",
    "ax[0].set_title('Baseline', color=dark_co[0], y=1.)\n",
    "ax[1].set_title('Early', color = dark_co[1], y=1.)\n",
    "ax[2].set_title('Late', color = dark_co[2], y=1.)\n",
    "ax[2].legend(bbox_to_anchor=(1.08, 1), loc='upper left', borderaxespad=0.)\n",
    "pl.suptitle(\"Outcome decoding during trace (dCA1, gmin)\", fontsize=10, y=1.05)\n",
    "\n",
    "fig.tight_layout(pad=2)\n",
    "\n",
    "\n",
    "#fig.savefig('../img/%s_CSPvsCSM_horizontal.pdf'%NOTEBOOK_NAME)"
   ]
  },
  {
   "cell_type": "markdown",
   "metadata": {
    "collapsed": false
   },
   "source": [
    "fig, ax = pl.subplots(1,2, figsize=(2.8, 1.5))\n",
    "loops=15\n",
    "tt_comparisons =['tr13_ts24','tr14_ts23','tr23_ts14','tr24_ts13','averaged']\n",
    "for i,k,c,la in zip(range(2),[6,8],['lightgrey','k'],['CS','Trace']):\n",
    "    for r,sess in zip(range(2),sessions[1:]):\n",
    "        ax[r].bar(i,np.mean(eval(\"scores_tb_%s_gmin_outcome_averaged[sess][:loops]\"%(k)))*100,width=.8,\n",
    "                  color=c,alpha=.9,label=la,edgecolor='k')\n",
    "        exec(\"s_%s_%s = np.array(np.std(scores_tb_%s_gmin_outcome_averaged[sess][:loops])*100)\"%(k,sess,k))\n",
    "        ax[r].errorbar(i,np.mean(eval(\"scores_tb_%s_gmin_outcome_averaged[sess][:loops]\"%(k)))*100,yerr=eval('s_%s_%s'%(k,sess)),color='k')\n",
    "for x in range (2):\n",
    "    ax[x].set_ylim(0, 100)\n",
    "    #ax[x].set_xlim(-5, 9)\n",
    "    ax[x].hlines(50, -0.5,1.7, color='k', lw=1, linestyles='dotted')\n",
    "    #ax[x].set_xlabel('Comparison')\n",
    "    ax[x].set_ylabel('Performance %')\n",
    "    ax[x].tick_params(axis='x',bottom='off',labelbottom='off')\n",
    "\n",
    "pvs=[]\n",
    "for r,sess,q in zip(range(2),sessions[1:],[70,99]):\n",
    "    pvs.append(add_significance(ax[r], scores_tb_6_gmin_outcome_averaged[sess][:loops],\n",
    "                scores_tb_8_gmin_outcome_averaged[sess][:loops],0,1,q))\n",
    "#for i,k,c,la in zip(range(2),[6,8],['lightgrey','k'],['CS','Trace']):\n",
    "#    for r,sess in zip(range(2),sessions[1:]):\n",
    "#        pvs.append(sig_vs_chance(ax[r],eval(\"scores_tb_%s_gmin_outcome_averaged[sess][:loops]\"%(k))[:loops],.5,i,\n",
    "#               np.mean(eval(\"scores_tb_%s_gmin_outcome_averaged[sess][:loops]\"%(k)))*100+(eval(\"s_%s_%s\"%(k,sess)))+1,loops=loops,sig_func=None,colors='k'))\n",
    "\n",
    "#ax[0].set_title('Baseline', color=dark_co[0], y=1.)\n",
    "ax[0].set_title('Early', color = dark_co[1], y=1.03)\n",
    "ax[1].set_title('Late', color = dark_co[2], y=1.03)\n",
    "ax[0].legend(bbox_to_anchor=(.97, 1), loc='upper left', borderaxespad=0.)\n",
    "pl.suptitle(\"Outcome decoding (dCA1)\", fontsize=9, y=1.1)\n",
    "\n",
    "fig.tight_layout(w_pad=7)\n",
    "\n",
    "\n",
    "fig.savefig('../img/%s_CSvsTr_outcome_decoding.pdf'%NOTEBOOK_NAME)"
   ]
  },
  {
   "cell_type": "markdown",
   "metadata": {
    "collapsed": true
   },
   "source": []
  },
  {
   "cell_type": "markdown",
   "metadata": {},
   "source": [
    "# decode using the minimum cells for late session 2wayOnly"
   ]
  },
  {
   "cell_type": "markdown",
   "metadata": {
    "collapsed": false
   },
   "source": [
    "#get train and test subsamples for each timebin, for each session\n",
    "relabel = {1:0,2:1,3:-1,4:-1}\n",
    "n_loops=20\n",
    "for t in range(14): # number of time bins\n",
    "    exec('scores_tb_%s_lmin_CS1vsCS2 = {}'%t)\n",
    "    for sess in sessions:\n",
    "        print sess,\n",
    "        print t,\n",
    "        eval(\"scores_tb_%s_lmin_CS1vsCS2\"%t)[sess] = np.r_[[do_test_within(eval(\"patterns_tb_%s_%s\"%(t,sess)),eval(\"labels_%s\"%sess),\n",
    "              classes=range(1,5), n_cells=lmin, relabel=relabel) for i in range(n_loops)]]"
   ]
  },
  {
   "cell_type": "markdown",
   "metadata": {
    "collapsed": false
   },
   "source": [
    "%%time\n",
    "relabel = {1:0,2:0,3:1,4:1}\n",
    "for t in range(14): # number of time bins\n",
    "    exec('scores_tb_%s_lmin_CSPvsCSM = {}'%t)\n",
    "    n_loops = 20\n",
    "    for sess in sessions:\n",
    "        print sess,\n",
    "        print t,\n",
    "        eval(\"scores_tb_%s_lmin_CSPvsCSM\"%t)[sess] = np.r_[[do_test_within(eval(\"patterns_tb_%s_%s\"%(t,sess)),eval(\"labels_%s\"%sess),\n",
    "              classes=range(1,5), n_cells=lmin, relabel=relabel) for i in range(n_loops)]]"
   ]
  },
  {
   "cell_type": "markdown",
   "metadata": {
    "collapsed": false
   },
   "source": [
    "%%time\n",
    "relabel = {1:0,2:-1,3:1,4:-1}\n",
    "for t in range(14): # number of time bins\n",
    "    exec('scores_tb_%s_lmin_CS1vsCS3 = {}'%t)\n",
    "    n_loops = 20\n",
    "    for sess in sessions:\n",
    "        print sess,\n",
    "        print t,\n",
    "        eval(\"scores_tb_%s_lmin_CS1vsCS3\"%t)[sess] = np.r_[[do_test_within(eval(\"patterns_tb_%s_%s\"%(t,sess)),eval(\"labels_%s\"%sess),\n",
    "              classes=range(1,5), n_cells=lmin, relabel=relabel) for i in range(n_loops)]]"
   ]
  },
  {
   "cell_type": "markdown",
   "metadata": {
    "collapsed": false
   },
   "source": [
    "%%time\n",
    "relabel = {1:0,2:-1,3:-1,4:1}\n",
    "for t in range(14): # number of time bins\n",
    "    exec('scores_tb_%s_lmin_CS1vsCS4 = {}'%t)\n",
    "    n_loops = 20\n",
    "    for sess in sessions:\n",
    "        print sess,\n",
    "        print t,\n",
    "        eval(\"scores_tb_%s_lmin_CS1vsCS4\"%t)[sess] = np.r_[[do_test_within(eval(\"patterns_tb_%s_%s\"%(t,sess)),eval(\"labels_%s\"%sess),\n",
    "              classes=range(1,5), n_cells=lmin, relabel=relabel) for i in range(n_loops)]]"
   ]
  },
  {
   "cell_type": "markdown",
   "metadata": {
    "collapsed": false
   },
   "source": [
    "%%time\n",
    "relabel = {1:-1,2:0,3:1,4:-1}\n",
    "for t in range(14): # number of time bins\n",
    "    exec('scores_tb_%s_lmin_CS2vsCS3 = {}'%t)\n",
    "    n_loops = 20\n",
    "    for sess in sessions:\n",
    "        print sess,\n",
    "        print t,\n",
    "        eval(\"scores_tb_%s_lmin_CS2vsCS3\"%t)[sess] = np.r_[[do_test_within(eval(\"patterns_tb_%s_%s\"%(t,sess)),eval(\"labels_%s\"%sess),\n",
    "              classes=range(1,5), n_cells=lmin, relabel=relabel) for i in range(n_loops)]]"
   ]
  },
  {
   "cell_type": "markdown",
   "metadata": {
    "collapsed": false
   },
   "source": [
    "%%time\n",
    "relabel = {1:-1,2:0,3:-1,4:1}\n",
    "for t in range(14): # number of time bins\n",
    "    exec('scores_tb_%s_lmin_CS2vsCS4 = {}'%t)\n",
    "    n_loops = 20\n",
    "    for sess in sessions:\n",
    "        print sess,\n",
    "        print t,\n",
    "        eval(\"scores_tb_%s_lmin_CS2vsCS4\"%t)[sess] = np.r_[[do_test_within(eval(\"patterns_tb_%s_%s\"%(t,sess)),eval(\"labels_%s\"%sess),\n",
    "              classes=range(1,5), n_cells=lmin, relabel=relabel) for i in range(n_loops)]]"
   ]
  },
  {
   "cell_type": "markdown",
   "metadata": {
    "collapsed": false
   },
   "source": [
    "%%time\n",
    "relabel = {1:-1,2:-1,3:0,4:1}\n",
    "for t in range(14): # number of time bins\n",
    "    exec('scores_tb_%s_lmin_CS3vsCS4 = {}'%t)\n",
    "    n_loops = 20\n",
    "    for sess in sessions:\n",
    "        print sess,\n",
    "        print t,\n",
    "        eval(\"scores_tb_%s_lmin_CS3vsCS4\"%t)[sess] = np.r_[[do_test_within(eval(\"patterns_tb_%s_%s\"%(t,sess)),eval(\"labels_%s\"%sess),\n",
    "              classes=range(1,5), n_cells=lmin, relabel=relabel) for i in range(n_loops)]]"
   ]
  },
  {
   "cell_type": "markdown",
   "metadata": {
    "collapsed": false
   },
   "source": [
    "%%time\n",
    "tt_relabels = [{1:0,2:-1,3:1,4:-1}, {1:0,2:-1,3:-1,4:1}, {1:-1,2:0,3:1,4:-1}, {1:-1,2:0,3:-1,4:1}]\n",
    "tt_relabels_test = [{1:-1,2:0,3:-1,4:1}, {1:-1,2:0,3:1,4:-1}, {1:0,2:-1,3:-1,4:1}, {1:0,2:-1,3:1,4:-1}]\n",
    "tt_pairs = ['tr13_ts24','tr14_ts23','tr23_ts14','tr24_ts13']\n",
    "for t in range(14): # number of time bins\n",
    "    for re, rete, it in zip(tt_relabels,tt_relabels_test,tt_pairs):\n",
    "        exec('scores_tb_%s_lmin_outcome_%s = {}'%(t,it))\n",
    "        n_loops = 20\n",
    "        for sess in sessions:\n",
    "            print sess,\n",
    "            print t,\n",
    "            eval(\"scores_tb_%s_lmin_outcome_%s\"%(t,it))[sess] = np.r_[[do_test_within(eval(\"patterns_tb_%s_%s\"%(t,sess)),eval(\"labels_%s\"%sess),\n",
    "                  classes=range(1,5), n_cells=lmin, relabel=re, relabel_test=rete) for i in range(n_loops)]]"
   ]
  },
  {
   "cell_type": "markdown",
   "metadata": {
    "collapsed": false
   },
   "source": [
    "%%time\n",
    "tt_relabels_cont = [{1:0,2:1,3:-1,4:-1}]\n",
    "tt_relabels_test_cont = [{1:-1,2:-1,3:0,4:1}]\n",
    "for t in range(14): # number of time bins\n",
    "    for re, rete, it in zip(tt_relabels_cont,tt_relabels_test_cont,['tr12_ts34']):\n",
    "        exec('scores_tb_%s_lmin_outcome_%s = {}'%(t,it))\n",
    "        n_loops = 20\n",
    "        for sess in sessions:\n",
    "            print sess,\n",
    "            print t,\n",
    "            eval(\"scores_tb_%s_lmin_outcome_%s\"%(t,it))[sess] = np.r_[[do_test_within(eval(\"patterns_tb_%s_%s\"%(t,sess)),eval(\"labels_%s\"%sess),\n",
    "                  classes=range(1,5), n_cells=lmin, relabel=re, relabel_test=rete) for i in range(n_loops)]]"
   ]
  },
  {
   "cell_type": "markdown",
   "metadata": {
    "collapsed": true
   },
   "source": [
    "#for an alternative take on CS+ vs CS-, average each idividual comparison\n",
    "for t in range(14):\n",
    "    exec(\"scores_tb_%s_lmin_CSPvsCSM_averaged = {}\"%t)\n",
    "    for sess in sessions:\n",
    "        exec(\"scores_tb_%s_lmin_CSPvsCSM_averaged[sess] = np.mean((scores_tb_%s_lmin_CS1vsCS3[sess],scores_tb_%s_lmin_CS1vsCS4[sess],\\\n",
    "              scores_tb_%s_lmin_CS2vsCS3[sess],scores_tb_%s_lmin_CS2vsCS4[sess]),axis=0)\"%(t,t,t,t,t))"
   ]
  },
  {
   "cell_type": "markdown",
   "metadata": {
    "collapsed": false
   },
   "source": [
    "#for outcome endoding, average each idividual comparison\n",
    "for t in range(14):\n",
    "    exec(\"scores_tb_%s_lmin_outcome_averaged = {}\"%t)\n",
    "    for sess in sessions:\n",
    "        exec(\"scores_tb_%s_lmin_outcome_averaged[sess] = np.mean((scores_tb_%s_lmin_outcome_tr13_ts24[sess],scores_tb_%s_lmin_outcome_tr14_ts23[sess],\\\n",
    "              scores_tb_%s_lmin_outcome_tr23_ts14[sess],scores_tb_%s_lmin_outcome_tr24_ts13[sess]),axis=0)\"%(t,t,t,t,t))"
   ]
  },
  {
   "cell_type": "markdown",
   "metadata": {
    "collapsed": false
   },
   "source": [
    "fig, ax = pl.subplots(1,3, figsize=(7, 1.9))\n",
    "\n",
    "for comp,c,la in zip(['CS1vsCS2','CS3vsCS4','CSPvsCSM'],['cyan','m','k'],['CS+ vs CS+','CS-  vs CS-','CS+ vs CS-']):\n",
    "    for r,sess in zip(range(3),sessions):\n",
    "        ax[r].plot([(t-4.5) for t in range(14)], [(np.mean(eval(\"scores_tb_%s_lmin_%s[sess]\"%(t,comp)))*100) for t in range(14)],\n",
    "                   color=c, ls='-',lw=.5, zorder=19 ,ms=1,label=la)\n",
    "        m = np.array([(np.mean(eval(\"scores_tb_%s_lmin_%s[sess]\"%(t,comp)))*100) for t in range(14)])\n",
    "        s = np.array([np.std(eval(\"scores_tb_%s_lmin_%s[sess]\"%(t,comp)))*100 for t in range(14)])\n",
    "        ax[r].fill_between([(t-4.5) for t in range(14)],m-s,m+s,alpha=0.2,color=c,linewidth=0)\n",
    "for x in range (3):\n",
    "    ax[x].set_ylim(0, 100)\n",
    "    ax[x].set_xlim(-5, 9)\n",
    "    ax[x].set_xticks(np.arange(-5,11, 5))\n",
    "    ax[x].set_xticklabels(np.arange(-5,11, 5))\n",
    "    ax[x].hlines(50, -5,9, color='k', lw=1, linestyles='dotted')\n",
    "    ax[x].set_xlabel('Time from odor onset (s)')\n",
    "    ax[x].set_ylabel('Performance %')\n",
    "    pt.plot_period_bar(ax[x], 0, start_end=(0, 2), color='k', delta_y=100,alpha=.09)\n",
    "    pt.plot_period_bar(ax[x], 0, start_end=(4, 6), color='cornflowerblue', delta_y=100, alpha=.2)\n",
    "ax[0].set_title('Baseline', color=dark_co[0])\n",
    "ax[1].set_title('Early', color = dark_co[1])\n",
    "ax[2].set_title('Late', color = dark_co[2])\n",
    "ax[2].legend(bbox_to_anchor=(1.05, 1), loc='upper left', borderaxespad=0.)\n",
    "pl.suptitle(\"Within and across CS classes (dCA1), lmin\", fontsize=9, y=1.05)\n",
    "\n",
    "fig.tight_layout(pad=2)\n",
    "\n",
    "\n",
    "fig.savefig('../img/%s_3comp_horizontal_lmin.jpg'%NOTEBOOK_NAME)"
   ]
  },
  {
   "cell_type": "markdown",
   "metadata": {
    "collapsed": false
   },
   "source": [
    "fig, ax = pl.subplots(1,3, figsize=(6, 1.5))\n",
    "\n",
    "for comp,c,la in zip(comparisons,comp_colors,comp_labels):\n",
    "    for r,sess in zip(range(3),sessions):\n",
    "        ax[r].plot([(t-4) for t in range(14)], [(np.mean(eval(\"scores_tb_%s_lmin_%s[sess]\"%(t,comp)))*100) for t in range(14)],\n",
    "                   color=c, ls='-',lw=.5, zorder=19 ,ms=1,label=la)\n",
    "        m = np.array([(np.mean(eval(\"scores_tb_%s_lmin_%s[sess]\"%(t,comp)))*100) for t in range(14)])\n",
    "        s = np.array([np.std(eval(\"scores_tb_%s_lmin_%s[sess]\"%(t,comp)))*100 for t in range(14)])\n",
    "        ax[r].fill_between([(t-4) for t in range(14)],m-s,m+s,alpha=0.2,color=c,linewidth=0)\n",
    "for x in range (3):\n",
    "    ax[x].set_ylim(0, 100)\n",
    "    ax[x].set_xlim(-5, 9)\n",
    "    ax[x].set_xticks(np.arange(-5,11, 5))\n",
    "    ax[x].set_xticklabels(np.arange(-5,11, 5))\n",
    "    ax[x].hlines(50, -5,9, color='k', lw=1, linestyles='dotted')\n",
    "    ax[x].set_xlabel('Time from odor onset (s)')\n",
    "    ax[x].set_ylabel('Performance %')\n",
    "    pt.plot_period_bar(ax[x], 25, start_end=(0, 2), color='r', delta_y=3)\n",
    "# pt.plot_period_bar(ax, 25, start_end=(2, 4), color='0.7', delta_y=2)\n",
    "    pt.plot_period_bar(ax[x], 25, start_end=(4, 4.2), color='b', delta_y=3)\n",
    "    ax[x].hlines(25+1, 2, 4, color='k', lw=0.5, linestyles='dotted')\n",
    "ax[0].set_title('Baseline', color=dark_co[0])\n",
    "ax[1].set_title('Early', color = dark_co[1])\n",
    "ax[2].set_title('Late', color = dark_co[2])\n",
    "ax[2].legend(bbox_to_anchor=(1.05, 1), loc='upper left', borderaxespad=0.)\n",
    "pl.suptitle(\"dCA1, all comparisons (late minimum cell count)\", fontsize=9, y=1.05)\n",
    "\n",
    "fig.tight_layout(pad=2)\n",
    "\n",
    "\n",
    "#fig.savefig('../img/%s_CSPvsCSM_horizontal.pdf'%NOTEBOOK_NAME)"
   ]
  },
  {
   "cell_type": "markdown",
   "metadata": {
    "collapsed": false
   },
   "source": [
    "fig, ax = pl.subplots(1,3, figsize=(4, 1.7))\n",
    "loops=10\n",
    "for comp,c,la,i in zip(alt_comparisons[:3],alt2_colors[:3],comp_labels[:3],range(len(comparisons[:3]))):\n",
    "    for r,sess in zip(range(3),sessions):\n",
    "        ax[r].bar(i,np.mean(eval(\"scores_tb_6_lmin_%s[sess][:loops]\"%(comp)))*100,width=.8, color=c,label=la)\n",
    "        exec(\"s_%s_%s = np.array(np.std(scores_tb_6_lmin_%s[sess][:loops])*100)\"%(comp,sess,comp))\n",
    "        ax[r].errorbar(i,np.mean(eval(\"scores_tb_6_lmin_%s[sess][:loops]\"%(comp)))*100,yerr=eval('s_%s_%s'%(comp,sess)),color='k')\n",
    "for x in range (3):\n",
    "    ax[x].set_ylim(0, 100)\n",
    "    #ax[x].set_xlim(-5, 9)\n",
    "    ax[x].hlines(50, -0.5,2.5, color='k', lw=1, linestyles='dotted')\n",
    "    #ax[x].set_xlabel('Comparison')\n",
    "    ax[x].set_ylabel('Performance %')\n",
    "    ax[x].tick_params(axis='x',bottom='off',labelbottom='off')\n",
    "\n",
    "pvs=[]\n",
    "for r,sess in zip(range(3),sessions):\n",
    "    pvs.append(add_significance(ax[r], eval(\"scores_tb_6_lmin_%s[sess]\"%(alt_comparisons[0]))[:loops],\n",
    "                eval(\"scores_tb_6_lmin_%s[sess]\"%(alt_comparisons[1]))[:loops],0,.9,110))\n",
    "    pvs.append(add_significance(ax[r], eval(\"scores_tb_6_lmin_%s[sess]\"%(alt_comparisons[1]))[:loops],\n",
    "                eval(\"scores_tb_6_lmin_%s[sess]\"%(alt_comparisons[2]))[:loops],1.1,2,110))\n",
    "    pvs.append(add_significance(ax[r], eval(\"scores_tb_6_lmin_%s[sess]\"%(alt_comparisons[0]))[:loops],\n",
    "                eval(\"scores_tb_6_lmin_%s[sess]\"%(alt_comparisons[2]))[:loops],0,2,119))\n",
    "for comp,i in zip(alt_comparisons[:3], range(len(alt_comparisons[:3]))):\n",
    "    for r,sess in zip(range(3),sessions):\n",
    "        pvs.append(sig_vs_chance(ax[r],eval(\"scores_tb_6_lmin_%s[sess]\"%(comp))[:loops],.5,i,\n",
    "               np.mean(eval(\"scores_tb_6_lmin_%s[sess][:loops]\"%(comp)))*100+(eval(\"s_%s_%s\"%(comp,sess)))+1,loops=loops,sig_func=None,colors='k'))\n",
    "\n",
    "ax[0].set_title('Baseline', color=dark_co[0], y=1.2)\n",
    "ax[1].set_title('Early', color = dark_co[1], y=1.2)\n",
    "ax[2].set_title('Late', color = dark_co[2], y=1.2)\n",
    "ax[2].legend(bbox_to_anchor=(1.05, 1), loc='upper left', borderaxespad=0.)\n",
    "pl.suptitle(\"CS decoding accuracy (dCA1, lmin)\", fontsize=10, y=1)\n",
    "\n",
    "fig.tight_layout(pad=2)\n",
    "\n",
    "\n",
    "#fig.savefig('../img/%s_CSPvsCSM_horizontal.pdf'%NOTEBOOK_NAME)"
   ]
  },
  {
   "cell_type": "markdown",
   "metadata": {
    "collapsed": false
   },
   "source": [
    "fig, ax = pl.subplots(1,3, figsize=(4, 1.7))\n",
    "loops=15\n",
    "for comp,c,la,i in zip(alt_comparisons[:3],alt2_colors[:3],comp_labels[:3],range(len(alt_comparisons[:3]))):\n",
    "    for r,sess in zip(range(3),sessions):\n",
    "        ax[r].bar(i,np.mean(eval(\"scores_tb_8_lmin_%s[sess][:loops]\"%(comp)))*100,width=.8, color=c,label=la)\n",
    "        exec(\"s_%s_%s = np.array(np.std(scores_tb_8_lmin_%s[sess][:loops])*100)\"%(comp,sess,comp))\n",
    "        ax[r].errorbar(i,np.mean(eval(\"scores_tb_8_lmin_%s[sess][:loops]\"%(comp)))*100,yerr=eval('s_%s_%s'%(comp,sess)),color='k')\n",
    "for x in range (3):\n",
    "    ax[x].set_ylim(0, 100)\n",
    "    #ax[x].set_xlim(-5, 9)\n",
    "    ax[x].hlines(50, -0.5,2.5, color='k', lw=1, linestyles='dotted')\n",
    "    #ax[x].set_xlabel('Comparison')\n",
    "    ax[x].set_ylabel('Performance %')\n",
    "    ax[x].tick_params(axis='x',bottom='off',labelbottom='off')\n",
    "\n",
    "pvs=[]\n",
    "for r,sess in zip(range(3),sessions):\n",
    "    pvs.append(add_significance(ax[r], eval(\"scores_tb_8_lmin_%s[sess]\"%(alt_comparisons[0]))[:loops],\n",
    "                eval(\"scores_tb_8_lmin_%s[sess]\"%(alt_comparisons[1]))[:loops],0,.9,110))\n",
    "    pvs.append(add_significance(ax[r], eval(\"scores_tb_8_lmin_%s[sess]\"%(alt_comparisons[1]))[:loops],\n",
    "                eval(\"scores_tb_8_lmin_%s[sess]\"%(alt_comparisons[2]))[:loops],1.1,2,110))\n",
    "    pvs.append(add_significance(ax[r], eval(\"scores_tb_8_lmin_%s[sess]\"%(alt_comparisons[0]))[:loops],\n",
    "                eval(\"scores_tb_8_lmin_%s[sess]\"%(alt_comparisons[2]))[:loops],0,2,119))\n",
    "for comp,i in zip(alt_comparisons[:3], range(len(alt_comparisons[:3]))):\n",
    "    for r,sess in zip(range(3),sessions):\n",
    "        pvs.append(sig_vs_chance(ax[r],eval(\"scores_tb_8_lmin_%s[sess]\"%(comp))[:loops],.5,i,\n",
    "               np.mean(eval(\"scores_tb_8_lmin_%s[sess][:loops]\"%(comp)))*100+(eval(\"s_%s_%s\"%(comp,sess)))+1,loops=loops,sig_func=None,colors='k'))\n",
    "\n",
    "ax[0].set_title('Baseline', color=dark_co[0], y=1.2)\n",
    "ax[1].set_title('Early', color = dark_co[1], y=1.2)\n",
    "ax[2].set_title('Late', color = dark_co[2], y=1.2)\n",
    "ax[2].legend(bbox_to_anchor=(1.05, 1), loc='upper left', borderaxespad=0.)\n",
    "pl.suptitle(\"Trace decoding accuracy (dCA1, lmin)\", fontsize=10, y=1)\n",
    "\n",
    "fig.tight_layout(pad=2)\n",
    "\n",
    "\n",
    "#fig.savefig('../img/%s_CSPvsCSM_horizontal.pdf'%NOTEBOOK_NAME)"
   ]
  },
  {
   "cell_type": "markdown",
   "metadata": {
    "collapsed": false
   },
   "source": [
    "fig, ax = pl.subplots(1,3, figsize=(6, 1.5))\n",
    "\n",
    "for comp,c,la in zip(['tr13_ts24','tr14_ts23','tr23_ts14','tr24_ts13','tr12_ts34'],tt_colors,['tr13_ts24','tr14_ts23','tr23_ts14','tr24_ts13','tr12_ts34']):\n",
    "    for r,sess in zip(range(3),sessions):\n",
    "        ax[r].plot([(t-4.5) for t in range(14)], [(np.mean(eval(\"scores_tb_%s_lmin_outcome_%s[sess]\"%(t,comp)))*100) for t in range(14)],\n",
    "                   color=c, ls='-',lw=.5, zorder=19 ,ms=1,label=la)\n",
    "        m = np.array([(np.mean(eval(\"scores_tb_%s_lmin_outcome_%s[sess]\"%(t,comp)))*100) for t in range(14)])\n",
    "        s = np.array([np.std(eval(\"scores_tb_%s_lmin_outcome_%s[sess]\"%(t,comp)))*100 for t in range(14)])\n",
    "        ax[r].fill_between([(t-4.5) for t in range(14)],m-s,m+s,alpha=0.2,color=c,linewidth=0)\n",
    "for x in range (3):\n",
    "    ax[x].set_ylim(0, 100)\n",
    "    ax[x].set_xlim(-5, 9)\n",
    "    ax[x].set_xticks(np.arange(-5,11, 5))\n",
    "    ax[x].set_xticklabels(np.arange(-5,11, 5))\n",
    "    ax[x].hlines(50, -5,9, color='k', lw=1, linestyles='dotted')\n",
    "    ax[x].set_xlabel('Time from odor onset (s)')\n",
    "    ax[x].set_ylabel('Performance %')\n",
    "    pt.plot_period_bar(ax[x], 25, start_end=(0, 2), color='r', delta_y=3)\n",
    "# pt.plot_period_bar(ax, 25, start_end=(2, 4), color='0.7', delta_y=2)\n",
    "    pt.plot_period_bar(ax[x], 25, start_end=(4, 4.2), color='b', delta_y=3)\n",
    "    ax[x].hlines(25+1, 2, 4, color='k', lw=0.5, linestyles='dotted')\n",
    "ax[0].set_title('Baseline', color=dark_co[0])\n",
    "ax[1].set_title('Early', color = dark_co[1])\n",
    "ax[2].set_title('Late', color = dark_co[2])\n",
    "ax[2].legend(bbox_to_anchor=(1.05, 1), loc='upper left', borderaxespad=0.)\n",
    "pl.suptitle(\"Decoding Oucome dCA1, lmin (train on 1 CS+/CS- pair, test on other)\", fontsize=9, y=1.05)\n",
    "\n",
    "fig.tight_layout(pad=2)\n",
    "\n",
    "\n",
    "#fig.savefig('../img/%s_CSPvsCSM_horizontal.pdf'%NOTEBOOK_NAME)"
   ]
  },
  {
   "cell_type": "markdown",
   "metadata": {
    "collapsed": false,
    "scrolled": false
   },
   "source": [
    "fig, ax = pl.subplots(1,3, figsize=(4, 1.5))\n",
    "loops=15\n",
    "tt_comparisons =['tr13_ts24','tr14_ts23','tr23_ts14','tr24_ts13','averaged']\n",
    "for comp,c,la,i in zip(tt_comparisons,tt_colors_k,['1v3 & 2v4','1v4 & 2v3','2v3 & 1v4','2v4 & 1v3','Average'],range(5)):\n",
    "    for r,sess in zip(range(3),sessions):\n",
    "        ax[r].bar(i,np.mean(eval(\"scores_tb_8_lmin_outcome_%s[sess][:loops]\"%(comp)))*100,width=.8, color=c,label=la)\n",
    "        exec(\"s_%s_%s = np.array(np.std(scores_tb_8_lmin_outcome_%s[sess][:loops])*100)\"%(comp,sess,comp))\n",
    "        ax[r].errorbar(i,np.mean(eval(\"scores_tb_8_lmin_outcome_%s[sess][:loops]\"%(comp)))*100,yerr=eval('s_%s_%s'%(comp,sess)),color='k')\n",
    "for x in range (3):\n",
    "    ax[x].set_ylim(0, 100)\n",
    "    #ax[x].set_xlim(-5, 9)\n",
    "    ax[x].hlines(50, -0.5,4.7, color='k', lw=1, linestyles='dotted')\n",
    "    #ax[x].set_xlabel('Comparison')\n",
    "    ax[x].set_ylabel('Performance %')\n",
    "    ax[x].tick_params(axis='x',bottom='off',labelbottom='off')\n",
    "\n",
    "pvs=[]\n",
    "#for r,sess in zip(range(3),sessions):\n",
    "#    pvs.append(add_significance(ax[r], eval(\"scores_tb_8_lmin_outcome_%s[sess]\"%(tt_comparisons[0]))[:loops],\n",
    "#                eval(\"scores_tb_8_lmin_outcome_%s[sess]\"%(tt_comparisons[1]))[:loops],0,.9,110))\n",
    "#    pvs.append(add_significance(ax[r], eval(\"scores_tb_8_lmin_outcome_%s[sess]\"%(tt_comparisons[1]))[:loops],\n",
    "#                eval(\"scores_tb_8_lmin_outcome_%s[sess]\"%(tt_comparisons[2]))[:loops],1.1,2,110))\n",
    "#    pvs.append(add_significance(ax[r], eval(\"scores_tb_8_lmin_outcome_%s[sess]\"%(tt_comparisons[0]))[:loops],\n",
    "#                eval(\"scores_tb_8_lmin_outcome_%s[sess]\"%(tt_comparisons[2]))[:loops],0,2,119))\n",
    "for comp,i in zip(tt_comparisons, range(len(tt_comparisons))):\n",
    "    for r,sess in zip(range(3),sessions):\n",
    "        pvs.append(sig_vs_chance(ax[r],eval(\"scores_tb_8_lmin_outcome_%s[sess]\"%(comp))[:loops],.5,i,\n",
    "               np.mean(eval(\"scores_tb_8_lmin_outcome_%s[sess][:loops]\"%(comp)))*100+(eval(\"s_%s_%s\"%(comp,sess)))+1,loops=loops,sig_func=None,colors='k'))\n",
    "\n",
    "ax[0].set_title('Baseline', color=dark_co[0], y=1.)\n",
    "ax[1].set_title('Early', color = dark_co[1], y=1.)\n",
    "ax[2].set_title('Late', color = dark_co[2], y=1.)\n",
    "ax[2].legend(bbox_to_anchor=(1.08, 1), loc='upper left', borderaxespad=0.)\n",
    "pl.suptitle(\"Outcome decoding during trace (dCA1, lmin)\", fontsize=10, y=1.05)\n",
    "\n",
    "fig.tight_layout(pad=2)\n",
    "\n",
    "\n",
    "#fig.savefig('../img/%s_CSPvsCSM_horizontal.pdf'%NOTEBOOK_NAME)"
   ]
  },
  {
   "cell_type": "markdown",
   "metadata": {
    "collapsed": false
   },
   "source": [
    "fig, ax = pl.subplots(1,2, figsize=(2.8, 1.5))\n",
    "loops=15\n",
    "tt_comparisons =['tr13_ts24','tr14_ts23','tr23_ts14','tr24_ts13','averaged']\n",
    "for i,k,c,la in zip(range(2),[6,8],['lightgrey','k'],['CS','Trace']):\n",
    "    for r,sess in zip(range(2),sessions[1:]):\n",
    "        ax[r].bar(i,np.mean(eval(\"scores_tb_%s_lmin_outcome_averaged[sess][:loops]\"%(k)))*100,width=.8,\n",
    "                  color=c,alpha=.9,label=la,edgecolor='k')\n",
    "        exec(\"s_%s_%s = np.array(np.std(scores_tb_%s_lmin_outcome_averaged[sess][:loops])*100)\"%(k,sess,k))\n",
    "        ax[r].errorbar(i,np.mean(eval(\"scores_tb_%s_lmin_outcome_averaged[sess][:loops]\"%(k)))*100,yerr=eval('s_%s_%s'%(k,sess)),color='k')\n",
    "for x in range (2):\n",
    "    ax[x].set_ylim(0, 100)\n",
    "    #ax[x].set_xlim(-5, 9)\n",
    "    ax[x].hlines(50, -0.5,1.7, color='k', lw=1, linestyles='dotted')\n",
    "    #ax[x].set_xlabel('Comparison')\n",
    "    ax[x].set_ylabel('Performance %')\n",
    "    ax[x].tick_params(axis='x',bottom='off',labelbottom='off')\n",
    "\n",
    "pvs=[]\n",
    "for r,sess,q in zip(range(2),sessions[1:],[70,99]):\n",
    "    pvs.append(add_significance(ax[r], scores_tb_6_lmin_outcome_averaged[sess][:loops],\n",
    "                scores_tb_8_lmin_outcome_averaged[sess][:loops],0,1,q))\n",
    "#for i,k,c,la in zip(range(2),[6,8],['lightgrey','k'],['CS','Trace']):\n",
    "#    for r,sess in zip(range(2),sessions[1:]):\n",
    "#        pvs.append(sig_vs_chance(ax[r],eval(\"scores_tb_%s_lmin_outcome_averaged[sess][:loops]\"%(k))[:loops],.5,i,\n",
    "#               np.mean(eval(\"scores_tb_%s_lmin_outcome_averaged[sess][:loops]\"%(k)))*100+(eval(\"s_%s_%s\"%(k,sess)))+1,loops=loops,sig_func=None,colors='k'))\n",
    "\n",
    "#ax[0].set_title('Baseline', color=dark_co[0], y=1.)\n",
    "ax[0].set_title('Early', color = dark_co[1], y=1.03)\n",
    "ax[1].set_title('Late', color = dark_co[2], y=1.03)\n",
    "ax[0].legend(bbox_to_anchor=(.97, 1), loc='upper left', borderaxespad=0.)\n",
    "pl.suptitle(\"Outcome decoding (dCA1)\", fontsize=9, y=1.1)\n",
    "\n",
    "fig.tight_layout(w_pad=7)\n",
    "\n",
    "\n",
    "fig.savefig('../img/%s_CSvsTr_outcome_decoding.pdf'%NOTEBOOK_NAME)"
   ]
  },
  {
   "cell_type": "markdown",
   "metadata": {
    "collapsed": true
   },
   "source": []
  },
  {
   "cell_type": "markdown",
   "metadata": {},
   "source": [
    "# And now for decoding across time bins! (using distinct trials for train/test)"
   ]
  },
  {
   "cell_type": "markdown",
   "metadata": {
    "collapsed": false
   },
   "source": [
    "def combine_train_test_patterns_across_tbs(patterns_train, patterns_test, labels, train_test_split=0.5, classes=None, n_cells=None,\n",
    "                                relabel=None, relabel_test=None):\n",
    "\n",
    "    if classes is None:\n",
    "        classes = [0, 1]\n",
    "\n",
    "    which_train = {}\n",
    "    which_test = {}\n",
    "    for ani in patterns_train.keys():\n",
    "        which_trains = []\n",
    "        which_tests = []\n",
    "        for l in classes:\n",
    "            if l>=0:\n",
    "                wt = np.random.permutation(np.where(labels[ani]==l)[0])\n",
    "                if train_test_split<1:\n",
    "                    wT = wt[:int(len(wt)*train_test_split)]\n",
    "                    which_trains.append(wt[int(len(wt)*train_test_split):])\n",
    "                    which_tests.append(wT)\n",
    "                else:\n",
    "                    which_trains.append(wt)\n",
    "        which_train[ani] = np.concatenate(which_trains)\n",
    "        if train_test_split<1:\n",
    "            which_test[ani] = np.concatenate(which_tests)\n",
    "    \n",
    "    patterns_t = patterns_train.copy()\n",
    "    labels_t = labels.copy()\n",
    "    for ani in patterns_train.keys():\n",
    "        patterns_t[ani] = patterns_train[ani][which_train[ani]]\n",
    "        labels_t[ani] = labels[ani][which_train[ani]]\n",
    "    patterns_comb_train, labels_comb_ = ut.combine_patterns(patterns_t, labels_t, classes=classes)\n",
    "        \n",
    "    if train_test_split<1:\n",
    "        patterns_T = patterns_test.copy()\n",
    "        labels_T = labels.copy()\n",
    "        for ani in patterns_test.keys():\n",
    "            patterns_T[ani] = patterns_test[ani][which_test[ani]]\n",
    "            labels_T[ani] = labels[ani][which_test[ani]]\n",
    "        patterns_comb_test, labels_comb_test_ = ut.combine_patterns(patterns_T, labels_T, classes=classes)\n",
    "    else:\n",
    "        patterns_comb_test = None\n",
    "    \n",
    "    if relabel is not None:\n",
    "        labels_comb = np.r_[[relabel[l] for l in labels_comb_]]\n",
    "    else:\n",
    "        labels_comb = labels_comb_\n",
    "    \n",
    "    if train_test_split<1:\n",
    "        if relabel_test is not None:\n",
    "            labels_comb_test = np.r_[[relabel_test[l] for l in labels_comb_test_]]\n",
    "        else:\n",
    "            if relabel is not None:\n",
    "                labels_comb_test = np.r_[[relabel[l] for l in labels_comb_test_]]\n",
    "            else:\n",
    "                labels_comb_test = labels_comb_test_\n",
    "    elif train_test_split == 1:\n",
    "        labels_comb_test = None\n",
    "    \n",
    "    \n",
    "    if n_cells is None:\n",
    "        which_cells = [True]*patterns_comb_train.shape[1]\n",
    "    else:\n",
    "        which_cells = np.random.permutation(range(patterns_comb_train.shape[1]))[:n_cells]\n",
    "     \n",
    "    patterns_comb_train = patterns_comb_train[:, which_cells]\n",
    "    patterns_comb_test = patterns_comb_test[:, which_cells] if train_test_split<1 else patterns_comb_test\n",
    "    \n",
    "    if train_test_split<1:\n",
    "        return (patterns_comb_train[labels_comb>=0], labels_comb[labels_comb>=0],\n",
    "                patterns_comb_test[labels_comb_test>=0], labels_comb_test[labels_comb_test>=0])\n",
    "    if train_test_split == 1:\n",
    "        return (patterns_comb_train[labels_comb>=0], labels_comb[labels_comb>=0],\n",
    "                None,None)\n",
    "\n",
    "def do_test_across_tbs(patterns_train, patterns_test, labels, **args):\n",
    "    x, y, xT, yT = combine_train_test_patterns_across_tbs(patterns_train, patterns_test, labels, train_test_split=0.5, **args)\n",
    "    decoder.fit(x, y)\n",
    "    return decoder.score(xT, yT)"
   ]
  },
  {
   "cell_type": "markdown",
   "metadata": {},
   "source": [
    "### running the cell below will take over an hour!"
   ]
  },
  {
   "cell_type": "markdown",
   "metadata": {
    "collapsed": false,
    "scrolled": true
   },
   "source": [
    "%%time\n",
    "n_loops=15\n",
    "for t in range (14):\n",
    "    for c in range (14):\n",
    "        for comp,relab in zip(comparisons,relabels):\n",
    "            exec('scores_tb_%s_VS_%s_%s = {}'%(t,c,comp))\n",
    "            for sess in sessions:\n",
    "                print sess,t,c,comp,\n",
    "                print \" \",\n",
    "                eval('scores_tb_%s_VS_%s_%s'%(t,c,comp))[sess] = np.r_[[do_test_across_tbs(eval('patterns_tb_%s_%s'%(t,sess)),\n",
    "                      eval('patterns_tb_%s_%s'%(c,sess)),eval('labels_%s'%sess),classes=range(1,5),\n",
    "                      n_cells=None, relabel=relab) for i in range(n_loops)]]"
   ]
  },
  {
   "cell_type": "markdown",
   "metadata": {
    "collapsed": false
   },
   "source": [
    "%%time\n",
    "tt_relabels = [{1:0,2:-1,3:1,4:-1}, {1:0,2:-1,3:-1,4:1}, {1:-1,2:0,3:1,4:-1}, {1:-1,2:0,3:-1,4:1}]\n",
    "tt_relabels_test = [{1:-1,2:0,3:-1,4:1}, {1:-1,2:0,3:1,4:-1}, {1:0,2:-1,3:-1,4:1}, {1:0,2:-1,3:1,4:-1}]\n",
    "tt_pairs = ['tr13_ts24','tr14_ts23','tr23_ts14','tr24_ts13']\n",
    "n_loops=15\n",
    "for t in range (14):\n",
    "    for c in range (14):\n",
    "        for re, rete, it in zip(tt_relabels,tt_relabels_test,tt_pairs):\n",
    "            exec('scores_tb_%s_VS_%s_outcome_%s = {}'%(t,c,it))\n",
    "            for sess in sessions:\n",
    "                print sess,t,c,it,\n",
    "                print \" \",\n",
    "                eval('scores_tb_%s_VS_%s_outcome_%s'%(t,c,it))[sess] = np.r_[[do_test_across_tbs(eval('patterns_tb_%s_%s'%(t,sess)),\n",
    "                      eval('patterns_tb_%s_%s'%(c,sess)),eval('labels_%s'%sess),classes=range(1,5),\n",
    "                      n_cells=None, relabel=re, relabel_test=rete) for i in range(n_loops)]]"
   ]
  },
  {
   "cell_type": "markdown",
   "metadata": {
    "collapsed": false
   },
   "source": [
    "#for outcome endoding, average each idividual comparison\n",
    "for t in range(14):\n",
    "    for c in range(14):\n",
    "        exec(\"scores_tb_%s_VS_%s_outcome_averaged = {}\"%(t,c))\n",
    "        for sess in sessions:\n",
    "            exec(\"scores_tb_%s_VS_%s_outcome_averaged[sess] = np.mean((scores_tb_%s_VS_%s_outcome_tr13_ts24[sess],\\\n",
    "                 scores_tb_%s_VS_%s_outcome_tr14_ts23[sess],scores_tb_%s_VS_%s_outcome_tr23_ts14[sess],\\\n",
    "                 scores_tb_%s_VS_%s_outcome_tr24_ts13[sess]),axis=0)\"%(t,c,t,c,t,c,t,c,t,c))"
   ]
  },
  {
   "cell_type": "markdown",
   "metadata": {
    "collapsed": true
   },
   "source": [
    "#for outcome endoding, average each idividual comparison\n",
    "for t in range(14):\n",
    "    for c in range(14):\n",
    "        exec(\"scores_tb_%s_VS_%s_CSPvsCSM_averaged = {}\"%(t,c))\n",
    "        for sess in sessions:\n",
    "            exec(\"scores_tb_%s_VS_%s_CSPvsCSM_averaged[sess] = np.mean((scores_tb_%s_VS_%s_CS1vsCS3[sess],\\\n",
    "                 scores_tb_%s_VS_%s_CS1vsCS4[sess],scores_tb_%s_VS_%s_CS2vsCS3[sess],\\\n",
    "                 scores_tb_%s_VS_%s_CS2vsCS4[sess]),axis=0)\"%(t,c,t,c,t,c,t,c,t,c))"
   ]
  },
  {
   "cell_type": "markdown",
   "metadata": {
    "collapsed": true
   },
   "source": [
    "comparisons_av = ['CSPvsCSM','CS1vsCS2','CS3vsCS4','CS1vsCS3','CS1vsCS4','CS2vsCS3','CS2vsCS4','CSPvsCSM_averaged']\n",
    "comp_labels_av = ['CS+ vs CS-','CS+ vs CS+','CS-  vs CS-','CS1+ vs CS3-','CS1+ vs CS4-','CS2+ vs CS3-','CS2+ vs CS4-','CS+ vs CS- avg']"
   ]
  },
  {
   "cell_type": "markdown",
   "metadata": {
    "collapsed": false
   },
   "source": [
    "for t in range (14):\n",
    "    for comp in comparisons_av:\n",
    "        exec('distinct%s_%s = {}'%(t,comp))\n",
    "for sess in sessions:\n",
    "    for t in range (14):\n",
    "        for comp in comparisons_av:\n",
    "            exec(\"distinct%s_%s['%s'] = []\"%(t,comp,sess))\n",
    "            for c in range (14):\n",
    "                eval('distinct%s_%s'%(t,comp))[sess].insert(c,(eval('scores_tb_%s_VS_%s_%s'%(t,c,comp))[sess].mean()))"
   ]
  },
  {
   "cell_type": "markdown",
   "metadata": {
    "collapsed": false
   },
   "source": [
    "for t in range (14):\n",
    "    for comp in comparisons_av:\n",
    "        exec('distinct%s_%s_wilcox = {}'%(t,comp))\n",
    "for sess in sessions:\n",
    "    for t in range (14):\n",
    "        for comp in comparisons_av:\n",
    "            exec(\"distinct%s_%s_wilcox[sess] = []\"%(t,comp))\n",
    "            for c in range (14):\n",
    "                exec(\"subtracted = [x-0.5 for x in scores_tb_%s_VS_%s_%s[sess]]\"%(t,c,comp))\n",
    "                eval('distinct%s_%s_wilcox'%(t,comp))[sess].insert(c, sstats.wilcoxon(subtracted[:15]))\n",
    "            for x,i in zip(eval('distinct%s_%s_wilcox'%(t,comp))[sess],range(len(eval('distinct%s_%s_wilcox'%(t,comp))[sess]))):\n",
    "                exec(\"distinct%s_%s_wilcox[sess][i] = x[-1]\"%(t,comp)) #only take p-values"
   ]
  },
  {
   "cell_type": "markdown",
   "metadata": {
    "collapsed": false
   },
   "source": [
    "for comp in comparisons_av:\n",
    "    exec(\"distinct_%s={}\"%comp)\n",
    "    for sess in sessions:\n",
    "        exec(\"distinct_%s[sess]=(distinct0_%s[sess], distinct1_%s[sess], distinct2_%s[sess], distinct3_%s[sess], distinct4_%s[sess], distinct5_%s[sess], distinct6_%s[sess], distinct7_%s[sess],\\\n",
    "              distinct8_%s[sess], distinct9_%s[sess], distinct10_%s[sess], distinct11_%s[sess], distinct12_%s[sess],\\\n",
    "              distinct13_%s[sess])\"%(comp,comp,comp,comp,comp,comp,comp,comp,comp,comp,comp,comp,comp,comp,comp))\n",
    "        np.array([eval(\"distinct_%s[sess]\"%comp)])"
   ]
  },
  {
   "cell_type": "markdown",
   "metadata": {
    "collapsed": false
   },
   "source": [
    "for comp in comparisons_av:\n",
    "    exec(\"distinct_%s_wilcox={}\"%comp)\n",
    "    for sess in sessions:\n",
    "        exec(\"distinct_%s_wilcox[sess]=(distinct0_%s_wilcox[sess], distinct1_%s_wilcox[sess], distinct2_%s_wilcox[sess], distinct3_%s_wilcox[sess], distinct4_%s_wilcox[sess], distinct5_%s_wilcox[sess], distinct6_%s_wilcox[sess], distinct7_%s_wilcox[sess],\\\n",
    "              distinct8_%s_wilcox[sess], distinct9_%s_wilcox[sess], distinct10_%s_wilcox[sess], distinct11_%s_wilcox[sess], distinct12_%s_wilcox[sess],\\\n",
    "              distinct13_%s_wilcox[sess])\"%(comp,comp,comp,comp,comp,comp,comp,comp,comp,comp,comp,comp,comp,comp,comp))\n",
    "        np.array([eval(\"distinct_%s_wilcox[sess]\"%comp)])"
   ]
  },
  {
   "cell_type": "markdown",
   "metadata": {
    "collapsed": true
   },
   "source": [
    "session_labels = ('Baseline','Early','Late')"
   ]
  },
  {
   "cell_type": "markdown",
   "metadata": {
    "collapsed": false
   },
   "source": [
    "fig, ax = pl.subplots(1, 3, figsize=(6, 3))#, sharex=True, sharey=True)\n",
    "vmin=0.5\n",
    "vmax=1\n",
    "for sess,x in zip(sessions,range(len(sessions))):\n",
    "    im = ax[x].imshow(distinct_CSPvsCSM[sess],origin='lower', interpolation='nearest', vmin=vmin, vmax=vmax,cmap='afmhot')\n",
    "for x in range (3):\n",
    "    ax[x].set_xticks(range(14))\n",
    "    ax[x].set_yticks(range(14))\n",
    "    ax[x].set_ylim(2.5, 13.5)\n",
    "    ax[x].set_xlim(2.5,13.5)\n",
    "    ax[x].set_xticklabels(['-5\\nto\\n-4','-4\\nto\\n-3','-3','-2','-1','0','1','2','3','4','5', '6','7','8','9','10'],fontsize=6)\n",
    "    ax[x].set_yticklabels(['-5\\nto\\n-4','-4\\nto\\n-3','-3','-2','-1','0','1','2','3','4','5', '6','7','8','9','10'],fontsize=6)\n",
    "    ax[x].set_ylabel('Time from CS onset (s)', fontsize=7)\n",
    "    ax[x].set_xlabel('Time from CS onset (s)', fontsize=7)\n",
    "    ax[x].set_title(session_labels[x],fontsize=10,color=dark_co[x])\n",
    "    ax[x].tick_params(length=3)\n",
    "\n",
    "import matplotlib.patches as patches\n",
    "for x in range(3):\n",
    "# Create a Rectangle patch\n",
    "    CS = patches.Rectangle((4.5,4.5),2,2,linewidth=1,edgecolor='w',facecolor='none')\n",
    "    Tr = patches.Rectangle((6.5,6.5),2,2,linewidth=1,edgecolor='w',facecolor='none',linestyle=':')\n",
    "# Add the patch to the Axes\n",
    "    ax[x].add_patch(CS)\n",
    "    ax[x].add_patch(Tr)\n",
    "\n",
    "ax[0].text(5,5.3,\"CS\",fontsize=8, weight='bold', color='lightgray')\n",
    "ax[0].text(7,7.4,\"Tr\",fontsize=8, weight='bold', color='lightgray')\n",
    "ax[0].text(8.6,8.8,\"US\",fontsize=8, weight='bold', color='lightgray')\n",
    "\n",
    "pl.suptitle('dCA1 Decoding Performance: CS+ vs CS-',y=.93,fontsize=13)\n",
    "\n",
    "cax = fig.add_axes([1,0.3, 0.01, 0.4])\n",
    "fig.colorbar(im, cax=cax, label='Decoding perf. (%)')\n",
    "fig.tight_layout(pad=1.5)\n",
    "#fig.savefig('../img/%s_gmin_across_bins_distinct_horizontal.pdf'%NOTEBOOK_NAME)"
   ]
  },
  {
   "cell_type": "markdown",
   "metadata": {
    "collapsed": false
   },
   "source": [
    "fig, ax = pl.subplots(8, 3, figsize=(6, 21))#, sharex=True, sharey=True)\n",
    "vmin=0.5\n",
    "vmax=1\n",
    "for sess,x in zip(sessions,range(len(sessions))):\n",
    "    for comp,i in zip(comparisons_av,range(len(comparisons_av))):\n",
    "        im = ax[i][x].imshow(eval(\"distinct_%s[sess]\"%comp),origin='lower', interpolation='nearest', vmin=vmin, vmax=vmax,cmap='afmhot')\n",
    "        ax[i][x].set_xticks(range(14))\n",
    "        ax[i][x].set_yticks(range(14))\n",
    "        ax[i][x].set_ylim(2.5,13.5)\n",
    "        ax[i][x].set_xlim(2.5,13.5)\n",
    "        ax[i][x].set_xticklabels(['-5\\nto\\n-4','-4\\nto\\n-3','-3','-2','-1','0','1','2','3','4','5', '6','7','8','9','10'],fontsize=6)\n",
    "        ax[i][x].set_yticklabels(['-5\\nto\\n-4','-4\\nto\\n-3','-3','-2','-1','0','1','2','3','4','5', '6','7','8','9','10'],fontsize=6)\n",
    "        ax[i][x].set_ylabel('Time from CS onset (s)', fontsize=7)\n",
    "        ax[i][x].set_xlabel('Time from CS onset (s)', fontsize=7)\n",
    "        ax[i][x].set_title(session_labels[x],fontsize=10,color=dark_co[x])\n",
    "        ax[i][x].tick_params(length=3)\n",
    "        ax[i][1].text(5,16,comp_labels_av[i],fontsize=11)\n",
    "\n",
    "import matplotlib.patches as patches\n",
    "for i in range(8):\n",
    "# Create a Rectangle patch\n",
    "    CS = patches.Rectangle((4.5,4.5),2,2,linewidth=1,edgecolor='w',facecolor='none')\n",
    "    Tr = patches.Rectangle((6.5,6.5),2,2,linewidth=1,edgecolor='w',facecolor='none',linestyle=':')\n",
    "# Add the patch to the Axes\n",
    "    ax[i][0].add_patch(CS)\n",
    "    ax[i][0].add_patch(Tr)\n",
    "    ax[i][0].text(4.85,5.2,\"CS\",fontsize=8, weight='bold', color='lightgray')\n",
    "    ax[i][0].text(6.85,7.15,\"Tr\",fontsize=8, weight='bold', color='lightgray')\n",
    "    ax[i][0].text(8.6,8.8,\"US\",fontsize=8, weight='bold', color='lightgray')\n",
    "\n",
    "pl.suptitle('dCA1 Decoding Performance',y=1.02,fontsize=15)\n",
    "\n",
    "cax = fig.add_axes([1,0.3, 0.01, 0.4])\n",
    "fig.colorbar(im, cax=cax, label='Decoding perf. (%)')\n",
    "fig.tight_layout(pad=1)\n",
    "#fig.savefig('../img/%s_gmin_across_bins_distinct_horizontal.pdf'%NOTEBOOK_NAME)"
   ]
  },
  {
   "cell_type": "markdown",
   "metadata": {
    "collapsed": false
   },
   "source": [
    "fig, ax = pl.subplots(1, 8, figsize=(13, 3))#, sharex=True, sharey=True)\n",
    "vmin=0.5\n",
    "vmax=1\n",
    "for comp,x in zip(comparisons_av,range(len(comparisons_av))):\n",
    "    im = ax[x].imshow(eval(\"distinct_%s['post']\"%comp),origin='lower', interpolation='nearest', vmin=vmin, vmax=vmax,cmap='afmhot')\n",
    "for x in range (8):\n",
    "    ax[x].set_xticks(range(14))\n",
    "    ax[x].set_yticks(range(14))\n",
    "    ax[x].set_ylim(2.5, 13.5)\n",
    "    ax[x].set_xlim(2.5,13.5)\n",
    "    ax[x].set_xticklabels(['-5\\nto\\n-4','-4\\nto\\n-3','-3','-2','-1','0','1','2','3','4','5', '6','7','8','9','10'],fontsize=6)\n",
    "    ax[x].set_yticklabels(['-5\\nto\\n-4','-4\\nto\\n-3','-3','-2','-1','0','1','2','3','4','5', '6','7','8','9','10'],fontsize=6)\n",
    "    ax[x].set_ylabel('Time from CS onset (s)', fontsize=7)\n",
    "    ax[x].set_xlabel('Time from CS onset (s)', fontsize=7)\n",
    "    ax[x].set_title(comp_labels_av[x],fontsize=10,color='k')\n",
    "    ax[x].tick_params(length=3)\n",
    "\n",
    "import matplotlib.patches as patches\n",
    "for x in range(8):\n",
    "# Create a Rectangle patch\n",
    "    CS = patches.Rectangle((4.5,4.5),2,2,linewidth=1,edgecolor='k',facecolor='none')\n",
    "    Tr = patches.Rectangle((6.5,6.5),2,2,linewidth=1,edgecolor='k',facecolor='none',linestyle=':')\n",
    "# Add the patch to the Axes\n",
    "    ax[x].add_patch(CS)\n",
    "    ax[x].add_patch(Tr)\n",
    "    ax[x].text(4.2,-2.5,'Tested on',fontsize=12,color='darkslateblue')\n",
    "\n",
    "ax[0].text(-2.9,11,'Trained on',rotation=90,fontsize=12,color='darkslateblue')\n",
    "ax[0].text(4.75,5.1,\"CS\",fontsize=8, weight='bold', color='k')\n",
    "ax[0].text(6.85,7.1,\"Tr\",fontsize=8, weight='bold', color='k')\n",
    "ax[0].text(8.6,8.8,\"US\",fontsize=8, weight='bold', color='k')\n",
    "\n",
    "pl.suptitle('dCA1 Decoding Performance: Late Session',y=.93,fontsize=13)\n",
    "\n",
    "cax = fig.add_axes([1,0.3, 0.01, 0.4])\n",
    "fig.colorbar(im, cax=cax, label='Decoding perf. (%)')\n",
    "fig.tight_layout(pad=1.5)\n",
    "fig.savefig('../img/%s_across_bins_LATE.jpg'%NOTEBOOK_NAME)"
   ]
  },
  {
   "cell_type": "markdown",
   "metadata": {
    "collapsed": false
   },
   "source": [
    "from matplotlib import cm\n",
    "from matplotlib.colors import ListedColormap, LinearSegmentedColormap\n",
    "#make unique colormap for emphasizing significant p-values\n",
    "sigs = cm.get_cmap('BuPu', 15)\n",
    "white = np.array([1, 1, 1, 1])\n",
    "newcolors = np.vstack((sigs(np.linspace(1, 0, 15)),\n",
    "                       sigs(np.linspace(0, 1, 241))))\n",
    "#pink = np.array([.96, .09, .6, 1])\n",
    "newcolors[15:, :] = white\n",
    "newcmap = ListedColormap(newcolors)\n",
    "\n",
    "fig, ax = pl.subplots(1, 3, figsize=(6, 3))#, sharex=True, sharey=True)\n",
    "vmin=0\n",
    "vmax=1\n",
    "for sess,x in zip(sessions,range(len(sessions))):\n",
    "    im = ax[x].imshow(distinct_CSPvsCSM_wilcox[sess],origin='lower', interpolation='nearest', vmin=vmin, vmax=vmax,cmap=newcmap)\n",
    "for x in range (3):\n",
    "    ax[x].set_xticks(range(14))\n",
    "    ax[x].set_yticks(range(14))\n",
    "    ax[x].set_ylim(2.5, 13.5)\n",
    "    ax[x].set_xlim(2.5,13.5)\n",
    "    ax[x].set_xticklabels(['-5\\nto\\n-4','-4\\nto\\n-3','-3','-2','-1','0','1','2','3','4','5', '6','7','8','9','10'],fontsize=6)\n",
    "    ax[x].set_yticklabels(['-5\\nto\\n-4','-4\\nto\\n-3','-3','-2','-1','0','1','2','3','4','5', '6','7','8','9','10'],fontsize=6)\n",
    "    ax[x].set_ylabel('Time from CS onset (s)', fontsize=7)\n",
    "    ax[x].set_xlabel('Time from CS onset (s)', fontsize=7)\n",
    "    ax[x].set_title(session_labels[x],fontsize=10,color=dark_co[x])\n",
    "    ax[x].tick_params(length=3)\n",
    "\n",
    "import matplotlib.patches as patches\n",
    "for x in range(3):\n",
    "# Create a Rectangle patch\n",
    "    CS = patches.Rectangle((4.5,4.5),2,2,linewidth=1,edgecolor='w',facecolor='none')\n",
    "    Tr = patches.Rectangle((6.5,6.5),2,2,linewidth=1,edgecolor='w',facecolor='none',linestyle=':')\n",
    "# Add the patch to the Axes\n",
    "    ax[x].add_patch(CS)\n",
    "    ax[x].add_patch(Tr)\n",
    "\n",
    "ax[0].text(4.75,5.1,\"CS\",fontsize=8, weight='bold', color='dimgrey')\n",
    "ax[0].text(6.85,7.1,\"Tr\",fontsize=8, weight='bold', color='w')\n",
    "ax[0].text(8.6,8.8,\"US\",fontsize=8, weight='bold', color='dimgrey')\n",
    "\n",
    "pl.suptitle('dCA1 Decoding p-values CS+ vs CS- (Wilcoxon vs chance)',y=.93,fontsize=13)\n",
    "\n",
    "cax = fig.add_axes([1,0.3, 0.01, 0.4])\n",
    "fig.colorbar(im, cax=cax, label='p-value')#,ticks=[0,.05,.1])\n",
    "#cax.axes.set_ylim(0,.1)\n",
    "fig.tight_layout(pad=1.5)\n",
    "#fig.savefig('../img/%s_gmin_across_bins_distinct_horizontal_wilcoxon.pdf'%NOTEBOOK_NAME)"
   ]
  },
  {
   "cell_type": "markdown",
   "metadata": {
    "collapsed": false
   },
   "source": [
    "from matplotlib import cm\n",
    "from matplotlib.colors import ListedColormap, LinearSegmentedColormap\n",
    "#make unique colormap for emphasizing significant p-values\n",
    "sigs = cm.get_cmap('BuPu', 15)\n",
    "white = np.array([1, 1, 1, 1])\n",
    "newcolors = np.vstack((sigs(np.linspace(1, 0, 15)),\n",
    "                       sigs(np.linspace(0, 1, 241))))\n",
    "#pink = np.array([.96, .09, .6, 1])\n",
    "newcolors[15:, :] = white\n",
    "newcmap = ListedColormap(newcolors)\n",
    "\n",
    "fig, ax = pl.subplots(1, 8, figsize=(13, 3))#, sharex=True, sharey=True)\n",
    "vmin=0\n",
    "vmax=1\n",
    "for comp,x in zip(comparisons_av,range(len(comparisons_av))):\n",
    "    im = ax[x].imshow(eval(\"distinct_%s_wilcox['post']\"%comp),origin='lower', interpolation='nearest', vmin=vmin, vmax=vmax,cmap=newcmap)\n",
    "for x in range (8):\n",
    "    ax[x].set_xticks(range(14))\n",
    "    ax[x].set_yticks(range(14))\n",
    "    ax[x].set_ylim(2.5, 13.5)\n",
    "    ax[x].set_xlim(2.5,13.5)\n",
    "    ax[x].set_xticklabels(['-5\\nto\\n-4','-4\\nto\\n-3','-3','-2','-1','0','1','2','3','4','5', '6','7','8','9','10'],fontsize=6)\n",
    "    ax[x].set_yticklabels(['-5\\nto\\n-4','-4\\nto\\n-3','-3','-2','-1','0','1','2','3','4','5', '6','7','8','9','10'],fontsize=6)\n",
    "    ax[x].set_ylabel('Time from CS onset (s)', fontsize=7)\n",
    "    ax[x].set_xlabel('Time from CS onset (s)', fontsize=7)\n",
    "    ax[x].set_title(comp_labels_av[x],fontsize=10,color='k')\n",
    "    ax[x].tick_params(length=3)\n",
    "\n",
    "import matplotlib.patches as patches\n",
    "for x in range(8):\n",
    "# Create a Rectangle patch\n",
    "    CS = patches.Rectangle((4.5,4.5),2,2,linewidth=1,edgecolor='w',facecolor='none')\n",
    "    Tr = patches.Rectangle((6.5,6.5),2,2,linewidth=1,edgecolor='w',facecolor='none',linestyle=':')\n",
    "# Add the patch to the Axes\n",
    "    ax[x].add_patch(CS)\n",
    "    ax[x].add_patch(Tr)\n",
    "\n",
    "ax[0].text(4.75,5.1,\"CS\",fontsize=8, weight='bold', color='lightgrey')\n",
    "ax[0].text(6.85,7.1,\"Tr\",fontsize=8, weight='bold', color='lightgrey')\n",
    "ax[0].text(8.6,8.8,\"US\",fontsize=8, weight='bold', color='lightgrey')\n",
    "\n",
    "pl.suptitle('dCA1 Decoding p-values: Late session (Wilcoxon vs chance)',y=.93,fontsize=13)\n",
    "\n",
    "cax = fig.add_axes([1,0.3, 0.01, 0.4])\n",
    "fig.colorbar(im, cax=cax, label='Decoding perf. (%)')\n",
    "fig.tight_layout(pad=1.5)\n",
    "#fig.savefig('../img/%s_gmin_across_bins_distinct_horizontal.pdf'%NOTEBOOK_NAME)"
   ]
  },
  {
   "cell_type": "markdown",
   "metadata": {
    "collapsed": true
   },
   "source": []
  },
  {
   "cell_type": "markdown",
   "metadata": {
    "collapsed": true
   },
   "source": [
    "tt_pairs_avg = ['tr13_ts24','tr14_ts23','tr23_ts14','tr24_ts13','averaged']\n",
    "tt_labels = ['1v3 & 2v4','1v4 & 2v3','2v3 & 1v4','2v4 & 1v3','Average']"
   ]
  },
  {
   "cell_type": "markdown",
   "metadata": {
    "collapsed": false
   },
   "source": [
    "for t in range (14):\n",
    "    for comp in tt_pairs_avg:\n",
    "        exec('distinct%s_%s = {}'%(t,comp))\n",
    "for sess in sessions:\n",
    "    for t in range (14):\n",
    "        for comp in tt_pairs_avg:\n",
    "            exec(\"distinct%s_%s['%s'] = []\"%(t,comp,sess))\n",
    "            for c in range (14):\n",
    "                eval('distinct%s_%s'%(t,comp))[sess].insert(c,(eval('scores_tb_%s_VS_%s_outcome_%s'%(t,c,comp))[sess].mean()))"
   ]
  },
  {
   "cell_type": "markdown",
   "metadata": {
    "collapsed": false
   },
   "source": [
    "for t in range (14):\n",
    "    for comp in tt_pairs_avg:\n",
    "        exec('distinct%s_%s_wilcox = {}'%(t,comp))\n",
    "for sess in sessions:\n",
    "    for t in range (14):\n",
    "        for comp in tt_pairs_avg:\n",
    "            exec(\"distinct%s_%s_wilcox[sess] = []\"%(t,comp))\n",
    "            for c in range (14):\n",
    "                exec(\"subtracted = [x-0.5 for x in scores_tb_%s_VS_%s_outcome_%s[sess]]\"%(t,c,comp))\n",
    "                eval('distinct%s_%s_wilcox'%(t,comp))[sess].insert(c, sstats.wilcoxon(subtracted[:15]))\n",
    "            for x,i in zip(eval('distinct%s_%s_wilcox'%(t,comp))[sess],range(len(eval('distinct%s_%s_wilcox'%(t,comp))[sess]))):\n",
    "                exec(\"distinct%s_%s_wilcox[sess][i] = x[-1]\"%(t,comp)) #only take p-values"
   ]
  },
  {
   "cell_type": "markdown",
   "metadata": {
    "collapsed": false
   },
   "source": [
    "for comp in tt_pairs_avg:\n",
    "    exec(\"distinct_%s={}\"%comp)\n",
    "    for sess in sessions:\n",
    "        exec(\"distinct_%s[sess]=(distinct0_%s[sess], distinct1_%s[sess], distinct2_%s[sess], distinct3_%s[sess], distinct4_%s[sess], distinct5_%s[sess], distinct6_%s[sess], distinct7_%s[sess],\\\n",
    "              distinct8_%s[sess], distinct9_%s[sess], distinct10_%s[sess], distinct11_%s[sess], distinct12_%s[sess],\\\n",
    "              distinct13_%s[sess])\"%(comp,comp,comp,comp,comp,comp,comp,comp,comp,comp,comp,comp,comp,comp,comp))\n",
    "        np.array([eval(\"distinct_%s[sess]\"%comp)])"
   ]
  },
  {
   "cell_type": "markdown",
   "metadata": {
    "collapsed": false
   },
   "source": [
    "for comp in tt_pairs_avg:\n",
    "    exec(\"distinct_%s_wilcox={}\"%comp)\n",
    "    for sess in sessions:\n",
    "        exec(\"distinct_%s_wilcox[sess]=(distinct0_%s_wilcox[sess], distinct1_%s_wilcox[sess], distinct2_%s_wilcox[sess], distinct3_%s_wilcox[sess], distinct4_%s_wilcox[sess], distinct5_%s_wilcox[sess], distinct6_%s_wilcox[sess], distinct7_%s_wilcox[sess],\\\n",
    "              distinct8_%s_wilcox[sess], distinct9_%s_wilcox[sess], distinct10_%s_wilcox[sess], distinct11_%s_wilcox[sess], distinct12_%s_wilcox[sess],\\\n",
    "              distinct13_%s_wilcox[sess])\"%(comp,comp,comp,comp,comp,comp,comp,comp,comp,comp,comp,comp,comp,comp,comp))\n",
    "        np.array([eval(\"distinct_%s_wilcox[sess]\"%comp)])"
   ]
  },
  {
   "cell_type": "markdown",
   "metadata": {
    "collapsed": false
   },
   "source": [
    "fig, ax = pl.subplots(1, 3, figsize=(6, 3))#, sharex=True, sharey=True)\n",
    "vmin=0.5\n",
    "vmax=1\n",
    "for sess,x in zip(sessions,range(len(sessions))):\n",
    "    im = ax[x].imshow(distinct_averaged[sess],origin='lower', interpolation='nearest', vmin=vmin, vmax=vmax,cmap='afmhot')\n",
    "for x in range (3):\n",
    "    ax[x].set_xticks(range(14))\n",
    "    ax[x].set_yticks(range(14))\n",
    "    ax[x].set_ylim(2.5, 13.5)\n",
    "    ax[x].set_xlim(2.5,13.5)\n",
    "    ax[x].set_xticklabels(['-5\\nto\\n-4','-4\\nto\\n-3','-3','-2','-1','0','1','2','3','4','5', '6','7','8','9','10'],fontsize=6)\n",
    "    ax[x].set_yticklabels(['-5\\nto\\n-4','-4\\nto\\n-3','-3','-2','-1','0','1','2','3','4','5', '6','7','8','9','10'],fontsize=6)\n",
    "    ax[x].set_ylabel('Time from CS onset (s)', fontsize=7)\n",
    "    ax[x].set_xlabel('Time from CS onset (s)', fontsize=7)\n",
    "    ax[x].set_title(session_labels[x],fontsize=10,color=dark_co[x])\n",
    "    ax[x].tick_params(length=3)\n",
    "\n",
    "import matplotlib.patches as patches\n",
    "for x in range(3):\n",
    "# Create a Rectangle patch\n",
    "    CS = patches.Rectangle((4.5,4.5),2,2,linewidth=1,edgecolor='w',facecolor='none')\n",
    "    Tr = patches.Rectangle((6.5,6.5),2,2,linewidth=1,edgecolor='w',facecolor='none',linestyle=':')\n",
    "# Add the patch to the Axes\n",
    "    ax[x].add_patch(CS)\n",
    "    ax[x].add_patch(Tr)\n",
    "\n",
    "ax[0].text(4.75,5.1,\"CS\",fontsize=8, weight='bold', color='lightgray')\n",
    "ax[0].text(6.85,7.1,\"Tr\",fontsize=8, weight='bold', color='lightgray')\n",
    "ax[0].text(8.6,8.8,\"US\",fontsize=8, weight='bold', color='lightgray')\n",
    "\n",
    "pl.suptitle('dCA1 Decoding Performance: Outcome',y=.93,fontsize=13)\n",
    "\n",
    "cax = fig.add_axes([1,0.3, 0.01, 0.4])\n",
    "fig.colorbar(im, cax=cax, label='Decoding perf. (%)')\n",
    "fig.tight_layout(pad=1.5)\n",
    "#fig.savefig('../img/%s_gmin_across_bins_distinct_horizontal.pdf'%NOTEBOOK_NAME)"
   ]
  },
  {
   "cell_type": "markdown",
   "metadata": {
    "collapsed": false
   },
   "source": [
    "fig, ax = pl.subplots(5, 3, figsize=(6, 15))#, sharex=True, sharey=True)\n",
    "vmin=0.5\n",
    "vmax=1\n",
    "for sess,x in zip(sessions,range(len(sessions))):\n",
    "    for comp,i in zip(tt_pairs_avg,range(len(tt_pairs_avg))):\n",
    "        im = ax[i][x].imshow(eval(\"distinct_%s[sess]\"%comp),origin='lower', interpolation='nearest', vmin=vmin, vmax=vmax,cmap='afmhot')\n",
    "        ax[i][x].set_xticks(range(14))\n",
    "        ax[i][x].set_yticks(range(14))\n",
    "        ax[i][x].set_ylim(2.5,13.5)\n",
    "        ax[i][x].set_xlim(2.5,13.5)\n",
    "        ax[i][x].set_xticklabels(['-5\\nto\\n-4','-4\\nto\\n-3','-3','-2','-1','0','1','2','3','4','5', '6','7','8','9','10'],fontsize=6)\n",
    "        ax[i][x].set_yticklabels(['-5\\nto\\n-4','-4\\nto\\n-3','-3','-2','-1','0','1','2','3','4','5', '6','7','8','9','10'],fontsize=6)\n",
    "        ax[i][x].set_ylabel('Time from CS onset (s)', fontsize=7)\n",
    "        ax[i][x].set_xlabel('Time from CS onset (s)', fontsize=7)\n",
    "        ax[i][x].set_title(session_labels[x],fontsize=10,color=dark_co[x])\n",
    "        ax[i][x].tick_params(length=3)\n",
    "        ax[i][1].text(5,16,tt_labels[i],fontsize=11)\n",
    "\n",
    "import matplotlib.patches as patches\n",
    "for i in range(5):\n",
    "# Create a Rectangle patch\n",
    "    CS = patches.Rectangle((4.5,4.5),2,2,linewidth=1,edgecolor='w',facecolor='none')\n",
    "    Tr = patches.Rectangle((6.5,6.5),2,2,linewidth=1,edgecolor='w',facecolor='none',linestyle=':')\n",
    "# Add the patch to the Axes\n",
    "    ax[i][0].add_patch(CS)\n",
    "    ax[i][0].add_patch(Tr)\n",
    "    ax[i][0].text(4.85,5.2,\"CS\",fontsize=8, weight='bold', color='lightgray')\n",
    "    ax[i][0].text(6.85,7.15,\"Tr\",fontsize=8, weight='bold', color='lightgray')\n",
    "    ax[i][0].text(8.6,8.8,\"US\",fontsize=8, weight='bold', color='lightgray')\n",
    "\n",
    "pl.suptitle('dCA1 Outcome Decoding Performance',y=1.,fontsize=15)\n",
    "\n",
    "cax = fig.add_axes([1,0.3, 0.01, 0.4])\n",
    "fig.colorbar(im, cax=cax, label='Decoding perf. (%)')\n",
    "fig.tight_layout(pad=1)\n",
    "#fig.savefig('../img/%s_gmin_across_bins_distinct_horizontal.pdf'%NOTEBOOK_NAME)"
   ]
  },
  {
   "cell_type": "markdown",
   "metadata": {
    "collapsed": false
   },
   "source": [
    "fig, ax = pl.subplots(1, 5, figsize=(11, 3))#, sharex=True, sharey=True)\n",
    "vmin=0.5\n",
    "vmax=1\n",
    "for comp,x in zip(tt_pairs_avg,range(len(tt_pairs_avg))):\n",
    "    im = ax[x].imshow(eval(\"distinct_%s['post']\"%comp),origin='lower', interpolation='nearest', vmin=vmin, vmax=vmax,cmap='afmhot')\n",
    "for x in range (5):\n",
    "    ax[x].set_xticks(range(14))\n",
    "    ax[x].set_yticks(range(14))\n",
    "    ax[x].set_ylim(2.5, 13.5)\n",
    "    ax[x].set_xlim(2.5,13.5)\n",
    "    ax[x].set_xticklabels(['-5\\nto\\n-4','-4\\nto\\n-3','-3','-2','-1','0','1','2','3','4','5', '6','7','8','9','10'],fontsize=6)\n",
    "    ax[x].set_yticklabels(['-5\\nto\\n-4','-4\\nto\\n-3','-3','-2','-1','0','1','2','3','4','5', '6','7','8','9','10'],fontsize=6)\n",
    "    ax[x].set_ylabel('Time from CS onset (s)', fontsize=7)\n",
    "    ax[x].set_xlabel('Time from CS onset (s)', fontsize=7)\n",
    "    ax[x].set_title(tt_labels[x],fontsize=10,color='k')\n",
    "    ax[x].tick_params(length=3)\n",
    "\n",
    "import matplotlib.patches as patches\n",
    "for x in range(5):\n",
    "# Create a Rectangle patch\n",
    "    CS = patches.Rectangle((4.5,4.5),2,2,linewidth=1,edgecolor='w',facecolor='none')\n",
    "    Tr = patches.Rectangle((6.5,6.5),2,2,linewidth=1.5,edgecolor='w',facecolor='none',linestyle=':')\n",
    "# Add the patch to the Axes\n",
    "    ax[x].add_patch(CS)\n",
    "    ax[x].add_patch(Tr)\n",
    "\n",
    "ax[0].text(5,5.3,\"CS\",fontsize=8, weight='bold', color='w')\n",
    "ax[0].text(7.1,7.4,\"Tr\",fontsize=8, weight='bold', color='w')\n",
    "ax[0].text(8.6,8.8,\"US\",fontsize=8, weight='bold', color='k')\n",
    "\n",
    "pl.suptitle('dCA1 Outcome Decoding Performance: Late Session',y=.93,fontsize=13)\n",
    "\n",
    "cax = fig.add_axes([1,0.3, 0.01, 0.4])\n",
    "fig.colorbar(im, cax=cax, label='Decoding perf. (%)')\n",
    "fig.tight_layout(pad=1.5)\n",
    "#fig.savefig('../img/%s_gmin_across_bins_distinct_horizontal.pdf'%NOTEBOOK_NAME)"
   ]
  },
  {
   "cell_type": "markdown",
   "metadata": {
    "collapsed": false
   },
   "source": [
    "from matplotlib import cm\n",
    "from matplotlib.colors import ListedColormap, LinearSegmentedColormap\n",
    "#make unique colormap for emphasizing significant p-values\n",
    "sigs = cm.get_cmap('BuPu', 15)\n",
    "white = np.array([1, 1, 1, 1])\n",
    "newcolors = np.vstack((sigs(np.linspace(1, 0, 15)),\n",
    "                       sigs(np.linspace(0, 1, 241))))\n",
    "#pink = np.array([.96, .09, .6, 1])\n",
    "newcolors[15:, :] = white\n",
    "newcmap = ListedColormap(newcolors)\n",
    "\n",
    "fig, ax = pl.subplots(1, 3, figsize=(6, 3))#, sharex=True, sharey=True)\n",
    "vmin=0\n",
    "vmax=1\n",
    "for sess,x in zip(sessions,range(len(sessions))):\n",
    "    im = ax[x].imshow(distinct_averaged_wilcox[sess],origin='lower', interpolation='nearest', vmin=vmin, vmax=vmax,cmap=newcmap)\n",
    "for x in range (3):\n",
    "    ax[x].set_xticks(range(14))\n",
    "    ax[x].set_yticks(range(14))\n",
    "    ax[x].set_ylim(2.5, 13.5)\n",
    "    ax[x].set_xlim(2.5,13.5)\n",
    "    ax[x].set_xticklabels(['-5\\nto\\n-4','-4\\nto\\n-3','-3','-2','-1','0','1','2','3','4','5', '6','7','8','9','10'],fontsize=6)\n",
    "    ax[x].set_yticklabels(['-5\\nto\\n-4','-4\\nto\\n-3','-3','-2','-1','0','1','2','3','4','5', '6','7','8','9','10'],fontsize=6)\n",
    "    ax[x].set_ylabel('Time from CS onset (s)', fontsize=7)\n",
    "    ax[x].set_xlabel('Time from CS onset (s)', fontsize=7)\n",
    "    ax[x].set_title(session_labels[x],fontsize=10,color=dark_co[x])\n",
    "    ax[x].tick_params(length=3)\n",
    "\n",
    "import matplotlib.patches as patches\n",
    "for x in range(3):\n",
    "# Create a Rectangle patch\n",
    "    CS = patches.Rectangle((4.5,4.5),2,2,linewidth=1,edgecolor='w',facecolor='none')\n",
    "    Tr = patches.Rectangle((6.5,6.5),2,2,linewidth=1,edgecolor='w',facecolor='none',linestyle=':')\n",
    "# Add the patch to the Axes\n",
    "    ax[x].add_patch(CS)\n",
    "    ax[x].add_patch(Tr)\n",
    "\n",
    "ax[0].text(4.75,5.1,\"CS\",fontsize=8, weight='bold', color='dimgrey')\n",
    "ax[0].text(6.85,7.1,\"Tr\",fontsize=8, weight='bold', color='w')\n",
    "ax[0].text(8.6,8.8,\"US\",fontsize=8, weight='bold', color='dimgrey')\n",
    "\n",
    "pl.suptitle('dCA1 Outcome Decoding p-values (Wilcoxon vs chance)',y=.93,fontsize=13)\n",
    "\n",
    "cax = fig.add_axes([1,0.3, 0.01, 0.4])\n",
    "fig.colorbar(im, cax=cax, label='p-value')#,ticks=[0,.05,.1])\n",
    "#cax.axes.set_ylim(0,.1)\n",
    "fig.tight_layout(pad=1.5)\n",
    "#fig.savefig('../img/%s_gmin_across_bins_distinct_horizontal_wilcoxon.pdf'%NOTEBOOK_NAME)"
   ]
  },
  {
   "cell_type": "markdown",
   "metadata": {
    "collapsed": false,
    "scrolled": false
   },
   "source": [
    "from matplotlib import cm\n",
    "from matplotlib.colors import ListedColormap, LinearSegmentedColormap\n",
    "#make unique colormap for emphasizing significant p-values\n",
    "sigs = cm.get_cmap('BuPu', 15)\n",
    "white = np.array([1, 1, 1, 1])\n",
    "newcolors = np.vstack((sigs(np.linspace(1, 0, 15)),\n",
    "                       sigs(np.linspace(0, 1, 241))))\n",
    "#pink = np.array([.96, .09, .6, 1])\n",
    "newcolors[15:, :] = white\n",
    "newcmap = ListedColormap(newcolors)\n",
    "\n",
    "fig, ax = pl.subplots(1, 5, figsize=(8, 3))#, sharex=True, sharey=True)\n",
    "vmin=0\n",
    "vmax=1\n",
    "for comp,x in zip(tt_pairs_avg,range(len(tt_pairs_avg))):\n",
    "    im = ax[x].imshow(eval(\"distinct_%s_wilcox['post']\"%comp),origin='lower', interpolation='nearest', vmin=vmin, vmax=vmax,cmap=newcmap)\n",
    "for x in range (5):\n",
    "    ax[x].set_xticks(range(14))\n",
    "    ax[x].set_yticks(range(14))\n",
    "    ax[x].set_ylim(2.5, 13.5)\n",
    "    ax[x].set_xlim(2.5,13.5)\n",
    "    ax[x].set_xticklabels(['-5\\nto\\n-4','-4\\nto\\n-3','-3','-2','-1','0','1','2','3','4','5', '6','7','8','9','10'],fontsize=6)\n",
    "    ax[x].set_yticklabels(['-5\\nto\\n-4','-4\\nto\\n-3','-3','-2','-1','0','1','2','3','4','5', '6','7','8','9','10'],fontsize=6)\n",
    "    ax[x].set_ylabel('Time from CS onset (s)', fontsize=7)\n",
    "    ax[x].set_xlabel('Time from CS onset (s)', fontsize=7)\n",
    "    ax[x].set_title(tt_labels[x],fontsize=10,color='k')\n",
    "    ax[x].tick_params(length=3)\n",
    "\n",
    "import matplotlib.patches as patches\n",
    "for x in range(5):\n",
    "# Create a Rectangle patch\n",
    "    CS = patches.Rectangle((4.5,4.5),2,2,linewidth=1,edgecolor='w',facecolor='none')\n",
    "    Tr = patches.Rectangle((6.5,6.5),2,2,linewidth=1,edgecolor='w',facecolor='none',linestyle=':')\n",
    "# Add the patch to the Axes\n",
    "    ax[x].add_patch(CS)\n",
    "    ax[x].add_patch(Tr)\n",
    "\n",
    "ax[0].text(4.75,5.1,\"CS\",fontsize=8, weight='bold', color='dimgrey')\n",
    "ax[0].text(6.85,7.1,\"Tr\",fontsize=8, weight='bold', color='lightgrey')\n",
    "ax[0].text(8.6,8.8,\"US\",fontsize=8, weight='bold', color='lightgrey')\n",
    "\n",
    "pl.suptitle('dCA1 Decoding p-values: Late session (Wilcoxon vs chance)',y=.93,fontsize=13)\n",
    "\n",
    "cax = fig.add_axes([1,0.3, 0.01, 0.4])\n",
    "fig.colorbar(im, cax=cax, label='Decoding perf. (%)')\n",
    "fig.tight_layout(pad=1.5)\n",
    "#fig.savefig('../img/%s_gmin_across_bins_distinct_horizontal.pdf'%NOTEBOOK_NAME)"
   ]
  },
  {
   "cell_type": "markdown",
   "metadata": {},
   "source": [
    "# now downsample cells to late session minimum (lmin)"
   ]
  },
  {
   "cell_type": "markdown",
   "metadata": {
    "collapsed": false,
    "scrolled": true
   },
   "source": [
    "%%time\n",
    "n_loops=15\n",
    "for t in range (14):\n",
    "    for c in range (14):\n",
    "        for comp,relab in zip(comparisons,relabels):\n",
    "            exec('scores_tb_%s_VS_%s_%s_lmin = {}'%(t,c,comp))\n",
    "            for sess in sessions:\n",
    "                print sess,t,c,comp,\n",
    "                print \" \",\n",
    "                eval('scores_tb_%s_VS_%s_%s_lmin'%(t,c,comp))[sess] = np.r_[[do_test_across_tbs(eval('patterns_tb_%s_%s'%(t,sess)),\n",
    "                      eval('patterns_tb_%s_%s'%(c,sess)),eval('labels_%s'%sess),classes=range(1,5),\n",
    "                      n_cells=lmin, relabel=relab) for i in range(n_loops)]]"
   ]
  },
  {
   "cell_type": "markdown",
   "metadata": {
    "collapsed": false
   },
   "source": [
    "%%time\n",
    "tt_relabels = [{1:0,2:-1,3:1,4:-1}, {1:0,2:-1,3:-1,4:1}, {1:-1,2:0,3:1,4:-1}, {1:-1,2:0,3:-1,4:1}]\n",
    "tt_relabels_test = [{1:-1,2:0,3:-1,4:1}, {1:-1,2:0,3:1,4:-1}, {1:0,2:-1,3:-1,4:1}, {1:0,2:-1,3:1,4:-1}]\n",
    "tt_pairs = ['tr13_ts24','tr14_ts23','tr23_ts14','tr24_ts13']\n",
    "n_loops=15\n",
    "for t in range (14):\n",
    "    for c in range (14):\n",
    "        for re, rete, it in zip(tt_relabels,tt_relabels_test,tt_pairs):\n",
    "            exec('scores_tb_%s_VS_%s_outcome_%s_lmin = {}'%(t,c,it))\n",
    "            for sess in sessions:\n",
    "                print sess,t,c,it,\n",
    "                print \" \",\n",
    "                eval('scores_tb_%s_VS_%s_outcome_%s_lmin'%(t,c,it))[sess] = np.r_[[do_test_across_tbs(eval('patterns_tb_%s_%s'%(t,sess)),\n",
    "                      eval('patterns_tb_%s_%s'%(c,sess)),eval('labels_%s'%sess),classes=range(1,5),\n",
    "                      n_cells=lmin, relabel=re, relabel_test=rete) for i in range(n_loops)]]"
   ]
  },
  {
   "cell_type": "markdown",
   "metadata": {
    "collapsed": false
   },
   "source": [
    "#for outcome endoding, average each idividual comparison\n",
    "for t in range(14):\n",
    "    for c in range(14):\n",
    "        exec(\"scores_tb_%s_VS_%s_outcome_averaged_lmin = {}\"%(t,c))\n",
    "        for sess in sessions:\n",
    "            exec(\"scores_tb_%s_VS_%s_outcome_averaged_lmin[sess] = np.mean((scores_tb_%s_VS_%s_outcome_tr13_ts24_lmin[sess],\\\n",
    "                 scores_tb_%s_VS_%s_outcome_tr14_ts23_lmin[sess],scores_tb_%s_VS_%s_outcome_tr23_ts14_lmin[sess],\\\n",
    "                 scores_tb_%s_VS_%s_outcome_tr24_ts13_lmin[sess]),axis=0)\"%(t,c,t,c,t,c,t,c,t,c))"
   ]
  },
  {
   "cell_type": "markdown",
   "metadata": {
    "collapsed": true
   },
   "source": [
    "#for outcome endoding, average each idividual comparison\n",
    "for t in range(14):\n",
    "    for c in range(14):\n",
    "        exec(\"scores_tb_%s_VS_%s_CSPvsCSM_averaged_lmin = {}\"%(t,c))\n",
    "        for sess in sessions:\n",
    "            exec(\"scores_tb_%s_VS_%s_CSPvsCSM_averaged_lmin[sess] = np.mean((scores_tb_%s_VS_%s_CS1vsCS3_lmin[sess],\\\n",
    "                 scores_tb_%s_VS_%s_CS1vsCS4_lmin[sess],scores_tb_%s_VS_%s_CS2vsCS3_lmin[sess],\\\n",
    "                 scores_tb_%s_VS_%s_CS2vsCS4_lmin[sess]),axis=0)\"%(t,c,t,c,t,c,t,c,t,c))"
   ]
  },
  {
   "cell_type": "markdown",
   "metadata": {
    "collapsed": true
   },
   "source": [
    "comparisons_av = ['CSPvsCSM','CS1vsCS2','CS3vsCS4','CS1vsCS3','CS1vsCS4','CS2vsCS3','CS2vsCS4','CSPvsCSM_averaged']\n",
    "comp_labels_av = ['CS+ vs CS-','CS+ vs CS+','CS-  vs CS-','CS1+ vs CS3-','CS1+ vs CS4-','CS2+ vs CS3-','CS2+ vs CS4-','CS+ vs CS- avg']"
   ]
  },
  {
   "cell_type": "markdown",
   "metadata": {
    "collapsed": false
   },
   "source": [
    "for t in range (14):\n",
    "    for comp in comparisons_av:\n",
    "        exec('distinct%s_%s_lmin = {}'%(t,comp))\n",
    "for sess in sessions:\n",
    "    for t in range (14):\n",
    "        for comp in comparisons_av:\n",
    "            exec(\"distinct%s_%s_lmin['%s'] = []\"%(t,comp,sess))\n",
    "            for c in range (14):\n",
    "                eval('distinct%s_%s_lmin'%(t,comp))[sess].insert(c,(eval('scores_tb_%s_VS_%s_%s_lmin'%(t,c,comp))[sess].mean()))"
   ]
  },
  {
   "cell_type": "markdown",
   "metadata": {
    "collapsed": false
   },
   "source": [
    "for t in range (14):\n",
    "    for comp in comparisons_av:\n",
    "        exec('distinct%s_%s_wilcox_lmin = {}'%(t,comp))\n",
    "for sess in sessions:\n",
    "    for t in range (14):\n",
    "        for comp in comparisons_av:\n",
    "            exec(\"distinct%s_%s_wilcox_lmin[sess] = []\"%(t,comp))\n",
    "            for c in range (14):\n",
    "                exec(\"subtracted = [x-0.5 for x in scores_tb_%s_VS_%s_%s_lmin[sess]]\"%(t,c,comp))\n",
    "                eval('distinct%s_%s_wilcox_lmin'%(t,comp))[sess].insert(c, sstats.wilcoxon(subtracted[:15]))\n",
    "            for x,i in zip(eval('distinct%s_%s_wilcox_lmin'%(t,comp))[sess],range(len(eval('distinct%s_%s_wilcox_lmin'%(t,comp))[sess]))):\n",
    "                exec(\"distinct%s_%s_wilcox_lmin[sess][i] = x[-1]\"%(t,comp)) #only take p-values"
   ]
  },
  {
   "cell_type": "markdown",
   "metadata": {
    "collapsed": false
   },
   "source": [
    "for comp in comparisons_av:\n",
    "    exec(\"distinct_%s_lmin={}\"%comp)\n",
    "    for sess in sessions:\n",
    "        exec(\"distinct_%s_lmin[sess]=(distinct0_%s_lmin[sess], distinct1_%s_lmin[sess], distinct2_%s_lmin[sess], distinct3_%s_lmin[sess], distinct4_%s_lmin[sess], distinct5_%s_lmin[sess], distinct6_%s_lmin[sess], distinct7_%s_lmin[sess],\\\n",
    "              distinct8_%s_lmin[sess], distinct9_%s_lmin[sess], distinct10_%s_lmin[sess], distinct11_%s_lmin[sess], distinct12_%s_lmin[sess],\\\n",
    "              distinct13_%s_lmin[sess])\"%(comp,comp,comp,comp,comp,comp,comp,comp,comp,comp,comp,comp,comp,comp,comp))\n",
    "        np.array([eval(\"distinct_%s_lmin[sess]\"%comp)])"
   ]
  },
  {
   "cell_type": "markdown",
   "metadata": {
    "collapsed": false
   },
   "source": [
    "for comp in comparisons_av:\n",
    "    exec(\"distinct_%s_wilcox_lmin={}\"%comp)\n",
    "    for sess in sessions:\n",
    "        exec(\"distinct_%s_wilcox_lmin[sess]=(distinct0_%s_wilcox_lmin[sess], distinct1_%s_wilcox_lmin[sess], distinct2_%s_wilcox_lmin[sess], distinct3_%s_wilcox_lmin[sess], distinct4_%s_wilcox_lmin[sess], distinct5_%s_wilcox_lmin[sess], distinct6_%s_wilcox_lmin[sess], distinct7_%s_wilcox_lmin[sess],\\\n",
    "              distinct8_%s_wilcox_lmin[sess], distinct9_%s_wilcox_lmin[sess], distinct10_%s_wilcox_lmin[sess], distinct11_%s_wilcox_lmin[sess], distinct12_%s_wilcox_lmin[sess],\\\n",
    "              distinct13_%s_wilcox_lmin[sess])\"%(comp,comp,comp,comp,comp,comp,comp,comp,comp,comp,comp,comp,comp,comp,comp))\n",
    "        np.array([eval(\"distinct_%s_wilcox_lmin[sess]\"%comp)])"
   ]
  },
  {
   "cell_type": "markdown",
   "metadata": {
    "collapsed": true
   },
   "source": [
    "session_labels = ('Baseline','Early','Late')"
   ]
  },
  {
   "cell_type": "markdown",
   "metadata": {
    "collapsed": false
   },
   "source": [
    "fig, ax = pl.subplots(1, 3, figsize=(6, 3))#, sharex=True, sharey=True)\n",
    "vmin=0.5\n",
    "vmax=1\n",
    "for sess,x in zip(sessions,range(len(sessions))):\n",
    "    im = ax[x].imshow(distinct_CSPvsCSM_lmin[sess],origin='lower', interpolation='nearest', vmin=vmin, vmax=vmax,cmap='afmhot')\n",
    "for x in range (3):\n",
    "    ax[x].set_xticks(range(14))\n",
    "    ax[x].set_yticks(range(14))\n",
    "    ax[x].set_ylim(2.5, 13.5)\n",
    "    ax[x].set_xlim(2.5,13.5)\n",
    "    ax[x].set_xticklabels(['-5\\nto\\n-4','-4\\nto\\n-3','-3','-2','-1','0','1','2','3','4','5', '6','7','8','9','10'],fontsize=6)\n",
    "    ax[x].set_yticklabels(['-5\\nto\\n-4','-4\\nto\\n-3','-3','-2','-1','0','1','2','3','4','5', '6','7','8','9','10'],fontsize=6)\n",
    "    ax[x].set_ylabel('Time from CS onset (s)', fontsize=7)\n",
    "    ax[x].set_xlabel('Time from CS onset (s)', fontsize=7)\n",
    "    ax[x].set_title(session_labels[x],fontsize=10,color=dark_co[x])\n",
    "    ax[x].tick_params(length=3)\n",
    "\n",
    "import matplotlib.patches as patches\n",
    "for x in range(3):\n",
    "# Create a Rectangle patch\n",
    "    CS = patches.Rectangle((4.5,4.5),2,2,linewidth=1,edgecolor='w',facecolor='none')\n",
    "    Tr = patches.Rectangle((6.5,6.5),2,2,linewidth=1,edgecolor='w',facecolor='none',linestyle=':')\n",
    "# Add the patch to the Axes\n",
    "    ax[x].add_patch(CS)\n",
    "    ax[x].add_patch(Tr)\n",
    "\n",
    "ax[0].text(5,5.3,\"CS\",fontsize=8, weight='bold', color='lightgray')\n",
    "ax[0].text(7,7.4,\"Tr\",fontsize=8, weight='bold', color='lightgray')\n",
    "ax[0].text(8.6,8.8,\"US\",fontsize=8, weight='bold', color='lightgray')\n",
    "\n",
    "pl.suptitle('dCA1 Decoding Performance (lmin): CS+ vs CS-',y=.93,fontsize=13)\n",
    "\n",
    "cax = fig.add_axes([1,0.3, 0.01, 0.4])\n",
    "fig.colorbar(im, cax=cax, label='Decoding perf. (%)')\n",
    "fig.tight_layout(pad=1.5)\n",
    "#fig.savefig('../img/%s_gmin_across_bins_distinct_horizontal.pdf'%NOTEBOOK_NAME)"
   ]
  },
  {
   "cell_type": "markdown",
   "metadata": {
    "collapsed": false
   },
   "source": [
    "fig, ax = pl.subplots(8, 3, figsize=(6, 21))#, sharex=True, sharey=True)\n",
    "vmin=0.5\n",
    "vmax=1\n",
    "for sess,x in zip(sessions,range(len(sessions))):\n",
    "    for comp,i in zip(comparisons_av,range(len(comparisons_av))):\n",
    "        im = ax[i][x].imshow(eval(\"distinct_%s_lmin[sess]\"%comp),origin='lower', interpolation='nearest', vmin=vmin, vmax=vmax,cmap='afmhot')\n",
    "        ax[i][x].set_xticks(range(14))\n",
    "        ax[i][x].set_yticks(range(14))\n",
    "        ax[i][x].set_ylim(2.5,13.5)\n",
    "        ax[i][x].set_xlim(2.5,13.5)\n",
    "        ax[i][x].set_xticklabels(['-5\\nto\\n-4','-4\\nto\\n-3','-3','-2','-1','0','1','2','3','4','5', '6','7','8','9','10'],fontsize=6)\n",
    "        ax[i][x].set_yticklabels(['-5\\nto\\n-4','-4\\nto\\n-3','-3','-2','-1','0','1','2','3','4','5', '6','7','8','9','10'],fontsize=6)\n",
    "        ax[i][x].set_ylabel('Time from CS onset (s)', fontsize=7)\n",
    "        ax[i][x].set_xlabel('Time from CS onset (s)', fontsize=7)\n",
    "        ax[i][x].set_title(session_labels[x],fontsize=10,color=dark_co[x])\n",
    "        ax[i][x].tick_params(length=3)\n",
    "        ax[i][1].text(5,16,comp_labels_av[i],fontsize=11)\n",
    "\n",
    "import matplotlib.patches as patches\n",
    "for i in range(8):\n",
    "# Create a Rectangle patch\n",
    "    CS = patches.Rectangle((4.5,4.5),2,2,linewidth=1,edgecolor='w',facecolor='none')\n",
    "    Tr = patches.Rectangle((6.5,6.5),2,2,linewidth=1,edgecolor='w',facecolor='none',linestyle=':')\n",
    "# Add the patch to the Axes\n",
    "    ax[i][0].add_patch(CS)\n",
    "    ax[i][0].add_patch(Tr)\n",
    "    ax[i][0].text(4.85,5.2,\"CS\",fontsize=8, weight='bold', color='lightgray')\n",
    "    ax[i][0].text(6.85,7.15,\"Tr\",fontsize=8, weight='bold', color='lightgray')\n",
    "    ax[i][0].text(8.6,8.8,\"US\",fontsize=8, weight='bold', color='lightgray')\n",
    "\n",
    "pl.suptitle('dCA1 Decoding Performance (lmin)',y=1.02,fontsize=15)\n",
    "\n",
    "cax = fig.add_axes([1,0.3, 0.01, 0.4])\n",
    "fig.colorbar(im, cax=cax, label='Decoding perf. (%)')\n",
    "fig.tight_layout(pad=1)\n",
    "#fig.savefig('../img/%s_gmin_across_bins_distinct_horizontal.pdf'%NOTEBOOK_NAME)"
   ]
  },
  {
   "cell_type": "markdown",
   "metadata": {
    "collapsed": false
   },
   "source": [
    "fig, ax = pl.subplots(1, 8, figsize=(13, 3))#, sharex=True, sharey=True)\n",
    "vmin=0.5\n",
    "vmax=1\n",
    "for comp,x in zip(comparisons_av,range(len(comparisons_av))):\n",
    "    im = ax[x].imshow(eval(\"distinct_%s_lmin['post']\"%comp),origin='lower', interpolation='nearest', vmin=vmin, vmax=vmax,cmap='afmhot')\n",
    "for x in range (8):\n",
    "    ax[x].set_xticks(range(14))\n",
    "    ax[x].set_yticks(range(14))\n",
    "    ax[x].set_ylim(2.5, 13.5)\n",
    "    ax[x].set_xlim(2.5,13.5)\n",
    "    ax[x].set_xticklabels(['-5\\nto\\n-4','-4\\nto\\n-3','-3','-2','-1','0','1','2','3','4','5', '6','7','8','9','10'],fontsize=6)\n",
    "    ax[x].set_yticklabels(['-5\\nto\\n-4','-4\\nto\\n-3','-3','-2','-1','0','1','2','3','4','5', '6','7','8','9','10'],fontsize=6)\n",
    "    ax[x].set_ylabel('Time from CS onset (s)', fontsize=7)\n",
    "    ax[x].set_xlabel('Time from CS onset (s)', fontsize=7)\n",
    "    ax[x].set_title(comp_labels_av[x],fontsize=10,color='k')\n",
    "    ax[x].tick_params(length=3)\n",
    "\n",
    "import matplotlib.patches as patches\n",
    "for x in range(8):\n",
    "# Create a Rectangle patch\n",
    "    CS = patches.Rectangle((4.5,4.5),2,2,linewidth=1,edgecolor='k',facecolor='none')\n",
    "    Tr = patches.Rectangle((6.5,6.5),2,2,linewidth=1,edgecolor='k',facecolor='none',linestyle=':')\n",
    "# Add the patch to the Axes\n",
    "    ax[x].add_patch(CS)\n",
    "    ax[x].add_patch(Tr)\n",
    "    ax[x].text(4.2,-2.5,'Tested on',fontsize=12,color='darkslateblue')\n",
    "\n",
    "ax[0].text(-2.9,11,'Trained on',rotation=90,fontsize=12,color='darkslateblue')\n",
    "ax[0].text(4.75,5.1,\"CS\",fontsize=8, weight='bold', color='k')\n",
    "ax[0].text(6.85,7.1,\"Tr\",fontsize=8, weight='bold', color='k')\n",
    "ax[0].text(8.6,8.8,\"US\",fontsize=8, weight='bold', color='k')\n",
    "\n",
    "pl.suptitle('dCA1 Decoding Performance (lmin): Late Session',y=.93,fontsize=13)\n",
    "\n",
    "cax = fig.add_axes([1,0.3, 0.01, 0.4])\n",
    "fig.colorbar(im, cax=cax, label='Decoding perf. (%)')\n",
    "fig.tight_layout(pad=1.5)\n",
    "fig.savefig('../img/%s_across_bins_LATE_lmin.jpg'%NOTEBOOK_NAME)"
   ]
  },
  {
   "cell_type": "markdown",
   "metadata": {
    "collapsed": false
   },
   "source": [
    "from matplotlib import cm\n",
    "from matplotlib.colors import ListedColormap, LinearSegmentedColormap\n",
    "#make unique colormap for emphasizing significant p-values\n",
    "sigs = cm.get_cmap('BuPu', 15)\n",
    "white = np.array([1, 1, 1, 1])\n",
    "newcolors = np.vstack((sigs(np.linspace(1, 0, 15)),\n",
    "                       sigs(np.linspace(0, 1, 241))))\n",
    "#pink = np.array([.96, .09, .6, 1])\n",
    "newcolors[15:, :] = white\n",
    "newcmap = ListedColormap(newcolors)\n",
    "\n",
    "fig, ax = pl.subplots(1, 3, figsize=(6, 3))#, sharex=True, sharey=True)\n",
    "vmin=0\n",
    "vmax=1\n",
    "for sess,x in zip(sessions,range(len(sessions))):\n",
    "    im = ax[x].imshow(distinct_CSPvsCSM_wilcox_lmin[sess],origin='lower', interpolation='nearest', vmin=vmin, vmax=vmax,cmap=newcmap)\n",
    "for x in range (3):\n",
    "    ax[x].set_xticks(range(14))\n",
    "    ax[x].set_yticks(range(14))\n",
    "    ax[x].set_ylim(2.5, 13.5)\n",
    "    ax[x].set_xlim(2.5,13.5)\n",
    "    ax[x].set_xticklabels(['-5\\nto\\n-4','-4\\nto\\n-3','-3','-2','-1','0','1','2','3','4','5', '6','7','8','9','10'],fontsize=6)\n",
    "    ax[x].set_yticklabels(['-5\\nto\\n-4','-4\\nto\\n-3','-3','-2','-1','0','1','2','3','4','5', '6','7','8','9','10'],fontsize=6)\n",
    "    ax[x].set_ylabel('Time from CS onset (s)', fontsize=7)\n",
    "    ax[x].set_xlabel('Time from CS onset (s)', fontsize=7)\n",
    "    ax[x].set_title(session_labels[x],fontsize=10,color=dark_co[x])\n",
    "    ax[x].tick_params(length=3)\n",
    "\n",
    "import matplotlib.patches as patches\n",
    "for x in range(3):\n",
    "# Create a Rectangle patch\n",
    "    CS = patches.Rectangle((4.5,4.5),2,2,linewidth=1,edgecolor='w',facecolor='none')\n",
    "    Tr = patches.Rectangle((6.5,6.5),2,2,linewidth=1,edgecolor='w',facecolor='none',linestyle=':')\n",
    "# Add the patch to the Axes\n",
    "    ax[x].add_patch(CS)\n",
    "    ax[x].add_patch(Tr)\n",
    "\n",
    "ax[0].text(4.75,5.1,\"CS\",fontsize=8, weight='bold', color='dimgrey')\n",
    "ax[0].text(6.85,7.1,\"Tr\",fontsize=8, weight='bold', color='w')\n",
    "ax[0].text(8.6,8.8,\"US\",fontsize=8, weight='bold', color='dimgrey')\n",
    "\n",
    "pl.suptitle('dCA1 Decoding p-values CS+ vs CS- (Wilcoxon vs chance)',y=.93,fontsize=13)\n",
    "\n",
    "cax = fig.add_axes([1,0.3, 0.01, 0.4])\n",
    "fig.colorbar(im, cax=cax, label='p-value')#,ticks=[0,.05,.1])\n",
    "#cax.axes.set_ylim(0,.1)\n",
    "fig.tight_layout(pad=1.5)\n",
    "#fig.savefig('../img/%s_gmin_across_bins_distinct_horizontal_wilcoxon.pdf'%NOTEBOOK_NAME)"
   ]
  },
  {
   "cell_type": "markdown",
   "metadata": {
    "collapsed": false
   },
   "source": [
    "from matplotlib import cm\n",
    "from matplotlib.colors import ListedColormap, LinearSegmentedColormap\n",
    "#make unique colormap for emphasizing significant p-values\n",
    "sigs = cm.get_cmap('BuPu', 15)\n",
    "white = np.array([1, 1, 1, 1])\n",
    "newcolors = np.vstack((sigs(np.linspace(1, 0, 15)),\n",
    "                       sigs(np.linspace(0, 1, 241))))\n",
    "#pink = np.array([.96, .09, .6, 1])\n",
    "newcolors[15:, :] = white\n",
    "newcmap = ListedColormap(newcolors)\n",
    "\n",
    "fig, ax = pl.subplots(1, 8, figsize=(13, 3))#, sharex=True, sharey=True)\n",
    "vmin=0\n",
    "vmax=1\n",
    "for comp,x in zip(comparisons_av,range(len(comparisons_av))):\n",
    "    im = ax[x].imshow(eval(\"distinct_%s_wilcox_lmin['post']\"%comp),origin='lower', interpolation='nearest', vmin=vmin, vmax=vmax,cmap=newcmap)\n",
    "for x in range (8):\n",
    "    ax[x].set_xticks(range(14))\n",
    "    ax[x].set_yticks(range(14))\n",
    "    ax[x].set_ylim(2.5, 13.5)\n",
    "    ax[x].set_xlim(2.5,13.5)\n",
    "    ax[x].set_xticklabels(['-5\\nto\\n-4','-4\\nto\\n-3','-3','-2','-1','0','1','2','3','4','5', '6','7','8','9','10'],fontsize=6)\n",
    "    ax[x].set_yticklabels(['-5\\nto\\n-4','-4\\nto\\n-3','-3','-2','-1','0','1','2','3','4','5', '6','7','8','9','10'],fontsize=6)\n",
    "    ax[x].set_ylabel('Time from CS onset (s)', fontsize=7)\n",
    "    ax[x].set_xlabel('Time from CS onset (s)', fontsize=7)\n",
    "    ax[x].set_title(comp_labels_av[x],fontsize=10,color='k')\n",
    "    ax[x].tick_params(length=3)\n",
    "\n",
    "import matplotlib.patches as patches\n",
    "for x in range(8):\n",
    "# Create a Rectangle patch\n",
    "    CS = patches.Rectangle((4.5,4.5),2,2,linewidth=1,edgecolor='w',facecolor='none')\n",
    "    Tr = patches.Rectangle((6.5,6.5),2,2,linewidth=1,edgecolor='w',facecolor='none',linestyle=':')\n",
    "# Add the patch to the Axes\n",
    "    ax[x].add_patch(CS)\n",
    "    ax[x].add_patch(Tr)\n",
    "\n",
    "ax[0].text(4.75,5.1,\"CS\",fontsize=8, weight='bold', color='lightgrey')\n",
    "ax[0].text(6.85,7.1,\"Tr\",fontsize=8, weight='bold', color='lightgrey')\n",
    "ax[0].text(8.6,8.8,\"US\",fontsize=8, weight='bold', color='lightgrey')\n",
    "\n",
    "pl.suptitle('dCA1 Decoding p-values: Late session (Wilcoxon vs chance)',y=.93,fontsize=13)\n",
    "\n",
    "cax = fig.add_axes([1,0.3, 0.01, 0.4])\n",
    "fig.colorbar(im, cax=cax, label='Decoding perf. (%)')\n",
    "fig.tight_layout(pad=1.5)\n",
    "#fig.savefig('../img/%s_gmin_across_bins_distinct_horizontal.pdf'%NOTEBOOK_NAME)"
   ]
  },
  {
   "cell_type": "markdown",
   "metadata": {
    "collapsed": true
   },
   "source": []
  },
  {
   "cell_type": "markdown",
   "metadata": {
    "collapsed": true
   },
   "source": [
    "tt_pairs_avg = ['tr13_ts24','tr14_ts23','tr23_ts14','tr24_ts13','averaged']\n",
    "tt_labels = ['1v3 & 2v4','1v4 & 2v3','2v3 & 1v4','2v4 & 1v3','Average']"
   ]
  },
  {
   "cell_type": "markdown",
   "metadata": {
    "collapsed": false
   },
   "source": [
    "for t in range (14):\n",
    "    for comp in tt_pairs_avg:\n",
    "        exec('distinct%s_%s_lmin = {}'%(t,comp))\n",
    "for sess in sessions:\n",
    "    for t in range (14):\n",
    "        for comp in tt_pairs_avg:\n",
    "            exec(\"distinct%s_%s_lmin['%s'] = []\"%(t,comp,sess))\n",
    "            for c in range (14):\n",
    "                eval('distinct%s_%s_lmin'%(t,comp))[sess].insert(c,(eval('scores_tb_%s_VS_%s_outcome_%s_lmin'%(t,c,comp))[sess].mean()))"
   ]
  },
  {
   "cell_type": "markdown",
   "metadata": {
    "collapsed": false
   },
   "source": [
    "for t in range (14):\n",
    "    for comp in tt_pairs_avg:\n",
    "        exec('distinct%s_%s_wilcox_lmin = {}'%(t,comp))\n",
    "for sess in sessions:\n",
    "    for t in range (14):\n",
    "        for comp in tt_pairs_avg:\n",
    "            exec(\"distinct%s_%s_wilcox_lmin[sess] = []\"%(t,comp))\n",
    "            for c in range (14):\n",
    "                exec(\"subtracted = [x-0.5 for x in scores_tb_%s_VS_%s_outcome_%s_lmin[sess]]\"%(t,c,comp))\n",
    "                eval('distinct%s_%s_wilcox_lmin'%(t,comp))[sess].insert(c, sstats.wilcoxon(subtracted[:15]))\n",
    "            for x,i in zip(eval('distinct%s_%s_wilcox_lmin'%(t,comp))[sess],range(len(eval('distinct%s_%s_wilcox_lmin'%(t,comp))[sess]))):\n",
    "                exec(\"distinct%s_%s_wilcox_lmin[sess][i] = x[-1]\"%(t,comp)) #only take p-values"
   ]
  },
  {
   "cell_type": "markdown",
   "metadata": {
    "collapsed": false
   },
   "source": [
    "for comp in tt_pairs_avg:\n",
    "    exec(\"distinct_%s_lmin={}\"%comp)\n",
    "    for sess in sessions:\n",
    "        exec(\"distinct_%s_lmin[sess]=(distinct0_%s_lmin[sess], distinct1_%s_lmin[sess], distinct2_%s_lmin[sess], distinct3_%s_lmin[sess], distinct4_%s_lmin[sess], distinct5_%s_lmin[sess], distinct6_%s_lmin[sess], distinct7_%s_lmin[sess],\\\n",
    "              distinct8_%s_lmin[sess], distinct9_%s_lmin[sess], distinct10_%s_lmin[sess], distinct11_%s_lmin[sess], distinct12_%s_lmin[sess],\\\n",
    "              distinct13_%s_lmin[sess])\"%(comp,comp,comp,comp,comp,comp,comp,comp,comp,comp,comp,comp,comp,comp,comp))\n",
    "        np.array([eval(\"distinct_%s_lmin[sess]\"%comp)])"
   ]
  },
  {
   "cell_type": "markdown",
   "metadata": {
    "collapsed": false
   },
   "source": [
    "for comp in tt_pairs_avg:\n",
    "    exec(\"distinct_%s_wilcox_lmin={}\"%comp)\n",
    "    for sess in sessions:\n",
    "        exec(\"distinct_%s_wilcox_lmin[sess]=(distinct0_%s_wilcox_lmin[sess], distinct1_%s_wilcox_lmin[sess], distinct2_%s_wilcox_lmin[sess], distinct3_%s_wilcox_lmin[sess], distinct4_%s_wilcox_lmin[sess], distinct5_%s_wilcox_lmin[sess], distinct6_%s_wilcox_lmin[sess], distinct7_%s_wilcox_lmin[sess],\\\n",
    "              distinct8_%s_wilcox_lmin[sess], distinct9_%s_wilcox_lmin[sess], distinct10_%s_wilcox_lmin[sess], distinct11_%s_wilcox_lmin[sess], distinct12_%s_wilcox_lmin[sess],\\\n",
    "              distinct13_%s_wilcox_lmin[sess])\"%(comp,comp,comp,comp,comp,comp,comp,comp,comp,comp,comp,comp,comp,comp,comp))\n",
    "        np.array([eval(\"distinct_%s_wilcox_lmin[sess]\"%comp)])"
   ]
  },
  {
   "cell_type": "markdown",
   "metadata": {
    "collapsed": false
   },
   "source": [
    "fig, ax = pl.subplots(1, 3, figsize=(6, 3))#, sharex=True, sharey=True)\n",
    "vmin=0.5\n",
    "vmax=1\n",
    "for sess,x in zip(sessions,range(len(sessions))):\n",
    "    im = ax[x].imshow(distinct_averaged_lmin[sess],origin='lower', interpolation='nearest', vmin=vmin, vmax=vmax,cmap='afmhot')\n",
    "for x in range (3):\n",
    "    ax[x].set_xticks(range(14))\n",
    "    ax[x].set_yticks(range(14))\n",
    "    ax[x].set_ylim(2.5, 13.5)\n",
    "    ax[x].set_xlim(2.5,13.5)\n",
    "    ax[x].set_xticklabels(['-5\\nto\\n-4','-4\\nto\\n-3','-3','-2','-1','0','1','2','3','4','5', '6','7','8','9','10'],fontsize=6)\n",
    "    ax[x].set_yticklabels(['-5\\nto\\n-4','-4\\nto\\n-3','-3','-2','-1','0','1','2','3','4','5', '6','7','8','9','10'],fontsize=6)\n",
    "    ax[x].set_ylabel('Time from CS onset (s)', fontsize=7)\n",
    "    ax[x].set_xlabel('Time from CS onset (s)', fontsize=7)\n",
    "    ax[x].set_title(session_labels[x],fontsize=10,color=dark_co[x])\n",
    "    ax[x].tick_params(length=3)\n",
    "\n",
    "import matplotlib.patches as patches\n",
    "for x in range(3):\n",
    "# Create a Rectangle patch\n",
    "    CS = patches.Rectangle((4.5,4.5),2,2,linewidth=1,edgecolor='w',facecolor='none')\n",
    "    Tr = patches.Rectangle((6.5,6.5),2,2,linewidth=1,edgecolor='w',facecolor='none',linestyle=':')\n",
    "# Add the patch to the Axes\n",
    "    ax[x].add_patch(CS)\n",
    "    ax[x].add_patch(Tr)\n",
    "\n",
    "ax[0].text(4.75,5.1,\"CS\",fontsize=8, weight='bold', color='lightgray')\n",
    "ax[0].text(6.85,7.1,\"Tr\",fontsize=8, weight='bold', color='lightgray')\n",
    "ax[0].text(8.6,8.8,\"US\",fontsize=8, weight='bold', color='lightgray')\n",
    "\n",
    "pl.suptitle('dCA1 Decoding Performance: Outcome',y=.93,fontsize=13)\n",
    "\n",
    "cax = fig.add_axes([1,0.3, 0.01, 0.4])\n",
    "fig.colorbar(im, cax=cax, label='Decoding perf. (%)')\n",
    "fig.tight_layout(pad=1.5)\n",
    "#fig.savefig('../img/%s_gmin_across_bins_distinct_horizontal.pdf'%NOTEBOOK_NAME)"
   ]
  },
  {
   "cell_type": "markdown",
   "metadata": {
    "collapsed": false
   },
   "source": [
    "fig, ax = pl.subplots(5, 3, figsize=(6, 15))#, sharex=True, sharey=True)\n",
    "vmin=0.5\n",
    "vmax=1\n",
    "for sess,x in zip(sessions,range(len(sessions))):\n",
    "    for comp,i in zip(tt_pairs_avg,range(len(tt_pairs_avg))):\n",
    "        im = ax[i][x].imshow(eval(\"distinct_%s_lmin[sess]\"%comp),origin='lower', interpolation='nearest', vmin=vmin, vmax=vmax,cmap='afmhot')\n",
    "        ax[i][x].set_xticks(range(14))\n",
    "        ax[i][x].set_yticks(range(14))\n",
    "        ax[i][x].set_ylim(2.5,13.5)\n",
    "        ax[i][x].set_xlim(2.5,13.5)\n",
    "        ax[i][x].set_xticklabels(['-5\\nto\\n-4','-4\\nto\\n-3','-3','-2','-1','0','1','2','3','4','5', '6','7','8','9','10'],fontsize=6)\n",
    "        ax[i][x].set_yticklabels(['-5\\nto\\n-4','-4\\nto\\n-3','-3','-2','-1','0','1','2','3','4','5', '6','7','8','9','10'],fontsize=6)\n",
    "        ax[i][x].set_ylabel('Time from CS onset (s)', fontsize=7)\n",
    "        ax[i][x].set_xlabel('Time from CS onset (s)', fontsize=7)\n",
    "        ax[i][x].set_title(session_labels[x],fontsize=10,color=dark_co[x])\n",
    "        ax[i][x].tick_params(length=3)\n",
    "        ax[i][1].text(5,16,tt_labels[i],fontsize=11)\n",
    "\n",
    "import matplotlib.patches as patches\n",
    "for i in range(5):\n",
    "# Create a Rectangle patch\n",
    "    CS = patches.Rectangle((4.5,4.5),2,2,linewidth=1,edgecolor='w',facecolor='none')\n",
    "    Tr = patches.Rectangle((6.5,6.5),2,2,linewidth=1,edgecolor='w',facecolor='none',linestyle=':')\n",
    "# Add the patch to the Axes\n",
    "    ax[i][0].add_patch(CS)\n",
    "    ax[i][0].add_patch(Tr)\n",
    "    ax[i][0].text(4.85,5.2,\"CS\",fontsize=8, weight='bold', color='lightgray')\n",
    "    ax[i][0].text(6.85,7.15,\"Tr\",fontsize=8, weight='bold', color='lightgray')\n",
    "    ax[i][0].text(8.6,8.8,\"US\",fontsize=8, weight='bold', color='lightgray')\n",
    "\n",
    "pl.suptitle('dCA1 Outcome Decoding Performance',y=1.,fontsize=15)\n",
    "\n",
    "cax = fig.add_axes([1,0.3, 0.01, 0.4])\n",
    "fig.colorbar(im, cax=cax, label='Decoding perf. (%)')\n",
    "fig.tight_layout(pad=1)\n",
    "#fig.savefig('../img/%s_gmin_across_bins_distinct_horizontal.pdf'%NOTEBOOK_NAME)"
   ]
  },
  {
   "cell_type": "markdown",
   "metadata": {
    "collapsed": false
   },
   "source": [
    "fig, ax = pl.subplots(1, 5, figsize=(11, 3))#, sharex=True, sharey=True)\n",
    "vmin=0.5\n",
    "vmax=1\n",
    "for comp,x in zip(tt_pairs_avg,range(len(tt_pairs_avg))):\n",
    "    im = ax[x].imshow(eval(\"distinct_%s_lmin['post']\"%comp),origin='lower', interpolation='nearest', vmin=vmin, vmax=vmax,cmap='afmhot')\n",
    "for x in range (5):\n",
    "    ax[x].set_xticks(range(14))\n",
    "    ax[x].set_yticks(range(14))\n",
    "    ax[x].set_ylim(2.5, 13.5)\n",
    "    ax[x].set_xlim(2.5,13.5)\n",
    "    ax[x].set_xticklabels(['-5\\nto\\n-4','-4\\nto\\n-3','-3','-2','-1','0','1','2','3','4','5', '6','7','8','9','10'],fontsize=6)\n",
    "    ax[x].set_yticklabels(['-5\\nto\\n-4','-4\\nto\\n-3','-3','-2','-1','0','1','2','3','4','5', '6','7','8','9','10'],fontsize=6)\n",
    "    ax[x].set_ylabel('Time from CS onset (s)', fontsize=7)\n",
    "    ax[x].set_xlabel('Time from CS onset (s)', fontsize=7)\n",
    "    ax[x].set_title(tt_labels[x],fontsize=10,color='k')\n",
    "    ax[x].tick_params(length=3)\n",
    "\n",
    "import matplotlib.patches as patches\n",
    "for x in range(5):\n",
    "# Create a Rectangle patch\n",
    "    CS = patches.Rectangle((4.5,4.5),2,2,linewidth=1,edgecolor='w',facecolor='none')\n",
    "    Tr = patches.Rectangle((6.5,6.5),2,2,linewidth=1.5,edgecolor='w',facecolor='none',linestyle=':')\n",
    "# Add the patch to the Axes\n",
    "    ax[x].add_patch(CS)\n",
    "    ax[x].add_patch(Tr)\n",
    "\n",
    "ax[0].text(5,5.3,\"CS\",fontsize=8, weight='bold', color='w')\n",
    "ax[0].text(7.1,7.4,\"Tr\",fontsize=8, weight='bold', color='w')\n",
    "ax[0].text(8.6,8.8,\"US\",fontsize=8, weight='bold', color='k')\n",
    "\n",
    "pl.suptitle('dCA1 Outcome Decoding Performance: Late Session',y=.93,fontsize=13)\n",
    "\n",
    "cax = fig.add_axes([1,0.3, 0.01, 0.4])\n",
    "fig.colorbar(im, cax=cax, label='Decoding perf. (%)')\n",
    "fig.tight_layout(pad=1.5)\n",
    "#fig.savefig('../img/%s_gmin_across_bins_distinct_horizontal.pdf'%NOTEBOOK_NAME)"
   ]
  },
  {
   "cell_type": "markdown",
   "metadata": {
    "collapsed": false
   },
   "source": [
    "from matplotlib import cm\n",
    "from matplotlib.colors import ListedColormap, LinearSegmentedColormap\n",
    "#make unique colormap for emphasizing significant p-values\n",
    "sigs = cm.get_cmap('BuPu', 15)\n",
    "white = np.array([1, 1, 1, 1])\n",
    "newcolors = np.vstack((sigs(np.linspace(1, 0, 15)),\n",
    "                       sigs(np.linspace(0, 1, 241))))\n",
    "#pink = np.array([.96, .09, .6, 1])\n",
    "newcolors[15:, :] = white\n",
    "newcmap = ListedColormap(newcolors)\n",
    "\n",
    "fig, ax = pl.subplots(1, 3, figsize=(6, 3))#, sharex=True, sharey=True)\n",
    "vmin=0\n",
    "vmax=1\n",
    "for sess,x in zip(sessions,range(len(sessions))):\n",
    "    im = ax[x].imshow(distinct_averaged_wilcox_lmin[sess],origin='lower', interpolation='nearest', vmin=vmin, vmax=vmax,cmap=newcmap)\n",
    "for x in range (3):\n",
    "    ax[x].set_xticks(range(14))\n",
    "    ax[x].set_yticks(range(14))\n",
    "    ax[x].set_ylim(2.5, 13.5)\n",
    "    ax[x].set_xlim(2.5,13.5)\n",
    "    ax[x].set_xticklabels(['-5\\nto\\n-4','-4\\nto\\n-3','-3','-2','-1','0','1','2','3','4','5', '6','7','8','9','10'],fontsize=6)\n",
    "    ax[x].set_yticklabels(['-5\\nto\\n-4','-4\\nto\\n-3','-3','-2','-1','0','1','2','3','4','5', '6','7','8','9','10'],fontsize=6)\n",
    "    ax[x].set_ylabel('Time from CS onset (s)', fontsize=7)\n",
    "    ax[x].set_xlabel('Time from CS onset (s)', fontsize=7)\n",
    "    ax[x].set_title(session_labels[x],fontsize=10,color=dark_co[x])\n",
    "    ax[x].tick_params(length=3)\n",
    "\n",
    "import matplotlib.patches as patches\n",
    "for x in range(3):\n",
    "# Create a Rectangle patch\n",
    "    CS = patches.Rectangle((4.5,4.5),2,2,linewidth=1,edgecolor='w',facecolor='none')\n",
    "    Tr = patches.Rectangle((6.5,6.5),2,2,linewidth=1,edgecolor='w',facecolor='none',linestyle=':')\n",
    "# Add the patch to the Axes\n",
    "    ax[x].add_patch(CS)\n",
    "    ax[x].add_patch(Tr)\n",
    "\n",
    "ax[0].text(4.75,5.1,\"CS\",fontsize=8, weight='bold', color='dimgrey')\n",
    "ax[0].text(6.85,7.1,\"Tr\",fontsize=8, weight='bold', color='w')\n",
    "ax[0].text(8.6,8.8,\"US\",fontsize=8, weight='bold', color='dimgrey')\n",
    "\n",
    "pl.suptitle('dCA1 Outcome Decoding p-values (Wilcoxon vs chance)',y=.93,fontsize=13)\n",
    "\n",
    "cax = fig.add_axes([1,0.3, 0.01, 0.4])\n",
    "fig.colorbar(im, cax=cax, label='p-value')#,ticks=[0,.05,.1])\n",
    "#cax.axes.set_ylim(0,.1)\n",
    "fig.tight_layout(pad=1.5)\n",
    "#fig.savefig('../img/%s_gmin_across_bins_distinct_horizontal_wilcoxon.pdf'%NOTEBOOK_NAME)"
   ]
  },
  {
   "cell_type": "markdown",
   "metadata": {
    "collapsed": false,
    "scrolled": false
   },
   "source": [
    "from matplotlib import cm\n",
    "from matplotlib.colors import ListedColormap, LinearSegmentedColormap\n",
    "#make unique colormap for emphasizing significant p-values\n",
    "sigs = cm.get_cmap('BuPu', 15)\n",
    "white = np.array([1, 1, 1, 1])\n",
    "newcolors = np.vstack((sigs(np.linspace(1, 0, 15)),\n",
    "                       sigs(np.linspace(0, 1, 241))))\n",
    "#pink = np.array([.96, .09, .6, 1])\n",
    "newcolors[15:, :] = white\n",
    "newcmap = ListedColormap(newcolors)\n",
    "\n",
    "fig, ax = pl.subplots(1, 5, figsize=(8, 3))#, sharex=True, sharey=True)\n",
    "vmin=0\n",
    "vmax=1\n",
    "for comp,x in zip(tt_pairs_avg,range(len(tt_pairs_avg))):\n",
    "    im = ax[x].imshow(eval(\"distinct_%s_wilcox_lmin['post']\"%comp),origin='lower', interpolation='nearest', vmin=vmin, vmax=vmax,cmap=newcmap)\n",
    "for x in range (5):\n",
    "    ax[x].set_xticks(range(14))\n",
    "    ax[x].set_yticks(range(14))\n",
    "    ax[x].set_ylim(2.5, 13.5)\n",
    "    ax[x].set_xlim(2.5,13.5)\n",
    "    ax[x].set_xticklabels(['-5\\nto\\n-4','-4\\nto\\n-3','-3','-2','-1','0','1','2','3','4','5', '6','7','8','9','10'],fontsize=6)\n",
    "    ax[x].set_yticklabels(['-5\\nto\\n-4','-4\\nto\\n-3','-3','-2','-1','0','1','2','3','4','5', '6','7','8','9','10'],fontsize=6)\n",
    "    ax[x].set_ylabel('Time from CS onset (s)', fontsize=7)\n",
    "    ax[x].set_xlabel('Time from CS onset (s)', fontsize=7)\n",
    "    ax[x].set_title(tt_labels[x],fontsize=10,color='k')\n",
    "    ax[x].tick_params(length=3)\n",
    "\n",
    "import matplotlib.patches as patches\n",
    "for x in range(5):\n",
    "# Create a Rectangle patch\n",
    "    CS = patches.Rectangle((4.5,4.5),2,2,linewidth=1,edgecolor='w',facecolor='none')\n",
    "    Tr = patches.Rectangle((6.5,6.5),2,2,linewidth=1,edgecolor='w',facecolor='none',linestyle=':')\n",
    "# Add the patch to the Axes\n",
    "    ax[x].add_patch(CS)\n",
    "    ax[x].add_patch(Tr)\n",
    "\n",
    "ax[0].text(4.75,5.1,\"CS\",fontsize=8, weight='bold', color='dimgrey')\n",
    "ax[0].text(6.85,7.1,\"Tr\",fontsize=8, weight='bold', color='lightgrey')\n",
    "ax[0].text(8.6,8.8,\"US\",fontsize=8, weight='bold', color='lightgrey')\n",
    "\n",
    "pl.suptitle('dCA1 Decoding p-values: Late session (Wilcoxon vs chance)',y=.93,fontsize=13)\n",
    "\n",
    "cax = fig.add_axes([1,0.3, 0.01, 0.4])\n",
    "fig.colorbar(im, cax=cax, label='Decoding perf. (%)')\n",
    "fig.tight_layout(pad=1.5)\n",
    "#fig.savefig('../img/%s_gmin_across_bins_distinct_horizontal.pdf'%NOTEBOOK_NAME)"
   ]
  },
  {
   "cell_type": "code",
   "execution_count": null,
   "metadata": {
    "collapsed": true
   },
   "outputs": [],
   "source": []
  },
  {
   "cell_type": "code",
   "execution_count": null,
   "metadata": {
    "collapsed": true
   },
   "outputs": [],
   "source": []
  }
 ],
 "metadata": {
  "anaconda-cloud": {},
  "kernelspec": {
   "display_name": "Python [default]",
   "language": "python",
   "name": "python2"
  },
  "language_info": {
   "codemirror_mode": {
    "name": "ipython",
    "version": 2
   },
   "file_extension": ".py",
   "mimetype": "text/x-python",
   "name": "python",
   "nbconvert_exporter": "python",
   "pygments_lexer": "ipython2",
   "version": "2.7.12"
  }
 },
 "nbformat": 4,
 "nbformat_minor": 2
}
