{
 "cells": [
  {
   "cell_type": "raw",
   "metadata": {
    "collapsed": false
   },
   "source": [
    "### from IPython.display import display\n",
    "from IPython.display import HTML\n",
    "import IPython.core.display as di # Example: di.display_html('<h3>%s:</h3>' % str, raw=True)\n",
    "\n",
    "# This line will hide code by default when the notebook is exported as HTML\n",
    "di.display_html('<script>jQuery(function() {if (jQuery(\"body.notebook_app\").length == 0) { jQuery(\".input_area\").toggle(); jQuery(\".prompt\").toggle();}});</script>', raw=True)\n",
    "\n",
    "# This line will add a button to toggle visibility of code blocks, for use with the HTML export version\n",
    "di.display_html('''<button onclick=\"jQuery('.input_area').toggle(); jQuery('.prompt').toggle();\">Toggle code</button>''', raw=True)\n"
   ]
  },
  {
   "cell_type": "code",
   "execution_count": 4,
   "metadata": {
    "collapsed": true
   },
   "outputs": [],
   "source": [
    "# all modules necessary for this nb\n",
    "import os\n",
    "import sys\n",
    "import pickle\n",
    "\n",
    "import numpy as np\n",
    "import pylab as pl\n",
    "import scipy.stats as sstats\n",
    "\n",
    "# setting parameters for default matplotlib plots\n",
    "%matplotlib inline"
   ]
  },
  {
   "cell_type": "code",
   "execution_count": 5,
   "metadata": {
    "collapsed": false
   },
   "outputs": [],
   "source": [
    "pl.style.use('fabiostyle')\n",
    "# needs to find the library of functions\n",
    "sys.path.append('../../code/')  # to be replaced!\n",
    "\n",
    "import utils as ut\n",
    "import plots as pt"
   ]
  },
  {
   "cell_type": "code",
   "execution_count": 6,
   "metadata": {
    "collapsed": false
   },
   "outputs": [],
   "source": [
    "# %%javascript\n",
    "# var nb = IPython.notebook;\n",
    "# var kernel = IPython.notebook.kernel;\n",
    "# var command = \"NOTEBOOK_NAME = '\" + nb.base_url + nb.notebook_path + \"'\";\n",
    "# kernel.execute(command);"
   ]
  },
  {
   "cell_type": "code",
   "execution_count": 7,
   "metadata": {
    "collapsed": true
   },
   "outputs": [],
   "source": [
    "# NOTEBOOK_NAME = NOTEBOOK_NAME.split('/')[-1][:-6]\n",
    "NOTEBOOK_NAME = 'decoding_n_cells'"
   ]
  },
  {
   "cell_type": "code",
   "execution_count": 8,
   "metadata": {
    "collapsed": false
   },
   "outputs": [
    {
     "name": "stdout",
     "output_type": "stream",
     "text": [
      "Unable to restore variable 'load_all_animals_vars', ignoring (use %store -d to forget!)\n",
      "('The error was:', <type 'exceptions.KeyError'>)\n"
     ]
    }
   ],
   "source": [
    "from pickleshare import PickleShareDB\n",
    "\n",
    "autorestore_folder = os.path.join(os.getcwd(), 'autorestore', NOTEBOOK_NAME)\n",
    "db = PickleShareDB(autorestore_folder)\n",
    "import sys\n",
    "from workspace import *\n",
    "import IPython\n",
    "ip = IPython.get_ipython()\n",
    "\n",
    "# this will restore all the saved variables. ignore the errors listed.\n",
    "load_workspace(ip, db)\n",
    "\n",
    "# use `save_worspace(db)` to save variables at the end"
   ]
  },
  {
   "cell_type": "code",
   "execution_count": 9,
   "metadata": {
    "collapsed": true
   },
   "outputs": [],
   "source": [
    "from itertools import product\n",
    "def load_all_animals_vars(varname, animal_list, pilot_list=None, notebook='preprocessing'):\n",
    "    all_of_them = {}\n",
    "    for ani in animal_list:\n",
    "        folder = '../%s/notebooks/autorestore/%s/' % (ani, notebook)\n",
    "        all_of_them.update({ani: ut.load_variable(varname, folder)})\n",
    "    return all_of_them"
   ]
  },
  {
   "cell_type": "code",
   "execution_count": 32,
   "metadata": {
    "collapsed": false
   },
   "outputs": [],
   "source": [
    "expo_animals_vHPC = 'c3m1', 'c3m2', 'c3f3', 'c10m8'\n",
    "pre_animals_vHPC  = 'c3m1', 'c3m2', 'c3f3', 'c10m8'\n",
    "post_animals_vHPC = '90','90_475','91','93_500','93_580','93_720','93_810','c3m1', 'c3m2', 'c3f3', 'c10m8'\n",
    "context_switch_animals_vHPC = '90','93_720','93_810','c3m1','c3m1_725','c3m2','c3m2_645','c3f3','c10m8'\n",
    "expo_animals_dHPC = 'dhpcg20','dhpc35','dhpc36'\n",
    "pre_animals_dHPC  = 'dhpcg20','dhpc35','dhpc36'\n",
    "post_animals_dHPC = 'dhpcg20','dhpc35','dhpc36','dhpc35_254'\n",
    "context_switch_animals_dHPC = 'dhpcg20','dhpcg20_200','dhpc35','dhpc36'\n",
    "\n",
    "post_animals_vHPC_2wayOnly = '90','90_475','91','93_500','93_580','93_720','93_810'\n",
    "context_switch_animals_vHPC_2wayOnly = '90','93_720','93_810'\n",
    "expo_animals_dHPC_2wayOnly = 'dhpc35','dhpc36'\n",
    "pre_animals_dHPC_2wayOnly  = 'dhpc35','dhpc36'\n",
    "post_animals_dHPC_2wayOnly = 'dhpc35','dhpc36','dhpc35_254'\n",
    "context_switch_animals_dHPC_2wayOnly = 'dhpc35','dhpc36'"
   ]
  },
  {
   "cell_type": "code",
   "execution_count": 11,
   "metadata": {
    "collapsed": true
   },
   "outputs": [],
   "source": [
    "sessions = 'expo','pre', 'post','context_switch'"
   ]
  },
  {
   "cell_type": "code",
   "execution_count": 12,
   "metadata": {
    "collapsed": false
   },
   "outputs": [],
   "source": [
    "for sess in sessions[1:]:\n",
    "    for reg in 'vHPC','dHPC':\n",
    "\n",
    "        exec(\"patterns_tb_%s_%s = dict(zip(%s_animals_%s, [ut.load_variable('patterns_tb',\\\n",
    "                                                           '../%%s/%s/notebooks/autorestore/decoding_around_onset/'%%ani)\\\n",
    "                                                  for ani in %s_animals_%s]))\"%(sess, reg, sess, reg, sess, sess, reg))\n",
    "        exec(\"labels_%s_%s = dict(zip(%s_animals_%s, [ut.load_variable('labels',\\\n",
    "                                                         '../%%s/%s/notebooks/autorestore/decoding_around_onset/'%%ani)\\\n",
    "                                                  for ani in %s_animals_%s]))\"%(sess, reg, sess, reg, sess, sess, reg))"
   ]
  },
  {
   "cell_type": "code",
   "execution_count": 34,
   "metadata": {
    "collapsed": true
   },
   "outputs": [],
   "source": [
    "for sess in 'post','context_switch':\n",
    "    for reg in ['vHPC']:\n",
    "\n",
    "        exec(\"patterns_tb_%s_%s_2wayOnly = dict(zip(%s_animals_%s_2wayOnly, [ut.load_variable('patterns_tb',\\\n",
    "                                                           '../%%s/%s/notebooks/autorestore/decoding_around_onset/'%%ani)\\\n",
    "                                                  for ani in %s_animals_%s_2wayOnly]))\"%(sess, reg, sess, reg, sess, sess, reg))"
   ]
  },
  {
   "cell_type": "code",
   "execution_count": 25,
   "metadata": {
    "collapsed": false
   },
   "outputs": [],
   "source": [
    "for sess in sessions[1:]:\n",
    "    for reg in ['dHPC']:\n",
    "\n",
    "        exec(\"patterns_tb_%s_%s_2wayOnly = dict(zip(%s_animals_%s_2wayOnly, [ut.load_variable('patterns_tb',\\\n",
    "                                                           '../%%s/%s/notebooks/autorestore/decoding_around_onset/'%%ani)\\\n",
    "                                                  for ani in %s_animals_%s_2wayOnly]))\"%(sess, reg, sess, reg, sess, sess, reg))"
   ]
  },
  {
   "cell_type": "code",
   "execution_count": 26,
   "metadata": {
    "collapsed": true
   },
   "outputs": [],
   "source": [
    "for sess in 'expo',:\n",
    "    for reg in 'vHPC','dHPC':\n",
    "\n",
    "        exec(\"patterns_tb_%s_%s = dict(zip(%s_animals_%s, [ut.load_variable('patterns_tb',\\\n",
    "                                                           '../%%s/4_odor_expo/notebooks/autorestore/decoding_around_onset/'%%ani)\\\n",
    "                                                  for ani in %s_animals_%s]))\"%(sess, reg, sess, reg, sess, reg))\n",
    "        exec(\"labels_%s_%s = dict(zip(%s_animals_%s, [ut.load_variable('labels',\\\n",
    "                                                         '../%%s/4_odor_expo/notebooks/autorestore/decoding_around_onset/'%%ani)\\\n",
    "                                                  for ani in %s_animals_%s]))\"%(sess, reg, sess, reg, sess, reg))"
   ]
  },
  {
   "cell_type": "code",
   "execution_count": 27,
   "metadata": {
    "collapsed": false
   },
   "outputs": [],
   "source": [
    "for sess in ['expo']:\n",
    "    for reg in ['dHPC']:\n",
    "\n",
    "        exec(\"patterns_tb_%s_%s_2wayOnly = dict(zip(%s_animals_%s_2wayOnly, [ut.load_variable('patterns_tb',\\\n",
    "                                                           '../%%s/4_odor_expo/notebooks/autorestore/decoding_around_onset/'%%ani)\\\n",
    "                                                  for ani in %s_animals_%s_2wayOnly]))\"%(sess, reg, sess, reg, sess, reg))"
   ]
  },
  {
   "cell_type": "code",
   "execution_count": 35,
   "metadata": {
    "collapsed": false
   },
   "outputs": [
    {
     "name": "stdout",
     "output_type": "stream",
     "text": [
      "total_vHPC_cells_expo:  332\n",
      "total vHPC cells pre:  271\n",
      "total vHPC cells post:  630\n",
      "total_vHPC_cells_context_switch:  526\n",
      "\n",
      "total vHPC cells post_2wayOnly:  351\n",
      "total_vHPC_cells_context_switch_2wayOnly:  147\n",
      "\n",
      "total_dHPC_cells_expo:  557\n",
      "total dHPC cells pre:  517\n",
      "total dHPC cells post:  550\n",
      "total_dHPC_cells_context_switch:  783\n",
      "\n",
      "total_dHPC_cells_expo_2wayOnly:  295\n",
      "total dHPC cells pre_2wayOnly:  291\n",
      "total dHPC cells post_2wayOnly:  339\n",
      "total_dHPC_cells_context_switch_2wayOnly:  295\n"
     ]
    }
   ],
   "source": [
    "total_cells_pre_vHPC = sum(len(patterns_tb_pre_vHPC[ani][0][0]) for ani in pre_animals_vHPC)\n",
    "total_cells_post_vHPC = sum(len(patterns_tb_post_vHPC[ani][0][0]) for ani in post_animals_vHPC)\n",
    "total_cells_expo_vHPC = sum(len(patterns_tb_expo_vHPC[ani][0][0]) for ani in expo_animals_vHPC)\n",
    "total_cells_context_switch_vHPC = sum(len(patterns_tb_context_switch_vHPC[ani][0][0]) for ani in context_switch_animals_vHPC)\n",
    "print 'total_vHPC_cells_expo: ' , total_cells_expo_vHPC\n",
    "print 'total vHPC cells pre: ',total_cells_pre_vHPC\n",
    "print 'total vHPC cells post: ',total_cells_post_vHPC\n",
    "print 'total_vHPC_cells_context_switch: ' , total_cells_context_switch_vHPC\n",
    "print ''\n",
    "total_cells_post_vHPC_2wayOnly = sum(len(patterns_tb_post_vHPC_2wayOnly[ani][0][0]) for ani in post_animals_vHPC_2wayOnly)\n",
    "total_cells_context_switch_vHPC_2wayOnly = sum(len(patterns_tb_context_switch_vHPC_2wayOnly[ani][0][0]) for ani in context_switch_animals_vHPC_2wayOnly)\n",
    "print 'total vHPC cells post_2wayOnly: ',total_cells_post_vHPC_2wayOnly\n",
    "print 'total_vHPC_cells_context_switch_2wayOnly: ' , total_cells_context_switch_vHPC_2wayOnly\n",
    "print ''\n",
    "total_cells_pre_dHPC = sum(len(patterns_tb_pre_dHPC[ani][0][0]) for ani in pre_animals_dHPC)\n",
    "total_cells_post_dHPC = sum(len(patterns_tb_post_dHPC[ani][0][0]) for ani in post_animals_dHPC)\n",
    "total_cells_expo_dHPC = sum(len(patterns_tb_expo_dHPC[ani][0][0]) for ani in expo_animals_dHPC)\n",
    "total_cells_context_switch_dHPC = sum(len(patterns_tb_context_switch_dHPC[ani][0][0]) for ani in context_switch_animals_dHPC)\n",
    "print 'total_dHPC_cells_expo: ' , total_cells_expo_dHPC\n",
    "print 'total dHPC cells pre: ',total_cells_pre_dHPC\n",
    "print 'total dHPC cells post: ',total_cells_post_dHPC\n",
    "print 'total_dHPC_cells_context_switch: ' , total_cells_context_switch_dHPC\n",
    "print ''\n",
    "total_cells_pre_dHPC_2wayOnly = sum(len(patterns_tb_pre_dHPC_2wayOnly[ani][0][0]) for ani in pre_animals_dHPC_2wayOnly)\n",
    "total_cells_post_dHPC_2wayOnly = sum(len(patterns_tb_post_dHPC_2wayOnly[ani][0][0]) for ani in post_animals_dHPC_2wayOnly)\n",
    "total_cells_expo_dHPC_2wayOnly = sum(len(patterns_tb_expo_dHPC_2wayOnly[ani][0][0]) for ani in expo_animals_dHPC_2wayOnly)\n",
    "total_cells_context_switch_dHPC_2wayOnly = sum(len(patterns_tb_context_switch_dHPC_2wayOnly[ani][0][0]) for ani in context_switch_animals_dHPC_2wayOnly)\n",
    "print 'total_dHPC_cells_expo_2wayOnly: ' , total_cells_expo_dHPC_2wayOnly\n",
    "print 'total dHPC cells pre_2wayOnly: ',total_cells_pre_dHPC_2wayOnly\n",
    "print 'total dHPC cells post_2wayOnly: ',total_cells_post_dHPC_2wayOnly\n",
    "print 'total_dHPC_cells_context_switch_2wayOnly: ' , total_cells_context_switch_dHPC_2wayOnly"
   ]
  },
  {
   "cell_type": "code",
   "execution_count": 36,
   "metadata": {
    "collapsed": false
   },
   "outputs": [
    {
     "name": "stdout",
     "output_type": "stream",
     "text": [
      "Could not store variable 'os'. Skipping...\n",
      "Could not store variable 'IPython'. Skipping...\n",
      "Could not store variable 'pt'. Skipping...\n",
      "Could not store variable 'sstats'. Skipping...\n",
      "Could not store variable 'pl'. Skipping...\n",
      "Could not store variable 'ut'. Skipping...\n",
      "Could not store variable 'pickle'. Skipping...\n",
      "Could not store variable 'ip'. Skipping...\n",
      "Could not store variable 'np'. Skipping...\n",
      "Could not store variable 'sys'. Skipping...\n"
     ]
    }
   ],
   "source": [
    "save_workspace(db)"
   ]
  },
  {
   "cell_type": "code",
   "execution_count": null,
   "metadata": {
    "collapsed": true
   },
   "outputs": [],
   "source": []
  }
 ],
 "metadata": {
  "anaconda-cloud": {},
  "kernelspec": {
   "display_name": "Python [default]",
   "language": "python",
   "name": "python2"
  },
  "language_info": {
   "codemirror_mode": {
    "name": "ipython",
    "version": 2
   },
   "file_extension": ".py",
   "mimetype": "text/x-python",
   "name": "python",
   "nbconvert_exporter": "python",
   "pygments_lexer": "ipython2",
   "version": "2.7.12"
  }
 },
 "nbformat": 4,
 "nbformat_minor": 2
}
