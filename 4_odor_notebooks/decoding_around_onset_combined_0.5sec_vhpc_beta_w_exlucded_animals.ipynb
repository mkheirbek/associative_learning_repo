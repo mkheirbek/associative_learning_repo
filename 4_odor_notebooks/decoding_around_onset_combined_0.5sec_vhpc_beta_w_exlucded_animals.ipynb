{
 "cells": [
  {
   "cell_type": "markdown",
   "metadata": {},
   "source": [
    "# Data from these animals are funky. NaN littered throughout some early tbs. No idea why, but don't trust as is"
   ]
  },
  {
   "cell_type": "markdown",
   "metadata": {},
   "source": [
    "### The function for correcting the timestamps between arduino and prairie view was incorrect. Fixed and reran preprocessing and things seem to be ok now"
   ]
  },
  {
   "cell_type": "code",
   "execution_count": 29,
   "metadata": {
    "collapsed": false
   },
   "outputs": [
    {
     "data": {
      "text/html": [
       "<script>jQuery(function() {if (jQuery(\"body.notebook_app\").length == 0) { jQuery(\".input_area\").toggle(); jQuery(\".prompt\").toggle();}});</script>"
      ]
     },
     "metadata": {},
     "output_type": "display_data"
    },
    {
     "data": {
      "text/html": [
       "<button onclick=\"jQuery('.input_area').toggle(); jQuery('.prompt').toggle();\">Toggle code</button>"
      ]
     },
     "metadata": {},
     "output_type": "display_data"
    }
   ],
   "source": [
    "### from IPython.display import display\n",
    "from IPython.display import HTML\n",
    "import IPython.core.display as di # Example: di.display_html('<h3>%s:</h3>' % str, raw=True)\n",
    "\n",
    "# This line will hide code by default when the notebook is exported as HTML\n",
    "di.display_html('<script>jQuery(function() {if (jQuery(\"body.notebook_app\").length == 0) { jQuery(\".input_area\").toggle(); jQuery(\".prompt\").toggle();}});</script>', raw=True)\n",
    "\n",
    "# This line will add a button to toggle visibility of code blocks, for use with the HTML export version\n",
    "di.display_html('''<button onclick=\"jQuery('.input_area').toggle(); jQuery('.prompt').toggle();\">Toggle code</button>''', raw=True)\n"
   ]
  },
  {
   "cell_type": "code",
   "execution_count": 30,
   "metadata": {
    "collapsed": true
   },
   "outputs": [],
   "source": [
    "# all modules necessary for this nb\n",
    "import os\n",
    "import sys\n",
    "import pickle\n",
    "\n",
    "import numpy as np\n",
    "import pylab as pl\n",
    "import scipy.stats as sstats\n",
    "\n",
    "# setting parameters for default matplotlib plots\n",
    "%matplotlib inline"
   ]
  },
  {
   "cell_type": "code",
   "execution_count": 31,
   "metadata": {
    "collapsed": false
   },
   "outputs": [],
   "source": [
    "pl.style.use('fabiostyle')\n",
    "# needs to find the library of functions\n",
    "sys.path.append('../../code/')  # to be replaced!\n",
    "\n",
    "import utils as ut\n",
    "import plots as pt"
   ]
  },
  {
   "cell_type": "code",
   "execution_count": 32,
   "metadata": {
    "collapsed": false
   },
   "outputs": [],
   "source": [
    "# %%javascript\n",
    "# var nb = IPython.notebook;\n",
    "# var kernel = IPython.notebook.kernel;\n",
    "# var command = \"NOTEBOOK_NAME = '\" + nb.base_url + nb.notebook_path + \"'\";\n",
    "# kernel.execute(command);"
   ]
  },
  {
   "cell_type": "code",
   "execution_count": 33,
   "metadata": {
    "collapsed": true
   },
   "outputs": [],
   "source": [
    "# NOTEBOOK_NAME = NOTEBOOK_NAME.split('/')[-1][:-6]\n",
    "NOTEBOOK_NAME = 'decoding_around_onset_combined_0.5sec_vhpc_beta_exlucded_animals'"
   ]
  },
  {
   "cell_type": "code",
   "execution_count": 34,
   "metadata": {
    "collapsed": false
   },
   "outputs": [],
   "source": [
    "from pickleshare import PickleShareDB\n",
    "\n",
    "autorestore_folder = os.path.join(os.getcwd(), 'autorestore', NOTEBOOK_NAME)\n",
    "db = PickleShareDB(autorestore_folder)\n",
    "import sys\n",
    "from workspace import *\n",
    "import IPython\n",
    "ip = IPython.get_ipython()\n",
    "\n",
    "# this will restore all the saved variables. ignore the errors listed.\n",
    "load_workspace(ip, db)\n",
    "\n",
    "# use `save_worspace(db)` to save variables at the end"
   ]
  },
  {
   "cell_type": "code",
   "execution_count": 35,
   "metadata": {
    "collapsed": true
   },
   "outputs": [],
   "source": [
    "from itertools import product\n",
    "def load_all_animals_vars(varname, animal_list, pilot_list=None, notebook='preprocessing'):\n",
    "    all_of_them = {}\n",
    "    for ani in animal_list:\n",
    "        folder = '../%s/notebooks/autorestore/%s/' % (ani, notebook)\n",
    "        all_of_them.update({ani: ut.load_variable(varname, folder)})\n",
    "    return all_of_them"
   ]
  },
  {
   "cell_type": "code",
   "execution_count": 36,
   "metadata": {
    "collapsed": false
   },
   "outputs": [],
   "source": [
    "post_animals = '90','90_475','91','93_500','93_580','93_720','93_810','c3m1', 'c3m2', 'c3f3', 'c10m6','c10m8'"
   ]
  },
  {
   "cell_type": "code",
   "execution_count": 37,
   "metadata": {
    "collapsed": true
   },
   "outputs": [],
   "source": [
    "sessions = 'post',"
   ]
  },
  {
   "cell_type": "code",
   "execution_count": 38,
   "metadata": {
    "collapsed": false
   },
   "outputs": [],
   "source": [
    "for sess in 'post',:\n",
    "\n",
    "    exec(\"patterns_tb_%s = dict(zip(%s_animals, [ut.load_variable('patterns_tb',\\\n",
    "                                                           '../%%s/%s/notebooks/autorestore/decoding_around_onset_0.5sec/'%%ani)\\\n",
    "                                                  for ani in %s_animals]))\"%(sess, sess, sess, sess))\n",
    "    exec(\"labels_%s = dict(zip(%s_animals, [ut.load_variable('labels',\\\n",
    "                                                         '../%%s/%s/notebooks/autorestore/decoding_around_onset_0.5sec/'%%ani)\\\n",
    "                                                  for ani in %s_animals]))\"%(sess, sess, sess, sess))"
   ]
  },
  {
   "cell_type": "code",
   "execution_count": 39,
   "metadata": {
    "collapsed": true
   },
   "outputs": [],
   "source": [
    "#from referenced notebook, 26 time bins total beginning at -4s prior to odor onset and running through 9s post onset\n",
    "\n",
    "#t_start0 = -4  # sec\n",
    "#t_stop0 = 10  # sec"
   ]
  },
  {
   "cell_type": "code",
   "execution_count": 40,
   "metadata": {
    "collapsed": true
   },
   "outputs": [
    {
     "name": "stdout",
     "output_type": "stream",
     "text": [
      "post 90 post 90_475 post 91 post 93_500 post 93_580 post 93_720 post 93_810 post c3m1 post c3m2 post c3f3 post c10m6 post c10m8 post 90 post 90_475 post 91 post 93_500 post 93_580 post 93_720 post 93_810 post c3m1 post c3m2 post c3f3 post c10m6 post c10m8 post 90 post 90_475 post 91 post 93_500 post 93_580 post 93_720 post 93_810 post c3m1 post c3m2 post c3f3 post c10m6 post c10m8 post 90 post 90_475 post 91 post 93_500 post 93_580 post 93_720 post 93_810 post c3m1 post c3m2 post c3f3 post c10m6 post c10m8 post 90 post 90_475 post 91 post 93_500 post 93_580 post 93_720 post 93_810 post c3m1 post c3m2 post c3f3 post c10m6 post c10m8 post 90 post 90_475 post 91 post 93_500 post 93_580 post 93_720 post 93_810 post c3m1 post c3m2 post c3f3 post c10m6 post c10m8 post 90 post 90_475 post 91 post 93_500 post 93_580 post 93_720 post 93_810 post c3m1 post c3m2 post c3f3 post c10m6 post c10m8 post 90 post 90_475 post 91 post 93_500 post 93_580 post 93_720 post 93_810 post c3m1 post c3m2 post c3f3 post c10m6 post c10m8 post 90 post 90_475 post 91 post 93_500 post 93_580 post 93_720 post 93_810 post c3m1 post c3m2 post c3f3 post c10m6 post c10m8 post 90 post 90_475 post 91 post 93_500 post 93_580 post 93_720 post 93_810 post c3m1 post c3m2 post c3f3 post c10m6 post c10m8 post 90 post 90_475 post 91 post 93_500 post 93_580 post 93_720 post 93_810 post c3m1 post c3m2 post c3f3 post c10m6 post c10m8 post 90 post 90_475 post 91 post 93_500 post 93_580 post 93_720 post 93_810 post c3m1 post c3m2 post c3f3 post c10m6 post c10m8 post 90 post 90_475 post 91 post 93_500 post 93_580 post 93_720 post 93_810 post c3m1 post c3m2 post c3f3 post c10m6 post c10m8 post 90 post 90_475 post 91 post 93_500 post 93_580 post 93_720 post 93_810 post c3m1 post c3m2 post c3f3 post c10m6 post c10m8 post 90 post 90_475 post 91 post 93_500 post 93_580 post 93_720 post 93_810 post c3m1 post c3m2 post c3f3 post c10m6 post c10m8 post 90 post 90_475 post 91 post 93_500 post 93_580 post 93_720 post 93_810 post c3m1 post c3m2 post c3f3 post c10m6 post c10m8 post 90 post 90_475 post 91 post 93_500 post 93_580 post 93_720 post 93_810 post c3m1 post c3m2 post c3f3 post c10m6 post c10m8 post 90 post 90_475 post 91 post 93_500 post 93_580 post 93_720 post 93_810 post c3m1 post c3m2 post c3f3 post c10m6 post c10m8 post 90 post 90_475 post 91 post 93_500 post 93_580 post 93_720 post 93_810 post c3m1 post c3m2 post c3f3 post c10m6 post c10m8 post 90 post 90_475 post 91 post 93_500 post 93_580 post 93_720 post 93_810 post c3m1 post c3m2 post c3f3 post c10m6 post c10m8 post 90 post 90_475 post 91 post 93_500 post 93_580 post 93_720 post 93_810 post c3m1 post c3m2 post c3f3 post c10m6 post c10m8 post 90 post 90_475 post 91 post 93_500 post 93_580 post 93_720 post 93_810 post c3m1 post c3m2 post c3f3 post c10m6 post c10m8 post 90 post 90_475 post 91 post 93_500 post 93_580 post 93_720 post 93_810 post c3m1 post c3m2 post c3f3 post c10m6 post c10m8 post 90 post 90_475 post 91 post 93_500 post 93_580 post 93_720 post 93_810 post c3m1 post c3m2 post c3f3 post c10m6 post c10m8 post 90 post 90_475 post 91 post 93_500 post 93_580 post 93_720 post 93_810 post c3m1 post c3m2 post c3f3 post c10m6 post c10m8 post 90 post 90_475 post 91 post 93_500 post 93_580 post 93_720 post 93_810 post c3m1 post c3m2 post c3f3 post c10m6 post c10m8\n"
     ]
    }
   ],
   "source": [
    "#create dict (w/ animals as keys) for each timebin/session combination\n",
    "for sess in sessions:\n",
    "    for t in range(0,26):\n",
    "        exec('patterns_tb_%s_%s = {}'%(t, sess))\n",
    "        for ani in eval('%s_animals'%sess):\n",
    "            try:\n",
    "                print sess,\n",
    "                print ani,\n",
    "                exec(\"patterns_tb_%s_%s['%s'] = patterns_tb_%s['%s'][%s]\"%(t,sess,ani,sess,ani,t))\n",
    "            except IOError as error:\n",
    "                print error\n",
    "            continue"
   ]
  },
  {
   "cell_type": "code",
   "execution_count": 41,
   "metadata": {
    "collapsed": false
   },
   "outputs": [],
   "source": [
    "import h5py\n",
    "\n",
    "def combine_train_test_patterns(patterns, labels, train_test_split=0.5, classes=None, n_cells=None,\n",
    "                                relabel=None, relabel_test=None):\n",
    "#     which_train = range(90)\n",
    "#     which_test = range(90)\n",
    "\n",
    "    if classes is None:\n",
    "        classes = [0, 1]\n",
    "\n",
    "    which_train = {}\n",
    "    which_test = {}\n",
    "    for ani in patterns.keys():\n",
    "        which_trains = []\n",
    "        which_tests = []\n",
    "        for l in classes:\n",
    "            if l>=0:\n",
    "                wt = np.random.permutation(np.where(labels[ani]==l)[0])\n",
    "                if train_test_split<1:\n",
    "                    wT = wt[:int(len(wt)*train_test_split)]\n",
    "                    which_trains.append(wt[int(len(wt)*train_test_split):])\n",
    "                    which_tests.append(wT)\n",
    "                else:\n",
    "                    which_trains.append(wt)\n",
    "        which_train[ani] = np.concatenate(which_trains)\n",
    "        if train_test_split<1:\n",
    "            which_test[ani] = np.concatenate(which_tests)\n",
    "    \n",
    "    patterns_t = patterns.copy()\n",
    "    labels_t = labels.copy()\n",
    "    for ani in patterns.keys():\n",
    "        patterns_t[ani] = patterns[ani][which_train[ani]]\n",
    "        labels_t[ani] = labels[ani][which_train[ani]]\n",
    "    patterns_comb_train, labels_comb_ = ut.combine_patterns(patterns_t, labels_t, classes=classes)\n",
    "        \n",
    "    if train_test_split<1:\n",
    "        patterns_T = patterns.copy()\n",
    "        labels_T = labels.copy()\n",
    "        for ani in patterns.keys():\n",
    "            patterns_T[ani] = patterns[ani][which_test[ani]]\n",
    "            labels_T[ani] = labels[ani][which_test[ani]]\n",
    "        patterns_comb_test, labels_comb_test_ = ut.combine_patterns(patterns_T, labels_T, classes=classes)\n",
    "    else:\n",
    "        patterns_comb_test = None\n",
    "    \n",
    "    if relabel is not None:\n",
    "        labels_comb = np.r_[[relabel[l] for l in labels_comb_]]\n",
    "    else:\n",
    "        labels_comb = labels_comb_\n",
    "    \n",
    "    if relabel_test is not None:\n",
    "        labels_comb_test = np.r_[[relabel_test[l] for l in labels_comb_test_]]\n",
    "    else:\n",
    "        if relabel is not None:\n",
    "            labels_comb_test = np.r_[[relabel[l] for l in labels_comb_test_]]\n",
    "        else:\n",
    "            labels_comb_test = labels_comb_test_\n",
    "    \n",
    "    \n",
    "    if n_cells is None:\n",
    "        which_cells = [True]*patterns_comb_train.shape[1]\n",
    "    else:\n",
    "        which_cells = np.random.permutation(range(patterns_comb_train.shape[1]))[:n_cells]\n",
    "     \n",
    "    patterns_comb_train = patterns_comb_train[:, which_cells]\n",
    "    patterns_comb_test = patterns_comb_test[:, which_cells] if train_test_split<1 else patterns_comb_test\n",
    "\n",
    "    return (patterns_comb_train[labels_comb>=0], labels_comb[labels_comb>=0],\n",
    "            patterns_comb_test[labels_comb_test>=0], labels_comb_test[labels_comb_test>=0])\n",
    "        \n",
    "\n",
    "def load_cellreg(animal, filename='pre_vs_post.mat', keys=['pre', 'post']):\n",
    "    with h5py.File('../%s/data/%s'%(animal, filename), 'r') as f:\n",
    "        g = np.r_[f['cell_registered_struct']['cell_to_index_map']]\n",
    "        cellreg_dict = {k:g[i][np.where(np.prod([gg>0 for gg in g], 0))[0]].astype(int)-1\n",
    "                        for i, k in enumerate(keys)}\n",
    "    return cellreg_dict\n"
   ]
  },
  {
   "cell_type": "code",
   "execution_count": 42,
   "metadata": {
    "collapsed": false
   },
   "outputs": [],
   "source": [
    "from sklearn.model_selection import KFold, LeaveOneOut\n",
    "from sklearn.svm import SVC\n",
    "\n",
    "def do_test_within_beta(patterns_train,patterns_test, labels_train, labels_test, relabel=None, n_cells=None):\n",
    "    \n",
    "    if relabel is not None:\n",
    "        labels_train = np.r_[[relabel[l] for l in labels_train]]\n",
    "        labels_test = np.r_[[relabel[l] for l in labels_test]]\n",
    "    else:\n",
    "        labels_train = labels_train\n",
    "        labels_test = labels_test\n",
    "    \n",
    "    if n_cells is None:\n",
    "        cells = list(range(patterns_train.shape[1]))\n",
    "    else:\n",
    "        cells = np.random.choice(range(patterns_train.shape[1]), size=n_cells, replace=False)\n",
    "    \n",
    "    decoder.fit(patterns_train[:, cells], labels_train)\n",
    "    scores = decoder.score(patterns_test[:, cells], labels_test)\n",
    "    decoder.fit(patterns_test[:, cells], labels_test)\n",
    "    return np.append(scores, decoder.score(patterns_train[:, cells], labels_train))"
   ]
  },
  {
   "cell_type": "code",
   "execution_count": 43,
   "metadata": {
    "collapsed": false
   },
   "outputs": [],
   "source": [
    "decoder = SVC(kernel='linear', decision_function_shape='ovo')"
   ]
  },
  {
   "cell_type": "code",
   "execution_count": 44,
   "metadata": {
    "collapsed": false
   },
   "outputs": [
    {
     "name": "stdout",
     "output_type": "stream",
     "text": [
      "post 0 post 1 post 2 post 3 post 4 post 5 post 6 post 7 post 8 post 9 post 10 post 11 post 12 post 13 post 14 post 15 post 16 post 17 post 18 post 19 post 20 post 21 post 22 post 23 post 24 post 25CPU times: user 3min 14s, sys: 108 ms, total: 3min 14s\n",
      "Wall time: 3min 14s\n",
      "\n"
     ]
    }
   ],
   "source": [
    "%%time\n",
    "#get train and test subsamples for each timebin, for each session\n",
    "for t in range(0,26):\n",
    "    for sess in sessions:\n",
    "        exec(\"x_%s_%s,y_%s_%s, xT_%s_%s, yT_%s_%s = combine_train_test_patterns(patterns_tb_%s_%s, labels_%s,\\\n",
    "        train_test_split=0.5, classes=range(1,5), n_cells=None, relabel=None, relabel_test=None)\"%(t,sess,t,sess,t,sess,t,sess,\n",
    "        t,sess,sess))\n",
    "        \n",
    "for t in range(26): # number of time bins\n",
    "    exec('scores_tb_%s_all = {}'%t)\n",
    "    n_loops = 30\n",
    "    for sess in sessions:\n",
    "        print sess,\n",
    "        print t,\n",
    "        eval(\"scores_tb_%s_all\"%t)[sess] = np.r_[[do_test_within_beta(eval('x_%s_%s'%(t,sess)), eval('xT_%s_%s'%(t,sess)), \n",
    "                            eval('y_%s_%s'%(t,sess)), eval('yT_%s_%s'%(t,sess)) ,relabel=None) for i in range(n_loops)]]\n",
    "        #exec(\"scores_tb_%s['%s'] = np.r_[[do_test_within_beta(x_%s_%s,xT_%s_%s, y_%s_%s, yT_%s_%s, relabel=relabel)]]\"%(t,sess,t,sess,t,sess,t,sess,t,sess))"
   ]
  },
  {
   "cell_type": "code",
   "execution_count": 45,
   "metadata": {
    "collapsed": false
   },
   "outputs": [
    {
     "name": "stdout",
     "output_type": "stream",
     "text": [
      "post 0 post 1 post 2 post 3 post 4 post 5 post 6 post 7 post 8 post 9 post 10 post 11 post 12 post 13 post 14 post 15 post 16 post 17 post 18 post 19 post 20 post 21 post 22 post 23 post 24 post 25\n"
     ]
    }
   ],
   "source": [
    "#get train and test subsamples for each timebin, for each session\n",
    "relabel = {1:0,2:1,3:-1,4:-1}\n",
    "for t in range(0,26):\n",
    "    for sess in sessions:\n",
    "        exec(\"x_%s_%s,y_%s_%s, xT_%s_%s, yT_%s_%s = combine_train_test_patterns(patterns_tb_%s_%s, labels_%s,\\\n",
    "        train_test_split=0.5, classes=range(1,5), n_cells=None, relabel=relabel, relabel_test=None)\"%(t,sess,t,sess,t,sess,t,sess,\n",
    "        t,sess,sess))\n",
    "\n",
    "#relabel = {1:0,2:1,3:-1,4:-1}\n",
    "for t in range(26): # number of time bins\n",
    "    exec('scores_tb_%s_CS1vsCS2 = {}'%t)\n",
    "    n_loops = 30\n",
    "    for sess in sessions:\n",
    "        print sess,\n",
    "        print t,\n",
    "        eval(\"scores_tb_%s_CS1vsCS2\"%t)[sess] = np.r_[[do_test_within_beta(eval('x_%s_%s'%(t,sess)), eval('xT_%s_%s'%(t,sess)), \n",
    "                            eval('y_%s_%s'%(t,sess)), eval('yT_%s_%s'%(t,sess)) ,relabel=None) for i in range(n_loops)]]\n",
    "        #exec(\"scores_tb_%s['%s'] = np.r_[[do_test_within_beta(x_%s_%s,xT_%s_%s, y_%s_%s, yT_%s_%s,\\\n",
    "        #relabel=relabel)]]\"%(t,sess,t,sess,t,sess,t,sess,t,sess))"
   ]
  },
  {
   "cell_type": "code",
   "execution_count": 46,
   "metadata": {
    "collapsed": false
   },
   "outputs": [
    {
     "name": "stdout",
     "output_type": "stream",
     "text": [
      "post 0 post 1 post 2 post 3 post 4 post 5 post 6 post 7 post 8 post 9 post 10 post 11 post 12 post 13 post 14 post 15 post 16 post 17 post 18 post 19 post 20 post 21 post 22 post 23 post 24 post 25CPU times: user 1min 54s, sys: 60 ms, total: 1min 54s\n",
      "Wall time: 1min 54s\n",
      "\n"
     ]
    }
   ],
   "source": [
    "%%time\n",
    "relabel = {1:0,2:0,3:1,4:1}\n",
    "for t in range(0,26):\n",
    "    for sess in sessions:\n",
    "        exec(\"x_%s_%s,y_%s_%s, xT_%s_%s, yT_%s_%s = combine_train_test_patterns(patterns_tb_%s_%s, labels_%s,\\\n",
    "        train_test_split=0.5, classes=range(1,5), n_cells=None, relabel=relabel, relabel_test=None)\"%(t,sess,t,sess,t,sess,t,sess,\n",
    "        t,sess,sess))\n",
    "\n",
    "#now recode labels to comapre specific trials. This is combining both CS+ odors vs both CS- odors\n",
    "#relabel = {1:0,2:0,3:1,4:1}\n",
    "for t in range(26): # number of time bins\n",
    "    exec('scores_tb_%s_CSPvsCSM = {}'%t)\n",
    "    n_loops = 30\n",
    "    for sess in sessions:\n",
    "        print sess,\n",
    "        print t,\n",
    "        eval(\"scores_tb_%s_CSPvsCSM\"%t)[sess] = np.r_[[do_test_within_beta(eval('x_%s_%s'%(t,sess)), eval('xT_%s_%s'%(t,sess)), \n",
    "                            eval('y_%s_%s'%(t,sess)), eval('yT_%s_%s'%(t,sess)) ,relabel=None) for i in range(n_loops)]]\n",
    "        #exec(\"scores_tb_%s['%s'] = np.r_[[do_test_within_beta(x_%s_%s,xT_%s_%s, y_%s_%s, yT_%s_%s, relabel=relabel)]]\"%(t,sess,t,sess,t,sess,t,sess,t,sess))"
   ]
  },
  {
   "cell_type": "code",
   "execution_count": 47,
   "metadata": {
    "collapsed": false
   },
   "outputs": [
    {
     "name": "stdout",
     "output_type": "stream",
     "text": [
      "post 0 post 1 post 2 post 3 post 4 post 5 post 6 post 7 post 8 post 9 post 10 post 11 post 12 post 13 post 14 post 15 post 16 post 17 post 18 post 19 post 20 post 21 post 22 post 23 post 24 post 25CPU times: user 35.9 s, sys: 40 ms, total: 36 s\n",
      "Wall time: 35.9 s\n",
      "\n"
     ]
    }
   ],
   "source": [
    "%%time\n",
    "relabel = {1:0,2:-1,3:1,4:-1}\n",
    "for t in range(0,26):\n",
    "    for sess in sessions:\n",
    "        exec(\"x_%s_%s,y_%s_%s, xT_%s_%s, yT_%s_%s = combine_train_test_patterns(patterns_tb_%s_%s, labels_%s,\\\n",
    "        train_test_split=0.5, classes=range(1,5), n_cells=None, relabel=relabel, relabel_test=None)\"%(t,sess,t,sess,t,sess,t,sess,\n",
    "        t,sess,sess))\n",
    "        \n",
    "for t in range(26): # number of time bins\n",
    "    exec('scores_tb_%s_CS1vsCS3 = {}'%t)\n",
    "    n_loops = 30\n",
    "    for sess in sessions:\n",
    "        print sess,\n",
    "        print t,\n",
    "        eval(\"scores_tb_%s_CS1vsCS3\"%t)[sess] = np.r_[[do_test_within_beta(eval('x_%s_%s'%(t,sess)), eval('xT_%s_%s'%(t,sess)), \n",
    "                            eval('y_%s_%s'%(t,sess)), eval('yT_%s_%s'%(t,sess)) ,relabel=None) for i in range(n_loops)]]\n",
    "        #exec(\"scores_tb_%s['%s'] = np.r_[[do_test_within_beta(x_%s_%s,xT_%s_%s, y_%s_%s, yT_%s_%s, relabel=relabel)]]\"%(t,sess,t,sess,t,sess,t,sess,t,sess))"
   ]
  },
  {
   "cell_type": "code",
   "execution_count": 48,
   "metadata": {
    "collapsed": false
   },
   "outputs": [
    {
     "name": "stdout",
     "output_type": "stream",
     "text": [
      "post 0 post 1 post 2 post 3 post 4 post 5 post 6 post 7 post 8 post 9 post 10 post 11 post 12 post 13 post 14 post 15 post 16 post 17 post 18 post 19 post 20 post 21 post 22 post 23 post 24 post 25CPU times: user 34.6 s, sys: 12 ms, total: 34.6 s\n",
      "Wall time: 34.6 s\n",
      "\n"
     ]
    }
   ],
   "source": [
    "%%time\n",
    "relabel = {1:0,2:-1,3:-1,4:1}\n",
    "for t in range(0,26):\n",
    "    for sess in sessions:\n",
    "        exec(\"x_%s_%s,y_%s_%s, xT_%s_%s, yT_%s_%s = combine_train_test_patterns(patterns_tb_%s_%s, labels_%s,\\\n",
    "        train_test_split=0.5, classes=range(1,5), n_cells=None, relabel=relabel, relabel_test=None)\"%(t,sess,t,sess,t,sess,t,sess,\n",
    "        t,sess,sess))\n",
    "        \n",
    "for t in range(26): # number of time bins\n",
    "    exec('scores_tb_%s_CS1vsCS4 = {}'%t)\n",
    "    n_loops = 30\n",
    "    for sess in sessions:\n",
    "        print sess,\n",
    "        print t,\n",
    "        eval(\"scores_tb_%s_CS1vsCS4\"%t)[sess] = np.r_[[do_test_within_beta(eval('x_%s_%s'%(t,sess)), eval('xT_%s_%s'%(t,sess)), \n",
    "                            eval('y_%s_%s'%(t,sess)), eval('yT_%s_%s'%(t,sess)) ,relabel=None) for i in range(n_loops)]]\n",
    "        #exec(\"scores_tb_%s['%s'] = np.r_[[do_test_within_beta(x_%s_%s,xT_%s_%s, y_%s_%s, yT_%s_%s, relabel=relabel)]]\"%(t,sess,t,sess,t,sess,t,sess,t,sess))"
   ]
  },
  {
   "cell_type": "code",
   "execution_count": 49,
   "metadata": {
    "collapsed": false
   },
   "outputs": [
    {
     "name": "stdout",
     "output_type": "stream",
     "text": [
      "post 0 post 1 post 2 post 3 post 4 post 5 post 6 post 7 post 8 post 9 post 10 post 11 post 12 post 13 post 14 post 15 post 16 post 17 post 18 post 19 post 20 post 21 post 22 post 23 post 24 post 25CPU times: user 35.3 s, sys: 20 ms, total: 35.3 s\n",
      "Wall time: 35.2 s\n",
      "\n"
     ]
    }
   ],
   "source": [
    "%%time\n",
    "relabel = {1:-1,2:0,3:1,4:-1}\n",
    "for t in range(0,26):\n",
    "    for sess in sessions:\n",
    "        exec(\"x_%s_%s,y_%s_%s, xT_%s_%s, yT_%s_%s = combine_train_test_patterns(patterns_tb_%s_%s, labels_%s,\\\n",
    "        train_test_split=0.5, classes=range(1,5), n_cells=None, relabel=relabel, relabel_test=None)\"%(t,sess,t,sess,t,sess,t,sess,\n",
    "        t,sess,sess))\n",
    "        \n",
    "for t in range(26): # number of time bins\n",
    "    exec('scores_tb_%s_CS2vsCS3 = {}'%t)\n",
    "    n_loops = 30\n",
    "    for sess in sessions:\n",
    "        print sess,\n",
    "        print t,\n",
    "        eval(\"scores_tb_%s_CS2vsCS3\"%t)[sess] = np.r_[[do_test_within_beta(eval('x_%s_%s'%(t,sess)), eval('xT_%s_%s'%(t,sess)), \n",
    "                            eval('y_%s_%s'%(t,sess)), eval('yT_%s_%s'%(t,sess)) ,relabel=None) for i in range(n_loops)]]\n",
    "        #exec(\"scores_tb_%s['%s'] = np.r_[[do_test_within_beta(x_%s_%s,xT_%s_%s, y_%s_%s, yT_%s_%s, relabel=relabel)]]\"%(t,sess,t,sess,t,sess,t,sess,t,sess))"
   ]
  },
  {
   "cell_type": "code",
   "execution_count": 50,
   "metadata": {
    "collapsed": false
   },
   "outputs": [
    {
     "name": "stdout",
     "output_type": "stream",
     "text": [
      "post 0 post 1 post 2 post 3 post 4 post 5 post 6 post 7 post 8 post 9 post 10 post 11 post 12 post 13 post 14 post 15 post 16 post 17 post 18 post 19 post 20 post 21 post 22 post 23 post 24 post 25CPU times: user 36.2 s, sys: 24 ms, total: 36.3 s\n",
      "Wall time: 36.2 s\n",
      "\n"
     ]
    }
   ],
   "source": [
    "%%time\n",
    "relabel = {1:-1,2:0,3:-1,4:1}\n",
    "for t in range(0,26):\n",
    "    for sess in sessions:\n",
    "        exec(\"x_%s_%s,y_%s_%s, xT_%s_%s, yT_%s_%s = combine_train_test_patterns(patterns_tb_%s_%s, labels_%s,\\\n",
    "        train_test_split=0.5, classes=range(1,5), n_cells=None, relabel=relabel, relabel_test=None)\"%(t,sess,t,sess,t,sess,t,sess,\n",
    "        t,sess,sess))\n",
    "        \n",
    "for t in range(26): # number of time bins\n",
    "    exec('scores_tb_%s_CS2vsCS4 = {}'%t)\n",
    "    n_loops = 30\n",
    "    for sess in sessions:\n",
    "        print sess,\n",
    "        print t,\n",
    "        eval(\"scores_tb_%s_CS2vsCS4\"%t)[sess] = np.r_[[do_test_within_beta(eval('x_%s_%s'%(t,sess)), eval('xT_%s_%s'%(t,sess)), \n",
    "                            eval('y_%s_%s'%(t,sess)), eval('yT_%s_%s'%(t,sess)) ,relabel=None) for i in range(n_loops)]]\n",
    "        #exec(\"scores_tb_%s['%s'] = np.r_[[do_test_within_beta(x_%s_%s,xT_%s_%s, y_%s_%s, yT_%s_%s, relabel=relabel)]]\"%(t,sess,t,sess,t,sess,t,sess,t,sess))"
   ]
  },
  {
   "cell_type": "code",
   "execution_count": 51,
   "metadata": {
    "collapsed": false
   },
   "outputs": [
    {
     "name": "stdout",
     "output_type": "stream",
     "text": [
      "post 0 post 1 post 2 post 3 post 4 post 5 post 6 post 7 post 8 post 9 post 10 post 11 post 12 post 13 post 14 post 15 post 16 post 17 post 18 post 19 post 20 post 21 post 22 post 23 post 24 post 25CPU times: user 36.9 s, sys: 16 ms, total: 36.9 s\n",
      "Wall time: 36.8 s\n",
      "\n"
     ]
    }
   ],
   "source": [
    "%%time\n",
    "relabel = {1:-1,2:-1,3:0,4:1}\n",
    "for t in range(0,26):\n",
    "    for sess in sessions:\n",
    "        exec(\"x_%s_%s,y_%s_%s, xT_%s_%s, yT_%s_%s = combine_train_test_patterns(patterns_tb_%s_%s, labels_%s,\\\n",
    "        train_test_split=0.5, classes=range(1,5), n_cells=None, relabel=relabel, relabel_test=None)\"%(t,sess,t,sess,t,sess,t,sess,\n",
    "        t,sess,sess))\n",
    "        \n",
    "for t in range(26): # number of time bins\n",
    "    exec('scores_tb_%s_CS3vsCS4 = {}'%t)\n",
    "    n_loops = 30\n",
    "    for sess in sessions:\n",
    "        print sess,\n",
    "        print t,\n",
    "        eval(\"scores_tb_%s_CS3vsCS4\"%t)[sess] = np.r_[[do_test_within_beta(eval('x_%s_%s'%(t,sess)), eval('xT_%s_%s'%(t,sess)), \n",
    "                            eval('y_%s_%s'%(t,sess)), eval('yT_%s_%s'%(t,sess)) ,relabel=None) for i in range(n_loops)]]\n",
    "        #exec(\"scores_tb_%s['%s'] = np.r_[[do_test_within_beta(x_%s_%s,xT_%s_%s, y_%s_%s, yT_%s_%s, relabel=relabel)]]\"%(t,sess,t,sess,t,sess,t,sess,t,sess))"
   ]
  },
  {
   "cell_type": "code",
   "execution_count": 55,
   "metadata": {
    "collapsed": false
   },
   "outputs": [
    {
     "data": {
      "image/png": "[encoded data removed]",
      "text/plain": [
       "<matplotlib.figure.Figure at 0x7f311c6d2a50>"
      ]
     },
     "metadata": {},
     "output_type": "display_data"
    }
   ],
   "source": [
    "fig, ax = pl.subplots(1,1, figsize=(2, 1.5))\n",
    "\n",
    "#t = np.arange(t_start0, t_stop0, delta_t0)\n",
    "# ax.fill_between(t+np.diff(t)[0]/2.,\n",
    "#                 (scores.mean(1) + np.std(scores, 1))*100,\n",
    "#                 (scores.mean(1) - np.std(scores, 1))*100,\n",
    "#                 lw=0, color='0.8')\n",
    "for t in range(26):\n",
    "    ax.plot((t/2.0)-3.75, np.mean(eval(\"scores_tb_%s_CSPvsCSM['post']\"%t))*100, 'o', color='red', ls='-',lw=.5, zorder=19 ,ms=1)\n",
    "    m = np.mean(eval(\"scores_tb_%s_CSPvsCSM['post']\"%t))*100\n",
    "    s = np.std(eval(\"scores_tb_%s_CSPvsCSM['post']\"%t))*100 / np.sqrt(eval(\"scores_tb_%s_CSPvsCSM['post']\"%t).shape[-1])\n",
    "    ax.errorbar((t/2.0)-3.75, m, s, lw=0, zorder=0, color= 'k', elinewidth=1)\n",
    "\n",
    "ax.set_ylim(0, 100)\n",
    "ax.set_xlim(-3.75, 9.25)\n",
    "ax.set_xticks(np.arange(-4,9, 2))\n",
    "ax.set_xticklabels(np.arange(-4,9, 2))\n",
    "ax.hlines(50, -6,11, color='k', lw=1, linestyles='dotted')\n",
    "ax.set_xlabel('Time from odor onset (s)')\n",
    "ax.set_ylabel('Performance %')\n",
    "pt.plot_period_bar(ax, 25, start_end=(0, 2), color='r', delta_y=3)\n",
    "pt.plot_period_bar(ax, 25, start_end=(4, 4.2), color='b', delta_y=3)\n",
    "ax.hlines(25+1, 2, 4, color='k', lw=0.5, linestyles='dotted')\n",
    "ax.set_title('Post, CS+ vs CS-')\n",
    "fig.tight_layout(pad=2.3)\n",
    "\n",
    "\n",
    "fig.savefig('../img/%s_CSPvsCSM.jpg'%NOTEBOOK_NAME)"
   ]
  },
  {
   "cell_type": "code",
   "execution_count": 56,
   "metadata": {
    "collapsed": false
   },
   "outputs": [
    {
     "data": {
      "image/png": "[encoded data removed]",
      "text/plain": [
       "<matplotlib.figure.Figure at 0x7f311c6d2550>"
      ]
     },
     "metadata": {},
     "output_type": "display_data"
    }
   ],
   "source": [
    "fig, ax = pl.subplots(1,1, figsize=(2, 1.5))\n",
    "\n",
    "#t = np.arange(t_start0, t_stop0, delta_t0)\n",
    "# ax.fill_between(t+np.diff(t)[0]/2.,\n",
    "#                 (scores.mean(1) + np.std(scores, 1))*100,\n",
    "#                 (scores.mean(1) - np.std(scores, 1))*100,\n",
    "#                 lw=0, color='0.8')\n",
    "for t in range(26):\n",
    "    ax.plot((t/2.0)-3.75, np.mean(eval(\"scores_tb_%s_CS1vsCS2['post']\"%t))*100, 'o', color='red', ls='-',lw=.5, zorder=19 ,ms=1)\n",
    "    m = np.mean(eval(\"scores_tb_%s_CS1vsCS2['post']\"%t))*100\n",
    "    s = np.std(eval(\"scores_tb_%s_CS1vsCS2['post']\"%t))*100 / np.sqrt(eval(\"scores_tb_%s_CS1vsCS2['post']\"%t).shape[-1])\n",
    "    ax.errorbar((t/2.0)-3.75, m, s, lw=0, zorder=0, color= 'k', elinewidth=1)\n",
    "\n",
    "ax.set_ylim(0, 100)\n",
    "ax.set_xlim(-4.25, 10.25)\n",
    "ax.set_xticks(np.arange(-4,9, 2))\n",
    "ax.set_xticklabels(np.arange(-4,9, 2))\n",
    "ax.hlines(50, -6,11, color='k', lw=1, linestyles='dotted')\n",
    "ax.set_xlabel('Time from odor onset (s)')\n",
    "ax.set_ylabel('Performance %')\n",
    "pt.plot_period_bar(ax, 25, start_end=(0, 2), color='r', delta_y=3)\n",
    "pt.plot_period_bar(ax, 25, start_end=(4, 4.2), color='b', delta_y=3)\n",
    "ax.hlines(25+1, 2, 4, color='k', lw=0.5, linestyles='dotted')\n",
    "ax.set_title('Post, CS1 vs CS2')\n",
    "fig.tight_layout(pad=2.3)\n",
    "\n",
    "\n",
    "fig.savefig('../img/%s_CS1vsCS2.jpg'%NOTEBOOK_NAME)"
   ]
  },
  {
   "cell_type": "code",
   "execution_count": 57,
   "metadata": {
    "collapsed": false
   },
   "outputs": [
    {
     "data": {
      "image/png": "[encoded data removed]",
      "text/plain": [
       "<matplotlib.figure.Figure at 0x7f30cc41c950>"
      ]
     },
     "metadata": {},
     "output_type": "display_data"
    }
   ],
   "source": [
    "fig, ax = pl.subplots(1,1, figsize=(2, 1.5))\n",
    "\n",
    "#t = np.arange(t_start0, t_stop0, delta_t0)\n",
    "# ax.fill_between(t+np.diff(t)[0]/2.,\n",
    "#                 (scores.mean(1) + np.std(scores, 1))*100,\n",
    "#                 (scores.mean(1) - np.std(scores, 1))*100,\n",
    "#                 lw=0, color='0.8')\n",
    "for t in range(26):    \n",
    "    ax.plot((t/2.0)-3.75, np.mean(eval(\"scores_tb_%s_CS1vsCS3['post']\"%t))*100, 'o', color='m', ls='-',lw=.5, zorder=19 ,ms=1)\n",
    "    m = np.mean(eval(\"scores_tb_%s_CS1vsCS3['post']\"%t))*100\n",
    "    s = np.std(eval(\"scores_tb_%s_CS1vsCS3['post']\"%t))*100 / np.sqrt(eval(\"scores_tb_%s_CS1vsCS3['post']\"%t).shape[-1])\n",
    "    #ax.errorbar((t/2.0)-3.75, m, s, lw=0, zorder=0, color= 'k', elinewidth=1)\n",
    "    ax.plot((t/2.0)-3.75, np.mean(eval(\"scores_tb_%s_CS1vsCS4['post']\"%t))*100, 'o', color='purple', ls='-',lw=.5, zorder=19 ,ms=1)\n",
    "    m = np.mean(eval(\"scores_tb_%s_CS1vsCS4['post']\"%t))*100\n",
    "    s = np.std(eval(\"scores_tb_%s_CS1vsCS4['post']\"%t))*100 / np.sqrt(eval(\"scores_tb_%s_CS1vsCS4['post']\"%t).shape[-1])\n",
    "    #ax.errorbar((t/2.0)-3.75, m, s, lw=0, zorder=0, color= 'k', elinewidth=1)\n",
    "    ax.plot((t/2.0)-3.75, np.mean(eval(\"scores_tb_%s_CS2vsCS3['post']\"%t))*100, 'o', color='pink', ls='-',lw=.5, zorder=19 ,ms=1)\n",
    "    m = np.mean(eval(\"scores_tb_%s_CS2vsCS3['post']\"%t))*100\n",
    "    s = np.std(eval(\"scores_tb_%s_CS2vsCS3['post']\"%t))*100 / np.sqrt(eval(\"scores_tb_%s_CS2vsCS3['post']\"%t).shape[-1])\n",
    "    #ax.errorbar((t/2.0)-3.75, m, s, lw=0, zorder=0, color= 'k', elinewidth=1)\n",
    "    ax.plot((t/2.0)-3.75, np.mean(eval(\"scores_tb_%s_CS2vsCS4['post']\"%t))*100, 'o', color='violet', ls='-',lw=.5, zorder=19 ,ms=1)\n",
    "    m = np.mean(eval(\"scores_tb_%s_CS2vsCS4['post']\"%t))*100\n",
    "    s = np.std(eval(\"scores_tb_%s_CS2vsCS4['post']\"%t))*100 / np.sqrt(eval(\"scores_tb_%s_CS2vsCS4['post']\"%t).shape[-1])\n",
    "    #ax.errorbar((t/2.0)-3.75, m, s, lw=0, zorder=0, color= 'k', elinewidth=1)\n",
    "    ax.plot((t/2.0)-3.75, np.mean(eval(\"scores_tb_%s_CS3vsCS4['post']\"%t))*100, 'o', color='r', ls='-',lw=.5, zorder=19 ,ms=1)\n",
    "    m = np.mean(eval(\"scores_tb_%s_CS3vsCS4['post']\"%t))*100\n",
    "    s = np.std(eval(\"scores_tb_%s_CS3vsCS4['post']\"%t))*100 / np.sqrt(eval(\"scores_tb_%s_CS3vsCS4['post']\"%t).shape[-1])\n",
    "    #ax.errorbar((t/2.0)-3.75, m, s, lw=0, zorder=0, color= 'k', elinewidth=1)\n",
    "    ax.plot((t/2.0)-3.75, np.mean(eval(\"scores_tb_%s_CS1vsCS2['post']\"%t))*100, 'o', color='k', ls='-',lw=.5, zorder=19 ,ms=1,\n",
    "              markersize=1.5)\n",
    "    m = np.mean(eval(\"scores_tb_%s_CS1vsCS2['post']\"%t))*100\n",
    "    s = np.std(eval(\"scores_tb_%s_CS1vsCS2['post']\"%t))*100 / np.sqrt(eval(\"scores_tb_%s_CS1vsCS2['post']\"%t).shape[-1])\n",
    "    #ax.errorbar((t/2.0)-3.75, m, s, lw=0, zorder=0, color= 'k', elinewidth=1)\n",
    "    \n",
    "ax.set_ylim(0, 100)\n",
    "ax.set_xlim(-3.75, 9.25)\n",
    "ax.set_xticks(np.arange(-4,9, 2))\n",
    "ax.set_xticklabels(np.arange(-4,9, 2))\n",
    "ax.hlines(50, -6,11, color='k', lw=1, linestyles='dotted')\n",
    "ax.set_xlabel('Time from odor onset (s)')\n",
    "ax.set_ylabel('Performance %')\n",
    "pt.plot_period_bar(ax, 25, start_end=(0, 2), color='r', delta_y=3)\n",
    "pt.plot_period_bar(ax, 25, start_end=(4, 4.2), color='b', delta_y=3)\n",
    "ax.hlines(25+1, 2, 4, color='k', lw=0.5, linestyles='dotted')\n",
    "ax.set_title('vHPC, Post')\n",
    "#leg = '1v3','1v4','2v3','2v4','3v4','1v2'\n",
    "#ax[0].legend(leg, loc='best')\n",
    "fig.tight_layout(pad=2.3)\n",
    "\n",
    "\n",
    "fig.savefig('../img/%s_all_combo.jpg'%NOTEBOOK_NAME)"
   ]
  },
  {
   "cell_type": "code",
   "execution_count": null,
   "metadata": {
    "collapsed": true
   },
   "outputs": [],
   "source": []
  },
  {
   "cell_type": "code",
   "execution_count": null,
   "metadata": {
    "collapsed": true
   },
   "outputs": [],
   "source": []
  },
  {
   "cell_type": "code",
   "execution_count": null,
   "metadata": {
    "collapsed": true
   },
   "outputs": [],
   "source": []
  },
  {
   "cell_type": "markdown",
   "metadata": {},
   "source": [
    "# Only got this far. Have not touched the below"
   ]
  },
  {
   "cell_type": "markdown",
   "metadata": {},
   "source": [
    "# Now for equalizing cell #s across all sess by using global min"
   ]
  },
  {
   "cell_type": "markdown",
   "metadata": {},
   "source": [
    "# And now for decoding across time bins!"
   ]
  },
  {
   "cell_type": "raw",
   "metadata": {
    "collapsed": true
   },
   "source": [
    "from sklearn.svm import SVC\n",
    "\n",
    "decoder = SVC(kernel='linear', decision_function_shape='ovo')\n",
    "def do_test_cross(patterns_t, labels_t, patterns_T, labels_T, n_cells=None):\n",
    "#     which_train = range(90)\n",
    "#     which_test = range(90)\n",
    "    patterns_comb_train, labels_comb = ut.combine_patterns(patterns_t, labels_t)\n",
    "    patterns_comb_test, labels_comb = ut.combine_patterns(patterns_T, labels_T)\n",
    "    if n_cells is None:\n",
    "        cells = list(range(patterns_comb_train.shape[1]))\n",
    "    else:\n",
    "        cells = np.random.choice(range(patterns_comb_train.shape[1]), size=n_cells, replace=False)\n",
    "    decoder.fit(patterns_comb_train[:, cells], labels_comb)\n",
    "    scores = decoder.score(patterns_comb_test[:, cells], labels_comb)\n",
    "    decoder.fit(patterns_comb_test[:, cells], labels_comb)\n",
    "    return np.append(scores, decoder.score(patterns_comb_train[:, cells], labels_comb))"
   ]
  },
  {
   "cell_type": "raw",
   "metadata": {
    "collapsed": true
   },
   "source": [
    "gmin = np.min((total_cells_pre_vHPC,total_cells_pre_dHPC, total_cells_post_vHPC,total_cells_post_dHPC,\n",
    "                total_cells_ext1_vHPC,total_cells_ext1_dHPC, total_cells_ext2_vHPC,total_cells_ext2_dHPC,\n",
    "                total_cells_renew_vHPC,total_cells_renew_dHPC, total_cells_expo_vHPC,total_cells_expo_dHPC))"
   ]
  },
  {
   "cell_type": "raw",
   "metadata": {
    "collapsed": false
   },
   "source": [
    "##THIS CELL TAKES ~ 17HRS TO COMPLETE\n",
    "#%%time\n",
    "#ncells=gmin\n",
    "#n_loops=100\n",
    "#for t in range (0,30):\n",
    "#    for c in range (0,30):\n",
    "#        exec('scores_gmin_tb_%s_VS_%s = {}'%(t,c))\n",
    "#        for sess in sessions:\n",
    "#            print sess,\n",
    "#            print t,\n",
    "#            print c,\n",
    "#            print \"...\",\n",
    "#            eval('scores_gmin_tb_%s_VS_%s'%(t,c))[sess] = np.r_[[do_test_cross(eval('patterns_tb_%s_%s'%(t,sess)),eval('labels_%s'%sess),\n",
    "#                                                                eval('patterns_tb_%s_%s'%(c,sess)),eval('labels_%s'%sess),n_cells=gmin) for i in range(n_loops)]]"
   ]
  },
  {
   "cell_type": "raw",
   "metadata": {
    "collapsed": true
   },
   "source": [
    "#for t in range (30):\n",
    "#    exec('testy%s = {}'%t)\n",
    "#for sess in sessions:\n",
    "#    for t in range (0,30):\n",
    "#        exec(\"testy%s['%s'] = []\"%(t,sess))\n",
    "#        for c in range (0,30):\n",
    "#            #print eval('testy%s'%t)[sess]\n",
    "#            eval('testy%s'%t)[sess].insert(c,(eval('scores_gmin_tb_%s_VS_%s'%(t,c))[sess].mean(1)).mean())"
   ]
  },
  {
   "cell_type": "raw",
   "metadata": {
    "collapsed": true
   },
   "source": [
    "#testy={}\n",
    "#for sess in sessions:\n",
    "#    testy[sess]=(testy0[sess], testy1[sess], testy2[sess], testy3[sess], testy4[sess], testy5[sess], testy6[sess], testy7[sess],\n",
    "#                 testy8[sess], testy9[sess], testy10[sess], testy11[sess], testy12[sess], testy13[sess], testy14[sess], testy15[sess],\n",
    "#                testy16[sess],testy17[sess],testy18[sess],testy19[sess],testy20[sess],testy21[sess],testy22[sess],testy23[sess],\n",
    "#                 testy24[sess],testy25[sess],testy26[sess],testy27[sess],testy28[sess],testy29[sess])\n",
    "#    np.array([testy[sess]])"
   ]
  },
  {
   "cell_type": "raw",
   "metadata": {
    "collapsed": false
   },
   "source": [
    "#fig, ax = pl.subplots(6, 1, figsize=(3, 15))#, sharex=True, sharey=True)\n",
    "#vmin=0.5\n",
    "#vmax=1\n",
    "#im = ax[0].imshow(testy['expo'],origin='lower', interpolation='nearest',vmin=vmin, vmax=vmax)\n",
    "#im = ax[1].imshow(testy['pre'],origin='lower', interpolation='nearest',vmin=vmin, vmax=vmax)\n",
    "#im = ax[2].imshow(testy['post'],origin='lower', interpolation='nearest',vmin=vmin, vmax=vmax)\n",
    "#im = ax[3].imshow(testy['ext1'],origin='lower', interpolation='nearest',vmin=vmin, vmax=vmax)\n",
    "#im = ax[4].imshow(testy['ext2'],origin='lower', interpolation='nearest',vmin=vmin, vmax=vmax)\n",
    "#im = ax[5].imshow(testy['renew'],origin='lower', interpolation='nearest',vmin=vmin,vmax=vmax)\n",
    "#\n",
    "#for x in range (0,6):\n",
    "#    ax[x].set_xticks(range(30))\n",
    "#    ax[x].set_yticks(range(30))\n",
    "#    ax[x].set_ylim(4.5, 29.5)\n",
    "#    ax[x].set_xlim(4.5, 29.5)\n",
    "#    ax[x].set_xticklabels(['-4.5\\nto\\n-4','-4','-3.5','-3','-2.5','-2','','-1','','0\\n(CS)','','1\\n(CS)','','2\\n(Tr)','','3\\n(Tr)',\n",
    "#                           '','4\\n(Rw)','', '5','','6','','7','','8','','9','','10'])\n",
    "#    ax[x].set_yticklabels(['-4.5\\nto\\n-4','-4','-3.5','-3','-2.5','-2','','-1','','(CS) 0','','(CS) 1','','(Tr) 2','','(Tr) 3',\n",
    "#                           '','(Rw) 4','', '5','','6','','7','','8','','9','','10'])\n",
    "#    ax[x].set_ylabel('Time(s) from CS onset', fontsize=5)\n",
    "#    ax[x].set_xlabel('0.5s time bins', fontsize=5)\n",
    "#\n",
    "#\n",
    "## axs[0].set_xticklabels(np.arange(len(np.unique(labels)))+1)\n",
    "## axs[0].set_yticklabels(np.arange(len(np.unique(labels)))+1)\n",
    "#\n",
    "#ax[0].set_title('Decoding Across Time Bins, Expo', fontsize=7, color='limegreen')\n",
    "#ax[1].set_title('Pre', fontsize=7, color='b')\n",
    "#ax[2].set_title('Post', fontsize=7, color='r')\n",
    "#ax[3].set_title('Ext1', fontsize=7, color='silver')\n",
    "#ax[4].set_title('Ext2', fontsize=7, color='grey')\n",
    "#ax[5].set_title('Reinstate', fontsize=7, color='y')\n",
    "#\n",
    "#cax = fig.add_axes([.85, 0.86, 0.05, 0.117])\n",
    "#fig.colorbar(im, cax=cax)\n",
    "#fig.tight_layout(pad=2.5)\n",
    "#fig.savefig('../img/%s_gmin_across_bins.jpg'%NOTEBOOK_NAME)"
   ]
  },
  {
   "cell_type": "raw",
   "metadata": {},
   "source": [
    "# now, use distinct trials for train and test for decoding across time bins"
   ]
  },
  {
   "cell_type": "raw",
   "metadata": {
    "collapsed": true
   },
   "source": [
    "#trying to use different trials for different time bins\n",
    "from sklearn.svm import SVC\n",
    "decoder = SVC(kernel='linear', decision_function_shape='ovo')\n",
    "\n",
    "def do_test_cross_distinct(patterns_t, labels_t, patterns_T, labels_T, n_cells=None):\n",
    "    which_train = {}\n",
    "    which_test = {}\n",
    "    for ani in patterns_t.keys():\n",
    "        which_train_a = np.random.permutation(np.where(labels_t[ani]==0)[0])\n",
    "        which_test_a = which_train_a[:len(which_train_a)/2]\n",
    "        which_train_a = which_train_a[len(which_train_a)/2:]\n",
    "        \n",
    "        which_train_b = np.random.permutation(np.where(labels_t[ani]==1)[0])\n",
    "        which_test_b = which_train_b[:len(which_train_b)/2]\n",
    "        which_train_b = which_train_b[len(which_train_b)/2:]\n",
    "        \n",
    "        which_train[ani] = np.concatenate((which_train_a, which_train_b))\n",
    "        which_test[ani] = np.concatenate((which_test_a, which_test_b))\n",
    "    patterns_dt = patterns_t.copy()\n",
    "    labels_dt = labels_t.copy()\n",
    "    patterns_dT = patterns_T.copy()\n",
    "    labels_dT = labels_T.copy()\n",
    "    for ani in patterns_t.keys():\n",
    "        patterns_dt[ani] = patterns_dt[ani][which_train[ani]]\n",
    "        labels_dt[ani] = labels_dt[ani][which_train[ani]]\n",
    "        patterns_dT[ani] = patterns_dT[ani][which_test[ani]]\n",
    "        labels_dT[ani] = labels_dT[ani][which_test[ani]]      \n",
    "        \n",
    "    patterns_comb_train, labels_comb = ut.combine_patterns(patterns_dt, labels_dt)\n",
    "    patterns_comb_test, labels_comb = ut.combine_patterns(patterns_dT, labels_dT)\n",
    "    \n",
    "    if n_cells is None:\n",
    "        cells = list(range(patterns_comb_train.shape[1]))\n",
    "    else:\n",
    "        cells = np.random.choice(range(patterns_comb_train.shape[1]), size=n_cells, replace=False)\n",
    "    \n",
    "    decoder.fit(patterns_comb_train[:, cells], labels_comb)\n",
    "    scores = decoder.score(patterns_comb_test[:, cells], labels_comb)\n",
    "    decoder.fit(patterns_comb_test[:, cells], labels_comb)\n",
    "    return np.append(scores, decoder.score(patterns_comb_train[:, cells], labels_comb))"
   ]
  },
  {
   "cell_type": "raw",
   "metadata": {
    "collapsed": false,
    "scrolled": true
   },
   "source": [
    "%%time\n",
    "ncells=gmin\n",
    "n_loops=100\n",
    "for t in range (30):\n",
    "    for c in range (30):\n",
    "        exec('scores_gmin_tb_distinct_%s_VS_%s = {}'%(t,c))\n",
    "        for sess in sessions:\n",
    "            print sess,t,c,\n",
    "            print' ',\n",
    "            eval('scores_gmin_tb_distinct_%s_VS_%s'%(t,c))[sess] = np.r_[[do_test_cross_distinct(eval('patterns_tb_%s_%s'%(t,sess)),eval('labels_%s'%sess),\n",
    "                                                                eval('patterns_tb_%s_%s'%(c,sess)),eval('labels_%s'%sess),n_cells=gmin) for i in range(n_loops)]]"
   ]
  },
  {
   "cell_type": "raw",
   "metadata": {
    "collapsed": true
   },
   "source": [
    "for t in range (30):\n",
    "    exec('distinct%s = {}'%t)\n",
    "for sess in sessions:\n",
    "    for t in range (30):\n",
    "        exec(\"distinct%s['%s'] = []\"%(t,sess))\n",
    "        for c in range (30):\n",
    "            #print eval('testy%s'%t)[sess]\n",
    "            eval('distinct%s'%t)[sess].insert(c,(eval('scores_gmin_tb_distinct_%s_VS_%s'%(t,c))[sess].mean(1)).mean())"
   ]
  },
  {
   "cell_type": "raw",
   "metadata": {
    "collapsed": true
   },
   "source": [
    "#and now replace cross-session decoding score with within-session score where test and train data are from the same time bin\n",
    "for sess in sessions:\n",
    "    for t in range (30):\n",
    "        eval('distinct%s'%t)[sess][t] = eval(\"scores_gmin_tb_%s\"%t)[sess].mean()"
   ]
  },
  {
   "cell_type": "raw",
   "metadata": {
    "collapsed": true
   },
   "source": [
    "distinct={}\n",
    "for sess in sessions:\n",
    "    distinct[sess]=(distinct0[sess], distinct1[sess], distinct2[sess], distinct3[sess], distinct4[sess], distinct5[sess], distinct6[sess], distinct7[sess],\n",
    "                 distinct8[sess], distinct9[sess], distinct10[sess], distinct11[sess], distinct12[sess], distinct13[sess], distinct14[sess], distinct15[sess],\n",
    "                distinct16[sess],distinct17[sess],distinct18[sess],distinct19[sess],distinct20[sess],distinct21[sess],distinct22[sess],distinct23[sess],\n",
    "                 distinct24[sess],distinct25[sess],distinct26[sess],distinct27[sess],distinct28[sess],distinct29[sess])\n",
    "    np.array([distinct[sess]])"
   ]
  },
  {
   "cell_type": "raw",
   "metadata": {
    "collapsed": false,
    "scrolled": true
   },
   "source": [
    "fig, ax = pl.subplots(6, 1, figsize=(3, 15))#, sharex=True, sharey=True)\n",
    "vmin=0.5\n",
    "vmax=1\n",
    "im = ax[0].imshow(distinct['expo'],origin='lower', interpolation='nearest', vmin=vmin, vmax=vmax)\n",
    "im = ax[1].imshow(distinct['pre'],origin='lower', interpolation='nearest', vmin=vmin, vmax=vmax)\n",
    "im = ax[2].imshow(distinct['post'],origin='lower', interpolation='nearest', vmin=vmin, vmax=vmax)\n",
    "im = ax[3].imshow(distinct['ext1'],origin='lower', interpolation='nearest', vmin=vmin, vmax=vmax)\n",
    "im = ax[4].imshow(distinct['ext2'],origin='lower', interpolation='nearest', vmin=vmin, vmax=vmax)\n",
    "im = ax[5].imshow(distinct['renew'],origin='lower', interpolation='nearest', vmin=vmin, vmax=vmax)\n",
    "\n",
    "for x in range (0,6):\n",
    "    ax[x].set_xticks(range(30))\n",
    "    ax[x].set_yticks(range(30))\n",
    "    ax[x].set_ylim(4.5, 29.5)\n",
    "    ax[x].set_xlim(4.5, 29.5)\n",
    "    ax[x].set_xticklabels(['-4.5\\nto\\n-4','-4','-3.5','-3','-2.5','-2','','-1','','0\\n(CS)','','1\\n(CS)','','2\\n(Tr)','','3\\n(Tr)',\n",
    "                           '','4\\n(Rw)','', '5','','6','','7','','8','','9','','10'])\n",
    "    ax[x].set_yticklabels(['-4.5\\nto\\n-4','-4','-3.5','-3','-2.5','-2','','-1','','(CS) 0','','(CS) 1','','(Tr) 2','','(Tr) 3',\n",
    "                           '','(Rw) 4','', '5','','6','','7','','8','','9','','10'])\n",
    "    ax[x].set_ylabel('Time(s) from CS onset', fontsize=5)\n",
    "    ax[x].set_xlabel('0.5s time bins', fontsize=5)\n",
    "\n",
    "\n",
    "# axs[0].set_xticklabels(np.arange(len(np.unique(labels)))+1)\n",
    "# axs[0].set_yticklabels(np.arange(len(np.unique(labels)))+1)\n",
    "\n",
    "ax[0].set_title('vHPC Decoding Across Time Bins\\nExpo', fontsize=7, color='limegreen')\n",
    "ax[1].set_title('Pre', fontsize=7, color='b')\n",
    "ax[2].set_title('Post', fontsize=7, color='r')\n",
    "ax[3].set_title('Ext1', fontsize=7, color='silver')\n",
    "ax[4].set_title('Ext2', fontsize=7, color='grey')\n",
    "ax[5].set_title('Reinstate', fontsize=7, color='y')\n",
    "\n",
    "cax = fig.add_axes([.82, 0.854, 0.05, 0.117])\n",
    "fig.colorbar(im, cax=cax)\n",
    "fig.tight_layout(pad=2.5)\n",
    "fig.savefig('../img/%s_gmin_across_bins_distinct.jpg'%NOTEBOOK_NAME)"
   ]
  },
  {
   "cell_type": "code",
   "execution_count": 58,
   "metadata": {
    "collapsed": false
   },
   "outputs": [
    {
     "name": "stdout",
     "output_type": "stream",
     "text": [
      "Could not store variable 'di'. Skipping...\n",
      "Could not store variable 'IPython'. Skipping...\n",
      "Could not store variable 'pt'. Skipping...\n",
      "Could not store variable 'sstats'. Skipping...\n",
      "Could not store variable 'pl'. Skipping...\n",
      "Could not store variable 'pickle'. Skipping...\n",
      "Could not store variable 'ip'. Skipping...\n",
      "Could not store variable 'sys'. Skipping...\n",
      "Could not store variable 'h5py'. Skipping...\n",
      "Could not store variable 'os'. Skipping...\n",
      "Could not store variable 'ut'. Skipping...\n",
      "Could not store variable 'np'. Skipping...\n"
     ]
    }
   ],
   "source": [
    "save_workspace(db)"
   ]
  },
  {
   "cell_type": "code",
   "execution_count": null,
   "metadata": {
    "collapsed": true
   },
   "outputs": [],
   "source": []
  }
 ],
 "metadata": {
  "anaconda-cloud": {},
  "kernelspec": {
   "display_name": "Python [default]",
   "language": "python",
   "name": "python2"
  },
  "language_info": {
   "codemirror_mode": {
    "name": "ipython",
    "version": 2
   },
   "file_extension": ".py",
   "mimetype": "text/x-python",
   "name": "python",
   "nbconvert_exporter": "python",
   "pygments_lexer": "ipython2",
   "version": "2.7.12"
  }
 },
 "nbformat": 4,
 "nbformat_minor": 2
}
