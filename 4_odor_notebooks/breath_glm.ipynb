{
 "cells": [
  {
   "cell_type": "code",
   "execution_count": 231,
   "metadata": {
    "collapsed": true
   },
   "outputs": [],
   "source": [
    "# all modules necessary for this nb\n",
    "import os\n",
    "import sys\n",
    "import pickle\n",
    "from collections import Counter\n",
    "\n",
    "import numpy as np\n",
    "import pylab as pl\n",
    "import scipy.stats as sstats\n",
    "import pandas as pd\n",
    "\n",
    "from scipy.io import savemat\n",
    "import random\n",
    "\n",
    "# setting parameters for default matplotlib plots\n",
    "%matplotlib inline"
   ]
  },
  {
   "cell_type": "code",
   "execution_count": 232,
   "metadata": {
    "collapsed": true
   },
   "outputs": [],
   "source": [
    "pl.style.use('fabiostyle')"
   ]
  },
  {
   "cell_type": "code",
   "execution_count": 233,
   "metadata": {
    "collapsed": false,
    "nbpresent": {
     "id": "74d6493e-cf63-4efb-8856-1394244ac4d5"
    }
   },
   "outputs": [],
   "source": [
    "# needs to find the library of functions\n",
    "sys.path.append('../../code/')  # to be replaced!\n",
    "\n",
    "import utils as ut\n",
    "import plots as pt"
   ]
  },
  {
   "cell_type": "code",
   "execution_count": 234,
   "metadata": {
    "collapsed": false,
    "nbpresent": {
     "id": "6b878791-4155-40ef-82ee-10e123c8f1d8"
    }
   },
   "outputs": [],
   "source": [
    "NOTEBOOK_NAME = 'breath_glm'"
   ]
  },
  {
   "cell_type": "code",
   "execution_count": 235,
   "metadata": {
    "collapsed": false,
    "nbpresent": {
     "id": "dd42cd63-cf61-43ef-aca1-72f72cc9da73"
    }
   },
   "outputs": [
    {
     "name": "stdout",
     "output_type": "stream",
     "text": [
      "Unable to restore variable 'r2_vals.mat', ignoring (use %store -d to forget!)\n",
      "('The error was:', <type 'exceptions.KeyError'>)\n"
     ]
    }
   ],
   "source": [
    "from pickleshare import PickleShareDB\n",
    "\n",
    "autorestore_folder = os.path.join(os.getcwd(), 'autorestore', NOTEBOOK_NAME)\n",
    "db = PickleShareDB(autorestore_folder)\n",
    "import sys\n",
    "from workspace import *\n",
    "import IPython\n",
    "ip = IPython.get_ipython()\n",
    "\n",
    "# this will restore all the saved variables. ignore the errors listed.\n",
    "load_workspace(ip, db)\n",
    "\n",
    "# use `save_worspace(db)` to save variables at the end"
   ]
  },
  {
   "cell_type": "code",
   "execution_count": 236,
   "metadata": {
    "collapsed": false
   },
   "outputs": [
    {
     "name": "stdout",
     "output_type": "stream",
     "text": [
      "('c18m9', 'vNAc7', '94', '96', '100', '98', '99', '104', 'dhpc40', 'dhpc37', 'dhpc39', 'dNAc3', 'dNAc4')\n"
     ]
    }
   ],
   "source": [
    "#post data only\n",
    "vhpc_animals = 'c18m9','vNAc7','94', '96', '100', '98', '99', '104'\n",
    "vhpc_post_animals = '94', '96', '98', '99', '100', '104', 'c18m9', 'vNAc7'\n",
    "\n",
    "dhpc_animals = 'dhpc40','dhpc37', 'dhpc39', 'dNAc3','dNAc4'\n",
    "dhpc_post_animals = 'dhpc37', 'dhpc39', 'dhpc40', 'dNAc3', 'dNAc4'\n",
    "\n",
    "\n",
    "all_animals = vhpc_animals + dhpc_animals\n",
    "print all_animals"
   ]
  },
  {
   "cell_type": "code",
   "execution_count": 237,
   "metadata": {
    "collapsed": false
   },
   "outputs": [],
   "source": [
    "from sklearn.model_selection import train_test_split\n",
    "from sklearn import linear_model"
   ]
  },
  {
   "cell_type": "markdown",
   "metadata": {},
   "source": [
    "# Single animal"
   ]
  },
  {
   "cell_type": "markdown",
   "metadata": {},
   "source": [
    "#   so I need to take for each cell a matrix of every trial animal x cell_count x trial x time_bin (baseline, odor 0-1, 1-2, 3-4)"
   ]
  },
  {
   "cell_type": "markdown",
   "metadata": {},
   "source": [
    "#   so I need to take for each cell a matrix of every trial animal x behavior_var trial x time_bin (baseline, odor 0-1, 1-2, 3-4)\n",
    "# these are lick_count, resp_rate_avg, trial type, odor ID"
   ]
  },
  {
   "cell_type": "code",
   "execution_count": 238,
   "metadata": {
    "collapsed": false
   },
   "outputs": [],
   "source": [
    "sessions = ['post']\n",
    "bins = ['baseline','odor1','odor2','trace']\n",
    "delta_t0 = 1\n",
    "t_start0 = -5  # sec\n",
    "t_stop0 = 11  # sec"
   ]
  },
  {
   "cell_type": "code",
   "execution_count": 239,
   "metadata": {
    "collapsed": false
   },
   "outputs": [
    {
     "data": {
      "text/plain": [
       "282"
      ]
     },
     "execution_count": 239,
     "metadata": {},
     "output_type": "execute_result"
    }
   ],
   "source": [
    "cell_count_vhpc"
   ]
  },
  {
   "cell_type": "code",
   "execution_count": 240,
   "metadata": {
    "collapsed": true
   },
   "outputs": [],
   "source": [
    "cell_count_vhpc = 0\n",
    "cell_count_dhpc = 0\n",
    "\n",
    "for animal in vhpc_animals:\n",
    "\n",
    "    for var in 'time_ax', 'traces', 'events', 'cycles','is_STIM1t', 'is_STIM2t', 'is_STIM3t','is_STIM4t','rewards','licks','CYCLE_START','CS_DURATION','DELAY','US_START', 'STIM1_ons','STIM2_ons','STIM3_ons','STIM4_ons':\n",
    "        exec(\"%s = ut.load_variable('%s', '../%s/post/notebooks/autorestore/preprocessing')\"%(var, var, animal))\n",
    "    patterns_evs = np.r_[[ut.extract_activity(time_ax,events, cycles, CYCLE_START,1, 2, offset=t_start0)]]\n",
    "    \n",
    "        \n",
    "    cell_count_vhpc = cell_count_vhpc + len(patterns_evs[0][0])\n",
    "\n",
    "for animal in dhpc_animals:\n",
    "\n",
    "    for var in 'time_ax', 'traces', 'events', 'cycles','is_STIM1t', 'is_STIM2t', 'is_STIM3t','is_STIM4t','rewards','licks','CYCLE_START','CS_DURATION','DELAY','US_START', 'STIM1_ons','STIM2_ons','STIM3_ons','STIM4_ons':\n",
    "        exec(\"%s = ut.load_variable('%s', '../%s/post/notebooks/autorestore/preprocessing')\"%(var, var, animal))\n",
    "    patterns_evs = np.r_[[ut.extract_activity(time_ax,events, cycles, CYCLE_START,1, 2, offset=t_start0)]]\n",
    "    \n",
    "        \n",
    "    cell_count_dhpc = cell_count_dhpc + len(patterns_evs[0][0])"
   ]
  },
  {
   "cell_type": "code",
   "execution_count": 241,
   "metadata": {
    "collapsed": true
   },
   "outputs": [],
   "source": [
    "for bi in bins:\n",
    "    exec(\"ev_dhpc_%s = np.zeros(cell_count_dhpc*120)\"%(bi))\n",
    "    exec(\"var_dhpc_%s = np.zeros((cell_count_dhpc*120,4))\"%(bi))\n",
    "\n",
    "    exec(\"ev_vhpc_%s = np.zeros(cell_count_vhpc*120)\"%(bi))\n",
    "    exec(\"var_vhpc_%s = np.zeros((cell_count_vhpc*120,4))\"%(bi))"
   ]
  },
  {
   "cell_type": "code",
   "execution_count": 242,
   "metadata": {
    "collapsed": false
   },
   "outputs": [
    {
     "name": "stdout",
     "output_type": "stream",
     "text": [
      "7740\n",
      "7740\n"
     ]
    }
   ],
   "source": [
    "print(len(time_ax))\n",
    "print(len(resp_rate))"
   ]
  },
  {
   "cell_type": "code",
   "execution_count": 253,
   "metadata": {
    "collapsed": false
   },
   "outputs": [],
   "source": [
    "def extract_resp_rate(time_ax, resp_rate, cycles, CYCLE_START, STIM_START, STIM_END):\n",
    "    n_tim = len(cycles)\n",
    "    patterns = np.zeros(n_tim)\n",
    "    for i, (s, e) in enumerate(cycles):\n",
    "        time_filter = ((time_ax>=(s-CYCLE_START+STIM_START)) * (time_ax<(s-CYCLE_START+STIM_END)))\n",
    "        patterns[i] = resp_rate[time_filter].mean(0)\n",
    "    #patterns = patterns.reshape(len(cycles), -1)\n",
    "    # patterns = patterns[:, which_cells]\n",
    "    \n",
    "    return patterns"
   ]
  },
  {
   "cell_type": "code",
   "execution_count": 259,
   "metadata": {
    "collapsed": false
   },
   "outputs": [
    {
     "name": "stdout",
     "output_type": "stream",
     "text": [
      "[ 0.        0.        0.        0.        0.        0.        0.        0.\n",
      "  0.        0.        0.        0.        0.        0.49625   0.57955   0.\n",
      "  0.        0.        0.        0.        0.        0.        0.        0.\n",
      "  0.730175  0.        0.        0.        0.        0.        0.        1.7602\n",
      "  0.        0.        0.        0.        0.        0.        0.        0.\n",
      "  0.        0.591     0.98475   0.        0.        0.        0.        0.\n",
      "  0.        0.        0.        0.        0.        0.        0.        0.\n",
      "  0.        0.        0.        0.        0.        0.        0.        0.\n",
      "  3.073175  0.        0.        0.        0.        0.        0.645     0.\n",
      "  0.        0.        0.        0.        0.        0.        0.        0.\n",
      "  0.        0.        0.518875  0.        0.        0.        0.87415   0.\n",
      "  0.        0.        0.        0.        0.        0.52885   0.        0.\n",
      "  0.        0.        0.        0.        0.        0.        0.        0.\n",
      "  1.204525  0.        0.        0.        0.72955   0.        0.        0.\n",
      "  0.        0.        0.        1.219175  0.        0.        0.        0.      ]\n",
      "[ 0.        0.        0.        0.        0.72955   0.        0.        0.\n",
      "  0.        0.        0.        0.        0.591     0.        0.        0.\n",
      "  0.        0.        0.57955   0.        0.        0.        0.        0.\n",
      "  0.        0.        0.        0.        0.        0.        0.        0.\n",
      "  0.        0.        0.        0.        0.        0.        0.        0.\n",
      "  0.        0.        3.073175  0.        0.        0.        0.        0.\n",
      "  0.        0.        0.        0.        1.219175  0.        0.        0.\n",
      "  0.52885   0.        0.        0.        0.        0.        0.        0.\n",
      "  0.        0.        0.        0.        0.87415   0.        1.7602    0.\n",
      "  0.        0.        0.        0.645     0.        0.        0.        0.\n",
      "  0.        0.        0.        0.518875  0.        0.        0.        0.\n",
      "  0.        0.49625   0.        0.        0.        0.        1.204525  0.\n",
      "  0.        0.        0.        0.        0.730175  0.        0.        0.\n",
      "  0.        0.        0.        0.        0.        0.        0.        0.\n",
      "  0.98475   0.        0.        0.        0.        0.        0.      ]\n"
     ]
    }
   ],
   "source": [
    "arr_temp = patterns_evs_baseline[0]\n",
    "print(arr_temp)\n",
    "random.shuffle(arr_temp)\n",
    "ev_vhpc_baseline[0:120] = arr_temp\n",
    "print(ev_vhpc_baseline[0:119])"
   ]
  },
  {
   "cell_type": "code",
   "execution_count": 262,
   "metadata": {
    "collapsed": false
   },
   "outputs": [
    {
     "name": "stdout",
     "output_type": "stream",
     "text": [
      "(2, 3, 4, 1)\n",
      "(6, 7, 8, 5)\n",
      "(10, 11, 12, 9)\n",
      "(14, 15, 16, 13)\n"
     ]
    }
   ],
   "source": [
    "e = list(zip(a, b,c,d))\n",
    "\n",
    "random.shuffle(e)\n",
    "\n",
    "a, b, c, d = zip(*e)"
   ]
  },
  {
   "cell_type": "code",
   "execution_count": 263,
   "metadata": {
    "collapsed": false
   },
   "outputs": [],
   "source": [
    "run_cell_tot = 0\n",
    "\n",
    "for animal in vhpc_animals:\n",
    "\n",
    "    for var in 'time_ax', 'traces', 'events', 'cycles','is_STIM1t', 'is_STIM2t', 'is_STIM3t','is_STIM4t','rewards','licks','CYCLE_START','CS_DURATION','DELAY','US_START', 'STIM1_ons','STIM2_ons','STIM3_ons','STIM4_ons':\n",
    "        exec(\"%s = ut.load_variable('%s', '../%s/post/notebooks/autorestore/preprocessing')\"%(var, var, animal))\n",
    "    for var in 'resp_rate', 'time_ax_val_n', 'csp_ons', 'csm_ons' :\n",
    "        exec(\"%s = ut.load_variable('%s', '../%s/post/notebooks/autorestore/breathing')\"%(var, var, animal))\n",
    "    \n",
    "#Cycle00001_VoltageRecording_001.csv\n",
    "   \n",
    "#1sec time bins\n",
    "\n",
    "\n",
    "    od_labels = ((np.r_[is_STIM1t]*1)+(np.r_[is_STIM2t]*2)+(np.r_[is_STIM3t]*3)+(np.r_[is_STIM4t]*4))\n",
    "    out_labels = ((np.r_[is_STIM1t]*1)+(np.r_[is_STIM2t]*1)+(np.r_[is_STIM3t]*2)+(np.r_[is_STIM4t]*2))\n",
    "\n",
    "    for sess in sessions:\n",
    "        for bi in bins:\n",
    "            if bi == 'baseline':\n",
    "                exec(\"patterns_evs_%s = np.r_[[ut.extract_activity(time_ax,events, cycles,\\\n",
    "                                           CYCLE_START,1, 2, offset=t_start0)]]\"%(bi))\n",
    "                exec(\"patterns_evs_%s = patterns_evs_%s.reshape(len(patterns_evs_%s[0][0]),-1)\"%(bi,bi,bi))\n",
    "                exec(\"licks_%s = np.r_[[ut.compute_licks_during(licks, cycles,start=1, end=2)]]\"%(bi))\n",
    "                exec(\"resps_%s = extract_resp_rate(time_ax,resp_rate,cycles,CYCLE_START, 1,2)\"%(bi))\n",
    "\n",
    "                \n",
    "                for i in range(len(patterns_evs_baseline)):\n",
    "                    if i == 0:\n",
    "                        exec(\"a = patterns_evs_%s[i]\"%(bi,))\n",
    "                        exec(\"b = licks_%s[0]\"%(bi,))\n",
    "                        exec(\"c = resps_%s\"%(bi,))\n",
    "                        d = od_labels\n",
    "                        e = out_labels\n",
    "                        f = list(zip(a,b,c,d,e))\n",
    "                        random.shuffle(f)\n",
    "                        a,b,c,d,e = zip(*f)\n",
    "                        exec(\"ev_vhpc_%s[i+run_cell_tot*120:120+run_cell_tot*120] = a\"%(bi))\n",
    "                        exec(\"var_vhpc_%s[i+run_cell_tot*120:120+run_cell_tot*120,0] = b\"%(bi))\n",
    "                        exec(\"var_vhpc_%s[i+run_cell_tot*120:120+run_cell_tot*120,1] = c\"%(bi))\n",
    "                        exec(\"var_vhpc_%s[i+run_cell_tot*120:120+run_cell_tot*120,2] = d\"%(bi))\n",
    "                        exec(\"var_vhpc_%s[i+run_cell_tot*120:120+run_cell_tot*120,3] = e\"%(bi))\n",
    "                    else:\n",
    "                        exec(\"a = patterns_evs_%s[i]\"%(bi,))\n",
    "                        exec(\"b = licks_%s[0]\"%(bi,))\n",
    "                        exec(\"c = resps_%s\"%(bi,))\n",
    "                        d = od_labels\n",
    "                        e = out_labels\n",
    "                        f = list(zip(a,b,c,d,e))\n",
    "                        random.shuffle(f)\n",
    "                        a,b,c,d,e = zip(*f)\n",
    "                        exec(\"ev_vhpc_%s[i*120+run_cell_tot*120:(i+1)*120+run_cell_tot*120] = a\"%(bi))\n",
    "                        exec(\"var_vhpc_%s[i*120+run_cell_tot*120:(i+1)*120+run_cell_tot*120,0] = b\"%(bi))\n",
    "                        exec(\"var_vhpc_%s[i*120+run_cell_tot*120:(i+1)*120+run_cell_tot*120,1] = c\"%(bi))\n",
    "                        exec(\"var_vhpc_%s[i*120+run_cell_tot*120:(i+1)*120+run_cell_tot*120,2] = d\"%(bi))\n",
    "                        exec(\"var_vhpc_%s[i*120+run_cell_tot*120:(i+1)*120+run_cell_tot*120,3] = e\"%(bi))\n",
    "                \n",
    "            elif bi == 'odor1':\n",
    "                exec(\"patterns_evs_%s = np.r_[[ut.extract_activity(time_ax,events, cycles,\\\n",
    "                                           CYCLE_START,0, 1)]]\"%(bi))\n",
    "                exec(\"patterns_evs_%s = patterns_evs_%s.reshape(len(patterns_evs_%s[0][0]),-1)\"%(bi,bi,bi))\n",
    "                \n",
    "                exec(\"licks_%s = np.r_[[ut.compute_licks_during(licks, cycles,start=5, end=6)]]\"%(bi))\n",
    "                exec(\"resps_%s = extract_resp_rate(time_ax,resp_rate,cycles,CYCLE_START, 5,6)\"%(bi))\n",
    "    \n",
    "                for i in range(len(patterns_evs_baseline)):\n",
    "                    if i == 0:\n",
    "                        exec(\"a = patterns_evs_%s[i]\"%(bi,))\n",
    "                        exec(\"b = licks_%s[0]\"%(bi,))\n",
    "                        exec(\"c = resps_%s\"%(bi,))\n",
    "                        d = od_labels\n",
    "                        e = out_labels\n",
    "                        f = list(zip(a,b,c,d,e))\n",
    "                        random.shuffle(f)\n",
    "                        a,b,c,d,e = zip(*f)\n",
    "                        exec(\"ev_vhpc_%s[i+run_cell_tot*120:120+run_cell_tot*120] = a\"%(bi))\n",
    "                        exec(\"var_vhpc_%s[i+run_cell_tot*120:120+run_cell_tot*120,0] = b\"%(bi))\n",
    "                        exec(\"var_vhpc_%s[i+run_cell_tot*120:120+run_cell_tot*120,1] = c\"%(bi))\n",
    "                        exec(\"var_vhpc_%s[i+run_cell_tot*120:120+run_cell_tot*120,2] = d\"%(bi))\n",
    "                        exec(\"var_vhpc_%s[i+run_cell_tot*120:120+run_cell_tot*120,3] = e\"%(bi))\n",
    "                    else:\n",
    "                        exec(\"a = patterns_evs_%s[i]\"%(bi,))\n",
    "                        exec(\"b = licks_%s[0]\"%(bi,))\n",
    "                        exec(\"c = resps_%s\"%(bi,))\n",
    "                        d = od_labels\n",
    "                        e = out_labels\n",
    "                        f = list(zip(a,b,c,d,e))\n",
    "                        random.shuffle(f)\n",
    "                        a,b,c,d,e = zip(*f)\n",
    "                        exec(\"ev_vhpc_%s[i*120+run_cell_tot*120:(i+1)*120+run_cell_tot*120] = a\"%(bi))\n",
    "                        exec(\"var_vhpc_%s[i*120+run_cell_tot*120:(i+1)*120+run_cell_tot*120,0] = b\"%(bi))\n",
    "                        exec(\"var_vhpc_%s[i*120+run_cell_tot*120:(i+1)*120+run_cell_tot*120,1] = c\"%(bi))\n",
    "                        exec(\"var_vhpc_%s[i*120+run_cell_tot*120:(i+1)*120+run_cell_tot*120,2] = d\"%(bi))\n",
    "                        exec(\"var_vhpc_%s[i*120+run_cell_tot*120:(i+1)*120+run_cell_tot*120,3] = e\"%(bi))\n",
    "                \n",
    "            elif bi == 'odor2':\n",
    "                exec(\"patterns_evs_%s = np.r_[[ut.extract_activity(time_ax,events, cycles,\\\n",
    "                                           CYCLE_START,1, 2)]]\"%(bi))\n",
    "                exec(\"patterns_evs_%s = patterns_evs_%s.reshape(len(patterns_evs_%s[0][0]),-1)\"%(bi,bi,bi))\n",
    "            \n",
    "                exec(\"licks_%s = np.r_[[ut.compute_licks_during(licks, cycles,start=6, end=7)]]\"%(bi))\n",
    "                exec(\"resps_%s = extract_resp_rate(time_ax,resp_rate,cycles,CYCLE_START, 6,7)\"%(bi))\n",
    "                for i in range(len(patterns_evs_baseline)):\n",
    "                    if i == 0:\n",
    "                        exec(\"a = patterns_evs_%s[i]\"%(bi,))\n",
    "                        exec(\"b = licks_%s[0]\"%(bi,))\n",
    "                        exec(\"c = resps_%s\"%(bi,))\n",
    "                        d = od_labels\n",
    "                        e = out_labels\n",
    "                        f = list(zip(a,b,c,d,e))\n",
    "                        random.shuffle(f)\n",
    "                        a,b,c,d,e = zip(*f)\n",
    "                        exec(\"ev_vhpc_%s[i+run_cell_tot*120:120+run_cell_tot*120] = a\"%(bi))\n",
    "                        exec(\"var_vhpc_%s[i+run_cell_tot*120:120+run_cell_tot*120,0] = b\"%(bi))\n",
    "                        exec(\"var_vhpc_%s[i+run_cell_tot*120:120+run_cell_tot*120,1] = c\"%(bi))\n",
    "                        exec(\"var_vhpc_%s[i+run_cell_tot*120:120+run_cell_tot*120,2] = d\"%(bi))\n",
    "                        exec(\"var_vhpc_%s[i+run_cell_tot*120:120+run_cell_tot*120,3] = e\"%(bi))\n",
    "                    else:\n",
    "                        exec(\"a = patterns_evs_%s[i]\"%(bi,))\n",
    "                        exec(\"b = licks_%s[0]\"%(bi,))\n",
    "                        exec(\"c = resps_%s\"%(bi,))\n",
    "                        d = od_labels\n",
    "                        e = out_labels\n",
    "                        f = list(zip(a,b,c,d,e))\n",
    "                        random.shuffle(f)\n",
    "                        a,b,c,d,e = zip(*f)\n",
    "                        exec(\"ev_vhpc_%s[i*120+run_cell_tot*120:(i+1)*120+run_cell_tot*120] = a\"%(bi))\n",
    "                        exec(\"var_vhpc_%s[i*120+run_cell_tot*120:(i+1)*120+run_cell_tot*120,0] = b\"%(bi))\n",
    "                        exec(\"var_vhpc_%s[i*120+run_cell_tot*120:(i+1)*120+run_cell_tot*120,1] = c\"%(bi))\n",
    "                        exec(\"var_vhpc_%s[i*120+run_cell_tot*120:(i+1)*120+run_cell_tot*120,2] = d\"%(bi))\n",
    "                        exec(\"var_vhpc_%s[i*120+run_cell_tot*120:(i+1)*120+run_cell_tot*120,3] = e\"%(bi))\n",
    "                \n",
    "            else:\n",
    "                exec(\"patterns_evs_%s = np.r_[[ut.extract_activity(time_ax,events, cycles,\\\n",
    "                                           CYCLE_START,3, 4)]]\"%(bi))\n",
    "                exec(\"patterns_evs_%s = patterns_evs_%s.reshape(len(patterns_evs_%s[0][0]),-1)\"%(bi,bi,bi))\n",
    "                \n",
    "                \n",
    "                exec(\"licks_%s = np.r_[[ut.compute_licks_during(licks, cycles,start=8, end=9)]]\"%(bi))\n",
    "                exec(\"resps_%s = extract_resp_rate(time_ax,resp_rate,cycles,CYCLE_START, 8,9)\"%(bi))\n",
    "                \n",
    "                for i in range(len(patterns_evs_baseline)):\n",
    "                    if i == 0:\n",
    "                        exec(\"a = patterns_evs_%s[i]\"%(bi,))\n",
    "                        exec(\"b = licks_%s[0]\"%(bi,))\n",
    "                        exec(\"c = resps_%s\"%(bi,))\n",
    "                        d = od_labels\n",
    "                        e = out_labels\n",
    "                        f = list(zip(a,b,c,d,e))\n",
    "                        random.shuffle(f)\n",
    "                        a,b,c,d,e = zip(*f)\n",
    "                        exec(\"ev_vhpc_%s[i+run_cell_tot*120:120+run_cell_tot*120] = a\"%(bi))\n",
    "                        exec(\"var_vhpc_%s[i+run_cell_tot*120:120+run_cell_tot*120,0] = b\"%(bi))\n",
    "                        exec(\"var_vhpc_%s[i+run_cell_tot*120:120+run_cell_tot*120,1] = c\"%(bi))\n",
    "                        exec(\"var_vhpc_%s[i+run_cell_tot*120:120+run_cell_tot*120,2] = d\"%(bi))\n",
    "                        exec(\"var_vhpc_%s[i+run_cell_tot*120:120+run_cell_tot*120,3] = e\"%(bi))\n",
    "                    else:\n",
    "                        exec(\"a = patterns_evs_%s[i]\"%(bi,))\n",
    "                        exec(\"b = licks_%s[0]\"%(bi,))\n",
    "                        exec(\"c = resps_%s\"%(bi,))\n",
    "                        d = od_labels\n",
    "                        e = out_labels\n",
    "                        f = list(zip(a,b,c,d,e))\n",
    "                        random.shuffle(f)\n",
    "                        a,b,c,d,e = zip(*f)\n",
    "                        exec(\"ev_vhpc_%s[i*120+run_cell_tot*120:(i+1)*120+run_cell_tot*120] = a\"%(bi))\n",
    "                        exec(\"var_vhpc_%s[i*120+run_cell_tot*120:(i+1)*120+run_cell_tot*120,0] = b\"%(bi))\n",
    "                        exec(\"var_vhpc_%s[i*120+run_cell_tot*120:(i+1)*120+run_cell_tot*120,1] = c\"%(bi))\n",
    "                        exec(\"var_vhpc_%s[i*120+run_cell_tot*120:(i+1)*120+run_cell_tot*120,2] = d\"%(bi))\n",
    "                        exec(\"var_vhpc_%s[i*120+run_cell_tot*120:(i+1)*120+run_cell_tot*120,3] = e\"%(bi))\n",
    "                \n",
    "                \n",
    "        run_cell_tot = run_cell_tot + len(patterns_evs_baseline)\n"
   ]
  },
  {
   "cell_type": "code",
   "execution_count": 264,
   "metadata": {
    "collapsed": true
   },
   "outputs": [],
   "source": [
    "run_cell_tot = 0\n",
    "\n",
    "for animal in dhpc_animals:\n",
    "\n",
    "    for var in 'time_ax', 'traces', 'events', 'cycles','is_STIM1t', 'is_STIM2t', 'is_STIM3t','is_STIM4t','rewards','licks','CYCLE_START','CS_DURATION','DELAY','US_START', 'STIM1_ons','STIM2_ons','STIM3_ons','STIM4_ons':\n",
    "        exec(\"%s = ut.load_variable('%s', '../%s/post/notebooks/autorestore/preprocessing')\"%(var, var, animal))\n",
    "    for var in 'resp_rate', 'time_ax_val_n', 'csp_ons', 'csm_ons' :\n",
    "        exec(\"%s = ut.load_variable('%s', '../%s/post/notebooks/autorestore/breathing')\"%(var, var, animal))\n",
    "    \n",
    "#Cycle00001_VoltageRecording_001.csv\n",
    "   \n",
    "#1sec time bins\n",
    "\n",
    "\n",
    "    od_labels = ((np.r_[is_STIM1t]*1)+(np.r_[is_STIM2t]*2)+(np.r_[is_STIM3t]*3)+(np.r_[is_STIM4t]*4))\n",
    "    out_labels = ((np.r_[is_STIM1t]*1)+(np.r_[is_STIM2t]*1)+(np.r_[is_STIM3t]*2)+(np.r_[is_STIM4t]*2))\n",
    "\n",
    "    for sess in sessions:\n",
    "        for bi in bins:\n",
    "            if bi == 'baseline':\n",
    "                exec(\"patterns_evs_%s = np.r_[[ut.extract_activity(time_ax,events, cycles,\\\n",
    "                                           CYCLE_START,1, 2, offset=t_start0)]]\"%(bi))\n",
    "                exec(\"patterns_evs_%s = patterns_evs_%s.reshape(len(patterns_evs_%s[0][0]),-1)\"%(bi,bi,bi))\n",
    "                exec(\"licks_%s = np.r_[[ut.compute_licks_during(licks, cycles,start=1, end=2)]]\"%(bi))\n",
    "                exec(\"resps_%s = extract_resp_rate(time_ax,resp_rate,cycles,CYCLE_START, 1,2)\"%(bi))\n",
    "\n",
    "                \n",
    "                for i in range(len(patterns_evs_baseline)):\n",
    "                    if i == 0:\n",
    "                        exec(\"a = patterns_evs_%s[i]\"%(bi,))\n",
    "                        exec(\"b = licks_%s[0]\"%(bi,))\n",
    "                        exec(\"c = resps_%s\"%(bi,))\n",
    "                        d = od_labels\n",
    "                        e = out_labels\n",
    "                        f = list(zip(a,b,c,d,e))\n",
    "                        random.shuffle(f)\n",
    "                        a,b,c,d,e = zip(*f)\n",
    "                        exec(\"ev_dhpc_%s[i+run_cell_tot*120:120+run_cell_tot*120] = a\"%(bi))\n",
    "                        exec(\"var_dhpc_%s[i+run_cell_tot*120:120+run_cell_tot*120,0] = b\"%(bi))\n",
    "                        exec(\"var_dhpc_%s[i+run_cell_tot*120:120+run_cell_tot*120,1] = c\"%(bi))\n",
    "                        exec(\"var_dhpc_%s[i+run_cell_tot*120:120+run_cell_tot*120,2] = d\"%(bi))\n",
    "                        exec(\"var_dhpc_%s[i+run_cell_tot*120:120+run_cell_tot*120,3] = e\"%(bi))\n",
    "                    else:\n",
    "                        exec(\"a = patterns_evs_%s[i]\"%(bi,))\n",
    "                        exec(\"b = licks_%s[0]\"%(bi,))\n",
    "                        exec(\"c = resps_%s\"%(bi,))\n",
    "                        d = od_labels\n",
    "                        e = out_labels\n",
    "                        f = list(zip(a,b,c,d,e))\n",
    "                        random.shuffle(f)\n",
    "                        a,b,c,d,e = zip(*f)\n",
    "                        exec(\"ev_dhpc_%s[i*120+run_cell_tot*120:(i+1)*120+run_cell_tot*120] = a\"%(bi))\n",
    "                        exec(\"var_dhpc_%s[i*120+run_cell_tot*120:(i+1)*120+run_cell_tot*120,0] = b\"%(bi))\n",
    "                        exec(\"var_dhpc_%s[i*120+run_cell_tot*120:(i+1)*120+run_cell_tot*120,1] = c\"%(bi))\n",
    "                        exec(\"var_dhpc_%s[i*120+run_cell_tot*120:(i+1)*120+run_cell_tot*120,2] = d\"%(bi))\n",
    "                        exec(\"var_dhpc_%s[i*120+run_cell_tot*120:(i+1)*120+run_cell_tot*120,3] = e\"%(bi))\n",
    "                \n",
    "            elif bi == 'odor1':\n",
    "                exec(\"patterns_evs_%s = np.r_[[ut.extract_activity(time_ax,events, cycles,\\\n",
    "                                           CYCLE_START,0, 1)]]\"%(bi))\n",
    "                exec(\"patterns_evs_%s = patterns_evs_%s.reshape(len(patterns_evs_%s[0][0]),-1)\"%(bi,bi,bi))\n",
    "                \n",
    "                exec(\"licks_%s = np.r_[[ut.compute_licks_during(licks, cycles,start=5, end=6)]]\"%(bi))\n",
    "                exec(\"resps_%s = extract_resp_rate(time_ax,resp_rate,cycles,CYCLE_START, 5,6)\"%(bi))\n",
    "    \n",
    "                for i in range(len(patterns_evs_baseline)):\n",
    "                    if i == 0:\n",
    "                        exec(\"a = patterns_evs_%s[i]\"%(bi,))\n",
    "                        exec(\"b = licks_%s[0]\"%(bi,))\n",
    "                        exec(\"c = resps_%s\"%(bi,))\n",
    "                        d = od_labels\n",
    "                        e = out_labels\n",
    "                        f = list(zip(a,b,c,d,e))\n",
    "                        random.shuffle(f)\n",
    "                        a,b,c,d,e = zip(*f)\n",
    "                        exec(\"ev_dhpc_%s[i+run_cell_tot*120:120+run_cell_tot*120] = a\"%(bi))\n",
    "                        exec(\"var_dhpc_%s[i+run_cell_tot*120:120+run_cell_tot*120,0] = b\"%(bi))\n",
    "                        exec(\"var_dhpc_%s[i+run_cell_tot*120:120+run_cell_tot*120,1] = c\"%(bi))\n",
    "                        exec(\"var_dhpc_%s[i+run_cell_tot*120:120+run_cell_tot*120,2] = d\"%(bi))\n",
    "                        exec(\"var_dhpc_%s[i+run_cell_tot*120:120+run_cell_tot*120,3] = e\"%(bi))\n",
    "                    else:\n",
    "                        exec(\"a = patterns_evs_%s[i]\"%(bi,))\n",
    "                        exec(\"b = licks_%s[0]\"%(bi,))\n",
    "                        exec(\"c = resps_%s\"%(bi,))\n",
    "                        d = od_labels\n",
    "                        e = out_labels\n",
    "                        f = list(zip(a,b,c,d,e))\n",
    "                        random.shuffle(f)\n",
    "                        a,b,c,d,e = zip(*f)\n",
    "                        exec(\"ev_dhpc_%s[i*120+run_cell_tot*120:(i+1)*120+run_cell_tot*120] = a\"%(bi))\n",
    "                        exec(\"var_dhpc_%s[i*120+run_cell_tot*120:(i+1)*120+run_cell_tot*120,0] = b\"%(bi))\n",
    "                        exec(\"var_dhpc_%s[i*120+run_cell_tot*120:(i+1)*120+run_cell_tot*120,1] = c\"%(bi))\n",
    "                        exec(\"var_dhpc_%s[i*120+run_cell_tot*120:(i+1)*120+run_cell_tot*120,2] = d\"%(bi))\n",
    "                        exec(\"var_dhpc_%s[i*120+run_cell_tot*120:(i+1)*120+run_cell_tot*120,3] = e\"%(bi))\n",
    "                \n",
    "            elif bi == 'odor2':\n",
    "                exec(\"patterns_evs_%s = np.r_[[ut.extract_activity(time_ax,events, cycles,\\\n",
    "                                           CYCLE_START,1, 2)]]\"%(bi))\n",
    "                exec(\"patterns_evs_%s = patterns_evs_%s.reshape(len(patterns_evs_%s[0][0]),-1)\"%(bi,bi,bi))\n",
    "            \n",
    "                exec(\"licks_%s = np.r_[[ut.compute_licks_during(licks, cycles,start=6, end=7)]]\"%(bi))\n",
    "                exec(\"resps_%s = extract_resp_rate(time_ax,resp_rate,cycles,CYCLE_START, 6,7)\"%(bi))\n",
    "                for i in range(len(patterns_evs_baseline)):\n",
    "                    if i == 0:\n",
    "                        exec(\"a = patterns_evs_%s[i]\"%(bi,))\n",
    "                        exec(\"b = licks_%s[0]\"%(bi,))\n",
    "                        exec(\"c = resps_%s\"%(bi,))\n",
    "                        d = od_labels\n",
    "                        e = out_labels\n",
    "                        f = list(zip(a,b,c,d,e))\n",
    "                        random.shuffle(f)\n",
    "                        a,b,c,d,e = zip(*f)\n",
    "                        exec(\"ev_dhpc_%s[i+run_cell_tot*120:120+run_cell_tot*120] = a\"%(bi))\n",
    "                        exec(\"var_dhpc_%s[i+run_cell_tot*120:120+run_cell_tot*120,0] = b\"%(bi))\n",
    "                        exec(\"var_dhpc_%s[i+run_cell_tot*120:120+run_cell_tot*120,1] = c\"%(bi))\n",
    "                        exec(\"var_dhpc_%s[i+run_cell_tot*120:120+run_cell_tot*120,2] = d\"%(bi))\n",
    "                        exec(\"var_dhpc_%s[i+run_cell_tot*120:120+run_cell_tot*120,3] = e\"%(bi))\n",
    "                    else:\n",
    "                        exec(\"a = patterns_evs_%s[i]\"%(bi,))\n",
    "                        exec(\"b = licks_%s[0]\"%(bi,))\n",
    "                        exec(\"c = resps_%s\"%(bi,))\n",
    "                        d = od_labels\n",
    "                        e = out_labels\n",
    "                        f = list(zip(a,b,c,d,e))\n",
    "                        random.shuffle(f)\n",
    "                        a,b,c,d,e = zip(*f)\n",
    "                        exec(\"ev_dhpc_%s[i*120+run_cell_tot*120:(i+1)*120+run_cell_tot*120] = a\"%(bi))\n",
    "                        exec(\"var_dhpc_%s[i*120+run_cell_tot*120:(i+1)*120+run_cell_tot*120,0] = b\"%(bi))\n",
    "                        exec(\"var_dhpc_%s[i*120+run_cell_tot*120:(i+1)*120+run_cell_tot*120,1] = c\"%(bi))\n",
    "                        exec(\"var_dhpc_%s[i*120+run_cell_tot*120:(i+1)*120+run_cell_tot*120,2] = d\"%(bi))\n",
    "                        exec(\"var_dhpc_%s[i*120+run_cell_tot*120:(i+1)*120+run_cell_tot*120,3] = e\"%(bi))\n",
    "                \n",
    "            else:\n",
    "                exec(\"patterns_evs_%s = np.r_[[ut.extract_activity(time_ax,events, cycles,\\\n",
    "                                           CYCLE_START,3, 4)]]\"%(bi))\n",
    "                exec(\"patterns_evs_%s = patterns_evs_%s.reshape(len(patterns_evs_%s[0][0]),-1)\"%(bi,bi,bi))\n",
    "                \n",
    "                \n",
    "                exec(\"licks_%s = np.r_[[ut.compute_licks_during(licks, cycles,start=8, end=9)]]\"%(bi))\n",
    "                exec(\"resps_%s = extract_resp_rate(time_ax,resp_rate,cycles,CYCLE_START, 8,9)\"%(bi))\n",
    "                \n",
    "                for i in range(len(patterns_evs_baseline)):\n",
    "                    if i == 0:\n",
    "                        exec(\"a = patterns_evs_%s[i]\"%(bi,))\n",
    "                        exec(\"b = licks_%s[0]\"%(bi,))\n",
    "                        exec(\"c = resps_%s\"%(bi,))\n",
    "                        d = od_labels\n",
    "                        e = out_labels\n",
    "                        f = list(zip(a,b,c,d,e))\n",
    "                        random.shuffle(f)\n",
    "                        a,b,c,d,e = zip(*f)\n",
    "                        exec(\"ev_dhpc_%s[i+run_cell_tot*120:120+run_cell_tot*120] = a\"%(bi))\n",
    "                        exec(\"var_dhpc_%s[i+run_cell_tot*120:120+run_cell_tot*120,0] = b\"%(bi))\n",
    "                        exec(\"var_dhpc_%s[i+run_cell_tot*120:120+run_cell_tot*120,1] = c\"%(bi))\n",
    "                        exec(\"var_dhpc_%s[i+run_cell_tot*120:120+run_cell_tot*120,2] = d\"%(bi))\n",
    "                        exec(\"var_dhpc_%s[i+run_cell_tot*120:120+run_cell_tot*120,3] = e\"%(bi))\n",
    "                    else:\n",
    "                        exec(\"a = patterns_evs_%s[i]\"%(bi,))\n",
    "                        exec(\"b = licks_%s[0]\"%(bi,))\n",
    "                        exec(\"c = resps_%s\"%(bi,))\n",
    "                        d = od_labels\n",
    "                        e = out_labels\n",
    "                        f = list(zip(a,b,c,d,e))\n",
    "                        random.shuffle(f)\n",
    "                        a,b,c,d,e = zip(*f)\n",
    "                        exec(\"ev_dhpc_%s[i*120+run_cell_tot*120:(i+1)*120+run_cell_tot*120] = a\"%(bi))\n",
    "                        exec(\"var_dhpc_%s[i*120+run_cell_tot*120:(i+1)*120+run_cell_tot*120,0] = b\"%(bi))\n",
    "                        exec(\"var_dhpc_%s[i*120+run_cell_tot*120:(i+1)*120+run_cell_tot*120,1] = c\"%(bi))\n",
    "                        exec(\"var_dhpc_%s[i*120+run_cell_tot*120:(i+1)*120+run_cell_tot*120,2] = d\"%(bi))\n",
    "                        exec(\"var_dhpc_%s[i*120+run_cell_tot*120:(i+1)*120+run_cell_tot*120,3] = e\"%(bi))\n",
    "                \n",
    "                \n",
    "        run_cell_tot = run_cell_tot + len(patterns_evs_baseline)\n"
   ]
  },
  {
   "cell_type": "code",
   "execution_count": 265,
   "metadata": {
    "collapsed": false
   },
   "outputs": [
    {
     "data": {
      "text/plain": [
       "array([ 3.3281017 ,  4.1844338 ,  1.94255266,  4.36690358,  4.47794254,\n",
       "        0.9997247 ,  5.34041439,  1.68542292,  1.7934348 ,  2.68110938,\n",
       "        2.87112166,  4.04822399,  1.31734076,  2.05277792,  2.99296121,\n",
       "        1.42647075,  1.60477388,  0.73443773,  4.20638233,  3.88157412,\n",
       "        3.22668082,  2.0066426 ,  4.80314779,  1.16185518,  4.90198764,\n",
       "        1.78325432,  4.15899831,  1.34925735,  1.99000431,  2.79885854,\n",
       "        4.30146779,  1.19402202,  3.10829753,  3.41589348,  3.07904772,\n",
       "        2.7309206 ,  1.53989578,  2.32101606,  5.36466755,  6.52145965,\n",
       "        2.11609238,  9.40056245,  4.33144072,  3.21662243,  2.07081554,\n",
       "        0.88895854,  5.14795868,  2.91278514,  3.74008089,  6.37726658,\n",
       "        3.50115516,  3.59306704,  4.77177042,  3.78498043,  2.76794839,\n",
       "        5.22685327,  2.23517001,  2.92323539,  5.73773634,  7.39954843,\n",
       "        3.86555598,  2.88681884,  2.57434456,  1.8168157 ,  1.26240736,\n",
       "        6.27598219,  4.98438487,  3.54753396,  0.79023632,  5.65309295,\n",
       "        5.62288996,  4.21098308,  4.16623725,  1.76857567,  4.16035399,\n",
       "        2.79678759,  4.70199391,  2.48495799,  5.04933884,  4.40342233,\n",
       "        3.9898105 ,  2.66613997,  4.58097841,  5.63973119,  2.89787155,\n",
       "        4.91470505,  4.51619649,  5.30503979,  5.30503979,  5.30503979,\n",
       "        5.30503979,  5.30503979,  5.30503979,  5.30503979,  5.30503979,\n",
       "        5.30503979,  5.30503979,  5.30503979,  5.30503979,  5.30503979,\n",
       "        5.30503979,  5.30503979,  5.30503979,  5.30503979,  5.30503979,\n",
       "        5.30503979,  5.30503979,  5.30503979,  5.30503979,  5.30503979,\n",
       "        5.30503979,  5.30503979,  5.30503979,  5.30503979,  5.30503979,\n",
       "        5.30503979,  5.30503979,  5.30503979,  5.30503979,  5.30503979])"
      ]
     },
     "execution_count": 265,
     "metadata": {},
     "output_type": "execute_result"
    }
   ],
   "source": [
    "resps"
   ]
  },
  {
   "cell_type": "code",
   "execution_count": 266,
   "metadata": {
    "collapsed": false
   },
   "outputs": [],
   "source": [
    "ani_group = ['vhpc','dhpc']\n",
    "for ani_g in ani_group:\n",
    "    for sess in sessions:\n",
    "        for bi in bins:\n",
    "            exec(\"x_train_%s_%s,x_test_%s_%s,y_train_%s_%s,y_test_%s_%s = train_test_split(var_%s_%s,ev_%s_%s,test_size=0.2)\"%(ani_g,bi,ani_g,bi,ani_g,bi,ani_g,bi,ani_g,bi,ani_g,bi,))"
   ]
  },
  {
   "cell_type": "code",
   "execution_count": 267,
   "metadata": {
    "collapsed": true
   },
   "outputs": [],
   "source": [
    "in_out = ['x','y']\n",
    "tr_te = ['train','test']\n",
    "for t in tr_te:\n",
    "    for i in in_out:\n",
    "        for ani_g in ani_group:\n",
    "                for bi in bins:\n",
    "                    exec(\"%s_%s_%s_%s_dict = {'%s_%s_%s_%s':%s_%s_%s_%s,'label':'exp'}\"%(i,t,ani_g,bi,i,t,ani_g,bi,i,t,ani_g,bi,))\n",
    "                    exec(\"savemat('%s_%s_%s_%s_dict.mat',%s_%s_%s_%s_dict)\"%(i,t,ani_g,bi,i,t,ani_g,bi,))"
   ]
  },
  {
   "cell_type": "code",
   "execution_count": 269,
   "metadata": {
    "collapsed": false
   },
   "outputs": [],
   "source": [
    "in_out = ['x','y']\n",
    "for ani_g in ani_group:\n",
    "    for bi in bins:\n",
    "        exec(\"x_%s_%s_dict = {'var_%s_%s':var_%s_%s,'label':'exp'}\"%(ani_g,bi,ani_g,bi,ani_g,bi,))\n",
    "        exec(\"savemat('x_%s_%s_dict.mat',x_%s_%s_dict)\"%(ani_g,bi,ani_g,bi,))\n",
    "        exec(\"y_%s_%s_dict = {'ev_%s_%s':ev_%s_%s,'label':'exp'}\"%(ani_g,bi,ani_g,bi,ani_g,bi,))\n",
    "        exec(\"savemat('y_%s_%s_dict.mat',y_%s_%s_dict)\"%(ani_g,bi,ani_g,bi,))"
   ]
  },
  {
   "cell_type": "code",
   "execution_count": 249,
   "metadata": {
    "collapsed": false
   },
   "outputs": [
    {
     "data": {
      "text/plain": [
       "numpy.ndarray"
      ]
     },
     "execution_count": 249,
     "metadata": {},
     "output_type": "execute_result"
    }
   ],
   "source": [
    "type(x_test_dhpc_baseline)"
   ]
  },
  {
   "cell_type": "code",
   "execution_count": 427,
   "metadata": {
    "collapsed": false
   },
   "outputs": [],
   "source": [
    "from scipy.io import loadmat\n",
    "\n",
    "r2_vals = loadmat('/home/fabios/data/data/odor_ass_learning_2019/4odor_revision/results/notebooks/r2_vals_n_final.mat')"
   ]
  },
  {
   "cell_type": "code",
   "execution_count": 428,
   "metadata": {
    "collapsed": false
   },
   "outputs": [
    {
     "data": {
      "text/plain": [
       "{'__globals__': [],\n",
       " '__header__': 'MATLAB 5.0 MAT-file, Platform: PCWIN64, Created on: Fri Oct 14 16:30:26 2022',\n",
       " '__version__': '1.0',\n",
       " 'dhpc_r2_f_diff_baseline': array([[  1.00000000e+00,   1.30729916e-01,   0.00000000e+00,\n",
       "           0.00000000e+00,   0.00000000e+00],\n",
       "        [  3.96079937e-01,   8.76317783e-02,   0.00000000e+00,\n",
       "           6.69020053e-03,   7.98280420e-03],\n",
       "        [  3.55386888e-01,   3.86269425e-03,   2.04673561e-02,\n",
       "           1.42555444e-02,   2.83178894e-02],\n",
       "        ..., \n",
       "        [  7.19004762e-02,   1.86175203e-02,   0.00000000e+00,\n",
       "           8.77425517e-03,   1.29407151e-02],\n",
       "        [  1.31324684e-01,   4.29319356e-05,   5.73981966e-04,\n",
       "           9.57981349e-03,   1.91408724e-03],\n",
       "        [  3.17990627e-02,   0.00000000e+00,   4.11047259e-03,\n",
       "           8.20500429e-03,   2.25147339e-02]]),\n",
       " 'dhpc_r2_f_diff_odor1': array([[  1.00000000e+00,   0.00000000e+00,   0.00000000e+00,\n",
       "           0.00000000e+00,   0.00000000e+00],\n",
       "        [  1.78632646e-01,   1.54914483e-04,   1.64290321e-02,\n",
       "           1.71830088e-02,   1.85382694e-02],\n",
       "        [  1.00000000e+00,   0.00000000e+00,   0.00000000e+00,\n",
       "           0.00000000e+00,   0.00000000e+00],\n",
       "        ..., \n",
       "        [  3.67230758e-02,   2.05361176e-01,   1.16495218e-03,\n",
       "           0.00000000e+00,   7.40080252e-04],\n",
       "        [  3.50530948e-01,   2.59275362e-03,   0.00000000e+00,\n",
       "           2.79402097e-02,   2.63380810e-02],\n",
       "        [  3.48217127e-02,   1.69131030e-03,   0.00000000e+00,\n",
       "           0.00000000e+00,   0.00000000e+00]]),\n",
       " 'dhpc_r2_f_diff_odor2': array([[ 0.44222438,  0.10188424,  0.02040089,  0.002156  ,  0.00767583],\n",
       "        [ 0.28876904,  0.00132267,  0.01549791,  0.0211348 ,  0.02168987],\n",
       "        [ 0.15376889,  0.00333497,  0.00229985,  0.0398468 ,  0.01404514],\n",
       "        ..., \n",
       "        [ 0.21872108,  0.18062591,  0.01278322,  0.00545616,  0.00102377],\n",
       "        [ 0.01642642,  0.00353318,  0.00324442,  0.02954702,  0.04424661],\n",
       "        [ 0.13563093,  0.03097545,  0.03211103,  0.01483514,  0.00883283]]),\n",
       " 'dhpc_r2_f_diff_trace': array([[  7.69943905e-01,   1.02660683e-04,   5.64958841e-03,\n",
       "           1.64089086e-02,   2.37866451e-02],\n",
       "        [  6.69859355e-02,   0.00000000e+00,   8.62128724e-03,\n",
       "           1.98787149e-02,   4.03544082e-03],\n",
       "        [  1.00000000e+00,   0.00000000e+00,   0.00000000e+00,\n",
       "           0.00000000e+00,   0.00000000e+00],\n",
       "        ..., \n",
       "        [  3.23510881e-02,   0.00000000e+00,   1.47276860e-02,\n",
       "           2.09512029e-02,   2.31564343e-02],\n",
       "        [  6.44986444e-02,   1.19286344e-02,   2.69711134e-02,\n",
       "           3.27190863e-02,   6.50598811e-03],\n",
       "        [  3.53374102e-01,   2.79023925e-02,   1.19683643e-02,\n",
       "           1.56528335e-02,   3.03540399e-02]]),\n",
       " 'dhpc_samp_r2_f_diff_baseline': array([[ 0.11098331,  0.02573284,  0.        ,  0.01457787,  0.01355823],\n",
       "        [ 0.21144839,  0.00109986,  0.03286102,  0.        ,  0.        ],\n",
       "        [ 0.48857562,  0.01292819,  0.01144206,  0.02991443,  0.03664291],\n",
       "        ..., \n",
       "        [ 0.15743014,  0.00441471,  0.01469839,  0.        ,  0.        ],\n",
       "        [ 0.17972908,  0.00553656,  0.01653136,  0.04060189,  0.01349407],\n",
       "        [ 0.15421616,  0.        ,  0.        ,  0.        ,  0.        ]]),\n",
       " 'dhpc_samp_r2_f_diff_odor1': array([[ 0.99898671,  0.00102067,  0.        ,  0.00227195,  0.        ],\n",
       "        [ 0.39905623,  0.00972674,  0.02183165,  0.        ,  0.00216876],\n",
       "        [ 0.31819988,  0.00290707,  0.01724214,  0.        ,  0.00172888],\n",
       "        ..., \n",
       "        [ 1.        ,  0.        ,  0.        ,  0.        ,  0.        ],\n",
       "        [ 0.7548264 ,  0.        ,  0.0179092 ,  0.03208477,  0.01424027],\n",
       "        [ 0.63642559,  0.00372454,  0.        ,  0.        ,  0.        ]]),\n",
       " 'dhpc_samp_r2_f_diff_odor2': array([[  3.41791135e-01,   2.04347372e-06,   0.00000000e+00,\n",
       "           0.00000000e+00,   1.13480469e-02],\n",
       "        [  4.40690582e-01,   9.18408608e-04,   0.00000000e+00,\n",
       "           1.94902893e-02,   9.16698849e-03],\n",
       "        [  3.64251088e-01,   0.00000000e+00,   0.00000000e+00,\n",
       "           0.00000000e+00,   0.00000000e+00],\n",
       "        ..., \n",
       "        [  3.55853226e-01,   2.81004944e-02,   2.39378160e-03,\n",
       "           1.61104124e-02,   1.64501838e-02],\n",
       "        [  3.35175622e-01,   4.95093233e-04,   7.43685147e-04,\n",
       "           2.15828477e-03,   1.83593910e-03],\n",
       "        [  7.88740090e-02,   0.00000000e+00,   1.98149333e-02,\n",
       "           8.47915542e-03,   0.00000000e+00]]),\n",
       " 'dhpc_samp_r2_f_diff_trace': array([[ 0.28667441,  0.10719622,  0.        ,  0.02003152,  0.00929475],\n",
       "        [ 0.41231495,  0.00818835,  0.0126561 ,  0.01794882,  0.00150505],\n",
       "        [ 0.30175923,  0.00437897,  0.01052784,  0.01834342,  0.02191714],\n",
       "        ..., \n",
       "        [ 0.2940076 ,  0.        ,  0.01328724,  0.        ,  0.0033695 ],\n",
       "        [ 0.21961448,  0.        ,  0.00665399,  0.00072337,  0.        ],\n",
       "        [ 0.15451764,  0.04981545,  0.05175578,  0.00103058,  0.02645815]]),\n",
       " 'vhpc_r2_f_diff_baseline': array([[  2.49304507e-01,   4.57460577e-03,   1.34232645e-02,\n",
       "           2.30459544e-02,   4.03531854e-02],\n",
       "        [  2.91400606e-01,   2.50934996e-03,   4.73186317e-02,\n",
       "           2.83132060e-02,   1.65409317e-02],\n",
       "        [  1.38854181e-01,   3.41946723e-02,   1.33584934e-03,\n",
       "           9.19430139e-03,   4.07883126e-03],\n",
       "        ..., \n",
       "        [  6.29797259e-02,   0.00000000e+00,   3.12847266e-02,\n",
       "           4.24167987e-03,   8.40847086e-03],\n",
       "        [  4.94033197e-01,   0.00000000e+00,   4.20669460e-03,\n",
       "           2.49819030e-02,   1.57320132e-02],\n",
       "        [  7.06137721e-02,   2.38641039e-03,   3.59196208e-02,\n",
       "           0.00000000e+00,   8.11293735e-05]]),\n",
       " 'vhpc_r2_f_diff_odor1': array([[ 0.42439198,  0.03181544,  0.05847752,  0.        ,  0.        ],\n",
       "        [ 0.36328957,  0.0055541 ,  0.15078191,  0.        ,  0.        ],\n",
       "        [ 0.33109112,  0.        ,  0.00373361,  0.00524412,  0.00709396],\n",
       "        ..., \n",
       "        [ 0.35924644,  0.00373036,  0.00449598,  0.00901164,  0.01309331],\n",
       "        [ 0.04602042,  0.05562858,  0.02208561,  0.02124618,  0.03539739],\n",
       "        [ 0.1079878 ,  0.02678463,  0.00715861,  0.00934911,  0.        ]]),\n",
       " 'vhpc_r2_f_diff_odor2': array([[ 0.23365922,  0.        ,  0.00886422,  0.        ,  0.        ],\n",
       "        [ 0.23052419,  0.        ,  0.0485064 ,  0.00274343,  0.00083033],\n",
       "        [ 0.08386316,  0.03979305,  0.04054737,  0.        ,  0.00257342],\n",
       "        ..., \n",
       "        [ 0.54975011,  0.        ,  0.        ,  0.00585899,  0.00132925],\n",
       "        [ 0.04071881,  0.        ,  0.0071479 ,  0.        ,  0.        ],\n",
       "        [ 0.36212235,  0.00674123,  0.        ,  0.00144952,  0.        ]]),\n",
       " 'vhpc_r2_f_diff_trace': array([[ 0.54036024,  0.05821275,  0.0204488 ,  0.02336208,  0.06809735],\n",
       "        [ 0.17751059,  0.        ,  0.00887669,  0.00253505,  0.00182731],\n",
       "        [ 0.08762796,  0.01897311,  0.0045877 ,  0.0134015 ,  0.01768384],\n",
       "        ..., \n",
       "        [ 0.13255923,  0.00220191,  0.03505459,  0.01748839,  0.        ],\n",
       "        [ 0.16313064,  0.02949554,  0.        ,  0.00219376,  0.01381572],\n",
       "        [ 0.1824273 ,  0.00118456,  0.01525245,  0.02211098,  0.00934673]])}"
      ]
     },
     "execution_count": 428,
     "metadata": {},
     "output_type": "execute_result"
    }
   ],
   "source": [
    "r2_vals"
   ]
  },
  {
   "cell_type": "code",
   "execution_count": 439,
   "metadata": {
    "collapsed": false
   },
   "outputs": [],
   "source": [
    "partz = ['full','licks','resp','odor','outcome']\n",
    "for ani in ani_group:\n",
    "    for bi in bins:\n",
    "        exec('%s_%s=[]'%(ani,bi))\n",
    "        exec('%s_%s.append(r2_vals[\"%s_r2_f_diff_%s\"])'%(ani,bi,ani,bi))\n",
    "        exec('%s_%s = [x for x in %s_%s][0]'%(ani,bi,ani,bi))\n",
    "\n"
   ]
  },
  {
   "cell_type": "code",
   "execution_count": 440,
   "metadata": {
    "collapsed": false
   },
   "outputs": [],
   "source": [
    "partz = ['full','licks','resp','odor','outcome']\n",
    "ani='dhpc'\n",
    "for bi in bins:\n",
    "    exec('%s_%s_samp=[]'%(ani,bi))\n",
    "    exec('%s_%s_samp.append(r2_vals[\"%s_samp_r2_f_diff_%s\"])'%(ani,bi,ani,bi))\n",
    "    exec('%s_%s_samp = [x for x in %s_%s_samp][0]'%(ani,bi,ani,bi))"
   ]
  },
  {
   "cell_type": "code",
   "execution_count": 431,
   "metadata": {
    "collapsed": false
   },
   "outputs": [
    {
     "data": {
      "text/plain": [
       "MannwhitneyuResult(statistic=1.0, pvalue=0.013789426131302253)"
      ]
     },
     "execution_count": 431,
     "metadata": {},
     "output_type": "execute_result"
    },
    {
     "data": {
      "image/png": "[encoded data removed]",
      "text/plain": [
       "<matplotlib.figure.Figure at 0x7fa0fdcbc910>"
      ]
     },
     "metadata": {},
     "output_type": "display_data"
    }
   ],
   "source": [
    "fig, ax = pl.subplots(2, 4, figsize=(2., 5), sharex=True, sharey=True)\n",
    "\n",
    "\n",
    "a_ax=0\n",
    "for ani in ani_group:\n",
    "    b_ax=0\n",
    "    for bi in bins:\n",
    "        ax_t=ax[a_ax][b_ax]\n",
    "        exec(\"pt.plot_bars(np.r_[%s_%s.T],stderr=True,ax=ax_t)\")%(ani,bi)\n",
    "        b_ax=b_ax+1\n",
    "    a_ax=a_ax+1\n",
    "    \n",
    "ax[0][0].set_title('Baseline')\n",
    "ax[0][1].set_title('Odor1')\n",
    "ax[0][2].set_title('Odor2')\n",
    "ax[0][3].set_title('Trace')\n",
    "    \n",
    "ax[0][0].set_ylabel('vHPC')\n",
    "ax[1][0].set_ylabel('dHPC')\n",
    "    \n",
    "for ax_t in ax[-1]:\n",
    "    ax_t.set_xticks(range(len(partz)))\n",
    "    ax_t.set_xticklabels(partz, fontsize=5, rotation=75)\n",
    "    \n",
    "#ax.set_ylim(-0.5, 1)\n",
    "#ax.set_xlim(-0.5, 1.5)\n",
    "\n",
    "#ax.set_xticks(np.arange(2))\n",
    "#ax.set_xticklabels(['vHPC', 'dHPC'])\n",
    "\n",
    "#ax.set_ylabel(r'$R^2$')\n",
    "\n",
    "pvs = []\n",
    "#pvs.append(pt.add_significance(ax, values[0], values[1], 0, 1, 1))\n",
    "\n",
    "stat_func = lambda x, y: sstats.mannwhitneyu(x, y, alternative='two-sided')\n",
    "stat_func(values[0],values[1])"
   ]
  },
  {
   "cell_type": "code",
   "execution_count": 447,
   "metadata": {
    "collapsed": true
   },
   "outputs": [],
   "source": [
    "partz = ['full','licks','resp','odor','outcome']\n",
    "ani='dhpc'\n",
    "for bi in bins:\n",
    "    exec('%s_%s=[]'%(ani,bi))\n",
    "    exec('%s_%s.append(r2_vals[\"%s_samp_r2_f_diff_%s\"])'%(ani,bi,ani,bi))\n",
    "    exec('%s_%s = [x for x in %s_%s_samp][0]'%(ani,bi,ani,bi))\n",
    "\n"
   ]
  },
  {
   "cell_type": "code",
   "execution_count": 448,
   "metadata": {
    "collapsed": false
   },
   "outputs": [
    {
     "data": {
      "text/plain": [
       "array([], dtype=float64)"
      ]
     },
     "execution_count": 448,
     "metadata": {},
     "output_type": "execute_result"
    }
   ],
   "source": [
    "dhpc_odor1[10:100]"
   ]
  },
  {
   "cell_type": "code",
   "execution_count": 441,
   "metadata": {
    "collapsed": false
   },
   "outputs": [
    {
     "data": {
      "text/plain": [
       "MannwhitneyuResult(statistic=1.0, pvalue=0.013789426131302253)"
      ]
     },
     "execution_count": 441,
     "metadata": {},
     "output_type": "execute_result"
    },
    {
     "data": {
      "image/png": "[encoded data removed]",
      "text/plain": [
       "<matplotlib.figure.Figure at 0x7fa124248050>"
      ]
     },
     "metadata": {},
     "output_type": "display_data"
    }
   ],
   "source": [
    "fig, ax = pl.subplots(2, 4, figsize=(2., 4), sharex=True, sharey=True)\n",
    "\n",
    "\n",
    "a_ax=0\n",
    "for ani in ani_group:\n",
    "    b_ax=0\n",
    "    for bi in bins:\n",
    "        ax_t=ax[a_ax][b_ax]\n",
    "        exec(\"pt.plot_bars(np.r_[%s_%s.T],ax=ax_t)\")%(ani,bi)\n",
    "        b_ax=b_ax+1\n",
    "    a_ax=a_ax+1\n",
    "    \n",
    "ax[0][0].set_title('Baseline')\n",
    "ax[0][1].set_title('Odor1')\n",
    "ax[0][2].set_title('Odor2')\n",
    "ax[0][3].set_title('Trace')\n",
    "    \n",
    "ax[0][0].set_ylabel('vHPC')\n",
    "ax[1][0].set_ylabel('dHPC')\n",
    "    \n",
    "for ax_t in ax[-1]:\n",
    "    ax_t.set_xticks(range(len(partz)))\n",
    "    ax_t.set_xticklabels(partz, fontsize=5, rotation=75)\n",
    "    \n",
    "#ax.set_ylim(-0.5, 1)\n",
    "#ax.set_xlim(-0.5, 1.5)\n",
    "\n",
    "#ax.set_xticks(np.arange(2))\n",
    "#ax.set_xticklabels(['vHPC', 'dHPC'])\n",
    "\n",
    "#ax.set_ylabel(r'$R^2$')\n",
    "\n",
    "pvs = []\n",
    "#pvs.append(pt.add_significance(ax, values[0], values[1], 0, 1, 1))\n",
    "\n",
    "stat_func = lambda x, y: sstats.mannwhitneyu(x, y, alternative='two-sided')\n",
    "stat_func(values[0],values[1])"
   ]
  },
  {
   "cell_type": "code",
   "execution_count": 434,
   "metadata": {
    "collapsed": false,
    "scrolled": true
   },
   "outputs": [
    {
     "data": {
      "text/plain": [
       "MannwhitneyuResult(statistic=1.0, pvalue=0.013789426131302253)"
      ]
     },
     "execution_count": 434,
     "metadata": {},
     "output_type": "execute_result"
    },
    {
     "data": {
      "image/png": "[encoded data removed]",
      "text/plain": [
       "<matplotlib.figure.Figure at 0x7fa0f97cb890>"
      ]
     },
     "metadata": {},
     "output_type": "display_data"
    }
   ],
   "source": [
    "fig, ax = pl.subplots(2, 4, figsize=(2., 4), sharex=True, sharey=False)\n",
    "\n",
    "\n",
    "a_ax=0\n",
    "for ani in ani_group:\n",
    "    b_ax=0\n",
    "    for bi in bins:\n",
    "        ax_t=ax[a_ax][b_ax]\n",
    "        exec(\"pt.plot_bars(np.r_[%s_%s.T],ax=ax_t)\")%(ani,bi)\n",
    "        b_ax=b_ax+1\n",
    "    a_ax=a_ax+1\n",
    "    \n",
    "ax[0][0].set_title('Baseline')\n",
    "ax[0][1].set_title('Odor1')\n",
    "ax[0][2].set_title('Odor2')\n",
    "ax[0][3].set_title('Trace')\n",
    "    \n",
    "ax[0][0].set_ylabel('vHPC')\n",
    "ax[1][0].set_ylabel('dHPC')\n",
    "    \n",
    "for ax_t in ax[-1]:\n",
    "    ax_t.set_xticks(range(len(partz)))\n",
    "    ax_t.set_xticklabels(partz, fontsize=5, rotation=75)\n",
    "    \n",
    "#ax.set_ylim(-0.5, 1)\n",
    "#ax.set_xlim(-0.5, 1.5)\n",
    "\n",
    "#ax.set_xticks(np.arange(2))\n",
    "#ax.set_xticklabels(['vHPC', 'dHPC'])\n",
    "\n",
    "#ax.set_ylabel(r'$R^2$')\n",
    "\n",
    "pvs = []\n",
    "#pvs.append(pt.add_significance(ax, values[0], values[1], 0, 1, 1))\n",
    "\n",
    "stat_func = lambda x, y: sstats.mannwhitneyu(x, y, alternative='two-sided')\n",
    "stat_func(values[0],values[1])"
   ]
  },
  {
   "cell_type": "markdown",
   "metadata": {},
   "source": [
    "function r2_f_part = r2_cv(x, y, k_folds, var_ind)\n",
    "\n",
    "% I'm going to have an x and y, x will have 4 columns, y will have 1\n",
    "% var_ind will tell me how many columns from x are relevant\n",
    "% will split data 20/80 per 120 trials (which is to say per neuron),\n",
    "% randomly shuffle the trials within each neuron\n",
    "\n",
    "\n",
    "r2_f_part = zeros(length(var_ind)+1,1);\n",
    "\n",
    "y=y.';\n",
    "cv = cvpartition(numel(y), 'kfold',k_folds);\n",
    "\n",
    "r2_full = zeros(k_folds,1);\n",
    "for k=1:k_folds\n",
    "    % training/testing indices for this fold\n",
    "    trainIdx = cv.training(k);\n",
    "    testIdx = cv.test(k);\n",
    "    \n",
    "    % train GLM model\n",
    "    mdl= GeneralizedLinearModel.fit(x(trainIdx,:), y(trainIdx), ...\n",
    "        'linear', 'Distribution','normal');\n",
    "    \n",
    "    % predict regression output\n",
    "    Y_hat = predict(mdl, x(testIdx,:));\n",
    "    \n",
    "    % compute mean squared error\n",
    "    r2_full(k) = mean((y(testIdx) - Y_hat).^2);\n",
    "    \n",
    "   \n",
    "end\n",
    "r2_full = mean(r2_full);\n",
    "r2_full(r2_full<0) = 0;\n",
    "r2_full(r2_full>1) = 1;\n",
    "r2_f_part(1) = r2_full;\n",
    "\n",
    "r2_partial_cv = zeros(k_folds,1);\n",
    "r2_partials = zeros(length(var_ind),1);\n",
    "for parts = 1:length(var_ind)\n",
    "    x_p=x(:,var_ind(parts,:));\n",
    "    for k=1:k_folds\n",
    "        % training/testing indices for this fold\n",
    "        trainIdx = cv.training(k);\n",
    "        testIdx = cv.test(k);\n",
    "\n",
    "        % train GLM model\n",
    "        mdl= GeneralizedLinearModel.fit(x_p(trainIdx,:), y(trainIdx), ...\n",
    "            'linear', 'Distribution','normal');\n",
    "\n",
    "        % predict regression output\n",
    "        Y_hat = predict(mdl, x_p(testIdx,:));\n",
    "\n",
    "        % compute mean squared error\n",
    "        r2_partial_cv(k) = mean((y(testIdx) - Y_hat).^2);\n",
    "\n",
    "\n",
    "    end\n",
    "    r2_partials(parts) = mean(r2_partial_cv);\n",
    "    r2_partials(r2_partials<0) = 0;\n",
    "    r2_partials(r2_partials>1) = 1;\n",
    "    r2_f_part(1+parts) = r2_part(r2_full,r2_partials(parts));\n",
    "end\n",
    "\n",
    "end"
   ]
  },
  {
   "cell_type": "markdown",
   "metadata": {},
   "source": [
    "%% Format all behavior predictors and firing rate data for that cell into same length\n",
    "% if using more than 1 timebin, input data is vectorized: \n",
    "%   ie/ if lick rate data is 4 bins x 20 trials, vectorize it to be 80 trials\n",
    "%       x 1 - do the same for all predictors and firing rate\n",
    "\n",
    "\n",
    "%%\n",
    "\n",
    "load('y_dhpc_odor1_dict.mat')\n",
    "load('y_dhpc_odor2_dict.mat')\n",
    "load('y_dhpc_trace_dict.mat')\n",
    "load('y_dhpc_baseline_dict.mat')\n",
    "load('x_vhpc_trace_dict.mat')\n",
    "load('x_vhpc_odor2_dict.mat')\n",
    "load('x_vhpc_odor1_dict.mat')\n",
    "load('x_vhpc_baseline_dict.mat')\n",
    "load('y_vhpc_baseline_dict.mat')\n",
    "load('y_vhpc_odor1_dict.mat')\n",
    "load('y_vhpc_odor2_dict.mat')\n",
    "load('y_vhpc_trace_dict.mat')\n",
    "load('x_dhpc_baseline_dict.mat')\n",
    "load('x_dhpc_odor1_dict.mat')\n",
    "load('x_dhpc_odor2_dict.mat')\n",
    "load('x_dhpc_trace_dict.mat')\n",
    "\n",
    "%%\n",
    "\n",
    "var_ind=zeros(4,3);\n",
    "var_ind(1,:) = [2,3,4];\n",
    "var_ind(2,:) = [1,3,4];\n",
    "var_ind(3,:) = [1,2,4];\n",
    "var_ind(4,:) = [1,2,3];\n",
    "\n",
    "k_folds = 5;\n",
    "\n",
    "dhpc_ind = (1:length(ev_dhpc_baseline));\n",
    "sub_ind = randsample(dhpc_ind,length(ev_vhpc_trace));\n",
    "\n",
    "y_samp_dhpc_baseline = ev_dhpc_baseline(sub_ind);\n",
    "y_samp_dhpc_odor1 = ev_dhpc_odor1(sub_ind);\n",
    "y_samp_dhpc_odor2 = ev_dhpc_odor2(sub_ind);\n",
    "y_samp_dhpc_trace = ev_dhpc_trace(sub_ind);\n",
    "\n",
    "x_samp_dhpc_baseline = var_dhpc_baseline(sub_ind,:);\n",
    "x_samp_dhpc_odor1 = var_dhpc_odor1(sub_ind,:);\n",
    "x_samp_dhpc_odor2 = var_dhpc_odor2(sub_ind,:);\n",
    "x_samp_dhpc_trace = var_dhpc_trace(sub_ind,:);\n",
    "\n",
    "vhpc_n = length(ev_vhpc_baseline)/120;\n",
    "dhpc_n = length(ev_dhpc_baseline)/120;\n",
    "dhpc_sub_n = length(y_samp_dhpc_baseline)/120;\n",
    "\n",
    "vhpc_r2_f_diff_baseline = zeros(vhpc_n,5);\n",
    "dhpc_r2_f_diff_baseline = zeros(dhpc_n,5);\n",
    "dhpc_samp_r2_f_diff_baseline = zeros(dhpc_sub_n,5);\n",
    "vhpc_r2_f_diff_odor1 = zeros(vhpc_n,5);\n",
    "dhpc_r2_f_diff_odor1 = zeros(dhpc_n,5);\n",
    "dhpc_samp_r2_f_diff_odor1 = zeros(dhpc_sub_n,5);\n",
    "vhpc_r2_f_diff_odor2 = zeros(vhpc_n,5);\n",
    "dhpc_r2_f_diff_odor2 = zeros(dhpc_n,5);\n",
    "dhpc_samp_r2_f_diff_odor2 = zeros(dhpc_sub_n,5);\n",
    "vhpc_r2_f_diff_trace = zeros(vhpc_n,5);\n",
    "dhpc_r2_f_diff_trace = zeros(dhpc_n,5);\n",
    "dhpc_samp_r2_f_diff_trace = zeros(dhpc_sub_n,5);\n",
    "\n",
    "for i = 1:vhpc_n\n",
    "\n",
    "    vhpc_r2_f_diff_baseline(i,:) = r2_cv(var_vhpc_baseline((120*(i-1)+1):i*120,:),ev_vhpc_baseline((120*(i-1)+1):i*120),k_folds,var_ind);\n",
    "    vhpc_r2_f_diff_odor1(i,:) = r2_cv(var_vhpc_odor1((120*(i-1)+1):i*120,:),ev_vhpc_odor1((120*(i-1)+1):i*120),k_folds,var_ind);\n",
    "    vhpc_r2_f_diff_odor2(i,:) = r2_cv(var_vhpc_odor2((120*(i-1)+1):i*120,:),ev_vhpc_odor2((120*(i-1)+1):i*120),k_folds,var_ind);\n",
    "    vhpc_r2_f_diff_trace(i,:) = r2_cv(var_vhpc_trace((120*(i-1)+1):i*120,:),ev_vhpc_trace((120*(i-1)+1):i*120),k_folds,var_ind);\n",
    "    \n",
    "    dhpc_samp_r2_f_diff_baseline(i,:) = r2_cv(x_samp_dhpc_baseline,y_samp_dhpc_baseline((120*(i-1)+1):i*120),k_folds,var_ind);\n",
    "    dhpc_samp_r2_f_diff_odor1(i,:) = r2_cv(x_samp_dhpc_odor1((120*(i-1)+1):i*120,:),y_samp_dhpc_odor1((120*(i-1)+1):i*120),k_folds,var_ind);\n",
    "    dhpc_samp_r2_f_diff_odor2(i,:) = r2_cv(x_samp_dhpc_odor2((120*(i-1)+1):i*120,:),y_samp_dhpc_odor2((120*(i-1)+1):i*120),k_folds,var_ind);\n",
    "    dhpc_samp_r2_f_diff_trace(i,:) = r2_cv(x_samp_dhpc_trace((120*(i-1)+1):i*120,:),y_samp_dhpc_trace((120*(i-1)+1):i*120),k_folds,var_ind);\n",
    "\n",
    "end\n",
    "disp('done with vhpc_n')\n",
    "\n",
    "for i = 1:dhpc_n\n",
    "    dhpc_r2_f_diff_baseline(i,:) = r2_cv(var_dhpc_baseline((120*(i-1)+1):i*120,:),ev_dhpc_baseline((120*(i-1)+1):i*120),k_folds,var_ind);\n",
    "    dhpc_r2_f_diff_odor1(i,:) = r2_cv(var_dhpc_odor1((120*(i-1)+1):i*120,:),ev_dhpc_odor1((120*(i-1)+1):i*120),k_folds,var_ind);\n",
    "    dhpc_r2_f_diff_odor2(i,:) = r2_cv(var_dhpc_odor2((120*(i-1)+1):i*120,:),ev_dhpc_odor2((120*(i-1)+1):i*120),k_folds,var_ind);\n",
    "    dhpc_r2_f_diff_trace(i,:) = r2_cv(var_dhpc_trace((120*(i-1)+1):i*120,:),ev_dhpc_trace((120*(i-1)+1):i*120),k_folds,var_ind);\n",
    "end\n",
    "\n"
   ]
  },
  {
   "cell_type": "code",
   "execution_count": 449,
   "metadata": {
    "collapsed": false
   },
   "outputs": [
    {
     "name": "stdout",
     "output_type": "stream",
     "text": [
      "Could not store variable 'linear_model'. Skipping...\n",
      "Could not store variable 'IPython'. Skipping...\n",
      "Could not store variable 'sstats'. Skipping...\n",
      "Could not store variable 'pickle'. Skipping...\n",
      "Could not store variable 'os'. Skipping...\n",
      "Could not store variable 'random'. Skipping...\n",
      "Could not store variable 'stat_func'. Skipping...\n",
      "Could not store variable 'pt'. Skipping...\n",
      "Could not store variable 'pl'. Skipping...\n",
      "Could not store variable 'ip'. Skipping...\n",
      "Could not store variable 'sys'. Skipping...\n",
      "Could not store variable 'pd'. Skipping...\n",
      "Could not store variable 'ut'. Skipping...\n",
      "Could not store variable 'np'. Skipping...\n"
     ]
    }
   ],
   "source": [
    "save_workspace(db)"
   ]
  },
  {
   "cell_type": "code",
   "execution_count": null,
   "metadata": {
    "collapsed": true
   },
   "outputs": [],
   "source": []
  }
 ],
 "metadata": {
  "anaconda-cloud": {},
  "kernelspec": {
   "display_name": "Python [default]",
   "language": "python",
   "name": "python2"
  },
  "language_info": {
   "codemirror_mode": {
    "name": "ipython",
    "version": 2
   },
   "file_extension": ".py",
   "mimetype": "text/x-python",
   "name": "python",
   "nbconvert_exporter": "python",
   "pygments_lexer": "ipython2",
   "version": "2.7.12"
  },
  "nbpresent": {
   "slides": {
    "0d986ed2-5f0a-4fb5-bef8-671b9a7944c2": {
     "id": "0d986ed2-5f0a-4fb5-bef8-671b9a7944c2",
     "layout": "grid",
     "prev": null,
     "regions": {
      "8225e319-a034-4787-b6c3-67ba18e539df": {
       "attrs": {
        "height": 1,
        "pad": 0.01,
        "treemap:weight": 1,
        "width": 0.5,
        "x": 0.5,
        "y": 0
       },
       "id": "8225e319-a034-4787-b6c3-67ba18e539df"
      },
      "da963486-c522-4461-b750-f656e415a1be": {
       "attrs": {
        "height": 1,
        "pad": 0.01,
        "treemap:weight": 1,
        "width": 0.5,
        "x": 0,
        "y": 0
       },
       "id": "da963486-c522-4461-b750-f656e415a1be"
      }
     }
    },
    "1735d954-277d-4120-b50d-1eda74274968": {
     "id": "1735d954-277d-4120-b50d-1eda74274968",
     "prev": "0d986ed2-5f0a-4fb5-bef8-671b9a7944c2",
     "regions": {
      "a6210379-c2c0-4a0b-b180-def0b2e45d5a": {
       "attrs": {
        "height": 1,
        "width": 1,
        "x": 0,
        "y": 0
       },
       "content": {
        "cell": "58ed5f85-9757-4f05-94ef-a631c3d9dd51",
        "part": "outputs"
       },
       "id": "a6210379-c2c0-4a0b-b180-def0b2e45d5a"
      }
     }
    },
    "17414c21-2d5e-4e85-a979-be0a81228952": {
     "id": "17414c21-2d5e-4e85-a979-be0a81228952",
     "prev": "3ba851ce-b3eb-409e-8809-d72887d124c6",
     "regions": {
      "8b369589-ef7b-40d4-986f-89079045d9ea": {
       "attrs": {
        "height": 1,
        "width": 1,
        "x": 0,
        "y": 0
       },
       "id": "8b369589-ef7b-40d4-986f-89079045d9ea"
      }
     }
    },
    "3ba851ce-b3eb-409e-8809-d72887d124c6": {
     "id": "3ba851ce-b3eb-409e-8809-d72887d124c6",
     "prev": "1735d954-277d-4120-b50d-1eda74274968",
     "regions": {
      "a70ad6eb-6c6c-4a9b-b2e6-844787805048": {
       "attrs": {
        "height": 0.7020408163265306,
        "width": 0.8377551020408163,
        "x": 0.1622448979591837,
        "y": 0.2979591836734694
       },
       "content": {
        "cell": "c50576db-4f27-48e8-a63a-42de45527151",
        "part": "outputs"
       },
       "id": "a70ad6eb-6c6c-4a9b-b2e6-844787805048"
      },
      "bebea0da-137b-4a60-9392-618d040c348d": {
       "attrs": {
        "height": 0.1360544217687075,
        "width": 0.8604591836734694,
        "x": 0.1,
        "y": 0.1
       },
       "id": "bebea0da-137b-4a60-9392-618d040c348d"
      }
     }
    }
   },
   "themes": {}
  }
 },
 "nbformat": 4,
 "nbformat_minor": 2
}
