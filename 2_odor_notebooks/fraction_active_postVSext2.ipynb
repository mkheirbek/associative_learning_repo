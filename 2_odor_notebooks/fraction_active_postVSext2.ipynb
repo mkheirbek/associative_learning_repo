{
 "cells": [
  {
   "cell_type": "code",
   "execution_count": 1,
   "metadata": {
    "collapsed": true
   },
   "outputs": [],
   "source": [
    "# all modules necessary for this nb\n",
    "import os\n",
    "import sys\n",
    "import pickle\n",
    "\n",
    "import numpy as np\n",
    "np.random.seed(0)\n",
    "import pylab as pl\n",
    "import scipy.stats as sstats\n",
    "\n",
    "# setting parameters for default matplotlib plots\n",
    "%matplotlib inline"
   ]
  },
  {
   "cell_type": "code",
   "execution_count": 2,
   "metadata": {
    "collapsed": true
   },
   "outputs": [],
   "source": [
    "pl.style.use('fabiostyle')\n",
    "# pl.rcParams['savefig.dpi'] = 300 # dpi for most publications\n",
    "# pl.rcParams['xtick.labelsize'] = 7\n",
    "# pl.rcParams['ytick.labelsize'] = 7\n",
    "# pl.rcParams['axes.labelsize'] = 7\n",
    "# pl.rcParams['axes.titlesize'] = 5\n",
    "# pl.rcParams['legend.fontsize'] = 5\n",
    "# pl.rcParams['xtick.labelsize'] = 5\n",
    "# pl.rcParams['ytick.labelsize'] = 5\n",
    "# pl.rcParams['font.size'] = 7\n",
    "\n",
    "# needs to find the library of functions\n",
    "sys.path.append('../../code/')  # to be replaced!\n",
    "\n",
    "import utils as ut\n",
    "import plots as pt"
   ]
  },
  {
   "cell_type": "code",
   "execution_count": 3,
   "metadata": {
    "collapsed": true
   },
   "outputs": [],
   "source": [
    "NOTEBOOK_NAME = 'fraction_active_postVSext2'"
   ]
  },
  {
   "cell_type": "code",
   "execution_count": 4,
   "metadata": {
    "collapsed": true
   },
   "outputs": [],
   "source": [
    "from pickleshare import PickleShareDB\n",
    "\n",
    "autorestore_folder = os.path.join(os.getcwd(), 'autorestore', NOTEBOOK_NAME)\n",
    "db = PickleShareDB(autorestore_folder)\n",
    "import sys\n",
    "from workspace import *\n",
    "import IPython\n",
    "ip = IPython.get_ipython()\n",
    "\n",
    "# this will restore all the saved variables. ignore the errors listed.\n",
    "# load_workspace(ip, db)\n",
    "\n",
    "# use `save_worspace(db)` to save variables at the end"
   ]
  },
  {
   "cell_type": "code",
   "execution_count": 5,
   "metadata": {
    "collapsed": true
   },
   "outputs": [],
   "source": [
    "from itertools import product\n",
    "def load_all_animals_vars(varname, animal_list, pilot_list=None, notebook='preprocessing'):\n",
    "    all_of_them = {}\n",
    "    for ani in animal_list:\n",
    "        folder = '../%s/notebooks/autorestore/%s/' % (ani, notebook)\n",
    "        all_of_them.update({ani: ut.load_variable(varname, folder)})\n",
    "    return all_of_them"
   ]
  },
  {
   "cell_type": "code",
   "execution_count": 6,
   "metadata": {
    "collapsed": false
   },
   "outputs": [],
   "source": [
    "renew_animals = 'c3f3', 'c3m1', 'c3m2', 'c4m3'\n",
    "\n",
    "patterns_post = dict(zip(renew_animals, [ut.load_variable('patterns_evs_post',\n",
    "                                                          '../%s/notebooks/autorestore/decoding_postVSext2/'%ani)\n",
    "                                              for ani in renew_animals]))\n",
    "patterns_ext2 = dict(zip(renew_animals, [ut.load_variable('patterns_evs_ext2',\n",
    "                                                           '../%s/notebooks/autorestore/decoding_postVSext2/'%ani)\n",
    "                                              for ani in renew_animals]))\n",
    "labels_post = dict(zip(renew_animals, [ut.load_variable('labels_post',\n",
    "                                                        '../%s/notebooks/autorestore/decoding_postVSext2/'%ani)\n",
    "                                              for ani in renew_animals]))\n",
    "labels_ext2 = dict(zip(renew_animals, [ut.load_variable('labels_ext2',\n",
    "                                                         '../%s/notebooks/autorestore/decoding_postVSext2/'%ani)\n",
    "                                              for ani in renew_animals]))\n",
    "\n"
   ]
  },
  {
   "cell_type": "code",
   "execution_count": 7,
   "metadata": {
    "collapsed": true
   },
   "outputs": [],
   "source": [
    "def combine_patterns(patterns, labels, n_patterns=100, classes=[0, 1], labels_mask=None):\n",
    "    patterns_comb_train = []\n",
    "    for i in xrange(n_patterns):\n",
    "        for odor in classes:\n",
    "            p = np.concatenate([patterns[ani][np.random.choice([w for w in np.where(labels[ani]==odor)[0]])]\n",
    "                                for ani in patterns.keys()])\n",
    "            patterns_comb_train.append(p)\n",
    "    return np.r_[patterns_comb_train]\n",
    "\n",
    "labels_comb = np.r_[[0, 1]*100]"
   ]
  },
  {
   "cell_type": "code",
   "execution_count": 8,
   "metadata": {
    "collapsed": false
   },
   "outputs": [],
   "source": [
    "def do_calc(patterns, labels, n_loops=1000):\n",
    "    values_1 = []\n",
    "    values_3 = []\n",
    "    for i in range(n_loops):\n",
    "        patterns_comb = combine_patterns(patterns, labels)\n",
    "        values_1.append((patterns_comb[labels_comb==0]>0).mean(1))\n",
    "        values_3.append((patterns_comb[labels_comb==1]>0).mean(1))\n",
    "        print \".\",\n",
    "    return np.concatenate(values_1), np.concatenate(values_3)"
   ]
  },
  {
   "cell_type": "code",
   "execution_count": 9,
   "metadata": {
    "collapsed": true
   },
   "outputs": [],
   "source": [
    "def sig_test(x, y, nx, ny):\n",
    "    return sstats.ttest_ind_from_stats(x.mean(), np.std(x), nx,\n",
    "                                y.mean(), np.std(y), ny)\n",
    "\n",
    "# def sig_test(x, y, nx, ny):\n",
    "#     return sstats.mannwhitneyu(x, y)"
   ]
  },
  {
   "cell_type": "code",
   "execution_count": 10,
   "metadata": {
    "collapsed": false
   },
   "outputs": [
    {
     "name": "stdout",
     "output_type": "stream",
     "text": [
      ". . . . . . . . . . . . . . . . . . . . . . . . . . . . . . . . . . . . . . . . . . . . . . . . . . . . . . . . . . . . . . . . . . . . . . . . . . . . . . . . . . . . . . . . . . . . . . . . . . . . . . . . . . . . . . . . . . . . . . . . . . . . . . . . . . . . . . . . . . . . . . . . . . . . . . . . . . . . . . . . . . . . . . . . . . . . . . . . . . . . . . . . . . . . . . . . . . . . . . . . . . . . . . . . . . . . . . . . . . . . . . . . . . . . . . . . . . . . . . . . . . . . . . . . . . . . . . . . . . . . . . . . . . . . . . . . . . . . . . . . . . . . . . . . . . . . . . . . . . . . . . . . . . . . . . . . . . . . . . . . . . . . . . . . . . . . . . . . . . . . . . . . . . . . . . . . . . . . . . . . . . . . . . . . . . . . . . . . . . . . . . . . . . . . . . . . . . . . . . . . . . . . . . . . . . . . . . . . . . . . . . . . . . . . . . . . . . . . . . . . . . . . . . . . . . . . . . . . . . . . . . . . . . . . . . . . . . . . . . . . . . . . . . . . . . . . . . . . . . . . . . . . . . . . . . . . . . . . . . . . . . . . . . . . . . . . . . . . . . . . . . . . . . . . . . . . . . . . . . . . . . . . . . . . . . . . . . . . . . . . . . . . . . . . . . . . . . . . . . . . . . . . . . . . . . . . . . . . . . . . . . . . . . . . . . . . . . . . . . . . . . . . . . . . . . . . . . . . . . . . . . . . . . . . . . . . . . . . . . . . . . . . . . . . . . . . . . . . . . . . . . . . . . . . . . . . . . . . . . . . . . . . . . . . . . . . . . . . . . . . . . . . . . . . . . . . . . . . . . . . . . . . . . . . . . . . . . . . . . . . . . . . . . . . . . . . . . . . . . . . . . . . . . . . . . . . . . . . . . . . . . . . . . . . . . . . . . . . . . . . . . . . . . . . . . . . . . . . . . . . . . . . . . . . . . . . . . . . . . . . . . . . . . . . . . . . . . . . . . . . . . . . . . . . . . . . . . . . . . . . . . . . . . . . . . . . . . . . . . . . . . . . . . . . . . . . . . . . . . . . . . . . . . . . . . . . . . . . . . . . . . . . . . . . . . . . . . . . . . . . . . . . . . . . . . . . . . . . . . . . . . . . . . . . . . . . . . . . . . . . . . . . . . . . . . . . . . . . . . . . . . . . . . . . . . . . . . . . . . . . . . . . . . . . . . . . . . . . . . . . . . . . . . . . . . . . . . . . . . . . . . . . . . . . . . . . . . . . . . . . . . . . . . . . . . . . . . . . . . . . . . . . . . . . . . . . . . . . . . . . . . . . . . . . . . . . . . . . . . . . . . . . . . . . . . . . . . . . . . . . . . . . . . . . . . . . . . . . . . . . . . . . . . . . . . . . . . . . . . . . . . . . . . . . . . . . . . . . . . . . . . . . . . . . . . . . . . . . . . . . . . . . . . . . . . . . . . . . . . . . . . . . . . . . . . . . . . . . . . . . . . . . . . . . . . . . . . . . . . . . . . . . . . . . . . . . . . . . . . . . . . . . . . . . . . . . . . . . . . . . . . . . . . . . . . . . . . . . . . . . . . . . . . . . . . . . . . . . . . . . . . . . . . . . . . . . . . . . . . . . . . . . . . . . . . . . . . . . . . . . . . . . . . . . . . . . . . . . . . . . . . . . . . . . . . . . . . . . . . . . . . . . . . . . . . . . . . . . . . . . . . . . . . . . . . . . . . . . . . . . . . . . . . . . . . . . . . . . . . . . . . . . . . . . . . . . . . . . . . . . . . . . . . . . . . . . . . . . . . . . . . . . . . . . . . . . . . . . . . . . . . . . . . . . . . . . . . . . . . . . . . . . . . . . . . . . . . . . . . . . . . . . . . . . . . . . . . . . . . . . . . . . . . . . . . . . . . . . . . . . . . . . . . . . . . . . . . . . . . . . . . . . . . . . . . . . . . . . . . . . . . . . . . . . . . . . . . . . . . . . . . . . . . . . . . . . . . . . . . . . . . . . . . . . . . . . . . . . . . . . . . . . . . . . . . . . . . . . . . . . . . . . . . . . . . . . . . . . . . . . . . . . . . . . . . . . . . . . . . . . . . . . . . . . . . . . . . . . . . . . . . . . . . . . . . . . . . . . . . . . . . . . . . . . . . . . . . . . . . . . . . . . . . . . . . . . . . . . . . . . . . . . . . . . . . . . . . . . . . . . . . . . . . . . . . . . . . . . . . . .CPU times: user 31.8 s, sys: 200 ms, total: 32 s\n",
      "Wall time: 31.7 s\n",
      "\n"
     ]
    }
   ],
   "source": [
    "%%time\n",
    "results_post = do_calc(patterns_post, labels_post)\n",
    "results_ext2 = do_calc(patterns_ext2, labels_ext2)"
   ]
  },
  {
   "cell_type": "code",
   "execution_count": 11,
   "metadata": {
    "collapsed": false
   },
   "outputs": [
    {
     "data": {
      "image/png": "[encoded data removed]",
      "text/plain": [
       "<matplotlib.figure.Figure at 0x7f73dc13bf50>"
      ]
     },
     "metadata": {},
     "output_type": "display_data"
    }
   ],
   "source": [
    "fig, axs = pl.subplots(1, 2, figsize=(2, 1), sharex=True, sharey=True)\n",
    "\n",
    "for ax, r in zip(axs, results_post):\n",
    "    y, x = pl.histogram(r, bins=np.linspace(0, 0.3, 15))\n",
    "#     ax.step(x[:-1]*100, 100.*y/np.sum(y), lw=0.5, where='post', zorder=19)\n",
    "    ax.bar(x[:-1]*100+np.diff(x)[0]*50, 100.*y/np.sum(y), lw=0, alpha=1, color='0.8', width=np.diff(x)[0]*100)\n",
    "for ax, r in zip(axs, results_ext2):\n",
    "    y, x = pl.histogram(r, bins=np.linspace(0, 0.3, 15))\n",
    "    ax.step(x[:-1]*100, 100.*y/np.sum(y), lw=0.5, where='post', zorder=19, color='r')\n",
    "\n",
    "ps = []\n",
    "ps.append(sig_test(results_post[0], results_post[1], nx=30, ny=30)[-1])\n",
    "ps.append(sig_test(results_ext2[0], results_ext2[1], nx=30, ny=30)[-1])\n",
    "ps_stars = ut.convert_p_in_stars(ut.adjust_pvalues(ps))\n",
    "axs[0].text(0, 10, ps_stars[0] if ps_stars[0] is not None else \"n.s.\")#\"%.2e\"%ps[0])\n",
    "axs[1].text(0, 10, ps_stars[1] if ps_stars[0] is not None else \"n.s.\")#\"%.2e\"%ps[0])\n",
    "\n",
    "fig.text(0.5, -0.1, 'Fraction Active (%)', ha='center')\n",
    "\n",
    "axs[0].set_title('CS-')\n",
    "axs[1].set_title('CS+')\n",
    "\n",
    "axs[1].legend(['ext2', 'Post'], loc=(1.1, 0))\n",
    "\n",
    "fig.savefig('../img/%s__hist.pdf'%NOTEBOOK_NAME)"
   ]
  },
  {
   "cell_type": "code",
   "execution_count": 12,
   "metadata": {
    "collapsed": false
   },
   "outputs": [
    {
     "data": {
      "image/png": "[encoded data removed]",
      "text/plain": [
       "<matplotlib.figure.Figure at 0x7f739c04aed0>"
      ]
     },
     "metadata": {},
     "output_type": "display_data"
    }
   ],
   "source": [
    "fig, axs = pl.subplots(1, 2, figsize=(2.5, 1), sharex=True, sharey=True)\n",
    "\n",
    "ax = axs[0]\n",
    "colors = ['r', 'b']\n",
    "for r, c in zip(results_post, colors):\n",
    "    y, x = np.histogram(r, bins=np.linspace(0, 0.5, 50))\n",
    "    ax.step(x*100, np.cumsum(1.*np.r_[y, y[-1]])/np.sum(y)*100, where='post', color=c, alpha=0.5)\n",
    "ax = axs[1]\n",
    "for r, c in zip(results_ext2, colors):\n",
    "    y, x = np.histogram(r, bins=np.linspace(0, 0.5, 50))\n",
    "    ax.step(x*100, np.cumsum(1.*np.r_[y, y[-1]])/np.sum(y)*100, where='post', color=c)\n",
    "\n",
    "# pvs = []\n",
    "# n_corr = 12\n",
    "# for area, day in product([('lec', 0), ('dg', 1)], [('d1', 0), ('d3', 1)]):\n",
    "#     pvs.append(pt.add_significance(axs[day[1]][area[1]],\n",
    "#                                    eval(\"results_%s_%s\"%(area[0], day[0]))[0],\n",
    "#                                    eval(\"results_%s_%s\"%(area[0], day[0]))[1],\n",
    "#                                    40, 40, 70, ticksize=0,\n",
    "#                                    sig_func=lambda x, y: sstats.ttest_ind_from_stats(np.mean(x), np.std(x), 30,\n",
    "#                                                                                      np.mean(y), np.std(y), 30),\n",
    "#                                    thresholds=np.r_[0.05, 0.01, 0.001]/n_corr))\n",
    "#     pvs.append(pt.add_significance(axs[day[1]][area[1]],\n",
    "#                                    eval(\"results_%s_%s\"%(area[0], day[0]))[0],\n",
    "#                                    eval(\"results_%s_%s\"%(area[0], day[0]))[2],\n",
    "#                                    40, 40, 60, ticksize=0,\n",
    "#                                    sig_func=lambda x, y: sstats.ttest_ind_from_stats(np.mean(x), np.std(x), 30,\n",
    "#                                                                                      np.mean(y), np.std(y), 30),\n",
    "#                                    thresholds=np.r_[0.05, 0.01, 0.001]/n_corr))\n",
    "#     pvs.append(pt.add_significance(axs[day[1]][area[1]],\n",
    "#                                    eval(\"results_%s_%s\"%(area[0], day[0]))[1],\n",
    "#                                    eval(\"results_%s_%s\"%(area[0], day[0]))[2],\n",
    "#                                    40, 40, 50, ticksize=0,\n",
    "#                                    sig_func=lambda x, y: sstats.ttest_ind_from_stats(np.mean(x), np.std(x), 30,\n",
    "#                                                                                      np.mean(y), np.std(y), 30),\n",
    "#                                    thresholds=np.r_[0.05, 0.01, 0.001]/n_corr))\n",
    "\n",
    "    \n",
    "ax.set_xlim(0, 50)\n",
    "ax.set_ylim(0, 102)\n",
    "ax.spines['left'].set_bounds(0, 100)\n",
    "\n",
    "axs[0].set_title('Post')\n",
    "axs[1].set_title('Ext2')\n",
    "\n",
    "axs[-1].legend(['CS-', 'CS+'])\n",
    "\n",
    "fig.text(0.5, -0.1, 'Fraction Active (%)', ha='center')\n",
    "\n",
    "fig.text(0, 0.5, 'CDF', rotation=90, va='center')\n",
    "\n",
    "fig.savefig('../img/%s__cdf.pdf'%NOTEBOOK_NAME, bbox_inches='tight')"
   ]
  },
  {
   "cell_type": "code",
   "execution_count": null,
   "metadata": {
    "collapsed": true
   },
   "outputs": [],
   "source": []
  },
  {
   "cell_type": "code",
   "execution_count": null,
   "metadata": {
    "collapsed": true
   },
   "outputs": [],
   "source": []
  }
 ],
 "metadata": {
  "anaconda-cloud": {},
  "kernelspec": {
   "display_name": "Python [default]",
   "language": "python",
   "name": "python2"
  },
  "language_info": {
   "codemirror_mode": {
    "name": "ipython",
    "version": 2
   },
   "file_extension": ".py",
   "mimetype": "text/x-python",
   "name": "python",
   "nbconvert_exporter": "python",
   "pygments_lexer": "ipython2",
   "version": "2.7.12"
  }
 },
 "nbformat": 4,
 "nbformat_minor": 2
}
