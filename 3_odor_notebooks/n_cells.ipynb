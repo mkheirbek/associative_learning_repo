{
 "cells": [
  {
   "cell_type": "code",
   "execution_count": 1,
   "metadata": {
    "collapsed": false
   },
   "outputs": [
    {
     "data": {
      "text/html": [
       "<script>jQuery(function() {if (jQuery(\"body.notebook_app\").length == 0) { jQuery(\".input_area\").toggle(); jQuery(\".prompt\").toggle();}});</script>"
      ]
     },
     "metadata": {},
     "output_type": "display_data"
    },
    {
     "data": {
      "text/html": [
       "<button onclick=\"jQuery('.input_area').toggle(); jQuery('.prompt').toggle();\">Toggle code</button>"
      ]
     },
     "metadata": {},
     "output_type": "display_data"
    }
   ],
   "source": [
    "from IPython.display import display\n",
    "from IPython.display import HTML\n",
    "import IPython.core.display as di # Example: di.display_html('<h3>%s:</h3>' % str, raw=True)\n",
    "\n",
    "# This line will hide code by default when the notebook is exported as HTML\n",
    "di.display_html('<script>jQuery(function() {if (jQuery(\"body.notebook_app\").length == 0) { jQuery(\".input_area\").toggle(); jQuery(\".prompt\").toggle();}});</script>', raw=True)\n",
    "\n",
    "# This line will add a button to toggle visibility of code blocks, for use with the HTML export version\n",
    "di.display_html('''<button onclick=\"jQuery('.input_area').toggle(); jQuery('.prompt').toggle();\">Toggle code</button>''', raw=True)\n"
   ]
  },
  {
   "cell_type": "code",
   "execution_count": 2,
   "metadata": {
    "collapsed": true
   },
   "outputs": [],
   "source": [
    "# all modules necessary for this nb\n",
    "import os\n",
    "import sys\n",
    "import pickle\n",
    "\n",
    "import numpy as np\n",
    "np.random.seed(0)\n",
    "import pylab as pl\n",
    "import scipy.stats as sstats\n",
    "\n",
    "# setting parameters for default matplotlib plots\n",
    "%matplotlib inline"
   ]
  },
  {
   "cell_type": "code",
   "execution_count": 3,
   "metadata": {
    "collapsed": false
   },
   "outputs": [],
   "source": [
    "pl.style.use('fabiostyle')\n",
    "# pl.rcParams['savefig.dpi'] = 300 # dpi for most publications\n",
    "# pl.rcParams['xtick.labelsize'] = 7\n",
    "# pl.rcParams['ytick.labelsize'] = 7\n",
    "# pl.rcParams['axes.labelsize'] = 7\n",
    "# pl.rcParams['axes.titlesize'] = 5\n",
    "# pl.rcParams['legend.fontsize'] = 5\n",
    "# pl.rcParams['xtick.labelsize'] = 5\n",
    "# pl.rcParams['ytick.labelsize'] = 5\n",
    "# pl.rcParams['font.size'] = 7\n",
    "\n",
    "# needs to find the library of functions\n",
    "sys.path.append('../../../code/')  # to be replaced!\n",
    "\n",
    "import utils as ut\n",
    "import plots as pt"
   ]
  },
  {
   "cell_type": "code",
   "execution_count": 4,
   "metadata": {
    "collapsed": false
   },
   "outputs": [],
   "source": [
    "NOTEBOOK_NAME = 'n_cells'"
   ]
  },
  {
   "cell_type": "code",
   "execution_count": 5,
   "metadata": {
    "collapsed": false
   },
   "outputs": [
    {
     "name": "stdout",
     "output_type": "stream",
     "text": [
      "Unable to restore variable 'load_all_animals_vars', ignoring (use %store -d to forget!)\n",
      "('The error was:', <type 'exceptions.KeyError'>)\n"
     ]
    }
   ],
   "source": [
    "from pickleshare import PickleShareDB\n",
    "\n",
    "autorestore_folder = os.path.join(os.getcwd(), 'autorestore', NOTEBOOK_NAME)\n",
    "db = PickleShareDB(autorestore_folder)\n",
    "import sys\n",
    "from workspace import *\n",
    "import IPython\n",
    "ip = IPython.get_ipython()\n",
    "\n",
    "# this will restore all the saved variables. ignore the errors listed.\n",
    "load_workspace(ip, db)\n",
    "\n",
    "# use `save_worspace(db)` to save variables at the end"
   ]
  },
  {
   "cell_type": "code",
   "execution_count": 6,
   "metadata": {
    "collapsed": false,
    "scrolled": false
   },
   "outputs": [],
   "source": [
    "from itertools import product\n",
    "def load_all_animals_vars(varname, animal_list, pilot_list=None, notebook='preprocessing'):\n",
    "    all_of_them = {}\n",
    "    for ani in animal_list:\n",
    "        folder = '../%s/notebooks/autorestore/%s/' % (ani, notebook)\n",
    "        all_of_them.update({ani: ut.load_variable(varname, folder)})\n",
    "    return all_of_them"
   ]
  },
  {
   "cell_type": "code",
   "execution_count": 7,
   "metadata": {
    "collapsed": true
   },
   "outputs": [],
   "source": [
    "all_animals_vhpc =      'c3f3', 'c3f2', 'c3m1', 'c3m2', 'c4m4', 'c10m8', '90', '91', '92', '93'\n",
    "pre_animals_vhpc =      'c3f3', 'c3f2', 'c3m1', 'c3m2', 'c4m4', 'c10m8', '90', '91', '92', '93'\n",
    "post_animals_vhpc =     'c3f3', 'c3f2', 'c3m1', 'c3m2', 'c4m4', 'c10m8', '90', '91', '92', '93','91b','92b','93b'\n",
    "pre_rev_animals_vhpc =  'c3f3', 'c3f2', 'c3m1', 'c3m2', 'c4m4', 'c10m8', '90', '91', '92', '93'\n",
    "post_rev_animals_vhpc = 'c3f3', 'c3f2', 'c3m1', 'c3m2', 'c4m4', 'c10m8', '90', '91', '92', '93','91b','92b','93b'\n",
    "catch_animals_vhpc =    'c3f3', 'c3f2', 'c3m1', 'c3m2', 'c4m4', 'c10m8', '90', '91', '92', '93'\n",
    "\n",
    "all_animals_vdpc =      'dhpcg1','dhpc24','dhpcg20'\n",
    "pre_animals_dhpc =      'dhpcg1','dhpc24','dhpcg20'\n",
    "post_animals_dhpc =     'dhpcg1','dhpc24','dhpcg20'\n",
    "pre_rev_animals_dhpc =  'dhpcg1','dhpc24','dhpcg20'\n",
    "post_rev_animals_dhpc = 'dhpcg1','dhpc24','dhpcg20'\n",
    "catch_animals_dhpc =    'dhpcg1',         'dhpcg20'"
   ]
  },
  {
   "cell_type": "code",
   "execution_count": 8,
   "metadata": {
    "collapsed": false
   },
   "outputs": [],
   "source": [
    "prepost_animals_vhpc =       'c3f3', 'c3f2', 'c3m1', 'c3m2', 'c4m4', 'c10m8', '90', '91', '92', '93'\n",
    "prepre_rev_animals_vhpc =    'c3f3', 'c3f2', 'c3m1', 'c3m2', 'c4m4', 'c10m8', '90', '91', '92', '93'\n",
    "prepost_rev_animals_vhpc =   'c3f3',         'c3m1', 'c3m2', 'c4m4', 'c10m8', '90', '91',       '93'\n",
    "postpost_rev_animals_vhpc =  'c3f3', 'c3f2', 'c3m1', 'c3m2', 'c4m4', 'c10m8', '90', '91', '92', '93','91b','92b','93b'\n",
    "postpre_rev_animals_vhpc =   'c3f3', 'c3f2', 'c3m1', 'c3m2', 'c4m4', 'c10m8', '90', '91', '92', '93'\n",
    "pre_revpost_rev_animals_vhpc='c3f3', 'c3f2', 'c3m1',         'c4m4', 'c10m8', '90', '91', '92', '93'\n",
    "postcatch_animals_vhpc =     'c3f3', 'c3f2', 'c3m1', 'c3m2', 'c4m4', 'c10m8', '90', '91', '92', '93'\n",
    "post_revcatch_animals_vhpc=  'c3f3', 'c3f2', 'c3m1', 'c3m2', 'c4m4', 'c10m8', '90', '91', '92', '93'"
   ]
  },
  {
   "cell_type": "code",
   "execution_count": 9,
   "metadata": {
    "collapsed": false
   },
   "outputs": [],
   "source": [
    "prepost_animals_dhpc =       'dhpcg1','dhpc24','dhpcg20'\n",
    "prepre_rev_animals_dhpc =    'dhpcg1','dhpc24','dhpcg20'\n",
    "prepost_rev_animals_dhpc =            'dhpc24','dhpcg20'\n",
    "postpost_rev_animals_dhpc =  'dhpcg1','dhpc24','dhpcg20'\n",
    "postpre_rev_animals_dhpc =   'dhpcg1','dhpc24','dhpcg20'\n",
    "pre_revpost_rev_animals_dhpc='dhpcg1','dhpc24','dhpcg20'\n",
    "postcatch_animals_dhpc =     'dhpcg1'         ,'dhpcg20'\n",
    "post_revcatch_animals_dhpc=  'dhpcg1'         ,'dhpcg20'"
   ]
  },
  {
   "cell_type": "code",
   "execution_count": 10,
   "metadata": {
    "collapsed": false
   },
   "outputs": [
    {
     "name": "stdout",
     "output_type": "stream",
     "text": [
      "total_vhpc_cells_prepost =\n",
      "294\n",
      "total_vhpc_cells_prepost =\n",
      "294\n",
      "total_vhpc_cells_prepost =\n",
      "294\n",
      "total_vhpc_cells_prepost =\n",
      "294\n",
      "total_vhpc_cells_prepost =\n",
      "294\n",
      "total_vhpc_cells_prepost =\n",
      "294\n",
      "total_vhpc_cells_prepost =\n",
      "294\n",
      "total_vhpc_cells_prepost =\n",
      "294\n",
      "total_vhpc_cells_prepost =\n",
      "294\n",
      "total_vhpc_cells_prepost =\n",
      "294\n",
      "total_vhpc_cells_prepost =\n",
      "294\n",
      "total_vhpc_cells_prepost =\n",
      "294\n",
      "total_vhpc_cells_prepost =\n",
      "294\n",
      "total_vhpc_cells_prepost =\n",
      "294\n",
      "total_vhpc_cells_prepost =\n",
      "294\n",
      "total_vhpc_cells_prepost =\n",
      "294\n",
      "total_vhpc_cells_prepost =\n",
      "294\n",
      "total_vhpc_cells_prepost =\n",
      "294\n",
      "total_vhpc_cells_prepre_rev =\n",
      "244\n",
      "total_vhpc_cells_prepre_rev =\n",
      "244\n",
      "total_vhpc_cells_prepre_rev =\n",
      "244\n",
      "total_vhpc_cells_prepre_rev =\n",
      "244\n",
      "total_vhpc_cells_prepre_rev =\n",
      "244\n",
      "total_vhpc_cells_prepre_rev =\n",
      "244\n",
      "total_vhpc_cells_prepre_rev =\n",
      "244\n",
      "total_vhpc_cells_prepre_rev =\n",
      "244\n",
      "total_vhpc_cells_prepre_rev =\n",
      "244\n",
      "total_vhpc_cells_prepre_rev =\n",
      "244\n",
      "total_vhpc_cells_prepre_rev =\n",
      "244\n",
      "total_vhpc_cells_prepre_rev =\n",
      "244\n",
      "total_vhpc_cells_prepre_rev =\n",
      "244\n",
      "total_vhpc_cells_prepre_rev =\n",
      "244\n",
      "total_vhpc_cells_prepre_rev =\n",
      "244\n",
      "total_vhpc_cells_prepre_rev =\n",
      "244\n",
      "total_vhpc_cells_prepre_rev =\n",
      "244\n",
      "total_vhpc_cells_prepre_rev =\n",
      "244\n",
      "total_vhpc_cells_prepost_rev =\n",
      "171\n",
      "total_vhpc_cells_prepost_rev =\n",
      "171\n",
      "total_vhpc_cells_prepost_rev =\n",
      "171\n",
      "total_vhpc_cells_prepost_rev =\n",
      "171\n",
      "total_vhpc_cells_prepost_rev =\n",
      "171\n",
      "total_vhpc_cells_prepost_rev =\n",
      "171\n",
      "total_vhpc_cells_prepost_rev =\n",
      "171\n",
      "total_vhpc_cells_prepost_rev =\n",
      "171\n",
      "total_vhpc_cells_prepost_rev =\n",
      "171\n",
      "total_vhpc_cells_prepost_rev =\n",
      "171\n",
      "total_vhpc_cells_prepost_rev =\n",
      "171\n",
      "total_vhpc_cells_prepost_rev =\n",
      "171\n",
      "total_vhpc_cells_prepost_rev =\n",
      "171\n",
      "total_vhpc_cells_prepost_rev =\n",
      "171\n",
      "total_vhpc_cells_prepost_rev =\n",
      "171\n",
      "total_vhpc_cells_prepost_rev =\n",
      "171\n",
      "total_vhpc_cells_prepost_rev =\n",
      "171\n",
      "total_vhpc_cells_prepost_rev =\n",
      "171\n",
      "vhpc prevscatch_sh_rw_cs_1a did not complete\n",
      "vhpc prevscatch_sh_rw_tr_1a did not complete\n",
      "vhpc prevscatch_sh_rw_cs_1b did not complete\n",
      "vhpc prevscatch_sh_rw_tr_1b did not complete\n",
      "vhpc prevscatch_sh_rw_cs_2 did not complete\n",
      "vhpc prevscatch_sh_rw_tr_2 did not complete\n",
      "vhpc prevscatch_sh_csm_cs_1a did not complete\n",
      "vhpc prevscatch_sh_csm_tr_1a did not complete\n",
      "vhpc prevscatch_sh_csm_cs_1b did not complete\n",
      "vhpc prevscatch_sh_csm_tr_1b did not complete\n",
      "vhpc prevscatch_sh_csm_cs_2 did not complete\n",
      "vhpc prevscatch_sh_csm_tr_2 did not complete\n",
      "vhpc prevscatch_rw_csm_cs_1a did not complete\n",
      "vhpc prevscatch_rw_csm_tr_1a did not complete\n",
      "vhpc prevscatch_rw_csm_cs_1b did not complete\n",
      "vhpc prevscatch_rw_csm_tr_1b did not complete\n",
      "vhpc prevscatch_rw_csm_cs_2 did not complete\n",
      "vhpc prevscatch_rw_csm_tr_2 did not complete\n",
      "total_vhpc_cells_postpre_rev =\n",
      "301\n",
      "total_vhpc_cells_postpre_rev =\n",
      "301\n",
      "total_vhpc_cells_postpre_rev =\n",
      "301\n",
      "total_vhpc_cells_postpre_rev =\n",
      "301\n",
      "total_vhpc_cells_postpre_rev =\n",
      "301\n",
      "total_vhpc_cells_postpre_rev =\n",
      "301\n",
      "total_vhpc_cells_postpre_rev =\n",
      "301\n",
      "total_vhpc_cells_postpre_rev =\n",
      "301\n",
      "total_vhpc_cells_postpre_rev =\n",
      "301\n",
      "total_vhpc_cells_postpre_rev =\n",
      "301\n",
      "total_vhpc_cells_postpre_rev =\n",
      "301\n",
      "total_vhpc_cells_postpre_rev =\n",
      "301\n",
      "total_vhpc_cells_postpre_rev =\n",
      "301\n",
      "total_vhpc_cells_postpre_rev =\n",
      "301\n",
      "total_vhpc_cells_postpre_rev =\n",
      "301\n",
      "total_vhpc_cells_postpre_rev =\n",
      "301\n",
      "total_vhpc_cells_postpre_rev =\n",
      "301\n",
      "total_vhpc_cells_postpre_rev =\n",
      "301\n",
      "total_vhpc_cells_postpost_rev =\n",
      "392\n",
      "total_vhpc_cells_postpost_rev =\n",
      "392\n",
      "total_vhpc_cells_postpost_rev =\n",
      "392\n",
      "total_vhpc_cells_postpost_rev =\n",
      "392\n",
      "total_vhpc_cells_postpost_rev =\n",
      "392\n",
      "total_vhpc_cells_postpost_rev =\n",
      "392\n",
      "total_vhpc_cells_postpost_rev =\n",
      "392\n",
      "total_vhpc_cells_postpost_rev =\n",
      "392\n",
      "total_vhpc_cells_postpost_rev =\n",
      "392\n",
      "total_vhpc_cells_postpost_rev =\n",
      "392\n",
      "total_vhpc_cells_postpost_rev =\n",
      "392\n",
      "total_vhpc_cells_postpost_rev =\n",
      "392\n",
      "total_vhpc_cells_postpost_rev =\n",
      "392\n",
      "total_vhpc_cells_postpost_rev =\n",
      "392\n",
      "total_vhpc_cells_postpost_rev =\n",
      "392\n",
      "total_vhpc_cells_postpost_rev =\n",
      "392\n",
      "total_vhpc_cells_postpost_rev =\n",
      "392\n",
      "total_vhpc_cells_postpost_rev =\n",
      "392\n",
      "vhpc postvscatch_sh_rw_cs_1a did not complete\n",
      "vhpc postvscatch_sh_rw_tr_1a did not complete\n",
      "vhpc postvscatch_sh_rw_cs_1b did not complete\n",
      "vhpc postvscatch_sh_rw_tr_1b did not complete\n",
      "vhpc postvscatch_sh_rw_cs_2 did not complete\n",
      "vhpc postvscatch_sh_rw_tr_2 did not complete\n",
      "vhpc postvscatch_sh_csm_cs_1a did not complete\n",
      "vhpc postvscatch_sh_csm_tr_1a did not complete\n",
      "vhpc postvscatch_sh_csm_cs_1b did not complete\n",
      "vhpc postvscatch_sh_csm_tr_1b did not complete\n",
      "vhpc postvscatch_sh_csm_cs_2 did not complete\n",
      "vhpc postvscatch_sh_csm_tr_2 did not complete\n",
      "vhpc postvscatch_rw_csm_cs_1a did not complete\n",
      "vhpc postvscatch_rw_csm_tr_1a did not complete\n",
      "vhpc postvscatch_rw_csm_cs_1b did not complete\n",
      "vhpc postvscatch_rw_csm_tr_1b did not complete\n",
      "vhpc postvscatch_rw_csm_cs_2 did not complete\n",
      "vhpc postvscatch_rw_csm_tr_2 did not complete\n",
      "total_vhpc_cells_pre_revpost_rev =\n",
      "260\n",
      "total_vhpc_cells_pre_revpost_rev =\n",
      "260\n",
      "total_vhpc_cells_pre_revpost_rev =\n",
      "260\n",
      "total_vhpc_cells_pre_revpost_rev =\n",
      "260\n",
      "total_vhpc_cells_pre_revpost_rev =\n",
      "260\n",
      "total_vhpc_cells_pre_revpost_rev =\n",
      "260\n",
      "total_vhpc_cells_pre_revpost_rev =\n",
      "260\n",
      "total_vhpc_cells_pre_revpost_rev =\n",
      "260\n",
      "total_vhpc_cells_pre_revpost_rev =\n",
      "260\n",
      "total_vhpc_cells_pre_revpost_rev =\n",
      "260\n",
      "total_vhpc_cells_pre_revpost_rev =\n",
      "260\n",
      "total_vhpc_cells_pre_revpost_rev =\n",
      "260\n",
      "total_vhpc_cells_pre_revpost_rev =\n",
      "260\n",
      "total_vhpc_cells_pre_revpost_rev =\n",
      "260\n",
      "total_vhpc_cells_pre_revpost_rev =\n",
      "260\n",
      "total_vhpc_cells_pre_revpost_rev =\n",
      "260\n",
      "total_vhpc_cells_pre_revpost_rev =\n",
      "260\n",
      "total_vhpc_cells_pre_revpost_rev =\n",
      "260\n",
      "vhpc pre_revvscatch_sh_rw_cs_1a did not complete\n",
      "vhpc pre_revvscatch_sh_rw_tr_1a did not complete\n",
      "vhpc pre_revvscatch_sh_rw_cs_1b did not complete\n",
      "vhpc pre_revvscatch_sh_rw_tr_1b did not complete\n",
      "vhpc pre_revvscatch_sh_rw_cs_2 did not complete\n",
      "vhpc pre_revvscatch_sh_rw_tr_2 did not complete\n",
      "vhpc pre_revvscatch_sh_csm_cs_1a did not complete\n",
      "vhpc pre_revvscatch_sh_csm_tr_1a did not complete\n",
      "vhpc pre_revvscatch_sh_csm_cs_1b did not complete\n",
      "vhpc pre_revvscatch_sh_csm_tr_1b did not complete\n",
      "vhpc pre_revvscatch_sh_csm_cs_2 did not complete\n",
      "vhpc pre_revvscatch_sh_csm_tr_2 did not complete\n",
      "vhpc pre_revvscatch_rw_csm_cs_1a did not complete\n",
      "vhpc pre_revvscatch_rw_csm_tr_1a did not complete\n",
      "vhpc pre_revvscatch_rw_csm_cs_1b did not complete\n",
      "vhpc pre_revvscatch_rw_csm_tr_1b did not complete\n",
      "vhpc pre_revvscatch_rw_csm_cs_2 did not complete\n",
      "vhpc pre_revvscatch_rw_csm_tr_2 did not complete\n",
      "vhpc post_revvscatch_sh_rw_cs_1a did not complete\n",
      "vhpc post_revvscatch_sh_rw_tr_1a did not complete\n",
      "vhpc post_revvscatch_sh_rw_cs_1b did not complete\n",
      "vhpc post_revvscatch_sh_rw_tr_1b did not complete\n",
      "vhpc post_revvscatch_sh_rw_cs_2 did not complete\n",
      "vhpc post_revvscatch_sh_rw_tr_2 did not complete\n",
      "vhpc post_revvscatch_sh_csm_cs_1a did not complete\n",
      "vhpc post_revvscatch_sh_csm_tr_1a did not complete\n",
      "vhpc post_revvscatch_sh_csm_cs_1b did not complete\n",
      "vhpc post_revvscatch_sh_csm_tr_1b did not complete\n",
      "vhpc post_revvscatch_sh_csm_cs_2 did not complete\n",
      "vhpc post_revvscatch_sh_csm_tr_2 did not complete\n",
      "vhpc post_revvscatch_rw_csm_cs_1a did not complete\n",
      "vhpc post_revvscatch_rw_csm_tr_1a did not complete\n",
      "vhpc post_revvscatch_rw_csm_cs_1b did not complete\n",
      "vhpc post_revvscatch_rw_csm_tr_1b did not complete\n",
      "vhpc post_revvscatch_rw_csm_cs_2 did not complete\n",
      "vhpc post_revvscatch_rw_csm_tr_2 did not complete\n",
      "total_dhpc_cells_prepost =\n",
      "360\n",
      "total_dhpc_cells_prepost =\n",
      "360\n",
      "total_dhpc_cells_prepost =\n",
      "360\n",
      "total_dhpc_cells_prepost =\n",
      "360\n",
      "total_dhpc_cells_prepost =\n",
      "360\n",
      "total_dhpc_cells_prepost =\n",
      "360\n",
      "total_dhpc_cells_prepost =\n",
      "360\n",
      "total_dhpc_cells_prepost =\n",
      "360\n",
      "total_dhpc_cells_prepost =\n",
      "360\n",
      "total_dhpc_cells_prepost =\n",
      "360\n",
      "total_dhpc_cells_prepost =\n",
      "360\n",
      "total_dhpc_cells_prepost =\n",
      "360\n",
      "total_dhpc_cells_prepost =\n",
      "360\n",
      "total_dhpc_cells_prepost =\n",
      "360\n",
      "total_dhpc_cells_prepost =\n",
      "360\n",
      "total_dhpc_cells_prepost =\n",
      "360\n",
      "total_dhpc_cells_prepost =\n",
      "360\n",
      "total_dhpc_cells_prepost =\n",
      "360\n",
      "total_dhpc_cells_prepre_rev =\n",
      "254\n",
      "total_dhpc_cells_prepre_rev =\n",
      "254\n",
      "total_dhpc_cells_prepre_rev =\n",
      "254\n",
      "total_dhpc_cells_prepre_rev =\n",
      "254\n",
      "total_dhpc_cells_prepre_rev =\n",
      "254\n",
      "total_dhpc_cells_prepre_rev =\n",
      "254\n",
      "total_dhpc_cells_prepre_rev =\n",
      "254\n",
      "total_dhpc_cells_prepre_rev =\n",
      "254\n",
      "total_dhpc_cells_prepre_rev =\n",
      "254\n",
      "total_dhpc_cells_prepre_rev =\n",
      "254\n",
      "total_dhpc_cells_prepre_rev =\n",
      "254\n",
      "total_dhpc_cells_prepre_rev =\n",
      "254\n",
      "total_dhpc_cells_prepre_rev =\n",
      "254\n",
      "total_dhpc_cells_prepre_rev =\n",
      "254\n",
      "total_dhpc_cells_prepre_rev =\n",
      "254\n",
      "total_dhpc_cells_prepre_rev =\n",
      "254\n",
      "total_dhpc_cells_prepre_rev =\n",
      "254\n",
      "total_dhpc_cells_prepre_rev =\n",
      "254\n",
      "total_dhpc_cells_prepost_rev =\n",
      "200\n",
      "total_dhpc_cells_prepost_rev =\n",
      "200\n",
      "total_dhpc_cells_prepost_rev =\n",
      "200\n",
      "total_dhpc_cells_prepost_rev =\n",
      "200\n",
      "total_dhpc_cells_prepost_rev =\n",
      "200\n",
      "total_dhpc_cells_prepost_rev =\n",
      "200\n",
      "total_dhpc_cells_prepost_rev =\n",
      "200\n",
      "total_dhpc_cells_prepost_rev =\n",
      "200\n",
      "total_dhpc_cells_prepost_rev =\n",
      "200\n",
      "total_dhpc_cells_prepost_rev =\n",
      "200\n",
      "total_dhpc_cells_prepost_rev =\n",
      "200\n",
      "total_dhpc_cells_prepost_rev =\n",
      "200\n",
      "total_dhpc_cells_prepost_rev =\n",
      "200\n",
      "total_dhpc_cells_prepost_rev =\n",
      "200\n",
      "total_dhpc_cells_prepost_rev =\n",
      "200\n",
      "total_dhpc_cells_prepost_rev =\n",
      "200\n",
      "total_dhpc_cells_prepost_rev =\n",
      "200\n",
      "total_dhpc_cells_prepost_rev =\n",
      "200\n",
      "dhpc prevscatch_sh_rw_cs_1a did not complete\n",
      "dhpc prevscatch_sh_rw_tr_1a did not complete\n",
      "dhpc prevscatch_sh_rw_cs_1b did not complete\n",
      "dhpc prevscatch_sh_rw_tr_1b did not complete\n",
      "dhpc prevscatch_sh_rw_cs_2 did not complete\n",
      "dhpc prevscatch_sh_rw_tr_2 did not complete\n",
      "dhpc prevscatch_sh_csm_cs_1a did not complete\n",
      "dhpc prevscatch_sh_csm_tr_1a did not complete\n",
      "dhpc prevscatch_sh_csm_cs_1b did not complete\n",
      "dhpc prevscatch_sh_csm_tr_1b did not complete\n",
      "dhpc prevscatch_sh_csm_cs_2 did not complete\n",
      "dhpc prevscatch_sh_csm_tr_2 did not complete\n",
      "dhpc prevscatch_rw_csm_cs_1a did not complete\n",
      "dhpc prevscatch_rw_csm_tr_1a did not complete\n",
      "dhpc prevscatch_rw_csm_cs_1b did not complete\n",
      "dhpc prevscatch_rw_csm_tr_1b did not complete\n",
      "dhpc prevscatch_rw_csm_cs_2 did not complete\n",
      "dhpc prevscatch_rw_csm_tr_2 did not complete\n",
      "total_dhpc_cells_postpre_rev =\n",
      "617\n",
      "total_dhpc_cells_postpre_rev =\n",
      "617\n",
      "total_dhpc_cells_postpre_rev =\n",
      "617\n",
      "total_dhpc_cells_postpre_rev =\n",
      "617\n",
      "total_dhpc_cells_postpre_rev =\n",
      "617\n",
      "total_dhpc_cells_postpre_rev =\n",
      "617\n",
      "total_dhpc_cells_postpre_rev =\n",
      "617\n",
      "total_dhpc_cells_postpre_rev =\n",
      "617\n",
      "total_dhpc_cells_postpre_rev =\n",
      "617\n",
      "total_dhpc_cells_postpre_rev =\n",
      "617\n",
      "total_dhpc_cells_postpre_rev =\n",
      "617\n",
      "total_dhpc_cells_postpre_rev =\n",
      "617\n",
      "total_dhpc_cells_postpre_rev =\n",
      "617\n",
      "total_dhpc_cells_postpre_rev =\n",
      "617\n",
      "total_dhpc_cells_postpre_rev =\n",
      "617\n",
      "total_dhpc_cells_postpre_rev =\n",
      "617\n",
      "total_dhpc_cells_postpre_rev =\n",
      "617\n",
      "total_dhpc_cells_postpre_rev =\n",
      "617\n",
      "total_dhpc_cells_postpost_rev =\n",
      "281\n",
      "total_dhpc_cells_postpost_rev =\n",
      "281\n",
      "total_dhpc_cells_postpost_rev =\n",
      "281\n",
      "total_dhpc_cells_postpost_rev =\n",
      "281\n",
      "total_dhpc_cells_postpost_rev =\n",
      "281\n",
      "total_dhpc_cells_postpost_rev =\n",
      "281\n",
      "total_dhpc_cells_postpost_rev =\n",
      "281\n",
      "total_dhpc_cells_postpost_rev =\n",
      "281\n",
      "total_dhpc_cells_postpost_rev =\n",
      "281\n",
      "total_dhpc_cells_postpost_rev =\n",
      "281\n",
      "total_dhpc_cells_postpost_rev =\n",
      "281\n",
      "total_dhpc_cells_postpost_rev =\n",
      "281\n",
      "total_dhpc_cells_postpost_rev =\n",
      "281\n",
      "total_dhpc_cells_postpost_rev =\n",
      "281\n",
      "total_dhpc_cells_postpost_rev =\n",
      "281\n",
      "total_dhpc_cells_postpost_rev =\n",
      "281\n",
      "total_dhpc_cells_postpost_rev =\n",
      "281\n",
      "total_dhpc_cells_postpost_rev =\n",
      "281\n",
      "dhpc postvscatch_sh_rw_cs_1a did not complete\n",
      "dhpc postvscatch_sh_rw_tr_1a did not complete\n",
      "dhpc postvscatch_sh_rw_cs_1b did not complete\n",
      "dhpc postvscatch_sh_rw_tr_1b did not complete\n",
      "dhpc postvscatch_sh_rw_cs_2 did not complete\n",
      "dhpc postvscatch_sh_rw_tr_2 did not complete\n",
      "dhpc postvscatch_sh_csm_cs_1a did not complete\n",
      "dhpc postvscatch_sh_csm_tr_1a did not complete\n",
      "dhpc postvscatch_sh_csm_cs_1b did not complete\n",
      "dhpc postvscatch_sh_csm_tr_1b did not complete\n",
      "dhpc postvscatch_sh_csm_cs_2 did not complete\n",
      "dhpc postvscatch_sh_csm_tr_2 did not complete\n",
      "dhpc postvscatch_rw_csm_cs_1a did not complete\n",
      "dhpc postvscatch_rw_csm_tr_1a did not complete\n",
      "dhpc postvscatch_rw_csm_cs_1b did not complete\n",
      "dhpc postvscatch_rw_csm_tr_1b did not complete\n",
      "dhpc postvscatch_rw_csm_cs_2 did not complete\n",
      "dhpc postvscatch_rw_csm_tr_2 did not complete\n",
      "total_dhpc_cells_pre_revpost_rev =\n",
      "375\n",
      "total_dhpc_cells_pre_revpost_rev =\n",
      "375\n",
      "total_dhpc_cells_pre_revpost_rev =\n",
      "375\n",
      "total_dhpc_cells_pre_revpost_rev =\n",
      "375\n",
      "total_dhpc_cells_pre_revpost_rev =\n",
      "375\n",
      "total_dhpc_cells_pre_revpost_rev =\n",
      "375\n",
      "total_dhpc_cells_pre_revpost_rev =\n",
      "375\n",
      "total_dhpc_cells_pre_revpost_rev =\n",
      "375\n",
      "total_dhpc_cells_pre_revpost_rev =\n",
      "375\n",
      "total_dhpc_cells_pre_revpost_rev =\n",
      "375\n",
      "total_dhpc_cells_pre_revpost_rev =\n",
      "375\n",
      "total_dhpc_cells_pre_revpost_rev =\n",
      "375\n",
      "total_dhpc_cells_pre_revpost_rev =\n",
      "375\n",
      "total_dhpc_cells_pre_revpost_rev =\n",
      "375\n",
      "total_dhpc_cells_pre_revpost_rev =\n",
      "375\n",
      "total_dhpc_cells_pre_revpost_rev =\n",
      "375\n",
      "total_dhpc_cells_pre_revpost_rev =\n",
      "375\n",
      "total_dhpc_cells_pre_revpost_rev =\n",
      "375\n",
      "dhpc pre_revvscatch_sh_rw_cs_1a did not complete\n",
      "dhpc pre_revvscatch_sh_rw_tr_1a did not complete\n",
      "dhpc pre_revvscatch_sh_rw_cs_1b did not complete\n",
      "dhpc pre_revvscatch_sh_rw_tr_1b did not complete\n",
      "dhpc pre_revvscatch_sh_rw_cs_2 did not complete\n",
      "dhpc pre_revvscatch_sh_rw_tr_2 did not complete\n",
      "dhpc pre_revvscatch_sh_csm_cs_1a did not complete\n",
      "dhpc pre_revvscatch_sh_csm_tr_1a did not complete\n",
      "dhpc pre_revvscatch_sh_csm_cs_1b did not complete\n",
      "dhpc pre_revvscatch_sh_csm_tr_1b did not complete\n",
      "dhpc pre_revvscatch_sh_csm_cs_2 did not complete\n",
      "dhpc pre_revvscatch_sh_csm_tr_2 did not complete\n",
      "dhpc pre_revvscatch_rw_csm_cs_1a did not complete\n",
      "dhpc pre_revvscatch_rw_csm_tr_1a did not complete\n",
      "dhpc pre_revvscatch_rw_csm_cs_1b did not complete\n",
      "dhpc pre_revvscatch_rw_csm_tr_1b did not complete\n",
      "dhpc pre_revvscatch_rw_csm_cs_2 did not complete\n",
      "dhpc pre_revvscatch_rw_csm_tr_2 did not complete\n",
      "dhpc post_revvscatch_sh_rw_cs_1a did not complete\n",
      "dhpc post_revvscatch_sh_rw_tr_1a did not complete\n",
      "dhpc post_revvscatch_sh_rw_cs_1b did not complete\n",
      "dhpc post_revvscatch_sh_rw_tr_1b did not complete\n",
      "dhpc post_revvscatch_sh_rw_cs_2 did not complete\n",
      "dhpc post_revvscatch_sh_rw_tr_2 did not complete\n",
      "dhpc post_revvscatch_sh_csm_cs_1a did not complete\n",
      "dhpc post_revvscatch_sh_csm_tr_1a did not complete\n",
      "dhpc post_revvscatch_sh_csm_cs_1b did not complete\n",
      "dhpc post_revvscatch_sh_csm_tr_1b did not complete\n",
      "dhpc post_revvscatch_sh_csm_cs_2 did not complete\n",
      "dhpc post_revvscatch_sh_csm_tr_2 did not complete\n",
      "dhpc post_revvscatch_rw_csm_cs_1a did not complete\n",
      "dhpc post_revvscatch_rw_csm_tr_1a did not complete\n",
      "dhpc post_revvscatch_rw_csm_cs_1b did not complete\n",
      "dhpc post_revvscatch_rw_csm_tr_1b did not complete\n",
      "dhpc post_revvscatch_rw_csm_cs_2 did not complete\n",
      "dhpc post_revvscatch_rw_csm_tr_2 did not complete\n"
     ]
    }
   ],
   "source": [
    "#all periods, time bins, sessions, and mice\n",
    "sessionA = 'pre','post','pre_rev','post_rev','catch'\n",
    "sessionB = 'pre','post','pre_rev','post_rev','catch'\n",
    "trial_type = 'sh_rw','sh_csm','rw_csm'\n",
    "seconds='1a','1b','2'\n",
    "trial_period = 'cs', 'tr', \n",
    "#sess_1,trial,period,time\n",
    "\n",
    "sess_1_c=0\n",
    "for sess_1 in sessionA:\n",
    "    sess_1_c=sess_1_c+1\n",
    "    sess_2_c=0\n",
    "    for sess_2 in sessionB:\n",
    "        sess_2_c=sess_2_c+1\n",
    "        for trial in trial_type:\n",
    "            for time in seconds:\n",
    "                for period in trial_period:\n",
    "                    if sess_1!=sess_2 and sess_1_c<sess_2_c:\n",
    "                            try:\n",
    "                                exec(\"vhpc_labels_%s_%s = load_all_animals_vars('labels_%s_%s', %s%s_animals_vhpc, '', notebook='decoding_all')\"%(sess_1,trial,sess_1,trial,sess_1,sess_2))\n",
    "                                exec(\"vhpc_%s%s_patterns_%s = load_all_animals_vars('patterns_evs_%s_%s_%s_%s_%s', %s%s_animals_vhpc, '', notebook='decoding_all')\"%(sess_1,sess_2,trial,sess_1,sess_2,trial,period,time,sess_1,sess_2))\n",
    "                                exec(\"total_vhpc_cells_%s%s = sum(len(vhpc_%s%s_patterns_%s[ani][0]) for ani in %s%s_animals_vhpc)\"%(sess_1,sess_2,sess_1,sess_2,trial,sess_1,sess_2))\n",
    "                                exec(\"print 'total_vhpc_cells_%s%s ='\"%(sess_1,sess_2,))\n",
    "                                exec(\"print total_vhpc_cells_%s%s\"%(sess_1,sess_2,))\n",
    "                            except:\n",
    "                                print \"vhpc \"+str(sess_1)+\"vs\"+str(sess_2)+\"_\"+str(trial)+\"_\"+str(period)+\"_\"+str(time)+\" did not complete\"\n",
    "        \n",
    "        #exec(\"total_dhpc_cells_%s%s_%s_%s_%s = sum(len(dhpc_%s%s_patterns_%s_%s_%s[ani][0]) for ani in %s%s_animals_vhpc)\"%(sess_1,sess_2,trial,period,time,sess_1,sess_2,trial,period,time,sess_1,sess_2))\n",
    "        #                       exec(\"print 'total_dhpc_cells_%s%s_%s_%s_%s ='\"%(sess_1,sess_2,trial,period,time))\n",
    "        #                       exec(\"print total_dhpc_cells_%s%s_%s_%s_%s\"%(sess_1,sess_2,trial,period,time))\n",
    "        \n",
    "sess_1_c=0\n",
    "for sess_1 in sessionA:\n",
    "    sess_1_c=sess_1_c+1\n",
    "    sess_2_c=0\n",
    "    for sess_2 in sessionB:\n",
    "        sess_2_c=sess_2_c+1\n",
    "        for trial in trial_type:\n",
    "            for time in seconds:\n",
    "                for period in trial_period:\n",
    "                    if sess_1!=sess_2 and sess_1_c<sess_2_c:\n",
    "                            try:\n",
    "                                exec(\"dhpc_labels_%s_%s = load_all_animals_vars('labels_%s_%s', %s%s_animals_dhpc, '', notebook='decoding_all')\"%(sess_1,trial,sess_1,trial,sess_1,sess_2))\n",
    "                                exec(\"dhpc_%s%s_patterns_%s = load_all_animals_vars('patterns_evs_%s_%s_%s_%s_%s', %s%s_animals_dhpc, '', notebook='decoding_all')\"%(sess_1,sess_2,trial,sess_1,sess_2,trial,period,time,sess_1,sess_2))\n",
    "                                exec(\"total_dhpc_cells_%s%s = sum(len(dhpc_%s%s_patterns_%s[ani][0]) for ani in %s%s_animals_dhpc)\"%(sess_1,sess_2,sess_1,sess_2,trial,sess_1,sess_2))\n",
    "                                exec(\"print 'total_dhpc_cells_%s%s ='\"%(sess_1,sess_2,))\n",
    "                                exec(\"print total_dhpc_cells_%s%s\"%(sess_1,sess_2,))\n",
    "                            except:\n",
    "                                print \"dhpc \"+str(sess_1)+\"vs\"+str(sess_2)+\"_\"+str(trial)+\"_\"+str(period)+\"_\"+str(time)+\" did not complete\"\n",
    "               "
   ]
  },
  {
   "cell_type": "code",
   "execution_count": 11,
   "metadata": {
    "collapsed": false
   },
   "outputs": [
    {
     "name": "stdout",
     "output_type": "stream",
     "text": [
      "total_cells_pre_dhpc = 790\n",
      "total_cells_post_dhpc = 909\n",
      "total_cells_pre_rev_dhpc = 919\n",
      "total_cells_post_rev_dhpc = 703\n",
      "total_dhpc_cells_prepost =  360\n",
      "total_dhpc_cells_prepre_rev =  254\n",
      "total_dhpc_cells_prepost_rev =  200\n",
      "total_dhpc_cells_postpre_rev =  617\n",
      "total_dhpc_cells_postpost_rev =  281\n",
      "total_dhpc_cells_pre_revpost_rev =  375\n",
      "\n",
      "total_cells_pre_vhpc = 499\n",
      "total_cells_post_vhpc = 553\n",
      "total_cells_pre_rev_vhpc = 444\n",
      "total_cells_post_rev_vhpc = 519\n",
      "total_vhpc_cells_prepost =  294\n",
      "total_vhpc_cells_prepre_rev =  244\n",
      "total_vhpc_cells_prepost_rev =  171\n",
      "total_vhpc_cells_postpre_rev =  301\n",
      "total_vhpc_cells_postpost_rev =  392\n",
      "total_vhpc_cells_pre_revpost_rev =  260\n"
     ]
    }
   ],
   "source": [
    "sessionA = 'prepost','prepre_rev','prepost_rev','postpre_rev','postpost_rev','pre_revpost_rev'\n",
    "cell_total = ['total_cells_pre', 'total_cells_post','total_cells_pre_rev','total_cells_post_rev']\n",
    "\n",
    "for tot in cell_total:\n",
    "    what = ut.load_variable('%s'%(tot), '../notebooks/autorestore/decoding_combined_dhpc_sh_rw/')\n",
    "    exec('%s_dhpc = what'%(tot))\n",
    "    print '%s_dhpc ='%(tot),\n",
    "    print what\n",
    "for sess in sessionA:\n",
    "        try:\n",
    "            exec(\"print 'total_dhpc_cells_%s = ',\"%(sess))\n",
    "            exec(\"print total_dhpc_cells_%s\"%(sess))\n",
    "        except:\n",
    "            print '' \n",
    "print ''\n",
    "\n",
    "for tot in cell_total:\n",
    "    what = ut.load_variable('%s'%(tot), '../notebooks/autorestore/decoding_combined_vhpc_sh_rw/')\n",
    "    exec('%s_vhpc = what'%(tot))\n",
    "    print '%s_vhpc ='%(tot),\n",
    "    print what\n",
    "for sess in sessionA:\n",
    "        try:\n",
    "            exec(\"print 'total_vhpc_cells_%s = ',\"%(sess))\n",
    "            exec(\"print total_vhpc_cells_%s\"%(sess))\n",
    "        except:\n",
    "            print ''"
   ]
  },
  {
   "cell_type": "code",
   "execution_count": 13,
   "metadata": {
    "collapsed": false
   },
   "outputs": [
    {
     "name": "stdout",
     "output_type": "stream",
     "text": [
      "vhpc [0.5891783567134269, 0.5443037974683544, 0.7552986512524085]\n",
      "dhpc [0.45569620253164556, 0.6787678767876788, 0.39971550497866287]\n"
     ]
    }
   ],
   "source": [
    "for reg in 'vhpc','dhpc':\n",
    "    exec(\"proportion_registered_%s = []\"%reg)\n",
    "    for sess,cross in zip(['pre','post','post_rev'],['prepost','postpre_rev','postpost_rev',]):\n",
    "        exec(\"proportion_registered_%s.append(total_%s_cells_%s*1.0/total_cells_%s_%s)\"%(reg,reg,cross,sess,reg))\n",
    "    print reg, eval(\"proportion_registered_%s\"%reg)\n"
   ]
  },
  {
   "cell_type": "code",
   "execution_count": 12,
   "metadata": {
    "collapsed": false
   },
   "outputs": [
    {
     "name": "stdout",
     "output_type": "stream",
     "text": [
      "171\n"
     ]
    }
   ],
   "source": [
    "n_cells_across_min_vhpc = np.min((total_vhpc_cells_prepost,total_vhpc_cells_prepre_rev,total_vhpc_cells_prepost_rev,total_vhpc_cells_postpost_rev,total_vhpc_cells_postpre_rev,total_vhpc_cells_pre_revpost_rev,))\n",
    "print n_cells_across_min_vhpc"
   ]
  },
  {
   "cell_type": "code",
   "execution_count": 13,
   "metadata": {
    "collapsed": false
   },
   "outputs": [
    {
     "name": "stdout",
     "output_type": "stream",
     "text": [
      "200\n"
     ]
    }
   ],
   "source": [
    "n_cells_across_min_dhpc = np.min((total_dhpc_cells_prepost,total_dhpc_cells_prepre_rev,total_dhpc_cells_prepost_rev,total_dhpc_cells_postpost_rev,total_dhpc_cells_postpre_rev,total_dhpc_cells_pre_revpost_rev,))\n",
    "print n_cells_across_min_dhpc"
   ]
  },
  {
   "cell_type": "code",
   "execution_count": 14,
   "metadata": {
    "collapsed": false
   },
   "outputs": [
    {
     "name": "stdout",
     "output_type": "stream",
     "text": [
      "703\n"
     ]
    }
   ],
   "source": [
    "n_cells_within_min_dhpc = np.min((total_cells_pre_dhpc,total_cells_post_dhpc,total_cells_pre_rev_dhpc,total_cells_post_rev_dhpc))\n",
    "print n_cells_within_min_dhpc"
   ]
  },
  {
   "cell_type": "code",
   "execution_count": 15,
   "metadata": {
    "collapsed": false
   },
   "outputs": [
    {
     "name": "stdout",
     "output_type": "stream",
     "text": [
      "444\n"
     ]
    }
   ],
   "source": [
    "n_cells_within_min_vhpc = np.min((total_cells_pre_vhpc,total_cells_post_vhpc,total_cells_pre_rev_vhpc,total_cells_post_rev_vhpc))\n",
    "print n_cells_within_min_vhpc"
   ]
  },
  {
   "cell_type": "code",
   "execution_count": 16,
   "metadata": {
    "collapsed": false
   },
   "outputs": [
    {
     "name": "stdout",
     "output_type": "stream",
     "text": [
      "171\n"
     ]
    }
   ],
   "source": [
    "n_cells_across_min_overall = np.min((total_vhpc_cells_prepost,total_vhpc_cells_prepre_rev,total_vhpc_cells_prepost_rev,total_vhpc_cells_postpost_rev,total_vhpc_cells_postpre_rev,total_vhpc_cells_pre_revpost_rev,\n",
    "                        total_dhpc_cells_prepost,total_dhpc_cells_prepre_rev,total_dhpc_cells_prepost_rev,total_dhpc_cells_postpost_rev,total_dhpc_cells_postpre_rev,total_dhpc_cells_pre_revpost_rev,))\n",
    "print n_cells_across_min_overall"
   ]
  },
  {
   "cell_type": "code",
   "execution_count": 17,
   "metadata": {
    "collapsed": false
   },
   "outputs": [
    {
     "name": "stdout",
     "output_type": "stream",
     "text": [
      "444\n"
     ]
    }
   ],
   "source": [
    "n_cells_within_min_overall = np.min((total_cells_pre_dhpc,total_cells_post_dhpc,total_cells_pre_rev_dhpc,total_cells_post_rev_dhpc,\n",
    "                                     total_cells_pre_vhpc,total_cells_post_vhpc,total_cells_pre_rev_vhpc,total_cells_post_rev_vhpc,))\n",
    "print n_cells_within_min_overall"
   ]
  },
  {
   "cell_type": "code",
   "execution_count": 18,
   "metadata": {
    "collapsed": false
   },
   "outputs": [
    {
     "name": "stdout",
     "output_type": "stream",
     "text": [
      "171\n"
     ]
    }
   ],
   "source": [
    "n_cells_gmin = np.min((total_vhpc_cells_prepost,total_vhpc_cells_prepre_rev,total_vhpc_cells_prepost_rev,total_vhpc_cells_postpost_rev,total_vhpc_cells_postpre_rev,total_vhpc_cells_pre_revpost_rev,\n",
    "                        total_dhpc_cells_prepost,total_dhpc_cells_prepre_rev,total_dhpc_cells_prepost_rev,total_dhpc_cells_postpost_rev,total_dhpc_cells_postpre_rev,total_dhpc_cells_pre_revpost_rev,total_cells_pre_dhpc,total_cells_post_dhpc,total_cells_pre_rev_dhpc,total_cells_post_rev_dhpc,\n",
    "                                     total_cells_pre_vhpc,total_cells_post_vhpc,total_cells_pre_rev_vhpc,total_cells_post_rev_vhpc,))\n",
    "print n_cells_gmin"
   ]
  },
  {
   "cell_type": "code",
   "execution_count": 19,
   "metadata": {
    "collapsed": false
   },
   "outputs": [
    {
     "data": {
      "text/plain": [
       "171"
      ]
     },
     "execution_count": 19,
     "metadata": {},
     "output_type": "execute_result"
    }
   ],
   "source": [
    "n_cells_gmin"
   ]
  },
  {
   "cell_type": "code",
   "execution_count": 20,
   "metadata": {
    "collapsed": false
   },
   "outputs": [
    {
     "name": "stdout",
     "output_type": "stream",
     "text": [
      "703\n",
      "444\n",
      "444\n"
     ]
    }
   ],
   "source": [
    "print n_cells_within_min_dhpc\n",
    "print n_cells_within_min_vhpc\n",
    "print n_cells_within_min_overall"
   ]
  },
  {
   "cell_type": "code",
   "execution_count": 21,
   "metadata": {
    "collapsed": false
   },
   "outputs": [
    {
     "name": "stdout",
     "output_type": "stream",
     "text": [
      "200\n",
      "171\n",
      "171\n"
     ]
    }
   ],
   "source": [
    "print n_cells_across_min_dhpc\n",
    "print n_cells_across_min_vhpc\n",
    "print n_cells_across_min_overall"
   ]
  },
  {
   "cell_type": "code",
   "execution_count": 22,
   "metadata": {
    "collapsed": false
   },
   "outputs": [
    {
     "name": "stdout",
     "output_type": "stream",
     "text": [
      "Could not store variable 'di'. Skipping...\n",
      "Could not store variable 'os'. Skipping...\n",
      "Could not store variable 'IPython'. Skipping...\n",
      "Could not store variable 'pt'. Skipping...\n",
      "Could not store variable 'sstats'. Skipping...\n",
      "Could not store variable 'pl'. Skipping...\n",
      "Could not store variable 'ut'. Skipping...\n",
      "Could not store variable 'pickle'. Skipping...\n",
      "Could not store variable 'ip'. Skipping...\n",
      "Could not store variable 'np'. Skipping...\n",
      "Could not store variable 'sys'. Skipping...\n"
     ]
    }
   ],
   "source": [
    "save_workspace(db)"
   ]
  },
  {
   "cell_type": "code",
   "execution_count": null,
   "metadata": {
    "collapsed": true
   },
   "outputs": [],
   "source": []
  }
 ],
 "metadata": {
  "anaconda-cloud": {},
  "kernelspec": {
   "display_name": "Python [default]",
   "language": "python",
   "name": "python2"
  },
  "language_info": {
   "codemirror_mode": {
    "name": "ipython",
    "version": 2
   },
   "file_extension": ".py",
   "mimetype": "text/x-python",
   "name": "python",
   "nbconvert_exporter": "python",
   "pygments_lexer": "ipython2",
   "version": "2.7.12"
  },
  "nbpresent": {
   "slides": {
    "0d986ed2-5f0a-4fb5-bef8-671b9a7944c2": {
     "id": "0d986ed2-5f0a-4fb5-bef8-671b9a7944c2",
     "layout": "grid",
     "prev": null,
     "regions": {
      "8225e319-a034-4787-b6c3-67ba18e539df": {
       "attrs": {
        "height": 1,
        "pad": 0.01,
        "treemap:weight": 1,
        "width": 0.5,
        "x": 0.5,
        "y": 0
       },
       "id": "8225e319-a034-4787-b6c3-67ba18e539df"
      },
      "da963486-c522-4461-b750-f656e415a1be": {
       "attrs": {
        "height": 1,
        "pad": 0.01,
        "treemap:weight": 1,
        "width": 0.5,
        "x": 0,
        "y": 0
       },
       "id": "da963486-c522-4461-b750-f656e415a1be"
      }
     }
    },
    "1735d954-277d-4120-b50d-1eda74274968": {
     "id": "1735d954-277d-4120-b50d-1eda74274968",
     "prev": "0d986ed2-5f0a-4fb5-bef8-671b9a7944c2",
     "regions": {
      "a6210379-c2c0-4a0b-b180-def0b2e45d5a": {
       "attrs": {
        "height": 1,
        "width": 1,
        "x": 0,
        "y": 0
       },
       "content": {
        "cell": "58ed5f85-9757-4f05-94ef-a631c3d9dd51",
        "part": "outputs"
       },
       "id": "a6210379-c2c0-4a0b-b180-def0b2e45d5a"
      }
     }
    },
    "17414c21-2d5e-4e85-a979-be0a81228952": {
     "id": "17414c21-2d5e-4e85-a979-be0a81228952",
     "prev": "3ba851ce-b3eb-409e-8809-d72887d124c6",
     "regions": {
      "8b369589-ef7b-40d4-986f-89079045d9ea": {
       "attrs": {
        "height": 1,
        "width": 1,
        "x": 0,
        "y": 0
       },
       "id": "8b369589-ef7b-40d4-986f-89079045d9ea"
      }
     }
    },
    "3ba851ce-b3eb-409e-8809-d72887d124c6": {
     "id": "3ba851ce-b3eb-409e-8809-d72887d124c6",
     "prev": "1735d954-277d-4120-b50d-1eda74274968",
     "regions": {
      "a70ad6eb-6c6c-4a9b-b2e6-844787805048": {
       "attrs": {
        "height": 0.7020408163265306,
        "width": 0.8377551020408163,
        "x": 0.1622448979591837,
        "y": 0.2979591836734694
       },
       "content": {
        "cell": "c50576db-4f27-48e8-a63a-42de45527151",
        "part": "outputs"
       },
       "id": "a70ad6eb-6c6c-4a9b-b2e6-844787805048"
      },
      "bebea0da-137b-4a60-9392-618d040c348d": {
       "attrs": {
        "height": 0.1360544217687075,
        "width": 0.8604591836734694,
        "x": 0.1,
        "y": 0.1
       },
       "id": "bebea0da-137b-4a60-9392-618d040c348d"
      }
     }
    }
   },
   "themes": {}
  }
 },
 "nbformat": 4,
 "nbformat_minor": 2
}
