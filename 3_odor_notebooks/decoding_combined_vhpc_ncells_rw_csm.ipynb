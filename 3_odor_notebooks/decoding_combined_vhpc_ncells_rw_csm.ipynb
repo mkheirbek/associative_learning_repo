{
 "cells": [
  {
   "cell_type": "code",
   "execution_count": 1,
   "metadata": {
    "collapsed": false
   },
   "outputs": [
    {
     "data": {
      "text/html": [
       "<script>jQuery(function() {if (jQuery(\"body.notebook_app\").length == 0) { jQuery(\".input_area\").toggle(); jQuery(\".prompt\").toggle();}});</script>"
      ]
     },
     "metadata": {},
     "output_type": "display_data"
    },
    {
     "data": {
      "text/html": [
       "<button onclick=\"jQuery('.input_area').toggle(); jQuery('.prompt').toggle();\">Toggle code</button>"
      ]
     },
     "metadata": {},
     "output_type": "display_data"
    }
   ],
   "source": [
    "from IPython.display import display\n",
    "from IPython.display import HTML\n",
    "import IPython.core.display as di # Example: di.display_html('<h3>%s:</h3>' % str, raw=True)\n",
    "\n",
    "# This line will hide code by default when the notebook is exported as HTML\n",
    "di.display_html('<script>jQuery(function() {if (jQuery(\"body.notebook_app\").length == 0) { jQuery(\".input_area\").toggle(); jQuery(\".prompt\").toggle();}});</script>', raw=True)\n",
    "\n",
    "# This line will add a button to toggle visibility of code blocks, for use with the HTML export version\n",
    "di.display_html('''<button onclick=\"jQuery('.input_area').toggle(); jQuery('.prompt').toggle();\">Toggle code</button>''', raw=True)\n"
   ]
  },
  {
   "cell_type": "code",
   "execution_count": 2,
   "metadata": {
    "collapsed": true
   },
   "outputs": [],
   "source": [
    "# all modules necessary for this nb\n",
    "import os\n",
    "import sys\n",
    "import pickle\n",
    "\n",
    "import numpy as np\n",
    "np.random.seed(0)\n",
    "import pylab as pl\n",
    "import scipy.stats as sstats\n",
    "\n",
    "# setting parameters for default matplotlib plots\n",
    "%matplotlib inline"
   ]
  },
  {
   "cell_type": "code",
   "execution_count": 3,
   "metadata": {
    "collapsed": false
   },
   "outputs": [],
   "source": [
    "pl.style.use('fabiostyle')\n",
    "# pl.rcParams['savefig.dpi'] = 300 # dpi for most publications\n",
    "# pl.rcParams['xtick.labelsize'] = 7\n",
    "# pl.rcParams['ytick.labelsize'] = 7\n",
    "# pl.rcParams['axes.labelsize'] = 7\n",
    "# pl.rcParams['axes.titlesize'] = 5\n",
    "# pl.rcParams['legend.fontsize'] = 5\n",
    "# pl.rcParams['xtick.labelsize'] = 5\n",
    "# pl.rcParams['ytick.labelsize'] = 5\n",
    "# pl.rcParams['font.size'] = 7\n",
    "\n",
    "# needs to find the library of functions\n",
    "sys.path.append('../../../code/')  # to be replaced!\n",
    "\n",
    "import utils as ut\n",
    "import plots as pt"
   ]
  },
  {
   "cell_type": "code",
   "execution_count": 4,
   "metadata": {
    "collapsed": false
   },
   "outputs": [],
   "source": [
    "NOTEBOOK_NAME = 'decoding_combined_vhpc_ncells_rw_csm'"
   ]
  },
  {
   "cell_type": "code",
   "execution_count": 5,
   "metadata": {
    "collapsed": false
   },
   "outputs": [],
   "source": [
    "from pickleshare import PickleShareDB\n",
    "\n",
    "autorestore_folder = os.path.join(os.getcwd(), 'autorestore', NOTEBOOK_NAME)\n",
    "db = PickleShareDB(autorestore_folder)\n",
    "import sys\n",
    "from workspace import *\n",
    "import IPython\n",
    "ip = IPython.get_ipython()\n",
    "\n",
    "# this will restore all the saved variables. ignore the errors listed.\n",
    "# load_workspace(ip, db)\n",
    "\n",
    "# use `save_worspace(db)` to save variables at the end"
   ]
  },
  {
   "cell_type": "code",
   "execution_count": 6,
   "metadata": {
    "collapsed": false,
    "scrolled": false
   },
   "outputs": [],
   "source": [
    "from itertools import product\n",
    "def load_all_animals_vars(varname, animal_list, pilot_list=None, notebook='preprocessing'):\n",
    "    all_of_them = {}\n",
    "    for ani in animal_list:\n",
    "        folder = '../%s/notebooks/autorestore/%s/' % (ani, notebook)\n",
    "        all_of_them.update({ani: ut.load_variable(varname, folder)})\n",
    "    return all_of_them"
   ]
  },
  {
   "cell_type": "code",
   "execution_count": 7,
   "metadata": {
    "collapsed": false
   },
   "outputs": [],
   "source": [
    "all_animals = 'c3f3', 'c3f2', 'c3m1', 'c3m2', 'c4m4', 'c10m6', 'c10m8', '90', '91', '92', '93'\n",
    "pre_animals = 'c3f3', 'c3f2', 'c3m1', 'c3m2', 'c4m4', 'c10m6', 'c10m8', '90', '91', '92', '93'\n",
    "post_animals = 'c3f3', 'c3f2', 'c3m1', 'c3m2', 'c4m4', 'c10m6', 'c10m8', '90', '91', '92', '93'\n",
    "pre_rev_animals = 'c3f3', 'c3f2', 'c3m1', 'c3m2', 'c4m4', 'c10m6', 'c10m8', '90', '91'\n",
    "post_rev_animals = 'c3f3', 'c3f2', 'c3m1', 'c3m2', 'c4m4', 'c10m6', 'c10m8', '90', '91', '92', '93'\n",
    "\n",
    "epochs = '', '_early', '_mid', '_late'\n",
    "sessions = 'pre','post','pre_rev','post_rev',"
   ]
  },
  {
   "cell_type": "code",
   "execution_count": 29,
   "metadata": {
    "collapsed": false
   },
   "outputs": [],
   "source": [
    "from sklearn.model_selection import KFold, LeaveOneOut\n",
    "from sklearn.svm import SVC\n",
    "\n",
    "def do_test_within(patterns, labels, n_cells=None):\n",
    "#     which_train = range(90)\n",
    "#     which_test = range(90)\n",
    "    cv =LeaveOneOut()\n",
    "    \n",
    "    which_train = {}\n",
    "    which_test = {}\n",
    "    for ani in patterns.keys():\n",
    "        which_train_a = np.random.permutation(np.where(np.array(labels[ani])==0)[0])\n",
    "        which_test_a = which_train_a[:len(which_train_a)/2]\n",
    "        which_train_a = which_train_a[len(which_train_a)/2:]\n",
    "        \n",
    "        which_train_b = np.random.permutation(np.where(np.array(labels[ani])==1)[0])\n",
    "        which_test_b = which_train_b[:len(which_train_b)/2]\n",
    "        which_train_b = which_train_b[len(which_train_b)/2:]\n",
    "        \n",
    "        which_train[ani] = np.concatenate((which_train_a, which_train_b))\n",
    "        which_test[ani] = np.concatenate((which_test_a, which_test_b))\n",
    "    \n",
    "    patterns_t = patterns.copy()\n",
    "    labels_t = labels.copy()\n",
    "    patterns_T = patterns.copy()\n",
    "    labels_T = labels.copy()\n",
    "    for ani in patterns.keys():\n",
    "        patterns_t[ani] = patterns[ani][which_train[ani]]\n",
    "        labels_t[ani] = np.array(labels[ani])[which_train[ani]]\n",
    "        patterns_T[ani] = patterns[ani][which_test[ani]]\n",
    "        labels_T[ani] = np.array(labels[ani])[which_test[ani]]\n",
    "    patterns_comb_train, labels_comb = ut.combine_patterns(patterns_t, labels_t)\n",
    "    patterns_comb_test, labels_comb = ut.combine_patterns(patterns_T, labels_T)\n",
    "    decoder.fit(patterns_comb_train, labels_comb)\n",
    "    if n_cells is None:\n",
    "        cells = list(range(patterns_comb_train.shape[1]))\n",
    "    else:\n",
    "        cells = np.random.choice(range(patterns_comb_train.shape[1]), size=n_cells, replace=False)\n",
    "    decoder.fit(patterns_comb_train, labels_comb)\n",
    "    return decoder.score(patterns_comb_test, labels_comb)"
   ]
  },
  {
   "cell_type": "code",
   "execution_count": 30,
   "metadata": {
    "collapsed": true
   },
   "outputs": [],
   "source": [
    "decoder = SVC(kernel='linear', decision_function_shape='ovo')"
   ]
  },
  {
   "cell_type": "code",
   "execution_count": 31,
   "metadata": {
    "collapsed": false
   },
   "outputs": [],
   "source": [
    "sess_without = 'pre','post','pre_rev','post_rev',\n",
    "sessions = '3odor_pre','3odor_post','3odor_pre_rev','3odor_post_rev',\n",
    "for i in range(len(sessions)):\n",
    "\n",
    "    exec(\"patterns_CS_%s = dict(zip(%s_animals, [ut.load_variable('patterns_evs',\\\n",
    "                                                           '../%%s/%s/notebooks/autorestore/decoding_odors_rw_csm/'%%ani)\\\n",
    "                                                  for ani in %s_animals]))\"%(sess_without[i], sess_without[i], sessions[i], sess_without[i]))\n",
    "    exec(\"labels_CS_%s = dict(zip(%s_animals, [ut.load_variable('labels',\\\n",
    "                                                         '../%%s/%s/notebooks/autorestore/decoding_odors_rw_csm/'%%ani)\\\n",
    "                                                  for ani in %s_animals]))\"%(sess_without[i], sess_without[i], sessions[i], sess_without[i]))"
   ]
  },
  {
   "cell_type": "code",
   "execution_count": 32,
   "metadata": {
    "collapsed": false
   },
   "outputs": [
    {
     "name": "stdout",
     "output_type": "stream",
     "text": [
      "total_cells_pre_vHPC = 569\n",
      "total_cells_post_vHPC = 676\n",
      "total_cells_pre_rev_vHPC = 437\n",
      "total_cells_post_rev_vHPC = 626\n"
     ]
    }
   ],
   "source": [
    "#get number of vHPC cells used for decoding\n",
    "cell_total = ['total_cells_pre', 'total_cells_post','total_cells_pre_rev','total_cells_post_rev']\n",
    "for tot in cell_total:\n",
    "    what = ut.load_variable('%s'%(tot), '../notebooks/autorestore/decoding_combined_vhpc_rw_csm/')\n",
    "    exec('%s_vHPC = what'%(tot))\n",
    "    print '%s_vHPC ='%(tot),\n",
    "    print what"
   ]
  },
  {
   "cell_type": "code",
   "execution_count": 33,
   "metadata": {
    "collapsed": false
   },
   "outputs": [
    {
     "name": "stdout",
     "output_type": "stream",
     "text": [
      "total_cells_pre_dHPC = 790\n",
      "total_cells_post_dHPC = 909\n",
      "total_cells_pre_rev_dHPC = 919\n",
      "total_cells_post_rev_dHPC = 703\n"
     ]
    }
   ],
   "source": [
    "#get number of vHPC cells used for decoding\n",
    "cell_total = ['total_cells_pre', 'total_cells_post','total_cells_pre_rev','total_cells_post_rev',]\n",
    "for tot in cell_total:\n",
    "    what = ut.load_variable('%s'%(tot), '../notebooks/autorestore/decoding_combined_dhpc_rw_csm/')\n",
    "    exec('%s_dHPC = what'%(tot))\n",
    "    print '%s_dHPC ='%(tot),\n",
    "    print what"
   ]
  },
  {
   "cell_type": "code",
   "execution_count": 34,
   "metadata": {
    "collapsed": false
   },
   "outputs": [],
   "source": [
    "sessions = 'pre','post','pre_rev','post_rev',\n",
    "scores_CS = {}\n",
    "n_loops = 100\n",
    "for sess in sessions:\n",
    "    n_cells = np.min((eval('total_cells_%s_vHPC'%sess), eval('total_cells_%s_dHPC'%sess)))\n",
    "    scores_CS[sess] = np.r_[[do_test_within(eval(\"patterns_CS_%s\"%sess), eval(\"labels_CS_%s\"%sess), n_cells=n_cells)\n",
    "                          for i in range(n_loops)]]"
   ]
  },
  {
   "cell_type": "code",
   "execution_count": 35,
   "metadata": {
    "collapsed": false
   },
   "outputs": [
    {
     "ename": "NameError",
     "evalue": "name 'expo_scores_CS' is not defined",
     "output_type": "error",
     "traceback": [
      "\u001b[0;31m---------------------------------------------------------------------------\u001b[0m",
      "\u001b[0;31mNameError\u001b[0m                                 Traceback (most recent call last)",
      "\u001b[0;32m<ipython-input-35-e4b4fe1d846a>\u001b[0m in \u001b[0;36m<module>\u001b[0;34m()\u001b[0m\n\u001b[1;32m      2\u001b[0m \u001b[0msessionsb\u001b[0m \u001b[0;34m=\u001b[0m \u001b[0;34m'pre'\u001b[0m\u001b[0;34m,\u001b[0m\u001b[0;34m'post'\u001b[0m\u001b[0;34m,\u001b[0m\u001b[0;34m'ext1'\u001b[0m\u001b[0;34m,\u001b[0m\u001b[0;34m'ext2'\u001b[0m\u001b[0;34m,\u001b[0m\u001b[0;34m'reinstate'\u001b[0m\u001b[0;34m,\u001b[0m\u001b[0;34m'odor expo'\u001b[0m\u001b[0;34m\u001b[0m\u001b[0m\n\u001b[1;32m      3\u001b[0m \u001b[0mvalues\u001b[0m \u001b[0;34m=\u001b[0m \u001b[0;34m[\u001b[0m\u001b[0mscores_CS\u001b[0m\u001b[0;34m[\u001b[0m\u001b[0msess\u001b[0m\u001b[0;34m]\u001b[0m\u001b[0;34m*\u001b[0m\u001b[0;36m100\u001b[0m \u001b[0;32mfor\u001b[0m \u001b[0msess\u001b[0m \u001b[0;32min\u001b[0m \u001b[0msessions\u001b[0m\u001b[0;34m]\u001b[0m\u001b[0;34m\u001b[0m\u001b[0m\n\u001b[0;32m----> 4\u001b[0;31m \u001b[0mvalues\u001b[0m\u001b[0;34m.\u001b[0m\u001b[0mappend\u001b[0m\u001b[0;34m(\u001b[0m\u001b[0mexpo_scores_CS\u001b[0m\u001b[0;34m*\u001b[0m\u001b[0;36m100\u001b[0m\u001b[0;34m)\u001b[0m\u001b[0;34m\u001b[0m\u001b[0m\n\u001b[0m\u001b[1;32m      5\u001b[0m \u001b[0mpt\u001b[0m\u001b[0;34m.\u001b[0m\u001b[0mplot_bars\u001b[0m\u001b[0;34m(\u001b[0m\u001b[0mvalues\u001b[0m\u001b[0;34m,\u001b[0m \u001b[0max\u001b[0m\u001b[0;34m=\u001b[0m\u001b[0max\u001b[0m\u001b[0;34m,\u001b[0m \u001b[0mcolors\u001b[0m \u001b[0;34m=\u001b[0m \u001b[0;34m[\u001b[0m\u001b[0;34m'b'\u001b[0m\u001b[0;34m,\u001b[0m\u001b[0;34m'r'\u001b[0m\u001b[0;34m,\u001b[0m\u001b[0;34m'silver'\u001b[0m\u001b[0;34m,\u001b[0m\u001b[0;34m'grey'\u001b[0m\u001b[0;34m,\u001b[0m\u001b[0;34m'y'\u001b[0m\u001b[0;34m,\u001b[0m\u001b[0;34m'k'\u001b[0m\u001b[0;34m]\u001b[0m\u001b[0;34m)\u001b[0m\u001b[0;34m\u001b[0m\u001b[0m\n\u001b[1;32m      6\u001b[0m \u001b[0max\u001b[0m\u001b[0;34m.\u001b[0m\u001b[0mhlines\u001b[0m\u001b[0;34m(\u001b[0m\u001b[0;36m50\u001b[0m\u001b[0;34m,\u001b[0m \u001b[0;34m-\u001b[0m\u001b[0;36m0.5\u001b[0m\u001b[0;34m,\u001b[0m \u001b[0mlen\u001b[0m\u001b[0;34m(\u001b[0m\u001b[0msessionsb\u001b[0m\u001b[0;34m)\u001b[0m\u001b[0;34m-\u001b[0m\u001b[0;36m0.5\u001b[0m\u001b[0;34m,\u001b[0m \u001b[0mlinestyles\u001b[0m\u001b[0;34m=\u001b[0m\u001b[0;34m'dashed'\u001b[0m\u001b[0;34m)\u001b[0m\u001b[0;34m\u001b[0m\u001b[0m\n",
      "\u001b[0;31mNameError\u001b[0m: name 'expo_scores_CS' is not defined"
     ]
    },
    {
     "data": {
      "image/png": "[encoded data removed]",
      "text/plain": [
       "<matplotlib.figure.Figure at 0x7f52240b6cd0>"
      ]
     },
     "metadata": {},
     "output_type": "display_data"
    }
   ],
   "source": [
    "fig, ax = pl.subplots(1, 1, figsize=(2, 2))\n",
    "sessionsb = 'pre','post','ext1','ext2','reinstate','odor expo'\n",
    "values = [scores_CS[sess]*100 for sess in sessions]\n",
    "values.append(expo_scores_CS*100)\n",
    "pt.plot_bars(values, ax=ax, colors = ['b','r','silver','grey','y','k'])\n",
    "ax.hlines(50, -0.5, len(sessionsb)-0.5, linestyles='dashed')\n",
    "\n",
    "ax.set_xticks(range(6))\n",
    "ax.set_xticklabels(sessionsb, rotation=30)\n",
    "ax.set_ylabel('CS decoding \\ncombined FOV (%)')\n",
    "pvs = []\n",
    "pvs.append(pt.add_significance(ax, values[0], values[1], 0, 1, 104)) #will compare sessions 'x' in values[x]\n",
    "pvs.append(pt.add_significance(ax, values[1], values[2], 1, 2, 109))\n",
    "pvs.append(pt.add_significance(ax, values[2], values[3], 2, 3, 100))\n",
    "pvs.append(pt.add_significance(ax, values[3], values[4], 3, 4, 106))\n",
    "pvs.append(pt.add_significance(ax, values[0], values[4], 0, 4, 120))\n",
    "\n",
    "print 'dHPC20 removed from pre due to stellar behavioral performance (d\\'=2)'\n",
    "fig.savefig('../img/%s__bars_CS.pdf'%NOTEBOOK_NAME)\n",
    "np.savetxt('../img/%s__bars_CS.pvs'%NOTEBOOK_NAME,  pvs, header='Mann-Whitney U two-sided')"
   ]
  },
  {
   "cell_type": "code",
   "execution_count": null,
   "metadata": {
    "collapsed": false
   },
   "outputs": [],
   "source": [
    "for sess in sessions:\n",
    "\n",
    "    exec(\"patterns_%s = dict(zip(%s_animals, [ut.load_variable('patterns_evs',\\\n",
    "                                                           '../%%s/%s/notebooks/autorestore/decoding_odors_only_trace/'%%ani)\\\n",
    "                                                  for ani in %s_animals]))\"%(sess, sess, sess, sess))\n",
    "    exec(\"labels_%s = dict(zip(%s_animals, [ut.load_variable('labels',\\\n",
    "                                                         '../%%s/%s/notebooks/autorestore/decoding_odors_only_trace/'%%ani)\\\n",
    "                                                  for ani in %s_animals]))\"%(sess, sess, sess, sess))"
   ]
  },
  {
   "cell_type": "code",
   "execution_count": null,
   "metadata": {
    "collapsed": false
   },
   "outputs": [],
   "source": [
    "#have to extract 2_odor_expo varibles differently from that used above\n",
    "patterns_expo = dict(zip(expo_animals,\n",
    "                                [ut.load_variable('patterns_evs','../%s/2_odor_expo/notebooks/autorestore/decoding_odors_only_trace'%ani)\n",
    "                                                  for ani in expo_animals]))\n",
    "\n",
    "labels_expo = dict(zip(expo_animals,\n",
    "                                [ut.load_variable('labels','../%s/2_odor_expo/notebooks/autorestore/decoding_odors_only_trace'%ani)\n",
    "                                                  for ani in expo_animals]))"
   ]
  },
  {
   "cell_type": "code",
   "execution_count": null,
   "metadata": {
    "collapsed": false
   },
   "outputs": [],
   "source": [
    "scores = {}\n",
    "n_loops = 100\n",
    "for sess in sessions:\n",
    "    n_cells = np.min((eval('total_cells_%s_vHPC'%sess), eval('total_cells_%s_dHPC'%sess)))\n",
    "    scores[sess] = np.r_[[do_test_within(eval(\"patterns_%s\"%sess), eval(\"labels_%s\"%sess),n_cells=n_cells)\n",
    "                          for i in range(n_loops)]]"
   ]
  },
  {
   "cell_type": "code",
   "execution_count": null,
   "metadata": {
    "collapsed": false
   },
   "outputs": [],
   "source": [
    "expo_scores = {}\n",
    "n_loops = 100\n",
    "n_cells = np.min((total_cells_expo_vHPC, total_cells_expo_dHPC))\n",
    "expo_scores = np.r_[[do_test_within(patterns_expo, labels_expo,n_cells=n_cells)\n",
    "                          for i in range(n_loops)]]"
   ]
  },
  {
   "cell_type": "code",
   "execution_count": null,
   "metadata": {
    "collapsed": false
   },
   "outputs": [],
   "source": [
    "fig, ax = pl.subplots(1, 1, figsize=(2, 2))\n",
    "sessionsb = 'pre','post','ext1','ext2','reinstate','odor expo'\n",
    "values = [scores[sess]*100 for sess in sessions]\n",
    "values.append(expo_scores*100)\n",
    "pt.plot_bars(values, ax=ax, colors = ['b','r','silver','grey','y','k'])\n",
    "ax.hlines(50, -0.5, len(sessionsb)-0.5, linestyles='dashed')\n",
    "\n",
    "ax.set_xticks(range(6))\n",
    "ax.set_xticklabels(sessionsb, rotation=30)\n",
    "ax.set_ylabel('Trace decoding \\ncombined FOV (%)\\n(cell# equalized)')\n",
    "ax.set_ylim(0,100)\n",
    "pvs = []\n",
    "#pvs.append(pt.add_significance(ax, values[0], values[1], 0, 1, 104)) #will compare sessions 'x' in values[x]\n",
    "#pvs.append(pt.add_significance(ax, values[1], values[2], 1, 2, 109))\n",
    "#pvs.append(pt.add_significance(ax, values[2], values[3], 2, 3, 100))\n",
    "#pvs.append(pt.add_significance(ax, values[3], values[4], 3, 4, 106))\n",
    "#pvs.append(pt.add_significance(ax, values[0], values[4], 0, 4, 120))\n",
    "\n",
    "print 'dHPC20 removed from pre due to stellar behavioral performance (d\\'=2)'\n",
    "fig.savefig('../img/%s__bars.pdf'%NOTEBOOK_NAME)\n",
    "np.savetxt('../img/%s__bars.pvs'%NOTEBOOK_NAME,  pvs, header='Mann-Whitney U two-sided')"
   ]
  },
  {
   "cell_type": "code",
   "execution_count": null,
   "metadata": {
    "collapsed": false
   },
   "outputs": [],
   "source": [
    "# to examine trace decoding scores, use 'scores'. For CS decoding, use 'scores_CS'\n",
    "# to examine a specific session, put name of the session in the [] (eg, ['renew'] to look at renew session)\n",
    "print np.mean(scores['pre'])\n",
    "print np.std(scores['pre'])\n",
    "print sstats.sem(scores['pre'])"
   ]
  },
  {
   "cell_type": "markdown",
   "metadata": {},
   "source": [
    "# now use global minimum for n cells"
   ]
  },
  {
   "cell_type": "code",
   "execution_count": null,
   "metadata": {
    "collapsed": true
   },
   "outputs": [],
   "source": [
    "scores_CS_gmin = {}\n",
    "n_loops = 100\n",
    "n_cells = np.min((total_cells_pre_vHPC,total_cells_pre_dHPC, total_cells_post_vHPC,total_cells_post_dHPC,\n",
    "                total_cells_ext1_vHPC,total_cells_ext1_dHPC, total_cells_ext2_vHPC,total_cells_ext2_dHPC,\n",
    "                total_cells_renew_vHPC,total_cells_renew_dHPC, total_cells_expo_vHPC,total_cells_expo_dHPC))\n",
    "for sess in sessions:\n",
    "    scores_CS_gmin[sess] = np.r_[[do_test_within(eval(\"patterns_CS_%s\"%sess), eval(\"labels_CS_%s\"%sess),n_cells=n_cells)\n",
    "                          for i in range(n_loops)]]"
   ]
  },
  {
   "cell_type": "code",
   "execution_count": null,
   "metadata": {
    "collapsed": true
   },
   "outputs": [],
   "source": [
    "expo_scores_CS_gmin = {}\n",
    "n_loops = 100\n",
    "n_cells = np.min((total_cells_pre_vHPC,total_cells_pre_dHPC, total_cells_post_vHPC,total_cells_post_dHPC,\n",
    "                total_cells_ext1_vHPC,total_cells_ext1_dHPC, total_cells_ext2_vHPC,total_cells_ext2_dHPC,\n",
    "                total_cells_renew_vHPC,total_cells_renew_dHPC, total_cells_expo_vHPC,total_cells_expo_dHPC))\n",
    "expo_scores_CS_gmin = np.r_[[do_test_within(patterns_CS_expo, labels_CS_expo,n_cells=n_cells)\n",
    "                          for i in range(n_loops)]]"
   ]
  },
  {
   "cell_type": "code",
   "execution_count": null,
   "metadata": {
    "collapsed": true
   },
   "outputs": [],
   "source": [
    "scores_gmin = {}\n",
    "n_loops = 100\n",
    "n_cells = np.min((total_cells_pre_vHPC,total_cells_pre_dHPC, total_cells_post_vHPC,total_cells_post_dHPC,\n",
    "                total_cells_ext1_vHPC,total_cells_ext1_dHPC, total_cells_ext2_vHPC,total_cells_ext2_dHPC,\n",
    "                total_cells_renew_vHPC,total_cells_renew_dHPC, total_cells_expo_vHPC,total_cells_expo_dHPC))\n",
    "for sess in sessions:\n",
    "    scores_gmin[sess] = np.r_[[do_test_within(eval(\"patterns_%s\"%sess), eval(\"labels_%s\"%sess),n_cells=n_cells)\n",
    "                          for i in range(n_loops)]]"
   ]
  },
  {
   "cell_type": "code",
   "execution_count": null,
   "metadata": {
    "collapsed": true
   },
   "outputs": [],
   "source": [
    "expo_scores_gmin = {}\n",
    "n_loops = 100\n",
    "n_cells = np.min((total_cells_pre_vHPC,total_cells_pre_dHPC, total_cells_post_vHPC,total_cells_post_dHPC,\n",
    "                total_cells_ext1_vHPC,total_cells_ext1_dHPC, total_cells_ext2_vHPC,total_cells_ext2_dHPC,\n",
    "                total_cells_renew_vHPC,total_cells_renew_dHPC, total_cells_expo_vHPC,total_cells_expo_dHPC))\n",
    "expo_scores_gmin = np.r_[[do_test_within(patterns_expo, labels_expo,n_cells=n_cells)\n",
    "                          for i in range(n_loops)]]"
   ]
  },
  {
   "cell_type": "code",
   "execution_count": null,
   "metadata": {
    "collapsed": false
   },
   "outputs": [],
   "source": [
    "save_workspace(db)"
   ]
  },
  {
   "cell_type": "code",
   "execution_count": null,
   "metadata": {
    "collapsed": true
   },
   "outputs": [],
   "source": []
  }
 ],
 "metadata": {
  "anaconda-cloud": {},
  "kernelspec": {
   "display_name": "Python [default]",
   "language": "python",
   "name": "python2"
  },
  "language_info": {
   "codemirror_mode": {
    "name": "ipython",
    "version": 2
   },
   "file_extension": ".py",
   "mimetype": "text/x-python",
   "name": "python",
   "nbconvert_exporter": "python",
   "pygments_lexer": "ipython2",
   "version": "2.7.12"
  },
  "nbpresent": {
   "slides": {
    "0d986ed2-5f0a-4fb5-bef8-671b9a7944c2": {
     "id": "0d986ed2-5f0a-4fb5-bef8-671b9a7944c2",
     "layout": "grid",
     "prev": null,
     "regions": {
      "8225e319-a034-4787-b6c3-67ba18e539df": {
       "attrs": {
        "height": 1,
        "pad": 0.01,
        "treemap:weight": 1,
        "width": 0.5,
        "x": 0.5,
        "y": 0
       },
       "id": "8225e319-a034-4787-b6c3-67ba18e539df"
      },
      "da963486-c522-4461-b750-f656e415a1be": {
       "attrs": {
        "height": 1,
        "pad": 0.01,
        "treemap:weight": 1,
        "width": 0.5,
        "x": 0,
        "y": 0
       },
       "id": "da963486-c522-4461-b750-f656e415a1be"
      }
     }
    },
    "1735d954-277d-4120-b50d-1eda74274968": {
     "id": "1735d954-277d-4120-b50d-1eda74274968",
     "prev": "0d986ed2-5f0a-4fb5-bef8-671b9a7944c2",
     "regions": {
      "a6210379-c2c0-4a0b-b180-def0b2e45d5a": {
       "attrs": {
        "height": 1,
        "width": 1,
        "x": 0,
        "y": 0
       },
       "content": {
        "cell": "58ed5f85-9757-4f05-94ef-a631c3d9dd51",
        "part": "outputs"
       },
       "id": "a6210379-c2c0-4a0b-b180-def0b2e45d5a"
      }
     }
    },
    "17414c21-2d5e-4e85-a979-be0a81228952": {
     "id": "17414c21-2d5e-4e85-a979-be0a81228952",
     "prev": "3ba851ce-b3eb-409e-8809-d72887d124c6",
     "regions": {
      "8b369589-ef7b-40d4-986f-89079045d9ea": {
       "attrs": {
        "height": 1,
        "width": 1,
        "x": 0,
        "y": 0
       },
       "id": "8b369589-ef7b-40d4-986f-89079045d9ea"
      }
     }
    },
    "3ba851ce-b3eb-409e-8809-d72887d124c6": {
     "id": "3ba851ce-b3eb-409e-8809-d72887d124c6",
     "prev": "1735d954-277d-4120-b50d-1eda74274968",
     "regions": {
      "a70ad6eb-6c6c-4a9b-b2e6-844787805048": {
       "attrs": {
        "height": 0.7020408163265306,
        "width": 0.8377551020408163,
        "x": 0.1622448979591837,
        "y": 0.2979591836734694
       },
       "content": {
        "cell": "c50576db-4f27-48e8-a63a-42de45527151",
        "part": "outputs"
       },
       "id": "a70ad6eb-6c6c-4a9b-b2e6-844787805048"
      },
      "bebea0da-137b-4a60-9392-618d040c348d": {
       "attrs": {
        "height": 0.1360544217687075,
        "width": 0.8604591836734694,
        "x": 0.1,
        "y": 0.1
       },
       "id": "bebea0da-137b-4a60-9392-618d040c348d"
      }
     }
    }
   },
   "themes": {}
  }
 },
 "nbformat": 4,
 "nbformat_minor": 2
}
