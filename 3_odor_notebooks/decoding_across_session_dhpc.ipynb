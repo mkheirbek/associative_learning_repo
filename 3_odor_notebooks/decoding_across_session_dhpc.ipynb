{
 "cells": [
  {
   "cell_type": "code",
   "execution_count": 1,
   "metadata": {
    "collapsed": false
   },
   "outputs": [
    {
     "data": {
      "text/html": [
       "<script>jQuery(function() {if (jQuery(\"body.notebook_app\").length == 0) { jQuery(\".input_area\").toggle(); jQuery(\".prompt\").toggle();}});</script>"
      ]
     },
     "metadata": {},
     "output_type": "display_data"
    },
    {
     "data": {
      "text/html": [
       "<button onclick=\"jQuery('.input_area').toggle(); jQuery('.prompt').toggle();\">Toggle code</button>"
      ]
     },
     "metadata": {},
     "output_type": "display_data"
    }
   ],
   "source": [
    "from IPython.display import display\n",
    "from IPython.display import HTML\n",
    "import IPython.core.display as di # Example: di.display_html('<h3>%s:</h3>' % str, raw=True)\n",
    "\n",
    "# This line will hide code by default when the notebook is exported as HTML\n",
    "di.display_html('<script>jQuery(function() {if (jQuery(\"body.notebook_app\").length == 0) { jQuery(\".input_area\").toggle(); jQuery(\".prompt\").toggle();}});</script>', raw=True)\n",
    "\n",
    "# This line will add a button to toggle visibility of code blocks, for use with the HTML export version\n",
    "di.display_html('''<button onclick=\"jQuery('.input_area').toggle(); jQuery('.prompt').toggle();\">Toggle code</button>''', raw=True)\n"
   ]
  },
  {
   "cell_type": "code",
   "execution_count": 2,
   "metadata": {
    "collapsed": true
   },
   "outputs": [],
   "source": [
    "# all modules necessary for this nb\n",
    "import os\n",
    "import sys\n",
    "import pickle\n",
    "\n",
    "import numpy as np\n",
    "import pylab as pl\n",
    "import scipy.stats as sstats\n",
    "\n",
    "# setting parameters for default matplotlib plots\n",
    "%matplotlib inline"
   ]
  },
  {
   "cell_type": "code",
   "execution_count": 3,
   "metadata": {
    "collapsed": false,
    "nbpresent": {
     "id": "74d6493e-cf63-4efb-8856-1394244ac4d5"
    }
   },
   "outputs": [],
   "source": [
    "pl.style.use('fabiostyle')\n",
    "\n",
    "# needs to find the library of functions\n",
    "sys.path.append('../../../code/')  # to be replaced!\n",
    "\n",
    "import utils as ut\n",
    "import plots as pt"
   ]
  },
  {
   "cell_type": "code",
   "execution_count": 4,
   "metadata": {
    "collapsed": false,
    "nbpresent": {
     "id": "6b878791-4155-40ef-82ee-10e123c8f1d8"
    }
   },
   "outputs": [],
   "source": [
    "# NOTEBOOK_NAME = NOTEBOOK_NAME.split('/')[-1][:-6]\n",
    "NOTEBOOK_NAME = 'decoding_across_session_dhpc'"
   ]
  },
  {
   "cell_type": "code",
   "execution_count": 5,
   "metadata": {
    "collapsed": false,
    "nbpresent": {
     "id": "dd42cd63-cf61-43ef-aca1-72f72cc9da73"
    }
   },
   "outputs": [],
   "source": [
    "from pickleshare import PickleShareDB\n",
    "\n",
    "autorestore_folder = os.path.join(os.getcwd(), 'autorestore', NOTEBOOK_NAME)\n",
    "db = PickleShareDB(autorestore_folder)\n",
    "import sys\n",
    "from workspace import *\n",
    "import IPython\n",
    "ip = IPython.get_ipython()\n",
    "\n",
    "# this will restore all the saved variables. ignore the errors listed.\n",
    "#load_workspace(ip, db)\n",
    "\n",
    "# use `save_worspace(db)` to save variables at the end"
   ]
  },
  {
   "cell_type": "code",
   "execution_count": 6,
   "metadata": {
    "collapsed": false,
    "nbpresent": {
     "id": "b3acfa0e-305c-4909-b0b6-5578a5c69191"
    },
    "scrolled": false
   },
   "outputs": [],
   "source": [
    "from itertools import product\n",
    "def load_all_animals_vars(varname, animal_list, sess, pilot_list=None, notebook='preprocessing'):\n",
    "    all_of_them = {}\n",
    "    for ani in animal_list:\n",
    "        folder = '../%s/%s/notebooks/autorestore/%s/' % (ani, sess, notebook)\n",
    "        try:\n",
    "            all_of_them.update({ani: ut.load_variable(varname, folder)})\n",
    "        except IOError:\n",
    "            print \"No %s file for %s in session %s (%s).\"%(varname, ani, sess, notebook)\n",
    "    return all_of_them"
   ]
  },
  {
   "cell_type": "code",
   "execution_count": 7,
   "metadata": {
    "collapsed": true
   },
   "outputs": [],
   "source": [
    "all_animals = 'dhpcg1','dhpcg20','dhpc24'\n",
    "pre_animals = 'dhpcg1','dhpcg20','dhpc24'\n",
    "post_animals = 'dhpcg1','dhpcg20','dhpc24'\n",
    "pre_rev_animals = 'dhpcg1','dhpcg20','dhpc24'\n",
    "post_rev_animals = 'dhpcg1','dhpcg20','dhpc24'"
   ]
  },
  {
   "cell_type": "code",
   "execution_count": 9,
   "metadata": {
    "collapsed": false
   },
   "outputs": [
    {
     "name": "stdout",
     "output_type": "stream",
     "text": [
      "prevspost_sh_rw_cs_1a was completed, yay!\n",
      "prevspost_sh_rw_tr_1a was completed, yay!\n",
      "prevspost_sh_rw_cs_1b was completed, yay!\n",
      "prevspost_sh_rw_tr_1b was completed, yay!\n",
      "prevspost_sh_rw_cs_2 was completed, yay!\n",
      "prevspost_sh_rw_tr_2 was completed, yay!\n",
      "prevspost_sh_csm_cs_1a was completed, yay!\n",
      "prevspost_sh_csm_tr_1a was completed, yay!\n",
      "prevspost_sh_csm_cs_1b was completed, yay!\n",
      "prevspost_sh_csm_tr_1b was completed, yay!\n",
      "prevspost_sh_csm_cs_2 was completed, yay!\n",
      "prevspost_sh_csm_tr_2 was completed, yay!\n",
      "prevspost_rw_csm_cs_1a was completed, yay!\n",
      "prevspost_rw_csm_tr_1a was completed, yay!\n",
      "prevspost_rw_csm_cs_1b was completed, yay!\n",
      "prevspost_rw_csm_tr_1b was completed, yay!\n",
      "prevspost_rw_csm_cs_2 was completed, yay!\n",
      "prevspost_rw_csm_tr_2 was completed, yay!\n",
      "prevspre_rev_sh_rw_cs_1a was completed, yay!\n",
      "prevspre_rev_sh_rw_tr_1a was completed, yay!\n",
      "prevspre_rev_sh_rw_cs_1b was completed, yay!\n",
      "prevspre_rev_sh_rw_tr_1b was completed, yay!\n",
      "prevspre_rev_sh_rw_cs_2 was completed, yay!\n",
      "prevspre_rev_sh_rw_tr_2 was completed, yay!\n",
      "prevspre_rev_sh_csm_cs_1a was completed, yay!\n",
      "prevspre_rev_sh_csm_tr_1a was completed, yay!\n",
      "prevspre_rev_sh_csm_cs_1b was completed, yay!\n",
      "prevspre_rev_sh_csm_tr_1b was completed, yay!\n",
      "prevspre_rev_sh_csm_cs_2 was completed, yay!\n",
      "prevspre_rev_sh_csm_tr_2 was completed, yay!\n",
      "prevspre_rev_rw_csm_cs_1a was completed, yay!\n",
      "prevspre_rev_rw_csm_tr_1a was completed, yay!\n",
      "prevspre_rev_rw_csm_cs_1b was completed, yay!\n",
      "prevspre_rev_rw_csm_tr_1b was completed, yay!\n",
      "prevspre_rev_rw_csm_cs_2 was completed, yay!\n",
      "prevspre_rev_rw_csm_tr_2 was completed, yay!\n",
      "No perf_pre_post_rev_sh_rw_cs_1a_within file for dhpcg1 in session  (decoding_all).\n",
      "No perf_pre_post_rev_sh_rw_cs_1a_across file for dhpcg1 in session  (decoding_all).\n",
      "prevspost_rev_sh_rw_cs_1a was completed, yay!\n",
      "No perf_pre_post_rev_sh_rw_tr_1a_within file for dhpcg1 in session  (decoding_all).\n",
      "No perf_pre_post_rev_sh_rw_tr_1a_across file for dhpcg1 in session  (decoding_all).\n",
      "prevspost_rev_sh_rw_tr_1a was completed, yay!\n",
      "No perf_pre_post_rev_sh_rw_cs_1b_within file for dhpcg1 in session  (decoding_all).\n",
      "No perf_pre_post_rev_sh_rw_cs_1b_across file for dhpcg1 in session  (decoding_all).\n",
      "prevspost_rev_sh_rw_cs_1b was completed, yay!\n",
      "No perf_pre_post_rev_sh_rw_tr_1b_within file for dhpcg1 in session  (decoding_all).\n",
      "No perf_pre_post_rev_sh_rw_tr_1b_across file for dhpcg1 in session  (decoding_all).\n",
      "prevspost_rev_sh_rw_tr_1b was completed, yay!\n",
      "No perf_pre_post_rev_sh_rw_cs_2_within file for dhpcg1 in session  (decoding_all).\n",
      "No perf_pre_post_rev_sh_rw_cs_2_across file for dhpcg1 in session  (decoding_all).\n",
      "prevspost_rev_sh_rw_cs_2 was completed, yay!\n",
      "No perf_pre_post_rev_sh_rw_tr_2_within file for dhpcg1 in session  (decoding_all).\n",
      "No perf_pre_post_rev_sh_rw_tr_2_across file for dhpcg1 in session  (decoding_all).\n",
      "prevspost_rev_sh_rw_tr_2 was completed, yay!\n",
      "No perf_pre_post_rev_sh_csm_cs_1a_within file for dhpcg1 in session  (decoding_all).\n",
      "No perf_pre_post_rev_sh_csm_cs_1a_across file for dhpcg1 in session  (decoding_all).\n",
      "prevspost_rev_sh_csm_cs_1a was completed, yay!\n",
      "No perf_pre_post_rev_sh_csm_tr_1a_within file for dhpcg1 in session  (decoding_all).\n",
      "No perf_pre_post_rev_sh_csm_tr_1a_across file for dhpcg1 in session  (decoding_all).\n",
      "prevspost_rev_sh_csm_tr_1a was completed, yay!\n",
      "No perf_pre_post_rev_sh_csm_cs_1b_within file for dhpcg1 in session  (decoding_all).\n",
      "No perf_pre_post_rev_sh_csm_cs_1b_across file for dhpcg1 in session  (decoding_all).\n",
      "prevspost_rev_sh_csm_cs_1b was completed, yay!\n",
      "No perf_pre_post_rev_sh_csm_tr_1b_within file for dhpcg1 in session  (decoding_all).\n",
      "No perf_pre_post_rev_sh_csm_tr_1b_across file for dhpcg1 in session  (decoding_all).\n",
      "prevspost_rev_sh_csm_tr_1b was completed, yay!\n",
      "No perf_pre_post_rev_sh_csm_cs_2_within file for dhpcg1 in session  (decoding_all).\n",
      "No perf_pre_post_rev_sh_csm_cs_2_across file for dhpcg1 in session  (decoding_all).\n",
      "prevspost_rev_sh_csm_cs_2 was completed, yay!\n",
      "No perf_pre_post_rev_sh_csm_tr_2_within file for dhpcg1 in session  (decoding_all).\n",
      "No perf_pre_post_rev_sh_csm_tr_2_across file for dhpcg1 in session  (decoding_all).\n",
      "prevspost_rev_sh_csm_tr_2 was completed, yay!\n",
      "No perf_pre_post_rev_rw_csm_cs_1a_within file for dhpcg1 in session  (decoding_all).\n",
      "No perf_pre_post_rev_rw_csm_cs_1a_across file for dhpcg1 in session  (decoding_all).\n",
      "prevspost_rev_rw_csm_cs_1a was completed, yay!\n",
      "No perf_pre_post_rev_rw_csm_tr_1a_within file for dhpcg1 in session  (decoding_all).\n",
      "No perf_pre_post_rev_rw_csm_tr_1a_across file for dhpcg1 in session  (decoding_all).\n",
      "prevspost_rev_rw_csm_tr_1a was completed, yay!\n",
      "No perf_pre_post_rev_rw_csm_cs_1b_within file for dhpcg1 in session  (decoding_all).\n",
      "No perf_pre_post_rev_rw_csm_cs_1b_across file for dhpcg1 in session  (decoding_all).\n",
      "prevspost_rev_rw_csm_cs_1b was completed, yay!\n",
      "No perf_pre_post_rev_rw_csm_tr_1b_within file for dhpcg1 in session  (decoding_all).\n",
      "No perf_pre_post_rev_rw_csm_tr_1b_across file for dhpcg1 in session  (decoding_all).\n",
      "prevspost_rev_rw_csm_tr_1b was completed, yay!\n",
      "No perf_pre_post_rev_rw_csm_cs_2_within file for dhpcg1 in session  (decoding_all).\n",
      "No perf_pre_post_rev_rw_csm_cs_2_across file for dhpcg1 in session  (decoding_all).\n",
      "prevspost_rev_rw_csm_cs_2 was completed, yay!\n",
      "No perf_pre_post_rev_rw_csm_tr_2_within file for dhpcg1 in session  (decoding_all).\n",
      "No perf_pre_post_rev_rw_csm_tr_2_across file for dhpcg1 in session  (decoding_all).\n",
      "prevspost_rev_rw_csm_tr_2 was completed, yay!\n",
      "postvspre_sh_rw_cs_1a was completed, yay!\n",
      "postvspre_sh_rw_tr_1a was completed, yay!\n",
      "postvspre_sh_rw_cs_1b was completed, yay!\n",
      "postvspre_sh_rw_tr_1b was completed, yay!\n",
      "postvspre_sh_rw_cs_2 was completed, yay!\n",
      "postvspre_sh_rw_tr_2 was completed, yay!\n",
      "postvspre_sh_csm_cs_1a was completed, yay!\n",
      "postvspre_sh_csm_tr_1a was completed, yay!\n",
      "postvspre_sh_csm_cs_1b was completed, yay!\n",
      "postvspre_sh_csm_tr_1b was completed, yay!\n",
      "postvspre_sh_csm_cs_2 was completed, yay!\n",
      "postvspre_sh_csm_tr_2 was completed, yay!\n",
      "postvspre_rw_csm_cs_1a was completed, yay!\n",
      "postvspre_rw_csm_tr_1a was completed, yay!\n",
      "postvspre_rw_csm_cs_1b was completed, yay!\n",
      "postvspre_rw_csm_tr_1b was completed, yay!\n",
      "postvspre_rw_csm_cs_2 was completed, yay!\n",
      "postvspre_rw_csm_tr_2 was completed, yay!\n",
      "postvspre_rev_sh_rw_cs_1a was completed, yay!\n",
      "postvspre_rev_sh_rw_tr_1a was completed, yay!\n",
      "postvspre_rev_sh_rw_cs_1b was completed, yay!\n",
      "postvspre_rev_sh_rw_tr_1b was completed, yay!\n",
      "postvspre_rev_sh_rw_cs_2 was completed, yay!\n",
      "postvspre_rev_sh_rw_tr_2 was completed, yay!\n",
      "postvspre_rev_sh_csm_cs_1a was completed, yay!\n",
      "postvspre_rev_sh_csm_tr_1a was completed, yay!\n",
      "postvspre_rev_sh_csm_cs_1b was completed, yay!\n",
      "postvspre_rev_sh_csm_tr_1b was completed, yay!\n",
      "postvspre_rev_sh_csm_cs_2 was completed, yay!\n",
      "postvspre_rev_sh_csm_tr_2 was completed, yay!\n",
      "postvspre_rev_rw_csm_cs_1a was completed, yay!\n",
      "postvspre_rev_rw_csm_tr_1a was completed, yay!\n",
      "postvspre_rev_rw_csm_cs_1b was completed, yay!\n",
      "postvspre_rev_rw_csm_tr_1b was completed, yay!\n",
      "postvspre_rev_rw_csm_cs_2 was completed, yay!\n",
      "postvspre_rev_rw_csm_tr_2 was completed, yay!\n",
      "postvspost_rev_sh_rw_cs_1a was completed, yay!\n",
      "postvspost_rev_sh_rw_tr_1a was completed, yay!\n",
      "postvspost_rev_sh_rw_cs_1b was completed, yay!\n",
      "postvspost_rev_sh_rw_tr_1b was completed, yay!\n",
      "postvspost_rev_sh_rw_cs_2 was completed, yay!\n",
      "postvspost_rev_sh_rw_tr_2 was completed, yay!\n",
      "postvspost_rev_sh_csm_cs_1a was completed, yay!\n",
      "postvspost_rev_sh_csm_tr_1a was completed, yay!\n",
      "postvspost_rev_sh_csm_cs_1b was completed, yay!\n",
      "postvspost_rev_sh_csm_tr_1b was completed, yay!\n",
      "postvspost_rev_sh_csm_cs_2 was completed, yay!\n",
      "postvspost_rev_sh_csm_tr_2 was completed, yay!\n",
      "postvspost_rev_rw_csm_cs_1a was completed, yay!\n",
      "postvspost_rev_rw_csm_tr_1a was completed, yay!\n",
      "postvspost_rev_rw_csm_cs_1b was completed, yay!\n",
      "postvspost_rev_rw_csm_tr_1b was completed, yay!\n",
      "postvspost_rev_rw_csm_cs_2 was completed, yay!\n",
      "postvspost_rev_rw_csm_tr_2 was completed, yay!\n",
      "pre_revvspre_sh_rw_cs_1a was completed, yay!\n",
      "pre_revvspre_sh_rw_tr_1a was completed, yay!\n",
      "pre_revvspre_sh_rw_cs_1b was completed, yay!\n",
      "pre_revvspre_sh_rw_tr_1b was completed, yay!\n",
      "pre_revvspre_sh_rw_cs_2 was completed, yay!\n",
      "pre_revvspre_sh_rw_tr_2 was completed, yay!\n",
      "pre_revvspre_sh_csm_cs_1a was completed, yay!\n",
      "pre_revvspre_sh_csm_tr_1a was completed, yay!\n",
      "pre_revvspre_sh_csm_cs_1b was completed, yay!\n",
      "pre_revvspre_sh_csm_tr_1b was completed, yay!\n",
      "pre_revvspre_sh_csm_cs_2 was completed, yay!\n",
      "pre_revvspre_sh_csm_tr_2 was completed, yay!\n",
      "pre_revvspre_rw_csm_cs_1a was completed, yay!\n",
      "pre_revvspre_rw_csm_tr_1a was completed, yay!\n",
      "pre_revvspre_rw_csm_cs_1b was completed, yay!\n",
      "pre_revvspre_rw_csm_tr_1b was completed, yay!\n",
      "pre_revvspre_rw_csm_cs_2 was completed, yay!\n",
      "pre_revvspre_rw_csm_tr_2 was completed, yay!\n",
      "pre_revvspost_sh_rw_cs_1a was completed, yay!\n",
      "pre_revvspost_sh_rw_tr_1a was completed, yay!\n",
      "pre_revvspost_sh_rw_cs_1b was completed, yay!\n",
      "pre_revvspost_sh_rw_tr_1b was completed, yay!\n",
      "pre_revvspost_sh_rw_cs_2 was completed, yay!\n",
      "pre_revvspost_sh_rw_tr_2 was completed, yay!\n",
      "pre_revvspost_sh_csm_cs_1a was completed, yay!\n",
      "pre_revvspost_sh_csm_tr_1a was completed, yay!\n",
      "pre_revvspost_sh_csm_cs_1b was completed, yay!\n",
      "pre_revvspost_sh_csm_tr_1b was completed, yay!\n",
      "pre_revvspost_sh_csm_cs_2 was completed, yay!\n",
      "pre_revvspost_sh_csm_tr_2 was completed, yay!\n",
      "pre_revvspost_rw_csm_cs_1a was completed, yay!\n",
      "pre_revvspost_rw_csm_tr_1a was completed, yay!\n",
      "pre_revvspost_rw_csm_cs_1b was completed, yay!\n",
      "pre_revvspost_rw_csm_tr_1b was completed, yay!\n",
      "pre_revvspost_rw_csm_cs_2 was completed, yay!\n",
      "pre_revvspost_rw_csm_tr_2 was completed, yay!\n",
      "pre_revvspost_rev_sh_rw_cs_1a was completed, yay!\n",
      "pre_revvspost_rev_sh_rw_tr_1a was completed, yay!\n",
      "pre_revvspost_rev_sh_rw_cs_1b was completed, yay!\n",
      "pre_revvspost_rev_sh_rw_tr_1b was completed, yay!\n",
      "pre_revvspost_rev_sh_rw_cs_2 was completed, yay!\n",
      "pre_revvspost_rev_sh_rw_tr_2 was completed, yay!\n",
      "pre_revvspost_rev_sh_csm_cs_1a was completed, yay!\n",
      "pre_revvspost_rev_sh_csm_tr_1a was completed, yay!\n",
      "pre_revvspost_rev_sh_csm_cs_1b was completed, yay!\n",
      "pre_revvspost_rev_sh_csm_tr_1b was completed, yay!\n",
      "pre_revvspost_rev_sh_csm_cs_2 was completed, yay!\n",
      "pre_revvspost_rev_sh_csm_tr_2 was completed, yay!\n",
      "pre_revvspost_rev_rw_csm_cs_1a was completed, yay!\n",
      "pre_revvspost_rev_rw_csm_tr_1a was completed, yay!\n",
      "pre_revvspost_rev_rw_csm_cs_1b was completed, yay!\n",
      "pre_revvspost_rev_rw_csm_tr_1b was completed, yay!\n",
      "pre_revvspost_rev_rw_csm_cs_2 was completed, yay!\n",
      "pre_revvspost_rev_rw_csm_tr_2 was completed, yay!\n",
      "No perf_post_rev_pre_sh_rw_cs_1a_within file for dhpcg1 in session  (decoding_all).\n",
      "post_revvspre_sh_rw_cs_1a was completed, yay!\n",
      "No perf_post_rev_pre_sh_rw_tr_1a_within file for dhpcg1 in session  (decoding_all).\n",
      "post_revvspre_sh_rw_tr_1a was completed, yay!\n",
      "No perf_post_rev_pre_sh_rw_cs_1b_within file for dhpcg1 in session  (decoding_all).\n",
      "post_revvspre_sh_rw_cs_1b was completed, yay!\n",
      "No perf_post_rev_pre_sh_rw_tr_1b_within file for dhpcg1 in session  (decoding_all).\n",
      "post_revvspre_sh_rw_tr_1b was completed, yay!\n",
      "No perf_post_rev_pre_sh_rw_cs_2_within file for dhpcg1 in session  (decoding_all).\n",
      "post_revvspre_sh_rw_cs_2 was completed, yay!\n",
      "No perf_post_rev_pre_sh_rw_tr_2_within file for dhpcg1 in session  (decoding_all).\n",
      "post_revvspre_sh_rw_tr_2 was completed, yay!\n",
      "No perf_post_rev_pre_sh_csm_cs_1a_within file for dhpcg1 in session  (decoding_all).\n",
      "post_revvspre_sh_csm_cs_1a was completed, yay!\n",
      "No perf_post_rev_pre_sh_csm_tr_1a_within file for dhpcg1 in session  (decoding_all).\n",
      "post_revvspre_sh_csm_tr_1a was completed, yay!\n",
      "No perf_post_rev_pre_sh_csm_cs_1b_within file for dhpcg1 in session  (decoding_all).\n",
      "post_revvspre_sh_csm_cs_1b was completed, yay!\n",
      "No perf_post_rev_pre_sh_csm_tr_1b_within file for dhpcg1 in session  (decoding_all).\n",
      "post_revvspre_sh_csm_tr_1b was completed, yay!\n",
      "No perf_post_rev_pre_sh_csm_cs_2_within file for dhpcg1 in session  (decoding_all).\n",
      "post_revvspre_sh_csm_cs_2 was completed, yay!\n",
      "No perf_post_rev_pre_sh_csm_tr_2_within file for dhpcg1 in session  (decoding_all).\n",
      "post_revvspre_sh_csm_tr_2 was completed, yay!\n",
      "No perf_post_rev_pre_rw_csm_cs_1a_within file for dhpcg1 in session  (decoding_all).\n",
      "post_revvspre_rw_csm_cs_1a was completed, yay!\n",
      "No perf_post_rev_pre_rw_csm_tr_1a_within file for dhpcg1 in session  (decoding_all).\n",
      "post_revvspre_rw_csm_tr_1a was completed, yay!\n",
      "No perf_post_rev_pre_rw_csm_cs_1b_within file for dhpcg1 in session  (decoding_all).\n",
      "post_revvspre_rw_csm_cs_1b was completed, yay!\n",
      "No perf_post_rev_pre_rw_csm_tr_1b_within file for dhpcg1 in session  (decoding_all).\n",
      "post_revvspre_rw_csm_tr_1b was completed, yay!\n",
      "No perf_post_rev_pre_rw_csm_cs_2_within file for dhpcg1 in session  (decoding_all).\n",
      "post_revvspre_rw_csm_cs_2 was completed, yay!\n",
      "No perf_post_rev_pre_rw_csm_tr_2_within file for dhpcg1 in session  (decoding_all).\n",
      "post_revvspre_rw_csm_tr_2 was completed, yay!\n",
      "post_revvspost_sh_rw_cs_1a was completed, yay!\n",
      "post_revvspost_sh_rw_tr_1a was completed, yay!\n",
      "post_revvspost_sh_rw_cs_1b was completed, yay!\n",
      "post_revvspost_sh_rw_tr_1b was completed, yay!\n",
      "post_revvspost_sh_rw_cs_2 was completed, yay!\n",
      "post_revvspost_sh_rw_tr_2 was completed, yay!\n",
      "post_revvspost_sh_csm_cs_1a was completed, yay!\n",
      "post_revvspost_sh_csm_tr_1a was completed, yay!\n",
      "post_revvspost_sh_csm_cs_1b was completed, yay!\n",
      "post_revvspost_sh_csm_tr_1b was completed, yay!\n",
      "post_revvspost_sh_csm_cs_2 was completed, yay!\n",
      "post_revvspost_sh_csm_tr_2 was completed, yay!\n",
      "post_revvspost_rw_csm_cs_1a was completed, yay!\n",
      "post_revvspost_rw_csm_tr_1a was completed, yay!\n",
      "post_revvspost_rw_csm_cs_1b was completed, yay!\n",
      "post_revvspost_rw_csm_tr_1b was completed, yay!\n",
      "post_revvspost_rw_csm_cs_2 was completed, yay!\n",
      "post_revvspost_rw_csm_tr_2 was completed, yay!\n",
      "post_revvspre_rev_sh_rw_cs_1a was completed, yay!\n",
      "post_revvspre_rev_sh_rw_tr_1a was completed, yay!\n",
      "post_revvspre_rev_sh_rw_cs_1b was completed, yay!\n",
      "post_revvspre_rev_sh_rw_tr_1b was completed, yay!\n",
      "post_revvspre_rev_sh_rw_cs_2 was completed, yay!\n",
      "post_revvspre_rev_sh_rw_tr_2 was completed, yay!\n",
      "post_revvspre_rev_sh_csm_cs_1a was completed, yay!\n",
      "post_revvspre_rev_sh_csm_tr_1a was completed, yay!\n",
      "post_revvspre_rev_sh_csm_cs_1b was completed, yay!\n",
      "post_revvspre_rev_sh_csm_tr_1b was completed, yay!\n",
      "post_revvspre_rev_sh_csm_cs_2 was completed, yay!\n",
      "post_revvspre_rev_sh_csm_tr_2 was completed, yay!\n",
      "post_revvspre_rev_rw_csm_cs_1a was completed, yay!\n",
      "post_revvspre_rev_rw_csm_tr_1a was completed, yay!\n",
      "post_revvspre_rev_rw_csm_cs_1b was completed, yay!\n",
      "post_revvspre_rev_rw_csm_tr_1b was completed, yay!\n",
      "post_revvspre_rev_rw_csm_cs_2 was completed, yay!\n",
      "post_revvspre_rev_rw_csm_tr_2 was completed, yay!\n"
     ]
    }
   ],
   "source": [
    "#all periods, time bins, sessions, and mice\n",
    "sessionA = 'pre','post','pre_rev','post_rev','catch'\n",
    "sessionB = 'pre','post','pre_rev','post_rev','catch'\n",
    "trial_type = 'sh_rw','sh_csm','rw_csm'\n",
    "seconds='1a','1b','2'\n",
    "trial_period = 'cs', 'tr', \n",
    "#sess_1,trial,period,time\n",
    "\n",
    "for sess_1 in sessionA:\n",
    "    for trial in trial_type:\n",
    "        for time in seconds:\n",
    "            for period in trial_period:\n",
    "                try:\n",
    "                    exec(\"scores_%s_%s_%s_%s = dict(zip(%s_animals, [ut.load_variable('perf_%s_%s_%s_%s',\\\n",
    "                                                                       '../%%s/notebooks/autorestore/decoding_all/'%%ani)\\\n",
    "                                                              for ani in %s_animals]))\"%(sess_1,trial,period,time,sess_1,sess_1,trial,period,time,sess_1,))\n",
    "                except:\n",
    "                    print str(sess_1)+\"_\"+str(trial)+\"_\"+str(period)+\"_\"+str(time)+\" did not complete\"\n",
    "\n",
    "sess_1_c=0                    \n",
    "for sess_1 in sessionA:\n",
    "    sess_1_c=sess_1_c+1\n",
    "    sess_2_c=0\n",
    "    for sess_2 in sessionB:\n",
    "        sess_2_c=sess_2_c+1\n",
    "        for trial in trial_type:\n",
    "            for time in seconds:\n",
    "                for period in trial_period:\n",
    "                    if sess_1!=sess_2:\n",
    "                        try:\n",
    "                            exec(\"scores_%s%s_%s_%s_%s_%s = load_all_animals_vars('perf_%s_%s_%s_%s_%s_within', %s_animals, '', notebook='decoding_all')\"%(sess_1,sess_2,sess_1,trial,period,time,sess_1,sess_2,trial,period,time,sess_1))\n",
    "                            if sess_1_c < sess_2_c:\n",
    "                                exec(\"scores_%s%s_%s_%s_%s = load_all_animals_vars('perf_%s_%s_%s_%s_%s_across', %s_animals, '', notebook='decoding_all')\"%(sess_1,sess_2,trial,period,time,sess_1,sess_2,trial,period,time,sess_1))\n",
    "                            \n",
    "                            print str(sess_1)+\"vs\"+str(sess_2)+\"_\"+str(trial)+\"_\"+str(period)+\"_\"+str(time)+\" was completed, yay!\"\n",
    "                        except:\n",
    "                            print str(sess_1)+\"vs\"+str(sess_2)+\"_\"+str(trial)+\"_\"+str(period)+\"_\"+str(time)+\" did not complete\"\n",
    "\n"
   ]
  },
  {
   "cell_type": "code",
   "execution_count": 10,
   "metadata": {
    "collapsed": false
   },
   "outputs": [],
   "source": [
    "def plot_no_reg(trial_type,period,time,):\n",
    "\n",
    "#sess_1,trial,period,time\n",
    "    fig, ax = pl.subplots(1, 1, figsize=(2, 2))\n",
    "\n",
    "    exec(\"values = (100*np.concatenate(scores_pre_%s_%s_%s.values()), 100*np.concatenate(scores_post_%s_%s_%s.values()), 100*np.concatenate(scores_pre_rev_%s_%s_%s.values()), 100*np.concatenate(scores_post_rev_%s_%s_%s.values()))\"%(trial_type,period,time,trial_type,period,time,trial_type,period,time,trial_type,period,time))\n",
    "    pt.plot_bars(values, ax=ax, stderr=True)\n",
    "\n",
    "    for ani in all_animals:\n",
    "        exec(\"ax.plot(np.arange(len(values))+np.random.rand(len(values))*0.1-0.05, [np.mean(scores_pre_%s_%s_%s[ani]if ani in scores_pre_%s_%s_%s.keys() else -1)*100, np.mean(scores_post_%s_%s_%s[ani]if ani in scores_post_%s_%s_%s.keys() else -1)*100, np.mean(scores_pre_rev_%s_%s_%s[ani] if ani in scores_pre_rev_%s_%s_%s.keys() else -1)*100, np.mean(scores_post_rev_%s_%s_%s[ani] if ani in scores_post_rev_%s_%s_%s.keys() else -1)*100], 'o', mew=0, alpha=0.5, zorder=0, ms=3)\"%(trial_type,period,time,trial_type,period,time,trial_type,period,time,trial_type,period,time,trial_type,period,time,trial_type,period,time,trial_type,period,time,trial_type,period,time))\n",
    "\n",
    "    ax.set_xticks(range(4))\n",
    "    ax.set_xticklabels(['Pre', 'Post', 'Pre_rev', 'Post_rev',])\n",
    "\n",
    "    ax.hlines(50, -0.5, len(values)+.5-1, lw=1, zorder=0, linestyles='dashed', color='0.7')\n",
    "\n",
    "    ax.set_ylim(0, 100)\n",
    "    \n",
    "    \n",
    "    ax.set_ylabel('Decoding Performance Percent')\n",
    "    exec(\"ax.set_title('Within Session %s %s %s seconds')\"%(trial_type,period,time))\n",
    "\n",
    "    ax.legend(all_animals,loc=[1.2, 0])\n",
    "    #print \"I don't think the colors assigned to each animal are consistent across sessions\\n(some animals are not present in all sessions)\"\n",
    "\n",
    "    exec(\"fig.savefig('../img/%s__within_session_allcells_%s_%s_%s.pdf', bbox='tight')\"%(NOTEBOOK_NAME,trial_type,period,time))"
   ]
  },
  {
   "cell_type": "code",
   "execution_count": 11,
   "metadata": {
    "collapsed": false
   },
   "outputs": [
    {
     "data": {
      "image/png": "[encoded data removed]",
      "text/plain": [
       "<matplotlib.figure.Figure at 0x7feafc0d0050>"
      ]
     },
     "metadata": {},
     "output_type": "display_data"
    }
   ],
   "source": [
    "plot_no_reg('sh_rw','tr','2')"
   ]
  },
  {
   "cell_type": "code",
   "execution_count": 12,
   "metadata": {
    "collapsed": false
   },
   "outputs": [],
   "source": [
    "def plot_reg(scores_pre, scores_post, scores_prepost, ax, labels=['Sess \\n1', 'Sess\\n2', 'Cross\\nsession'],\n",
    "            dots=False,):\n",
    "    \n",
    "    values = (100*np.concatenate(scores_pre.values()),\n",
    "              100*np.concatenate(scores_post.values()),\n",
    "              100*np.concatenate(scores_prepost.values()),)\n",
    "    pt.plot_bars(values, ax=ax, stderr=True, colors=['0.7', '0.7', 'k'])\n",
    "\n",
    "    ax.set_xticks(range(3))\n",
    "    ax.set_xticklabels(labels, fontsize=4)\n",
    "    axs[0].set_ylabel('Decoding Performance %')\n",
    "    ax.set_ylim(0, 100)\n",
    "    \n",
    "    ax.hlines(50, -0.5, 2.5, lw=1, zorder=0, linestyles='dashed', color='0.7')\n",
    "\n",
    "    ax.set_ylim(0, 100)\n",
    "    \n",
    "    if dots:\n",
    "        for ani in scores_pre.keys():\n",
    "            try:\n",
    "                ax.plot(np.arange(len(values))+np.random.rand(len(values))*0.1-0.05,\n",
    "                    [np.mean(scores_pre[ani])*100,\n",
    "                         np.mean(scores_post[ani])*100,\n",
    "                         np.mean(scores_prepost[ani])*100],            \n",
    "                        'o', mew=0, alpha=0.5, zorder=0, ms=3)\n",
    "            except:\n",
    "                print ani"
   ]
  },
  {
   "cell_type": "code",
   "execution_count": 13,
   "metadata": {
    "collapsed": false
   },
   "outputs": [
    {
     "data": {
      "text/plain": [
       "<matplotlib.legend.Legend at 0x7feac0020cd0>"
      ]
     },
     "execution_count": 13,
     "metadata": {},
     "output_type": "execute_result"
    },
    {
     "data": {
      "image/png": "[encoded data removed]",
      "text/plain": [
       "<matplotlib.figure.Figure at 0x7feac0020d10>"
      ]
     },
     "metadata": {},
     "output_type": "display_data"
    }
   ],
   "source": [
    "sess_to_plot = ['pre','post',\n",
    "                'post','pre_rev',\n",
    "                'post','post_rev',\n",
    "                'pre','pre_rev',\n",
    "                'pre','post_rev',\n",
    "                'pre_rev','post_rev']\n",
    "sess_param = 'sh_rw_tr_2'\n",
    "dots = True\n",
    "\n",
    "l_sub = 6 #sub_graphs to plot\n",
    "\n",
    "fig, axs = pl.subplots(1, l_sub, figsize=(l_sub, 2), sharey=True)\n",
    "\n",
    "for i in range(l_sub):\n",
    "    if i==0:\n",
    "        exec(\"plot_reg(scores_%s%s_%s_%s, scores_%s%s_%s_%s, scores_%s%s_%s, axs[i], labels=['%s', '%s', 'Cross'],dots=%s)\"%(sess_to_plot[i],sess_to_plot[i+1],sess_to_plot[i],sess_param,sess_to_plot[i+1],sess_to_plot[i],sess_to_plot[i+1],sess_param,sess_to_plot[i],sess_to_plot[i+1],sess_param,sess_to_plot[i],sess_to_plot[i+1],dots))\n",
    "    else:\n",
    "        exec(\"plot_reg(scores_%s%s_%s_%s, scores_%s%s_%s_%s, scores_%s%s_%s, axs[i], labels=['%s', '%s', 'Cross'],dots=%s)\"%(sess_to_plot[(i*2)],sess_to_plot[1+i*2],sess_to_plot[i*2],sess_param,sess_to_plot[1+i*2],sess_to_plot[i*2],sess_to_plot[1+i*2],sess_param,sess_to_plot[i*2],sess_to_plot[1+i*2],sess_param,sess_to_plot[i*2],sess_to_plot[2*i+1],dots))\n",
    "\n",
    "axs[0].set_title(sess_param)\n",
    "\n",
    "axs[0].legend(all_animals,loc=[1.2, 0])\n",
    "        \n",
    "# fig.savefig('../img/%s__across_session_cellreg.pdf'%NOTEBOOK_NAME, bbox='tight')\n",
    "\n",
    "# fig.savefig('../img/%s__across_session_cellreg.pdf'%NOTEBOOK_NAME, bbox='tight')"
   ]
  },
  {
   "cell_type": "code",
   "execution_count": 14,
   "metadata": {
    "collapsed": false
   },
   "outputs": [
    {
     "name": "stdout",
     "output_type": "stream",
     "text": [
      "Could not store variable 'IPython'. Skipping...\n",
      "Could not store variable 'sstats'. Skipping...\n",
      "Could not store variable 'pickle'. Skipping...\n",
      "Could not store variable 'di'. Skipping...\n",
      "Could not store variable 'pt'. Skipping...\n",
      "Could not store variable 'pl'. Skipping...\n",
      "Could not store variable 'ip'. Skipping...\n",
      "Could not store variable 'sys'. Skipping...\n",
      "Could not store variable 'os'. Skipping...\n",
      "Could not store variable 'ut'. Skipping...\n",
      "Could not store variable 'np'. Skipping...\n"
     ]
    }
   ],
   "source": [
    "save_workspace(db)"
   ]
  },
  {
   "cell_type": "code",
   "execution_count": null,
   "metadata": {
    "collapsed": true
   },
   "outputs": [],
   "source": []
  }
 ],
 "metadata": {
  "anaconda-cloud": {},
  "kernelspec": {
   "display_name": "Python [default]",
   "language": "python",
   "name": "python2"
  },
  "language_info": {
   "codemirror_mode": {
    "name": "ipython",
    "version": 2
   },
   "file_extension": ".py",
   "mimetype": "text/x-python",
   "name": "python",
   "nbconvert_exporter": "python",
   "pygments_lexer": "ipython2",
   "version": "2.7.12"
  },
  "nbpresent": {
   "slides": {
    "0d986ed2-5f0a-4fb5-bef8-671b9a7944c2": {
     "id": "0d986ed2-5f0a-4fb5-bef8-671b9a7944c2",
     "layout": "grid",
     "prev": null,
     "regions": {
      "8225e319-a034-4787-b6c3-67ba18e539df": {
       "attrs": {
        "height": 1,
        "pad": 0.01,
        "treemap:weight": 1,
        "width": 0.5,
        "x": 0.5,
        "y": 0
       },
       "id": "8225e319-a034-4787-b6c3-67ba18e539df"
      },
      "da963486-c522-4461-b750-f656e415a1be": {
       "attrs": {
        "height": 1,
        "pad": 0.01,
        "treemap:weight": 1,
        "width": 0.5,
        "x": 0,
        "y": 0
       },
       "id": "da963486-c522-4461-b750-f656e415a1be"
      }
     }
    },
    "1735d954-277d-4120-b50d-1eda74274968": {
     "id": "1735d954-277d-4120-b50d-1eda74274968",
     "prev": "0d986ed2-5f0a-4fb5-bef8-671b9a7944c2",
     "regions": {
      "a6210379-c2c0-4a0b-b180-def0b2e45d5a": {
       "attrs": {
        "height": 1,
        "width": 1,
        "x": 0,
        "y": 0
       },
       "content": {
        "cell": "58ed5f85-9757-4f05-94ef-a631c3d9dd51",
        "part": "outputs"
       },
       "id": "a6210379-c2c0-4a0b-b180-def0b2e45d5a"
      }
     }
    },
    "17414c21-2d5e-4e85-a979-be0a81228952": {
     "id": "17414c21-2d5e-4e85-a979-be0a81228952",
     "prev": "3ba851ce-b3eb-409e-8809-d72887d124c6",
     "regions": {
      "8b369589-ef7b-40d4-986f-89079045d9ea": {
       "attrs": {
        "height": 1,
        "width": 1,
        "x": 0,
        "y": 0
       },
       "id": "8b369589-ef7b-40d4-986f-89079045d9ea"
      }
     }
    },
    "3ba851ce-b3eb-409e-8809-d72887d124c6": {
     "id": "3ba851ce-b3eb-409e-8809-d72887d124c6",
     "prev": "1735d954-277d-4120-b50d-1eda74274968",
     "regions": {
      "a70ad6eb-6c6c-4a9b-b2e6-844787805048": {
       "attrs": {
        "height": 0.7020408163265306,
        "width": 0.8377551020408163,
        "x": 0.1622448979591837,
        "y": 0.2979591836734694
       },
       "content": {
        "cell": "c50576db-4f27-48e8-a63a-42de45527151",
        "part": "outputs"
       },
       "id": "a70ad6eb-6c6c-4a9b-b2e6-844787805048"
      },
      "bebea0da-137b-4a60-9392-618d040c348d": {
       "attrs": {
        "height": 0.1360544217687075,
        "width": 0.8604591836734694,
        "x": 0.1,
        "y": 0.1
       },
       "id": "bebea0da-137b-4a60-9392-618d040c348d"
      }
     }
    }
   },
   "themes": {}
  }
 },
 "nbformat": 4,
 "nbformat_minor": 2
}
