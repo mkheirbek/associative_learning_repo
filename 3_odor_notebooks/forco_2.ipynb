{
 "cells": [
  {
   "cell_type": "markdown",
   "metadata": {},
   "source": [
    "## New in version 2:\n",
    "* updated traces variable from C to C_raw\n",
    "* updated dff from C.raw to C_df\n",
    "* added save workspace at end\n",
    "* plotting of ROIs on mean image is up and running again"
   ]
  },
  {
   "cell_type": "code",
   "execution_count": null,
   "metadata": {
    "collapsed": false
   },
   "outputs": [],
   "source": [
    "\n",
    "from IPython.display import display\n",
    "from IPython.display import HTML\n",
    "import IPython.core.display as di # Example: di.display_html('<h3>%s:</h3>' % str, raw=True)\n",
    "\n",
    "# This line will hide code by default when the notebook is exported as HTML\n",
    "di.display_html('<script>jQuery(function() {if (jQuery(\"body.notebook_app\").length == 0) { jQuery(\".input_area\").toggle(); jQuery(\".prompt\").toggle();}});</script>', raw=True)\n",
    "\n",
    "# This line will add a button to toggle visibility of code blocks, for use with the HTML export version\n",
    "di.display_html('''<button onclick=\"jQuery('.input_area').toggle(); jQuery('.prompt').toggle();\">Toggle code</button>''', raw=True)\n"
   ]
  },
  {
   "cell_type": "code",
   "execution_count": null,
   "metadata": {
    "collapsed": true
   },
   "outputs": [],
   "source": [
    "# all modules necessary for this nb\n",
    "import os\n",
    "import sys\n",
    "import pickle\n",
    "\n",
    "import numpy as np\n",
    "import pylab as pl\n",
    "from sklearn.covariance import EmpiricalCovariance\n",
    "from sklearn.cluster import KMeans, AffinityPropagation\n",
    "from sklearn.metrics import silhouette_score as clust_score\n",
    "from sklearn.preprocessing import StandardScaler\n",
    "from scipy import stats as sstats\n",
    "from matplotlib.patches import Circle, Wedge, Polygon\n",
    "from matplotlib.collections import PatchCollection\n",
    "\n",
    "# setting parameters for default matplotlib plots\n",
    "%matplotlib inline\n",
    "pl.rcParams['savefig.dpi'] = 300 # dpi for most publications\n",
    "pl.rcParams['xtick.labelsize'] = 7\n",
    "pl.rcParams['ytick.labelsize'] = 7\n",
    "pl.rcParams['axes.labelsize'] = 7\n",
    "from ipywidgets import interact\n",
    "\n",
    "# needs to find the library of functions\n",
    "sys.path.append('/home/fabios/code/forco/')  # to be replaced!\n",
    "\n",
    "import utils as ut\n",
    "import plots as pt"
   ]
  },
  {
   "cell_type": "markdown",
   "metadata": {},
   "source": [
    "------------------"
   ]
  },
  {
   "cell_type": "markdown",
   "metadata": {},
   "source": [
    "These cells are used to backup and restore the variables in the workspace, no need to re-run the whole notebook. The variables are saved into `/home/fabios/autorestore/NOTEBOOK_NAME` (this is no longer true, I believe - JSB 5/26/18). Use the function `save_workspace(db)` to save the variables at any point. Only **variables** get saved, not functions, so you have to re-define your functions.\n",
    "\n",
    "**Avoid moving the notebook into a different folder or renaming it**."
   ]
  },
  {
   "cell_type": "code",
   "execution_count": null,
   "metadata": {
    "collapsed": false
   },
   "outputs": [],
   "source": [
    "%%javascript\n",
    "var nb = IPython.notebook;\n",
    "var kernel = IPython.notebook.kernel;\n",
    "var command = \"NOTEBOOK_NAME = '\" + nb.base_url + nb.notebook_path + \"'\";\n",
    "kernel.execute(command);"
   ]
  },
  {
   "cell_type": "code",
   "execution_count": null,
   "metadata": {
    "collapsed": false
   },
   "outputs": [],
   "source": [
    "# NOTEBOOK_NAME = NOTEBOOK_NAME.split('/')[-1][:-6]\n",
    "NOTEBOOK_NAME = 'forco'"
   ]
  },
  {
   "cell_type": "code",
   "execution_count": null,
   "metadata": {
    "collapsed": false
   },
   "outputs": [],
   "source": [
    "from pickleshare import PickleShareDB\n",
    "\n",
    "autorestore_folder = os.path.join(os.getcwd(), 'autorestore', NOTEBOOK_NAME)\n",
    "db = PickleShareDB(autorestore_folder)\n",
    "import sys\n",
    "sys.path.append('/home/fabios/code')\n",
    "from workspace import *\n",
    "import IPython\n",
    "ip = IPython.get_ipython()\n",
    "\n",
    "# this will restore all the saved variables. ignore the errors listed.\n",
    "load_workspace(ip, db)\n",
    "\n",
    "# use `save_worspace(db)` to save variables at the end"
   ]
  },
  {
   "cell_type": "code",
   "execution_count": null,
   "metadata": {
    "collapsed": false
   },
   "outputs": [],
   "source": [
    "def extract_single_cycle(time_ax, dff, cycles, cycle, cell,\n",
    "                         cycle_start=-8):\n",
    "    fc = ut.filter_cycle(time_ax, cycles, cycle)\n",
    "    t0 = time_ax[fc][0]\n",
    "    return time_ax[fc] - t0 + cycle_start, dff[:, cell][fc]\n",
    "\n",
    "\n",
    "def extract_single_cycle_signal(time_ax, signal, cycles, cycle,\n",
    "                         cycle_start=-8):\n",
    "    fc = ut.filter_cycle(time_ax, cycles, cycle)\n",
    "    t0 = time_ax[fc][0]\n",
    "    return time_ax[fc] - t0 + cycle_start, signal[fc]\n",
    "\n",
    "\n",
    "def extract_single_cycle_time_ax(time_ax, cycles, cycle_duration=4, cycle_start=-8):\n",
    "    # single_cycle_time_bins = filter_cycle(time_ax, cycles, cycle).sum() \n",
    "    min_len = np.inf\n",
    "    for i, c in enumerate(cycles):\n",
    "        time_ax_single = time_ax[ut.filter_cycle(time_ax, cycles, i)]-time_ax[ut.filter_cycle(time_ax, cycles, i)][0]\n",
    "        time_ax_single = time_ax_single[time_ax_single < cycle_duration] + cycle_start\n",
    "        l = len(time_ax_single)\n",
    "        if l<min_len:\n",
    "            min_len = l\n",
    "    return time_ax_single[:min_len]\n"
   ]
  },
  {
   "cell_type": "markdown",
   "metadata": {},
   "source": [
    "------------------"
   ]
  },
  {
   "cell_type": "markdown",
   "metadata": {},
   "source": [
    "# Forco is for Trace Conditioning"
   ]
  },
  {
   "cell_type": "markdown",
   "metadata": {},
   "source": [
    "## Enter here the correct folder"
   ]
  },
  {
   "cell_type": "code",
   "execution_count": null,
   "metadata": {
    "collapsed": false
   },
   "outputs": [],
   "source": [
    "# we go up one folder from autorestore_folder\n",
    "a = autorestore_folder.split('/')[:-3]\n",
    "# data_folder = '/media/data/DATA1/dg_odor_nwoods/adam/2dayhabit/d1//'\n",
    "data_folder = os.path.join('/', *a)"
   ]
  },
  {
   "cell_type": "code",
   "execution_count": null,
   "metadata": {
    "collapsed": false
   },
   "outputs": [],
   "source": [
    "data_folder"
   ]
  },
  {
   "cell_type": "code",
   "execution_count": null,
   "metadata": {
    "collapsed": true
   },
   "outputs": [],
   "source": [
    "import scipy.io as sio\n",
    "from scipy.io import loadmat"
   ]
  },
  {
   "cell_type": "code",
   "execution_count": null,
   "metadata": {
    "collapsed": false
   },
   "outputs": [],
   "source": [
    "# traces = np.loadtxt(os.path.join(data_folder, 'traces/C_raw.txt')).T\n",
    "traces = np.loadtxt(os.path.join(data_folder, 'CNMFe Conservative/C_raw.txt')).T\n",
    "# traces_raw = np.loadtxt(os.path.join(data_folder, 'traces/C_raw.txt')).T\n",
    "events = np.loadtxt(os.path.join(data_folder, 'CNMFe Conservative/S.txt')).T\n",
    "dff = np.loadtxt(os.path.join(data_folder, 'CNMFe Conservative/C_df.txt')).T\n",
    "denoised = np.loadtxt(os.path.join(data_folder, 'CNMFe Conservative/C.txt')).T\n",
    "Cnn=np.loadtxt(os.path.join(data_folder, 'CNMFe Conservative/Cnn.txt'))\n",
    "Coor = sio.loadmat(os.path.join(data_folder, 'CNMFe Conservative/Coor.mat'))['coor'][:,0]\n",
    "#events = ut.event_detection_cnmfe_denoised(denoised)\n",
    "dff_zs = ut.zscore_traces(dff)\n",
    "# areas = np.loadtxt(os.path.join(data_folder, 'area/A.txt')).T\n",
    "\n",
    "##   MAKE SURE YOU HAVE THE PROPER PIXEL DIMENSIONS FOR YOUR VIDEO BELOW\n",
    "##def load_spatial_footprints_A(A_file, shape=(421, 514)):\n",
    "##    return np.loadtxt(A_file).T.reshape([-1, shape[0], shape[1]])\n",
    "##areas = load_spatial_footprints_A(os.path.join(data_folder, 'area/A.txt'))\n",
    "mean_image, contours = ut.load_spatial_footprints(os.path.join(data_folder, 'CNMFe Conservative/Coor.mat'),\n",
    "                                                  os.path.join(data_folder, 'CNMFe Conservative/Cnn.txt'),\n",
    "                                                  key='coor')\n",
    "\n",
    "filename = os.path.join(data_folder, 'arduino/behavior.txt')\n",
    "behavior = ut.read_behavior(filename)\n",
    "events_list = np.unique([b[1] for b in behavior])"
   ]
  },
  {
   "cell_type": "code",
   "execution_count": null,
   "metadata": {
    "collapsed": false
   },
   "outputs": [],
   "source": [
    "# grab time axis from the xml file\n",
    "\n",
    "import xml.etree.ElementTree as ET\n",
    "xmlfile = os.path.join(data_folder, 'tseries.xml')\n",
    "print \"I infer the time axis from:\\n\", xmlfile\n",
    "tree = ET.parse(xmlfile)\n",
    "root = tree.getroot()\n",
    "\n",
    "# unfortunately we miss the first frame\n",
    "time_ax = np.r_[[child.attrib['absoluteTime']\n",
    "                 for child in root.iter('Frame')]].astype(float)"
   ]
  },
  {
   "cell_type": "code",
   "execution_count": null,
   "metadata": {
    "collapsed": false
   },
   "outputs": [],
   "source": [
    "# sync times\n",
    "start_2p = ut.parse_behavior(behavior, 'BEGIN')[0]\n",
    "behavior = [[float(b[0])-start_2p, b[1]] for b in behavior]\n",
    "time_ax -= time_ax[0]"
   ]
  },
  {
   "cell_type": "code",
   "execution_count": null,
   "metadata": {
    "collapsed": false
   },
   "outputs": [],
   "source": [
    "time_ax"
   ]
  },
  {
   "cell_type": "markdown",
   "metadata": {},
   "source": [
    "# Modify this one here\n",
    "\n",
    "Make sure that the following is correct. Use the `parse_behavior` function which accept regular expressions (for example, `tone*` to find all the events that start with `tone`)."
   ]
  },
  {
   "cell_type": "code",
   "execution_count": null,
   "metadata": {
    "collapsed": false
   },
   "outputs": [],
   "source": [
    "# -----------------------------------------------------------\n",
    "# these times are relative to the single cycle\n",
    "# and centered around tone onset\n",
    "CONTINUOUS = True\n",
    "CYCLE_START = -8  # seconds\n",
    "CS_START = 0  # seconds (let's keep this at 0)\n",
    "CS_DURATION = 2  # seconds\n",
    "DELAY = 2  # seconds\n",
    "US_DURATION = 2  # seconds  // IS THIS FIXED?\n",
    "AFTER_US_PERIOD = 5\n",
    "REWARD_WIN = 2\n",
    "CYCLE_DURATION = abs(CYCLE_START) + CS_DURATION + DELAY + US_DURATION + AFTER_US_PERIOD\n",
    "CS_END = CS_START + CS_DURATION\n",
    "US_START = CS_START + DELAY +CS_DURATION\n",
    "US_END = US_START + US_DURATION\n",
    "\n",
    "# -----------------------------------------------------------\n",
    "# these times are absolute times, taken from the arduino file\n",
    "# when the tones starts and ends\n",
    "tone_CSm_ons = ut.parse_behavior(behavior, 'TONE_CSM')\n",
    "tone_CSm_offs = ut.parse_behavior(behavior, 'TONE_CSM', offset=CS_DURATION)\n",
    "tone_rw_ons = ut.parse_behavior(behavior, 'TONE_RW')\n",
    "tone_rw_offs = ut.parse_behavior(behavior, 'TONE_RW', offset=CS_DURATION)\n",
    "rewards = np.r_[ut.parse_behavior(behavior, 'REWARD')]\n",
    "\n",
    "# -----------------------------------------------------------\n",
    "# when the experiment starts and ends, in absolute time\n",
    "# begin_end = ut.parse_behavior(behavior, '[be]')\n",
    "# when each cycle starts and ends\n",
    "# (last cycle is usually oddly recorded)\n",
    "if CONTINUOUS:\n",
    "    cycles_starts = ut.parse_behavior(behavior, 'TONE_*', offset=CYCLE_START)\n",
    "    cycles_ends = ut.parse_behavior(behavior, 'TONE_*', offset=CYCLE_DURATION+CYCLE_START)\n",
    "else:\n",
    "    cycles_starts = ut.parse_behavior(behavior, 'BEGIN')\n",
    "    cycles_ends = ut.parse_behavior(behavior, 'END')\n",
    "cycle_subtract = 0   #do we need to subtract off the last cycle because it's too short???\n",
    "if cycle_subtract !=0:\n",
    "    cycles = np.r_[zip(cycles_starts,  # offset will be ADDED, with sign\n",
    "                   cycles_ends)][:cycle_subtract]\n",
    "else:\n",
    "    cycles = np.r_[zip(cycles_starts,  # offset will be ADDED, with sign\n",
    "                   cycles_ends)]\n",
    "print 'we are subtracting off this many cycles'\n",
    "print cycle_subtract\n",
    "# -----------------------------------------------------------\n",
    "# which trials are a.p. and which reward\n",
    "is_CSm = [any(map(lambda t: (t>=s) and (t<e), tone_CSm_ons)) for s, e in zip(cycles_starts, cycles_ends)]\n",
    "is_rwt = [any(map(lambda t: (t>=s) and (t<e), tone_rw_ons)) for s, e in zip(cycles_starts, cycles_ends)]\n",
    "true_CSm = np.where([any(map(lambda t: (t>=s) and (t<e), tone_CSm_ons)) for s, e in cycles])[0]\n",
    "true_rwt = np.where([any(map(lambda t: (t>=s) and (t<e), tone_rw_ons)) for s, e in cycles])[0]\n",
    "# is_rewarded = [any(map(lambda t: (t>=s) and (t<e) and any((t-rewards)<(CS_DURATION+DELAY+REWARD_WIN)), tone_rw_ons))\n",
    "#                for s, e in zip(cycles_starts, cycles_ends)]\n",
    "is_rewarded = [any(map(lambda r: (r<e)*(r>=s), rewards))\n",
    "               for s, e in zip(cycles_starts, cycles_ends)]\n",
    "is_not_rewarded = is_rwt * ~np.r_[is_rewarded]"
   ]
  },
  {
   "cell_type": "code",
   "execution_count": null,
   "metadata": {
    "collapsed": false
   },
   "outputs": [],
   "source": [
    "ut.get_cycles_durations(cycles, time_ax)"
   ]
  },
  {
   "cell_type": "code",
   "execution_count": null,
   "metadata": {
    "collapsed": false
   },
   "outputs": [],
   "source": [
    "max_cycles = len(cycles)\n",
    "\n",
    "time_ax_single = extract_single_cycle_time_ax(time_ax, cycles, cycle_duration=CYCLE_DURATION, cycle_start=CYCLE_START)"
   ]
  },
  {
   "cell_type": "code",
   "execution_count": null,
   "metadata": {
    "collapsed": false
   },
   "outputs": [],
   "source": [
    "print \"The first cycle starts at %f and ends at %f seconds.\" % (cycles[0][0], cycles[0][1])"
   ]
  },
  {
   "cell_type": "code",
   "execution_count": null,
   "metadata": {
    "collapsed": false
   },
   "outputs": [],
   "source": [
    "licks = ut.parse_behavior(behavior, \"LICK\")"
   ]
  },
  {
   "cell_type": "code",
   "execution_count": null,
   "metadata": {
    "collapsed": false
   },
   "outputs": [],
   "source": [
    "conv_func = np.roll(np.exp(-np.arange(100)/10.), 50)"
   ]
  },
  {
   "cell_type": "code",
   "execution_count": null,
   "metadata": {
    "collapsed": true
   },
   "outputs": [],
   "source": [
    "lick_trace = np.zeros_like(time_ax)"
   ]
  },
  {
   "cell_type": "code",
   "execution_count": null,
   "metadata": {
    "collapsed": false
   },
   "outputs": [],
   "source": [
    "for l in licks:\n",
    "    lick_trace[np.argmin(abs(time_ax-l))] += 1"
   ]
  },
  {
   "cell_type": "code",
   "execution_count": null,
   "metadata": {
    "collapsed": false
   },
   "outputs": [],
   "source": [
    "lick_trace_conv = np.convolve(lick_trace, conv_func/np.sum(conv_func), mode='same')\n",
    "pl.plot(time_ax, lick_trace_conv)\n",
    "pl.xlim(0, 400)"
   ]
  },
  {
   "cell_type": "code",
   "execution_count": null,
   "metadata": {
    "collapsed": false
   },
   "outputs": [],
   "source": [
    "len(is_rwt)"
   ]
  },
  {
   "cell_type": "code",
   "execution_count": null,
   "metadata": {
    "collapsed": true
   },
   "outputs": [],
   "source": [
    "def plot_licks(tone_onsets, licks, ax=None, positions=None, filter_ons=None, **vlines_args):\n",
    "    if ax is None:\n",
    "        fig, ax = pl.subplots(1, 1)\n",
    "    if filter_ons is None:\n",
    "        filter_ons = [True] * len(tone_onsets)\n",
    "    if positions is None:\n",
    "        positions = range(len(tone_onsets))\n",
    "    for i, tone_ons in zip(positions, tone_onsets):\n",
    "        lick_filt = ((licks-tone_ons)>CYCLE_START) * ((licks-tone_ons)<CYCLE_DURATION)\n",
    "        ax.vlines((licks-tone_ons)[lick_filt], i, i+1, **vlines_args)\n",
    "    return ax"
   ]
  },
  {
   "cell_type": "code",
   "execution_count": null,
   "metadata": {
    "collapsed": false
   },
   "outputs": [],
   "source": [
    "fig, ax = pl.subplots(1, 1, figsize=(6, 4))\n",
    "plot_licks(tone_rw_ons, licks, ax=ax, positions=range(len(true_rwt)), color='b')\n",
    "plot_licks(tone_CSm_ons, licks, ax=ax, positions=len(true_rwt)+np.arange(len(true_CSm)), color='r')\n",
    "# axs[0].set_title('CS+')\n",
    "# plot_licks(tone_csm_ons, licks, ax=axs[1])\n",
    "# axs[1].set_title('CS-')\n",
    "# plot_licks(tone_ap_ons, licks, ax=axs[2])\n",
    "# axs[2].set_title('AP')\n",
    "# for ax in axs:\n",
    "ax.set_xlim(CYCLE_START, CYCLE_START+CYCLE_DURATION)\n",
    "# ax.set_ylim(-10, len(cycles))\n",
    "#ax.set_xlim(CYCLE_START, 15)\n",
    "ax.set_ylabel('Trial #')\n",
    "ax.set_xlabel(\"Time from tone onset (s)\")\n",
    "pt.plot_period_bar(ax, -3, delta_y=2, color='g', start_end=(CS_START, CS_END))\n",
    "pt.plot_period_bar(ax, -3, delta_y=2, color='m', start_end=(US_START, US_END))"
   ]
  },
  {
   "cell_type": "code",
   "execution_count": null,
   "metadata": {
    "collapsed": true
   },
   "outputs": [],
   "source": [
    "def compute_lick_ratios(licks, cycles):\n",
    "    lick_ratios = []\n",
    "    for s, e in cycles:\n",
    "        l = licks - s + CYCLE_START\n",
    "        licks_during = ((l>CS_START)*(l<CS_END+DELAY)).sum()\n",
    "        licks_all = ((l>-CS_DURATION-DELAY)*(l<CS_END+DELAY)).sum()\n",
    "        lick_ratios.append(1.*licks_during/licks_all if licks_all>0 else -1)\n",
    "    return np.r_[lick_ratios]\n",
    "lick_ratios = compute_lick_ratios(licks, cycles)"
   ]
  },
  {
   "cell_type": "code",
   "execution_count": null,
   "metadata": {
    "collapsed": false
   },
   "outputs": [],
   "source": [
    "def plot_lick_ratios(lick_ratios, true_rwt, true_CSm, axs=None, colors=['b', 'r']):\n",
    "    \n",
    "    if axs is None:\n",
    "        fig, axs = pl.subplots(1, 2, gridspec_kw={'width_ratios':(1, 5)}, sharey=True)\n",
    "    ax = axs[1]\n",
    "    y, bins, patches = ax.hist([lick_ratios[true_rwt], lick_ratios[true_CSm]], color=colors,\n",
    "               bins=np.arange(0, 1.1, .25))\n",
    "    ax.text(0.05, 12, 'BLUE = reward, RED = CSminus')\n",
    "    ax.set_xlabel(\"Anticipatory licking ratio (CS+trace/baseline+CS+trace)\")\n",
    "    ax.set_xticks(bins)\n",
    "    # ax.set_xticklabels(['no licks', 0, 0.5, 1])\n",
    "    ax = axs[0]\n",
    "    ax.hist([lick_ratios[true_rwt], lick_ratios[true_CSm]], color=['b', 'r'],\n",
    "               bins=np.arange(-1, 0, 0.25))\n",
    "    ax.set_xlim(-1, -0.75)\n",
    "    ax.set_xticks((-0.875,))\n",
    "    ax.set_xticklabels(('no licks',))\n",
    "    ax.set_ylabel('Frequency')\n",
    "    \n",
    "    return axs\n",
    "plot_lick_ratios(lick_ratios, true_rwt, true_CSm, axs=None)"
   ]
  },
  {
   "cell_type": "markdown",
   "metadata": {},
   "source": [
    "## THE BELOW LICK RATIOS ARE NOT READY FOR PRIME TIME - JSB"
   ]
  },
  {
   "cell_type": "code",
   "execution_count": null,
   "metadata": {
    "collapsed": false
   },
   "outputs": [],
   "source": [
    "def compute_lick_ratios_B(licks, cycles):\n",
    "    lick_ratios_B = []\n",
    "    for s, e in cycles:\n",
    "        l = licks - s + CYCLE_START\n",
    "        licks_during = ((l>CS_START)*(l<CS_END+DELAY)).sum()\n",
    "        licks_all = ((l>-CS_DURATION-DELAY)*(l<CS_END+DELAY)).sum()\n",
    "        lick_ratios_B.append(1.*licks_during/licks_all if licks_all>0 else 0)\n",
    "    return np.r_[lick_ratios_B]\n",
    "lick_ratios_B = compute_lick_ratios_B(licks, cycles)"
   ]
  },
  {
   "cell_type": "code",
   "execution_count": null,
   "metadata": {
    "collapsed": false
   },
   "outputs": [],
   "source": [
    "np.mean(lick_ratios_B[is_rwt])"
   ]
  },
  {
   "cell_type": "code",
   "execution_count": null,
   "metadata": {
    "collapsed": false
   },
   "outputs": [],
   "source": [
    "np.mean(lick_ratios_B[is_CSm])"
   ]
  },
  {
   "cell_type": "code",
   "execution_count": null,
   "metadata": {
    "collapsed": false
   },
   "outputs": [],
   "source": [
    "#Plot CNMFe ROIs\n",
    "ig, ax = pl.subplots(1, 2, figsize=(8, 8))\n",
    "colors = pl.cm.rainbow(np.linspace(0, 1, 35))\n",
    "ax[0].set_xticks(())\n",
    "ax[0].set_yticks(())\n",
    "ax[0].imshow(Cnn, alpha=1, cmap=pl.cm.gray)\n",
    "ax[0].set_title('avg image')\n",
    "#CNMFe outputs roi coordinates in Coor with a bunch of false coordinates that make your ROIs look weird. \n",
    "#This code is to get rid of these outliers.\n",
    "for neuron in xrange(Coor.shape[0]):\n",
    "    for dim in xrange(2):\n",
    "        mask=np.where(abs(np.diff(Coor[neuron][dim]))>10)\n",
    "        for x in mask:\n",
    "            x+=1\n",
    "        Coor[neuron][dim][mask]=np.nan\n",
    "#find number of coordinates in smallest ROI (store this value in min_coor)\n",
    "min_coor=1000\n",
    "for neuron in Coor:\n",
    "    temp=neuron.shape[1]\n",
    "    if temp<min_coor:\n",
    "        min_coor=temp\n",
    "#plot Cnn, which is the correlation image and overlay the ROIs \n",
    "patches=[]\n",
    "pl.imshow(Cnn, cmap=pl.cm.gray)\n",
    "for neuron in xrange(Coor.shape[0]):\n",
    "    polygon = Polygon(np.transpose(Coor[neuron][:,10:]))\n",
    "    patches.append(polygon)\n",
    "    ax[1].text(Coor[neuron][0,min_coor-1], Coor[neuron][1,min_coor-1], neuron+1, color='y',size=8)\n",
    "polygon = Polygon(np.transpose(Coor[18][:,10:]))\n",
    "patches.append(polygon)\n",
    "ax[1].text(Coor[18][0,min_coor-1], Coor[18][1,min_coor-1], 21+1, color='y',size=8)\n",
    "colors = 100*np.random.rand(len(patches))\n",
    "p = PatchCollection(patches, alpha=0.4)\n",
    "p.set_array(np.array(colors))\n",
    "ax[1].add_collection(p)\n",
    "ax[1].set_title('CNMFe')\n",
    "ax[1].yaxis.set_ticks([])\n",
    "ax[1].xaxis.set_ticks([])"
   ]
  },
  {
   "cell_type": "markdown",
   "metadata": {},
   "source": [
    "## df/f"
   ]
  },
  {
   "cell_type": "code",
   "execution_count": null,
   "metadata": {
    "collapsed": false
   },
   "outputs": [],
   "source": [
    "pl.figure(figsize=(5, 12))\n",
    "[pl.plot(time_ax/60., dff[:, cell]/50.+cell,lw=.5) for cell in range(dff.shape[1])];\n",
    "pl.xlabel(\"time (min)\")"
   ]
  },
  {
   "cell_type": "code",
   "execution_count": null,
   "metadata": {
    "collapsed": false
   },
   "outputs": [],
   "source": [
    "behavior"
   ]
  },
  {
   "cell_type": "code",
   "execution_count": null,
   "metadata": {
    "collapsed": false,
    "scrolled": true
   },
   "outputs": [],
   "source": [
    "pl.figure(figsize=(10, 25))\n",
    "[pl.plot(time_ax/60., denoised[:, cell]/50.+cell,lw=1) for cell in range(dff.shape[1])];\n",
    "pl.xlabel(\"time (min)\")"
   ]
  },
  {
   "cell_type": "code",
   "execution_count": null,
   "metadata": {
    "collapsed": true
   },
   "outputs": [],
   "source": [
    "licks = ut.parse_behavior(behavior, 'LICK')"
   ]
  },
  {
   "cell_type": "code",
   "execution_count": null,
   "metadata": {
    "collapsed": false,
    "scrolled": true
   },
   "outputs": [],
   "source": [
    "def plot_it(cell=0, signals=0,):\n",
    "    if signals==0:\n",
    "        signal = traces\n",
    "        print'raw signal'\n",
    "        delta_y = 20\n",
    "        lick_length = 20\n",
    "    elif signals==1:\n",
    "        signal = denoised\n",
    "        print'denoised signal'\n",
    "        delta_y = 20\n",
    "        lick_length = 20\n",
    "    elif signals==2:\n",
    "        signal = events\n",
    "        print'events signal'\n",
    "        delta_y = 20\n",
    "        lick_length = 20\n",
    "    elif signals == 3:\n",
    "        signal = dff_zs\n",
    "        print'z-scored raw'\n",
    "        delta_y = 3\n",
    "        lick_length = 3\n",
    "        \n",
    "    all_dffs = ut.compute_all_dffs(time_ax, signal, cell=cell, cycles=cycles, time_ax_single=time_ax_single)\n",
    "    \n",
    "    pl.figure(figsize=(5, 10))\n",
    "    \n",
    "    \n",
    "    for cycle in xrange(len(cycles)):\n",
    "        pl.plot(time_ax_single, all_dffs[cycle]-cycle*delta_y, color='b' if is_rwt[cycle] else 'r')\n",
    "        which_licks = ut.search_events(cycles, cycle, event_times=licks)\n",
    "        pl.vlines(licks[which_licks]-cycles[cycle][0]-8, -cycle*delta_y, -cycle*delta_y-lick_length,\n",
    "#                   lw=1, color=(0.5, 0.5, 1) if is_rwt[cycle] else (1, 0.5, 0.5), zorder=0)\n",
    "                  lw=1, color=(0.5, 0.5, 0.5), zorder=0)\n",
    "\n",
    "    ypos = pl.axis()[-1]\n",
    "    pt.plot_period_bar(pl.axes(), ypos, color='g', start_end=(0, 2), delta_y=lick_length)\n",
    "    pt.plot_period_bar(pl.axes(), ypos, color='m', start_end=(4, 6), delta_y=lick_length)\n",
    "\n",
    "interact(plot_it, cell=(0, dff.shape[1]-1, 1),signals=(0,3,1))"
   ]
  },
  {
   "cell_type": "code",
   "execution_count": null,
   "metadata": {
    "collapsed": true
   },
   "outputs": [],
   "source": [
    "pl.figure(figsize=(10, 15))\n",
    "pl.imshow(dff.T, extent=(time_ax[0]/60., time_ax[-1]/60., 0, dff.shape[1]),\n",
    "          aspect='auto', interpolation='nearest', vmin=0,\n",
    "          cmap=pl.cm.viridis);\n",
    "pl.xlabel('Time (m)')\n",
    "pl.ylabel('Cell #')"
   ]
  },
  {
   "cell_type": "code",
   "execution_count": null,
   "metadata": {
    "collapsed": false
   },
   "outputs": [],
   "source": [
    "signals = 0\n",
    "\n",
    "if signals==0:\n",
    "    signal = traces\n",
    "    print'raw signal'\n",
    "elif signals==1:\n",
    "    signal = denoised\n",
    "    print'denoised signal'\n",
    "elif signals==2:\n",
    "    signal = events\n",
    "    print'events signal'\n",
    "elif signals == 3:\n",
    "    signal = dff_zs\n",
    "    print'z-scored raw'"
   ]
  },
  {
   "cell_type": "code",
   "execution_count": null,
   "metadata": {
    "collapsed": false,
    "scrolled": true
   },
   "outputs": [],
   "source": [
    "#This cell can take several minutes to complete. Plots every Ca trace for every cell (trialxtime for each cell)\n",
    "ncells_x =  4\n",
    "ncells_y = int(np.ceil(dff.shape[1]/4.))\n",
    "first_cell = 1\n",
    "last_cell = first_cell + ncells_x*ncells_y\n",
    "\n",
    "\n",
    "if signals==0:\n",
    "    signal = traces\n",
    "    print'raw signal'\n",
    "elif signals==1:\n",
    "    signal = denoised\n",
    "    print'denoised signal'\n",
    "elif signals==2:\n",
    "    signal = events\n",
    "    print'events signal'\n",
    "elif signals == 3:\n",
    "    signal = dff_zs\n",
    "    print'z-scored raw'\n",
    "\n",
    "\n",
    "def plot_all_cycles(cell, ax, showlicks = False):\n",
    "#     ax = pl.subplots(1, figsize=(8, 5.5))[1];\n",
    "    \n",
    "\n",
    "    offset = 0\n",
    "    for cycle in xrange(len(cycles)):\n",
    "        t, tr = extract_single_cycle(time_ax, signal, cycles, cycle, cell)\n",
    "        ax.plot(t, tr+offset, color='red' if is_CSm[cycle] else 'blue')\n",
    "#         if showlicks == True:\n",
    "#             pl.vlines(lick_timestamps[cycle], offset, offset+.3, color='k', alpha = 1, zorder = 0, linewidth = 0.3)\n",
    "#             pl.vlines(reward_timestamps[cycle], offset, offset+.3, color='r', alpha = 1, zorder = 0, linewidth = 0.8)\n",
    "        offset = offset + 20\n",
    "        \n",
    "    ax.set_ylim([-0.5, offset])\n",
    "    ax.fill_between([CS_START, CS_START+CS_DURATION],\n",
    "                    -0.5, offset, color='g', alpha = 0.2)\n",
    "    ax.fill_between([CS_START+CS_DURATION+DELAY,\n",
    "                     CS_START+CS_DURATION+DELAY+US_DURATION],\n",
    "                    -0.5, offset, color='m', alpha = 0.2)\n",
    "#     print \"num trials=\", sum(TRIAL_FILTER)\n",
    "    return ax\n",
    "\n",
    "\n",
    "def plot_summary(ncells_x, ncells_y, cells,\n",
    "                 rescalex=2, rescaley=1, cmap=pl.cm.rainbow,\n",
    "                 cs_start_end=(0, 2), us_start_end=(4, 6), cs_color='g', us_color='m'):\n",
    "    fig, axs = pl.subplots(ncells_y, ncells_x, sharex=True, sharey=True,\n",
    "                           figsize=(ncells_x*rescalex, ncells_y*rescaley))\n",
    "    \n",
    "    \n",
    "    for cell, ax in zip(cells, axs.flatten()):\n",
    "        ax = plot_all_cycles(cell, ax)\n",
    "#         ax = plot_mean(time_ax_single, traces_means, traces_std, cell-1, ax=ax, color=col)\n",
    "#         plot_period_bar(ax, -0.1, 0.02, color=cs_color, start_end=cs_start_end)\n",
    "#         plot_period_bar(ax, -0.1, 0.02, color=us_color, start_end=us_start_end)\n",
    "        ax.text(CYCLE_DURATION + CYCLE_START, len(cycles)-2, cell+1)\n",
    "        \n",
    "        \n",
    "#     ax.set_xticks((time_ax_single[0], time_ax_single[-1]))\n",
    "#     ax.set_yticks((-.15, 0.5))\n",
    "#     ax.set_xlim((time_ax_single[0], time_ax_single[-1]))\n",
    "#     ax.set_ylim((-.15, 0.5))\n",
    "    # ax.set_xlabel('Time (s)')\n",
    "    # ax.set_ylabel('Cell #')\n",
    "    return fig, ax\n",
    "\n",
    "\n",
    "# interact(plot_all_cycles, cell=(0, dff.shape[1]-1, 1));\n",
    "\n",
    "plot_summary(10, 10, xrange(dff.shape[1]),\n",
    "                 rescalex=5, rescaley=5, cmap=pl.cm.rainbow,\n",
    "                 cs_start_end=(0, 2), us_start_end=(4, 6), cs_color='g', us_color='m')"
   ]
  },
  {
   "cell_type": "code",
   "execution_count": null,
   "metadata": {
    "collapsed": false
   },
   "outputs": [],
   "source": [
    "def plot_single_cycle(cell=0, cycle=0, signals=0):\n",
    "    if signals==0:\n",
    "        signal = traces\n",
    "        print'raw signal'\n",
    "    elif signals==1:\n",
    "        signal = denoised\n",
    "        print'denoised signal'\n",
    "    elif signals==2:\n",
    "        signal = events\n",
    "        print'events signal'\n",
    "    elif signals == 3:\n",
    "        signal = dff_zs\n",
    "        print'z-scored raw'\n",
    "\n",
    "#     cell = 0\n",
    "#     cycle = 0\n",
    "#     cycle_len = filter_cycle(cycle).sum()\n",
    "    t, tr = extract_single_cycle(time_ax, signal, cycles, cycle, cell)\n",
    "    pl.plot(t, tr, color='red' if is_CSm[cycle] else 'blue')\n",
    "    pl.ylim(-5, 70)\n",
    "#     pl.xlim(CYCLE_START, CYCLE_START+CYCLE_DURATION)\n",
    "    pl.fill_between([CS_START, CS_START+CS_DURATION],\n",
    "                    -0.35, -0.25, color='g')\n",
    "    pl.vlines(CS_START, -0.35, 2, color='g')\n",
    "    pl.fill_between([CS_START+CS_DURATION+DELAY,\n",
    "                     CS_START+CS_DURATION+DELAY+US_DURATION],\n",
    "                    -0.35, -0.25, color='m')\n",
    "    pl.vlines(CS_START+CS_DURATION+DELAY, -0.35, 2, color='m')\n",
    "interact(plot_single_cycle, cycle=(0, max_cycles-1, 1), cell=(0, dff.shape[1]-1, 1),signals=(0,3,1))\n",
    "# plot_single_cycle(3, 10)"
   ]
  },
  {
   "cell_type": "code",
   "execution_count": null,
   "metadata": {
    "collapsed": false
   },
   "outputs": [],
   "source": [
    "def combine_cycles(time_ax, dff, cycles, cell, lim_len=-1):\n",
    "    max_cycles = len(cycles)\n",
    "    return np.r_[[dff[:, cell-1][ut.filter_cycle(time_ax, cycles, cycle)][:lim_len]\n",
    "                  for cycle in range(max_cycles)]]"
   ]
  },
  {
   "cell_type": "code",
   "execution_count": null,
   "metadata": {
    "collapsed": false
   },
   "outputs": [],
   "source": [
    "all_dffs = combine_cycles(time_ax, signal, cycles, cell, lim_len=len(time_ax_single))"
   ]
  },
  {
   "cell_type": "code",
   "execution_count": null,
   "metadata": {
    "collapsed": true
   },
   "outputs": [],
   "source": [
    "sorts = []\n",
    "for cell in xrange(dff.shape[1]):\n",
    "    all_dffs = combine_cycles(time_ax, signal, cycles, cell, lim_len=len(time_ax_single))\n",
    "    sorts.append(np.argsort([time_ax_single[np.argmax(all_dffs[cycle])] for cycle in xrange(max_cycles)]))"
   ]
  },
  {
   "cell_type": "code",
   "execution_count": null,
   "metadata": {
    "collapsed": false
   },
   "outputs": [],
   "source": [
    "def plot_me(cell=0, signals=0, sort=False, reward=True):\n",
    "   \n",
    "    if signals==0:\n",
    "        signal = traces\n",
    "        print'raw signal'\n",
    "    elif signals==1:\n",
    "        signal = denoised\n",
    "        print'denoised signal'\n",
    "    elif signals==2:\n",
    "        signal = events\n",
    "        print'events signal'\n",
    "    elif signals == 3:\n",
    "        signal = dff_zs\n",
    "        print'z-scored raw'\n",
    "    try:\n",
    "        all_dffs = combine_cycles(time_ax, signal, cycles, cell, lim_len=len(time_ax_single))\n",
    "        if sort:\n",
    "            all_dffs = all_dffs[sorts[cell]]\n",
    "            if reward:\n",
    "                which_ones = np.where(np.r_[is_rwt][sorts[cell]])\n",
    "            else:\n",
    "                which_ones = np.where(np.r_[is_CSm][sorts[cell]])\n",
    "        else:\n",
    "            if reward:\n",
    "                if cycle_subtract !=0:\n",
    "                    which_ones = np.where((is_rwt)[:cycle_subtract])\n",
    "                else:\n",
    "                    which_ones = np.where(is_rwt)\n",
    "            else:\n",
    "                if cycle_subtract !=0:\n",
    "                    which_ones = np.where((is_CSm)[:cycle_subtract])\n",
    "                else:\n",
    "                    which_ones = np.where(is_CSm)\n",
    "                \n",
    "    except IndexError:\n",
    "        print \"There are no such trials.\"\n",
    "        all_dffs = [[]]\n",
    "    \n",
    "        \n",
    "    pl.imshow(all_dffs[which_ones], extent=(CYCLE_START, CYCLE_START+CYCLE_DURATION, 0.5, max_cycles+0.5),\n",
    "              origin='lower', cmap=pl.cm.hot, aspect='auto', interpolation='nearest', vmin=-5, vmax=50)\n",
    "    pl.xlabel('Time (s)')\n",
    "    pl.ylabel('Trial #')\n",
    "    pl.fill_between([CS_START, CS_START+CS_DURATION],\n",
    "                    max_cycles, max_cycles+1, color='g')\n",
    "    pl.vlines(CS_START, 0, max_cycles, color='g')\n",
    "    pl.fill_between([CS_START+CS_DURATION+DELAY,\n",
    "                     CS_START+CS_DURATION+DELAY+US_DURATION],\n",
    "                    max_cycles, max_cycles+1, color='m')\n",
    "    pl.vlines(CS_START+CS_DURATION+DELAY, 0, max_cycles, color='m')\n",
    "    pl.plot([CYCLE_START, CYCLE_START+CYCLE_DURATION], [0.5, max_cycles+0.5], 'k--')\n",
    "    pl.ylim(0.5, max_cycles+1.)\n",
    "interact(plot_me, cell=(0, dff.shape[1], 1), signals=(0,3,1), reward=True, sort=True)\n",
    "# plot_me(18, reward=True)"
   ]
  },
  {
   "cell_type": "code",
   "execution_count": null,
   "metadata": {
    "collapsed": false,
    "scrolled": true
   },
   "outputs": [],
   "source": [
    "def plot_me(ax, cell=0, sort=False, reward=True):\n",
    "    if reward:\n",
    "        if cycle_subtract !=0:\n",
    "            which_ones = np.where((is_rwt)[:cycle_subtract])\n",
    "        else:\n",
    "            which_ones = np.where(is_rwt)\n",
    "    else:\n",
    "        if cycle_subtract !=0:\n",
    "            which_ones = np.where((is_CSm)[:cycle_subtract])\n",
    "        else:\n",
    "            which_ones = np.where(is_CSm)\n",
    "    try:\n",
    "        all_dffs = combine_cycles(time_ax, dff, cycles[which_ones], cell, lim_len=len(time_ax_single))\n",
    "        if sort:\n",
    "            all_dffs = all_dffs[sorts[cell]]\n",
    "    except IndexError:\n",
    "        print \"There are no such trials.\"\n",
    "        all_dffs = [[]]\n",
    "        \n",
    "    ax.imshow(all_dffs, extent=(CYCLE_START, CYCLE_START+CYCLE_DURATION, 0.5, max_cycles+0.5),\n",
    "              origin='lower', cmap=pl.cm.hot, aspect='auto', interpolation='nearest', vmin=-5, vmax=50)\n",
    "#     ax.set_xlabel('Time (s)')\n",
    "#     ax.set_ylabel('Trial #')\n",
    "    ax.fill_between([CS_START, CS_START+CS_DURATION],\n",
    "                    max_cycles, max_cycles+1, color='g')\n",
    "    ax.vlines(CS_START, 0, max_cycles, color='g')\n",
    "    ax.fill_between([CS_START+CS_DURATION+DELAY,\n",
    "                     CS_START+CS_DURATION+DELAY+US_DURATION],\n",
    "                    max_cycles, max_cycles+1, color='m')\n",
    "    ax.vlines(CS_START+CS_DURATION+DELAY, 0, max_cycles, color='m')\n",
    "    ax.plot([CYCLE_START, CYCLE_START+CYCLE_DURATION], [0.5, max_cycles+0.5], 'k--')\n",
    "    ax.set_ylim(0.5, max_cycles+1.)\n",
    "\n",
    "fig, axs = pl.subplots(int(np.ceil(dff.shape[1]/7.)),7, figsize=(7, int(np.ceil(dff.shape[1]/7.))), sharex=True, sharey=True)\n",
    "for cell, ax in enumerate(axs.flatten()):\n",
    "    plot_me(ax, cell)\n",
    "    \n",
    "print\"note: cell 0 below appears to correspond to the last cell in the mean/SD trace figure below. ie, cell0 here does not = cell1 below (cell1 here = cell1 below)\""
   ]
  },
  {
   "cell_type": "code",
   "execution_count": null,
   "metadata": {
    "collapsed": false
   },
   "outputs": [],
   "source": [
    "print\"note: cell 0 below appears to correspond to the last cell in the mean/SD trace figure below. ie, cell0 here does not = cell1 below (cell1 here = cell1 below)\"\n",
    "def plot_me(ax, cell=0, sort=False, reward=True, signals=2):\n",
    "    \n",
    "    if signals==0:\n",
    "        signal = traces\n",
    "        print'raw signal'\n",
    "    elif signals==1:\n",
    "        signal = denoised\n",
    "        print'denoised signal'\n",
    "    elif signals==2:\n",
    "        signal = events\n",
    "        print'events'\n",
    "    elif signals == 3:\n",
    "        signal = dff_zs\n",
    "        print'z-scored raw'\n",
    "    try:\n",
    "        all_dffs = combine_cycles(time_ax, signal, cycles, cell, lim_len=len(time_ax_single))\n",
    "        if sort:\n",
    "            all_dffs = all_dffs[sorts[cell]]\n",
    "            if reward:\n",
    "                which_ones = np.where(np.r_[is_rwt][sorts[cell]])\n",
    "            else:\n",
    "                which_ones = np.where(np.r_[is_CSm][sorts[cell]])\n",
    "        else:\n",
    "            if reward:\n",
    "                if cycle_subtract !=0:\n",
    "                    which_ones = np.where((is_rwt)[:cycle_subtract])\n",
    "                else:\n",
    "                    which_ones = np.where(is_rwt)\n",
    "            else:\n",
    "                if cycle_subtract !=0:\n",
    "                    which_ones = np.where((is_CSm)[:cycle_subtract])\n",
    "                else:\n",
    "                    which_ones = np.where(is_CSm)\n",
    "    except IndexError:\n",
    "        print \"There are no such trials.\"\n",
    "        all_dffs = [[]]\n",
    "    \n",
    "\n",
    "    ax.imshow(all_dffs[which_ones], extent=(CYCLE_START, CYCLE_START+CYCLE_DURATION, 0.5, max_cycles+0.5),\n",
    "              origin='lower', cmap=pl.cm.hot, aspect='auto', interpolation='nearest', vmin=-5, vmax=50)\n",
    "#     ax.set_xlabel('Time (s)')\n",
    "#     ax.set_ylabel('Trial #')\n",
    "    ax.fill_between([CS_START, CS_START+CS_DURATION],\n",
    "                    max_cycles, max_cycles+1, color='g')\n",
    "    ax.vlines(CS_START, 0, max_cycles, color='g')\n",
    "    ax.fill_between([CS_START+CS_DURATION+DELAY,\n",
    "                     CS_START+CS_DURATION+DELAY+US_DURATION],\n",
    "                    max_cycles, max_cycles+1, color='m')\n",
    "    ax.vlines(CS_START+CS_DURATION+DELAY, 0, max_cycles, color='m')\n",
    "    ax.plot([CYCLE_START, CYCLE_START+CYCLE_DURATION], [0.5, max_cycles+0.5], 'k--')\n",
    "    ax.set_ylim(0.5, max_cycles+1.)\n",
    "\n",
    "fig, axs = pl.subplots(int(np.ceil(dff.shape[1]/7.)),7, figsize=(7, int(np.ceil(dff.shape[1]/7.))), sharex=True, sharey=True)\n",
    "for cell, ax in enumerate(axs.flatten()):\n",
    "    plot_me(ax, cell)"
   ]
  },
  {
   "cell_type": "code",
   "execution_count": null,
   "metadata": {
    "collapsed": true
   },
   "outputs": [],
   "source": [
    "def plot_em(traces_means, ax):\n",
    "    ax.imshow(traces_means.T, extent=(time_ax_single[0], time_ax_single[-1], 0.5, dff.shape[1]+.5),\n",
    "              origin='lower', cmap=pl.cm.gray_r, aspect='auto', interpolation='nearest')\n",
    "    ax.fill_between([CS_START, CS_START+CS_DURATION],\n",
    "                    (dff.shape[1]+1., dff.shape[1]+1.),\n",
    "                    (dff.shape[1]+0.5, dff.shape[1]+0.5),\n",
    "                    color='g')\n",
    "    ax.fill_between([CS_START+CS_DURATION+DELAY,\n",
    "                     CS_START+CS_DURATION+DELAY+US_DURATION],\n",
    "                    (dff.shape[1]+1., dff.shape[1]+1.),\n",
    "                    (dff.shape[1]+0.5, dff.shape[1]+0.5),\n",
    "                    color=which)"
   ]
  },
  {
   "cell_type": "code",
   "execution_count": null,
   "metadata": {
    "collapsed": false
   },
   "outputs": [],
   "source": [
    "# Mean responses\n",
    "fig, axs = pl.subplots(5, 1, figsize=(6, 25), sharex=True, sharey=True)\n",
    "\n",
    "signals=3\n",
    "if signals==0:\n",
    "    signal = traces\n",
    "    print'raw signal'\n",
    "elif signals==1:\n",
    "    signal = denoised\n",
    "    print'denoised signal'\n",
    "elif signals==2:\n",
    "    signal = events\n",
    "    print'events'\n",
    "elif signals == 3:\n",
    "    signal = dff_zs\n",
    "    print'z-scored raw'\n",
    "\n",
    "traces_means, traces_std = ut.compute_mean_traces(time_ax, signal, cycles, time_ax_single)\n",
    "which='m'\n",
    "plot_em(traces_means, axs[0])\n",
    "axs[0].set_title('All trials')\n",
    "\n",
    "if cycle_subtract !=0:\n",
    "    suba = cycles[np.where((is_CSm)[:cycle_subtract])]\n",
    "    subr = cycles[np.where((is_rwt)[:cycle_subtract])]\n",
    "    subrd = cycles[np.where((is_rewarded)[:cycle_subtract])]\n",
    "    subnr = cycles[np.where((is_not_rewarded)[:cycle_subtract])]\n",
    "else:\n",
    "    suba = cycles[np.where(is_CSm)]\n",
    "    subr = cycles[np.where(is_rwt)]\n",
    "    subrd = cycles[np.where(is_rewarded)]\n",
    "    subnr = cycles[np.where(is_not_rewarded)]\n",
    "\n",
    "traces_means, traces_std = ut.compute_mean_traces(time_ax, signal, suba, time_ax_single)\n",
    "which='r'\n",
    "plot_em(traces_means, axs[1])\n",
    "axs[1].set_title('CSminus')\n",
    "traces_means, traces_std = ut.compute_mean_traces(time_ax, signal, subr, time_ax_single)\n",
    "which='c'\n",
    "plot_em(traces_means, axs[2])\n",
    "axs[2].set_title('Reward')\n",
    "traces_means, traces_std = ut.compute_mean_traces(time_ax, signal, subrd, time_ax_single)\n",
    "which='b'\n",
    "plot_em(traces_means, axs[3])\n",
    "axs[3].set_title('Rewarded')\n",
    "traces_means, traces_std = ut.compute_mean_traces(time_ax, signal, subnr, time_ax_single)\n",
    "which='b'\n",
    "plot_em(traces_means, axs[4])\n",
    "axs[4].set_title('Not Rewarded')\n",
    "axs[4].set_xlabel('Time (s)')\n",
    "axs[4].set_ylabel('Cell #')"
   ]
  },
  {
   "cell_type": "code",
   "execution_count": null,
   "metadata": {
    "collapsed": true
   },
   "outputs": [],
   "source": [
    "def plot_summary(time_ax_single, traces_means, traces_std, ncells_x, ncells_y, cells,\n",
    "                 rescalex=2, rescaley=1, cmap=pl.cm.rainbow,\n",
    "                 cs_start_end=(0, 2), us_start_end=(4, 6), cs_color='r', us_color='g',\n",
    "                 ylim=(-0.15, 0.5), bary=(-0.1, 0.02), textxy=(0, 0.3)):\n",
    "    colors = cmap(np.linspace(0, 1, traces_means.shape[1]))\n",
    "    fig, axs = pl.subplots(ncells_y, ncells_x, sharex=True, sharey=True,\n",
    "                           figsize=(ncells_x*rescalex, ncells_y*rescaley))\n",
    "    for cell, ax, col in zip(cells, axs.flatten(), colors[cells[0]-1:]):\n",
    "        ax = pt.plot_mean(time_ax_single, traces_means, traces_std, cell-1, ax=ax, color=col)\n",
    "        pt.plot_period_bar(ax, bary[0], bary[1], color=cs_color, start_end=cs_start_end)\n",
    "        pt.plot_period_bar(ax, bary[0], bary[1], color=us_color, start_end=us_start_end)\n",
    "        ax.text(textxy[0], textxy[1], cell)\n",
    "        ax.vlines([0], [ylim[0]], [ylim[1]], lw=1, zorder=0)\n",
    "    ax.set_xticks((time_ax_single[0], time_ax_single[-1]))\n",
    "    ax.set_yticks(ylim)\n",
    "    ax.set_xlim((time_ax_single[0], time_ax_single[-1]))\n",
    "    ax.set_ylim(ylim)\n",
    "    \n",
    "    # ax.set_xlabel('Time (s)')\n",
    "    # ax.set_ylabel('Cell #')    \n",
    "    return fig, ax\n"
   ]
  },
  {
   "cell_type": "code",
   "execution_count": null,
   "metadata": {
    "collapsed": false,
    "scrolled": false
   },
   "outputs": [],
   "source": [
    "signals=1\n",
    "rewarded=0\n",
    "\n",
    "if signals==0:\n",
    "    signal = traces\n",
    "    print'raw signal'\n",
    "elif signals==1:\n",
    "    signal = denoised\n",
    "    print'denoised signal'\n",
    "elif signals==2:\n",
    "    signal = events\n",
    "    print'events'\n",
    "elif signals == 3:\n",
    "    signal = dff_zs\n",
    "    print'z-scored raw'\n",
    "if rewarded==0:\n",
    "    if cycle_subtract !=0:\n",
    "        rewar = cycles[np.where((is_rwt)[:cycle_subtract])]\n",
    "    else:\n",
    "        rewar=cycles[np.where(is_rwt)]\n",
    "    print'all reward trials'\n",
    "if rewarded==1:\n",
    "    if cycle_subtract !=0:\n",
    "        rewar = cycles[np.where((is_rewarded)[:cycle_subtract])]\n",
    "    else:\n",
    "        rewar=cycles[np.where(is_rewarded)]\n",
    "    print'all rewarded trials'\n",
    "if rewarded==2:\n",
    "    if cycle_subtract !=0:\n",
    "        rewar = cycles[np.where((is_not_rewarded)[:cycle_subtract])]\n",
    "    else:\n",
    "        rewar=cycles[np.where(is_not_rewarded)]\n",
    "    print'all unrewarded reward trials'\n",
    "    \n",
    "ncells_x = 7\n",
    "ncells_y = int(np.ceil(dff.shape[1]/7.))\n",
    "first_cell = 1\n",
    "last_cell = first_cell + ncells_x*ncells_y\n",
    "traces_means, traces_std = ut.compute_mean_traces(time_ax, signal, rewar, time_ax_single)\n",
    "plot_summary(time_ax_single, traces_means, traces_std, ncells_x, ncells_y, cells=range(first_cell, last_cell),\n",
    "                cs_start_end=(CS_START, CS_END), us_start_end=(US_START, US_END),\n",
    "                cs_color='g', us_color='b', ylim=(-5, 20), bary=(15, 2), textxy=(-8, 15))"
   ]
  },
  {
   "cell_type": "code",
   "execution_count": null,
   "metadata": {
    "collapsed": false
   },
   "outputs": [],
   "source": [
    "cycles.shape"
   ]
  },
  {
   "cell_type": "code",
   "execution_count": null,
   "metadata": {
    "collapsed": false
   },
   "outputs": [],
   "source": [
    "cycles[:-1][np.where(is_rwt)[:-1]].shape"
   ]
  },
  {
   "cell_type": "code",
   "execution_count": null,
   "metadata": {
    "collapsed": false
   },
   "outputs": [],
   "source": [
    "signals=1\n",
    "\n",
    "if signals==0:\n",
    "    signal = traces\n",
    "    print'raw signal'\n",
    "elif signals==1:\n",
    "    signal = denoised\n",
    "    print'denoised signal'\n",
    "elif signals==2:\n",
    "    signal = events\n",
    "    print'events'\n",
    "elif signals == 3:\n",
    "    signal = dff_zs\n",
    "    print'z-scored raw'\n",
    "    \n",
    "ncells_x = 7\n",
    "ncells_y = int(np.ceil(dff.shape[1]/7.))\n",
    "first_cell = 1\n",
    "last_cell = first_cell + ncells_x*ncells_y\n",
    "traces_means, traces_std = ut.compute_mean_traces(time_ax, signal, cycles[np.where(is_CSm)], time_ax_single)\n",
    "plot_summary(time_ax_single, traces_means, traces_std, ncells_x, ncells_y, cells=range(first_cell, last_cell),\n",
    "                cs_start_end=(CS_START, CS_END), us_start_end=(US_START, US_END),\n",
    "                cs_color='g', us_color='r', ylim=(-5, 20), bary=(15, 2), textxy=(-8, 15))"
   ]
  },
  {
   "cell_type": "code",
   "execution_count": null,
   "metadata": {
    "collapsed": false
   },
   "outputs": [],
   "source": [
    "first_reward_times = np.r_[[rewards[np.where((rewards-s)>0)[0][0]]-s+\n",
    "                            CYCLE_START\n",
    "                            for s, e in cycles[np.where(is_rewarded)]]]"
   ]
  },
  {
   "cell_type": "code",
   "execution_count": null,
   "metadata": {
    "collapsed": false
   },
   "outputs": [],
   "source": [
    "first_reward_times"
   ]
  },
  {
   "cell_type": "code",
   "execution_count": null,
   "metadata": {
    "collapsed": false
   },
   "outputs": [],
   "source": [
    "# first_reward_times_adjustment = first_reward_times-CS_DURATION-DELAY\n",
    "first_reward_times_adjustment = first_reward_times\n",
    "#test whether this works - should recapitulate the figure above\n",
    "pl.hist(first_reward_times_adjustment, bins=np.arange(3.9, 6, 0.25));"
   ]
  },
  {
   "cell_type": "code",
   "execution_count": null,
   "metadata": {
    "collapsed": false
   },
   "outputs": [],
   "source": [
    "pl.bar(range(len(first_reward_times_adjustment)), np.r_[first_reward_times_adjustment])\n",
    "pl.xlabel('Time adjustment (s)')\n",
    "pl.ylabel('Adjustment')\n",
    "pl.ylim(4, 6)"
   ]
  },
  {
   "cell_type": "code",
   "execution_count": null,
   "metadata": {
    "collapsed": false
   },
   "outputs": [],
   "source": [
    "cycles_shifted_first_reward = cycles[np.where(is_rewarded)]+first_reward_times_adjustment[:, None]"
   ]
  },
  {
   "cell_type": "code",
   "execution_count": null,
   "metadata": {
    "collapsed": false,
    "scrolled": true
   },
   "outputs": [],
   "source": [
    "cycles[is_rewarded][:10]"
   ]
  },
  {
   "cell_type": "code",
   "execution_count": null,
   "metadata": {
    "collapsed": false
   },
   "outputs": [],
   "source": [
    "cycles_shifted_first_reward[:10]"
   ]
  },
  {
   "cell_type": "code",
   "execution_count": null,
   "metadata": {
    "collapsed": false
   },
   "outputs": [],
   "source": [
    "t, tr = extract_single_cycle(time_ax, dff, cycles_shifted_first_reward, 0, 0)"
   ]
  },
  {
   "cell_type": "code",
   "execution_count": null,
   "metadata": {
    "collapsed": false
   },
   "outputs": [],
   "source": [
    "max_cycles"
   ]
  },
  {
   "cell_type": "code",
   "execution_count": null,
   "metadata": {
    "collapsed": false
   },
   "outputs": [],
   "source": [
    "def plot_single_cycle(cell=0, cycle=0, signals=0):\n",
    "    if signals==0:\n",
    "        signal = traces\n",
    "        print'raw signal'\n",
    "    elif signals==1:\n",
    "        signal = denoised\n",
    "        print'denoised signal'\n",
    "    elif signals==2:\n",
    "        signal = events\n",
    "        print'events'\n",
    "    elif signals == 3:\n",
    "        signal = dff_zs\n",
    "        print'z-scored raw'\n",
    "\n",
    "    t, tr = extract_single_cycle(time_ax, signal, cycles_shifted_first_reward, cycle, cell)\n",
    "    pl.plot(t, tr, color='k')\n",
    "    pl.ylim(-5, 50)\n",
    "#     pl.xlim(CYCLE_START, CYCLE_START+CYCLE_DURATION)\n",
    "    pl.vlines(CS_START+CS_DURATION+DELAY, -5, 50, color='b')\n",
    "interact(plot_single_cycle, cycle=(0, cycles[np.where(is_rewarded)].shape[0], 1), cell=(0, dff.shape[1]-1, 1), signals=(0,3,1))\n",
    "pl.title('Rewarded trials shifted for reward onset')\n",
    "# plot_single_cycle(3, 10)"
   ]
  },
  {
   "cell_type": "code",
   "execution_count": null,
   "metadata": {
    "collapsed": false
   },
   "outputs": [],
   "source": [
    "lim_len = 101 #need to adjust this to truncated length of signal that's plotted so that there are no blanks (due to shifting of signals during reward alignment) \n",
    "\n",
    "signals=0\n",
    "\n",
    "if signals==0:\n",
    "    signal = traces\n",
    "    print'raw signal'\n",
    "elif signals==1:\n",
    "    signal = denoised\n",
    "    print'denoised signal'\n",
    "elif signals==2:\n",
    "    signal = events\n",
    "    print'events'\n",
    "elif signals == 3:\n",
    "    signal = dff_zs\n",
    "    print'z-scored raw'\n",
    "    \n",
    "def plot_me(ax, cycles, cell=0, sort=False):\n",
    "    try:\n",
    "        all_dffs = combine_cycles(time_ax, signal, cycles, cell, lim_len=lim_len)\n",
    "        if sort:\n",
    "            all_dffs = all_dffs[sorts[cell]]\n",
    "    except IndexError:\n",
    "        print \"There are no such trials.\"\n",
    "        all_dffs = [[]]\n",
    "        \n",
    "    ax.imshow(all_dffs, extent=(time_ax_single[0], time_ax_single[lim_len], 0.5, max_cycles+0.5),\n",
    "              origin='lower', cmap=pl.cm.hot, aspect='auto', interpolation='nearest', vmin=-5, vmax=50)\n",
    "#     ax.set_xlabel('Time (s)')\n",
    "#     ax.set_ylabel('Trial #')\n",
    "#    ax.fill_between([CS_START, CS_START+CS_DURATION],      #Tone onset is not uniform due to reward-onset shift in traces\n",
    "#                    max_cycles, max_cycles+1, color='r')\n",
    "#    ax.vlines(CS_START, 0, max_cycles, color='r')\n",
    "#    ax.fill_between([CS_START+CS_DURATION+DELAY,\n",
    "#                     CS_START+CS_DURATION+DELAY+US_DURATION],\n",
    "#                    max_cycles, max_cycles+1, color='b')\n",
    "    ax.vlines(0, 0, max_cycles, color='b')\n",
    "    ax.plot([CYCLE_START, CYCLE_START+CYCLE_DURATION], [0.5, max_cycles+0.5], 'k--')\n",
    "    ax.set_ylim(0.5, max_cycles+1.)\n",
    "\n",
    "fig, axs = pl.subplots(int(np.ceil(dff.shape[1]/7.)),7, figsize=(7, int(np.ceil(dff.shape[1]/7.))), sharex=True, sharey=True)\n",
    "for cell, ax in enumerate(axs.flatten()):\n",
    "    plot_me(ax, cycles_shifted_first_reward, cell)\n",
    "pl.suptitle('Aligned to REWARDED LICK onset')"
   ]
  },
  {
   "cell_type": "code",
   "execution_count": null,
   "metadata": {
    "collapsed": false
   },
   "outputs": [],
   "source": [
    "if signals==0:\n",
    "    signal = traces\n",
    "    print'raw signal'\n",
    "elif signals==1:\n",
    "    signal = denoised\n",
    "    print'denoised signal'\n",
    "elif signals==2:\n",
    "    signal = events\n",
    "    print'events'\n",
    "elif signals == 3:\n",
    "    signal = dff_zs\n",
    "    print'z-scored raw'\n",
    "    \n",
    "ax.vlines(0, 0, max_cycles, color='g')\n",
    "fig, axs = pl.subplots(int(np.ceil(dff.shape[1]/7.)),7, figsize=(7, int(np.ceil(dff.shape[1]/7.))), sharex=True, sharey=True)\n",
    "for cell, ax in enumerate(axs.flatten()):\n",
    "    plot_me(ax, cycles[is_rewarded], cell)\n",
    "pl.suptitle('Rewarded trials aligned to TONE onset')\n",
    "    "
   ]
  },
  {
   "cell_type": "code",
   "execution_count": null,
   "metadata": {
    "collapsed": false
   },
   "outputs": [],
   "source": [
    "print'Rewarded trials shifted for reward onset'\n",
    "signals=0\n",
    "\n",
    "if signals==0:\n",
    "    signal = traces\n",
    "    print'raw signal'\n",
    "elif signals==1:\n",
    "    signal = denoised\n",
    "    print'denoised signal'\n",
    "elif signals==2:\n",
    "    signal = events\n",
    "    print'events'\n",
    "elif signals == 3:\n",
    "    signal = dff_zs\n",
    "    print'z-scored raw'\n",
    "\n",
    "if cycle_subtract !=0:\n",
    "        rewar = cycles[np.where((is_rwt)[:cycle_subtract])]\n",
    "else:\n",
    "        rewar=cycles_shifted_first_reward   \n",
    "\n",
    "ncells_x = 7\n",
    "ncells_y = int(np.ceil(dff.shape[1]/7.))\n",
    "first_cell = 1\n",
    "last_cell = first_cell + ncells_x*ncells_y\n",
    "traces_means, traces_std = ut.compute_mean_traces(time_ax, signal, rewar, time_ax_single)\n",
    "plot_summary(time_ax_single, traces_means, traces_std, ncells_x, ncells_y,\n",
    "             cells=range(first_cell, last_cell),\n",
    "                cs_start_end=(CS_START, CS_END), us_start_end=(US_START, US_END),\n",
    "                cs_color=[0]*4, us_color='b', ylim=(-5, 20), bary=(15, 2), textxy=(-8, 15))"
   ]
  },
  {
   "cell_type": "code",
   "execution_count": null,
   "metadata": {
    "collapsed": false
   },
   "outputs": [],
   "source": [
    "all_dffs = np.zeros((len(cycles), dff.shape[1], len(time_ax_single)))"
   ]
  },
  {
   "cell_type": "code",
   "execution_count": null,
   "metadata": {
    "collapsed": false
   },
   "outputs": [],
   "source": [
    "all_dffs.shape"
   ]
  },
  {
   "cell_type": "code",
   "execution_count": null,
   "metadata": {
    "collapsed": false
   },
   "outputs": [],
   "source": [
    "#Are we looking at raw traces, denoised traces, or events?\n",
    "signals=3\n",
    "\n",
    "if signals==0:\n",
    "    for i, s in enumerate(cycles[:, 0]):\n",
    "        for cell in range(dff.shape[1]):\n",
    "            t, tr = extract_single_cycle(time_ax, dff, cycles, i, cell, )\n",
    "            all_dffs[i][cell] = tr[:len(time_ax_single)]\n",
    "elif signals==1:\n",
    "    for i, s in enumerate(cycles[:, 0]):\n",
    "        for cell in range(dff.shape[1]):\n",
    "            t, tr = extract_single_cycle(time_ax, denoised, cycles, i, cell, )\n",
    "            all_dffs[i][cell] = tr[:len(time_ax_single)]\n",
    "elif signals==2:\n",
    "    for i, s in enumerate(cycles[:, 0]):\n",
    "        for cell in range(dff.shape[1]):\n",
    "            t, tr = extract_single_cycle(time_ax, events, cycles, i, cell, )\n",
    "            all_dffs[i][cell] = tr[:len(time_ax_single)]\n",
    "elif signals==3:\n",
    "    for i, s in enumerate(cycles[:, 0]):\n",
    "        for cell in range(dff.shape[1]):\n",
    "            t, tr = extract_single_cycle(time_ax, dff_zs, cycles, i, cell, )\n",
    "            all_dffs[i][cell] = tr[:len(time_ax_single)]\n",
    "    "
   ]
  },
  {
   "cell_type": "code",
   "execution_count": null,
   "metadata": {
    "collapsed": false
   },
   "outputs": [],
   "source": [
    "def plot_me(cycle=0):\n",
    "    \n",
    "    pl.imshow(all_dffs[cycle], aspect='auto', interpolation='nearest', cmap=pl.cm.hot, vmin=0,\n",
    "              extent=(time_ax_single[0], time_ax_single[-1], 0, dff.shape[1]))\n",
    "    if is_rewarded[cycle]:\n",
    "        pl.plot([-8], [40], 'bo', ms=13)\n",
    "    pl.ylabel(\"Cell #\")\n",
    "    pl.fill_between([CS_START, CS_START+CS_DURATION],\n",
    "                dff.shape[1], dff.shape[1]+1, color='g')\n",
    "    pl.vlines(CS_START, 0, dff.shape[1], color='g')\n",
    "    pl.fill_between([CS_START+CS_DURATION+DELAY,\n",
    "                     CS_START+CS_DURATION+DELAY+US_DURATION],\n",
    "                    dff.shape[1], dff.shape[1]+1, color='m')\n",
    "    pl.vlines(CS_START+CS_DURATION+DELAY, 0, dff.shape[1], color='m')\n",
    "    pl.xlabel(\"Time from tone onset (s)\")\n",
    "    pl.twinx()\n",
    "#     pl.ylim(-60, 60)\n",
    "    pl.plot(time_ax_single, all_dffs[cycle].sum(0), color='w')\n",
    "    pl.ylabel(\"Population activity level\")\n",
    "\n",
    "interact(plot_me, cycle=(0, len(cycles), 1))\n",
    "if signals==0:\n",
    "    print'raw signal'\n",
    "elif signals==1:\n",
    "    print'denoised signal'\n",
    "elif signals==2:\n",
    "    print'events'"
   ]
  },
  {
   "cell_type": "code",
   "execution_count": null,
   "metadata": {
    "collapsed": false,
    "scrolled": true
   },
   "outputs": [],
   "source": [
    "if signals==0:\n",
    "    print'raw signal'\n",
    "elif signals==1:\n",
    "    print'denoised signal'\n",
    "elif signals==2:\n",
    "    print'events'\n",
    "elif signals == 3:\n",
    "    print'z-scored raw'\n",
    "    \n",
    "def plot_me(ax, cycle=0, sharey=True):\n",
    "    ax.imshow(all_dffs[cycle], aspect='auto', interpolation='nearest', cmap=pl.cm.hot, vmin=0,\n",
    "              extent=(time_ax_single[0], time_ax_single[-1], 0, dff.shape[1]))\n",
    "    if is_rewarded[cycle]:\n",
    "        ax.plot([-7], [40], 'bo', ms=7)\n",
    "    pt.plot_period_bar(ax, 58, color='g', start_end=(CS_START, CS_END), delta_y=2)\n",
    "    pt.plot_period_bar(ax, 58, color='m', start_end=(US_START, US_END), delta_y=2)\n",
    "    ax.set_ylim(0, dff.shape[1]+2)\n",
    "    ax = ax.twinx()\n",
    "    ax.set_ylim(-50, 200)\n",
    "    ax.plot(time_ax_single, all_dffs[cycle].sum(0), color='w')\n",
    "    \n",
    "fig, axs = pl.subplots(int(np.ceil(cycles.shape[0]/5.)),5, figsize=(8, 20))\n",
    "\n",
    "for i, ax in enumerate(axs.flatten()):\n",
    "    plot_me(ax, i)"
   ]
  },
  {
   "cell_type": "code",
   "execution_count": null,
   "metadata": {
    "collapsed": false
   },
   "outputs": [],
   "source": [
    "if cycle_subtract !=0:\n",
    "    all1 = all_dffs[np.where(is_rwt)[:cycle_subtract]]\n",
    "    all2 = all_dffs[np.where(is_CSm)[:cycle_subtract]]\n",
    "    all3 = all_dffs[np.where(is_rewarded)[:cycle_subtract]]\n",
    "    all4 = all_dffs[np.where(is_not_rewarded)[:cycle_subtract]]\n",
    "else:\n",
    "    all1 = all_dffs[np.where(is_rwt)]\n",
    "    all2 = all_dffs[np.where(is_CSm)]\n",
    "    all3 = all_dffs[np.where(is_rewarded)]\n",
    "    all4 = all_dffs[np.where(is_not_rewarded)]"
   ]
  },
  {
   "cell_type": "code",
   "execution_count": null,
   "metadata": {
    "collapsed": false
   },
   "outputs": [],
   "source": [
    "all1.shape"
   ]
  },
  {
   "cell_type": "code",
   "execution_count": null,
   "metadata": {
    "collapsed": false
   },
   "outputs": [],
   "source": [
    "cycles.shape"
   ]
  },
  {
   "cell_type": "code",
   "execution_count": null,
   "metadata": {
    "collapsed": false
   },
   "outputs": [],
   "source": [
    "if signals==0:\n",
    "    print'raw signal'\n",
    "elif signals==1:\n",
    "    print'denoised signal'\n",
    "elif signals==2:\n",
    "    print'events...is this correct?'\n",
    "elif signals == 3:\n",
    "    print'z-scored raw'\n",
    "print'black = CSm; magenta= all reward trials; red = all unrewarded reward trials; blue = all rewarded trials'\n",
    "m = np.mean(np.sum(all1, 1), 0)\n",
    "s = np.std(np.sum(all1, 1), 0)/np.sqrt(all1.shape[0]-1)\n",
    "pl.plot(time_ax_single, m, 'm')\n",
    "pl.fill_between(time_ax_single, m-s, m+s, zorder=0, color=\"m\", lw=0, alpha=0.1)\n",
    "m = np.mean(np.sum(all2, 1), 0)\n",
    "s = np.std(np.sum(all2, 1), 0)/np.sqrt(all2.shape[0]-1)\n",
    "pl.plot(time_ax_single, m, 'k')\n",
    "pl.fill_between(time_ax_single, m-s, m+s, zorder=0, color=\"k\", lw=0, alpha=0.1)\n",
    "m = np.mean(np.sum(all3, 1), 0)\n",
    "s = np.std(np.sum(all3, 1), 0)/np.sqrt(all1.shape[0]-1)\n",
    "pl.plot(time_ax_single, m, 'b')\n",
    "pl.fill_between(time_ax_single, m-s, m+s, zorder=0, color=\"b\", lw=0, alpha=0.1)\n",
    "m = np.mean(np.sum(all4, 1), 0)\n",
    "s = np.std(np.sum(all4, 1), 0)/np.sqrt(all1.shape[0]-1)\n",
    "pl.plot(time_ax_single, m, 'r')\n",
    "pl.fill_between(time_ax_single, m-s, m+s, zorder=0, color=\"r\", lw=0, alpha=0.1)\n",
    "ax = pl.axes()\n",
    "pt.plot_period_bar(ax, 60, delta_y=2, color='g', start_end=(CS_START, CS_END))\n",
    "pt.plot_period_bar(ax, 60, delta_y=2, color='m', start_end=(US_START, US_END))"
   ]
  },
  {
   "cell_type": "code",
   "execution_count": null,
   "metadata": {
    "collapsed": false
   },
   "outputs": [],
   "source": [
    "lick_ratios = []\n",
    "for s, e in cycles:\n",
    "    l = licks - s - CS_DURATION - DELAY\n",
    "    licks_during = ((l>CS_START)*(l<(CS_DURATION+DELAY))).sum()\n",
    "    licks_all = ((l>CYCLE_START)*(l<(CS_DURATION+DELAY))).sum()\n",
    "    lick_ratios.append(1.*licks_during/licks_all if licks_all>0 else -1)"
   ]
  },
  {
   "cell_type": "code",
   "execution_count": null,
   "metadata": {
    "collapsed": false
   },
   "outputs": [],
   "source": [
    "pl.hist(lick_ratios, bins=30)\n",
    "pl.xlim(0, 1)"
   ]
  },
  {
   "cell_type": "code",
   "execution_count": null,
   "metadata": {
    "collapsed": false
   },
   "outputs": [],
   "source": [
    "t, lk = extract_single_cycle_signal(time_ax, lick_trace_conv, cycles, 0)\n",
    "t, tr = extract_single_cycle(time_ax, dff, cycles, 0, 0)"
   ]
  },
  {
   "cell_type": "code",
   "execution_count": null,
   "metadata": {
    "collapsed": false
   },
   "outputs": [],
   "source": [
    "def plot_me(cell=1, cycle=0):\n",
    "    t, lk = extract_single_cycle_signal(time_ax, lick_trace, cycles, cycle)\n",
    "    cell = cell - 1\n",
    "    pl.plot(t, lk)\n",
    "    pl.ylim(0, 5)\n",
    "    pl.twinx()\n",
    "    for cell in xrange(dff.shape[1]):\n",
    "        t, tr = extract_single_cycle(time_ax, dff, cycles, cycle, cell)\n",
    "        pl.plot(t, tr+cell*10, color='k')\n",
    "    pl.ylim(0, 500)\n",
    "    pl.text(20, 400, 'RW' if is_rwt[cycle] else \"AP\", color='r', fontsize=18)\n",
    "interact(plot_me, cell=(1, dff.shape[1], 1), cycle=(0, len(cycles)-1, 1))"
   ]
  },
  {
   "cell_type": "code",
   "execution_count": null,
   "metadata": {
    "collapsed": false
   },
   "outputs": [],
   "source": [
    "dff.shape"
   ]
  },
  {
   "cell_type": "code",
   "execution_count": null,
   "metadata": {
    "collapsed": false
   },
   "outputs": [],
   "source": [
    "pl.plot(dff[:, -2])\n",
    "pl.plot(dff[:, -1]+50)\n",
    "pl.plot(dff[:, -3]+100)\n",
    "pl.plot(dff[:, -4]+150)"
   ]
  },
  {
   "cell_type": "code",
   "execution_count": null,
   "metadata": {
    "collapsed": false
   },
   "outputs": [],
   "source": [
    "def plot_me(ax, cell=1, cycle=0):\n",
    "    t, lk = extract_single_cycle_signal(time_ax, lick_trace, cycles, cycle)\n",
    "    cell = cell - 1\n",
    "    \n",
    "#     for cell in xrange(dff.shape[1]):\n",
    "#         t, tr = extract_single_cycle(time_ax, dff, cycles, cycle, cell)\n",
    "#         ax.plot(t, tr+cell*10, color='k')\n",
    "    ax.imshow(all_dffs[cycle], cmap=pl.cm.viridis, interpolation='nearest', vmin=0,\n",
    "              extent=(time_ax_single[0], time_ax_single[-1], 0, dff.shape[1]))\n",
    "#     ax.set_ylim(0, 500)\n",
    "    \n",
    "    ax = ax.twinx()\n",
    "    ax.plot(t, lk,'r')\n",
    "    ax.set_ylim(0, 5)\n",
    "    ax.text(10, 2, 'RW' if is_rwt[cycle] else \"AP\", color='w', fontsize=18)\n",
    "    \n",
    "fig, axs = pl.subplots(6, 7, figsize=(10, 10), sharex=True, sharey=True)\n",
    "for i, ax in enumerate(axs.flatten()):\n",
    "    plot_me(ax, cell=0, cycle=i)"
   ]
  },
  {
   "cell_type": "code",
   "execution_count": null,
   "metadata": {
    "collapsed": false
   },
   "outputs": [],
   "source": [
    "lick_ratios = ut.compute_lick_ratios(licks, cycles, cycle_start=CYCLE_START, cs_start=CS_START,\n",
    "                                     cs_end=CS_END, delay=DELAY, cs_duration=CS_DURATION, zero_value=-1)"
   ]
  },
  {
   "cell_type": "code",
   "execution_count": null,
   "metadata": {
    "collapsed": false
   },
   "outputs": [],
   "source": [
    "lick_ratios"
   ]
  },
  {
   "cell_type": "code",
   "execution_count": null,
   "metadata": {
    "collapsed": false
   },
   "outputs": [],
   "source": [
    "cr_learned = (is_rwt * (lick_ratios>=0.8)) + (is_CSm * (lick_ratios<0.2))\n",
    "sum(cr_learned)"
   ]
  },
  {
   "cell_type": "code",
   "execution_count": null,
   "metadata": {
    "collapsed": false
   },
   "outputs": [],
   "source": [
    "cr_not_learned = (is_rwt * (lick_ratios<0.8)) + (is_CSm * (lick_ratios>=0.2))\n",
    "sum(cr_not_learned)"
   ]
  },
  {
   "cell_type": "code",
   "execution_count": null,
   "metadata": {
    "collapsed": false
   },
   "outputs": [],
   "source": [
    "which_cycles = cycles[np.where(cr_not_learned)]\n",
    "\n",
    "ncells_x = 7\n",
    "ncells_y = int(np.ceil(dff.shape[1]/7.))\n",
    "first_cell = 1\n",
    "last_cell = 2#first_cell + ncells_x*ncells_y\n",
    "traces_means, traces_std = ut.compute_mean_traces(time_ax, dff, which_cycles,\n",
    "                                                  time_ax_single)\n",
    "plot_summary(time_ax_single, traces_means, traces_std, ncells_x, ncells_y,\n",
    "             cells=range(first_cell, last_cell),\n",
    "                cs_start_end=(CS_START, CS_END), us_start_end=(US_START, US_END),\n",
    "                cs_color=\"g\", us_color=\"m\", ylim=(-5, 20), bary=(15, 2), textxy=(-8, 15))"
   ]
  },
  {
   "cell_type": "code",
   "execution_count": null,
   "metadata": {
    "collapsed": false
   },
   "outputs": [],
   "source": [
    "which_cycles = cycles[cr_learned]\n",
    "\n",
    "ncells_x = 7\n",
    "ncells_y =int(np.ceil(dff.shape[1]/7.))\n",
    "first_cell = 1\n",
    "last_cell = first_cell + ncells_x*ncells_y\n",
    "traces_means, traces_std = ut.compute_mean_traces(time_ax, dff, which_cycles,\n",
    "                                                  time_ax_single)\n",
    "plot_summary(time_ax_single, traces_means, traces_std, ncells_x, ncells_y,\n",
    "             cells=range(first_cell, last_cell),\n",
    "                cs_start_end=(CS_START, CS_END), us_start_end=(US_START, US_END),\n",
    "                cs_color='g', us_color='m', ylim=(-5, 20), bary=(15, 2), textxy=(-8, 15))"
   ]
  },
  {
   "cell_type": "code",
   "execution_count": null,
   "metadata": {
    "collapsed": true
   },
   "outputs": [],
   "source": [
    "cr_learned_rwt = (is_rwt * (lick_ratios>=0.8))"
   ]
  },
  {
   "cell_type": "code",
   "execution_count": null,
   "metadata": {
    "collapsed": false
   },
   "outputs": [],
   "source": [
    "cr_not_learned_rwt = (is_rwt * (lick_ratios<0.8))\n",
    "sum(cr_not_learned_rwt)"
   ]
  },
  {
   "cell_type": "code",
   "execution_count": null,
   "metadata": {
    "collapsed": false
   },
   "outputs": [],
   "source": [
    "which_cycles = cycles[cr_learned_rwt]\n",
    "\n",
    "ncells_x = 7\n",
    "ncells_y = int(np.ceil(dff.shape[1]/7.))\n",
    "first_cell = 1\n",
    "last_cell = first_cell + ncells_x*ncells_y\n",
    "traces_means, traces_std = ut.compute_mean_traces(time_ax, dff, which_cycles,\n",
    "                                                  time_ax_single)\n",
    "plot_summary(time_ax_single, traces_means, traces_std, ncells_x, ncells_y,\n",
    "             cells=range(first_cell, last_cell),\n",
    "                cs_start_end=(CS_START, CS_END), us_start_end=(US_START, US_END),\n",
    "                cs_color='g', us_color='m', ylim=(-5, 20), bary=(15, 2), textxy=(-8, 15))"
   ]
  },
  {
   "cell_type": "code",
   "execution_count": null,
   "metadata": {
    "collapsed": false
   },
   "outputs": [],
   "source": [
    "which_cycles = cycles[cr_not_learned_rwt]\n",
    "\n",
    "ncells_x = 7\n",
    "ncells_y = int(np.ceil(dff.shape[1]/7.))\n",
    "first_cell = 1\n",
    "last_cell = first_cell + ncells_x*ncells_y\n",
    "traces_means, traces_std = ut.compute_mean_traces(time_ax, dff, which_cycles,\n",
    "                                                  time_ax_single)\n",
    "plot_summary(time_ax_single, traces_means, traces_std, ncells_x, ncells_y,\n",
    "             cells=range(first_cell, last_cell),\n",
    "                cs_start_end=(CS_START, CS_END), us_start_end=(US_START, US_END),\n",
    "                cs_color='g', us_color='m', ylim=(-5, 20), bary=(15, 2), textxy=(-8, 15))"
   ]
  },
  {
   "cell_type": "code",
   "execution_count": null,
   "metadata": {
    "collapsed": true
   },
   "outputs": [],
   "source": [
    "def compute_mean_level(time_ax, dff, cycles, cycle, cell, start, end, cycle_start=CYCLE_START):\n",
    "    t, tr = extract_single_cycle(time_ax, dff, cycles, cycle, cell, cycle_start=CYCLE_START)\n",
    "    return tr[(t>=start) * (t<end)].mean()"
   ]
  },
  {
   "cell_type": "code",
   "execution_count": null,
   "metadata": {
    "collapsed": false
   },
   "outputs": [],
   "source": [
    "from sklearn.preprocessing import StandardScaler"
   ]
  },
  {
   "cell_type": "code",
   "execution_count": null,
   "metadata": {
    "collapsed": true
   },
   "outputs": [],
   "source": [
    "dff_zs = StandardScaler().fit_transform(dff)"
   ]
  },
  {
   "cell_type": "code",
   "execution_count": null,
   "metadata": {
    "collapsed": false
   },
   "outputs": [],
   "source": [
    "cell = 0\n",
    "mean_cs = np.r_[[compute_mean_level(time_ax, dff_zs, cycles, cycle, cell, start=CS_START, end=CS_END)\n",
    "                 for cycle in xrange(len(cycles))]]\n",
    "mean_base = np.r_[[compute_mean_level(time_ax, dff_zs, cycles, cycle, cell, start=-CS_DURATION, end=CS_START)\n",
    "                   for cycle in xrange(len(cycles))]]\n",
    "mean_us = np.r_[[compute_mean_level(time_ax, dff_zs, cycles, cycle, cell, start=US_START, end=US_END)\n",
    "                 for cycle in xrange(len(cycles))]]\n",
    "mean_delay = np.r_[[compute_mean_level(time_ax, dff_zs, cycles, cycle, cell, start=CS_END, end=CS_END+DELAY)\n",
    "                    for cycle in xrange(len(cycles))]]"
   ]
  },
  {
   "cell_type": "code",
   "execution_count": null,
   "metadata": {
    "collapsed": false
   },
   "outputs": [],
   "source": [
    "(mean_us-mean_base[is_rwt]).mean()"
   ]
  },
  {
   "cell_type": "code",
   "execution_count": null,
   "metadata": {
    "collapsed": false
   },
   "outputs": [],
   "source": [
    "def plot_it(ax, vals):\n",
    "    w1 = np.where(is_rwt)\n",
    "    w2 = np.where(~np.r_[is_rwt])\n",
    "#     ax.plot(is_rwt*1+np.random.randn(len(cycles))*.01, vals, 'o',\n",
    "#             color='0.8', mew=0)\n",
    "    ax.plot([-0.1, 0.1], [(vals[w1]).mean()]*2, 'k-', zorder=19)\n",
    "    ax.errorbar([0], [np.mean(vals[w1])], [np.std(vals[w1])/np.sqrt(np.sum(is_rwt)-1)],\n",
    "                color='k', zorder=19)\n",
    "    ax.plot([0.9, 1.1], [(vals[w2]).mean()]*2, 'k-', zorder=19)\n",
    "    ax.errorbar([1], [np.mean(vals[w2])], [np.std(vals[w2])/np.sqrt(np.sum(~np.r_[is_rwt])-1)],\n",
    "                color='k', zorder=19)\n",
    "\n",
    "fig, axs = pl.subplots(5, 3, figsize=(5, 10), sharey=True)\n",
    "\n",
    "for cell, a in zip(range(0, 5), axs):\n",
    "    mean_cs = np.r_[[compute_mean_level(time_ax, dff_zs, cycles, cycle, cell, start=CS_START, end=CS_END)\n",
    "                 for cycle in xrange(len(cycles))]]\n",
    "    mean_base = np.r_[[compute_mean_level(time_ax, dff_zs, cycles, cycle, cell, start=-8, end=CS_START)\n",
    "                   for cycle in xrange(len(cycles))]]\n",
    "    mean_us = np.r_[[compute_mean_level(time_ax, dff_zs, cycles, cycle, cell, start=US_START, end=US_END)\n",
    "                 for cycle in xrange(len(cycles))]]\n",
    "    mean_delay = np.r_[[compute_mean_level(time_ax, dff_zs, cycles, cycle, cell, start=CS_END, end=CS_END+DELAY)\n",
    "                    for cycle in xrange(len(cycles))]]\n",
    "    ax = a[0]\n",
    "    plot_it(ax, mean_cs-mean_base)\n",
    "    ax.text(0.5, 1, 'CS', horizontalalignment='center')\n",
    "    ax.set_ylabel(cell)\n",
    "    ax = a[1]\n",
    "    plot_it(ax, mean_delay-mean_base)\n",
    "    ax.text(0.5, 1, 'delay', horizontalalignment='center')\n",
    "    ax = a[2]\n",
    "    plot_it(ax, mean_us-mean_base)\n",
    "    ax.text(0.5, 1, 'US', horizontalalignment='center')\n",
    "\n",
    "for ax in axs.flatten():\n",
    "    ax.set_xticks((0, 1))\n",
    "    ax.set_xticklabels(['rew.', 'CSm'])\n",
    "    ax.set_xlim((-0.2, 1.2))\n",
    "    ax.spines['right'].set_visible(False)\n",
    "    ax.spines['top'].set_visible(False)\n",
    "    ax.yaxis.set_ticks_position('left')\n",
    "    ax.xaxis.set_ticks_position('bottom')\n",
    "    \n",
    "\n",
    "axs[0][0].text(-2, -5, 'Mean z-scored fluorescence', rotation=90)"
   ]
  },
  {
   "cell_type": "code",
   "execution_count": null,
   "metadata": {
    "collapsed": true
   },
   "outputs": [],
   "source": [
    "save_workspace(db)"
   ]
  }
 ],
 "metadata": {
  "anaconda-cloud": {},
  "kernelspec": {
   "display_name": "Python [default]",
   "language": "python",
   "name": "python2"
  },
  "language_info": {
   "codemirror_mode": {
    "name": "ipython",
    "version": 2
   },
   "file_extension": ".py",
   "mimetype": "text/x-python",
   "name": "python",
   "nbconvert_exporter": "python",
   "pygments_lexer": "ipython2",
   "version": "2.7.12"
  }
 },
 "nbformat": 4,
 "nbformat_minor": 0
}
