{
 "cells": [
  {
   "cell_type": "code",
   "execution_count": 1,
   "metadata": {
    "collapsed": false
   },
   "outputs": [
    {
     "data": {
      "text/html": [
       "<script>jQuery(function() {if (jQuery(\"body.notebook_app\").length == 0) { jQuery(\".input_area\").toggle(); jQuery(\".prompt\").toggle();}});</script>"
      ]
     },
     "metadata": {},
     "output_type": "display_data"
    },
    {
     "data": {
      "text/html": [
       "<button onclick=\"jQuery('.input_area').toggle(); jQuery('.prompt').toggle();\">Toggle code</button>"
      ]
     },
     "metadata": {},
     "output_type": "display_data"
    }
   ],
   "source": [
    "from IPython.display import display\n",
    "from IPython.display import HTML\n",
    "import IPython.core.display as di # Example: di.display_html('<h3>%s:</h3>' % str, raw=True)\n",
    "\n",
    "# This line will hide code by default when the notebook is exported as HTML\n",
    "di.display_html('<script>jQuery(function() {if (jQuery(\"body.notebook_app\").length == 0) { jQuery(\".input_area\").toggle(); jQuery(\".prompt\").toggle();}});</script>', raw=True)\n",
    "\n",
    "# This line will add a button to toggle visibility of code blocks, for use with the HTML export version\n",
    "di.display_html('''<button onclick=\"jQuery('.input_area').toggle(); jQuery('.prompt').toggle();\">Toggle code</button>''', raw=True)\n"
   ]
  },
  {
   "cell_type": "code",
   "execution_count": 2,
   "metadata": {
    "collapsed": true
   },
   "outputs": [],
   "source": [
    "# all modules necessary for this nb\n",
    "import os\n",
    "import sys\n",
    "import pickle\n",
    "\n",
    "import numpy as np\n",
    "np.random.seed(0)\n",
    "import pylab as pl\n",
    "import scipy.stats as sstats\n",
    "\n",
    "# setting parameters for default matplotlib plots\n",
    "%matplotlib inline"
   ]
  },
  {
   "cell_type": "code",
   "execution_count": 3,
   "metadata": {
    "collapsed": false
   },
   "outputs": [],
   "source": [
    "pl.style.use('fabiostyle')\n",
    "# pl.rcParams['savefig.dpi'] = 300 # dpi for most publications\n",
    "# pl.rcParams['xtick.labelsize'] = 7\n",
    "# pl.rcParams['ytick.labelsize'] = 7\n",
    "# pl.rcParams['axes.labelsize'] = 7\n",
    "# pl.rcParams['axes.titlesize'] = 5\n",
    "# pl.rcParams['legend.fontsize'] = 5\n",
    "# pl.rcParams['xtick.labelsize'] = 5\n",
    "# pl.rcParams['ytick.labelsize'] = 5\n",
    "# pl.rcParams['font.size'] = 7\n",
    "\n",
    "# needs to find the library of functions\n",
    "sys.path.append('../../../code/')  # to be replaced!\n",
    "\n",
    "import utils as ut\n",
    "import plots as pt"
   ]
  },
  {
   "cell_type": "code",
   "execution_count": 4,
   "metadata": {
    "collapsed": false
   },
   "outputs": [],
   "source": [
    "NOTEBOOK_NAME = 'decoding_across_session_combined_vhpc'"
   ]
  },
  {
   "cell_type": "code",
   "execution_count": 5,
   "metadata": {
    "collapsed": false
   },
   "outputs": [],
   "source": [
    "from pickleshare import PickleShareDB\n",
    "\n",
    "autorestore_folder = os.path.join(os.getcwd(), 'autorestore', NOTEBOOK_NAME)\n",
    "db = PickleShareDB(autorestore_folder)\n",
    "import sys\n",
    "from workspace import *\n",
    "import IPython\n",
    "ip = IPython.get_ipython()\n",
    "\n",
    "# this will restore all the saved variables. ignore the errors listed.\n",
    "#load_workspace(ip, db)\n",
    "\n",
    "# use `save_worspace(db)` to save variables at the end"
   ]
  },
  {
   "cell_type": "code",
   "execution_count": 6,
   "metadata": {
    "collapsed": false,
    "scrolled": false
   },
   "outputs": [],
   "source": [
    "from itertools import product\n",
    "def load_all_animals_vars(varname, animal_list, pilot_list=None, notebook='preprocessing'):\n",
    "    all_of_them = {}\n",
    "    for ani in animal_list:\n",
    "        folder = '../%s/notebooks/autorestore/%s/' % (ani, notebook)\n",
    "        all_of_them.update({ani: ut.load_variable(varname, folder)})\n",
    "    return all_of_them"
   ]
  },
  {
   "cell_type": "code",
   "execution_count": 10,
   "metadata": {
    "collapsed": true
   },
   "outputs": [],
   "source": [
    "all_animals =      'c3f3', 'c3f2', 'c3m1', 'c3m2', 'c4m4', 'c10m8', '90', '91', '92', '93'\n",
    "pre_animals =      'c3f3', 'c3f2', 'c3m1', 'c3m2', 'c4m4', 'c10m8', '90', '91', '92', '93'\n",
    "post_animals =     'c3f3', 'c3f2', 'c3m1', 'c3m2', 'c4m4', 'c10m8', '90', '91', '92', '93'\n",
    "pre_rev_animals =  'c3f3', 'c3f2', 'c3m1', 'c3m2', 'c4m4', 'c10m8', '90', '91', '92', '93'\n",
    "post_rev_animals = 'c3f3', 'c3f2', 'c3m1', 'c3m2', 'c4m4', 'c10m8', '90', '91', '92', '93'\n",
    "catch_animals =    'c3f3', 'c3f2', 'c3m1', 'c3m2', 'c4m4', 'c10m8', '90', '91', '92', '93'\n"
   ]
  },
  {
   "cell_type": "code",
   "execution_count": 11,
   "metadata": {
    "collapsed": false
   },
   "outputs": [],
   "source": [
    "prepost_animals =       'c3f3', 'c3f2', 'c3m1', 'c3m2', 'c4m4', 'c10m8', '90', '91', '92', '93'\n",
    "prepre_rev_animals =    'c3f3', 'c3f2', 'c3m1', 'c3m2', 'c4m4', 'c10m8', '90', '91', '92', '93'\n",
    "prepost_rev_animals =   'c3f3',         'c3m1', 'c3m2', 'c4m4', 'c10m8', '90', '91',       '93'\n",
    "postpost_rev_animals =  'c3f3', 'c3f2', 'c3m1', 'c3m2', 'c4m4', 'c10m8', '90', '91', '92', '93'\n",
    "postpre_rev_animals =   'c3f3', 'c3f2', 'c3m1', 'c3m2', 'c4m4', 'c10m8', '90', '91', '92', '93'\n",
    "pre_revpost_rev_animals='c3f3', 'c3f2', 'c3m1', 'c3m2', 'c4m4', 'c10m8', '90', '91', '92', '93'\n",
    "postcatch_animals =     'c3f3', 'c3f2', 'c3m1', 'c3m2', 'c4m4', 'c10m8', '90', '91', '92', '93'\n",
    "post_revcatch_animals = 'c3f3', 'c3f2', 'c3m1', 'c3m2', 'c4m4', 'c10m8', '90', '91', '92', '93'"
   ]
  },
  {
   "cell_type": "code",
   "execution_count": 12,
   "metadata": {
    "collapsed": false
   },
   "outputs": [],
   "source": [
    "time = '2'\n",
    "period = 'cs'\n",
    "trial = 'sh_rw'\n",
    "sess_1 = 'pre'\n",
    "sess_2 = 'post'\n",
    "\n",
    "labels_pre_sh_rw = load_all_animals_vars('labels_pre_sh_rw', prepost_animals, '', notebook='decoding_all')\n",
    "prepost_patterns_pre_sh_rw_tr_2 = load_all_animals_vars('patterns_evs_pre_post_sh_rw_tr_2', prepost_animals, '', notebook='decoding_all')\n",
    "total_cells_prepost= sum(len(prepost_patterns_pre_sh_rw_tr_2[ani][0]) for ani in prepost_animals)\n"
   ]
  },
  {
   "cell_type": "code",
   "execution_count": 13,
   "metadata": {
    "collapsed": false,
    "scrolled": true
   },
   "outputs": [
    {
     "name": "stdout",
     "output_type": "stream",
     "text": [
      "prevspost_sh_rw_cs_1acompleted! yay!\n",
      "prevspost_sh_rw_tr_1acompleted! yay!\n",
      "prevspost_sh_rw_cs_1bcompleted! yay!\n",
      "prevspost_sh_rw_tr_1bcompleted! yay!\n",
      "prevspost_sh_rw_cs_2completed! yay!\n",
      "prevspost_sh_rw_tr_2completed! yay!\n",
      "prevspost_sh_csm_cs_1acompleted! yay!\n",
      "prevspost_sh_csm_tr_1acompleted! yay!\n",
      "prevspost_sh_csm_cs_1bcompleted! yay!\n",
      "prevspost_sh_csm_tr_1bcompleted! yay!\n",
      "prevspost_sh_csm_cs_2completed! yay!\n",
      "prevspost_sh_csm_tr_2completed! yay!\n",
      "prevspost_rw_csm_cs_1acompleted! yay!\n",
      "prevspost_rw_csm_tr_1acompleted! yay!\n",
      "prevspost_rw_csm_cs_1bcompleted! yay!\n",
      "prevspost_rw_csm_tr_1bcompleted! yay!\n",
      "prevspost_rw_csm_cs_2completed! yay!\n",
      "prevspost_rw_csm_tr_2completed! yay!\n",
      "prevspre_rev_sh_rw_cs_1acompleted! yay!\n",
      "prevspre_rev_sh_rw_tr_1acompleted! yay!\n",
      "prevspre_rev_sh_rw_cs_1bcompleted! yay!\n",
      "prevspre_rev_sh_rw_tr_1bcompleted! yay!\n",
      "prevspre_rev_sh_rw_cs_2completed! yay!\n",
      "prevspre_rev_sh_rw_tr_2completed! yay!\n",
      "prevspre_rev_sh_csm_cs_1acompleted! yay!\n",
      "prevspre_rev_sh_csm_tr_1acompleted! yay!\n",
      "prevspre_rev_sh_csm_cs_1bcompleted! yay!\n",
      "prevspre_rev_sh_csm_tr_1bcompleted! yay!\n",
      "prevspre_rev_sh_csm_cs_2completed! yay!\n",
      "prevspre_rev_sh_csm_tr_2completed! yay!\n",
      "prevspre_rev_rw_csm_cs_1acompleted! yay!\n",
      "prevspre_rev_rw_csm_tr_1acompleted! yay!\n",
      "prevspre_rev_rw_csm_cs_1bcompleted! yay!\n",
      "prevspre_rev_rw_csm_tr_1bcompleted! yay!\n",
      "prevspre_rev_rw_csm_cs_2completed! yay!\n",
      "prevspre_rev_rw_csm_tr_2completed! yay!\n",
      "prevspost_rev_sh_rw_cs_1acompleted! yay!\n",
      "prevspost_rev_sh_rw_tr_1acompleted! yay!\n",
      "prevspost_rev_sh_rw_cs_1bcompleted! yay!\n",
      "prevspost_rev_sh_rw_tr_1bcompleted! yay!\n",
      "prevspost_rev_sh_rw_cs_2completed! yay!\n",
      "prevspost_rev_sh_rw_tr_2completed! yay!\n",
      "prevspost_rev_sh_csm_cs_1acompleted! yay!\n",
      "prevspost_rev_sh_csm_tr_1acompleted! yay!\n",
      "prevspost_rev_sh_csm_cs_1bcompleted! yay!\n",
      "prevspost_rev_sh_csm_tr_1bcompleted! yay!\n",
      "prevspost_rev_sh_csm_cs_2completed! yay!\n",
      "prevspost_rev_sh_csm_tr_2completed! yay!\n",
      "prevspost_rev_rw_csm_cs_1acompleted! yay!\n",
      "prevspost_rev_rw_csm_tr_1acompleted! yay!\n",
      "prevspost_rev_rw_csm_cs_1bcompleted! yay!\n",
      "prevspost_rev_rw_csm_tr_1bcompleted! yay!\n",
      "prevspost_rev_rw_csm_cs_2completed! yay!\n",
      "prevspost_rev_rw_csm_tr_2completed! yay!\n",
      "prevscatch_sh_rw_cs_1a did not complete\n",
      "prevscatch_sh_rw_tr_1a did not complete\n",
      "prevscatch_sh_rw_cs_1b did not complete\n",
      "prevscatch_sh_rw_tr_1b did not complete\n",
      "prevscatch_sh_rw_cs_2 did not complete\n",
      "prevscatch_sh_rw_tr_2 did not complete\n",
      "prevscatch_sh_csm_cs_1a did not complete\n",
      "prevscatch_sh_csm_tr_1a did not complete\n",
      "prevscatch_sh_csm_cs_1b did not complete\n",
      "prevscatch_sh_csm_tr_1b did not complete\n",
      "prevscatch_sh_csm_cs_2 did not complete\n",
      "prevscatch_sh_csm_tr_2 did not complete\n",
      "prevscatch_rw_csm_cs_1a did not complete\n",
      "prevscatch_rw_csm_tr_1a did not complete\n",
      "prevscatch_rw_csm_cs_1b did not complete\n",
      "prevscatch_rw_csm_tr_1b did not complete\n",
      "prevscatch_rw_csm_cs_2 did not complete\n",
      "prevscatch_rw_csm_tr_2 did not complete\n",
      "postvspre_rev_sh_rw_cs_1acompleted! yay!\n",
      "postvspre_rev_sh_rw_tr_1acompleted! yay!\n",
      "postvspre_rev_sh_rw_cs_1bcompleted! yay!\n",
      "postvspre_rev_sh_rw_tr_1bcompleted! yay!\n",
      "postvspre_rev_sh_rw_cs_2completed! yay!\n",
      "postvspre_rev_sh_rw_tr_2completed! yay!\n",
      "postvspre_rev_sh_csm_cs_1acompleted! yay!\n",
      "postvspre_rev_sh_csm_tr_1acompleted! yay!\n",
      "postvspre_rev_sh_csm_cs_1bcompleted! yay!\n",
      "postvspre_rev_sh_csm_tr_1bcompleted! yay!\n",
      "postvspre_rev_sh_csm_cs_2completed! yay!\n",
      "postvspre_rev_sh_csm_tr_2completed! yay!\n",
      "postvspre_rev_rw_csm_cs_1acompleted! yay!\n",
      "postvspre_rev_rw_csm_tr_1acompleted! yay!\n",
      "postvspre_rev_rw_csm_cs_1bcompleted! yay!\n",
      "postvspre_rev_rw_csm_tr_1bcompleted! yay!\n",
      "postvspre_rev_rw_csm_cs_2completed! yay!\n",
      "postvspre_rev_rw_csm_tr_2completed! yay!\n",
      "postvspost_rev_sh_rw_cs_1acompleted! yay!\n",
      "postvspost_rev_sh_rw_tr_1acompleted! yay!\n",
      "postvspost_rev_sh_rw_cs_1bcompleted! yay!\n",
      "postvspost_rev_sh_rw_tr_1bcompleted! yay!\n",
      "postvspost_rev_sh_rw_cs_2completed! yay!\n",
      "postvspost_rev_sh_rw_tr_2completed! yay!\n",
      "postvspost_rev_sh_csm_cs_1acompleted! yay!\n",
      "postvspost_rev_sh_csm_tr_1acompleted! yay!\n",
      "postvspost_rev_sh_csm_cs_1bcompleted! yay!\n",
      "postvspost_rev_sh_csm_tr_1bcompleted! yay!\n",
      "postvspost_rev_sh_csm_cs_2completed! yay!\n",
      "postvspost_rev_sh_csm_tr_2completed! yay!\n",
      "postvspost_rev_rw_csm_cs_1acompleted! yay!\n",
      "postvspost_rev_rw_csm_tr_1acompleted! yay!\n",
      "postvspost_rev_rw_csm_cs_1bcompleted! yay!\n",
      "postvspost_rev_rw_csm_tr_1bcompleted! yay!\n",
      "postvspost_rev_rw_csm_cs_2completed! yay!\n",
      "postvspost_rev_rw_csm_tr_2completed! yay!\n",
      "postvscatch_sh_rw_cs_1a did not complete\n",
      "postvscatch_sh_rw_tr_1a did not complete\n",
      "postvscatch_sh_rw_cs_1b did not complete\n",
      "postvscatch_sh_rw_tr_1b did not complete\n",
      "postvscatch_sh_rw_cs_2 did not complete\n",
      "postvscatch_sh_rw_tr_2 did not complete\n",
      "postvscatch_sh_csm_cs_1a did not complete\n",
      "postvscatch_sh_csm_tr_1a did not complete\n",
      "postvscatch_sh_csm_cs_1b did not complete\n",
      "postvscatch_sh_csm_tr_1b did not complete\n",
      "postvscatch_sh_csm_cs_2 did not complete\n",
      "postvscatch_sh_csm_tr_2 did not complete\n",
      "postvscatch_rw_csm_cs_1a did not complete\n",
      "postvscatch_rw_csm_tr_1a did not complete\n",
      "postvscatch_rw_csm_cs_1b did not complete\n",
      "postvscatch_rw_csm_tr_1b did not complete\n",
      "postvscatch_rw_csm_cs_2 did not complete\n",
      "postvscatch_rw_csm_tr_2 did not complete\n",
      "pre_revvspost_rev_sh_rw_cs_1acompleted! yay!\n",
      "pre_revvspost_rev_sh_rw_tr_1acompleted! yay!\n",
      "pre_revvspost_rev_sh_rw_cs_1bcompleted! yay!\n",
      "pre_revvspost_rev_sh_rw_tr_1bcompleted! yay!\n",
      "pre_revvspost_rev_sh_rw_cs_2completed! yay!\n",
      "pre_revvspost_rev_sh_rw_tr_2completed! yay!\n",
      "pre_revvspost_rev_sh_csm_cs_1acompleted! yay!\n",
      "pre_revvspost_rev_sh_csm_tr_1acompleted! yay!\n",
      "pre_revvspost_rev_sh_csm_cs_1bcompleted! yay!\n",
      "pre_revvspost_rev_sh_csm_tr_1bcompleted! yay!\n",
      "pre_revvspost_rev_sh_csm_cs_2completed! yay!\n",
      "pre_revvspost_rev_sh_csm_tr_2completed! yay!\n",
      "pre_revvspost_rev_rw_csm_cs_1acompleted! yay!\n",
      "pre_revvspost_rev_rw_csm_tr_1acompleted! yay!\n",
      "pre_revvspost_rev_rw_csm_cs_1bcompleted! yay!\n",
      "pre_revvspost_rev_rw_csm_tr_1bcompleted! yay!\n",
      "pre_revvspost_rev_rw_csm_cs_2completed! yay!\n",
      "pre_revvspost_rev_rw_csm_tr_2completed! yay!\n",
      "pre_revvscatch_sh_rw_cs_1a did not complete\n",
      "pre_revvscatch_sh_rw_tr_1a did not complete\n",
      "pre_revvscatch_sh_rw_cs_1b did not complete\n",
      "pre_revvscatch_sh_rw_tr_1b did not complete\n",
      "pre_revvscatch_sh_rw_cs_2 did not complete\n",
      "pre_revvscatch_sh_rw_tr_2 did not complete\n",
      "pre_revvscatch_sh_csm_cs_1a did not complete\n",
      "pre_revvscatch_sh_csm_tr_1a did not complete\n",
      "pre_revvscatch_sh_csm_cs_1b did not complete\n",
      "pre_revvscatch_sh_csm_tr_1b did not complete\n",
      "pre_revvscatch_sh_csm_cs_2 did not complete\n",
      "pre_revvscatch_sh_csm_tr_2 did not complete\n",
      "pre_revvscatch_rw_csm_cs_1a did not complete\n",
      "pre_revvscatch_rw_csm_tr_1a did not complete\n",
      "pre_revvscatch_rw_csm_cs_1b did not complete\n",
      "pre_revvscatch_rw_csm_tr_1b did not complete\n",
      "pre_revvscatch_rw_csm_cs_2 did not complete\n",
      "pre_revvscatch_rw_csm_tr_2 did not complete\n",
      "post_revvscatch_sh_rw_cs_1a did not complete\n",
      "post_revvscatch_sh_rw_tr_1a did not complete\n",
      "post_revvscatch_sh_rw_cs_1b did not complete\n",
      "post_revvscatch_sh_rw_tr_1b did not complete\n",
      "post_revvscatch_sh_rw_cs_2 did not complete\n",
      "post_revvscatch_sh_rw_tr_2 did not complete\n",
      "post_revvscatch_sh_csm_cs_1a did not complete\n",
      "post_revvscatch_sh_csm_tr_1a did not complete\n",
      "post_revvscatch_sh_csm_cs_1b did not complete\n",
      "post_revvscatch_sh_csm_tr_1b did not complete\n",
      "post_revvscatch_sh_csm_cs_2 did not complete\n",
      "post_revvscatch_sh_csm_tr_2 did not complete\n",
      "post_revvscatch_rw_csm_cs_1a did not complete\n",
      "post_revvscatch_rw_csm_tr_1a did not complete\n",
      "post_revvscatch_rw_csm_cs_1b did not complete\n",
      "post_revvscatch_rw_csm_tr_1b did not complete\n",
      "post_revvscatch_rw_csm_cs_2 did not complete\n",
      "post_revvscatch_rw_csm_tr_2 did not complete\n"
     ]
    }
   ],
   "source": [
    "#all periods, time bins, sessions, and mice\n",
    "sessionA = 'pre','post','pre_rev','post_rev','catch'\n",
    "sessionB = 'pre','post','pre_rev','post_rev','catch'\n",
    "trial_type = 'sh_rw','sh_csm','rw_csm'\n",
    "seconds='1a','1b','2'\n",
    "trial_period = 'cs', 'tr', \n",
    "#sess_1,trial,period,time\n",
    "\n",
    "sess_1_c=0\n",
    "for sess_1 in sessionA:\n",
    "    sess_1_c=sess_1_c+1\n",
    "    sess_2_c=0\n",
    "    for sess_2 in sessionB:\n",
    "        sess_2_c=sess_2_c+1\n",
    "        for trial in trial_type:\n",
    "            for time in seconds:\n",
    "                for period in trial_period:\n",
    "                    if sess_1!=sess_2 and sess_1_c<sess_2_c:\n",
    "                            try:\n",
    "                                exec(\"labels_%s_%s = load_all_animals_vars('labels_%s_%s', %s%s_animals, '', notebook='decoding_all')\"%(sess_1,trial,sess_1,trial,sess_1,sess_2))\n",
    "                                exec(\"%s%s_patterns_%s_%s_%s_%s = load_all_animals_vars('patterns_evs_%s_%s_%s_%s_%s', %s%s_animals, '', notebook='decoding_all')\"%(sess_1,sess_2,sess_1,trial,period,time,sess_1,sess_2,trial,period,time,sess_1,sess_2))\n",
    "                                exec(\"total_cells_%s%s= sum(len(%s%s_patterns_%s_%s_%s_%s[ani][0]) for ani in %s%s_animals)\"%(sess_1,sess_2,sess_1,sess_2,sess_1,trial,period,time,sess_1,sess_2,))\n",
    "                                print str(sess_1)+\"vs\"+str(sess_2)+\"_\"+str(trial)+\"_\"+str(period)+\"_\"+str(time)+\"completed! yay!\"\n",
    "                            except:\n",
    "                                print str(sess_1)+\"vs\"+str(sess_2)+\"_\"+str(trial)+\"_\"+str(period)+\"_\"+str(time)+\" did not complete\"\n",
    "\n",
    "#total_cells_preext1 = sum(len(preext1_patterns_pre[ani][0]) for ani in preext1_animals)                                \n",
    "        #exec(\"total_dhpc_cells_%s%s_%s_%s_%s = sum(len(dhpc_%s%s_patterns_%s_%s_%s[ani][0]) for ani in %s%s_animals_vhpc)\"%(sess_1,sess_2,trial,period,time,sess_1,sess_2,trial,period,time,sess_1,sess_2))\n",
    "        #                       exec(\"print 'total_dhpc_cells_%s%s_%s_%s_%s ='\"%(sess_1,sess_2,trial,period,time))\n",
    "        #                       exec(\"print total_dhpc_cells_%s%s_%s_%s_%s\"%(sess_1,sess_2,trial,period,time))"
   ]
  },
  {
   "cell_type": "code",
   "execution_count": 29,
   "metadata": {
    "collapsed": false
   },
   "outputs": [],
   "source": [
    "from sklearn.svm import SVC\n",
    "decoder = SVC(kernel='linear', decision_function_shape='ovo')\n",
    "\n",
    "def do_test_cross(patterns_t, labels_t, patterns_T, labels_T, n_cells=None):\n",
    "#     which_train = range(90)\n",
    "#     which_test = range(90)\n",
    "\n",
    "    patterns_comb_train, labels_comb = ut.combine_patterns(patterns_t, labels_t)\n",
    "    patterns_comb_test, labels_comb = ut.combine_patterns(patterns_T, labels_T)\n",
    "    if n_cells is None:\n",
    "        cells = list(range(patterns_comb_train.shape[1]))\n",
    "        print len(cells),\n",
    "    elif n_cells > patterns_comb_train.shape[1]:\n",
    "        cells = list(range(patterns_comb_train.shape[1]))\n",
    "        print len(cells),\n",
    "    else:\n",
    "        cells = np.random.choice(range(patterns_comb_train.shape[1]), size=n_cells, replace=False)\n",
    "        print cells.shape,\n",
    "    decoder.fit(patterns_comb_train[:, cells], labels_comb)\n",
    "    scores = decoder.score(patterns_comb_test[:, cells], labels_comb)\n",
    "    decoder.fit(patterns_comb_test[:, cells], labels_comb)\n",
    "    return np.append(scores, decoder.score(patterns_comb_train[:, cells], labels_comb))"
   ]
  },
  {
   "cell_type": "code",
   "execution_count": 30,
   "metadata": {
    "collapsed": false
   },
   "outputs": [],
   "source": [
    "from sklearn.model_selection import KFold, LeaveOneOut\n",
    "from sklearn.svm import SVC\n",
    "decoder = SVC(kernel='linear', decision_function_shape='ovo')\n",
    "\n",
    "def do_test_within(patterns, labels, n_cells=None):\n",
    "#     which_train = range(90)\n",
    "#     which_test = range(90)\n",
    "    cv = LeaveOneOut()\n",
    "    \n",
    "    which_train = {}\n",
    "    which_test = {}\n",
    "    for ani in patterns.keys():\n",
    "        which_train_a = np.random.permutation(np.where(labels[ani]==0)[0])\n",
    "        which_test_a = which_train_a[:len(which_train_a)/2]\n",
    "        which_train_a = which_train_a[len(which_train_a)/2:]\n",
    "        \n",
    "        which_train_b = np.random.permutation(np.where(labels[ani]==1)[0])\n",
    "        which_test_b = which_train_b[:len(which_train_b)/2]\n",
    "        which_train_b = which_train_b[len(which_train_b)/2:]\n",
    "        \n",
    "        which_train[ani] = np.concatenate((which_train_a, which_train_b))\n",
    "        which_test[ani] = np.concatenate((which_test_a, which_test_b))\n",
    "    \n",
    "    patterns_t = patterns.copy()\n",
    "    labels_t = labels.copy()\n",
    "    patterns_T = patterns.copy()\n",
    "    labels_T = labels.copy()\n",
    "    for ani in patterns.keys():\n",
    "        patterns_t[ani] = patterns[ani][which_train[ani]]\n",
    "        labels_t[ani] = labels[ani][which_train[ani]]\n",
    "        patterns_T[ani] = patterns[ani][which_test[ani]]\n",
    "        labels_T[ani] = labels[ani][which_test[ani]]\n",
    "    patterns_comb_train, labels_comb = ut.combine_patterns(patterns_t, labels_t)\n",
    "    patterns_comb_test, labels_comb = ut.combine_patterns(patterns_T, labels_T)\n",
    "    if n_cells is None:\n",
    "        cells = list(range(patterns_comb_train.shape[1]))\n",
    "        print len(cells),\n",
    "    elif n_cells > patterns_comb_train.shape[1]:\n",
    "        cells = list(range(patterns_comb_train.shape[1]))\n",
    "        print len(cells),\n",
    "    else:\n",
    "        cells = np.random.choice(range(patterns_comb_train.shape[1]), size=n_cells, replace=False)\n",
    "        print cells.shape,\n",
    "    decoder.fit(patterns_comb_train, labels_comb)\n",
    "    return decoder.score(patterns_comb_test, labels_comb)"
   ]
  },
  {
   "cell_type": "code",
   "execution_count": null,
   "metadata": {
    "collapsed": false
   },
   "outputs": [],
   "source": [
    "# determine total cell numbers for each comparison condition\n",
    "\n",
    "total_cells_prepost = sum(len(prepost_patterns_pre[ani][0]) for ani in prepost_animals)\n",
    "print 'total cells prepost =',\n",
    "print total_cells_prepost\n",
    "\n",
    "total_cells_preext1 = sum(len(preext1_patterns_pre[ani][0]) for ani in preext1_animals)\n",
    "print 'total cells preext1 =',\n",
    "print total_cells_preext1\n",
    "\n",
    "total_cells_preext2 = sum(len(preext2_patterns_pre[ani][0]) for ani in preext2_animals)\n",
    "print 'total cells preext2 =',\n",
    "print total_cells_preext2\n",
    "\n",
    "total_cells_prerenew = sum(len(prerenew_patterns_pre[ani][0]) for ani in prerenew_animals)\n",
    "print 'total cells prerenew =',\n",
    "print total_cells_prerenew\n",
    "\n",
    "total_cells_postext1 = sum(len(postext1_patterns_post[ani][0]) for ani in postext1_animals)\n",
    "print 'total cells postext1 =',\n",
    "print total_cells_postext1\n",
    "\n",
    "total_cells_postext2 = sum(len(postext2_patterns_post[ani][0]) for ani in postext2_animals)\n",
    "print 'total cells postext2 =',\n",
    "print total_cells_postext2\n",
    "\n",
    "total_cells_postrenew = sum(len(postrenew_patterns_post[ani][0]) for ani in postrenew_animals)\n",
    "print 'total cells postrenew =',\n",
    "print total_cells_postrenew\n",
    "\n",
    "total_cells_ext1ext2 = sum(len(ext1ext2_patterns_ext1[ani][0]) for ani in ext1ext2_animals)\n",
    "print 'total cells ext1ext2 =',\n",
    "print total_cells_ext1ext2\n",
    "\n",
    "total_cells_ext1renew = sum(len(ext1renew_patterns_ext1[ani][0]) for ani in ext1renew_animals)\n",
    "print 'total cells ext1renew =',\n",
    "print total_cells_ext1renew\n",
    "\n",
    "total_cells_ext2renew = sum(len(ext2renew_patterns_ext2[ani][0]) for ani in ext2renew_animals)\n",
    "print 'total cells ext2renew =',\n",
    "print total_cells_ext2renew"
   ]
  },
  {
   "cell_type": "markdown",
   "metadata": {},
   "source": [
    "# set whether you want to use all cells, downsample to min cells for each compared session, or dowsample to global minimum of cells across all comparisons"
   ]
  },
  {
   "cell_type": "code",
   "execution_count": null,
   "metadata": {
    "collapsed": false
   },
   "outputs": [],
   "source": [
    "#set downsampling parameter to:\n",
    "#max_cells = all cells\n",
    "#intraregion_min = downsample to the comparison with fewest cells within the same hippo region\n",
    "#interregion_min = downsample to the comparison with fewest cells, considering both hippo regions\n",
    "#gmin = the global minimum (pretty much corresponds to interregion_min)\n",
    "\n",
    "downsample = 'max_cells'"
   ]
  },
  {
   "cell_type": "code",
   "execution_count": null,
   "metadata": {
    "collapsed": false
   },
   "outputs": [],
   "source": [
    "if downsample == 'max_cells':\n",
    "    n_cells = None #will use all registered cells\n",
    "if downsample == 'intraregion_min':\n",
    "    n_cells = ut.load_variable('n_cells_across_min_vhpc', '../notebooks/autorestore/n_cells/')\n",
    "if downsample == 'interregion_min':\n",
    "    n_cells = ut.load_variable('n_cells_across_min_overall', '../notebooks/autorestore/n_cells/')\n",
    "if downsample == 'gmin':\n",
    "    n_cells = ut.load_variable('n_cells_gmin', '../notebooks/autorestore/n_cells/')"
   ]
  },
  {
   "cell_type": "code",
   "execution_count": null,
   "metadata": {
    "collapsed": false
   },
   "outputs": [],
   "source": [
    "n_cells"
   ]
  },
  {
   "cell_type": "code",
   "execution_count": null,
   "metadata": {
    "collapsed": false
   },
   "outputs": [],
   "source": [
    "%%time\n",
    "\n",
    "scores_expopre_expo_first30 = []\n",
    "scores_expopre_pre_first30 = []\n",
    "scores_expopre_first30 = []\n",
    "for i in range(50):\n",
    "    scores_expopre_expo_first30.append(do_test_within(expopre_patterns_expo_first30, expopre_labels_expo_first30, n_cells=n_cells))\n",
    "    scores_expopre_pre_first30.append(do_test_within(expopre_patterns_pre_first30, expopre_labels_pre_first30, n_cells=n_cells))\n",
    "    scores_expopre_first30.append(do_test_cross(expopre_patterns_expo_first30, expopre_labels_expo_first30,\n",
    "                                        expopre_patterns_pre_first30, expopre_labels_pre_first30, n_cells=n_cells))\n",
    "    print \".\","
   ]
  },
  {
   "cell_type": "code",
   "execution_count": null,
   "metadata": {
    "collapsed": false
   },
   "outputs": [],
   "source": [
    "%%time\n",
    "\n",
    "scores_prepost_pre = []\n",
    "scores_prepost_post = []\n",
    "scores_prepost = []\n",
    "for i in range(50):\n",
    "    scores_prepost_pre.append(do_test_within(prepost_patterns_pre, prepost_labels_pre, n_cells=n_cells))\n",
    "    scores_prepost_post.append(do_test_within(prepost_patterns_post, prepost_labels_post, n_cells=n_cells))\n",
    "    scores_prepost.append(do_test_cross(prepost_patterns_pre, prepost_labels_pre,\n",
    "                                        prepost_patterns_post, prepost_labels_post, n_cells=n_cells))\n",
    "    print \".\","
   ]
  },
  {
   "cell_type": "code",
   "execution_count": null,
   "metadata": {
    "collapsed": false
   },
   "outputs": [],
   "source": [
    "%%time\n",
    "\n",
    "scores_preext1_pre = []\n",
    "scores_preext1_ext1 = []\n",
    "scores_preext1 = []\n",
    "for i in range(50):\n",
    "    scores_preext1_pre.append(do_test_within(preext1_patterns_pre, preext1_labels_pre, n_cells=n_cells))\n",
    "    scores_preext1_ext1.append(do_test_within(preext1_patterns_ext1, preext1_labels_ext1, n_cells=n_cells))\n",
    "    scores_preext1.append(do_test_cross(preext1_patterns_pre, preext1_labels_pre,\n",
    "                                        preext1_patterns_ext1, preext1_labels_ext1, n_cells=n_cells))\n",
    "    print \".\","
   ]
  },
  {
   "cell_type": "code",
   "execution_count": null,
   "metadata": {
    "collapsed": false
   },
   "outputs": [],
   "source": [
    "%%time\n",
    "\n",
    "scores_preext2_pre = []\n",
    "scores_preext2_ext2 = []\n",
    "scores_preext2 = []\n",
    "for i in range(50):\n",
    "    scores_preext2_pre.append(do_test_within(preext2_patterns_pre, preext2_labels_pre, n_cells=n_cells))\n",
    "    scores_preext2_ext2.append(do_test_within(preext2_patterns_ext2, preext2_labels_ext2, n_cells=n_cells))\n",
    "    scores_preext2.append(do_test_cross(preext2_patterns_pre, preext2_labels_pre,\n",
    "                                        preext2_patterns_ext2, preext2_labels_ext2, n_cells=n_cells))\n",
    "    print \".\","
   ]
  },
  {
   "cell_type": "code",
   "execution_count": null,
   "metadata": {
    "collapsed": false
   },
   "outputs": [],
   "source": [
    "%%time\n",
    "\n",
    "scores_prerenew_pre = []\n",
    "scores_prerenew_renew = []\n",
    "scores_prerenew = []\n",
    "for i in range(50):\n",
    "    scores_prerenew_pre.append(do_test_within(prerenew_patterns_pre, prerenew_labels_pre, n_cells=n_cells))\n",
    "    scores_prerenew_renew.append(do_test_within(prerenew_patterns_renew, prerenew_labels_renew, n_cells=n_cells))\n",
    "    scores_prerenew.append(do_test_cross(prerenew_patterns_pre, prerenew_labels_pre,\n",
    "                                        prerenew_patterns_renew, prerenew_labels_renew, n_cells=n_cells))\n",
    "    print \".\","
   ]
  },
  {
   "cell_type": "code",
   "execution_count": null,
   "metadata": {
    "collapsed": false
   },
   "outputs": [],
   "source": [
    "%%time\n",
    "scores_postext1_post = []\n",
    "scores_postext1_ext1 = []\n",
    "scores_postext1 = []\n",
    "for i in range(50):\n",
    "    scores_postext1_post.append(do_test_within(postext1_patterns_post, postext1_labels_post, n_cells=n_cells))\n",
    "    scores_postext1_ext1.append(do_test_within(postext1_patterns_ext1, postext1_labels_ext1, n_cells=n_cells))\n",
    "    scores_postext1.append(do_test_cross(postext1_patterns_post, postext1_labels_post,\n",
    "                                         postext1_patterns_ext1, postext1_labels_ext1, n_cells=n_cells))\n",
    "\n",
    "    print \".\","
   ]
  },
  {
   "cell_type": "code",
   "execution_count": null,
   "metadata": {
    "collapsed": false
   },
   "outputs": [],
   "source": [
    "%%time\n",
    "scores_postext2_post = []\n",
    "scores_postext2_ext2 = []\n",
    "scores_postext2 = []\n",
    "for i in range(50):\n",
    "    scores_postext2_post.append(do_test_within(postext2_patterns_post, postext2_labels_post, n_cells=n_cells))\n",
    "    scores_postext2_ext2.append(do_test_within(postext2_patterns_ext2, postext2_labels_ext2, n_cells=n_cells))\n",
    "    scores_postext2.append(do_test_cross(postext2_patterns_post, postext2_labels_post,\n",
    "                                         postext2_patterns_ext2, postext2_labels_ext2, n_cells=n_cells))\n",
    "\n",
    "    print \".\","
   ]
  },
  {
   "cell_type": "code",
   "execution_count": null,
   "metadata": {
    "collapsed": false
   },
   "outputs": [],
   "source": [
    "%%time\n",
    "scores_postrenew_post = []\n",
    "scores_postrenew_renew = []\n",
    "scores_postrenew = []\n",
    "for i in range(50):\n",
    "    scores_postrenew_post.append(do_test_within(postrenew_patterns_post, postrenew_labels_post, n_cells=n_cells))\n",
    "    scores_postrenew_renew.append(do_test_within(postrenew_patterns_renew, postrenew_labels_renew, n_cells=n_cells))\n",
    "    scores_postrenew.append(do_test_cross(postrenew_patterns_post, postrenew_labels_post,\n",
    "                                         postrenew_patterns_renew, postrenew_labels_renew, n_cells=n_cells))\n",
    "\n",
    "    print \".\","
   ]
  },
  {
   "cell_type": "code",
   "execution_count": null,
   "metadata": {
    "collapsed": false
   },
   "outputs": [],
   "source": [
    "%%time\n",
    "scores_ext1ext2_ext1 = []\n",
    "scores_ext1ext2_ext2 = []\n",
    "scores_ext1ext2 = []\n",
    "for i in range(50):\n",
    "    scores_ext1ext2_ext1.append(do_test_within(ext1ext2_patterns_ext1, ext1ext2_labels_ext1, n_cells=n_cells))\n",
    "    scores_ext1ext2_ext2.append(do_test_within(ext1ext2_patterns_ext2, ext1ext2_labels_ext2, n_cells=n_cells))\n",
    "    scores_ext1ext2.append(do_test_cross(ext1ext2_patterns_ext1, ext1ext2_labels_ext1,\n",
    "                                         ext1ext2_patterns_ext2, ext1ext2_labels_ext2, n_cells=n_cells))\n",
    "\n",
    "    print \".\","
   ]
  },
  {
   "cell_type": "code",
   "execution_count": null,
   "metadata": {
    "collapsed": false
   },
   "outputs": [],
   "source": [
    "%%time\n",
    "scores_ext1renew_ext1 = []\n",
    "scores_ext1renew_renew = []\n",
    "scores_ext1renew = []\n",
    "for i in range(50):\n",
    "    scores_ext1renew_ext1.append(do_test_within(ext1renew_patterns_ext1, ext1renew_labels_ext1, n_cells=n_cells))\n",
    "    scores_ext1renew_renew.append(do_test_within(ext1renew_patterns_renew, ext1renew_labels_renew, n_cells=n_cells))\n",
    "    scores_ext1renew.append(do_test_cross(ext1renew_patterns_ext1, ext1renew_labels_ext1,\n",
    "                                         ext1renew_patterns_renew, ext1renew_labels_renew, n_cells=n_cells))\n",
    "\n",
    "    print \".\","
   ]
  },
  {
   "cell_type": "code",
   "execution_count": null,
   "metadata": {
    "collapsed": false
   },
   "outputs": [],
   "source": [
    "%%time\n",
    "scores_ext2renew_ext2 = []\n",
    "scores_ext2renew_renew = []\n",
    "scores_ext2renew = []\n",
    "for i in range(50):\n",
    "    scores_ext2renew_ext2.append(do_test_within(ext2renew_patterns_ext2, ext2renew_labels_ext2, n_cells=n_cells))\n",
    "    scores_ext2renew_renew.append(do_test_within(ext2renew_patterns_renew, ext2renew_labels_renew, n_cells=n_cells))\n",
    "    scores_ext2renew.append(do_test_cross(ext2renew_patterns_ext2, ext2renew_labels_ext2,\n",
    "                                         ext2renew_patterns_renew, ext2renew_labels_renew, n_cells=n_cells))\n",
    "\n",
    "    print \".\","
   ]
  },
  {
   "cell_type": "code",
   "execution_count": null,
   "metadata": {
    "collapsed": true
   },
   "outputs": [],
   "source": []
  },
  {
   "cell_type": "code",
   "execution_count": null,
   "metadata": {
    "collapsed": false
   },
   "outputs": [],
   "source": [
    "%%time\n",
    "\n",
    "scores_CS_expopre_expo_first30 = []\n",
    "scores_CS_expopre_pre_first30 = []\n",
    "scores_CS_expopre_first30 = []\n",
    "for i in range(50):\n",
    "    scores_CS_expopre_expo_first30.append(do_test_within(expopre_patterns_CS_expo_first30, expopre_labels_expo_first30, n_cells=n_cells))\n",
    "    scores_CS_expopre_pre_first30.append(do_test_within(expopre_patterns_CS_pre_first30, expopre_labels_pre_first30, n_cells=n_cells))\n",
    "    scores_CS_expopre_first30.append(do_test_cross(expopre_patterns_CS_expo_first30, expopre_labels_expo_first30,\n",
    "                                        expopre_patterns_CS_pre_first30, expopre_labels_pre_first30, n_cells=n_cells))\n",
    "    print \".\","
   ]
  },
  {
   "cell_type": "code",
   "execution_count": null,
   "metadata": {
    "collapsed": false
   },
   "outputs": [],
   "source": [
    "%%time\n",
    "\n",
    "scores_CS_prepost_pre = []\n",
    "scores_CS_prepost_post = []\n",
    "scores_CS_prepost = []\n",
    "for i in range(50):\n",
    "    scores_CS_prepost_pre.append(do_test_within(prepost_patterns_CS_pre, prepost_labels_pre, n_cells=n_cells))\n",
    "    scores_CS_prepost_post.append(do_test_within(prepost_patterns_CS_post, prepost_labels_post, n_cells=n_cells))\n",
    "    scores_CS_prepost.append(do_test_cross(prepost_patterns_CS_pre, prepost_labels_pre,\n",
    "                                        prepost_patterns_CS_post, prepost_labels_post, n_cells=n_cells))\n",
    "    print \".\","
   ]
  },
  {
   "cell_type": "code",
   "execution_count": null,
   "metadata": {
    "collapsed": false
   },
   "outputs": [],
   "source": [
    "%%time\n",
    "\n",
    "scores_CS_preext1_pre = []\n",
    "scores_CS_preext1_ext1 = []\n",
    "scores_CS_preext1 = []\n",
    "for i in range(50):\n",
    "    scores_CS_preext1_pre.append(do_test_within(preext1_patterns_CS_pre, preext1_labels_pre, n_cells=n_cells))\n",
    "    scores_CS_preext1_ext1.append(do_test_within(preext1_patterns_CS_ext1, preext1_labels_ext1, n_cells=n_cells))\n",
    "    scores_CS_preext1.append(do_test_cross(preext1_patterns_CS_pre, preext1_labels_pre,\n",
    "                                        preext1_patterns_CS_ext1, preext1_labels_ext1, n_cells=n_cells))\n",
    "    print \".\","
   ]
  },
  {
   "cell_type": "code",
   "execution_count": null,
   "metadata": {
    "collapsed": false
   },
   "outputs": [],
   "source": [
    "%%time\n",
    "\n",
    "scores_CS_preext2_pre = []\n",
    "scores_CS_preext2_ext2 = []\n",
    "scores_CS_preext2 = []\n",
    "for i in range(50):\n",
    "    scores_CS_preext2_pre.append(do_test_within(preext2_patterns_CS_pre, preext2_labels_pre, n_cells=n_cells))\n",
    "    scores_CS_preext2_ext2.append(do_test_within(preext2_patterns_CS_ext2, preext2_labels_ext2, n_cells=n_cells))\n",
    "    scores_CS_preext2.append(do_test_cross(preext2_patterns_CS_pre, preext2_labels_pre,\n",
    "                                        preext2_patterns_CS_ext2, preext2_labels_ext2, n_cells=n_cells))\n",
    "    print \".\","
   ]
  },
  {
   "cell_type": "code",
   "execution_count": null,
   "metadata": {
    "collapsed": false
   },
   "outputs": [],
   "source": [
    "%%time\n",
    "\n",
    "scores_CS_prerenew_pre = []\n",
    "scores_CS_prerenew_renew = []\n",
    "scores_CS_prerenew = []\n",
    "for i in range(50):\n",
    "    scores_CS_prerenew_pre.append(do_test_within(prerenew_patterns_CS_pre, prerenew_labels_pre, n_cells=n_cells))\n",
    "    scores_CS_prerenew_renew.append(do_test_within(prerenew_patterns_CS_renew, prerenew_labels_renew, n_cells=n_cells))\n",
    "    scores_CS_prerenew.append(do_test_cross(prerenew_patterns_CS_pre, prerenew_labels_pre,\n",
    "                                        prerenew_patterns_CS_renew, prerenew_labels_renew, n_cells=n_cells))\n",
    "    print \".\","
   ]
  },
  {
   "cell_type": "code",
   "execution_count": null,
   "metadata": {
    "collapsed": false
   },
   "outputs": [],
   "source": [
    "%%time\n",
    "scores_CS_postext1_post = []\n",
    "scores_CS_postext1_ext1 = []\n",
    "scores_CS_postext1 = []\n",
    "for i in range(50):\n",
    "    scores_CS_postext1_post.append(do_test_within(postext1_patterns_CS_post, postext1_labels_post, n_cells=n_cells))\n",
    "    scores_CS_postext1_ext1.append(do_test_within(postext1_patterns_CS_ext1, postext1_labels_ext1, n_cells=n_cells))\n",
    "    scores_CS_postext1.append(do_test_cross(postext1_patterns_CS_post, postext1_labels_post,\n",
    "                                         postext1_patterns_CS_ext1, postext1_labels_ext1, n_cells=n_cells))\n",
    "\n",
    "    print \".\","
   ]
  },
  {
   "cell_type": "code",
   "execution_count": null,
   "metadata": {
    "collapsed": false
   },
   "outputs": [],
   "source": [
    "%%time\n",
    "scores_CS_postext2_post = []\n",
    "scores_CS_postext2_ext2 = []\n",
    "scores_CS_postext2 = []\n",
    "for i in range(50):\n",
    "    scores_CS_postext2_post.append(do_test_within(postext2_patterns_CS_post, postext2_labels_post, n_cells=n_cells))\n",
    "    scores_CS_postext2_ext2.append(do_test_within(postext2_patterns_CS_ext2, postext2_labels_ext2, n_cells=n_cells))\n",
    "    scores_CS_postext2.append(do_test_cross(postext2_patterns_CS_post, postext2_labels_post,\n",
    "                                         postext2_patterns_CS_ext2, postext2_labels_ext2, n_cells=n_cells))\n",
    "\n",
    "    print \".\","
   ]
  },
  {
   "cell_type": "code",
   "execution_count": null,
   "metadata": {
    "collapsed": false
   },
   "outputs": [],
   "source": [
    "%%time\n",
    "scores_CS_postrenew_post = []\n",
    "scores_CS_postrenew_renew = []\n",
    "scores_CS_postrenew = []\n",
    "for i in range(50):\n",
    "    scores_CS_postrenew_post.append(do_test_within(postrenew_patterns_CS_post, postrenew_labels_post, n_cells=n_cells))\n",
    "    scores_CS_postrenew_renew.append(do_test_within(postrenew_patterns_CS_renew, postrenew_labels_renew, n_cells=n_cells))\n",
    "    scores_CS_postrenew.append(do_test_cross(postrenew_patterns_CS_post, postrenew_labels_post,\n",
    "                                         postrenew_patterns_CS_renew, postrenew_labels_renew, n_cells=n_cells))\n",
    "\n",
    "    print \".\","
   ]
  },
  {
   "cell_type": "code",
   "execution_count": null,
   "metadata": {
    "collapsed": false
   },
   "outputs": [],
   "source": [
    "%%time\n",
    "scores_CS_ext1ext2_ext1 = []\n",
    "scores_CS_ext1ext2_ext2 = []\n",
    "scores_CS_ext1ext2 = []\n",
    "for i in range(50):\n",
    "    scores_CS_ext1ext2_ext1.append(do_test_within(ext1ext2_patterns_CS_ext1, ext1ext2_labels_ext1, n_cells=n_cells))\n",
    "    scores_CS_ext1ext2_ext2.append(do_test_within(ext1ext2_patterns_CS_ext2, ext1ext2_labels_ext2, n_cells=n_cells))\n",
    "    scores_CS_ext1ext2.append(do_test_cross(ext1ext2_patterns_CS_ext1, ext1ext2_labels_ext1,\n",
    "                                         ext1ext2_patterns_CS_ext2, ext1ext2_labels_ext2, n_cells=n_cells))\n",
    "\n",
    "    print \".\","
   ]
  },
  {
   "cell_type": "code",
   "execution_count": null,
   "metadata": {
    "collapsed": false
   },
   "outputs": [],
   "source": [
    "%%time\n",
    "scores_CS_ext1renew_ext1 = []\n",
    "scores_CS_ext1renew_renew = []\n",
    "scores_CS_ext1renew = []\n",
    "for i in range(50):\n",
    "    scores_CS_ext1renew_ext1.append(do_test_within(ext1renew_patterns_CS_ext1, ext1renew_labels_ext1, n_cells=n_cells))\n",
    "    scores_CS_ext1renew_renew.append(do_test_within(ext1renew_patterns_CS_renew, ext1renew_labels_renew, n_cells=n_cells))\n",
    "    scores_CS_ext1renew.append(do_test_cross(ext1renew_patterns_CS_ext1, ext1renew_labels_ext1,\n",
    "                                         ext1renew_patterns_CS_renew, ext1renew_labels_renew, n_cells=n_cells))\n",
    "\n",
    "    print \".\","
   ]
  },
  {
   "cell_type": "code",
   "execution_count": null,
   "metadata": {
    "collapsed": false
   },
   "outputs": [],
   "source": [
    "%%time\n",
    "scores_CS_ext2renew_ext2 = []\n",
    "scores_CS_ext2renew_renew = []\n",
    "scores_CS_ext2renew = []\n",
    "for i in range(50):\n",
    "    scores_CS_ext2renew_ext2.append(do_test_within(ext2renew_patterns_CS_ext2, ext2renew_labels_ext2, n_cells=n_cells))\n",
    "    scores_CS_ext2renew_renew.append(do_test_within(ext2renew_patterns_CS_renew, ext2renew_labels_renew, n_cells=n_cells))\n",
    "    scores_CS_ext2renew.append(do_test_cross(ext2renew_patterns_CS_ext2, ext2renew_labels_ext2,\n",
    "                                         ext2renew_patterns_CS_renew, ext2renew_labels_renew, n_cells=n_cells))\n",
    "\n",
    "    print \".\","
   ]
  },
  {
   "cell_type": "code",
   "execution_count": null,
   "metadata": {
    "collapsed": false
   },
   "outputs": [],
   "source": [
    "fig, ax = pl.subplots(1, 1, figsize=(2, 2))\n",
    "\n",
    "values = np.r_[[np.concatenate(scores_CS_expopre_first30),\n",
    "                np.concatenate(scores_CS_prepost),\n",
    "                np.concatenate(scores_CS_preext1),\n",
    "                np.concatenate(scores_CS_preext2),\n",
    "                np.concatenate(scores_CS_prerenew),\n",
    "                np.concatenate(scores_CS_postext1),\n",
    "                np.concatenate(scores_CS_postext2),\n",
    "                np.concatenate(scores_CS_postrenew),\n",
    "                np.concatenate(scores_CS_ext1ext2),\n",
    "                np.concatenate(scores_CS_ext1renew),\n",
    "                np.concatenate(scores_CS_ext2renew)]\n",
    "              ]*100\n",
    "\n",
    "pt.plot_bars(values, ax=ax)\n",
    "pvs = []\n",
    "# pvs.append(pt.add_significance(ax, values[0], 100./3, 0, 0, 80, sig_func=sstats.ttest_1samp, ticksize=0))\n",
    "# pvs.append(pt.add_significance(ax, values[1], 100./3, 1, 1, 80, sig_func=sstats.ttest_1samp, ticksize=0))\n",
    "# pvs.append(pt.add_significance(ax, values[0], values[1], 0, 1, 90, ))\n",
    "\n",
    "ax.set_xticks(range(len(values)))\n",
    "ax.set_xticklabels(['expoVSpre(30)','preVSpost', 'preVSext1','preVSext2','preVSrenew', 'postVSext1', 'postVSext2','postVSrenew',\n",
    "                    'ext1VSext2','ext1VSrenew', 'ext2VSrenew'], rotation=70)\n",
    "ax.set_ylabel('vHPC Across-Session\\n CS Decoding Accuracy (%)')\n",
    "ax.set_ylim(0, 100)\n",
    "ax.set_title(downsample)\n",
    "# ax.text(1.5, 0.2, '# Cells = %d' % patterns_comb_train_lec.shape[1])\n",
    "\n",
    "ax.hlines(50, -0.5, len(values)-0.5, linestyles='dashed', lw=0.5)\n",
    "fig.savefig('../img/%s__across_session_CS_combined.jpg'%NOTEBOOK_NAME, bbox='tight')"
   ]
  },
  {
   "cell_type": "code",
   "execution_count": null,
   "metadata": {
    "collapsed": false
   },
   "outputs": [],
   "source": [
    "fig, ax = pl.subplots(1, 1, figsize=(2, 2))\n",
    "\n",
    "values = np.r_[[np.concatenate(scores_expopre_first30),\n",
    "                np.concatenate(scores_prepost),\n",
    "                np.concatenate(scores_preext1),\n",
    "                np.concatenate(scores_preext2),\n",
    "                np.concatenate(scores_prerenew),\n",
    "                np.concatenate(scores_postext1),\n",
    "                np.concatenate(scores_postext2),\n",
    "                np.concatenate(scores_postrenew),\n",
    "                np.concatenate(scores_ext1ext2),\n",
    "                np.concatenate(scores_ext1renew),\n",
    "                np.concatenate(scores_ext2renew)]\n",
    "              ]*100\n",
    "\n",
    "pt.plot_bars(values, ax=ax)\n",
    "pvs = []\n",
    "# pvs.append(pt.add_significance(ax, values[0], 100./3, 0, 0, 80, sig_func=sstats.ttest_1samp, ticksize=0))\n",
    "# pvs.append(pt.add_significance(ax, values[1], 100./3, 1, 1, 80, sig_func=sstats.ttest_1samp, ticksize=0))\n",
    "# pvs.append(pt.add_significance(ax, values[0], values[1], 0, 1, 90, ))\n",
    "\n",
    "ax.set_xticks(range(len(values)))\n",
    "ax.set_xticklabels(['expoVSpre(30)','preVSpost', 'preVSext1','preVSext2','preVSrenew', 'postVSext1', 'postVSext2','postVSrenew',\n",
    "                    'ext1VSext2','ext1VSrenew', 'ext2VSrenew'], rotation=70)\n",
    "ax.set_ylabel('vHPC Across-Session\\nTr Decoding Accuracy (%)')\n",
    "ax.set_ylim(0, 100)\n",
    "ax.set_title(downsample)\n",
    "# ax.text(1.5, 0.2, '# Cells = %d' % patterns_comb_train_lec.shape[1])\n",
    "\n",
    "ax.hlines(50, -0.5, len(values)-0.5, linestyles='dashed', lw=0.5)\n",
    "fig.savefig('../img/%s__across_session_combined.jpg'%NOTEBOOK_NAME, bbox='tight')"
   ]
  },
  {
   "cell_type": "code",
   "execution_count": null,
   "metadata": {
    "collapsed": true
   },
   "outputs": [],
   "source": [
    "def plot_perfs(scores_pre, scores_post, scores_prepost, ax, labels=['Sess \\n1', 'Sess\\n2', 'Cross\\nsession'],\n",
    "            dots=False):\n",
    "    values = (100*np.r_[scores_pre],\n",
    "              100*np.r_[scores_post],\n",
    "              100*np.r_[scores_prepost],)\n",
    "    pt.plot_bars(values, ax=ax, stderr=True, colors=['0.7', '0.7', 'k'])\n",
    "\n",
    "    ax.set_xticks(range(3))\n",
    "    ax.set_xticklabels(labels, fontsize=4)\n",
    "\n",
    "    ax.hlines(50, -0.5, 2.5, lw=1, zorder=0, linestyles='dashed', color='0.7')\n",
    "\n",
    "    ax.set_ylim(0, 100)"
   ]
  },
  {
   "cell_type": "code",
   "execution_count": null,
   "metadata": {
    "collapsed": false
   },
   "outputs": [],
   "source": [
    "fig, ax = pl.subplots(1, 1, figsize=(5, 2), sharey=True)\n",
    "\n",
    "ax.set_ylabel('vHPC trace period\\ndecoding performance %')\n",
    "\n",
    "pairs = 'expoVSpre\\n(trials 1-30)','preVSpost', 'postVSext1', 'postVSext2', 'postVSrenew',  'ext2renew'\n",
    "values = [np.r_[scores_expopre_expo_first30]*100, np.r_[scores_expopre_pre_first30]*100, np.r_[scores_expopre_first30]*100,\n",
    "             np.r_[scores_prepost_pre]*100, np.r_[scores_prepost_post]*100, np.r_[scores_prepost]*100,\n",
    "             np.r_[scores_postext1_post]*100, np.r_[scores_postext1_ext1]*100, np.r_[scores_postext1]*100,\n",
    "             np.r_[scores_postext2_post]*100, np.r_[scores_postext2_ext2]*100, np.r_[scores_postext2]*100,\n",
    "             np.r_[scores_postrenew_post]*100, np.r_[scores_postrenew_renew]*100, np.r_[scores_postrenew]*100,\n",
    "             np.r_[scores_ext2renew_ext2]*100, np.r_[scores_ext2renew_renew]*100, np.r_[scores_ext2renew]*100]\n",
    "pt.plot_bars(values, ax=ax, colors=['limegreen','b','k','b','r','k','r','silver','k','r','gray','k','r','y','k','gray','y','k'], stderr=True)\n",
    "\n",
    "ax.set_xticks(np.arange(1, len(values), 3))\n",
    "ax.set_xticklabels(pairs)\n",
    "ax.hlines(50, -0.7, len(values), linestyles='dashed', lw=0.5)\n",
    "ax.set_ylim(0, 100)\n",
    "ax.set_xlim(-1,18)\n",
    "\n",
    "#pvs = [pt.add_significance(ax, np.concatenate(values[i1]), np.concatenate(values[i2]), i1, i2, 100+i*10)\n",
    "#       for i, (i1, i2) in enumerate([[2, 5], [5, 14]])]\n",
    "\n",
    "fig.savefig('../img/%s__across_session_combined_bars.pdf'%NOTEBOOK_NAME, bbox='tight')\n",
    "np.savetxt('../img/%s__across_session_combined_bars.pvs'%NOTEBOOK_NAME, pvs, header='Mann-Whitney U')"
   ]
  },
  {
   "cell_type": "code",
   "execution_count": null,
   "metadata": {
    "collapsed": false
   },
   "outputs": [],
   "source": [
    "comparisons = 'expopre_first30','prepost','preext1','preext2','prerenew','postext1','postext2','postrenew','ext1ext2','ext1renew','ext2renew'\n",
    "\n",
    "scores_CS={}\n",
    "scores_tr={}\n",
    "\n",
    "for comp in comparisons:\n",
    "    exec('scores_CS[comp]=np.concatenate(scores_CS_%s)'%comp)\n",
    "for comp in comparisons:\n",
    "    exec('scores_tr[comp]=np.concatenate(scores_%s)'%comp)"
   ]
  },
  {
   "cell_type": "markdown",
   "metadata": {},
   "source": [
    "# now use global min and create dedicated variables"
   ]
  },
  {
   "cell_type": "code",
   "execution_count": null,
   "metadata": {
    "collapsed": false
   },
   "outputs": [],
   "source": [
    "gmin_cells = ut.load_variable('n_cells_gmin', '../notebooks/autorestore/n_cells/')\n",
    "print gmin_cells"
   ]
  },
  {
   "cell_type": "code",
   "execution_count": null,
   "metadata": {
    "collapsed": false
   },
   "outputs": [],
   "source": [
    "%%time\n",
    "\n",
    "gmin_scores_expopre_expo_first30 = []\n",
    "gmin_scores_expopre_pre_first30 = []\n",
    "gmin_scores_expopre_first30 = []\n",
    "for i in range(50):\n",
    "    gmin_scores_expopre_expo_first30.append(do_test_within(expopre_patterns_expo_first30, expopre_labels_expo_first30, n_cells=gmin_cells))\n",
    "    gmin_scores_expopre_pre_first30.append(do_test_within(expopre_patterns_pre_first30, expopre_labels_pre_first30, n_cells=gmin_cells))\n",
    "    gmin_scores_expopre_first30.append(do_test_cross(expopre_patterns_expo_first30, expopre_labels_expo_first30,\n",
    "                                        expopre_patterns_pre_first30, expopre_labels_pre_first30, n_cells=gmin_cells))\n",
    "    print \".\","
   ]
  },
  {
   "cell_type": "code",
   "execution_count": null,
   "metadata": {
    "collapsed": false
   },
   "outputs": [],
   "source": [
    "%%time\n",
    "\n",
    "gmin_scores_prepost_pre = []\n",
    "gmin_scores_prepost_post = []\n",
    "gmin_scores_prepost = []\n",
    "for i in range(50):\n",
    "    gmin_scores_prepost_pre.append(do_test_within(prepost_patterns_pre, prepost_labels_pre, n_cells=gmin_cells))\n",
    "    gmin_scores_prepost_post.append(do_test_within(prepost_patterns_post, prepost_labels_post, n_cells=gmin_cells))\n",
    "    gmin_scores_prepost.append(do_test_cross(prepost_patterns_pre, prepost_labels_pre,\n",
    "                                        prepost_patterns_post, prepost_labels_post, n_cells=gmin_cells))\n",
    "    print \".\","
   ]
  },
  {
   "cell_type": "code",
   "execution_count": null,
   "metadata": {
    "collapsed": false
   },
   "outputs": [],
   "source": [
    "%%time\n",
    "\n",
    "gmin_scores_preext1_pre = []\n",
    "gmin_scores_preext1_ext1 = []\n",
    "gmin_scores_preext1 = []\n",
    "for i in range(50):\n",
    "    gmin_scores_preext1_pre.append(do_test_within(preext1_patterns_pre, preext1_labels_pre, n_cells=gmin_cells))\n",
    "    gmin_scores_preext1_ext1.append(do_test_within(preext1_patterns_ext1, preext1_labels_ext1, n_cells=gmin_cells))\n",
    "    gmin_scores_preext1.append(do_test_cross(preext1_patterns_pre, preext1_labels_pre,\n",
    "                                        preext1_patterns_ext1, preext1_labels_ext1, n_cells=gmin_cells))\n",
    "    print \".\","
   ]
  },
  {
   "cell_type": "code",
   "execution_count": null,
   "metadata": {
    "collapsed": false
   },
   "outputs": [],
   "source": [
    "%%time\n",
    "\n",
    "gmin_scores_preext2_pre = []\n",
    "gmin_scores_preext2_ext2 = []\n",
    "gmin_scores_preext2 = []\n",
    "for i in range(50):\n",
    "    gmin_scores_preext2_pre.append(do_test_within(preext2_patterns_pre, preext2_labels_pre, n_cells=gmin_cells))\n",
    "    gmin_scores_preext2_ext2.append(do_test_within(preext2_patterns_ext2, preext2_labels_ext2, n_cells=gmin_cells))\n",
    "    gmin_scores_preext2.append(do_test_cross(preext2_patterns_pre, preext2_labels_pre,\n",
    "                                        preext2_patterns_ext2, preext2_labels_ext2, n_cells=gmin_cells))\n",
    "    print \".\","
   ]
  },
  {
   "cell_type": "code",
   "execution_count": null,
   "metadata": {
    "collapsed": false
   },
   "outputs": [],
   "source": [
    "%%time\n",
    "\n",
    "gmin_scores_prerenew_pre = []\n",
    "gmin_scores_prerenew_renew = []\n",
    "gmin_scores_prerenew = []\n",
    "for i in range(50):\n",
    "    gmin_scores_prerenew_pre.append(do_test_within(prerenew_patterns_pre, prerenew_labels_pre, n_cells=gmin_cells))\n",
    "    gmin_scores_prerenew_renew.append(do_test_within(prerenew_patterns_renew, prerenew_labels_renew, n_cells=gmin_cells))\n",
    "    gmin_scores_prerenew.append(do_test_cross(prerenew_patterns_pre, prerenew_labels_pre,\n",
    "                                        prerenew_patterns_renew, prerenew_labels_renew, n_cells=gmin_cells))\n",
    "    print \".\","
   ]
  },
  {
   "cell_type": "code",
   "execution_count": null,
   "metadata": {
    "collapsed": false
   },
   "outputs": [],
   "source": [
    "%%time\n",
    "gmin_scores_postext1_post = []\n",
    "gmin_scores_postext1_ext1 = []\n",
    "gmin_scores_postext1 = []\n",
    "for i in range(50):\n",
    "    gmin_scores_postext1_post.append(do_test_within(postext1_patterns_post, postext1_labels_post, n_cells=gmin_cells))\n",
    "    gmin_scores_postext1_ext1.append(do_test_within(postext1_patterns_ext1, postext1_labels_ext1, n_cells=gmin_cells))\n",
    "    gmin_scores_postext1.append(do_test_cross(postext1_patterns_post, postext1_labels_post,\n",
    "                                         postext1_patterns_ext1, postext1_labels_ext1, n_cells=gmin_cells))\n",
    "\n",
    "    print \".\","
   ]
  },
  {
   "cell_type": "code",
   "execution_count": null,
   "metadata": {
    "collapsed": false
   },
   "outputs": [],
   "source": [
    "%%time\n",
    "gmin_scores_postext2_post = []\n",
    "gmin_scores_postext2_ext2 = []\n",
    "gmin_scores_postext2 = []\n",
    "for i in range(50):\n",
    "    gmin_scores_postext2_post.append(do_test_within(postext2_patterns_post, postext2_labels_post, n_cells=gmin_cells))\n",
    "    gmin_scores_postext2_ext2.append(do_test_within(postext2_patterns_ext2, postext2_labels_ext2, n_cells=gmin_cells))\n",
    "    gmin_scores_postext2.append(do_test_cross(postext2_patterns_post, postext2_labels_post,\n",
    "                                         postext2_patterns_ext2, postext2_labels_ext2, n_cells=gmin_cells))\n",
    "\n",
    "    print \".\","
   ]
  },
  {
   "cell_type": "code",
   "execution_count": null,
   "metadata": {
    "collapsed": false
   },
   "outputs": [],
   "source": [
    "%%time\n",
    "gmin_scores_postrenew_post = []\n",
    "gmin_scores_postrenew_renew = []\n",
    "gmin_scores_postrenew = []\n",
    "for i in range(50):\n",
    "    gmin_scores_postrenew_post.append(do_test_within(postrenew_patterns_post, postrenew_labels_post, n_cells=gmin_cells))\n",
    "    gmin_scores_postrenew_renew.append(do_test_within(postrenew_patterns_renew, postrenew_labels_renew, n_cells=gmin_cells))\n",
    "    gmin_scores_postrenew.append(do_test_cross(postrenew_patterns_post, postrenew_labels_post,\n",
    "                                         postrenew_patterns_renew, postrenew_labels_renew, n_cells=gmin_cells))\n",
    "\n",
    "    print \".\","
   ]
  },
  {
   "cell_type": "code",
   "execution_count": null,
   "metadata": {
    "collapsed": false
   },
   "outputs": [],
   "source": [
    "%%time\n",
    "gmin_scores_ext1ext2_ext1 = []\n",
    "gmin_scores_ext1ext2_ext2 = []\n",
    "gmin_scores_ext1ext2 = []\n",
    "for i in range(50):\n",
    "    gmin_scores_ext1ext2_ext1.append(do_test_within(ext1ext2_patterns_ext1, ext1ext2_labels_ext1, n_cells=gmin_cells))\n",
    "    gmin_scores_ext1ext2_ext2.append(do_test_within(ext1ext2_patterns_ext2, ext1ext2_labels_ext2, n_cells=gmin_cells))\n",
    "    gmin_scores_ext1ext2.append(do_test_cross(ext1ext2_patterns_ext1, ext1ext2_labels_ext1,\n",
    "                                         ext1ext2_patterns_ext2, ext1ext2_labels_ext2, n_cells=gmin_cells))\n",
    "\n",
    "    print \".\","
   ]
  },
  {
   "cell_type": "code",
   "execution_count": null,
   "metadata": {
    "collapsed": false
   },
   "outputs": [],
   "source": [
    "%%time\n",
    "gmin_scores_ext1renew_ext1 = []\n",
    "gmin_scores_ext1renew_renew = []\n",
    "gmin_scores_ext1renew = []\n",
    "for i in range(50):\n",
    "    gmin_scores_ext1renew_ext1.append(do_test_within(ext1renew_patterns_ext1, ext1renew_labels_ext1, n_cells=gmin_cells))\n",
    "    gmin_scores_ext1renew_renew.append(do_test_within(ext1renew_patterns_renew, ext1renew_labels_renew, n_cells=gmin_cells))\n",
    "    gmin_scores_ext1renew.append(do_test_cross(ext1renew_patterns_ext1, ext1renew_labels_ext1,\n",
    "                                         ext1renew_patterns_renew, ext1renew_labels_renew, n_cells=gmin_cells))\n",
    "\n",
    "    print \".\","
   ]
  },
  {
   "cell_type": "code",
   "execution_count": null,
   "metadata": {
    "collapsed": false
   },
   "outputs": [],
   "source": [
    "%%time\n",
    "gmin_scores_ext2renew_ext2 = []\n",
    "gmin_scores_ext2renew_renew = []\n",
    "gmin_scores_ext2renew = []\n",
    "for i in range(50):\n",
    "    gmin_scores_ext2renew_ext2.append(do_test_within(ext2renew_patterns_ext2, ext2renew_labels_ext2, n_cells=gmin_cells))\n",
    "    gmin_scores_ext2renew_renew.append(do_test_within(ext2renew_patterns_renew, ext2renew_labels_renew, n_cells=gmin_cells))\n",
    "    gmin_scores_ext2renew.append(do_test_cross(ext2renew_patterns_ext2, ext2renew_labels_ext2,\n",
    "                                         ext2renew_patterns_renew, ext2renew_labels_renew, n_cells=gmin_cells))\n",
    "\n",
    "    print \".\","
   ]
  },
  {
   "cell_type": "code",
   "execution_count": null,
   "metadata": {
    "collapsed": true
   },
   "outputs": [],
   "source": []
  },
  {
   "cell_type": "code",
   "execution_count": null,
   "metadata": {
    "collapsed": false
   },
   "outputs": [],
   "source": [
    "%%time\n",
    "\n",
    "gmin_scores_CS_expopre_expo_first30 = []\n",
    "gmin_scores_CS_expopre_pre_first30 = []\n",
    "gmin_scores_CS_expopre_first30 = []\n",
    "for i in range(50):\n",
    "    gmin_scores_CS_expopre_expo_first30.append(do_test_within(expopre_patterns_CS_expo_first30, expopre_labels_expo_first30, n_cells=gmin_cells))\n",
    "    gmin_scores_CS_expopre_pre_first30.append(do_test_within(expopre_patterns_CS_pre_first30, expopre_labels_pre_first30, n_cells=gmin_cells))\n",
    "    gmin_scores_CS_expopre_first30.append(do_test_cross(expopre_patterns_CS_expo_first30, expopre_labels_expo_first30,\n",
    "                                        expopre_patterns_CS_pre_first30, expopre_labels_pre_first30, n_cells=gmin_cells))\n",
    "    print \".\","
   ]
  },
  {
   "cell_type": "code",
   "execution_count": null,
   "metadata": {
    "collapsed": false
   },
   "outputs": [],
   "source": [
    "%%time\n",
    "\n",
    "gmin_scores_CS_prepost_pre = []\n",
    "gmin_scores_CS_prepost_post = []\n",
    "gmin_scores_CS_prepost = []\n",
    "for i in range(50):\n",
    "    gmin_scores_CS_prepost_pre.append(do_test_within(prepost_patterns_CS_pre, prepost_labels_pre, n_cells=gmin_cells))\n",
    "    gmin_scores_CS_prepost_post.append(do_test_within(prepost_patterns_CS_post, prepost_labels_post, n_cells=gmin_cells))\n",
    "    gmin_scores_CS_prepost.append(do_test_cross(prepost_patterns_CS_pre, prepost_labels_pre,\n",
    "                                        prepost_patterns_CS_post, prepost_labels_post, n_cells=gmin_cells))\n",
    "    print \".\","
   ]
  },
  {
   "cell_type": "code",
   "execution_count": null,
   "metadata": {
    "collapsed": false
   },
   "outputs": [],
   "source": [
    "%%time\n",
    "\n",
    "gmin_scores_CS_preext1_pre = []\n",
    "gmin_scores_CS_preext1_ext1 = []\n",
    "gmin_scores_CS_preext1 = []\n",
    "for i in range(50):\n",
    "    gmin_scores_CS_preext1_pre.append(do_test_within(preext1_patterns_CS_pre, preext1_labels_pre, n_cells=gmin_cells))\n",
    "    gmin_scores_CS_preext1_ext1.append(do_test_within(preext1_patterns_CS_ext1, preext1_labels_ext1, n_cells=gmin_cells))\n",
    "    gmin_scores_CS_preext1.append(do_test_cross(preext1_patterns_CS_pre, preext1_labels_pre,\n",
    "                                        preext1_patterns_CS_ext1, preext1_labels_ext1, n_cells=gmin_cells))\n",
    "    print \".\","
   ]
  },
  {
   "cell_type": "code",
   "execution_count": null,
   "metadata": {
    "collapsed": false
   },
   "outputs": [],
   "source": [
    "%%time\n",
    "\n",
    "gmin_scores_CS_preext2_pre = []\n",
    "gmin_scores_CS_preext2_ext2 = []\n",
    "gmin_scores_CS_preext2 = []\n",
    "for i in range(50):\n",
    "    gmin_scores_CS_preext2_pre.append(do_test_within(preext2_patterns_CS_pre, preext2_labels_pre, n_cells=gmin_cells))\n",
    "    gmin_scores_CS_preext2_ext2.append(do_test_within(preext2_patterns_CS_ext2, preext2_labels_ext2, n_cells=gmin_cells))\n",
    "    gmin_scores_CS_preext2.append(do_test_cross(preext2_patterns_CS_pre, preext2_labels_pre,\n",
    "                                        preext2_patterns_CS_ext2, preext2_labels_ext2, n_cells=gmin_cells))\n",
    "    print \".\","
   ]
  },
  {
   "cell_type": "code",
   "execution_count": null,
   "metadata": {
    "collapsed": false
   },
   "outputs": [],
   "source": [
    "%%time\n",
    "\n",
    "gmin_scores_CS_prerenew_pre = []\n",
    "gmin_scores_CS_prerenew_renew = []\n",
    "gmin_scores_CS_prerenew = []\n",
    "for i in range(50):\n",
    "    gmin_scores_CS_prerenew_pre.append(do_test_within(prerenew_patterns_CS_pre, prerenew_labels_pre, n_cells=gmin_cells))\n",
    "    gmin_scores_CS_prerenew_renew.append(do_test_within(prerenew_patterns_CS_renew, prerenew_labels_renew, n_cells=gmin_cells))\n",
    "    gmin_scores_CS_prerenew.append(do_test_cross(prerenew_patterns_CS_pre, prerenew_labels_pre,\n",
    "                                        prerenew_patterns_CS_renew, prerenew_labels_renew, n_cells=gmin_cells))\n",
    "    print \".\","
   ]
  },
  {
   "cell_type": "code",
   "execution_count": null,
   "metadata": {
    "collapsed": false
   },
   "outputs": [],
   "source": [
    "%%time\n",
    "gmin_scores_CS_postext1_post = []\n",
    "gmin_scores_CS_postext1_ext1 = []\n",
    "gmin_scores_CS_postext1 = []\n",
    "for i in range(50):\n",
    "    gmin_scores_CS_postext1_post.append(do_test_within(postext1_patterns_CS_post, postext1_labels_post, n_cells=gmin_cells))\n",
    "    gmin_scores_CS_postext1_ext1.append(do_test_within(postext1_patterns_CS_ext1, postext1_labels_ext1, n_cells=gmin_cells))\n",
    "    gmin_scores_CS_postext1.append(do_test_cross(postext1_patterns_CS_post, postext1_labels_post,\n",
    "                                         postext1_patterns_CS_ext1, postext1_labels_ext1, n_cells=gmin_cells))\n",
    "\n",
    "    print \".\","
   ]
  },
  {
   "cell_type": "code",
   "execution_count": null,
   "metadata": {
    "collapsed": false
   },
   "outputs": [],
   "source": [
    "%%time\n",
    "gmin_scores_CS_postext2_post = []\n",
    "gmin_scores_CS_postext2_ext2 = []\n",
    "gmin_scores_CS_postext2 = []\n",
    "for i in range(50):\n",
    "    gmin_scores_CS_postext2_post.append(do_test_within(postext2_patterns_CS_post, postext2_labels_post, n_cells=gmin_cells))\n",
    "    gmin_scores_CS_postext2_ext2.append(do_test_within(postext2_patterns_CS_ext2, postext2_labels_ext2, n_cells=gmin_cells))\n",
    "    gmin_scores_CS_postext2.append(do_test_cross(postext2_patterns_CS_post, postext2_labels_post,\n",
    "                                         postext2_patterns_CS_ext2, postext2_labels_ext2, n_cells=gmin_cells))\n",
    "\n",
    "    print \".\","
   ]
  },
  {
   "cell_type": "code",
   "execution_count": null,
   "metadata": {
    "collapsed": false
   },
   "outputs": [],
   "source": [
    "%%time\n",
    "gmin_scores_CS_postrenew_post = []\n",
    "gmin_scores_CS_postrenew_renew = []\n",
    "gmin_scores_CS_postrenew = []\n",
    "for i in range(50):\n",
    "    gmin_scores_CS_postrenew_post.append(do_test_within(postrenew_patterns_CS_post, postrenew_labels_post, n_cells=gmin_cells))\n",
    "    gmin_scores_CS_postrenew_renew.append(do_test_within(postrenew_patterns_CS_renew, postrenew_labels_renew, n_cells=gmin_cells))\n",
    "    gmin_scores_CS_postrenew.append(do_test_cross(postrenew_patterns_CS_post, postrenew_labels_post,\n",
    "                                         postrenew_patterns_CS_renew, postrenew_labels_renew, n_cells=gmin_cells))\n",
    "\n",
    "    print \".\","
   ]
  },
  {
   "cell_type": "code",
   "execution_count": null,
   "metadata": {
    "collapsed": false
   },
   "outputs": [],
   "source": [
    "%%time\n",
    "gmin_scores_CS_ext1ext2_ext1 = []\n",
    "gmin_scores_CS_ext1ext2_ext2 = []\n",
    "gmin_scores_CS_ext1ext2 = []\n",
    "for i in range(50):\n",
    "    gmin_scores_CS_ext1ext2_ext1.append(do_test_within(ext1ext2_patterns_CS_ext1, ext1ext2_labels_ext1, n_cells=gmin_cells))\n",
    "    gmin_scores_CS_ext1ext2_ext2.append(do_test_within(ext1ext2_patterns_CS_ext2, ext1ext2_labels_ext2, n_cells=gmin_cells))\n",
    "    gmin_scores_CS_ext1ext2.append(do_test_cross(ext1ext2_patterns_CS_ext1, ext1ext2_labels_ext1,\n",
    "                                         ext1ext2_patterns_CS_ext2, ext1ext2_labels_ext2, n_cells=gmin_cells))\n",
    "\n",
    "    print \".\","
   ]
  },
  {
   "cell_type": "code",
   "execution_count": null,
   "metadata": {
    "collapsed": false
   },
   "outputs": [],
   "source": [
    "%%time\n",
    "gmin_scores_CS_ext1renew_ext1 = []\n",
    "gmin_scores_CS_ext1renew_renew = []\n",
    "gmin_scores_CS_ext1renew = []\n",
    "for i in range(50):\n",
    "    gmin_scores_CS_ext1renew_ext1.append(do_test_within(ext1renew_patterns_CS_ext1, ext1renew_labels_ext1, n_cells=gmin_cells))\n",
    "    gmin_scores_CS_ext1renew_renew.append(do_test_within(ext1renew_patterns_CS_renew, ext1renew_labels_renew, n_cells=gmin_cells))\n",
    "    gmin_scores_CS_ext1renew.append(do_test_cross(ext1renew_patterns_CS_ext1, ext1renew_labels_ext1,\n",
    "                                         ext1renew_patterns_CS_renew, ext1renew_labels_renew, n_cells=gmin_cells))\n",
    "\n",
    "    print \".\","
   ]
  },
  {
   "cell_type": "code",
   "execution_count": null,
   "metadata": {
    "collapsed": false
   },
   "outputs": [],
   "source": [
    "%%time\n",
    "gmin_scores_CS_ext2renew_ext2 = []\n",
    "gmin_scores_CS_ext2renew_renew = []\n",
    "gmin_scores_CS_ext2renew = []\n",
    "for i in range(50):\n",
    "    gmin_scores_CS_ext2renew_ext2.append(do_test_within(ext2renew_patterns_CS_ext2, ext2renew_labels_ext2, n_cells=gmin_cells))\n",
    "    gmin_scores_CS_ext2renew_renew.append(do_test_within(ext2renew_patterns_CS_renew, ext2renew_labels_renew, n_cells=gmin_cells))\n",
    "    gmin_scores_CS_ext2renew.append(do_test_cross(ext2renew_patterns_CS_ext2, ext2renew_labels_ext2,\n",
    "                                         ext2renew_patterns_CS_renew, ext2renew_labels_renew, n_cells=gmin_cells))\n",
    "\n",
    "    print \".\","
   ]
  },
  {
   "cell_type": "code",
   "execution_count": null,
   "metadata": {
    "collapsed": false
   },
   "outputs": [],
   "source": [
    "comparisons = 'expopre_first30','prepost','preext1','preext2','prerenew','postext1','postext2','postrenew','ext1ext2','ext1renew','ext2renew'\n",
    "\n",
    "scores_CS_gmin={}\n",
    "scores_tr_gmin={}\n",
    "\n",
    "for comp in comparisons:\n",
    "    exec('scores_CS_gmin[comp]=np.concatenate(gmin_scores_CS_%s)'%comp)\n",
    "for comp in comparisons:\n",
    "    exec('scores_tr_gmin[comp]=np.concatenate(gmin_scores_%s)'%comp)"
   ]
  },
  {
   "cell_type": "markdown",
   "metadata": {},
   "source": [
    "# now use a modified gmin of 200 cells (only dhpc pre-ext1 and pre-renew have < 200 cells)"
   ]
  },
  {
   "cell_type": "code",
   "execution_count": null,
   "metadata": {
    "collapsed": false
   },
   "outputs": [],
   "source": [
    "%%time\n",
    "\n",
    "scores_200_expopre_expo_first30 = []\n",
    "scores_200_expopre_pre_first30 = []\n",
    "scores_200_expopre_first30 = []\n",
    "for i in range(50):\n",
    "    scores_200_expopre_expo_first30.append(do_test_within(expopre_patterns_expo_first30, expopre_labels_expo_first30, n_cells=200))\n",
    "    scores_200_expopre_pre_first30.append(do_test_within(expopre_patterns_pre_first30, expopre_labels_pre_first30, n_cells=200))\n",
    "    scores_200_expopre_first30.append(do_test_cross(expopre_patterns_expo_first30, expopre_labels_expo_first30,\n",
    "                                        expopre_patterns_pre_first30, expopre_labels_pre_first30, n_cells=200))\n",
    "    print \".\","
   ]
  },
  {
   "cell_type": "code",
   "execution_count": null,
   "metadata": {
    "collapsed": false
   },
   "outputs": [],
   "source": [
    "%%time\n",
    "\n",
    "scores_200_prepost_pre = []\n",
    "scores_200_prepost_post = []\n",
    "scores_200_prepost = []\n",
    "for i in range(50):\n",
    "    scores_200_prepost_pre.append(do_test_within(prepost_patterns_pre, prepost_labels_pre, n_cells=200))\n",
    "    scores_200_prepost_post.append(do_test_within(prepost_patterns_post, prepost_labels_post, n_cells=200))\n",
    "    scores_200_prepost.append(do_test_cross(prepost_patterns_pre, prepost_labels_pre,\n",
    "                                        prepost_patterns_post, prepost_labels_post, n_cells=200))\n",
    "    print \".\","
   ]
  },
  {
   "cell_type": "code",
   "execution_count": null,
   "metadata": {
    "collapsed": false
   },
   "outputs": [],
   "source": [
    "%%time\n",
    "\n",
    "scores_200_preext1_pre = []\n",
    "scores_200_preext1_ext1 = []\n",
    "scores_200_preext1 = []\n",
    "for i in range(50):\n",
    "    scores_200_preext1_pre.append(do_test_within(preext1_patterns_pre, preext1_labels_pre, n_cells=200))\n",
    "    scores_200_preext1_ext1.append(do_test_within(preext1_patterns_ext1, preext1_labels_ext1, n_cells=200))\n",
    "    scores_200_preext1.append(do_test_cross(preext1_patterns_pre, preext1_labels_pre,\n",
    "                                        preext1_patterns_ext1, preext1_labels_ext1, n_cells=200))\n",
    "    print \".\","
   ]
  },
  {
   "cell_type": "code",
   "execution_count": null,
   "metadata": {
    "collapsed": false
   },
   "outputs": [],
   "source": [
    "%%time\n",
    "\n",
    "scores_200_preext2_pre = []\n",
    "scores_200_preext2_ext2 = []\n",
    "scores_200_preext2 = []\n",
    "for i in range(50):\n",
    "    scores_200_preext2_pre.append(do_test_within(preext2_patterns_pre, preext2_labels_pre, n_cells=200))\n",
    "    scores_200_preext2_ext2.append(do_test_within(preext2_patterns_ext2, preext2_labels_ext2, n_cells=200))\n",
    "    scores_200_preext2.append(do_test_cross(preext2_patterns_pre, preext2_labels_pre,\n",
    "                                        preext2_patterns_ext2, preext2_labels_ext2, n_cells=200))\n",
    "    print \".\","
   ]
  },
  {
   "cell_type": "code",
   "execution_count": null,
   "metadata": {
    "collapsed": false
   },
   "outputs": [],
   "source": [
    "%%time\n",
    "\n",
    "scores_200_prerenew_pre = []\n",
    "scores_200_prerenew_renew = []\n",
    "scores_200_prerenew = []\n",
    "for i in range(50):\n",
    "    scores_200_prerenew_pre.append(do_test_within(prerenew_patterns_pre, prerenew_labels_pre, n_cells=200))\n",
    "    scores_200_prerenew_renew.append(do_test_within(prerenew_patterns_renew, prerenew_labels_renew, n_cells=200))\n",
    "    scores_200_prerenew.append(do_test_cross(prerenew_patterns_pre, prerenew_labels_pre,\n",
    "                                        prerenew_patterns_renew, prerenew_labels_renew, n_cells=200))\n",
    "    print \".\","
   ]
  },
  {
   "cell_type": "code",
   "execution_count": null,
   "metadata": {
    "collapsed": false
   },
   "outputs": [],
   "source": [
    "%%time\n",
    "scores_200_postext1_post = []\n",
    "scores_200_postext1_ext1 = []\n",
    "scores_200_postext1 = []\n",
    "for i in range(50):\n",
    "    scores_200_postext1_post.append(do_test_within(postext1_patterns_post, postext1_labels_post, n_cells=200))\n",
    "    scores_200_postext1_ext1.append(do_test_within(postext1_patterns_ext1, postext1_labels_ext1, n_cells=200))\n",
    "    scores_200_postext1.append(do_test_cross(postext1_patterns_post, postext1_labels_post,\n",
    "                                         postext1_patterns_ext1, postext1_labels_ext1, n_cells=200))\n",
    "\n",
    "    print \".\","
   ]
  },
  {
   "cell_type": "code",
   "execution_count": null,
   "metadata": {
    "collapsed": false
   },
   "outputs": [],
   "source": [
    "%%time\n",
    "scores_200_postext2_post = []\n",
    "scores_200_postext2_ext2 = []\n",
    "scores_200_postext2 = []\n",
    "for i in range(50):\n",
    "    scores_200_postext2_post.append(do_test_within(postext2_patterns_post, postext2_labels_post, n_cells=200))\n",
    "    scores_200_postext2_ext2.append(do_test_within(postext2_patterns_ext2, postext2_labels_ext2, n_cells=200))\n",
    "    scores_200_postext2.append(do_test_cross(postext2_patterns_post, postext2_labels_post,\n",
    "                                         postext2_patterns_ext2, postext2_labels_ext2, n_cells=200))\n",
    "\n",
    "    print \".\","
   ]
  },
  {
   "cell_type": "code",
   "execution_count": null,
   "metadata": {
    "collapsed": false
   },
   "outputs": [],
   "source": [
    "%%time\n",
    "scores_200_postrenew_post = []\n",
    "scores_200_postrenew_renew = []\n",
    "scores_200_postrenew = []\n",
    "for i in range(50):\n",
    "    scores_200_postrenew_post.append(do_test_within(postrenew_patterns_post, postrenew_labels_post, n_cells=200))\n",
    "    scores_200_postrenew_renew.append(do_test_within(postrenew_patterns_renew, postrenew_labels_renew, n_cells=200))\n",
    "    scores_200_postrenew.append(do_test_cross(postrenew_patterns_post, postrenew_labels_post,\n",
    "                                         postrenew_patterns_renew, postrenew_labels_renew, n_cells=200))\n",
    "\n",
    "    print \".\","
   ]
  },
  {
   "cell_type": "code",
   "execution_count": null,
   "metadata": {
    "collapsed": false
   },
   "outputs": [],
   "source": [
    "%%time\n",
    "scores_200_ext1ext2_ext1 = []\n",
    "scores_200_ext1ext2_ext2 = []\n",
    "scores_200_ext1ext2 = []\n",
    "for i in range(50):\n",
    "    scores_200_ext1ext2_ext1.append(do_test_within(ext1ext2_patterns_ext1, ext1ext2_labels_ext1, n_cells=200))\n",
    "    scores_200_ext1ext2_ext2.append(do_test_within(ext1ext2_patterns_ext2, ext1ext2_labels_ext2, n_cells=200))\n",
    "    scores_200_ext1ext2.append(do_test_cross(ext1ext2_patterns_ext1, ext1ext2_labels_ext1,\n",
    "                                         ext1ext2_patterns_ext2, ext1ext2_labels_ext2, n_cells=200))\n",
    "\n",
    "    print \".\","
   ]
  },
  {
   "cell_type": "code",
   "execution_count": null,
   "metadata": {
    "collapsed": false
   },
   "outputs": [],
   "source": [
    "%%time\n",
    "scores_200_ext1renew_ext1 = []\n",
    "scores_200_ext1renew_renew = []\n",
    "scores_200_ext1renew = []\n",
    "for i in range(50):\n",
    "    scores_200_ext1renew_ext1.append(do_test_within(ext1renew_patterns_ext1, ext1renew_labels_ext1, n_cells=200))\n",
    "    scores_200_ext1renew_renew.append(do_test_within(ext1renew_patterns_renew, ext1renew_labels_renew, n_cells=200))\n",
    "    scores_200_ext1renew.append(do_test_cross(ext1renew_patterns_ext1, ext1renew_labels_ext1,\n",
    "                                         ext1renew_patterns_renew, ext1renew_labels_renew, n_cells=200))\n",
    "\n",
    "    print \".\","
   ]
  },
  {
   "cell_type": "code",
   "execution_count": null,
   "metadata": {
    "collapsed": false
   },
   "outputs": [],
   "source": [
    "%%time\n",
    "scores_200_ext2renew_ext2 = []\n",
    "scores_200_ext2renew_renew = []\n",
    "scores_200_ext2renew = []\n",
    "for i in range(50):\n",
    "    scores_200_ext2renew_ext2.append(do_test_within(ext2renew_patterns_ext2, ext2renew_labels_ext2, n_cells=200))\n",
    "    scores_200_ext2renew_renew.append(do_test_within(ext2renew_patterns_renew, ext2renew_labels_renew, n_cells=200))\n",
    "    scores_200_ext2renew.append(do_test_cross(ext2renew_patterns_ext2, ext2renew_labels_ext2,\n",
    "                                         ext2renew_patterns_renew, ext2renew_labels_renew, n_cells=200))\n",
    "\n",
    "    print \".\","
   ]
  },
  {
   "cell_type": "code",
   "execution_count": null,
   "metadata": {
    "collapsed": true
   },
   "outputs": [],
   "source": []
  },
  {
   "cell_type": "code",
   "execution_count": null,
   "metadata": {
    "collapsed": false
   },
   "outputs": [],
   "source": [
    "%%time\n",
    "\n",
    "scores_200_CS_expopre_expo_first30 = []\n",
    "scores_200_CS_expopre_pre_first30 = []\n",
    "scores_200_CS_expopre_first30 = []\n",
    "for i in range(50):\n",
    "    scores_200_CS_expopre_expo_first30.append(do_test_within(expopre_patterns_CS_expo_first30, expopre_labels_expo_first30, n_cells=200))\n",
    "    scores_200_CS_expopre_pre_first30.append(do_test_within(expopre_patterns_CS_pre_first30, expopre_labels_pre_first30, n_cells=200))\n",
    "    scores_200_CS_expopre_first30.append(do_test_cross(expopre_patterns_CS_expo_first30, expopre_labels_expo_first30,\n",
    "                                        expopre_patterns_CS_pre_first30, expopre_labels_pre_first30, n_cells=200))\n",
    "    print \".\","
   ]
  },
  {
   "cell_type": "code",
   "execution_count": null,
   "metadata": {
    "collapsed": false
   },
   "outputs": [],
   "source": [
    "%%time\n",
    "\n",
    "scores_200_CS_prepost_pre = []\n",
    "scores_200_CS_prepost_post = []\n",
    "scores_200_CS_prepost = []\n",
    "for i in range(50):\n",
    "    scores_200_CS_prepost_pre.append(do_test_within(prepost_patterns_CS_pre, prepost_labels_pre, n_cells=200))\n",
    "    scores_200_CS_prepost_post.append(do_test_within(prepost_patterns_CS_post, prepost_labels_post, n_cells=200))\n",
    "    scores_200_CS_prepost.append(do_test_cross(prepost_patterns_CS_pre, prepost_labels_pre,\n",
    "                                        prepost_patterns_CS_post, prepost_labels_post, n_cells=200))\n",
    "    print \".\","
   ]
  },
  {
   "cell_type": "code",
   "execution_count": null,
   "metadata": {
    "collapsed": false
   },
   "outputs": [],
   "source": [
    "%%time\n",
    "\n",
    "scores_200_CS_preext1_pre = []\n",
    "scores_200_CS_preext1_ext1 = []\n",
    "scores_200_CS_preext1 = []\n",
    "for i in range(50):\n",
    "    scores_200_CS_preext1_pre.append(do_test_within(preext1_patterns_CS_pre, preext1_labels_pre, n_cells=200))\n",
    "    scores_200_CS_preext1_ext1.append(do_test_within(preext1_patterns_CS_ext1, preext1_labels_ext1, n_cells=200))\n",
    "    scores_200_CS_preext1.append(do_test_cross(preext1_patterns_CS_pre, preext1_labels_pre,\n",
    "                                        preext1_patterns_CS_ext1, preext1_labels_ext1, n_cells=200))\n",
    "    print \".\","
   ]
  },
  {
   "cell_type": "code",
   "execution_count": null,
   "metadata": {
    "collapsed": false
   },
   "outputs": [],
   "source": [
    "%%time\n",
    "\n",
    "scores_200_CS_preext2_pre = []\n",
    "scores_200_CS_preext2_ext2 = []\n",
    "scores_200_CS_preext2 = []\n",
    "for i in range(50):\n",
    "    scores_200_CS_preext2_pre.append(do_test_within(preext2_patterns_CS_pre, preext2_labels_pre, n_cells=200))\n",
    "    scores_200_CS_preext2_ext2.append(do_test_within(preext2_patterns_CS_ext2, preext2_labels_ext2, n_cells=200))\n",
    "    scores_200_CS_preext2.append(do_test_cross(preext2_patterns_CS_pre, preext2_labels_pre,\n",
    "                                        preext2_patterns_CS_ext2, preext2_labels_ext2, n_cells=200))\n",
    "    print \".\","
   ]
  },
  {
   "cell_type": "code",
   "execution_count": null,
   "metadata": {
    "collapsed": false
   },
   "outputs": [],
   "source": [
    "%%time\n",
    "\n",
    "scores_200_CS_prerenew_pre = []\n",
    "scores_200_CS_prerenew_renew = []\n",
    "scores_200_CS_prerenew = []\n",
    "for i in range(50):\n",
    "    scores_200_CS_prerenew_pre.append(do_test_within(prerenew_patterns_CS_pre, prerenew_labels_pre, n_cells=200))\n",
    "    scores_200_CS_prerenew_renew.append(do_test_within(prerenew_patterns_CS_renew, prerenew_labels_renew, n_cells=200))\n",
    "    scores_200_CS_prerenew.append(do_test_cross(prerenew_patterns_CS_pre, prerenew_labels_pre,\n",
    "                                        prerenew_patterns_CS_renew, prerenew_labels_renew, n_cells=200))\n",
    "    print \".\","
   ]
  },
  {
   "cell_type": "code",
   "execution_count": null,
   "metadata": {
    "collapsed": false
   },
   "outputs": [],
   "source": [
    "%%time\n",
    "scores_200_CS_postext1_post = []\n",
    "scores_200_CS_postext1_ext1 = []\n",
    "scores_200_CS_postext1 = []\n",
    "for i in range(50):\n",
    "    scores_200_CS_postext1_post.append(do_test_within(postext1_patterns_CS_post, postext1_labels_post, n_cells=200))\n",
    "    scores_200_CS_postext1_ext1.append(do_test_within(postext1_patterns_CS_ext1, postext1_labels_ext1, n_cells=200))\n",
    "    scores_200_CS_postext1.append(do_test_cross(postext1_patterns_CS_post, postext1_labels_post,\n",
    "                                         postext1_patterns_CS_ext1, postext1_labels_ext1, n_cells=200))\n",
    "\n",
    "    print \".\","
   ]
  },
  {
   "cell_type": "code",
   "execution_count": null,
   "metadata": {
    "collapsed": false
   },
   "outputs": [],
   "source": [
    "%%time\n",
    "scores_200_CS_postext2_post = []\n",
    "scores_200_CS_postext2_ext2 = []\n",
    "scores_200_CS_postext2 = []\n",
    "for i in range(50):\n",
    "    scores_200_CS_postext2_post.append(do_test_within(postext2_patterns_CS_post, postext2_labels_post, n_cells=200))\n",
    "    scores_200_CS_postext2_ext2.append(do_test_within(postext2_patterns_CS_ext2, postext2_labels_ext2, n_cells=200))\n",
    "    scores_200_CS_postext2.append(do_test_cross(postext2_patterns_CS_post, postext2_labels_post,\n",
    "                                         postext2_patterns_CS_ext2, postext2_labels_ext2, n_cells=200))\n",
    "\n",
    "    print \".\","
   ]
  },
  {
   "cell_type": "code",
   "execution_count": null,
   "metadata": {
    "collapsed": false
   },
   "outputs": [],
   "source": [
    "%%time\n",
    "scores_200_CS_postrenew_post = []\n",
    "scores_200_CS_postrenew_renew = []\n",
    "scores_200_CS_postrenew = []\n",
    "for i in range(50):\n",
    "    scores_200_CS_postrenew_post.append(do_test_within(postrenew_patterns_CS_post, postrenew_labels_post, n_cells=200))\n",
    "    scores_200_CS_postrenew_renew.append(do_test_within(postrenew_patterns_CS_renew, postrenew_labels_renew, n_cells=200))\n",
    "    scores_200_CS_postrenew.append(do_test_cross(postrenew_patterns_CS_post, postrenew_labels_post,\n",
    "                                         postrenew_patterns_CS_renew, postrenew_labels_renew, n_cells=200))\n",
    "\n",
    "    print \".\","
   ]
  },
  {
   "cell_type": "code",
   "execution_count": null,
   "metadata": {
    "collapsed": false
   },
   "outputs": [],
   "source": [
    "%%time\n",
    "scores_200_CS_ext1ext2_ext1 = []\n",
    "scores_200_CS_ext1ext2_ext2 = []\n",
    "scores_200_CS_ext1ext2 = []\n",
    "for i in range(50):\n",
    "    scores_200_CS_ext1ext2_ext1.append(do_test_within(ext1ext2_patterns_CS_ext1, ext1ext2_labels_ext1, n_cells=200))\n",
    "    scores_200_CS_ext1ext2_ext2.append(do_test_within(ext1ext2_patterns_CS_ext2, ext1ext2_labels_ext2, n_cells=200))\n",
    "    scores_200_CS_ext1ext2.append(do_test_cross(ext1ext2_patterns_CS_ext1, ext1ext2_labels_ext1,\n",
    "                                         ext1ext2_patterns_CS_ext2, ext1ext2_labels_ext2, n_cells=200))\n",
    "\n",
    "    print \".\","
   ]
  },
  {
   "cell_type": "code",
   "execution_count": null,
   "metadata": {
    "collapsed": false
   },
   "outputs": [],
   "source": [
    "%%time\n",
    "scores_200_CS_ext1renew_ext1 = []\n",
    "scores_200_CS_ext1renew_renew = []\n",
    "scores_200_CS_ext1renew = []\n",
    "for i in range(50):\n",
    "    scores_200_CS_ext1renew_ext1.append(do_test_within(ext1renew_patterns_CS_ext1, ext1renew_labels_ext1, n_cells=200))\n",
    "    scores_200_CS_ext1renew_renew.append(do_test_within(ext1renew_patterns_CS_renew, ext1renew_labels_renew, n_cells=200))\n",
    "    scores_200_CS_ext1renew.append(do_test_cross(ext1renew_patterns_CS_ext1, ext1renew_labels_ext1,\n",
    "                                         ext1renew_patterns_CS_renew, ext1renew_labels_renew, n_cells=200))\n",
    "\n",
    "    print \".\","
   ]
  },
  {
   "cell_type": "code",
   "execution_count": null,
   "metadata": {
    "collapsed": false
   },
   "outputs": [],
   "source": [
    "%%time\n",
    "scores_200_CS_ext2renew_ext2 = []\n",
    "scores_200_CS_ext2renew_renew = []\n",
    "scores_200_CS_ext2renew = []\n",
    "for i in range(50):\n",
    "    scores_200_CS_ext2renew_ext2.append(do_test_within(ext2renew_patterns_CS_ext2, ext2renew_labels_ext2, n_cells=200))\n",
    "    scores_200_CS_ext2renew_renew.append(do_test_within(ext2renew_patterns_CS_renew, ext2renew_labels_renew, n_cells=200))\n",
    "    scores_200_CS_ext2renew.append(do_test_cross(ext2renew_patterns_CS_ext2, ext2renew_labels_ext2,\n",
    "                                         ext2renew_patterns_CS_renew, ext2renew_labels_renew, n_cells=200))\n",
    "\n",
    "    print \".\","
   ]
  },
  {
   "cell_type": "code",
   "execution_count": null,
   "metadata": {
    "collapsed": false
   },
   "outputs": [],
   "source": [
    "comparisons = 'expopre_first30','prepost','preext1','preext2','prerenew','postext1','postext2','postrenew','ext1ext2','ext1renew','ext2renew'\n",
    "\n",
    "scores_CS_200={}\n",
    "scores_tr_200={}\n",
    "\n",
    "for comp in comparisons:\n",
    "    exec('scores_CS_200[comp]=np.concatenate(scores_200_CS_%s)'%comp)\n",
    "for comp in comparisons:\n",
    "    exec('scores_tr_200[comp]=np.concatenate(scores_200_%s)'%comp)"
   ]
  },
  {
   "cell_type": "code",
   "execution_count": null,
   "metadata": {
    "collapsed": false
   },
   "outputs": [],
   "source": [
    "save_workspace(db)"
   ]
  },
  {
   "cell_type": "code",
   "execution_count": null,
   "metadata": {
    "collapsed": true
   },
   "outputs": [],
   "source": []
  }
 ],
 "metadata": {
  "anaconda-cloud": {},
  "kernelspec": {
   "display_name": "Python [default]",
   "language": "python",
   "name": "python2"
  },
  "language_info": {
   "codemirror_mode": {
    "name": "ipython",
    "version": 2
   },
   "file_extension": ".py",
   "mimetype": "text/x-python",
   "name": "python",
   "nbconvert_exporter": "python",
   "pygments_lexer": "ipython2",
   "version": "2.7.12"
  },
  "nbpresent": {
   "slides": {
    "0d986ed2-5f0a-4fb5-bef8-671b9a7944c2": {
     "id": "0d986ed2-5f0a-4fb5-bef8-671b9a7944c2",
     "layout": "grid",
     "prev": null,
     "regions": {
      "8225e319-a034-4787-b6c3-67ba18e539df": {
       "attrs": {
        "height": 1,
        "pad": 0.01,
        "treemap:weight": 1,
        "width": 0.5,
        "x": 0.5,
        "y": 0
       },
       "id": "8225e319-a034-4787-b6c3-67ba18e539df"
      },
      "da963486-c522-4461-b750-f656e415a1be": {
       "attrs": {
        "height": 1,
        "pad": 0.01,
        "treemap:weight": 1,
        "width": 0.5,
        "x": 0,
        "y": 0
       },
       "id": "da963486-c522-4461-b750-f656e415a1be"
      }
     }
    },
    "1735d954-277d-4120-b50d-1eda74274968": {
     "id": "1735d954-277d-4120-b50d-1eda74274968",
     "prev": "0d986ed2-5f0a-4fb5-bef8-671b9a7944c2",
     "regions": {
      "a6210379-c2c0-4a0b-b180-def0b2e45d5a": {
       "attrs": {
        "height": 1,
        "width": 1,
        "x": 0,
        "y": 0
       },
       "content": {
        "cell": "58ed5f85-9757-4f05-94ef-a631c3d9dd51",
        "part": "outputs"
       },
       "id": "a6210379-c2c0-4a0b-b180-def0b2e45d5a"
      }
     }
    },
    "17414c21-2d5e-4e85-a979-be0a81228952": {
     "id": "17414c21-2d5e-4e85-a979-be0a81228952",
     "prev": "3ba851ce-b3eb-409e-8809-d72887d124c6",
     "regions": {
      "8b369589-ef7b-40d4-986f-89079045d9ea": {
       "attrs": {
        "height": 1,
        "width": 1,
        "x": 0,
        "y": 0
       },
       "id": "8b369589-ef7b-40d4-986f-89079045d9ea"
      }
     }
    },
    "3ba851ce-b3eb-409e-8809-d72887d124c6": {
     "id": "3ba851ce-b3eb-409e-8809-d72887d124c6",
     "prev": "1735d954-277d-4120-b50d-1eda74274968",
     "regions": {
      "a70ad6eb-6c6c-4a9b-b2e6-844787805048": {
       "attrs": {
        "height": 0.7020408163265306,
        "width": 0.8377551020408163,
        "x": 0.1622448979591837,
        "y": 0.2979591836734694
       },
       "content": {
        "cell": "c50576db-4f27-48e8-a63a-42de45527151",
        "part": "outputs"
       },
       "id": "a70ad6eb-6c6c-4a9b-b2e6-844787805048"
      },
      "bebea0da-137b-4a60-9392-618d040c348d": {
       "attrs": {
        "height": 0.1360544217687075,
        "width": 0.8604591836734694,
        "x": 0.1,
        "y": 0.1
       },
       "id": "bebea0da-137b-4a60-9392-618d040c348d"
      }
     }
    }
   },
   "themes": {}
  }
 },
 "nbformat": 4,
 "nbformat_minor": 2
}
