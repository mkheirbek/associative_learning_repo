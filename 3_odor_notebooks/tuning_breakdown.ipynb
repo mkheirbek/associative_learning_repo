{
 "cells": [
  {
   "cell_type": "code",
   "execution_count": 17,
   "metadata": {
    "collapsed": false
   },
   "outputs": [
    {
     "data": {
      "text/html": [
       "<script>jQuery(function() {if (jQuery(\"body.notebook_app\").length == 0) { jQuery(\".input_area\").toggle(); jQuery(\".prompt\").toggle();}});</script>"
      ]
     },
     "metadata": {},
     "output_type": "display_data"
    },
    {
     "data": {
      "text/html": [
       "<button onclick=\"jQuery('.input_area').toggle(); jQuery('.prompt').toggle();\">Toggle code</button>"
      ]
     },
     "metadata": {},
     "output_type": "display_data"
    }
   ],
   "source": [
    "from IPython.display import display\n",
    "from IPython.display import HTML\n",
    "import IPython.core.display as di # Example: di.display_html('<h3>%s:</h3>' % str, raw=True)\n",
    "\n",
    "# This line will hide code by default when the notebook is exported as HTML\n",
    "di.display_html('<script>jQuery(function() {if (jQuery(\"body.notebook_app\").length == 0) { jQuery(\".input_area\").toggle(); jQuery(\".prompt\").toggle();}});</script>', raw=True)\n",
    "\n",
    "# This line will add a button to toggle visibility of code blocks, for use with the HTML export version\n",
    "di.display_html('''<button onclick=\"jQuery('.input_area').toggle(); jQuery('.prompt').toggle();\">Toggle code</button>''', raw=True)\n"
   ]
  },
  {
   "cell_type": "code",
   "execution_count": 18,
   "metadata": {
    "collapsed": true
   },
   "outputs": [],
   "source": [
    "# all modules necessary for this nb\n",
    "import os\n",
    "import sys\n",
    "import pickle\n",
    "\n",
    "import numpy as np\n",
    "import pylab as pl\n",
    "import scipy.stats as sstats\n",
    "\n",
    "# setting parameters for default matplotlib plots\n",
    "%matplotlib inline"
   ]
  },
  {
   "cell_type": "code",
   "execution_count": 19,
   "metadata": {
    "collapsed": false,
    "nbpresent": {
     "id": "74d6493e-cf63-4efb-8856-1394244ac4d5"
    }
   },
   "outputs": [],
   "source": [
    "pl.style.use('fabiostyle')\n",
    "\n",
    "# needs to find the library of functions\n",
    "sys.path.append('../../../code/')  # to be replaced!\n",
    "\n",
    "import utils as ut\n",
    "import plots as pt"
   ]
  },
  {
   "cell_type": "code",
   "execution_count": 20,
   "metadata": {
    "collapsed": false,
    "nbpresent": {
     "id": "6b878791-4155-40ef-82ee-10e123c8f1d8"
    }
   },
   "outputs": [],
   "source": [
    "# NOTEBOOK_NAME = NOTEBOOK_NAME.split('/')[-1][:-6]\n",
    "NOTEBOOK_NAME = 'tuning_breakdown'"
   ]
  },
  {
   "cell_type": "code",
   "execution_count": 21,
   "metadata": {
    "collapsed": false,
    "nbpresent": {
     "id": "dd42cd63-cf61-43ef-aca1-72f72cc9da73"
    }
   },
   "outputs": [],
   "source": [
    "from pickleshare import PickleShareDB\n",
    "\n",
    "autorestore_folder = os.path.join(os.getcwd(), 'autorestore', NOTEBOOK_NAME)\n",
    "db = PickleShareDB(autorestore_folder)\n",
    "import sys\n",
    "from workspace import *\n",
    "import IPython\n",
    "ip = IPython.get_ipython()\n",
    "\n",
    "# this will restore all the saved variables. ignore the errors listed.\n",
    "load_workspace(ip, db)\n",
    "\n",
    "# use `save_worspace(db)` to save variables at the end"
   ]
  },
  {
   "cell_type": "code",
   "execution_count": 22,
   "metadata": {
    "collapsed": false,
    "nbpresent": {
     "id": "b3acfa0e-305c-4909-b0b6-5578a5c69191"
    },
    "scrolled": false
   },
   "outputs": [],
   "source": [
    "from itertools import product\n",
    "def load_all_animals_vars(varname, animal_list, pilot_list=None, notebook='preprocessing'):\n",
    "    all_of_them = {}\n",
    "    for ani in animal_list:\n",
    "        folder = '../%s/notebooks/autorestore/%s/' % (ani, notebook)\n",
    "        all_of_them.update({ani: ut.load_variable(varname, folder)})\n",
    "    return all_of_them"
   ]
  },
  {
   "cell_type": "code",
   "execution_count": 80,
   "metadata": {
    "collapsed": false,
    "nbpresent": {
     "id": "74523cdf-2d7b-435d-9adb-8983b210a036"
    }
   },
   "outputs": [],
   "source": [
    "\n",
    "all_animals = 'c3f3', 'c3f2', 'c3m1', 'c3m2', 'c4m4', 'c10m6', 'c10m8', '90', '91', '92', '93'\n",
    "odor_pre_animals = 'c3f3', 'c3f2', 'c3m1', 'c3m2', 'c4m4', 'c10m6', 'c10m8', '90', '91', '92', '93'\n",
    "odor_post_animals = 'c3f3', 'c3f2', 'c3m1', 'c3m2', 'c4m4', 'c10m6', 'c10m8', '90', '91', '92', '93'\n",
    "odor_pre_rev_animals = 'c3f3', 'c3f2', 'c3m1', 'c3m2', 'c4m4', 'c10m6', 'c10m8', '90', '91', '92', '93'\n",
    "odor_post_rev_animals = 'c3f3', 'c3f2', 'c3m1', 'c3m2', 'c4m4', 'c10m6', 'c10m8', '90', '91', '92', '93'"
   ]
  },
  {
   "cell_type": "code",
   "execution_count": 81,
   "metadata": {
    "collapsed": true
   },
   "outputs": [],
   "source": [
    "sessions = '3odor_pre', '3odor_post', '3odor_pre_rev', '3odor_post_rev',"
   ]
  },
  {
   "cell_type": "code",
   "execution_count": 86,
   "metadata": {
    "collapsed": false
   },
   "outputs": [],
   "source": [
    "i=0;\n",
    "sess_without = 'odor_pre', 'odor_post', 'odor_pre_rev', 'odor_post_rev',\n",
    "for sess in sessions:\n",
    "    exec('selectivity_%s = {}'%sess_without[i])\n",
    "    for ani in eval('%s_animals'%sess_without[i]):\n",
    "        try:\n",
    "            eval('selectivity_%s'%sess_without[i]).update({ani: ut.load_variable('selectivity', '../%s/%s/notebooks/autorestore/selectivity/'%(ani, sess))})\n",
    "        except IOError:\n",
    "            continue\n",
    "    i=i+1"
   ]
  },
  {
   "cell_type": "code",
   "execution_count": 87,
   "metadata": {
    "collapsed": false
   },
   "outputs": [
    {
     "name": "stdout",
     "output_type": "stream",
     "text": [
      "9 pre post\n",
      "0 pre pre_rev\n",
      "0 pre post_rev\n",
      "0 post pre\n",
      "0 post pre_rev\n",
      "9 post post_rev\n",
      "0 pre_rev pre\n",
      "0 pre_rev post\n",
      "0 pre_rev post_rev\n",
      "0 post_rev pre\n",
      "0 post_rev post\n",
      "0 post_rev pre_rev\n"
     ]
    }
   ],
   "source": [
    "sess_reg = ['pre', 'post', 'pre_rev', 'post_rev']\n",
    "\n",
    "for s1, s2 in product(sess_reg, repeat=2):\n",
    "    if s1==s2:\n",
    "        continue\n",
    "    exec(\"cellregs_%sVS%s = {}\"%(s1, s2))\n",
    "    for ani in all_animals:\n",
    "        try:\n",
    "            eval(\"cellregs_%sVS%s\"%(s1, s2)).update({ani:ut.load_variable('cellregs',\n",
    "                                                '../%s/notebooks/autorestore/decoding_%sVS%s'%(ani, s1, s2))})\n",
    "        except:\n",
    "            pass\n",
    "    print len(eval(\"cellregs_%sVS%s\"%(s1, s2))), s1, s2"
   ]
  },
  {
   "cell_type": "code",
   "execution_count": 88,
   "metadata": {
    "collapsed": false
   },
   "outputs": [],
   "source": [
    "def extract_tuned(selectivity, which_odor, p=0.05, adjust=True):\n",
    "    pvs = np.r_[[s[0][-1] for s in selectivity[which_odor]]]\n",
    "    if adjust:\n",
    "        pvs = ut.adjust_pvalues(pvs)\n",
    "    return pvs<p"
   ]
  },
  {
   "cell_type": "code",
   "execution_count": 101,
   "metadata": {
    "collapsed": false
   },
   "outputs": [],
   "source": [
    "for sess in sess_without:\n",
    "    exec('tuned_%s_csm = {}'%sess)\n",
    "    exec('tuned_%s_csp = {}'%sess)\n",
    "    exec('tuned_%s_sh = {}'%sess)\n",
    "    for ani in eval('%s_animals'%sess):\n",
    "        try:\n",
    "            eval('tuned_%s_csm'%sess).update({ani:extract_tuned(eval('selectivity_%s'%sess)[ani], 'CSmt_tr')})\n",
    "            eval('tuned_%s_csp'%sess).update({ani:extract_tuned(eval('selectivity_%s'%sess)[ani], 'rewardt_tr')})\n",
    "            eval('tuned_%s_sh'%sess).update({ani:extract_tuned(eval('selectivity_%s'%sess)[ani], 'sht_tr')})\n",
    "        except IOError:\n",
    "            continue\n",
    "    exec(\"tuned_%s_csm = np.concatenate([eval('tuned_%s_csm')[ani]\\\n",
    "                                         for ani in eval('%s_animals')])\"%(sess, sess, sess))\n",
    "    exec(\"tuned_%s_csp = np.concatenate([eval('tuned_%s_csp')[ani]\\\n",
    "                                         for ani in eval('%s_animals')])\"%(sess, sess, sess))\n",
    "    exec(\"tuned_%s_sh = np.concatenate([eval('tuned_%s_sh')[ani]\\\n",
    "                                         for ani in eval('%s_animals')])\"%(sess, sess, sess))\n",
    "        "
   ]
  },
  {
   "cell_type": "code",
   "execution_count": 102,
   "metadata": {
    "collapsed": false
   },
   "outputs": [
    {
     "data": {
      "text/plain": [
       "<matplotlib.text.Text at 0x7fc59063b350>"
      ]
     },
     "execution_count": 102,
     "metadata": {},
     "output_type": "execute_result"
    },
    {
     "data": {
      "image/png": "[encoded data removed]",
      "text/plain": [
       "<matplotlib.figure.Figure at 0x7fc610064290>"
      ]
     },
     "metadata": {},
     "output_type": "display_data"
    }
   ],
   "source": [
    "fig, axs = pl.subplots(1, 4, figsize=(5, 1), sharex=True, sharey=True)\n",
    "\n",
    "n = len(tuned_odor_pre_csp)\n",
    "\n",
    "for ax, sess in zip(axs, sess_without):\n",
    "\n",
    "    values = [100.*eval('tuned_%s_csp'%sess).sum()/n,\n",
    "              100.*eval('tuned_%s_csm'%sess).sum()/n,\n",
    "              100.*eval('tuned_%s_sh'%sess).sum()/n,\n",
    "              100.*(eval('tuned_%s_csp'%sess)*eval('tuned_%s_csm'%sess)*eval('tuned_%s_sh'%sess)).sum()/n,]\n",
    "    pt.plot_bars(values, ax=ax, colors=['0.7', 'r', (1, 0.8, 0.8)])\n",
    "\n",
    "    ax.set_title(sess)\n",
    "    \n",
    "for ax in axs:\n",
    "    ax.set_ylim(0, 40)\n",
    "    ax.set_xticks(range(3))\n",
    "    ax.set_xticklabels(['CS+', 'CS-', 'SH+' 'CS+\\nCS-'])\n",
    "    \n",
    "axs[0].set_ylabel('Fraction of cells %')"
   ]
  },
  {
   "cell_type": "markdown",
   "metadata": {},
   "source": [
    "# above is for cellReg cells"
   ]
  },
  {
   "cell_type": "code",
   "execution_count": 103,
   "metadata": {
    "collapsed": false
   },
   "outputs": [
    {
     "data": {
      "text/plain": [
       "1090.6666666666667"
      ]
     },
     "execution_count": 103,
     "metadata": {},
     "output_type": "execute_result"
    }
   ],
   "source": [
    "np.mean([1460, 729, 985,1253, 1068, 1049])"
   ]
  },
  {
   "cell_type": "code",
   "execution_count": 104,
   "metadata": {
    "collapsed": false
   },
   "outputs": [
    {
     "name": "stdout",
     "output_type": "stream",
     "text": [
      "Could not store variable 'di'. Skipping...\n",
      "Could not store variable 'np'. Skipping...\n",
      "Could not store variable 'IPython'. Skipping...\n",
      "Could not store variable 'pt'. Skipping...\n",
      "Could not store variable 'sstats'. Skipping...\n",
      "Could not store variable 'pl'. Skipping...\n",
      "Could not store variable 'ut'. Skipping...\n",
      "Could not store variable 'pickle'. Skipping...\n",
      "Could not store variable 'ip'. Skipping...\n",
      "Could not store variable 'sys'. Skipping...\n",
      "Could not store variable 'os'. Skipping...\n"
     ]
    }
   ],
   "source": [
    "save_workspace(db)"
   ]
  },
  {
   "cell_type": "code",
   "execution_count": null,
   "metadata": {
    "collapsed": true
   },
   "outputs": [],
   "source": []
  }
 ],
 "metadata": {
  "anaconda-cloud": {},
  "kernelspec": {
   "display_name": "Python [default]",
   "language": "python",
   "name": "python2"
  },
  "language_info": {
   "codemirror_mode": {
    "name": "ipython",
    "version": 2
   },
   "file_extension": ".py",
   "mimetype": "text/x-python",
   "name": "python",
   "nbconvert_exporter": "python",
   "pygments_lexer": "ipython2",
   "version": "2.7.12"
  },
  "nbpresent": {
   "slides": {
    "0d986ed2-5f0a-4fb5-bef8-671b9a7944c2": {
     "id": "0d986ed2-5f0a-4fb5-bef8-671b9a7944c2",
     "layout": "grid",
     "prev": null,
     "regions": {
      "8225e319-a034-4787-b6c3-67ba18e539df": {
       "attrs": {
        "height": 1,
        "pad": 0.01,
        "treemap:weight": 1,
        "width": 0.5,
        "x": 0.5,
        "y": 0
       },
       "id": "8225e319-a034-4787-b6c3-67ba18e539df"
      },
      "da963486-c522-4461-b750-f656e415a1be": {
       "attrs": {
        "height": 1,
        "pad": 0.01,
        "treemap:weight": 1,
        "width": 0.5,
        "x": 0,
        "y": 0
       },
       "id": "da963486-c522-4461-b750-f656e415a1be"
      }
     }
    },
    "1735d954-277d-4120-b50d-1eda74274968": {
     "id": "1735d954-277d-4120-b50d-1eda74274968",
     "prev": "0d986ed2-5f0a-4fb5-bef8-671b9a7944c2",
     "regions": {
      "a6210379-c2c0-4a0b-b180-def0b2e45d5a": {
       "attrs": {
        "height": 1,
        "width": 1,
        "x": 0,
        "y": 0
       },
       "content": {
        "cell": "58ed5f85-9757-4f05-94ef-a631c3d9dd51",
        "part": "outputs"
       },
       "id": "a6210379-c2c0-4a0b-b180-def0b2e45d5a"
      }
     }
    },
    "17414c21-2d5e-4e85-a979-be0a81228952": {
     "id": "17414c21-2d5e-4e85-a979-be0a81228952",
     "prev": "3ba851ce-b3eb-409e-8809-d72887d124c6",
     "regions": {
      "8b369589-ef7b-40d4-986f-89079045d9ea": {
       "attrs": {
        "height": 1,
        "width": 1,
        "x": 0,
        "y": 0
       },
       "id": "8b369589-ef7b-40d4-986f-89079045d9ea"
      }
     }
    },
    "3ba851ce-b3eb-409e-8809-d72887d124c6": {
     "id": "3ba851ce-b3eb-409e-8809-d72887d124c6",
     "prev": "1735d954-277d-4120-b50d-1eda74274968",
     "regions": {
      "a70ad6eb-6c6c-4a9b-b2e6-844787805048": {
       "attrs": {
        "height": 0.7020408163265306,
        "width": 0.8377551020408163,
        "x": 0.1622448979591837,
        "y": 0.2979591836734694
       },
       "content": {
        "cell": "c50576db-4f27-48e8-a63a-42de45527151",
        "part": "outputs"
       },
       "id": "a70ad6eb-6c6c-4a9b-b2e6-844787805048"
      },
      "bebea0da-137b-4a60-9392-618d040c348d": {
       "attrs": {
        "height": 0.1360544217687075,
        "width": 0.8604591836734694,
        "x": 0.1,
        "y": 0.1
       },
       "id": "bebea0da-137b-4a60-9392-618d040c348d"
      }
     }
    }
   },
   "themes": {}
  }
 },
 "nbformat": 4,
 "nbformat_minor": 2
}
