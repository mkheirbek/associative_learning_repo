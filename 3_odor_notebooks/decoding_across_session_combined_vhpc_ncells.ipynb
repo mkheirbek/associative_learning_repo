{
 "cells": [
  {
   "cell_type": "code",
   "execution_count": 1,
   "metadata": {
    "collapsed": false
   },
   "outputs": [
    {
     "data": {
      "text/html": [
       "<script>jQuery(function() {if (jQuery(\"body.notebook_app\").length == 0) { jQuery(\".input_area\").toggle(); jQuery(\".prompt\").toggle();}});</script>"
      ]
     },
     "metadata": {},
     "output_type": "display_data"
    },
    {
     "data": {
      "text/html": [
       "<button onclick=\"jQuery('.input_area').toggle(); jQuery('.prompt').toggle();\">Toggle code</button>"
      ]
     },
     "metadata": {},
     "output_type": "display_data"
    }
   ],
   "source": [
    "from IPython.display import display\n",
    "from IPython.display import HTML\n",
    "import IPython.core.display as di # Example: di.display_html('<h3>%s:</h3>' % str, raw=True)\n",
    "\n",
    "# This line will hide code by default when the notebook is exported as HTML\n",
    "di.display_html('<script>jQuery(function() {if (jQuery(\"body.notebook_app\").length == 0) { jQuery(\".input_area\").toggle(); jQuery(\".prompt\").toggle();}});</script>', raw=True)\n",
    "\n",
    "# This line will add a button to toggle visibility of code blocks, for use with the HTML export version\n",
    "di.display_html('''<button onclick=\"jQuery('.input_area').toggle(); jQuery('.prompt').toggle();\">Toggle code</button>''', raw=True)\n"
   ]
  },
  {
   "cell_type": "code",
   "execution_count": 2,
   "metadata": {
    "collapsed": true
   },
   "outputs": [],
   "source": [
    "# all modules necessary for this nb\n",
    "import os\n",
    "import sys\n",
    "import pickle\n",
    "\n",
    "import numpy as np\n",
    "np.random.seed(0)\n",
    "import pylab as pl\n",
    "import scipy.stats as sstats\n",
    "\n",
    "# setting parameters for default matplotlib plots\n",
    "%matplotlib inline"
   ]
  },
  {
   "cell_type": "code",
   "execution_count": 3,
   "metadata": {
    "collapsed": false
   },
   "outputs": [],
   "source": [
    "pl.style.use('fabiostyle')\n",
    "# pl.rcParams['savefig.dpi'] = 300 # dpi for most publications\n",
    "# pl.rcParams['xtick.labelsize'] = 7\n",
    "# pl.rcParams['ytick.labelsize'] = 7\n",
    "# pl.rcParams['axes.labelsize'] = 7\n",
    "# pl.rcParams['axes.titlesize'] = 5\n",
    "# pl.rcParams['legend.fontsize'] = 5\n",
    "# pl.rcParams['xtick.labelsize'] = 5\n",
    "# pl.rcParams['ytick.labelsize'] = 5\n",
    "# pl.rcParams['font.size'] = 7\n",
    "\n",
    "# needs to find the library of functions\n",
    "sys.path.append('../../code/')  # to be replaced!\n",
    "\n",
    "import utils as ut\n",
    "import plots as pt"
   ]
  },
  {
   "cell_type": "code",
   "execution_count": 4,
   "metadata": {
    "collapsed": false
   },
   "outputs": [],
   "source": [
    "NOTEBOOK_NAME = 'decoding_across_session_combined_vhpc_ncells'"
   ]
  },
  {
   "cell_type": "code",
   "execution_count": 5,
   "metadata": {
    "collapsed": false
   },
   "outputs": [],
   "source": [
    "from pickleshare import PickleShareDB\n",
    "\n",
    "autorestore_folder = os.path.join(os.getcwd(), 'autorestore', NOTEBOOK_NAME)\n",
    "db = PickleShareDB(autorestore_folder)\n",
    "import sys\n",
    "from workspace import *\n",
    "import IPython\n",
    "ip = IPython.get_ipython()\n",
    "\n",
    "# this will restore all the saved variables. ignore the errors listed.\n",
    "# load_workspace(ip, db)\n",
    "\n",
    "# use `save_worspace(db)` to save variables at the end"
   ]
  },
  {
   "cell_type": "code",
   "execution_count": 6,
   "metadata": {
    "collapsed": false,
    "scrolled": false
   },
   "outputs": [],
   "source": [
    "from itertools import product\n",
    "def load_all_animals_vars(varname, animal_list, sess, pilot_list=None, notebook='preprocessing'):\n",
    "    all_of_them = {}\n",
    "    for ani in animal_list:\n",
    "        folder = '../%s/%s/notebooks/autorestore/%s/' % (ani, sess, notebook)\n",
    "        try:\n",
    "            all_of_them.update({ani: ut.load_variable(varname, folder)})\n",
    "        except IOError:\n",
    "            print \"No file %s for %s in session %s (%s).\"%(varname, ani, sess, notebook)\n",
    "    return all_of_them"
   ]
  },
  {
   "cell_type": "code",
   "execution_count": 1,
   "metadata": {
    "collapsed": false
   },
   "outputs": [
    {
     "ename": "NameError",
     "evalue": "name 'np' is not defined",
     "output_type": "error",
     "traceback": [
      "\u001b[0;31m---------------------------------------------------------------------------\u001b[0m",
      "\u001b[0;31mNameError\u001b[0m                                 Traceback (most recent call last)",
      "\u001b[0;32m<ipython-input-1-d7f6c73e226e>\u001b[0m in \u001b[0;36m<module>\u001b[0;34m()\u001b[0m\n\u001b[1;32m      6\u001b[0m \u001b[0mext2_animals\u001b[0m \u001b[0;34m=\u001b[0m  \u001b[0;34m'c3m1'\u001b[0m\u001b[0;34m,\u001b[0m \u001b[0;34m'c3m2'\u001b[0m\u001b[0;34m,\u001b[0m \u001b[0;34m'c4m3'\u001b[0m\u001b[0;34m,\u001b[0m \u001b[0;34m'c10m8'\u001b[0m\u001b[0;34m,\u001b[0m \u001b[0;34m'90'\u001b[0m\u001b[0;34m,\u001b[0m \u001b[0;34m'91'\u001b[0m\u001b[0;34m,\u001b[0m \u001b[0;34m'92'\u001b[0m\u001b[0;34m,\u001b[0m\u001b[0;34m\u001b[0m\u001b[0m\n\u001b[1;32m      7\u001b[0m \u001b[0mext1_animals\u001b[0m \u001b[0;34m=\u001b[0m  \u001b[0;34m'c3m1'\u001b[0m\u001b[0;34m,\u001b[0m \u001b[0;34m'c3m2'\u001b[0m\u001b[0;34m,\u001b[0m \u001b[0;34m'c4m3'\u001b[0m\u001b[0;34m,\u001b[0m \u001b[0;34m'c10m8'\u001b[0m\u001b[0;34m,\u001b[0m \u001b[0;34m'90'\u001b[0m\u001b[0;34m,\u001b[0m \u001b[0;34m'91'\u001b[0m\u001b[0;34m,\u001b[0m \u001b[0;34m'92'\u001b[0m\u001b[0;34m,\u001b[0m\u001b[0;31m#temp removed c10m6\u001b[0m\u001b[0;34m\u001b[0m\u001b[0m\n\u001b[0;32m----> 8\u001b[0;31m \u001b[0mext2renew_animals\u001b[0m \u001b[0;34m=\u001b[0m \u001b[0mnp\u001b[0m\u001b[0;34m.\u001b[0m\u001b[0mintersect1d\u001b[0m\u001b[0;34m(\u001b[0m\u001b[0mext2_animals\u001b[0m\u001b[0;34m,\u001b[0m \u001b[0mrenew_animals\u001b[0m\u001b[0;34m)\u001b[0m\u001b[0;34m\u001b[0m\u001b[0m\n\u001b[0m",
      "\u001b[0;31mNameError\u001b[0m: name 'np' is not defined"
     ]
    }
   ],
   "source": [
    "all_animals = 'c3f3','c3f2','c3m1', 'c3m2', 'c4m3', 'c4m4', 'c10m8', '90', '91', '92','93'\n",
    "expo_animals = 'c3f3','c3m1', 'c3m2', 'c4m3', 'c4m4', 'c10m6', 'c10m8', '90', '91', '92','93'\n",
    "pre_animals = 'c3f3','c3f2','c3m1', 'c3m2', 'c4m3', 'c4m4', 'c10m8', '90', '91', '92','93'\n",
    "post_animals = 'c3f3','c3f2','c3m1', 'c3m2', 'c4m3', 'c4m4', 'c10m6', 'c10m8', '90', '91', '92','93'\n",
    "renew_animals = 'c3f3','c3f2','c3m1', 'c3m2', 'c4m3', 'c10m6', 'c10m8', '90', '91', '92',\n",
    "ext2_animals =  'c3m1', 'c3m2', 'c4m3', 'c10m8', '90', '91', '92',\n",
    "ext1_animals =  'c3m1', 'c3m2', 'c4m3', 'c10m8', '90', '91', '92',#temp removed c10m6\n",
    "ext2renew_animals = np.intersect1d(ext2_animals, renew_animals)"
   ]
  },
  {
   "cell_type": "code",
   "execution_count": 8,
   "metadata": {
    "collapsed": false
   },
   "outputs": [],
   "source": [
    "#find animals common to both sessions\n",
    "prepost_animals = np.intersect1d(pre_animals, post_animals)\n",
    "postrenew_animals = np.intersect1d(post_animals, renew_animals)\n",
    "postext1_animals = np.intersect1d(post_animals, ext1_animals)\n",
    "postext2_animals = np.intersect1d(post_animals, ext2_animals)\n",
    "ext2renew_animals = np.intersect1d(ext2_animals, renew_animals)"
   ]
  },
  {
   "cell_type": "code",
   "execution_count": 9,
   "metadata": {
    "collapsed": false
   },
   "outputs": [],
   "source": [
    "prepost_patterns_pre = load_all_animals_vars('patterns_evs_pre', prepost_animals, '', notebook='decoding_preVSpost')\n",
    "                \n",
    "prepost_patterns_post = load_all_animals_vars('patterns_evs_post', prepost_animals, '', notebook='decoding_preVSpost')\n",
    "                                            \n",
    "prepost_labels_pre = load_all_animals_vars('labels_pre',prepost_animals, '', notebook='decoding_preVSpost')\n",
    "\n",
    "prepost_labels_post = load_all_animals_vars('labels_post',prepost_animals, '', notebook='decoding_preVSpost')\n",
    "\n",
    "postrenew_patterns_post = load_all_animals_vars('patterns_evs_post',postrenew_animals, '', notebook='decoding_postVSrenew')\n",
    "\n",
    "postrenew_patterns_renew = load_all_animals_vars('patterns_evs_renew',postrenew_animals, '', notebook='decoding_postVSrenew')\n",
    "                                              \n",
    "postrenew_labels_post = load_all_animals_vars('labels_post',postrenew_animals, '', notebook='decoding_postVSrenew')\n",
    "\n",
    "postrenew_labels_renew = load_all_animals_vars('labels_renew',postrenew_animals, '', notebook='decoding_postVSrenew')\n",
    "\n",
    "postext2_patterns_post = load_all_animals_vars('patterns_evs_post',postext2_animals, '', notebook='decoding_postVSext2')\n",
    "\n",
    "postext2_patterns_ext2 = load_all_animals_vars('patterns_evs_ext2',postext2_animals, '', notebook='decoding_postVSext2')\n",
    "\n",
    "postext2_labels_post = load_all_animals_vars('labels_post',postext2_animals, '', notebook='decoding_postVSext2')\n",
    "\n",
    "postext2_labels_ext2 = load_all_animals_vars('labels_ext2',postext2_animals, '', notebook='decoding_postVSext2')\n",
    "\n",
    "postext1_patterns_post = load_all_animals_vars('patterns_evs_post',postext1_animals, '', notebook='decoding_postVSext1')\n",
    "\n",
    "postext1_patterns_ext1 = load_all_animals_vars('patterns_evs_ext1',postext1_animals, '', notebook='decoding_postVSext1')\n",
    "\n",
    "postext1_labels_post = load_all_animals_vars('labels_post',postext1_animals, '', notebook='decoding_postVSext1')\n",
    "\n",
    "postext1_labels_ext1 = load_all_animals_vars('labels_ext1',postext1_animals, '', notebook='decoding_postVSext1')\n",
    "\n",
    "ext2renew_patterns_renew = load_all_animals_vars('patterns_evs_renew',ext2renew_animals, '', notebook='decoding_ext2VSrenew')\n",
    "\n",
    "ext2renew_patterns_ext2 = load_all_animals_vars('patterns_evs_ext2',ext2renew_animals, '', notebook='decoding_ext2VSrenew')\n",
    "\n",
    "ext2renew_labels_renew = load_all_animals_vars('labels_renew',ext2renew_animals, '', notebook='decoding_ext2VSrenew')\n",
    "\n",
    "ext2renew_labels_ext2 = load_all_animals_vars('labels_ext2',ext2renew_animals, '', notebook='decoding_ext2VSrenew')"
   ]
  },
  {
   "cell_type": "code",
   "execution_count": null,
   "metadata": {
    "collapsed": true
   },
   "outputs": [],
   "source": [
    "#expopre_patterns_expo = load_all_animals_vars('patterns_evs_expo',expopre_animals, '', notebook='decoding_expovspre')\n",
    "#expopre_patterns_pre = load_all_animals_vars('patterns_evs_pre',expopre_animals, '', notebook='decoding_expovspre')\n",
    "#expopre_labels_expo = load_all_animals_vars('labels_expo',expopre_animals, '', notebook='decoding_expovspre')\n",
    "#expopre_labels_pre = load_all_animals_vars('labels_pre',expopre_animals, '', notebook='decoding_expovspre')\n",
    "#expopre_patterns_expo = load_all_animals_vars('patterns_evs_expo',expopost_animals, '', notebook='decoding_expovspost')\n",
    "#expopre_patterns_post = load_all_animals_vars('patterns_evs_post',expopost_animals, '', notebook='decoding_expovspost')\n",
    "#expopre_labels_expo = load_all_animals_vars('labels_expo',expopost_animals, '', notebook='decoding_expovspost')\n",
    "#expopre_labels_post = load_all_animals_vars('labels_post',expopost_animals, '', notebook='decoding_expovspost')\n",
    "#expopre_patterns_expo = load_all_animals_vars('patterns_evs_expo',expoext1_animals, '', notebook='decoding_expovsext1')\n",
    "#expopre_patterns_ext1 = load_all_animals_vars('patterns_evs_ext1',expoext1_animals, '', notebook='decoding_expovsext1')\n",
    "#expopre_labels_expo = load_all_animals_vars('labels_expo',expoext1_animals, '', notebook='decoding_expovsext1')\n",
    "#expopre_labels_ext1 = load_all_animals_vars('labels_ext1',expoext1_animals, '', notebook='decoding_expovsext1')\n",
    "#expopre_patterns_expo = load_all_animals_vars('patterns_evs_expo',expoext2_animals, '', notebook='decoding_expovsext2')\n",
    "#expopre_patterns_ext2 = load_all_animals_vars('patterns_evs_ext2',expoext2_animals, '', notebook='decoding_expovsext2')\n",
    "#expopre_labels_expo = load_all_animals_vars('labels_expo',expoext2_animals, '', notebook='decoding_expovsext2')\n",
    "#expopre_labels_ext2 = load_all_animals_vars('labels_ext2',expoext2_animals, '', notebook='decoding_expovsext2')\n",
    "#expopre_patterns_expo = load_all_animals_vars('patterns_evs_expo',exporenew_animals, '', notebook='decoding_expovsrenew')\n",
    "#expopre_patterns_renew = load_all_animals_vars('patterns_evs_renew',exporenew_animals, '', notebook='decoding_expovsrenew')\n",
    "#expopre_labels_expo = load_all_animals_vars('labels_expo',exporenew_animals, '', notebook='decoding_expovsrenew')\n",
    "#expopre_labels_renew = load_all_animals_vars('labels_renew',exporenew_animals, '', notebook='decoding_expovsrenew')"
   ]
  },
  {
   "cell_type": "code",
   "execution_count": 10,
   "metadata": {
    "collapsed": false
   },
   "outputs": [],
   "source": [
    "from sklearn.svm import SVC\n",
    "\n",
    "decoder = SVC(kernel='linear', decision_function_shape='ovo')\n",
    "def do_test_cross(patterns_t, labels_t, patterns_T, labels_T, n_cells=None):\n",
    "#     which_train = range(90)\n",
    "#     which_test = range(90)\n",
    "    patterns_comb_train, labels_comb = ut.combine_patterns(patterns_t, labels_t)\n",
    "    patterns_comb_test, labels_comb = ut.combine_patterns(patterns_T, labels_T)\n",
    "    if n_cells is None:\n",
    "        cells = list(range(patterns_comb_train.shape[1]))\n",
    "    else:\n",
    "        cells = np.random.choice(range(patterns_comb_train.shape[1]), size=n_cells, replace=False)\n",
    "    decoder.fit(patterns_comb_train[:, cells], labels_comb)\n",
    "    scores = decoder.score(patterns_comb_test[:, cells], labels_comb)\n",
    "    decoder.fit(patterns_comb_test[:, cells], labels_comb)\n",
    "    return np.append(scores, decoder.score(patterns_comb_train[:, cells], labels_comb))"
   ]
  },
  {
   "cell_type": "code",
   "execution_count": 11,
   "metadata": {
    "collapsed": false
   },
   "outputs": [],
   "source": [
    "from sklearn.model_selection import KFold, LeaveOneOut\n",
    "\n",
    "decoder = SVC(kernel='linear', decision_function_shape='ovo')\n",
    "def do_test_within(patterns, labels, n_cells=None):\n",
    "#     which_train = range(90)\n",
    "#     which_test = range(90)\n",
    "#    cv = KFold(n_splits=10)\n",
    "    cv = LeaveOneOut()\n",
    "    \n",
    "    which_train = {}\n",
    "    which_test = {}\n",
    "    for ani in patterns.keys():\n",
    "        which_train_a = np.random.permutation(np.where(labels[ani]==0)[0])\n",
    "        which_test_a = which_train_a[:len(which_train_a)/2]\n",
    "        which_train_a = which_train_a[len(which_train_a)/2:]\n",
    "        \n",
    "        which_train_b = np.random.permutation(np.where(labels[ani]==1)[0])\n",
    "        which_test_b = which_train_b[:len(which_train_b)/2]\n",
    "        which_train_b = which_train_b[len(which_train_b)/2:]\n",
    "        \n",
    "        which_train[ani] = np.concatenate((which_train_a, which_train_b))\n",
    "        which_test[ani] = np.concatenate((which_test_a, which_test_b))\n",
    "    \n",
    "    patterns_t = patterns.copy()\n",
    "    labels_t = labels.copy()\n",
    "    patterns_T = patterns.copy()\n",
    "    labels_T = labels.copy()\n",
    "    for ani in patterns.keys():\n",
    "        patterns_t[ani] = patterns[ani][which_train[ani]]\n",
    "        labels_t[ani] = labels[ani][which_train[ani]]\n",
    "        patterns_T[ani] = patterns[ani][which_test[ani]]\n",
    "        labels_T[ani] = labels[ani][which_test[ani]]\n",
    "    patterns_comb_train, labels_comb = ut.combine_patterns(patterns_t, labels_t)\n",
    "    patterns_comb_test, labels_comb = ut.combine_patterns(patterns_T, labels_T)\n",
    "    if n_cells is None:\n",
    "        cells = list(range(patterns_comb_train.shape[1]))\n",
    "    else:\n",
    "        cells = np.random.choice(range(patterns_comb_train.shape[1]), size=n_cells, replace=False)\n",
    "    decoder.fit(patterns_comb_train[:, cells], labels_comb)\n",
    "    \n",
    "    return decoder.score(patterns_comb_test[:, cells], labels_comb)"
   ]
  },
  {
   "cell_type": "code",
   "execution_count": 12,
   "metadata": {
    "collapsed": false
   },
   "outputs": [
    {
     "name": "stdout",
     "output_type": "stream",
     "text": [
      "total_cells_prepost_vHPC = 253\n",
      "total_cells_postrenew_vHPC = 272\n",
      "total_cells_postext1_vHPC = 180\n",
      "total_cells_postext2_vHPC = 200\n",
      "total_cells_ext2renew_vHPC = 229\n"
     ]
    }
   ],
   "source": [
    "#get number of vHPC cells used for decoding\n",
    "cell_total = ['total_cells_prepost', 'total_cells_postrenew','total_cells_postext1','total_cells_postext2','total_cells_ext2renew']\n",
    "for tot in cell_total:\n",
    "    what = ut.load_variable('%s'%(tot), '../notebooks/autorestore/decoding_across_session_combined_vhpc/')\n",
    "    exec('%s_vHPC = what'%(tot))\n",
    "    print '%s_vHPC ='%(tot),\n",
    "    print what"
   ]
  },
  {
   "cell_type": "code",
   "execution_count": 13,
   "metadata": {
    "collapsed": false
   },
   "outputs": [
    {
     "name": "stdout",
     "output_type": "stream",
     "text": [
      "total_cells_prepost_dHPC = 285\n",
      "total_cells_postrenew_dHPC = 241\n",
      "total_cells_postext1_dHPC = 435\n",
      "total_cells_postext2_dHPC = 455\n",
      "total_cells_ext2renew_dHPC = 308\n"
     ]
    }
   ],
   "source": [
    "#get number of dHPC cells used for decoding\n",
    "cell_total = ['total_cells_prepost', 'total_cells_postrenew','total_cells_postext1','total_cells_postext2','total_cells_ext2renew']\n",
    "for tot in cell_total:\n",
    "    what = ut.load_variable('%s'%(tot), '../notebooks/autorestore/decoding_across_session_combined_dhpc/')\n",
    "    exec('%s_dHPC = what'%(tot))\n",
    "    print '%s_dHPC ='%(tot),\n",
    "    print what"
   ]
  },
  {
   "cell_type": "code",
   "execution_count": 14,
   "metadata": {
    "collapsed": false
   },
   "outputs": [
    {
     "name": "stdout",
     "output_type": "stream",
     "text": [
      ". . . . . . . . . . . . . . . . . . . . . . . . . . . . . . . . . . . . . . . . . . . . . . . . . .CPU times: user 17.3 s, sys: 96 ms, total: 17.4 s\n",
      "Wall time: 17.3 s\n",
      "\n"
     ]
    }
   ],
   "source": [
    "%%time\n",
    "\n",
    "scores_prepost_pre = []\n",
    "scores_prepost_post = []\n",
    "scores_prepost = []\n",
    "n_cells = np.min((total_cells_prepost_vHPC, total_cells_prepost_dHPC))\n",
    "for i in range(50):\n",
    "    scores_prepost_pre.append(do_test_within(prepost_patterns_pre, prepost_labels_pre, n_cells=n_cells))\n",
    "    scores_prepost_post.append(do_test_within(prepost_patterns_post, prepost_labels_post, n_cells=n_cells))\n",
    "    scores_prepost.append(do_test_cross(prepost_patterns_pre, prepost_labels_pre,\n",
    "                                        prepost_patterns_post, prepost_labels_post, n_cells=n_cells))\n",
    "    print \".\","
   ]
  },
  {
   "cell_type": "code",
   "execution_count": 15,
   "metadata": {
    "collapsed": false
   },
   "outputs": [
    {
     "name": "stdout",
     "output_type": "stream",
     "text": [
      ". . . . . . . . . . . . . . . . . . . . . . . . . . . . . . . . . . . . . . . . . . . . . . . . . .CPU times: user 9.04 s, sys: 52 ms, total: 9.09 s\n",
      "Wall time: 9.04 s\n",
      "\n"
     ]
    }
   ],
   "source": [
    "%%time\n",
    "scores_postext2_post = []\n",
    "scores_postext2_ext2 = []\n",
    "scores_postext2 = []\n",
    "n_cells = np.min((total_cells_postext2_vHPC, total_cells_postext2_dHPC))\n",
    "for i in range(50):\n",
    "    scores_postext2_post.append(do_test_within(postext2_patterns_post, postext2_labels_post, n_cells=n_cells))\n",
    "    scores_postext2_ext2.append(do_test_within(postext2_patterns_ext2, postext2_labels_ext2, n_cells=n_cells))\n",
    "    scores_postext2.append(do_test_cross(postext2_patterns_post, postext2_labels_post,\n",
    "                                         postext2_patterns_ext2, postext2_labels_ext2, n_cells=n_cells))\n",
    "\n",
    "    print \".\","
   ]
  },
  {
   "cell_type": "code",
   "execution_count": 16,
   "metadata": {
    "collapsed": false
   },
   "outputs": [
    {
     "name": "stdout",
     "output_type": "stream",
     "text": [
      ". . . . . . . . . . . . . . . . . . . . . . . . . . . . . . . . . . . . . . . . . . . . . . . . . .CPU times: user 7.12 s, sys: 52 ms, total: 7.18 s\n",
      "Wall time: 7.13 s\n",
      "\n"
     ]
    }
   ],
   "source": [
    "%%time\n",
    "scores_postext1_post = []\n",
    "scores_postext1_ext1 = []\n",
    "scores_postext1 = []\n",
    "n_cells = np.min((total_cells_postext1_vHPC, total_cells_postext1_dHPC))\n",
    "for i in range(50):\n",
    "    scores_postext1_post.append(do_test_within(postext1_patterns_post, postext1_labels_post, n_cells=n_cells))\n",
    "    scores_postext1_ext1.append(do_test_within(postext1_patterns_ext1, postext1_labels_ext1, n_cells=n_cells))\n",
    "    scores_postext1.append(do_test_cross(postext1_patterns_post, postext1_labels_post,\n",
    "                                         postext1_patterns_ext1, postext1_labels_ext1, n_cells=n_cells))\n",
    "\n",
    "    print \".\","
   ]
  },
  {
   "cell_type": "code",
   "execution_count": 17,
   "metadata": {
    "collapsed": false
   },
   "outputs": [
    {
     "name": "stdout",
     "output_type": "stream",
     "text": [
      ". . . . . . . . . . . . . . . . . . . . . . . . . . . . . . . . . . . . . . . . . . . . . . . . . .CPU times: user 9.21 s, sys: 20 ms, total: 9.23 s\n",
      "Wall time: 9.17 s\n",
      "\n"
     ]
    }
   ],
   "source": [
    "%%time\n",
    "scores_ext2renew_ext2 = []\n",
    "scores_ext2renew_renew = []\n",
    "scores_ext2renew = []\n",
    "n_cells = np.min((total_cells_ext2renew_vHPC, total_cells_ext2renew_dHPC))\n",
    "for i in range(50):\n",
    "    scores_ext2renew_ext2.append(do_test_within(ext2renew_patterns_ext2, ext2renew_labels_ext2, n_cells=n_cells))\n",
    "    scores_ext2renew_renew.append(do_test_within(ext2renew_patterns_renew, ext2renew_labels_renew, n_cells=n_cells))\n",
    "    scores_ext2renew.append(do_test_cross(ext2renew_patterns_ext2, ext2renew_labels_ext2,\n",
    "                                         ext2renew_patterns_renew, ext2renew_labels_renew, n_cells=n_cells))\n",
    "\n",
    "    print \".\","
   ]
  },
  {
   "cell_type": "code",
   "execution_count": 18,
   "metadata": {
    "collapsed": false
   },
   "outputs": [
    {
     "name": "stdout",
     "output_type": "stream",
     "text": [
      ". . . . . . . . . . . . . . . . . . . . . . . . . . . . . . . . . . . . . . . . . . . . . . . . . .CPU times: user 10.3 s, sys: 36 ms, total: 10.4 s\n",
      "Wall time: 10.3 s\n",
      "\n"
     ]
    }
   ],
   "source": [
    "%%time\n",
    "scores_postrenew_post = []\n",
    "scores_postrenew_renew = []\n",
    "scores_postrenew = []\n",
    "n_cells = np.min((total_cells_postrenew_vHPC, total_cells_postrenew_dHPC))\n",
    "for i in range(50):\n",
    "    scores_postrenew_post.append(do_test_within(postrenew_patterns_post, postrenew_labels_post, n_cells=n_cells))\n",
    "    scores_postrenew_renew.append(do_test_within(postrenew_patterns_renew, postrenew_labels_renew, n_cells=n_cells))\n",
    "    scores_postrenew.append(do_test_cross(postrenew_patterns_post, postrenew_labels_post,\n",
    "                                         postrenew_patterns_renew, postrenew_labels_renew, n_cells=n_cells))\n",
    "\n",
    "    print \".\","
   ]
  },
  {
   "cell_type": "code",
   "execution_count": 19,
   "metadata": {
    "collapsed": false
   },
   "outputs": [
    {
     "name": "stdout",
     "output_type": "stream",
     "text": [
      "Could not store variable 'di'. Skipping...\n",
      "Could not store variable 'os'. Skipping...\n",
      "Could not store variable 'IPython'. Skipping...\n",
      "Could not store variable 'pt'. Skipping...\n",
      "Could not store variable 'sstats'. Skipping...\n",
      "Could not store variable 'pl'. Skipping...\n",
      "Could not store variable 'ut'. Skipping...\n",
      "Could not store variable 'pickle'. Skipping...\n",
      "Could not store variable 'ip'. Skipping...\n",
      "Could not store variable 'np'. Skipping...\n",
      "Could not store variable 'sys'. Skipping...\n"
     ]
    }
   ],
   "source": [
    "save_workspace(db)"
   ]
  },
  {
   "cell_type": "code",
   "execution_count": null,
   "metadata": {
    "collapsed": true
   },
   "outputs": [],
   "source": []
  }
 ],
 "metadata": {
  "anaconda-cloud": {},
  "kernelspec": {
   "display_name": "Python [default]",
   "language": "python",
   "name": "python2"
  },
  "language_info": {
   "codemirror_mode": {
    "name": "ipython",
    "version": 2
   },
   "file_extension": ".py",
   "mimetype": "text/x-python",
   "name": "python",
   "nbconvert_exporter": "python",
   "pygments_lexer": "ipython2",
   "version": "2.7.12"
  },
  "nbpresent": {
   "slides": {
    "0d986ed2-5f0a-4fb5-bef8-671b9a7944c2": {
     "id": "0d986ed2-5f0a-4fb5-bef8-671b9a7944c2",
     "layout": "grid",
     "prev": null,
     "regions": {
      "8225e319-a034-4787-b6c3-67ba18e539df": {
       "attrs": {
        "height": 1,
        "pad": 0.01,
        "treemap:weight": 1,
        "width": 0.5,
        "x": 0.5,
        "y": 0
       },
       "id": "8225e319-a034-4787-b6c3-67ba18e539df"
      },
      "da963486-c522-4461-b750-f656e415a1be": {
       "attrs": {
        "height": 1,
        "pad": 0.01,
        "treemap:weight": 1,
        "width": 0.5,
        "x": 0,
        "y": 0
       },
       "id": "da963486-c522-4461-b750-f656e415a1be"
      }
     }
    },
    "1735d954-277d-4120-b50d-1eda74274968": {
     "id": "1735d954-277d-4120-b50d-1eda74274968",
     "prev": "0d986ed2-5f0a-4fb5-bef8-671b9a7944c2",
     "regions": {
      "a6210379-c2c0-4a0b-b180-def0b2e45d5a": {
       "attrs": {
        "height": 1,
        "width": 1,
        "x": 0,
        "y": 0
       },
       "content": {
        "cell": "58ed5f85-9757-4f05-94ef-a631c3d9dd51",
        "part": "outputs"
       },
       "id": "a6210379-c2c0-4a0b-b180-def0b2e45d5a"
      }
     }
    },
    "17414c21-2d5e-4e85-a979-be0a81228952": {
     "id": "17414c21-2d5e-4e85-a979-be0a81228952",
     "prev": "3ba851ce-b3eb-409e-8809-d72887d124c6",
     "regions": {
      "8b369589-ef7b-40d4-986f-89079045d9ea": {
       "attrs": {
        "height": 1,
        "width": 1,
        "x": 0,
        "y": 0
       },
       "id": "8b369589-ef7b-40d4-986f-89079045d9ea"
      }
     }
    },
    "3ba851ce-b3eb-409e-8809-d72887d124c6": {
     "id": "3ba851ce-b3eb-409e-8809-d72887d124c6",
     "prev": "1735d954-277d-4120-b50d-1eda74274968",
     "regions": {
      "a70ad6eb-6c6c-4a9b-b2e6-844787805048": {
       "attrs": {
        "height": 0.7020408163265306,
        "width": 0.8377551020408163,
        "x": 0.1622448979591837,
        "y": 0.2979591836734694
       },
       "content": {
        "cell": "c50576db-4f27-48e8-a63a-42de45527151",
        "part": "outputs"
       },
       "id": "a70ad6eb-6c6c-4a9b-b2e6-844787805048"
      },
      "bebea0da-137b-4a60-9392-618d040c348d": {
       "attrs": {
        "height": 0.1360544217687075,
        "width": 0.8604591836734694,
        "x": 0.1,
        "y": 0.1
       },
       "id": "bebea0da-137b-4a60-9392-618d040c348d"
      }
     }
    }
   },
   "themes": {}
  }
 },
 "nbformat": 4,
 "nbformat_minor": 2
}
