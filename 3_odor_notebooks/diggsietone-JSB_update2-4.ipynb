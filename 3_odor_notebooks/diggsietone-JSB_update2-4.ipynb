{
 "cells": [
  {
   "cell_type": "markdown",
   "metadata": {},
   "source": [
    "# Diggsietone is for associative learning experiments"
   ]
  },
  {
   "cell_type": "markdown",
   "metadata": {},
   "source": [
    "# What's new in 2.2:\n",
    "* added similarity_list.txt output\n",
    "* changed baseline period for stability analysis from 4 - 2s prior to CS onset, to 2 - 0s prior\n",
    "* avg heatmap now presents normalized averages for each cell\n",
    "* multiple cosmetic changes to graphs/figures\n",
    "\n",
    "# 2.3:\n",
    "* fixed selectivity output that was incorrectly assigning US timeframe for trace selectivity analysis for rewarded and not rewarded CS+ trials\n",
    "\n",
    "# 2.4:\n",
    "* incorporated the quantity of \"stable\" (non selective) cells as part of the output file for cell selectivites\n",
    "* percent selective output file created"
   ]
  },
  {
   "cell_type": "markdown",
   "metadata": {},
   "source": [
    "### Importing everything necessary to run notebook"
   ]
  },
  {
   "cell_type": "code",
   "execution_count": null,
   "metadata": {
    "collapsed": false
   },
   "outputs": [],
   "source": [
    "\n",
    "from IPython.display import display\n",
    "from IPython.display import HTML\n",
    "import IPython.core.display as di # Example: di.display_html('<h3>%s:</h3>' % str, raw=True)\n",
    "\n",
    "# This line will hide code by default when the notebook is exported as HTML\n",
    "di.display_html('<script>jQuery(function() {if (jQuery(\"body.notebook_app\").length == 0) { jQuery(\".input_area\").toggle(); jQuery(\".prompt\").toggle();}});</script>', raw=True)\n",
    "\n",
    "# This line will add a button to toggle visibility of code blocks, for use with the HTML export version\n",
    "di.display_html('''<button onclick=\"jQuery('.input_area').toggle(); jQuery('.prompt').toggle();\">Toggle code</button>''', raw=True)\n"
   ]
  },
  {
   "cell_type": "code",
   "execution_count": null,
   "metadata": {
    "collapsed": true
   },
   "outputs": [],
   "source": [
    "# all modules necessary for this nb\n",
    "import os\n",
    "import sys\n",
    "import pickle\n",
    "\n",
    "import numpy as np\n",
    "import pylab as pl\n",
    "from sklearn.covariance import EmpiricalCovariance\n",
    "from sklearn.cluster import KMeans, AffinityPropagation\n",
    "from sklearn.metrics import silhouette_score as clust_score\n",
    "from sklearn.preprocessing import StandardScaler\n",
    "from scipy import stats as sstats\n",
    "\n",
    "# setting parameters for default matplotlib plots\n",
    "%matplotlib inline\n",
    "pl.rcParams['savefig.dpi'] = 300 # dpi for most publications\n",
    "pl.rcParams['figure.dpi'] = 300 # dpi for most publications\n",
    "pl.rcParams['xtick.labelsize'] = 7\n",
    "pl.rcParams['ytick.labelsize'] = 7\n",
    "pl.rcParams['axes.labelsize'] = 7\n",
    "from ipywidgets import interact\n",
    "\n",
    "# needs to find the library of functions\n",
    "sys.path.append('/home/fabios/code/forco/')  # to be replaced!\n",
    "\n",
    "import utils as ut\n",
    "import plots as pt"
   ]
  },
  {
   "cell_type": "code",
   "execution_count": null,
   "metadata": {
    "collapsed": true
   },
   "outputs": [],
   "source": [
    "# a double percentage sign indicates a magic function. in this case, now we are writing this cell in javascript."
   ]
  },
  {
   "cell_type": "code",
   "execution_count": null,
   "metadata": {
    "collapsed": false
   },
   "outputs": [],
   "source": [
    "%%javascript\n",
    "var nb = IPython.notebook;\n",
    "var kernel = IPython.notebook.kernel;\n",
    "var command = \"NOTEBOOK_NAME = '\" + nb.base_url + nb.notebook_path + \"'\";\n",
    "kernel.execute(command);"
   ]
  },
  {
   "cell_type": "code",
   "execution_count": null,
   "metadata": {
    "collapsed": false
   },
   "outputs": [],
   "source": [
    "NOTEBOOK_NAME = NOTEBOOK_NAME.split('/')[-1][:-6]"
   ]
  },
  {
   "cell_type": "code",
   "execution_count": null,
   "metadata": {
    "collapsed": false
   },
   "outputs": [],
   "source": [
    "from pickleshare import PickleShareDB\n",
    "\n",
    "autorestore_folder = os.path.join(os.getcwd(), 'autorestore', NOTEBOOK_NAME)\n",
    "db = PickleShareDB(autorestore_folder)\n",
    "import sys\n",
    "sys.path.append('/home/fabios/code')\n",
    "from workspace import *\n",
    "import IPython\n",
    "ip = IPython.get_ipython()\n",
    "\n",
    "# this will restore all the saved variables. ignore the errors listed.\n",
    "# load_workspace(ip, db)\n",
    "\n",
    "# use `save_worspace(db)` to save variables at the end"
   ]
  },
  {
   "cell_type": "markdown",
   "metadata": {},
   "source": [
    "## If already have run this nb and variables are saved, can run the following 3 cells to get selectivity list"
   ]
  },
  {
   "cell_type": "code",
   "execution_count": null,
   "metadata": {
    "collapsed": false
   },
   "outputs": [],
   "source": [
    "#load_workspace(ip, db)"
   ]
  },
  {
   "cell_type": "code",
   "execution_count": null,
   "metadata": {
    "collapsed": false
   },
   "outputs": [],
   "source": [
    "# def count_trials_from_key(k):\n",
    "#     if k=='rewarded_tc' or k=='rewarded' or k=='rewarded_us' or k=='reward_onset':\n",
    "#         title = np.sum(is_rewarded)\n",
    "#     if k=='not_rewarded_us' or k=='not_rewarded' or k=='not_rewarded_tc':\n",
    "#         title = np.sum(is_not_rewarded)\n",
    "#     if k== 'reward_tc' or k=='reward_us' or k=='reward':\n",
    "#         title = np.sum(is_rewardt)\n",
    "#     if k== 'corrCSm_us' or k=='corrCSm_tc' or k=='corrCSm':\n",
    "#         title = np.sum(is_corrCSmt)\n",
    "#     if k== 'any_tc' or k=='any_cs':\n",
    "#         title = len(cycles)\n",
    "#     if k== 'errCSm_us' or k=='errCSm_tc' or k=='errCSm':\n",
    "#         title = np.sum(is_errCSmt)\n",
    "#     if k== 'CSm_us' or k=='CSm' or k=='CSm_tc':\n",
    "#         title = np.sum(is_CSmt)\n",
    "#     if k== 'pre_bouts':\n",
    "#         title = len(pre_bouts)\n",
    "#     if k== 'random_rewarded_errCSm_us':\n",
    "#         title = len(is_random_rewarded_errCSmt)\n",
    "#     if k == 'random_rewarded_pre_bouts_us':\n",
    "#         title = len(is_random_rewarded_pre_boutst)\n",
    "\n",
    "#     return title\n",
    "# [(k, count_trials_from_key(k)) for k in np.sort(selectivity.keys())]"
   ]
  },
  {
   "cell_type": "code",
   "execution_count": null,
   "metadata": {
    "collapsed": false
   },
   "outputs": [],
   "source": [
    "# outfile = os.path.join(data_folder, 'selectivity_list_2_3_w_percent.txt')\n",
    "# significance = 0.01\n",
    "\n",
    "# with open(outfile, 'w+') as f:\n",
    "#     for k in keys:\n",
    "#         corrected_ps = ut.adjust_pvalues([s[1] for s in selectivity[k][:, 0]])\n",
    "#         n_up = np.sum((corrected_ps<significance) * (selectivity[k][:, 1]>0))\n",
    "#         n_down = np.sum((corrected_ps<significance) * (selectivity[k][:, 1]<0))\n",
    "#         n_total = events.shape[1]\n",
    "#         n_stable = n_total - n_up - n_down\n",
    "#         percent_up = (n_up*1.00/n_total*1.00)*100\n",
    "#         percent_down = (n_down*1.00/n_total*1.00)*100\n",
    "#         percent_stable = (n_stable*1.00/n_total*1.00)*100\n",
    "#         n_trials = count_trials_from_key(k)\n",
    "#         f.write(\"%s\\n%d\\n%.2f\\n%d\\n%.2f\\n%d\\n%.2f\\n%d\\n%d\\n\" % (k,n_up,percent_up,n_down,percent_down,n_stable,percent_stable,n_total,n_trials))\n",
    "# #fig.tight_layout()"
   ]
  },
  {
   "cell_type": "code",
   "execution_count": null,
   "metadata": {
    "collapsed": false
   },
   "outputs": [],
   "source": [
    "# importing all the definitions from the utils file\n",
    "from sklearn.covariance import EmpiricalCovariance\n",
    "def extract_patterns(time_ax, activity, CYCLE_START, STIM_START, STIM_END, mode='average'):\n",
    "    n_cells = activity.shape[1]\n",
    "    if mode == 'average':\n",
    "        patterns = np.zeros((len(cycles), n_cells))\n",
    "    elif mode == 'corr':\n",
    "        cov_model = EmpiricalCovariance()\n",
    "        patterns = np.zeros((len(cycles), n_cells, n_cells))\n",
    "    # tas is a replacement for time_ax_single\n",
    "    for i, (s, e) in enumerate(cycles):\n",
    "        time_filter = ((time_ax>=(s-CYCLE_START+STIM_START)) * (time_ax<(s-CYCLE_START+STIM_END)))\n",
    "        if mode == 'average':\n",
    "            patterns[i] = activity[time_filter].mean(0)\n",
    "        elif mode == 'corr':\n",
    "            patterns[i] = cov_model.fit(activity[time_filter]).covariance_\n",
    "    # patterns = patterns[:, which_cells]\n",
    "    \n",
    "    return patterns\n",
    "\n",
    "\n",
    "def extract_single_cycle(time_ax, dff, cycles, cycle, cell,\n",
    "                         cycle_start=-8):\n",
    "    fc = ut.filter_cycle(time_ax, cycles, cycle)\n",
    "    t0 = time_ax[fc][0]\n",
    "    return time_ax[fc] - t0 + cycle_start, dff[:, cell][fc]\n",
    "\n",
    "\n",
    "def extract_single_cycle_signal(time_ax, signal, cycles, cycle,\n",
    "                         cycle_start=-8):\n",
    "    fc = ut.filter_cycle(time_ax, cycles, cycle)\n",
    "    t0 = time_ax[fc][0]\n",
    "    return time_ax[fc] - t0 + cycle_start, signal[fc]\n",
    "\n",
    "\n",
    "def extract_single_cycle_time_ax(time_ax, cycles, cycle_duration=4, cycle_start=-8):\n",
    "    # single_cycle_time_bins = filter_cycle(time_ax, cycles, cycle).sum() \n",
    "    min_len = np.inf\n",
    "    for i, c in enumerate(cycles):\n",
    "        time_ax_single = time_ax[ut.filter_cycle(time_ax, cycles, i)]-time_ax[ut.filter_cycle(time_ax, cycles, i)][0]\n",
    "        time_ax_single = time_ax_single[time_ax_single < cycle_duration] + cycle_start\n",
    "        l = len(time_ax_single)\n",
    "        if l<min_len:\n",
    "            min_len = l\n",
    "    return time_ax_single[:min_len]\n",
    "\n",
    "def plot_heat_map(ax, time_ax, traces, cell, cycles, time_ax_single, normed=False, **args):\n",
    "    alls = ut.compute_all_dffs(time_ax, traces, cell, cycles, time_ax_single)\n",
    "    if normed:\n",
    "        alls = alls/np.max(alls)\n",
    "    ax.imshow(alls, origin='lower', aspect='auto',\n",
    "              extent=(time_ax_single[0], time_ax_single[-1], 0, len(cycles)), **args)\n",
    "    ymax = ax.axis()[-1]\n",
    "    ax.vlines([STIM_START, STIM_END], 0, ymax, color='red')\n",
    "\n",
    "def plot_heat_map_average(ax, time_ax, traces, cycles, time_ax_single, normed=False,\n",
    "                          sorted=False, sorting=None, **args):\n",
    "    alls = []\n",
    "    for cell in xrange(traces.shape[1]):\n",
    "        alls.append(ut.compute_all_dffs(time_ax, traces, cell, cycles[:-1], time_ax_single).mean(0))\n",
    "    if normed:\n",
    "        for i in xrange(len(alls)):\n",
    "            alls[i] = alls[i] / np.max(alls[i])\n",
    "    if not sorted:\n",
    "        sorting = range(len(alls))\n",
    "    else:\n",
    "        if sorting is None:\n",
    "            sorting = np.argsort([np.max(a) for a in alls])\n",
    "        \n",
    "    ax.imshow([alls[s] for s in sorting], origin='lower', aspect='auto',\n",
    "              extent=(time_ax_single[0], time_ax_single[-1], 0, traces.shape[1]),\n",
    "              **args)\n",
    "    ymax = ax.axis()[-1]\n",
    "    ax.vlines([STIM_START, STIM_END], 0, ymax, color='red')\n",
    "    return sorting\n",
    "\n",
    "def compute_auc_all_cycles(traces, time_ax, cycles, between=(0, 4)):\n",
    "    tr_means = []\n",
    "    for s, e in cycles:\n",
    "        tr_means.append(traces[(time_ax>=(s-CYCLE_START+between[0])) * (time_ax<(s-CYCLE_START+between[1]))].mean())\n",
    "    return np.r_[tr_means]\n",
    "\n",
    "def decode(patterns, labels, which_cells=None, n_loops=10, n_jobs=1, cv=10):\n",
    "\n",
    "    if which_cells is None:\n",
    "        which_cells = [True] * patterns.shape[1]\n",
    "    \n",
    "    scores = []\n",
    "    scores_chance = []\n",
    "\n",
    "    ps = patterns[:, which_cells]\n",
    "    ls = labels\n",
    "    scores = cross_val_score(decoder, ps, ls, cv=cv, n_jobs=n_jobs)\n",
    "    scores_chance = []\n",
    "    for i in xrange(n_loops):\n",
    "        scores_chance.append(cross_val_score(decoder, ps, np.random.permutation(ls), cv=cv, n_jobs=n_jobs))\n",
    "    scores_chance = np.r_[scores_chance].flatten()\n",
    "    return scores, scores_chance\n",
    "\n",
    "def plot_behavior(ax, beh, event_types, **args):\n",
    "\n",
    "    colors = pl.cm.rainbow(np.linspace(0, 1, len(event_types)))\n",
    "    for i, (e, c) in enumerate(zip(event_types, colors)):\n",
    "        which = beh[:, 1] == e\n",
    "        if which.sum() > 0:\n",
    "            ax.vlines(map(float, beh[beh[:, 1] == e][:, 0]), i, i+1, color=c, **args)\n",
    "    ax.set_yticks(np.arange(4))\n",
    "    ax.set_yticklabels(event_types)\n",
    "\n",
    "    pt.nicer_plot(ax)\n",
    "    \n",
    "def compute_similarity(p1, p2):\n",
    "    return p1.dot(p2)/np.sqrt(p1.dot(p1) * p2.dot(p2))\n",
    "\n",
    "def extract_activity(time_ax, activity, cycles, CYCLE_START, STIM_START, STIM_END,\n",
    "                     offset=0, which=None):\n",
    "    if which is None:\n",
    "        which = [True] * len(cycles)\n",
    "    return np.r_[[activity[(time_ax>=(start-CYCLE_START+STIM_START+offset))\n",
    "                           *(time_ax<(start-CYCLE_START+STIM_END+offset))].mean(0)\n",
    "                  for start, stop in cycles[which]]]\n",
    "\n",
    "def find_selective_cells(time_ax, events, cycles, cycle_start, stim_start, stim_end, offset=-4):\n",
    "    during_odor = extract_activity(time_ax, events, cycles, cycle_start, stim_start, stim_end)\n",
    "    pre_odor = extract_activity(time_ax, events, cycles, cycle_start, stim_start, stim_end,\n",
    "                                offset=offset)\n",
    "    return np.r_[[sstats.mannwhitneyu(p1, p2, alternative='two-sided')[-1] if any(p1!=p2) else .5\n",
    "                           for p1, p2 in zip(pre_odor.T, during_odor.T)]]\n",
    "\n",
    "def expand_event(time_ax, onsets, offsets):\n",
    "    activation = np.zeros_like(time_ax)\n",
    "    for on, off in zip(onsets, offsets):\n",
    "        which = (time_ax>=on) * (time_ax<off)\n",
    "        activation[which] = activation[which] + 1\n",
    "    return activation"
   ]
  },
  {
   "cell_type": "markdown",
   "metadata": {},
   "source": [
    "### Autorestoring folder and identifying files to load"
   ]
  },
  {
   "cell_type": "code",
   "execution_count": null,
   "metadata": {
    "collapsed": false
   },
   "outputs": [],
   "source": [
    "# we go up one folder from autorestore_folder\n",
    "a = autorestore_folder.split('/')[:-3]\n",
    "# data_folder = '/media/data/DATA1/dg_odor_nwoods/adam/2dayhabit/d1//'\n",
    "data_folder = os.path.join('/', *a)"
   ]
  },
  {
   "cell_type": "code",
   "execution_count": null,
   "metadata": {
    "collapsed": true
   },
   "outputs": [],
   "source": [
    "from scipy.io import loadmat"
   ]
  },
  {
   "cell_type": "code",
   "execution_count": null,
   "metadata": {
    "collapsed": false
   },
   "outputs": [],
   "source": [
    "#loadmat(os.path.join(data_folder, 'CNMFe/Coor.mat'))"
   ]
  },
  {
   "cell_type": "code",
   "execution_count": null,
   "metadata": {
    "collapsed": false
   },
   "outputs": [],
   "source": [
    "# traces = np.loadtxt(os.path.join(data_folder, 'traces/C_raw.txt')).T\n",
    "traces = np.loadtxt(os.path.join(data_folder, 'CNMFe Conservative/C.txt')).T #denoised traces\n",
    "traces_raw = np.loadtxt(os.path.join(data_folder, 'CNMFe Conservative/C_raw.txt')).T\n",
    "events = np.loadtxt(os.path.join(data_folder, 'CNMFe Conservative/S.txt')).T\n",
    "dff = np.loadtxt(os.path.join(data_folder, 'CNMFe Conservative/C_df.txt')).T\n",
    "#Cnn=np.loadtxt('/media/data/DATA1/data/2p_mice_44-50/081117/TSeries-08112017-0742_45_235-001/CNMFe/Cnn.txt')\n",
    "#Coor = sio.loadmat('/media/data/DATA1/data/2p_mice_44-50/081117/TSeries-08112017-0742_45_235-001/CNMFe/Coor.mat')['coor'][:,0]\n",
    "#events = ut.event_detection_cnmfe_denoised(denoised)\n",
    "#dff_zs = ut.zscore_traces(dff)\n",
    "# areas = np.loadtxt(os.path.join(data_folder, 'area/A.txt')).T\n",
    "\n",
    "##   MAKE SURE YOU HAVE THE PROPER PIXEL DIMENSIONS FOR YOUR VIDEO BELOW\n",
    "##def load_spatial_footprints_A(A_file, shape=(421, 514)):\n",
    "##    return np.loadtxt(A_file).T.reshape([-1, shape[0], shape[1]])\n",
    "##areas = load_spatial_footprints_A(os.path.join(data_folder, 'area/A.txt'))\n",
    "mean_image, contours = ut.load_spatial_footprints(os.path.join(data_folder, 'CNMFe Conservative/Coor.mat'),\n",
    "                                                  os.path.join(data_folder, 'CNMFe Conservative/Cnn.txt'),\n",
    "                                                  key='coor')\n",
    "\n",
    "filename = os.path.join(data_folder, 'behavior.txt')\n",
    "behavior = ut.read_behavior(filename)\n",
    "events_list = np.unique([b[1] for b in behavior])"
   ]
  },
  {
   "cell_type": "code",
   "execution_count": null,
   "metadata": {
    "collapsed": false
   },
   "outputs": [],
   "source": [
    "load_workspace(ip, db)"
   ]
  },
  {
   "cell_type": "code",
   "execution_count": null,
   "metadata": {
    "collapsed": false
   },
   "outputs": [],
   "source": [
    "# grab time axis from the xml file\n",
    "\n",
    "import xml.etree.ElementTree as ET\n",
    "xmlfile = os.path.join(data_folder, 'tseries.xml')\n",
    "print \"I infer the time axis from:\\n\", xmlfile\n",
    "tree = ET.parse(xmlfile)\n",
    "root = tree.getroot()\n",
    "\n",
    "# unfortunately we miss the first frame\n",
    "time_ax = np.r_[[child.attrib['absoluteTime']\n",
    "                 for child in root.iter('Frame')]].astype(float)"
   ]
  },
  {
   "cell_type": "code",
   "execution_count": null,
   "metadata": {
    "collapsed": false
   },
   "outputs": [],
   "source": [
    "# sync times\n",
    "start_2p = ut.parse_behavior(behavior, 'BEGIN')[0]\n",
    "behavior = [[float(b[0])-start_2p, b[1]] for b in behavior]\n",
    "time_ax -= time_ax[0]"
   ]
  },
  {
   "cell_type": "code",
   "execution_count": null,
   "metadata": {
    "collapsed": false
   },
   "outputs": [],
   "source": [
    "print(time_ax.shape)\n",
    "print(traces.shape)"
   ]
  },
  {
   "cell_type": "code",
   "execution_count": null,
   "metadata": {
    "collapsed": true
   },
   "outputs": [],
   "source": [
    "#time_ax = time_ax[::4] # use this if video was averaged and need to adjust xml output to match"
   ]
  },
  {
   "cell_type": "code",
   "execution_count": null,
   "metadata": {
    "collapsed": true
   },
   "outputs": [],
   "source": [
    "#time_ax = time_ax[0:20000] # use this if any video frames were truncated (often need to do this a video is averaged)"
   ]
  },
  {
   "cell_type": "code",
   "execution_count": null,
   "metadata": {
    "collapsed": false
   },
   "outputs": [],
   "source": [
    "print(time_ax.shape)\n",
    "print(traces.shape)"
   ]
  },
  {
   "cell_type": "code",
   "execution_count": null,
   "metadata": {
    "collapsed": false,
    "scrolled": false
   },
   "outputs": [],
   "source": [
    "# make sure presentations are correct in timing.\n",
    "behavior[:10]"
   ]
  },
  {
   "cell_type": "code",
   "execution_count": null,
   "metadata": {
    "collapsed": false
   },
   "outputs": [],
   "source": [
    "# -----------------------------------------------------------\n",
    "# these times are relative to the single cycle\n",
    "# and centered around tone onset\n",
    "CONTINUOUS = True\n",
    "CYCLE_START = -8  # seconds\n",
    "CS_START = 0  # seconds (let's keep this at 0)\n",
    "CS_DURATION = 2  # seconds\n",
    "DELAY = 2  # seconds\n",
    "US_DURATION = 2  # seconds  // IS THIS FIXED?\n",
    "AFTER_US_PERIOD = 5\n",
    "REWARD_WIN = 2\n",
    "CYCLE_DURATION = abs(CYCLE_START) + CS_DURATION + DELAY + US_DURATION + AFTER_US_PERIOD\n",
    "CS_END = CS_START + CS_DURATION\n",
    "US_START = CS_START + DELAY + CS_DURATION\n",
    "US_END = US_START + US_DURATION\n",
    "\n",
    "# -----------------------------------------------------------\n",
    "# these times are absolute times, taken from the arduino file\n",
    "# when the tones starts and ends\n",
    "tone_CSm_ons = ut.parse_behavior(behavior, 'TONE_CSM')\n",
    "tone_CSm_offs = ut.parse_behavior(behavior, 'TONE_CSM', offset=CS_DURATION)\n",
    "tone_reward_ons = ut.parse_behavior(behavior, 'TONE_RW')\n",
    "tone_reward_offs = ut.parse_behavior(behavior, 'TONE_RW', offset=CS_DURATION)\n",
    "tone_airpuff_ons = ut.parse_behavior(behavior, 'TONE_AP')\n",
    "tone_airpuff_offs = ut.parse_behavior(behavior, 'TONE_AP', offset=CS_DURATION)\n",
    "tone_shock_ons = ut.parse_behavior(behavior, 'TONE_SHOCK')\n",
    "tone_shock_offs = ut.parse_behavior(behavior, 'TONE_SHOCK', offset=CS_DURATION)\n",
    "rewards = np.r_[ut.parse_behavior(behavior, 'REWARD')]\n",
    "shocks = np.r_[ut.parse_behavior(behavior, 'SHOCK')]\n",
    "airpuffs = np.r_[ut.parse_behavior(behavior, 'AIRPUFF')]\n",
    "licks = np.r_[ut.parse_behavior(behavior, 'LICK')]\n",
    "\n",
    "# -----------------------------------------------------------\n",
    "# when the experiment starts and ends, in absolute time\n",
    "# begin_end = ut.parse_behavior(behavior, '[be]')\n",
    "# when each cycle starts and ends\n",
    "# (last cycle is usually oddly recorded)\n",
    "if CONTINUOUS:\n",
    "    cycles_starts = ut.parse_behavior(behavior, 'TONE_*', offset=CYCLE_START)\n",
    "    cycles_ends = ut.parse_behavior(behavior, 'TONE_*', offset=CYCLE_DURATION+CYCLE_START)\n",
    "else:\n",
    "    cycles_starts = ut.parse_behavior(behavior, 'BEGIN')\n",
    "    cycles_ends = ut.parse_behavior(behavior, 'END')\n",
    "cycle_subtract = 0   #do we need to subtract off the last cycle because it's too short???\n",
    "if cycle_subtract !=0:\n",
    "    cycles = np.r_[zip(cycles_starts,  # offset will be ADDED, with sign\n",
    "                   cycles_ends)][:cycle_subtract]\n",
    "else:\n",
    "    cycles = np.r_[zip(cycles_starts,  # offset will be ADDED, with sign\n",
    "                   cycles_ends)]\n",
    "print 'we are subtracting off this many cycles'\n",
    "print cycle_subtract\n",
    "# -----------------------------------------------------------\n",
    "# which trials are a.p. and which reward\n",
    "is_CSmt = [any(map(lambda t: (t>=s) and (t<e), tone_CSm_ons)) for s, e in zip(cycles_starts, cycles_ends)]\n",
    "is_rewardt = [any(map(lambda t: (t>=s) and (t<e), tone_reward_ons)) for s, e in zip(cycles_starts, cycles_ends)]\n",
    "is_airpufft = [any(map(lambda t: (t>=s) and (t<e), tone_airpuff_ons)) for s, e in zip(cycles_starts, cycles_ends)]\n",
    "is_shockt = [any(map(lambda t: (t>=s) and (t<e), tone_shock_ons)) for s, e in zip(cycles_starts, cycles_ends)]\n",
    "true_CSmt = np.where([any(map(lambda t: (t>=s) and (t<e), tone_CSm_ons)) for s, e in cycles])[0]\n",
    "true_rewardt = np.where([any(map(lambda t: (t>=s) and (t<e), tone_reward_ons)) for s, e in cycles])[0]\n",
    "true_airpufft = np.where([any(map(lambda t: (t>=s) and (t<e), tone_airpuff_ons)) for s, e in cycles])[0]\n",
    "true_shockt = np.where([any(map(lambda t: (t>=s) and (t<e), tone_shock_ons)) for s, e in cycles])[0]\n",
    "# is_rewarded = [any(map(lambda t: (t>=s) and (t<e) and any((t-rewards)<(CS_DURATION+DELAY+REWARD_WIN)), tone_rw_ons))\n",
    "#                for s, e in zip(cycles_starts, cycles_ends)]\n",
    "is_rewarded = [any(map(lambda r: (r<e)*(r>=s), rewards))\n",
    "               for s, e in zip(cycles_starts, cycles_ends)]\n",
    "is_not_rewarded = is_rewardt * ~np.r_[is_rewarded]\n",
    "is_shocked = [any(map(lambda r: (r<e)*(r>=s), shocks))\n",
    "              for s, e in zip(cycles_starts, cycles_ends)]\n",
    "is_not_shocked = is_shockt * ~np.r_[is_shocked]\n",
    "is_airpuffed = [any(map(lambda r: (r<e)*(r>=s), airpuffs))\n",
    "                for s, e in zip(cycles_starts, cycles_ends)]\n",
    "is_not_airpuffed = is_airpufft * ~np.r_[is_airpuffed]\n",
    "is_lickedust = [any(map(lambda r: (r<(s-CYCLE_START+US_START+US_DURATION))*(r>=(s-CYCLE_START+US_START)),\n",
    "                       licks))\n",
    "                for s, e in zip(cycles_starts, cycles_ends)]\n",
    "#is_CSmerrt = is_lickedust * np.r_[is_CSmt]\n",
    "\n",
    "# first half of the trials\n",
    "is_first_half = np.r_[[False]*len(cycles)]\n",
    "is_first_half[:len(cycles)/2] = True  # only take first half\n",
    "\n",
    "# CS+ reward trials, only the first half\n",
    "is_first_half_rewardt = is_rewardt * is_first_half\n",
    "\n",
    "#Below, write code to extract n random trials from a condition (ie, 20 random CSm trials)\n",
    "#is_random_rewarded_errCSmt = np.random.choice(np.where(is_rewardt)[0], size=is_errCSmt.sum(), replace=False)\n",
    "\n",
    "# clean up artefact events at the beginning of each cycle\n",
    "for s, e in cycles:\n",
    "    events[time_ax==s] = 0"
   ]
  },
  {
   "cell_type": "code",
   "execution_count": null,
   "metadata": {
    "collapsed": false
   },
   "outputs": [],
   "source": [
    "time_ax_single = extract_single_cycle_time_ax(time_ax, cycles,\n",
    "                                              cycle_duration=CYCLE_DURATION, cycle_start=CYCLE_START)"
   ]
  },
  {
   "cell_type": "markdown",
   "metadata": {},
   "source": [
    "# Licks"
   ]
  },
  {
   "cell_type": "code",
   "execution_count": null,
   "metadata": {
    "collapsed": false
   },
   "outputs": [],
   "source": [
    "fig, axs = pl.subplots(3, 1, figsize=(2, 8), gridspec_kw={'height_ratios':(2, 1, 1)}, sharex=True)\n",
    "pt.plot_licks(tone_reward_ons, licks, positions=true_rewardt, color='b', ax=axs[0])\n",
    "pt.plot_licks(tone_CSm_ons, licks, positions=true_CSmt, color='r', ax=axs[0])\n",
    "pt.plot_licks(tone_reward_ons, licks, color='b', ax=axs[1])\n",
    "pt.plot_licks(tone_CSm_ons, licks, color='r', ax=axs[2])\n",
    "\n",
    "# axs[0].set_title('CS+')\n",
    "# plot_licks(tone_csm_ons, licks, ax=axs[1])\n",
    "# axs[1].set_title('CS-')\n",
    "# plot_licks(tone_ap_ons, licks, ax=axs[2])\n",
    "# axs[2].set_title('AP')\n",
    "# for ax in axs:\n",
    "#ax.set_xlim(CYCLE_START, CYCLE_START+CYCLE_DURATION)\n",
    "# ax.set_ylim(-10, len(cycles))\n",
    "#ax.set_xlim(CYCLE_START, 15)\n",
    "#ax.set_ylabel('Trial #')\n",
    "#ax.set_xlabel(\"Time from tone onset (s)\")\n",
    "\n",
    "\n",
    "for ax in axs:\n",
    "    ax.set_xlim(CYCLE_START, CYCLE_START+CYCLE_DURATION)\n",
    "    ax.set_xlabel(\"Time from tone onset (s)\")\n",
    "    ax.set_ylabel('Trial #')\n",
    "    pt.nicer_plot(ax)\n",
    "    pt.plot_period_bar(ax, -3, delta_y=2, color='g', start_end=(CS_START, CS_END))\n",
    "    pt.plot_period_bar(ax, -3, delta_y=2, color='m', start_end=(US_START, US_END))\n",
    "    ymin, ymax = ax.axis()[2:]\n",
    "    ax.vlines(CS_START, ymin, ymax, lw=1, color='g')\n",
    "#     ax.vlines(CS_END, ymin, ymax, lw=1, color='g')\n",
    "    ax.vlines(US_START, ymin, ymax, lw=1, color='m')\n",
    "#     ax.vlines(US_END, ymin, ymax, lw=1, color='m')\n",
    "    \n",
    "#axs[2].set_xlabel('Time from CS onset (s)')"
   ]
  },
  {
   "cell_type": "code",
   "execution_count": null,
   "metadata": {
    "collapsed": false
   },
   "outputs": [],
   "source": [
    "licks_bs = 1.*ut.compute_licks_during(licks, cycles,\n",
    "                                      start=-CYCLE_START-DELAY-US_DURATION,\n",
    "                                      end=-CYCLE_START)  # w.r.t. cycle start\n",
    "licks_cs = 1.*ut.compute_licks_during(licks, cycles,\n",
    "                                      start=-CYCLE_START,\n",
    "                                      end=-CYCLE_START+CS_DURATION)\n",
    "licks_tc_us = 1.*ut.compute_licks_during(licks, cycles,\n",
    "                                         start=-CYCLE_START+CS_DURATION,\n",
    "                                         end=-CYCLE_START+CS_DURATION+DELAY+US_DURATION)"
   ]
  },
  {
   "cell_type": "code",
   "execution_count": null,
   "metadata": {
    "collapsed": false
   },
   "outputs": [],
   "source": [
    "lickrates_bs = 1.*licks_bs/(DELAY+US_DURATION)\n",
    "lickrates_bs"
   ]
  },
  {
   "cell_type": "code",
   "execution_count": null,
   "metadata": {
    "collapsed": false
   },
   "outputs": [],
   "source": [
    "lick_ratios = np.nan_to_num(1.*(licks_tc_us-licks_bs)/(licks_tc_us+licks_bs))"
   ]
  },
  {
   "cell_type": "code",
   "execution_count": null,
   "metadata": {
    "collapsed": false
   },
   "outputs": [],
   "source": [
    "good_lick_trials = (licks_bs+licks_tc_us)>=5"
   ]
  },
  {
   "cell_type": "code",
   "execution_count": null,
   "metadata": {
    "collapsed": false
   },
   "outputs": [],
   "source": [
    "pl.hist(lick_ratios[((licks_bs+licks_tc_us)>5) * is_rewardt], histtype='step', bins=50)\n",
    "pl.hist(lick_ratios[((licks_bs+licks_tc_us)>5) * is_CSmt], histtype='step', bins=50)"
   ]
  },
  {
   "cell_type": "code",
   "execution_count": null,
   "metadata": {
    "collapsed": false
   },
   "outputs": [],
   "source": [
    "is_errCSmt = (lick_ratios>0.8) * ((licks_tc_us+licks_bs)>4) * is_CSmt\n",
    "print is_errCSmt.sum()"
   ]
  },
  {
   "cell_type": "code",
   "execution_count": null,
   "metadata": {
    "collapsed": false
   },
   "outputs": [],
   "source": [
    "is_corrCSmt = ((licks_tc_us)==0) * is_CSmt\n",
    "print is_corrCSmt.sum()"
   ]
  },
  {
   "cell_type": "code",
   "execution_count": null,
   "metadata": {
    "collapsed": false
   },
   "outputs": [],
   "source": [
    "save_workspace(db)"
   ]
  },
  {
   "cell_type": "markdown",
   "metadata": {},
   "source": [
    "# Lick labeling and selectivity"
   ]
  },
  {
   "cell_type": "code",
   "execution_count": null,
   "metadata": {
    "collapsed": false
   },
   "outputs": [],
   "source": [
    "lick_labels = np.r_[[-1]*len(licks)]\n",
    "for s, e in cycles:\n",
    "    l_filter = (licks>=s) * (licks<(s-CYCLE_START))\n",
    "    lick_labels[l_filter] = 0  # Baseline\n",
    "    l_filter = (licks>=(s-CYCLE_START)) * (licks<(s-CYCLE_START+CS_DURATION))\n",
    "    lick_labels[l_filter] = 1  # CS\n",
    "    l_filter = (licks>=(s-CYCLE_START+CS_DURATION)) * (licks<(s-CYCLE_START+CS_DURATION+DELAY))\n",
    "    lick_labels[l_filter] = 2  # Trace\n",
    "    l_filter = (licks>=(s-CYCLE_START+CS_DURATION+DELAY)) * (licks<(s-CYCLE_START+CS_DURATION+DELAY+US_DURATION))\n",
    "    lick_labels[l_filter] = 3  # US\n",
    "    l_filter = ((licks>=(s-CYCLE_START+CS_DURATION+DELAY+US_DURATION)) *\n",
    "        (licks<(s-CYCLE_START+CS_DURATION+DELAY+US_DURATION+AFTER_US_PERIOD)))\n",
    "    lick_labels[l_filter] = 4  # Post US"
   ]
  },
  {
   "cell_type": "code",
   "execution_count": null,
   "metadata": {
    "collapsed": false
   },
   "outputs": [],
   "source": [
    "def plot_it(c=0):\n",
    "    fig, ax = pl.subplots(1, 1, figsize=(3, 2))\n",
    "    ax.vlines(licks, lick_labels-0.2, lick_labels+0.2, lw=1)\n",
    "#     ax.hlines([-1.5]*len(cycles), cycles[:, 0], cycles[:, 1], lw=1)\n",
    "    ax.set_xlim(cycles[c][0], cycles[c][1])\n",
    "    pt.plot_period_bar(ax, -2,\n",
    "                       start_end=(cycles[c][0]-CYCLE_START, cycles[c][0]-CYCLE_START+CS_DURATION),\n",
    "                       delta_y=0.2)\n",
    "    pt.plot_period_bar(ax, -2,\n",
    "                       start_end=(cycles[c][0]-CYCLE_START+CS_DURATION+DELAY,\n",
    "                                  cycles[c][0]-CYCLE_START+CS_DURATION+DELAY+US_DURATION),\n",
    "                       delta_y=0.2, color='m')\n",
    "    ax.set_yticks(range(-1, 5))\n",
    "    ax.set_yticklabels(['null', 'Pre', 'CS', 'Trace', 'US', 'Post'])\n",
    "    ax.text(cycles[c][0]-CYCLE_START, -1.5, 'CS', ha='center', color='b', fontsize=5)\n",
    "    ax.text(cycles[c][0]-CYCLE_START+CS_DURATION+DELAY, -1.5, 'US', ha='center', color='m', fontsize=5)\n",
    "    \n",
    "    text_trialtype = 'CS+' if is_rewardt[c] else 'CS-'\n",
    "    color_trialtype = 'b' if is_rewardt[c] else 'r'\n",
    "    ax.text(cycles[c][0], 5, text_trialtype, color=color_trialtype, fontsize=7)\n",
    "    \n",
    "interact(plot_it, c=(0, len(cycles)-1, 1))"
   ]
  },
  {
   "cell_type": "code",
   "execution_count": null,
   "metadata": {
    "collapsed": false
   },
   "outputs": [],
   "source": [
    "lick_bout_distance = 1\n",
    "bouts_starts = licks[np.r_[0, np.where(np.diff(licks)>lick_bout_distance)[0]+1]]\n",
    "bouts_ends = licks[np.r_[np.where(np.diff(licks)>lick_bout_distance)[0]+1]]"
   ]
  },
  {
   "cell_type": "code",
   "execution_count": null,
   "metadata": {
    "collapsed": false
   },
   "outputs": [],
   "source": [
    "pl.figure(figsize=(3, 2))\n",
    "[pl.vlines(licks[(licks>=bs) * (licks<be)]-bs, i-0.2, i+0.2, color='k', lw=0.5)\n",
    " for i, (bs, be) in enumerate(zip(bouts_starts[:10], bouts_ends[:10]))];\n",
    "pl.xlim(-2, 6)"
   ]
  },
  {
   "cell_type": "code",
   "execution_count": null,
   "metadata": {
    "collapsed": true
   },
   "outputs": [],
   "source": [
    "bouts_number_threshold = 3\n",
    "\n",
    "bouts = [licks[(licks>=bs) * (licks<be)]\n",
    "         for i, (bs, be) in enumerate(zip(bouts_starts, bouts_ends))]\n",
    "bouts_labels = [lick_labels[(licks>=bs) * (licks<be)]\n",
    "                for i, (bs, be) in enumerate(zip(bouts_starts, bouts_ends))]\n",
    "bouts_split = [[b[bl==l]  if (bl==l).sum()>=bouts_number_threshold else None for l in np.unique(lick_labels)]\n",
    "               for b, bl in zip(bouts, bouts_labels)]\n",
    "\n",
    "bouts_labels = [b for b, bb in zip(bouts_labels, bouts) if len(bb) > bouts_number_threshold]\n",
    "bouts_split = [b for b, bb in zip(bouts_split, bouts) if len(bb) > bouts_number_threshold]\n",
    "bouts = [b for b in bouts if len(b) > bouts_number_threshold]\n"
   ]
  },
  {
   "cell_type": "code",
   "execution_count": null,
   "metadata": {
    "collapsed": false
   },
   "outputs": [],
   "source": [
    "t_pre = 10\n",
    "t_post = 20\n",
    "zz = StandardScaler().fit_transform(traces) \n",
    "\n",
    "def plot_it(c=0):\n",
    "    \n",
    "    b, bl, bs = bouts[c], bouts_labels[c], bouts_split[c]\n",
    "    \n",
    "    # colors = pl.cm.rainbow(np.linspace(0, 1, len(np.unique(lick_labels))))\n",
    "    colors = ['k', 'k', 'b', 'k', 'm', 'k']\n",
    "\n",
    "    fig, ax = pl.subplots(1, 1, figsize=(3, 2))\n",
    "\n",
    "    t_filt = (time_ax>=(b[0]-t_pre)) * (time_ax<(b[0]+t_post))\n",
    "    for cell in xrange(100):\n",
    "        ax.plot(time_ax[t_filt]-b[0], zz[t_filt][:, cell]+cell, '-', lw=0.5, color='0.7')\n",
    "\n",
    "    ax.spines['left'].set_visible(False)\n",
    "    ax.set_yticks(())\n",
    "\n",
    "    for c, (s, e) in enumerate(cycles):\n",
    "        if e<time_ax[t_filt][0] or s>=time_ax[t_filt][-1]: continue\n",
    "        dy = np.diff(ax.axis()[-2:])[0]/100.\n",
    "        pt.plot_period_bar(ax, -2,\n",
    "                           start_end=(s-CYCLE_START-b[0], s-CYCLE_START+CS_DURATION-b[0]),\n",
    "                           delta_y=dy)\n",
    "        pt.plot_period_bar(ax, -2,\n",
    "                           start_end=(s-CYCLE_START+CS_DURATION+DELAY-b[0],\n",
    "                                      s-CYCLE_START+CS_DURATION+DELAY+US_DURATION-b[0]),\n",
    "                           delta_y=dy, color='m')\n",
    "        text_trialtype = 'CS+' if is_rewardt[c] else 'CS-'\n",
    "        color_trialtype = 'b' if is_rewardt[c] else 'r'\n",
    "#         ax.text(s-CYCLE_START-b[0], ax.axis()[-1], text_trialtype, color=color_trialtype, fontsize=7)\n",
    "    ax.set_xlabel('Time from lick bout onset (s)')\n",
    "    ax = pl.twinx()\n",
    "    \n",
    "    for i, l_times in enumerate(bs):\n",
    "        if l_times is None: continue\n",
    "        print len(l_times)\n",
    "        ax.vlines(l_times-b[0], i-0.2-1, i+0.2-1, colors=colors[i], lw=0.5)\n",
    "    ax.set_ylim(-1, 5)\n",
    "    ax.set_yticks(range(-1, 5))\n",
    "    ax.set_yticklabels(['null', 'Pre', 'CS', 'Trace', 'US', 'Post'])\n",
    "\n",
    "#     ax.set_xlim((-t_pre-10, t_post+10))\n",
    "    ax.set_xlim((-8, 10))\n",
    "    ax.set_ylim((-2, 5))\n",
    "    \n",
    "    ax.vlines(0, -2, 5, color='k', lw=1, linestyles='dashed')\n",
    "    \n",
    "interact(plot_it, c=(0, len(bouts)-1, 1))"
   ]
  },
  {
   "cell_type": "code",
   "execution_count": null,
   "metadata": {
    "collapsed": false,
    "scrolled": false
   },
   "outputs": [],
   "source": [
    "pre_bouts = [b[1] for b in bouts_split if b[1] is not None]\n",
    "cs_bouts = [b[2] for b in bouts_split if b[2] is not None]\n",
    "tr_bouts = [b[3] for b in bouts_split if b[3] is not None]\n",
    "us_bouts = [b[4] for b in bouts_split if b[4] is not None]\n",
    "post_bouts = [b[5] for b in bouts_split if b[5] is not None]"
   ]
  },
  {
   "cell_type": "code",
   "execution_count": null,
   "metadata": {
    "collapsed": false,
    "scrolled": false
   },
   "outputs": [],
   "source": [
    "fig, ax = pl.subplots(1, 1, figsize=(3, 2))\n",
    "for these in [pre_bouts, cs_bouts, tr_bouts, us_bouts, post_bouts]:\n",
    "    ax.hist([b[-1]-b[0] for b in these], np.linspace(0, 4, 30), histtype='step')\n",
    "ax.legend(['pre_bouts', 'cs_bouts', 'tr_bouts', 'us_bouts', 'post_bouts'], fontsize=5)\n",
    "ax.set_xlabel('Time length (s)')\n",
    "ax.set_ylabel('Frequency')\n",
    "\n",
    "pt.nicer_plot(ax)"
   ]
  },
  {
   "cell_type": "code",
   "execution_count": null,
   "metadata": {
    "collapsed": false
   },
   "outputs": [],
   "source": [
    "pre_bouts_startends = np.r_[[[p[0], p[-1]] for p in pre_bouts]]"
   ]
  },
  {
   "cell_type": "markdown",
   "metadata": {},
   "source": [
    "# First reward times"
   ]
  },
  {
   "cell_type": "code",
   "execution_count": null,
   "metadata": {
    "collapsed": true
   },
   "outputs": [],
   "source": [
    "first_reward_times = np.r_[[rewards[np.where((rewards-s)>0)[0][0]]-s+\n",
    "                            CYCLE_START\n",
    "                            for s, e in cycles[np.where(is_rewarded)]]]"
   ]
  },
  {
   "cell_type": "code",
   "execution_count": null,
   "metadata": {
    "collapsed": false
   },
   "outputs": [],
   "source": [
    "first_reward_times"
   ]
  },
  {
   "cell_type": "code",
   "execution_count": null,
   "metadata": {
    "collapsed": false
   },
   "outputs": [],
   "source": [
    "pl.hist(first_reward_times, bins=np.arange(3.9, 6, 0.25));"
   ]
  },
  {
   "cell_type": "code",
   "execution_count": null,
   "metadata": {
    "collapsed": false
   },
   "outputs": [],
   "source": [
    "# use this anytime to save the workspace\n",
    "# save_workspace(db)"
   ]
  },
  {
   "cell_type": "markdown",
   "metadata": {},
   "source": [
    "### Start Plotting Traces"
   ]
  },
  {
   "cell_type": "code",
   "execution_count": null,
   "metadata": {
    "collapsed": false
   },
   "outputs": [],
   "source": [
    "# figure plots denoised df/f traces over single trial for each neuron\n",
    "zz = StandardScaler().fit_transform(traces) #previously we just plotted 'traces' not 'zz'\n",
    "#zz = traces\n",
    "\n",
    "fig, ax = pl.subplots(1, 1, figsize = (5, 7))\n",
    "[pl.plot(time_ax/60., zz[:, cell]*.1+cell, lw=0.2) for cell in range(zz.shape[1]-1, 0, -1)];\n",
    "pl.yticks((0, (zz.shape[1]-1)))\n",
    "ax.set_yticklabels((0, zz.shape[1]-1))\n",
    "pl.xlabel(\"Time (seconds)\")\n",
    "pl.ylabel('Cell #')\n"
   ]
  },
  {
   "cell_type": "code",
   "execution_count": null,
   "metadata": {
    "collapsed": false
   },
   "outputs": [],
   "source": [
    "# plot each trace continuously with tone presentations indicated by colorbands. \n",
    "def plot_it(start=0):\n",
    "    fig, ax = pl.subplots(1, 1, figsize=(5, 5))\n",
    "    [pl.plot(time_ax/60., traces[:, cell]*.1+cell, 'ko', lw=0.5, ms=0.1) for cell in range(traces.shape[1]-1, 0, -1)];\n",
    "    [pl.plot(time_ax/60., traces[:, cell]*.1+cell, 'k-', lw=0.5) for cell in range(traces.shape[1]-1, 0, -1)];\n",
    "    pl.yticks(range(0, (traces.shape[1]-1), 50))\n",
    "#     ax.set_yticklabels(range(0, traces.shape[1]-1, 5))\n",
    "    pl.xlabel(\"Time (min)\")\n",
    "    pl.ylabel('Cell #')\n",
    "\n",
    "    # pl.fill_between(np.r_[0, np.repeat(np.r_[zip(odor6_ons, odor6_ons+STIM_DURATION)].flatten(), 2)]/60.,\n",
    "    #                 np.r_[0, [51, 51, 0, 0]*len(odor6_ons)])\n",
    "    colors = [(0.7, 0.7, 0.7), (1, 0.7, 0.7), (0.7, 1, 0.7), (0.7, 0.7, 1)]  # minus, shock, sucrose, airpuff CS\n",
    "    for c, onss in zip(colors, [tone_CSm_ons, tone_shock_ons, tone_reward_ons, tone_airpuff_ons]):\n",
    "        for onset in onss/60.:\n",
    "            ax.fill_between([onset, onset+CS_DURATION/60.], [0]*2, [traces.shape[1]]*2, color=c, alpha=0.5, lw=0)\n",
    "    colors = [(1, 0, 0), (0, 1, 0), (0, 0, 1)]  # shock, sucrose, airpuff US\n",
    "    for c, onss in zip(colors, [shocks, rewards, airpuffs]):\n",
    "        for onset in onss/60.:\n",
    "            ax.fill_between([onset, onset+US_DURATION/60.], [0]*2, [traces.shape[1]]*2, color=c, alpha=0.5, lw=0)\n",
    "    ax.set_xlim(start, start+5)\n",
    "interact(plot_it, start=(0, 50, 1))"
   ]
  },
  {
   "cell_type": "code",
   "execution_count": null,
   "metadata": {
    "collapsed": false
   },
   "outputs": [],
   "source": [
    "def plot_all_cycles(cell, iso=None):\n",
    "    fig, ax = pl.subplots(1, 1, figsize = (7,5))\n",
    "    offset = 0\n",
    "    iso = eval(iso)\n",
    "    if iso is None:\n",
    "        iso = np.r_[[True] * len(cycles)]\n",
    "    for cycle in xrange(len(cycles)):\n",
    "        t, tr = extract_single_cycle(time_ax, zz, cycles, cycle, cell)\n",
    "        if iso[cycle]:\n",
    "            ax.plot(t, tr+offset, color='k')\n",
    "            offset = offset + 20\n",
    "    ax.set_yticks(np.arange(np.sum(iso))*20)\n",
    "    ax.set_yticklabels(np.arange(np.sum(iso)))\n",
    "    ax.set_ylim([-0.5, offset])\n",
    "    ax.set_ylabel('trial #')\n",
    "    ax.set_xlabel('time from CS onset')\n",
    "    ax.fill_between([CS_START, CS_END],\n",
    "                    -0.5, offset, color='0.5')\n",
    "    return ax\n",
    "interact(plot_all_cycles, cell=(0, traces.shape[1]-1, 1), iso=['is_CSmt', 'is_rewardt', 'is_rewarded', 'is_not_rewarded'])"
   ]
  },
  {
   "cell_type": "code",
   "execution_count": null,
   "metadata": {
    "collapsed": false
   },
   "outputs": [],
   "source": [
    "STIM_START = CS_START\n",
    "STIM_END = CS_END\n",
    "sorting = plot_heat_map_average(ax, time_ax, traces, cycles, time_ax_single, normed = True, sorted=True, vmax=10)"
   ]
  },
  {
   "cell_type": "code",
   "execution_count": null,
   "metadata": {
    "collapsed": false
   },
   "outputs": [],
   "source": [
    "fig, axs = pl.subplots(5, 1, figsize=(6, 6), sharex=True, sharey=True,\n",
    "                       gridspec_kw={'height_ratios':(0.2, 1, 1, 1, 1)})\n",
    "axs[0].axis('off')\n",
    "\n",
    "for i, iso, ax in zip(range(10), [is_CSmt, is_rewardt, is_rewarded, is_errCSmt], axs.flatten()[1:]):\n",
    "    plot_heat_map_average(ax, time_ax, traces, cycles[iso], time_ax_single, normed = True, sorted=True,\n",
    "                          sorting=sorting, vmax=1)\n",
    "im = ax.images[0]\n",
    "\n",
    "fig.colorbar(im, ax=axs[0], orientation='horizontal')\n",
    "\n",
    "axs[1].text(12, 10, 'CS-', color='r')    \n",
    "axs[2].text(12, 10, 'Reward', color='r')    \n",
    "axs[3].text(12, 10, 'Rewarded', color='r')\n",
    "axs[4].text(12, 10, 'CS- Error', color='r')\n",
    "ax.set_xlabel('Time (s)')\n",
    "ax.text(-10, 300, 'Cell #', rotation=90)"
   ]
  },
  {
   "cell_type": "code",
   "execution_count": null,
   "metadata": {
    "collapsed": false,
    "scrolled": false
   },
   "outputs": [],
   "source": [
    "fig, axs = pl.subplots(len(traces[1])/6,7, figsize=(7,len(traces[1])/6))\n",
    "\n",
    "\n",
    "for cell, ax in zip(range(traces.shape[1]), axs.flatten()):\n",
    "    plot_heat_map(ax, time_ax, traces, cell, cycles[is_CSmt], time_ax_single, normed = True, vmax=0.85)\n",
    "    # technically, vmax should = 1, but want to make signals stand out for visualization purposes\n",
    "    for s in ax.spines.itervalues():\n",
    "        s.set_visible(False)\n",
    "    ax.set_xticks(())\n",
    "    ax.set_yticks(())\n",
    "    ax.text(5.7, 3.7, cell+1, color='y')\n",
    "fig.subplots_adjust(bottom=0.1)\n",
    "cax = pl.axes([0, 0, 1, 0.01])\n",
    "im = axs[0][0].images[0]\n",
    "fig.colorbar(im, cax=cax, orientation='horizontal')\n",
    "fig.suptitle('CSm Trials')  "
   ]
  },
  {
   "cell_type": "code",
   "execution_count": null,
   "metadata": {
    "collapsed": false,
    "scrolled": false
   },
   "outputs": [],
   "source": [
    "fig, axs = pl.subplots(len(traces[1])/6,7, figsize=(7,len(traces[1])/6))\n",
    "\n",
    "\n",
    "for cell, ax in zip(range(traces.shape[1]), axs.flatten()):\n",
    "    plot_heat_map(ax, time_ax, traces, cell, cycles[is_rewardt], time_ax_single, normed = True, vmax=0.85)\n",
    "    # technically, vmax should = 1, but want to make signals stand out for visualization purposes\n",
    "    for s in ax.spines.itervalues():\n",
    "        s.set_visible(False)\n",
    "    ax.set_xticks(())\n",
    "    ax.set_yticks(())\n",
    "    ax.text(5.7, 3.7, cell+1, color='y')\n",
    "fig.subplots_adjust(bottom=0.1)\n",
    "cax = pl.axes([0, 0, 1, 0.01])\n",
    "im = axs[0][0].images[0]\n",
    "fig.colorbar(im, cax=cax, orientation='horizontal')\n",
    "fig.suptitle('Reward Trials')  "
   ]
  },
  {
   "cell_type": "code",
   "execution_count": null,
   "metadata": {
    "collapsed": false,
    "scrolled": false
   },
   "outputs": [],
   "source": [
    "fig, axs = pl.subplots(len(traces[1])/6,7, figsize=(7,len(traces[1])/6))\n",
    "\n",
    "\n",
    "for cell, ax in zip(range(traces.shape[1]), axs.flatten()):\n",
    "    plot_heat_map(ax, time_ax, traces, cell, cycles[is_rewarded], time_ax_single, normed = True, vmax=0.85)\n",
    "    # technically, vmax should = 1, but want to make signals stand out for visualization purposes\n",
    "    for s in ax.spines.itervalues():\n",
    "        s.set_visible(False)\n",
    "    ax.set_xticks(())\n",
    "    ax.set_yticks(())\n",
    "    ax.text(5.7, 3.7, cell+1, color='y')\n",
    "fig.subplots_adjust(bottom=0.1)\n",
    "cax = pl.axes([0, 0, 1, 0.01])\n",
    "im = axs[0][0].images[0]\n",
    "fig.colorbar(im, cax=cax, orientation='horizontal')\n",
    "fig.suptitle('Rewarded Reward Trials')  "
   ]
  },
  {
   "cell_type": "code",
   "execution_count": null,
   "metadata": {
    "collapsed": false,
    "scrolled": false
   },
   "outputs": [],
   "source": [
    "fig, axs = pl.subplots(len(traces[1])/6,7, figsize=(7,len(traces[1])/6))\n",
    "\n",
    "\n",
    "for cell, ax in zip(range(traces.shape[1]), axs.flatten()):\n",
    "    plot_heat_map(ax, time_ax, traces, cell, cycles[is_errCSmt], time_ax_single, normed = True, vmax=0.85)\n",
    "    # technically, vmax should = 1, but want to make signals stand out for visualization purposes\n",
    "    for s in ax.spines.itervalues():\n",
    "        s.set_visible(False)\n",
    "    ax.set_xticks(())\n",
    "    ax.set_yticks(())\n",
    "    ax.text(5.7, 3.7, cell+1, color='y')\n",
    "fig.subplots_adjust(bottom=0.1)\n",
    "cax = pl.axes([0, 0, 1, 0.01])\n",
    "im = axs[0][0].images[0]\n",
    "fig.colorbar(im, cax=cax, orientation='horizontal')\n",
    "fig.suptitle('Error CSm Trials')  "
   ]
  },
  {
   "cell_type": "code",
   "execution_count": null,
   "metadata": {
    "collapsed": false
   },
   "outputs": [],
   "source": [
    "fig, axs = pl.subplots(len(traces[1])/6,7, figsize=(7,len(traces[1])/6))\n",
    "\n",
    "for cell, ax in zip(range(traces.shape[1]), axs.flatten()):\n",
    "    plot_heat_map(ax, time_ax, traces, cell, cycles[is_corrCSmt], time_ax_single, normed = True, vmax=0.85)\n",
    "    # technically, vmax should = 1, but want to make signals stand out for visualization purposes\n",
    "    s.set_visible(False)\n",
    "    ax.set_xticks(())\n",
    "    ax.set_yticks(())\n",
    "    ax.text(5.7, 3.7, cell+1, color='y')\n",
    "fig.subplots_adjust(bottom=0.1)\n",
    "cax = pl.axes([0, 0, 1, 0.01])\n",
    "im = axs[0][0].images[0]\n",
    "fig.colorbar(im, cax=cax, orientation='horizontal')\n",
    "fig.suptitle('Corr CSm Trials')"
   ]
  },
  {
   "cell_type": "markdown",
   "metadata": {
    "collapsed": false
   },
   "source": [
    "# Correlations"
   ]
  },
  {
   "cell_type": "code",
   "execution_count": null,
   "metadata": {
    "collapsed": true
   },
   "outputs": [],
   "source": [
    "cov_model = EmpiricalCovariance()"
   ]
  },
  {
   "cell_type": "code",
   "execution_count": null,
   "metadata": {
    "collapsed": true
   },
   "outputs": [],
   "source": [
    "zz = StandardScaler().fit_transform(traces)"
   ]
  },
  {
   "cell_type": "code",
   "execution_count": null,
   "metadata": {
    "collapsed": true
   },
   "outputs": [],
   "source": [
    "cov_same = cov_model.fit(zz)"
   ]
  },
  {
   "cell_type": "code",
   "execution_count": null,
   "metadata": {
    "collapsed": false
   },
   "outputs": [],
   "source": [
    "clust_model = KMeans(5)\n",
    "cov_labels = clust_model.fit_predict(abs(cov_model.covariance_))\n",
    "print clust_score(cov_model.covariance_, cov_labels)\n",
    "pl.subplots(1, 1, figsize=(3, 3))\n",
    "\n",
    "pl.imshow([c[np.argsort(cov_labels)] for c in cov_model.covariance_[np.argsort(cov_labels)]],\n",
    "          aspect='auto', cmap=pl.cm.RdBu_r, vmin=-1, vmax=1)\n",
    "pl.colorbar()\n",
    "pl.xticks(())\n",
    "pl.yticks(());"
   ]
  },
  {
   "cell_type": "code",
   "execution_count": null,
   "metadata": {
    "collapsed": false
   },
   "outputs": [],
   "source": [
    "pl.hist(cov_model.covariance_.flatten()[cov_model.covariance_.flatten()<1], bins=50, normed=True);"
   ]
  },
  {
   "cell_type": "code",
   "execution_count": null,
   "metadata": {
    "collapsed": false,
    "scrolled": false
   },
   "outputs": [],
   "source": [
    "def plot_it(cluster=0, start=0, heat=True):\n",
    "    stop = start+10\n",
    "    if not heat:\n",
    "        [pl.plot(time_ax/60., zz[:, cell]/10.+i, lw=1) for i, cell in enumerate(np.where(cov_labels==cluster)[0])];\n",
    "    else:\n",
    "        pl.imshow(zz[(time_ax/60.>=start) * (time_ax/60.<stop)][:, np.where(cov_labels==cluster)[0]].T, extent=(start, stop, 0, (cov_labels==cluster).sum()),\n",
    "                  origin='lower', aspect='auto', vmin=0, vmax=10)\n",
    "    pl.xlim(start, stop)\n",
    "interact(plot_it, cluster=(0, np.max(cov_labels), 1), start=(0, 60, 0.5))"
   ]
  },
  {
   "cell_type": "code",
   "execution_count": null,
   "metadata": {
    "collapsed": false
   },
   "outputs": [],
   "source": [
    "def plot_it(cluster=0):\n",
    "    list_of_cells = [np.where(cov_labels==cluster)[0]]\n",
    "    rest_of_cells = np.delete(range(events.shape[1]), np.concatenate(list_of_cells))\n",
    "    list_of_cells.append(rest_of_cells)\n",
    "\n",
    "    fig, ax = pl.subplots(1, 1, figsize=(3, 3))\n",
    "    pt.plot_rois(mean_image, contours,\n",
    "                 list_of_cells,\n",
    "                 colors=['r', 'g', '0.7'],\n",
    "                 ax=ax\n",
    "                )\n",
    "    ax.set_xticks(())\n",
    "    ax.set_yticks(())\n",
    "interact(plot_it, cluster=(0, np.max(cov_labels), 1))"
   ]
  },
  {
   "cell_type": "markdown",
   "metadata": {},
   "source": [
    "# How much variance is explained by behavior"
   ]
  },
  {
   "cell_type": "code",
   "execution_count": null,
   "metadata": {
    "collapsed": false
   },
   "outputs": [],
   "source": [
    "is_random_rewarded_pre_boutst = np.random.choice(np.where(is_rewarded)[0], size=len(pre_bouts), replace=False)\n",
    "is_random_rewarded_errCSmt = np.random.choice(np.where(is_rewarded)[0], size=is_errCSmt.sum(), replace=False)"
   ]
  },
  {
   "cell_type": "markdown",
   "metadata": {},
   "source": [
    "## Selectivity to each CS"
   ]
  },
  {
   "cell_type": "code",
   "execution_count": null,
   "metadata": {
    "collapsed": true
   },
   "outputs": [],
   "source": [
    "selectivity = {}"
   ]
  },
  {
   "cell_type": "code",
   "execution_count": null,
   "metadata": {
    "collapsed": false
   },
   "outputs": [],
   "source": [
    "to_plot = np.r_[['CSm', 'shock', 'reward', 'airpuff', 'errCSm', 'corrCSm']]\n",
    "\n",
    "# CHOOSE WHAT PERIOD DEFINES THE CS WITH REF. TO CYCLE START\n",
    "cs_timeframe = (CS_START-CYCLE_START, CS_START+CS_DURATION-CYCLE_START)\n",
    "baseline_timeframe = (CS_START-2-CYCLE_START, CS_START-0-CYCLE_START)\n",
    "\n",
    "for t in to_plot:\n",
    "    \n",
    "    # this one selects which trials to consider\n",
    "    which_cycles = eval('is_%s'%(t+'t'))\n",
    "    \n",
    "    if not np.any(which_cycles):\n",
    "        continue\n",
    "    \n",
    "    selectivity[t] = ut.compute_selectivity(time_ax, events, cycles[which_cycles],\n",
    "                                            cs_timeframe, baseline_timeframe)\n",
    "    "
   ]
  },
  {
   "cell_type": "markdown",
   "metadata": {},
   "source": [
    "## Selectivity to any CS"
   ]
  },
  {
   "cell_type": "code",
   "execution_count": null,
   "metadata": {
    "collapsed": false
   },
   "outputs": [],
   "source": [
    "#labels_time_ax = np.zeros_like(time_ax)\n",
    "#\n",
    "## CHOOSE WHAT PERIOD DEFINES THE CS\n",
    "#cs_timeframe = (CS_START-CYCLE_START, CS_START+CS_DURATION-CYCLE_START)\n",
    "#\n",
    "#selectivity['any_cs'] = ut.compute_selectivity(time_ax, events, cycles,\n",
    "#                                               cs_timeframe, baseline_timeframe)"
   ]
  },
  {
   "cell_type": "markdown",
   "metadata": {},
   "source": [
    "## Selectivity to each US"
   ]
  },
  {
   "cell_type": "code",
   "execution_count": null,
   "metadata": {
    "collapsed": false
   },
   "outputs": [],
   "source": [
    "to_plot = np.r_[['CSm', 'shock', 'reward', 'airpuff', 'errCSm', 'corrCSm', 'random_rewarded_errCSm', 'random_rewarded_pre_bouts']]\n",
    "\n",
    "# CHOOSE WHAT PERIOD DEFINES THE US\n",
    "us_timeframe = (US_START-CYCLE_START, US_START+US_DURATION-CYCLE_START)\n",
    "\n",
    "for t in to_plot:\n",
    "    \n",
    "    # this one selects which trials to consider\n",
    "    which_cycles = eval('is_%s'%(t+'t'))\n",
    "    \n",
    "    if np.sum(which_cycles) == 0:\n",
    "        continue\n",
    "    \n",
    "    selectivity[t+\"_us\"] = ut.compute_selectivity(time_ax, events, cycles[which_cycles],\n",
    "                                            us_timeframe, baseline_timeframe)"
   ]
  },
  {
   "cell_type": "markdown",
   "metadata": {},
   "source": [
    "## Selectivity to trace"
   ]
  },
  {
   "cell_type": "code",
   "execution_count": null,
   "metadata": {
    "collapsed": false
   },
   "outputs": [],
   "source": [
    "to_plot = np.r_[['CSm', 'shock', 'reward', 'airpuff', 'errCSm', 'corrCSm']]\n",
    "\n",
    "tc_timeframe = (CS_START-CYCLE_START+CS_DURATION, CS_START-CYCLE_START+CS_DURATION+DELAY)\n",
    "\n",
    "for t in to_plot:\n",
    "    \n",
    "    # this one selects which trials to consider\n",
    "    which_cycles = eval('is_%s'%(t+'t'))\n",
    "    \n",
    "    if np.sum(which_cycles) == 0:\n",
    "        continue\n",
    "    \n",
    "    selectivity[t+\"_tc\"] = ut.compute_selectivity(time_ax, events, cycles[which_cycles],\n",
    "                                            tc_timeframe, baseline_timeframe)"
   ]
  },
  {
   "cell_type": "markdown",
   "metadata": {},
   "source": [
    "## Selectivity to any trace"
   ]
  },
  {
   "cell_type": "code",
   "execution_count": null,
   "metadata": {
    "collapsed": false
   },
   "outputs": [],
   "source": [
    "#labels_time_ax = np.zeros_like(time_ax)\n",
    "#\n",
    "#tc_timeframe = (CS_START-CYCLE_START+CS_DURATION, CS_START-CYCLE_START+CS_DURATION+DELAY)\n",
    "#\n",
    "#selectivity['any_tc'] = ut.compute_selectivity(time_ax, events, cycles,\n",
    "#                                               tc_timeframe, baseline_timeframe)"
   ]
  },
  {
   "cell_type": "markdown",
   "metadata": {},
   "source": [
    "## Selectivity to each tc, only for delivered US"
   ]
  },
  {
   "cell_type": "code",
   "execution_count": null,
   "metadata": {
    "collapsed": true
   },
   "outputs": [],
   "source": [
    "to_plot = np.r_[['shock', 'reward', 'airpuff', 'not_reward']]\n",
    "\n",
    "# CHOOSE WHAT PERIOD DEFINES THE US\n",
    "tc_timeframe = (CS_START-CYCLE_START+CS_DURATION, CS_START-CYCLE_START+CS_DURATION+DELAY)\n",
    "    \n",
    "for t in to_plot:\n",
    "    \n",
    "    # this one selects which trials to consider\n",
    "    which_cycles = eval('is_%s'%(t+'ed'))\n",
    "    \n",
    "    if np.sum(which_cycles) == 0:\n",
    "        continue\n",
    "    \n",
    "    selectivity[t+\"ed_tc\"] = ut.compute_selectivity(time_ax, events, cycles[which_cycles],\n",
    "                                                   tc_timeframe, baseline_timeframe)"
   ]
  },
  {
   "cell_type": "markdown",
   "metadata": {},
   "source": [
    "## Selectivity to each US, only for delivered US"
   ]
  },
  {
   "cell_type": "code",
   "execution_count": null,
   "metadata": {
    "collapsed": false
   },
   "outputs": [],
   "source": [
    "to_plot = np.r_[['shock', 'reward', 'airpuff', 'not_reward']]\n",
    "\n",
    "# CHOOSE WHAT PERIOD DEFINES THE US\n",
    "us_timeframe = (US_START-CYCLE_START, US_START+US_DURATION-CYCLE_START)\n",
    "    \n",
    "for t in to_plot:\n",
    "    \n",
    "    # this one selects which trials to consider\n",
    "    which_cycles = eval('is_%s'%(t+'ed'))\n",
    "    \n",
    "    if np.sum(which_cycles) == 0:\n",
    "        continue\n",
    "    \n",
    "    selectivity[t+\"ed_us\"] = ut.compute_selectivity(time_ax, events, cycles[which_cycles],\n",
    "                                                   us_timeframe, baseline_timeframe)"
   ]
  },
  {
   "cell_type": "markdown",
   "metadata": {},
   "source": [
    "## Selectivity to each CS, only for delivered US"
   ]
  },
  {
   "cell_type": "code",
   "execution_count": null,
   "metadata": {
    "collapsed": false
   },
   "outputs": [],
   "source": [
    "to_plot = np.r_[['shock', 'reward', 'airpuff', 'not_reward']]\n",
    "\n",
    "# CHOOSE WHAT PERIOD DEFINES THE CS\n",
    "cs_timeframe = (CS_START-CYCLE_START, CS_START+CS_DURATION-CYCLE_START)\n",
    "\n",
    "for t in to_plot:\n",
    "    \n",
    "    # this one selects which trials to consider\n",
    "    which_cycles = eval('is_%s'%(t+'ed'))\n",
    "    \n",
    "    if np.sum(which_cycles) == 0:\n",
    "        continue\n",
    "    \n",
    "    selectivity[t+\"ed\"] = ut.compute_selectivity(time_ax, events, cycles[which_cycles],\n",
    "                                                 cs_timeframe, baseline_timeframe)"
   ]
  },
  {
   "cell_type": "markdown",
   "metadata": {},
   "source": [
    "# Selectivity to licks during ITI"
   ]
  },
  {
   "cell_type": "code",
   "execution_count": null,
   "metadata": {
    "collapsed": true
   },
   "outputs": [],
   "source": [
    "selectivity['pre_bouts'] = ut.compute_selectivity(time_ax, events, pre_bouts_startends, timeframe=None, baseline_timeframe=(-2, 0))"
   ]
  },
  {
   "cell_type": "markdown",
   "metadata": {},
   "source": [
    "## Selectivity to reward, beginning at reward onset"
   ]
  },
  {
   "cell_type": "code",
   "execution_count": null,
   "metadata": {
    "collapsed": true
   },
   "outputs": [],
   "source": [
    "first_reward_times = np.r_[[rewards[np.where((rewards-s)>0)[0][0]]-s+\n",
    "                            CYCLE_START\n",
    "                            for s, e in cycles[np.where(is_rewarded)]]]"
   ]
  },
  {
   "cell_type": "code",
   "execution_count": null,
   "metadata": {
    "collapsed": false
   },
   "outputs": [],
   "source": [
    "#Want to get mean of activity for timeframe that begins when sucrose is first consumed (which often times is not when US window opens)\n",
    "\n",
    "to_plot = np.r_[['reward']]\n",
    "\n",
    "# CHOOSE WHAT PERIOD DEFINES THE US\n",
    "reward_timeframe = zip(first_reward_times-CYCLE_START, first_reward_times-CYCLE_START+2)  # zip makes a list of pairs from two lists\n",
    "\n",
    "for t in to_plot:\n",
    "    \n",
    "    # this one selects which trials to consider\n",
    "    which_cycles = eval('is_rewarded')\n",
    "    \n",
    "    if np.sum(which_cycles) == 0:\n",
    "        continue\n",
    "    \n",
    "    selectivity[t+\"_onset\"] = ut.compute_selectivity(time_ax, events, cycles[which_cycles],\n",
    "                                                   reward_timeframe, baseline_timeframe)"
   ]
  },
  {
   "cell_type": "code",
   "execution_count": null,
   "metadata": {
    "collapsed": false
   },
   "outputs": [],
   "source": [
    "selectivity.keys()"
   ]
  },
  {
   "cell_type": "markdown",
   "metadata": {},
   "source": [
    "# PSTH"
   ]
  },
  {
   "cell_type": "code",
   "execution_count": null,
   "metadata": {
    "collapsed": false
   },
   "outputs": [],
   "source": [
    "delta_t = np.diff(time_ax)[0]"
   ]
  },
  {
   "cell_type": "code",
   "execution_count": null,
   "metadata": {
    "collapsed": true
   },
   "outputs": [],
   "source": [
    "def plot_licks(cycles, licks, ax0, ax1, cs_start, cs_duration, us_start, us_duration,\n",
    "               colors=((0,0,0,0), (0,0,0,0))):\n",
    "\n",
    "#     psth = []\n",
    "\n",
    "#     ons, offs = odon, odoff\n",
    "#     for start, stop in zip(ons, offs):\n",
    "#         nstart = np.min(np.where(time_ax>=(start-t_pre)))\n",
    "#         nstop = nstart + int((cs_duration+t_pre+t_post)/delta_t)\n",
    "#         psth.append(events[:, cell][nstart:nstop])\n",
    "#     psth = np.r_[psth]\n",
    "\n",
    "#     im = ax1.imshow(psth, cmap=pl.cm.gray_r, vmin=0, vmax=10, origin='lower',\n",
    "#                extent=(-t_pre, t_post+cs_duration, 0, len(ons)), aspect='auto')\n",
    "\n",
    "    ax0.hist(np.concatenate([licks[(licks>=s) * (licks<e)] - (s-CYCLE_START)\n",
    "                             for s, e in cycles]), histtype='bar', color='k',\n",
    "             bins=int(CYCLE_DURATION/np.min(np.diff(time_ax))))\n",
    "\n",
    "    for i, (s, e) in enumerate(cycles):\n",
    "        ax1.vlines(licks[(licks>=s) * (licks<e)] - (s-CYCLE_START), i, i+1, 'r', lw=0.5)\n",
    "#     ax0.bar(np.linspace(-t_pre, t_post+cs_duration, len(psth.sum(0))), (psth).sum(0), color='k', lw=1, width=0.1)\n",
    "#     ax0.set_ylim(-10, 150)\n",
    "    for s in ax0.spines.values():\n",
    "        s.set_visible(False)\n",
    "#     ax0.set_xticks((-t_pre, 0, t_post+cs_duration))\n",
    "#     ax0.set_yticks(())\n",
    "    pt.plot_period_bar(ax0, 75, delta_y=10, color=colors[0], start_end=(cs_start, cs_start+cs_duration))\n",
    "    pt.plot_period_bar(ax0, 75, delta_y=10, color=colors[1], start_end=(us_start, us_start+us_duration))\n",
    "    pt.nicer_plot(ax1)\n",
    "    ax1.set_ylim(0, len(cycles))\n",
    "    \n",
    "\n",
    "    return im"
   ]
  },
  {
   "cell_type": "code",
   "execution_count": null,
   "metadata": {
    "collapsed": false
   },
   "outputs": [],
   "source": [
    "def remove_plot(ax):\n",
    "    for s in ax.spines.values():\n",
    "        s.set_visible(False)\n",
    "    ax.set_xticks(())\n",
    "    ax.set_yticks(())"
   ]
  },
  {
   "cell_type": "code",
   "execution_count": null,
   "metadata": {
    "collapsed": false,
    "scrolled": false
   },
   "outputs": [],
   "source": [
    "## %%time\n",
    "## Plotting Events\n",
    "#\n",
    "#def plot_it(odon, odoff, ax0, ax1, cs_start, cs_duration, us_start, us_duration,\n",
    "#            colors=((0,0,0,0), (0,0,0,0))):\n",
    "#\n",
    "#    psth = []\n",
    "#\n",
    "#    ons, offs = odon, odoff\n",
    "#    for start, stop in zip(ons, offs):\n",
    "#        nstart = np.min(np.where(time_ax>=(start-t_pre)))\n",
    "#        nstop = nstart + int((cs_duration+t_pre+t_post)/delta_t)\n",
    "#        psth.append(events[:, cell][nstart:nstop])\n",
    "#    psth = np.r_[psth]\n",
    "#\n",
    "#    im = ax1.imshow(psth, cmap=pl.cm.viridis, vmin=0, vmax=10, origin='lower',\n",
    "#               extent=(-t_pre, t_post+cs_duration, 0, len(ons)), aspect='auto')\n",
    "#    ax0.bar(np.linspace(-t_pre, t_post+cs_duration, len(psth.sum(0))), (psth).sum(0), color='k', lw=1, width=0.1)\n",
    "#    ax0.set_ylim(-10, 150)\n",
    "#    for s in ax0.spines.values():\n",
    "#        s.set_visible(False)\n",
    "#    ax0.set_xticks((-t_pre, 0, t_post+cs_duration))\n",
    "#    ax0.set_yticks(())\n",
    "#    pt.plot_period_bar(ax0, 75, delta_y=10, color=colors[0], start_end=(cs_start, cs_start+cs_duration))\n",
    "#    pt.plot_period_bar(ax0, 75, delta_y=10, color=colors[1], start_end=(us_start, us_start+us_duration))\n",
    "#    pt.nicer_plot(ax1)\n",
    "#\n",
    "#    return im\n",
    "#\n",
    "#t_pre = 6\n",
    "#t_post = 6\n",
    "#\n",
    "#to_plot = np.r_[['CSm', 'shock', 'reward', 'airpuff']]\n",
    "#colors = {}\n",
    "#colors['CSm'] = ((0.7, 0.7, 0.7), (0, 0, 0))  # (CS, US)\n",
    "#colors['shock'] = ((1, 0.7, 0.7), (1, 0, 0))\n",
    "#colors['reward'] = ((0.7, 1, 0.7), (0, 1, 0))\n",
    "#colors['airpuff'] = ((0.7, 0.7, 1), (0, 0, 1))\n",
    "#which_exist = [eval('len(tone_%s_ons)>0'%t) for t in to_plot]\n",
    "#n_rows = np.sum(which_exist)\n",
    "#\n",
    "## rank them by selectivity for something, for convenience\n",
    "#rank_pvalue = np.argsort([s[1] for s in selectivity['rewarded'][:, 0]])\n",
    "#for cell in rank_pvalue [:10]:\n",
    "## for cell in np.argsort(selectivity['reward'][:, 1])[:10]:\n",
    "## cell += 1\n",
    "#    \n",
    "#    fig, axs = pl.subplots(n_rows*2, 4, figsize=(6, 4), gridspec_kw={'height_ratios':[1, 2]*n_rows}, sharex=True)\n",
    "#    \n",
    "#    # activity\n",
    "#    for i, t in enumerate(to_plot[which_exist]):\n",
    "#        im = eval('plot_it(tone_%s_ons, tone_%s_offs, axs[i*2][0], axs[i*2+1][0],\\\n",
    "#                   CS_START, CS_DURATION, US_START, US_DURATION, colors=colors[\\'%s\\'])'\n",
    "#                  %(t, t, t))\n",
    "#        eval('axs[i*2+1][0].set_ylabel(\\'%s\\')'%t)\n",
    "#    \n",
    "#    # activity (us delivered)\n",
    "#    for i, t in enumerate(to_plot[which_exist]):\n",
    "#        try:\n",
    "#            which = eval('[[b in np.where(is_%s)[0] for b in np.where(is_%s)[0]]]' % (t+'ed', t+'t'))\n",
    "#            im = eval('plot_it(tone_%s_ons[which], tone_%s_offs[which], axs[i*2][1], axs[i*2+1][1],\\\n",
    "#                       CS_START, CS_DURATION, US_START, US_DURATION, colors=colors[\\'%s\\'])'\n",
    "#                      %(t, t, t))\n",
    "#        except NameError:\n",
    "#            remove_plot(axs[i*2][1])\n",
    "#            remove_plot(axs[i*2+1][1])\n",
    "#\n",
    "#    # activity (us NOT delivered)\n",
    "#    for i, t in enumerate(to_plot[which_exist]):\n",
    "#        try:\n",
    "#            which = eval('[[b in np.where(is_not_%s)[0] for b in np.where(is_%s)[0]]]' % (t+'ed', t+'t'))\n",
    "#            im = eval('plot_it(tone_%s_ons[which], tone_%s_offs[which], axs[i*2][2], axs[i*2+1][2],\\\n",
    "#                       CS_START, CS_DURATION, US_START, US_DURATION, colors=colors[\\'%s\\'])'\n",
    "#                      %(t, t, t))\n",
    "#        except NameError:\n",
    "#            remove_plot(axs[i*2][2])\n",
    "#            remove_plot(axs[i*2+1][2])\n",
    "#        \n",
    "#    # licks\n",
    "#    for i, t in enumerate(to_plot[which_exist]):\n",
    "#        im = eval('plot_licks(cycles[is_%s], licks, axs[i*2][-1], axs[i*2+1][-1],\\\n",
    "#                   CS_START, CS_DURATION, US_START, US_DURATION, colors=colors[\\'%s\\'])'\n",
    "#                  %(t+'t', t))\n",
    "#    \n",
    "#    \n",
    "#    fig.suptitle(\"Cell #%d\"%cell)\n",
    "#    for i, (t, v) in enumerate(selectivity.iteritems()):\n",
    "#        p = v[cell][0][1]\n",
    "#        stars = \"***\" if p<0.001 else \"**\" if p<0.01 else \"*\" if p<0.05 else \"n.s.\"\n",
    "#        axs[1][1].text(-10, 2.05-i*.1-.1, \"%s tuning = %1.2lf (%s)\"%(t, selectivity[t][cell][1], stars),\n",
    "#                       fontsize=5,\n",
    "#                       color='red')\n",
    "#    \n",
    "#    ax = fig.add_axes((1., 0.2, 0.02, 0.6))\n",
    "#    fig.colorbar(im, cax=ax, orientation='vertical', ticks=(0, 5, 10) )\n",
    "#    ax.set_xticks((-5, 0, 5))\n",
    "#    ax.set_yticks((0, 10))\n",
    "#    ax.text(-0.5, 0.7, 'Event magnitude', rotation=90, ha='center', fontsize=3)\n",
    "#\n",
    "#    for s in ax.spines.values():\n",
    "#        s.set_visible(False)\n",
    "#        \n",
    "##     for ax in axs.T:\n",
    "##         ax[1].set_yticks(())\n",
    "##         ymin, ymax = ax[1].axis()[-2:]\n",
    "##         ax[1].fill_between([0, 4], ymax+ymax/20., ymax+ymax/20.+ymax/50., color='0.5', lw=0)\n",
    "##     axs[1][1].set_xlabel('Time (s)', fontsize=5)\n",
    "##     axs[0][1].text(0, 0, 'Cell %3d' % cell, fontsize=5, ha='center')\n",
    "#    \n",
    "##     axs[0][0].text(-5, -55, 'Air', fontsize=3)\n",
    "##     axs[0][1].text(-5, -55, 'Flower', fontsize=3)\n",
    "##     axs[0][2].text(-5, -55, 'Banana', fontsize=3)\n",
    "#    \n",
    "##     axs[1][0].set_ylabel('Trial #', fontsize=5)\n",
    "#    # axs[0][0].set_title('Air', fontsize=5)\n",
    "#    # axs[0][1].set_title('Banana', fontsize=5)\n",
    "#    # axs[0][2].set_title('Flower', fontsize=5)\n",
    "#    \n",
    "#\n",
    "#    \n",
    "#    \n",
    "##     fig.tight_layout()\n",
    "#    \n",
    "#    axs[0][0].set_title('All trials', fontsize=7)\n",
    "#    axs[0][1].set_title('US delivered', fontsize=7)\n",
    "#    axs[0][2].set_title('US not delivered', fontsize=7)\n",
    "#    axs[0][3].set_title('Licks', fontsize=7)\n",
    "#\n",
    "#    fig.subplots_adjust(bottom=0.22)\n",
    "#        \n",
    "##    fig.savefig('../img/psth_%03d.pdf'%cell)"
   ]
  },
  {
   "cell_type": "markdown",
   "metadata": {},
   "source": [
    "# PSTH alternate plotting"
   ]
  },
  {
   "cell_type": "code",
   "execution_count": null,
   "metadata": {
    "collapsed": false
   },
   "outputs": [],
   "source": [
    "#for cell in xrange(traces.shape[1]):\n",
    "## cell += 1\n",
    "#    t_pre = 6\n",
    "#    t_post = 6\n",
    "#\n",
    "#    fig, axs = pl.subplots(2, 3, figsize=(3, 3), gridspec_kw={'height_ratios':(1, 2)})\n",
    "#\n",
    "#    def plot_it(ons, is_it, ax0, ax1):\n",
    "#\n",
    "#        psth_ = []\n",
    "#\n",
    "#        i = 0\n",
    "#        for tf in is_it:\n",
    "#            if not tf:\n",
    "#                psth_.append(None)\n",
    "#            else:\n",
    "#                start = ons[i]\n",
    "#                nstart = np.min(np.where(time_ax>=(start-t_pre)))\n",
    "#                nstop = nstart + int((t_pre+t_post)/delta_t)\n",
    "#                psth_.append(events[:, cell][nstart:nstop])\n",
    "#                i += 1\n",
    "#        max_len = np.max([len(p) for p in psth_ if p is not None])\n",
    "#        psth = np.ones((len(is_it), max_len))*-1\n",
    "#        for i, p in enumerate(psth_):\n",
    "#            if p is not None:\n",
    "#                psth[i] = p\n",
    "#\n",
    "#        im = ax1.imshow(psth, cmap=pl.cm.RdBu_r, vmin=-10, vmax=10,\n",
    "#                   extent=(-t_pre, t_post, 0, len(ons)), aspect='auto', origin='lower')\n",
    "#        ax0.plot(np.clip(psth, 0, np.inf).sum(0), 'k-', lw=1)\n",
    "###### or? ax0.plot(time_ax_single, np.mean(psth, 0), lw=1,)\n",
    "#   #     m = np.mean(psth, 0)\n",
    "#  #      s = np.std(psth, 0)#/np.sqrt(np.sum(iso)-1)\n",
    "# #       ax0.fill_between(time_ax_single, m-s, m+s,\n",
    "##                         lw=0, zorder=0, alpha=0.2)\n",
    "#        ax0.set_ylim(-10, 300)\n",
    "#        for s in ax0.spines.values():\n",
    "#            s.set_visible(False)\n",
    "#        ax0.set_xticks(())\n",
    "#        ax0.set_yticks(())\n",
    "#        pt.nicer_plot(ax1)\n",
    "#        \n",
    "#        return im\n",
    "#\n",
    "#    im = plot_it(tone_CSm_ons, is_CSmt, axs[0][0], axs[1][0])\n",
    "#    plot_it(tone_reward_ons, is_rewardt, axs[0][1], axs[1][1])\n",
    "#    plot_it(rewards, is_rewarded, axs[0][2], axs[1][2])\n",
    "#    ax = fig.add_axes((1., 0.2, 0.02, 0.4))\n",
    "#    fig.colorbar(im, cax=ax, orientation='vertical', ticks=(0, 5, 10) )\n",
    "#    ax.set_xticks(())\n",
    "#    ax.set_yticks((0, 10))\n",
    "#    ax.text(-0.5, 0.7, 'Event magnitude', rotation=90, ha='center', fontsize=3)\n",
    "#\n",
    "#    for s in ax.spines.values():\n",
    "#        s.set_visible(False)\n",
    "#    \n",
    "#    \n",
    "#    for i, ax in enumerate(axs.T):\n",
    "#        ax[1].set_yticks(())\n",
    "#        ymin, ymax = ax[1].axis()[-2:]\n",
    "#        ax[1].fill_between([0, 2], ymax+ymax/20., ymax+ymax/20.+ymax/50.,\n",
    "#                           color='0.5' if i<2 else '1', lw=0)\n",
    "#    axs[1][1].set_xlabel('Time (s)', fontsize=5)\n",
    "#    axs[0][1].text(29, 150, 'Cell %3d' % (cell+1), fontsize=5, ha='center')\n",
    "#    \n",
    "#    axs[0][0].text(-5, -55, 'CS-', fontsize=3)\n",
    "#    axs[0][1].text(-5, -55, 'CS+', fontsize=3)\n",
    "#    axs[0][2].text(-5, -55, 'Reward del.', fontsize=3)\n",
    "#    \n",
    "#    axs[1][0].set_ylabel('Trial #', fontsize=5)\n",
    "#    # axs[0][0].set_title('Air', fontsize=5)\n",
    "#    # axs[0][1].set_title('Banana', fontsize=5)\n",
    "#    # axs[0][2].set_title('Flower', fontsize=5)\n",
    "#    \n",
    "##     fig.tight_layout()\n",
    "#    fig.subplots_adjust(bottom=0.22)\n",
    "#    fig.subplots_adjust(right=0.8)\n",
    "#    \n",
    "##    fig.savefig('../img/psth_colored_%03d.pdf'%cell)"
   ]
  },
  {
   "cell_type": "markdown",
   "metadata": {},
   "source": [
    "------------------"
   ]
  },
  {
   "cell_type": "code",
   "execution_count": null,
   "metadata": {
    "collapsed": false
   },
   "outputs": [],
   "source": [
    "def plot_pie(n_up, n_down, n_total, colors=('r', 'r', 'r'), explode=[0.2, 0.2, 0.0], startangle=0,\n",
    "             wedgeprops={'lw':0}, labels=['Those cells up', 'Those cells down', 'The rest'],\n",
    "             percentage=False, title=None, ax=None, title_xy=(3, 0), title_color='k', label_colors=['b', 'r', 'k'],\n",
    "             **pie_kwargs):\n",
    "    if ax is None:\n",
    "        fig, ax = pl.subplots(1, 1)\n",
    "    if not percentage:\n",
    "        labels_full = ['%s\\nn=%d'%(labels[0], 1.*n_up) if n_up>0 else \"\",\n",
    "                       '%s\\nn=%d'%(labels[1], 1.*n_down) if n_down>0 else \"\",\n",
    "                       '%s\\nn=%d'%(labels[2], 1.*(n_total-n_up-n_down) if (n_total-n_up-n_down)>0 else \"\")]\n",
    "    else:\n",
    "        labels_full = ['%s\\n%.2lf%%'%(labels[0], 1.*n_up/n_total) if n_up>0 else \"\",\n",
    "                       '%s\\n%.2lf%%'%(labels[1], 1.*n_down/n_total) if n_down>0 else \"\",\n",
    "                       '%s\\n%.2lf%%'%(labels[2], 1.*(n_total-n_up-n_down)/n_total) if (n_total-n_up-n_down)>0 else \"\"]\n",
    "    patches, texts = ax.pie([n_up, n_down, n_total-(n_up+n_down)], colors=colors, explode=explode, startangle=startangle,\n",
    "           labels=labels_full, wedgeprops=wedgeprops, textprops={'fontsize':5}, **pie_kwargs);\n",
    "    [t.set_color(c) for t, c in zip(texts, label_colors)]\n",
    "    [t.set_fontsize(5) for t in texts]\n",
    "    \n",
    "    if title is not None:\n",
    "        ax.text(title_xy[0], title_xy[1], title, fontsize=5, color=title_color, ha='center')\n",
    "    \n",
    "    return ax\n",
    "\n",
    "fig, ax = pl.subplots(1, 1, figsize=(1, 1))\n",
    "plot_pie(10, 10, 100, labels=['up', 'dn', 'rest'], ax=ax, title='Sit amet', title_xy=(0, -0.5), title_color='w')"
   ]
  },
  {
   "cell_type": "code",
   "execution_count": null,
   "metadata": {
    "collapsed": false
   },
   "outputs": [],
   "source": [
    "print('percent selective cells, uncorrected for multiple comparisons')\n",
    "significance = 0.01\n",
    "\n",
    "for k, v in selectivity.iteritems():\n",
    "    print k, np.mean([s[1]<significance for s in v[:, 0]])"
   ]
  },
  {
   "cell_type": "code",
   "execution_count": null,
   "metadata": {
    "collapsed": false
   },
   "outputs": [],
   "source": [
    "print('percent selective cells, corrected')\n",
    "significance = 0.01\n",
    "\n",
    "to_plot = np.r_[['CSm', 'reward']]\n",
    "\n",
    "for k, v in selectivity.iteritems():\n",
    "    print k, np.mean(ut.adjust_pvalues([s[1] for s in v[:, 0]])<significance)"
   ]
  },
  {
   "cell_type": "code",
   "execution_count": null,
   "metadata": {
    "collapsed": false
   },
   "outputs": [],
   "source": [
    "def count_trials_from_key(k):\n",
    "    if k=='rewarded_tc' or k=='rewarded' or k=='rewarded_us' or k=='reward_onset':\n",
    "        title = np.sum(is_rewarded)\n",
    "    if k=='not_rewarded_us' or k=='not_rewarded' or k=='not_rewarded_tc':\n",
    "        title = np.sum(is_not_rewarded)\n",
    "    if k== 'reward_tc' or k=='reward_us' or k=='reward':\n",
    "        title = np.sum(is_rewardt)\n",
    "    if k== 'corrCSm_us' or k=='corrCSm_tc' or k=='corrCSm':\n",
    "        title = np.sum(is_corrCSmt)\n",
    "    if k== 'any_tc' or k=='any_cs':\n",
    "        title = len(cycles)\n",
    "    if k== 'errCSm_us' or k=='errCSm_tc' or k=='errCSm':\n",
    "        title = np.sum(is_errCSmt)\n",
    "    if k== 'CSm_us' or k=='CSm' or k=='CSm_tc':\n",
    "        title = np.sum(is_CSmt)\n",
    "    if k== 'pre_bouts':\n",
    "        title = len(pre_bouts)\n",
    "    if k== 'random_rewarded_errCSm_us':\n",
    "        title = len(is_random_rewarded_errCSmt)\n",
    "    if k == 'random_rewarded_pre_bouts_us':\n",
    "        title = len(is_random_rewarded_pre_boutst)\n",
    "\n",
    "    return title\n",
    "[(k, count_trials_from_key(k)) for k in np.sort(selectivity.keys())]"
   ]
  },
  {
   "cell_type": "code",
   "execution_count": null,
   "metadata": {
    "collapsed": false,
    "scrolled": false
   },
   "outputs": [],
   "source": [
    "colors = {}\n",
    "colors['CSm'] = ((1, 0, 0), (1, 0, 0), (1, 0, 0))\n",
    "colors['CSm_us'] = ((1, 0, 0), (1, 0, 0), (1, 0, 0))\n",
    "colors['CSm_tc'] = ((1, 0, 0), (1, 0, 0), (1, 0, 0))\n",
    "colors['errCSm'] = ((.5, 0, 0), (.5, 0, 0), (.5, 0, 0))\n",
    "colors['errCSm_tc'] = ((.5, 0, 0), (.5, 0, 0), (0.5, 0, 0))\n",
    "colors['errCSm_us'] = ((.5, 0, 0), (.5, 0, 0), (.5, 0, 0))\n",
    "colors['reward'] = ((0.5, 1, 0.5), (0.5, 1, 0.5), (0.5, 1, 0.5))\n",
    "colors['reward_us'] = ((0, 1, 0), (0, 1, 0), (0, 1, 0))\n",
    "colors['rewarded'] = ((0, 0, 0.5), (0, 0, 0.5), (0, 0, 0.5))\n",
    "colors['rewarded_us'] = ((0, 0, 1), (0, 0, 1), (0, 0, 1))\n",
    "colors['not_rewarded'] = ((0.5, 1, 1), (0.5, 1, 1), (0.5, 1, 1))\n",
    "colors['not_rewarded_us'] = ((0.5, 1, 1), (0.5, 1, 1), (0.5, 1, 1))\n",
    "colors['not_rewarded_tc'] = ((0.5, 1, 1), (0.5, 1, 1), (0.5, 1, 1))\n",
    "colors['reward_tc'] = ((0.7, 1, 0.7), (0.7, 1, 0.7), (0.7, 1, 0.7))\n",
    "colors['rewarded_tc'] = ((0, 0, 0.7), (0, 0, 0.7), (0, 0, 0.7))\n",
    "colors['reward_onset'] = ((0, 0, 0), (0, 0, 0), (0, 0, 0))\n",
    "#colors['any_tc'] = ((0.5, 1, 1), (0.5, 1, 1), (0.5, 1, 1))\n",
    "#colors['any_cs'] = ((0.5, 1, 1), (0.5, 1, 1), (0.5, 1, 1))\n",
    "colors['corrCSm'] = ((0.7, 0, 0), (0.7, 0, 0), (0.7, 0, 0))\n",
    "colors['corrCSm_tc'] = ((0.7, 0, 0), (0.7, 0, 0), (0.7, 0, 0))\n",
    "colors['corrCSm_us'] = ((0.7, 0, 0), (0.7, 0, 0), (0.7, 0, 0))\n",
    "colors['pre_bouts'] = ((0.5, 0.5, 0.5), (0.5, 0.5, 0.5), (0.5, 0.5, 0.5))\n",
    "colors['random_rewarded_errCSm_us'] = ((0.5, 0.5, 0.5), (0.5, 0.5, 0.5), (0.5, 0.5, 0.5))\n",
    "colors['random_rewarded_pre_bouts_us'] = ((0.5, 0.5, 0.5), (0.5, 0.5, 0.5), (0.5, 0.5, 0.5))\n",
    "\n",
    "fig, axs = pl.subplots(len(selectivity)/3+1*(len(selectivity)%3>0), 3,\n",
    "                       figsize=(4.2, len(selectivity)/3+1*(len(selectivity)%3>0)))\n",
    "\n",
    "significance = 0.01\n",
    "\n",
    "# keys = np.sort([k for k in selectivity.keys()])\n",
    "keys = ['CSm', 'CSm_tc', 'CSm_us',\n",
    "        'errCSm', 'errCSm_tc', 'errCSm_us',\n",
    "        'corrCSm', 'corrCSm_tc', 'corrCSm_us',\n",
    "        'reward', 'reward_tc', 'reward_us',\n",
    "        'rewarded', 'rewarded_tc', 'rewarded_us',\n",
    "        'not_rewarded', 'not_rewarded_tc', 'not_rewarded_us',\n",
    "        'reward_onset', #'any_cs', 'any_tc',\n",
    "        'pre_bouts', 'random_rewarded_pre_bouts_us',\n",
    "        'random_rewarded_errCSm_us']\n",
    "for ax, k in zip(axs.flatten(), keys):\n",
    "    corrected_ps = ut.adjust_pvalues([s[1] for s in selectivity[k][:, 0]])\n",
    "    n_up = np.sum((corrected_ps<significance) * (selectivity[k][:, 1]>0))\n",
    "    n_down = np.sum((corrected_ps<significance) * (selectivity[k][:, 1]<0))\n",
    "    n_total = events.shape[1]\n",
    "    plot_pie(n_up, n_down, n_total, labels=['Up', 'Down', 'Untuned'], colors=colors[k],\n",
    "            title=\"N=%d\"%count_trials_from_key(k), title_xy=(0, -0.5), title_color='w', ax=ax)\n",
    "\n",
    "    ax.set_title(k, fontsize=7)\n",
    "fig.tight_layout()"
   ]
  },
  {
   "cell_type": "code",
   "execution_count": null,
   "metadata": {
    "collapsed": false
   },
   "outputs": [],
   "source": [
    "outfile = os.path.join(data_folder, 'selectivity_list_2_4.txt')\n",
    "\n",
    "with open(outfile, 'w+') as f:\n",
    "    for k in keys:\n",
    "        corrected_ps = ut.adjust_pvalues([s[1] for s in selectivity[k][:, 0]])\n",
    "        n_up = np.sum((corrected_ps<significance) * (selectivity[k][:, 1]>0))\n",
    "        n_down = np.sum((corrected_ps<significance) * (selectivity[k][:, 1]<0))\n",
    "        n_total = events.shape[1]\n",
    "        n_stable = n_total - n_up - n_down\n",
    "        n_trials = count_trials_from_key(k)\n",
    "        f.write(\"%s\\n%d\\n%d\\n%d\\n%d\\n%d\\n\" % (k, n_up, n_down, n_stable, n_total,n_trials))\n",
    "fig.tight_layout()"
   ]
  },
  {
   "cell_type": "code",
   "execution_count": null,
   "metadata": {
    "collapsed": true
   },
   "outputs": [],
   "source": [
    "outfile = os.path.join(data_folder, 'selectivity_list_2_4_w_percent.txt')\n",
    "significance = 0.01\n",
    "\n",
    "with open(outfile, 'w+') as f:\n",
    "    for k in keys:\n",
    "        corrected_ps = ut.adjust_pvalues([s[1] for s in selectivity[k][:, 0]])\n",
    "        n_up = np.sum((corrected_ps<significance) * (selectivity[k][:, 1]>0))\n",
    "        n_down = np.sum((corrected_ps<significance) * (selectivity[k][:, 1]<0))\n",
    "        n_total = events.shape[1]\n",
    "        n_stable = n_total - n_up - n_down\n",
    "        percent_up = (n_up*1.00/n_total*1.00)*100\n",
    "        percent_down = (n_down*1.00/n_total*1.00)*100\n",
    "        percent_stable = (n_stable*1.00/n_total*1.00)*100\n",
    "        n_trials = count_trials_from_key(k)\n",
    "        f.write(\"%s\\n%d\\n%.2f\\n%d\\n%.2f\\n%d\\n%.2f\\n%d\\n%d\\n\" % (k,n_up,percent_up,n_down,percent_down,n_stable,percent_stable,n_total,n_trials))\n",
    "#fig.tight_layout()"
   ]
  },
  {
   "cell_type": "code",
   "execution_count": null,
   "metadata": {
    "collapsed": false
   },
   "outputs": [],
   "source": [
    "keys"
   ]
  },
  {
   "cell_type": "code",
   "execution_count": null,
   "metadata": {
    "collapsed": false
   },
   "outputs": [],
   "source": [
    "np.sum(((corrected_ps<significance) * (selectivity['reward'][:, 1]>0))*((corrected_ps<significance) * (selectivity['reward_us'][:, 1]>0)))"
   ]
  },
  {
   "cell_type": "code",
   "execution_count": null,
   "metadata": {
    "collapsed": false
   },
   "outputs": [],
   "source": [
    "tuned_cells = {}\n",
    "for k, v in selectivity.iteritems():\n",
    "    corrected_ps = ut.adjust_pvalues([s[1] for s in selectivity[k][:, 0]])\n",
    "    tuned_cells[k] = [np.where((corrected_ps<0.01)*([s>0 for s in v[:, 1]]))[0],\n",
    "                      np.where((corrected_ps<0.01)*([s<0 for s in v[:, 1]]))[0],]"
   ]
  },
  {
   "cell_type": "code",
   "execution_count": null,
   "metadata": {
    "collapsed": false
   },
   "outputs": [],
   "source": [
    "events.shape"
   ]
  },
  {
   "cell_type": "code",
   "execution_count": null,
   "metadata": {
    "collapsed": false
   },
   "outputs": [],
   "source": [
    "contours.shape"
   ]
  },
  {
   "cell_type": "code",
   "execution_count": null,
   "metadata": {
    "collapsed": false
   },
   "outputs": [],
   "source": [
    "#this is just a sanity check. There should be no neurons that are members of both conditions\n",
    "list_of_cells = [tuned_cells['reward'][0], tuned_cells['reward'][1]]\n",
    "rest_of_cells = np.delete(range(events.shape[1]), np.concatenate(list_of_cells))\n",
    "list_of_cells.append(rest_of_cells)\n",
    "print('sanity check. There should be no neurons that are members of both conditions')\n",
    "\n",
    "fig, ax = pl.subplots(1, 1, figsize=(3, 3))\n",
    "pt.plot_rois(mean_image, contours,\n",
    "             list_of_cells,\n",
    "             colors=['darkorange', 'b', '0.65'],\n",
    "             ax=ax\n",
    "            )\n",
    "ax.set_xticks(())\n",
    "ax.set_yticks(())\n",
    "ax.text(200, 15, 'pos. tuned CS+', color='darkorange', fontsize=5)\n",
    "ax.text(200, 30, 'neg. tuned CS+', color='b', fontsize=5)\n",
    "ax.text(200, 45, 'both', color='darkorange', fontsize=5, alpha=0.5)\n",
    "ax.text(200, 45, 'both', color='b', fontsize=5, alpha=0.5)"
   ]
  },
  {
   "cell_type": "code",
   "execution_count": null,
   "metadata": {
    "collapsed": false
   },
   "outputs": [],
   "source": [
    "list_of_cells = [tuned_cells['reward'][0], tuned_cells['CSm'][0]]\n",
    "rest_of_cells = np.delete(range(events.shape[1]), np.concatenate(list_of_cells))\n",
    "list_of_cells.append(rest_of_cells)\n",
    "\n",
    "fig, ax = pl.subplots(1, 1, figsize=(3, 3))\n",
    "pt.plot_rois(mean_image, contours,\n",
    "             list_of_cells,\n",
    "             colors=['darkorange', 'b', '0.65'],\n",
    "             ax=ax\n",
    "            )\n",
    "ax.set_xticks(())\n",
    "ax.set_yticks(())\n",
    "ax.text(200, 15, 'pos. tuned CS+', color='darkorange', fontsize=5)\n",
    "ax.text(200, 30, 'pos. tuned CS-', color='b', fontsize=5)\n",
    "ax.text(200, 45, 'both', color='darkorange', fontsize=5, alpha=0.5)\n",
    "ax.text(200, 45, 'both', color='b', fontsize=5, alpha=0.5)"
   ]
  },
  {
   "cell_type": "code",
   "execution_count": null,
   "metadata": {
    "collapsed": false
   },
   "outputs": [],
   "source": [
    "list_of_cells = [tuned_cells['reward'][0], tuned_cells['CSm'][1]]\n",
    "rest_of_cells = np.delete(range(events.shape[1]), np.concatenate(list_of_cells))\n",
    "list_of_cells.append(rest_of_cells)\n",
    "\n",
    "fig, ax = pl.subplots(1, 1, figsize=(3, 3))\n",
    "pt.plot_rois(mean_image, contours,\n",
    "             list_of_cells,\n",
    "             colors=['darkorange', 'b', '0.65'],\n",
    "             ax=ax\n",
    "            )\n",
    "ax.set_xticks(())\n",
    "ax.set_yticks(())\n",
    "ax.text(200, 15, 'pos. tuned CS+', color='darkorange', fontsize=5)\n",
    "ax.text(200, 30, 'neg. tuned CS-', color='b', fontsize=5)\n",
    "ax.text(200, 45, 'both', color='darkorange', fontsize=5, alpha=0.5)\n",
    "ax.text(200, 45, 'both', color='b', fontsize=5, alpha=0.5)"
   ]
  },
  {
   "cell_type": "code",
   "execution_count": null,
   "metadata": {
    "collapsed": false
   },
   "outputs": [],
   "source": [
    "list_of_cells = [tuned_cells['rewarded'][0], tuned_cells['rewarded_us'][0]]\n",
    "rest_of_cells = np.delete(range(events.shape[1]), np.concatenate(list_of_cells))\n",
    "list_of_cells.append(rest_of_cells)\n",
    "\n",
    "fig, ax = pl.subplots(1, 1, figsize=(3, 3))\n",
    "pt.plot_rois(mean_image, contours,\n",
    "             list_of_cells,\n",
    "             colors=['darkorange', 'b', '0.65'],\n",
    "             ax=ax\n",
    "            )\n",
    "ax.set_xticks(())\n",
    "ax.set_yticks(())\n",
    "ax.text(200, 15, 'pos. tuned CS+ (rewarded)', color='darkorange', fontsize=5)\n",
    "ax.text(200, 30, 'pos. tuned US+ (rewarded)',color='b', fontsize=5)\n",
    "ax.text(200, 45, 'both', color='darkorange', fontsize=5, alpha=0.5)\n",
    "ax.text(200, 45, 'both', color='b', fontsize=5, alpha=0.5)"
   ]
  },
  {
   "cell_type": "code",
   "execution_count": null,
   "metadata": {
    "collapsed": false
   },
   "outputs": [],
   "source": [
    "list_of_cells = [tuned_cells['rewarded'][1], tuned_cells['rewarded_us'][1]]\n",
    "rest_of_cells = np.delete(range(events.shape[1]), np.concatenate(list_of_cells))\n",
    "list_of_cells.append(rest_of_cells)\n",
    "\n",
    "fig, ax = pl.subplots(1, 1, figsize=(3, 3))\n",
    "pt.plot_rois(mean_image, contours,\n",
    "             list_of_cells,\n",
    "             colors=['darkorange', 'b', '0.65'],\n",
    "             ax=ax\n",
    "            )\n",
    "ax.set_xticks(())\n",
    "ax.set_yticks(())\n",
    "ax.text(200, 15, 'neg. tuned CS+ (rewarded)', color='darkorange', fontsize=5)\n",
    "ax.text(200, 30, 'neg. tuned US+ (rewarded)', color='b', fontsize=5)\n",
    "ax.text(200, 45, 'both', color='darkorange', fontsize=5, alpha=0.5)\n",
    "ax.text(200, 45, 'both', color='b', fontsize=5, alpha=0.5)"
   ]
  },
  {
   "cell_type": "code",
   "execution_count": null,
   "metadata": {
    "collapsed": false
   },
   "outputs": [],
   "source": [
    "list_of_cells = [tuned_cells['rewarded_tc'][0], tuned_cells['rewarded_us'][0]]\n",
    "rest_of_cells = np.delete(range(events.shape[1]), np.concatenate(list_of_cells))\n",
    "list_of_cells.append(rest_of_cells)\n",
    "\n",
    "fig, ax = pl.subplots(1, 1, figsize=(3, 3))\n",
    "pt.plot_rois(mean_image, contours,\n",
    "             list_of_cells,\n",
    "             colors=['darkorange', 'b', '0.65'],\n",
    "             ax=ax\n",
    "            )\n",
    "ax.set_xticks(())\n",
    "ax.set_yticks(())\n",
    "ax.text(200, 15, 'pos. tuned CS+ trace (rewarded)', color='darkorange', fontsize=5)\n",
    "ax.text(200, 30, 'pos. tuned US+ (rewarded)', color='b', fontsize=5)\n",
    "ax.text(200, 45, 'both', color='darkorange', fontsize=5, alpha=0.5)\n",
    "ax.text(200, 45, 'both', color='b', fontsize=5, alpha=0.5)"
   ]
  },
  {
   "cell_type": "code",
   "execution_count": null,
   "metadata": {
    "collapsed": false
   },
   "outputs": [],
   "source": [
    "list_of_cells = [tuned_cells['rewarded_tc'][1], tuned_cells['rewarded_us'][1]]\n",
    "rest_of_cells = np.delete(range(events.shape[1]), np.concatenate(list_of_cells))\n",
    "list_of_cells.append(rest_of_cells)\n",
    "\n",
    "fig, ax = pl.subplots(1, 1, figsize=(3, 3))\n",
    "pt.plot_rois(mean_image, contours,\n",
    "             list_of_cells,\n",
    "             colors=['darkorange', 'b', '0.65'],\n",
    "             ax=ax\n",
    "            )\n",
    "ax.set_xticks(())\n",
    "ax.set_yticks(())\n",
    "ax.text(200, 15, 'neg. tuned CS+ trace (rewarded)', color='darkorange', fontsize=5)\n",
    "ax.text(200, 30, 'neg. tuned US+ (rewarded)', color='b', fontsize=5)\n",
    "ax.text(200, 45, 'both', color='darkorange', fontsize=5, alpha=0.5)\n",
    "ax.text(200, 45, 'both', color='b', fontsize=5, alpha=0.5)"
   ]
  },
  {
   "cell_type": "code",
   "execution_count": null,
   "metadata": {
    "collapsed": false
   },
   "outputs": [],
   "source": [
    "list_of_cells = [tuned_cells['pre_bouts'][0], tuned_cells['reward_onset'][0]]\n",
    "rest_of_cells = np.delete(range(events.shape[1]), np.concatenate(list_of_cells))\n",
    "list_of_cells.append(rest_of_cells)\n",
    "\n",
    "fig, ax = pl.subplots(1, 1, figsize=(3, 3))\n",
    "pt.plot_rois(mean_image, contours,\n",
    "             list_of_cells,\n",
    "             colors=['darkorange', 'b', '0.65'],\n",
    "             ax=ax\n",
    "            )\n",
    "ax.set_xticks(())\n",
    "ax.set_yticks(())\n",
    "ax.text(200, 15, 'pos. tuned prebouts ', color='darkorange', fontsize=5)\n",
    "ax.text(200, 30, 'pos. tuned reward onset', color='b', fontsize=5)\n",
    "ax.text(200, 45, 'both', color='darkorange', fontsize=5, alpha=0.5)\n",
    "ax.text(200, 45, 'both', color='b', fontsize=5, alpha=0.5)"
   ]
  },
  {
   "cell_type": "code",
   "execution_count": null,
   "metadata": {
    "collapsed": false
   },
   "outputs": [],
   "source": [
    "list_of_cells = [tuned_cells['pre_bouts'][1], tuned_cells['reward_onset'][1]]\n",
    "rest_of_cells = np.delete(range(events.shape[1]), np.concatenate(list_of_cells))\n",
    "list_of_cells.append(rest_of_cells)\n",
    "\n",
    "fig, ax = pl.subplots(1, 1, figsize=(3, 3))\n",
    "pt.plot_rois(mean_image, contours,\n",
    "             list_of_cells,\n",
    "             colors=['darkorange', 'b', '0.65'],\n",
    "             ax=ax\n",
    "            )\n",
    "ax.set_xticks(())\n",
    "ax.set_yticks(())\n",
    "ax.text(200, 15, 'neg. tuned prebouts ', color='darkorange', fontsize=5)\n",
    "ax.text(200, 30, 'neg. tuned reward onset', color='b', fontsize=5)\n",
    "ax.text(200, 45, 'both', color='darkorange', fontsize=5, alpha=0.5)\n",
    "ax.text(200, 45, 'both', color='b', fontsize=5, alpha=0.5)"
   ]
  },
  {
   "cell_type": "code",
   "execution_count": null,
   "metadata": {
    "collapsed": false
   },
   "outputs": [],
   "source": [
    "fig, axs = pl.subplots(len(tuned_cells['reward_onset'][0])/6,7, figsize=(7,len(tuned_cells['reward_onset'][0])/6))\n",
    "\n",
    "which_cells = tuned_cells['reward_onset'][0]\n",
    "\n",
    "for cell, ax in zip(which_cells, axs.flatten()):\n",
    "    plot_heat_map(ax, time_ax, events, cell, cycles[is_rewarded], time_ax_single, vmax=1)\n",
    "    for s in ax.spines.itervalues():\n",
    "        s.set_visible(False)\n",
    "    ax.set_xticks(())\n",
    "    ax.set_yticks(())\n",
    "    ax.text(-8, 2, cell+1, color='w', fontsize=6)\n",
    "fig.subplots_adjust(bottom=0.1)\n",
    "cax = pl.axes([0, 0, 1, 0.01])\n",
    "im = axs[0][0].images[0]\n",
    "fig.colorbar(im, cax=cax, orientation='horizontal')\n",
    "fig.suptitle('US+ reward onset cells, tuned up')  "
   ]
  },
  {
   "cell_type": "code",
   "execution_count": null,
   "metadata": {
    "collapsed": false
   },
   "outputs": [],
   "source": [
    "fig, axs = pl.subplots(len(tuned_cells['rewarded'][0])/6,7, figsize=(7,len(tuned_cells['rewarded'][0])/6))\n",
    "which_cells = tuned_cells['rewarded'][0]\n",
    "\n",
    "for cell, ax in zip(which_cells, axs.flatten()):\n",
    "    plot_heat_map(ax, time_ax, events, cell, cycles[is_rewarded], time_ax_single, vmax=2)\n",
    "    for s in ax.spines.itervalues():\n",
    "        s.set_visible(False)\n",
    "    ax.set_xticks(())\n",
    "    ax.set_yticks(())\n",
    "    ax.text(-8, 2, cell+1, color='w', fontsize=6)\n",
    "fig.subplots_adjust(bottom=0.1)\n",
    "cax = pl.axes([0, 0, 1, 0.01])\n",
    "im = axs[0][0].images[0]\n",
    "fig.colorbar(im, cax=cax, orientation='horizontal')\n",
    "fig.suptitle('CS+ cells (rewarded trials), tuned up')  "
   ]
  },
  {
   "cell_type": "markdown",
   "metadata": {
    "collapsed": true
   },
   "source": [
    "# Similarity"
   ]
  },
  {
   "cell_type": "code",
   "execution_count": null,
   "metadata": {
    "collapsed": true
   },
   "outputs": [],
   "source": [
    "def compute_mean_activity_patterns(time_ax, activity, cycles, timeframe):\n",
    "    start, stop = timeframe\n",
    "    return np.r_[[np.mean(activity[(time_ax >= (s+start)) * (time_ax < (s+stop))], 0)\n",
    "                 for s, e in cycles]]"
   ]
  },
  {
   "cell_type": "code",
   "execution_count": null,
   "metadata": {
    "collapsed": false
   },
   "outputs": [],
   "source": [
    "patterns_is_CSmt_CS = compute_mean_activity_patterns(time_ax, events, cycles[is_CSmt],\n",
    "                                                (CS_START-CYCLE_START, CS_START-CYCLE_START+CS_DURATION))\n",
    "print \"There are %d zero activity patterns for CS- trials during CS.\"%((patterns_is_CSmt_CS.sum(1)==0).sum())\n",
    "\n",
    "patterns_is_CSmt_tr = compute_mean_activity_patterns(time_ax, events, cycles[is_CSmt],\n",
    "                                                (CS_START-CYCLE_START+CS_DURATION, CS_START-CYCLE_START+CS_DURATION+DELAY))\n",
    "print \"There are %d zero activity patterns for CS- trials during TRACE.\"%((patterns_is_CSmt_tr.sum(1)==0).sum())\n",
    "\n",
    "patterns_is_CSmt_US = compute_mean_activity_patterns(time_ax, events, cycles[is_CSmt],\n",
    "                                                (US_START-CYCLE_START, US_START-CYCLE_START+US_DURATION))\n",
    "print \"There are %d zero activity patterns for CS- trials during US.\"%((patterns_is_CSmt_US.sum(1)==0).sum())\n",
    "\n",
    "patterns_is_rewardt_CS = compute_mean_activity_patterns(time_ax, events, cycles[is_rewardt],\n",
    "                                                (CS_START-CYCLE_START, CS_START-CYCLE_START+CS_DURATION))\n",
    "print \"There are %d zero activity patterns for CS+ trials during CS.\"%((patterns_is_rewardt_CS.sum(1)==0).sum())\n",
    "\n",
    "patterns_is_rewardt_tr = compute_mean_activity_patterns(time_ax, events, cycles[is_rewardt],\n",
    "                                                (CS_START-CYCLE_START+CS_DURATION, CS_START-CYCLE_START+CS_DURATION+DELAY))\n",
    "print \"There are %d zero activity patterns for CS+ trials during TRACE.\"%((patterns_is_rewardt_tr.sum(1)==0).sum())\n",
    "\n",
    "patterns_is_rewardt_US = compute_mean_activity_patterns(time_ax, events, cycles[is_rewardt],\n",
    "                                                (US_START-CYCLE_START, US_START-CYCLE_START+US_DURATION))\n",
    "print \"There are %d zero activity patterns for CS+ trials during US.\"%((patterns_is_rewardt_US.sum(1)==0).sum())\n",
    "\n",
    "patterns_is_rewarded_CS = compute_mean_activity_patterns(time_ax, events, cycles[is_rewarded],\n",
    "                                                (CS_START-CYCLE_START, CS_START-CYCLE_START+CS_DURATION))\n",
    "print \"There are %d zero activity patterns for rewarded trials during CS.\"%((patterns_is_rewarded_CS.sum(1)==0).sum())\n",
    "\n",
    "patterns_is_rewarded_tr = compute_mean_activity_patterns(time_ax, events, cycles[is_rewarded],\n",
    "                                                (CS_START-CYCLE_START+CS_DURATION, CS_START-CYCLE_START+CS_DURATION+DELAY))\n",
    "print \"There are %d zero activity patterns for rewarded trials during TRACE.\"%((patterns_is_rewarded_tr.sum(1)==0).sum())\n",
    "\n",
    "patterns_is_rewarded_US = compute_mean_activity_patterns(time_ax, events, cycles[is_rewarded],\n",
    "                                                (US_START-CYCLE_START, US_START-CYCLE_START+US_DURATION))\n",
    "print \"There are %d zero activity patterns for rewarded trials during US.\"%((patterns_is_rewarded_US.sum(1)==0).sum())\n",
    "\n",
    "patterns_is_not_rewarded_CS = compute_mean_activity_patterns(time_ax, events, cycles[is_not_rewarded],\n",
    "                                                (CS_START-CYCLE_START, CS_START-CYCLE_START+CS_DURATION))\n",
    "print \"There are %d zero activity patterns for unrewarded CS+ trials during CS.\"%((patterns_is_not_rewarded_CS.sum(1)==0).sum())\n",
    "\n",
    "patterns_is_not_rewarded_tr = compute_mean_activity_patterns(time_ax, events, cycles[is_not_rewarded],\n",
    "                                                (CS_START-CYCLE_START+CS_DURATION, CS_START-CYCLE_START+CS_DURATION+DELAY))\n",
    "print \"There are %d zero activity patterns for unrewarded CS+ trials during TRACE.\"%((patterns_is_not_rewarded_tr.sum(1)==0).sum())\n",
    "\n",
    "patterns_is_not_rewarded_US = compute_mean_activity_patterns(time_ax, events, cycles[is_not_rewarded],\n",
    "                                                (US_START-CYCLE_START, US_START-CYCLE_START+US_DURATION))\n",
    "print \"There are %d zero activity patterns for unrewarded CS+ trials during US.\"%((patterns_is_not_rewarded_US.sum(1)==0).sum())\n",
    "\n",
    "patterns_is_errCSmt_CS = compute_mean_activity_patterns(time_ax, events, cycles[is_errCSmt],\n",
    "                                                (CS_START-CYCLE_START, CS_START-CYCLE_START+CS_DURATION))\n",
    "print \"There are %d zero activity patterns for errCS- trials during CS.\"%((patterns_is_errCSmt_CS.sum(1)==0).sum())\n",
    "\n",
    "patterns_is_errCSmt_tr = compute_mean_activity_patterns(time_ax, events, cycles[is_errCSmt],\n",
    "                                                (CS_START-CYCLE_START+CS_DURATION, CS_START-CYCLE_START+CS_DURATION+DELAY))\n",
    "print \"There are %d zero activity patterns for errCS- trials during CS.\"%((patterns_is_errCSmt_tr.sum(1)==0).sum())\n",
    "\n",
    "patterns_is_errCSmt_US = compute_mean_activity_patterns(time_ax, events, cycles[is_errCSmt],\n",
    "                                                (US_START-CYCLE_START, US_START-CYCLE_START+US_DURATION))\n",
    "print \"There are %d zero activity patterns for errCS- trials during CS.\"%((patterns_is_errCSmt_CS.sum(1)==0).sum())\n",
    "\n",
    "patterns_is_corrCSmt_CS = compute_mean_activity_patterns(time_ax, events, cycles[is_corrCSmt],\n",
    "                                                (CS_START-CYCLE_START, CS_START-CYCLE_START+CS_DURATION))\n",
    "print \"There are %d zero activity patterns for corrCS- trials during CS.\"%((patterns_is_corrCSmt_CS.sum(1)==0).sum())\n",
    "\n",
    "patterns_is_corrCSmt_tr = compute_mean_activity_patterns(time_ax, events, cycles[is_corrCSmt],\n",
    "                                                (CS_START-CYCLE_START+CS_DURATION, CS_START-CYCLE_START+CS_DURATION+DELAY))\n",
    "print \"There are %d zero activity patterns for corrCS- trials during CS.\"%((patterns_is_corrCSmt_tr.sum(1)==0).sum())\n",
    "\n",
    "patterns_is_corrCSmt_US = compute_mean_activity_patterns(time_ax, events, cycles[is_corrCSmt],\n",
    "                                                (US_START-CYCLE_START, US_START-CYCLE_START+US_DURATION))\n",
    "print \"There are %d zero activity patterns for corrCS- trials during CS.\"%((patterns_is_corrCSmt_CS.sum(1)==0).sum())\n",
    "\n",
    "\n",
    "baseline = -2\n",
    "patterns_bs = compute_mean_activity_patterns(time_ax, events, cycles,\n",
    "                                             (CS_START-CYCLE_START+baseline,\n",
    "                                              CS_START-CYCLE_START+CS_DURATION+baseline))\n",
    "print \"There are %d zero activity patterns for baseline trials during baseline.\"%((patterns_bs.sum(1)==0).sum())"
   ]
  },
  {
   "cell_type": "code",
   "execution_count": null,
   "metadata": {
    "collapsed": false
   },
   "outputs": [],
   "source": [
    "def compute_similarity_matrix(pattern_ids, all_patterns):\n",
    "    \n",
    "    corrmat_distr = {}\n",
    "    for i, (l, a) in enumerate(zip(pattern_ids, all_patterns)):\n",
    "        for j, (m, b) in enumerate(zip(pattern_ids, all_patterns)):\n",
    "            temp = []\n",
    "            for ii, aa in enumerate(a):\n",
    "                for jj, bb in enumerate(b):\n",
    "                    if ii==jj or np.sum(aa)==0 or np.sum(bb)==0: continue\n",
    "    #                 temp.append(np.dot(aa-aa.mean(), bb-bb.mean())/\n",
    "    #                             np.sqrt(np.dot(aa-aa.mean(), aa-aa.mean()) * np.dot(bb-bb.mean(), bb-bb.mean())))\n",
    "                    temp.append(sstats.pearsonr(aa, bb)[0])\n",
    "            corrmat_distr[(l, m)] = temp\n",
    "    corrmat = np.zeros((len(pattern_ids), len(pattern_ids)))\n",
    "    for i, p in enumerate(pattern_ids):\n",
    "        for j, q in enumerate(pattern_ids):\n",
    "            corrmat[i][j] = np.mean(corrmat_distr[(p, q)])\n",
    "    return corrmat_distr, corrmat\n",
    "            \n",
    "#pattern_ids = ['ITI', 'CSm_CS', 'rewardt_CS']\n",
    "#all_patterns = patterns_bs, patterns_is_CSmt_CS, patterns_is_rewardt_CS, patterns_is_not_rewarded_CS\n",
    "#corrmat_distr, corrmat = compute_similarity_matrix(pattern_ids, all_patterns)"
   ]
  },
  {
   "cell_type": "code",
   "execution_count": null,
   "metadata": {
    "collapsed": false
   },
   "outputs": [],
   "source": [
    "def plot_mat(all_patterns, corrmat, vmin=0, vmax=.1, ax=None):\n",
    "    if ax is None:\n",
    "        fig, ax = pl.subplots(1, 1, figsize=(2, 2))\n",
    "\n",
    "    #im = ax.imshow(corrmat, vmin=0., vmax=0.07)\n",
    "    im = ax.imshow(corrmat, vmin=vmin, vmax=vmax)\n",
    "    ax.set_yticks(range(len(all_patterns)))\n",
    "    ax.set_xticks(range(len(all_patterns)))\n",
    "    ax.set_xticklabels(pattern_ids, rotation=60, fontsize=5)\n",
    "    ax.set_yticklabels(pattern_ids, fontsize=5)\n",
    "    ax.set_xlim(-0.5, len(all_patterns)-0.5)\n",
    "    ax.set_ylim(-0.5, len(all_patterns)-0.5)\n",
    "#    pl.colorbar(im)\n",
    "#     ax.set_title('Pattern similarity', fontsize=7)\n",
    "\n",
    "    return im, ax"
   ]
  },
  {
   "cell_type": "code",
   "execution_count": null,
   "metadata": {
    "collapsed": false,
    "scrolled": false
   },
   "outputs": [],
   "source": [
    "fig, axs = pl.subplots(1, 3, figsize=(3, 1), sharex=True, sharey=True)\n",
    "\n",
    "vmin, vmax = 0, 0.15\n",
    "\n",
    "pattern_ids = ['ITI', 'CSm_CS', 'rewardt_CS']\n",
    "all_patterns = patterns_bs, patterns_is_CSmt_CS, patterns_is_rewardt_CS\n",
    "corrmat_distr, corrmat = compute_similarity_matrix(pattern_ids, all_patterns)\n",
    "plot_mat(all_patterns, corrmat, ax=axs[0], vmin=vmin, vmax=vmax)\n",
    "\n",
    "pattern_ids = ['ITI', 'CSm_tr', 'rewardt_tr']\n",
    "all_patterns = patterns_bs, patterns_is_CSmt_tr, patterns_is_rewardt_tr\n",
    "corrmat_distr, corrmat = compute_similarity_matrix(pattern_ids, all_patterns)\n",
    "plot_mat(all_patterns, corrmat, ax=axs[1], vmin=vmin, vmax=vmax)\n",
    "\n",
    "pattern_ids = ['ITI', 'CSm_US', 'rewardt_US']\n",
    "all_patterns = patterns_bs, patterns_is_CSmt_US, patterns_is_rewardt_US\n",
    "corrmat_distr, corrmat = compute_similarity_matrix(pattern_ids, all_patterns)\n",
    "im, ax = plot_mat(all_patterns, corrmat, ax=axs[2], vmin=vmin, vmax=vmax)\n",
    "\n",
    "pl.colorbar(im, ax=ax)\n",
    "\n",
    "axs[0].set_yticklabels(['ITI', 'CS-', 'CS+'])\n",
    "axs[0].set_xticklabels(['ITI', 'CS-', 'CS+'])\n",
    "\n",
    "axs[0].set_title('During CS', fontsize=7)\n",
    "axs[1].set_title('During Trace', fontsize=7)\n",
    "axs[2].set_title('During US', fontsize=7)"
   ]
  },
  {
   "cell_type": "code",
   "execution_count": null,
   "metadata": {
    "collapsed": false
   },
   "outputs": [],
   "source": [
    "fig, axs = pl.subplots(1, 3, figsize=(3, 1), sharex=True, sharey=True)\n",
    "\n",
    "vmin, vmax = 0, 0.15\n",
    "\n",
    "pattern_ids = ['ITI', 'err_CSm_CS', 'rewarded_CS']\n",
    "all_patterns = patterns_bs, patterns_is_errCSmt_CS, patterns_is_rewarded_CS\n",
    "corrmat_distr, corrmat = compute_similarity_matrix(pattern_ids, all_patterns)\n",
    "plot_mat(all_patterns, corrmat, ax=axs[0], vmin=vmin, vmax=vmax)\n",
    "\n",
    "pattern_ids = ['ITI', 'err_CSm_tr', 'rewarded_tr']\n",
    "all_patterns = patterns_bs, patterns_is_errCSmt_tr, patterns_is_rewarded_tr\n",
    "corrmat_distr, corrmat = compute_similarity_matrix(pattern_ids, all_patterns)\n",
    "plot_mat(all_patterns, corrmat, ax=axs[1], vmin=vmin, vmax=vmax)\n",
    "\n",
    "pattern_ids = ['ITI', 'err_CSm_US', 'rewarded_US']\n",
    "all_patterns = patterns_bs, patterns_is_errCSmt_US, patterns_is_rewarded_US\n",
    "corrmat_distr, corrmat = compute_similarity_matrix(pattern_ids, all_patterns)\n",
    "im, ax = plot_mat(all_patterns, corrmat, ax=axs[2], vmin=vmin, vmax=vmax)\n",
    "\n",
    "pl.colorbar(im, ax=ax)\n",
    "\n",
    "axs[0].set_yticklabels(['ITI', 'errCS-', 'rewCS+'])\n",
    "axs[0].set_xticklabels(['ITI', 'errCS-', 'rewCS+'])\n",
    "\n",
    "axs[0].set_title('During CS', fontsize=7)\n",
    "axs[1].set_title('During Trace', fontsize=7)\n",
    "axs[2].set_title('During US', fontsize=7)"
   ]
  },
  {
   "cell_type": "code",
   "execution_count": null,
   "metadata": {
    "collapsed": false
   },
   "outputs": [],
   "source": [
    "fig, axs = pl.subplots(1, 3, figsize=(3, 1), sharex=True, sharey=True)\n",
    "\n",
    "vmin, vmax = 0, 0.15\n",
    "\n",
    "pattern_ids = ['ITI', 'corr_CSm_CS', 'rewarded_CS']\n",
    "all_patterns = patterns_bs, patterns_is_corrCSmt_CS, patterns_is_rewarded_CS\n",
    "corrmat_distr, corrmat = compute_similarity_matrix(pattern_ids, all_patterns)\n",
    "plot_mat(all_patterns, corrmat, ax=axs[0], vmin=vmin, vmax=vmax)\n",
    "\n",
    "pattern_ids = ['ITI', 'corr_CSm_tr', 'rewarded_tr']\n",
    "all_patterns = patterns_bs, patterns_is_corrCSmt_tr, patterns_is_rewarded_tr\n",
    "corrmat_distr, corrmat = compute_similarity_matrix(pattern_ids, all_patterns)\n",
    "plot_mat(all_patterns, corrmat, ax=axs[1], vmin=vmin, vmax=vmax)\n",
    "\n",
    "pattern_ids = ['ITI', 'corr_CSm_US', 'rewarded_US']\n",
    "all_patterns = patterns_bs, patterns_is_corrCSmt_US, patterns_is_rewarded_US\n",
    "corrmat_distr, corrmat = compute_similarity_matrix(pattern_ids, all_patterns)\n",
    "im, ax = plot_mat(all_patterns, corrmat, ax=axs[2], vmin=vmin, vmax=vmax)\n",
    "\n",
    "pl.colorbar(im, ax=ax)\n",
    "\n",
    "axs[0].set_yticklabels(['ITI', 'corrCS-', 'rewCS+'])\n",
    "axs[0].set_xticklabels(['ITI', 'corrCS-', 'rewCS+'])\n",
    "\n",
    "axs[0].set_title('During CS', fontsize=7)\n",
    "axs[1].set_title('During Trace', fontsize=7)\n",
    "axs[2].set_title('During US', fontsize=7)"
   ]
  },
  {
   "cell_type": "code",
   "execution_count": null,
   "metadata": {
    "collapsed": true
   },
   "outputs": [],
   "source": [
    "#patterns_is_CSmt_CS = compute_mean_activity_patterns(time_ax, events, cycles[is_CSmt],\n",
    "#patterns_is_CSmt_tr = compute_mean_activity_patterns(time_ax, events, cycles[is_CSmt],\n",
    "#patterns_is_CSmt_US = compute_mean_activity_patterns(time_ax, events, cycles[is_CSmt],\n",
    "#patterns_is_rewardt_CS = compute_mean_activity_patterns(time_ax, events, cycles[is_rewardt],\n",
    "#patterns_is_rewardt_tr = compute_mean_activity_patterns(time_ax, events, cycles[is_rewardt],\n",
    "#patterns_is_rewardt_US = compute_mean_activity_patterns(time_ax, events, cycles[is_rewardt],\n",
    "#patterns_is_rewarded_CS = compute_mean_activity_patterns(time_ax, events, cycles[is_rewarded],\n",
    "#patterns_is_rewarded_tr = compute_mean_activity_patterns(time_ax, events, cycles[is_rewarded],\n",
    "#patterns_is_rewarded_US = compute_mean_activity_patterns(time_ax, events, cycles[is_rewarded],\n",
    "#patterns_is_not_rewarded_CS = compute_mean_activity_patterns(time_ax, events, cycles[is_not_rewarded],\n",
    "#patterns_is_not_rewarded_tr = compute_mean_activity_patterns(time_ax, events, cycles[is_not_rewarded],\n",
    "#patterns_is_not_rewarded_US = compute_mean_activity_patterns(time_ax, events, cycles[is_not_rewarded],\n",
    "#patterns_is_errCSmt_CS = compute_mean_activity_patterns(time_ax, events, cycles[is_errCSmt],\n",
    "#patterns_is_errCSmt_tr = compute_mean_activity_patterns(time_ax, events, cycles[is_errCSmt],\n",
    "#patterns_is_errCSmt_US = compute_mean_activity_patterns(time_ax, events, cycles[is_errCSmt],\n",
    "#patterns_is_corrCSmt_CS = compute_mean_activity_patterns(time_ax, events, cycles[is_corrCSmt],\n",
    "#patterns_is_corrCSmt_tr = compute_mean_activity_patterns(time_ax, events, cycles[is_corrCSmt],\n",
    "#patterns_is_corrCSmt_US = compute_mean_activity_patterns(time_ax, events, cycles[is_corrCSmt],\n",
    "#patterns_bs = compute_mean_activity_patterns(time_ax, events, cycles,"
   ]
  },
  {
   "cell_type": "code",
   "execution_count": null,
   "metadata": {
    "collapsed": false
   },
   "outputs": [],
   "source": [
    "pattern_ids = ['ITI', 'CSm_CS', 'CSm_tr', 'CSm_US', 'rewardt_CS', 'rewardt_tr', 'rewardt_US',\n",
    "              'rewarded_CS', 'rewarded_tr', 'rewarded_US',\n",
    "              'err_reward_CS', 'err_reward_tr', 'err_reward_US',\n",
    "              'err_CSm_CS', 'err_CSm_tr', 'err_CSm_US',\n",
    "              'corr_CSm_CS', 'corr_CSm_tr', 'corr_CSm_US',]\n",
    "# the '\\' below is to enable text wrapping\n",
    "all_patterns = patterns_bs, patterns_is_CSmt_CS, patterns_is_CSmt_tr, patterns_is_CSmt_US,\\\n",
    "patterns_is_rewardt_CS, patterns_is_rewardt_tr, patterns_is_rewardt_US,\\\n",
    "patterns_is_rewarded_CS, patterns_is_rewarded_tr, patterns_is_rewarded_US,\\\n",
    "patterns_is_not_rewarded_CS, patterns_is_not_rewarded_tr, patterns_is_not_rewarded_US,\\\n",
    "patterns_is_errCSmt_CS, patterns_is_errCSmt_tr, patterns_is_errCSmt_US,\\\n",
    "patterns_is_corrCSmt_CS, patterns_is_corrCSmt_tr, patterns_is_corrCSmt_US\n",
    "\n",
    "\n",
    "corrmat_distr, corrmat = compute_similarity_matrix(pattern_ids, all_patterns)"
   ]
  },
  {
   "cell_type": "code",
   "execution_count": null,
   "metadata": {
    "collapsed": false
   },
   "outputs": [],
   "source": [
    "pairs_to_plot = [('ITI', 'ITI'), ('ITI','rewardt_CS'), ('ITI','rewardt_tr'), ('ITI','rewardt_US'),\n",
    "                ('rewardt_CS','rewardt_CS'), ('rewardt_CS','CSm_CS'), ('CSm_CS','CSm_CS'),\n",
    "                ('rewardt_tr','rewardt_tr'), ('rewardt_tr','CSm_tr'), ('CSm_tr','CSm_tr'),\n",
    "                ('rewardt_US','rewardt_US'), ('rewardt_US','CSm_US'), ('CSm_US','CSm_US'),\n",
    "                ('rewarded_CS','rewarded_CS'), ('rewarded_tr','rewarded_tr'), ('rewarded_US','rewarded_US'),\n",
    "                ('rewardt_CS','rewardt_tr'), ('rewardt_CS','rewardt_US'), ('rewardt_tr','rewardt_US'),\n",
    "                ('rewarded_CS','rewarded_tr'), ('rewarded_CS','rewarded_US'), ('rewarded_tr','rewarded_US'),\n",
    "                ('rewarded_CS','err_CSm_CS'), ('rewarded_tr','err_CSm_tr'), ('rewarded_US','err_CSm_US'),\n",
    "                ('corr_CSm_CS','corr_CSm_CS'), ('corr_CSm_tr','corr_CSm_tr'), ('corr_CSm_US','corr_CSm_US'),\n",
    "                ('err_reward_CS','corr_CSm_CS'), ('err_reward_tr','corr_CSm_tr'), ('err_reward_US','corr_CSm_US'),\n",
    "                ('err_reward_CS','rewarded_CS'),  ('err_reward_tr','rewarded_tr'),  ('err_reward_US','rewarded_US'),\n",
    "                ('rewarded_CS','corr_CSm_CS'), ('rewarded_tr','corr_CSm_tr'), ('rewarded_US','corr_CSm_US')]\n",
    "\n",
    "values = [corrmat_distr[p] for p in pairs_to_plot]\n",
    "\n",
    "sel_listb = os.path.join(data_folder, 'diggsie_similarity_list.txt')\n",
    "n=-1\n",
    "with open(sel_listb, 'w+') as f:\n",
    "    for v in values:\n",
    "        n=n+1\n",
    "        f.write('%s\\t%s\\t%s\\n'% ((pairs_to_plot[n]), str(np.mean(v)), str((np.std(v)/np.sqrt(len(v)-1)))))\n",
    "        # .txt file reports comparison, mean, SEM"
   ]
  },
  {
   "cell_type": "code",
   "execution_count": null,
   "metadata": {
    "collapsed": false
   },
   "outputs": [],
   "source": [
    "pairs_to_plot = [('ITI', 'ITI'), ('CSm_US', 'rewardt_tr'), ('rewardt_US', 'rewardt_US')]\n",
    "colors = ['0.7', 'r', 'b']\n",
    "\n",
    "fig, axs = pl.subplots(1, 2, figsize=(4, 2), gridspec_kw={'width_ratios':[1, 2]})\n",
    "values = [corrmat_distr[p] for p in pairs_to_plot]\n",
    "ax = axs[0]\n",
    "pt.barplot(ax, [0, 1, 2], [np.mean(v) for v in values], [np.std(v)/np.sqrt(len(v)-1) for v in values],\n",
    "           color=colors)\n",
    "pt.add_significance(ax, values[0], values[1], 0, 1, 0.25, thresholds=(1e-3, 1e-4, 1e-5))\n",
    "pt.add_significance(ax, values[1], values[2], 1, 2, 0.27, thresholds=(1e-3, 1e-4, 1e-5))\n",
    "pt.add_significance(ax, values[0], values[2], 0, 2, 0.29, thresholds=(1e-3, 1e-4, 1e-5))\n",
    "ax.set_xticks(range(3))\n",
    "ax.set_xticklabels([\"%s\\nvs\\n%s\"%p for p in pairs_to_plot],fontsize=5)\n",
    "ax.set_ylim(0, .3)\n",
    "ax.set_ylabel(\"Pattern similarity\")\n",
    "pt.nicer_plot(ax)\n",
    "\n",
    "ax = axs[1]\n",
    "for v, c in zip(values, colors):\n",
    "    y, x = np.histogram(v, 100)\n",
    "    ax.plot(np.linspace(0, 1, len(y)), 1.*np.cumsum(y)/np.sum(y), color=c, lw=1)\n",
    "pt.nicer_plot(ax)\n",
    "ax.set_xticks((0, 1))\n",
    "ax.set_xticklabels((0, 'max'))\n",
    "ax.set_yticks((0, 1))\n",
    "ax.set_xlabel('Pattern similarity')\n",
    "ax.set_ylabel('Fraction of trials')\n",
    "\n",
    "fig.tight_layout()\n",
    "\n",
    "#import csv\n",
    "#\n",
    "#sel_list = os.path.join(data_folder, 'similarity_list.csv')\n",
    "#with open(sel_list, \"w\") as output:\n",
    "#        writer = csv.writer(output, lineterminator='\\n')\n",
    "#        for v in values:\n",
    "#            writer.writerow([np.mean(v)]) "
   ]
  },
  {
   "cell_type": "code",
   "execution_count": null,
   "metadata": {
    "collapsed": false,
    "scrolled": false
   },
   "outputs": [],
   "source": [
    "pairs_to_plot = [('ITI', 'ITI'), ('CSm_US', 'rewardt_tr'), ('rewardt_US', 'rewardt_US')]\n",
    "colors = ['r', 'b']\n",
    "\n",
    "fig, axs = pl.subplots(1, 2, figsize=(4, 2), gridspec_kw={'width_ratios':[1, 2]})\n",
    "\n",
    "values = [corrmat_distr[p] for p in pairs_to_plot]\n",
    "\n",
    "ax = axs[0]\n",
    "m = np.mean(values[0])\n",
    "pt.barplot(ax, range(2),\n",
    "           [np.mean((v-m)/m) for v in values[1:]],\n",
    "           [np.std((v-m)/m)/np.sqrt(len(v)-1) for v in values[1:]],\n",
    "           color=colors)\n",
    "pt.add_significance(ax, values[1], values[2], 0, 1, .25)\n",
    "# pt.add_significance(ax, values[1], values[2], 1, 2, 0.27, thresholds=(1e-3, 1e-4, 1e-5))\n",
    "# pt.add_significance(ax, values[0], values[2], 0, 2, 0.29, thresholds=(1e-3, 1e-4, 1e-5))\n",
    "ax.set_xticks(range(len(values)))\n",
    "ax.set_xticklabels([\"%s\\nvs\\n%s\"%p for p in pairs_to_plot[1:]])\n",
    "# ax.set_ylim(0, .3)\n",
    "ax.set_ylabel('Ensemble similarity\\nw.r.t. to ITI (%)')\n",
    "pt.nicer_plot(ax)\n",
    "\n",
    "ax = axs[1]\n",
    "for v, c in zip(values[1:], colors):\n",
    "    y, x = np.histogram(v, 100)\n",
    "    ax.plot(np.linspace(0, 1, len(y)), 1.*np.cumsum(y)/np.sum(y), color=c, lw=1)\n",
    "pt.nicer_plot(ax)\n",
    "ax.set_xticks((0, 1))\n",
    "ax.set_xticklabels((0, 'max'))\n",
    "ax.set_yticks((0, 1))\n",
    "ax.set_xlabel('Ensemble similarity w.r.t. to ITI')\n",
    "ax.set_ylabel('Fraction of trials')\n",
    "\n",
    "fig.tight_layout()"
   ]
  },
  {
   "cell_type": "markdown",
   "metadata": {
    "collapsed": false
   },
   "source": [
    "# Stability"
   ]
  },
  {
   "cell_type": "code",
   "execution_count": null,
   "metadata": {
    "collapsed": true
   },
   "outputs": [],
   "source": [
    "from itertools import product"
   ]
  },
  {
   "cell_type": "code",
   "execution_count": null,
   "metadata": {
    "collapsed": true
   },
   "outputs": [],
   "source": [
    "n_chunks = 3\n",
    "chunk_length = len(cycles)/3\n",
    "\n",
    "chunk_ids = np.zeros(len(cycles))\n",
    "for i in xrange(n_chunks):\n",
    "    chunk_ids[chunk_length*i:chunk_length*(i+1)] = i\n"
   ]
  },
  {
   "cell_type": "code",
   "execution_count": null,
   "metadata": {
    "collapsed": false
   },
   "outputs": [],
   "source": [
    "all_patterns_stab = [compute_mean_activity_patterns(time_ax, events, cycles[eval('is_%s'%od) * (chunk_ids==i)],\n",
    "                                         (CS_START-CYCLE_START, CS_START-CYCLE_START+CS_DURATION))\n",
    "            for (od, i) in product(['rewarded', 'not_rewarded', 'CSmt'], range(n_chunks))]\n",
    "baseline = -2\n",
    "all_patterns_stab.append(compute_mean_activity_patterns(time_ax, events, cycles,\n",
    "                                               (CS_START-CYCLE_START+baseline,\n",
    "                                                CS_START-CYCLE_START+CS_DURATION+baseline)))\n",
    "\n",
    "pattern_ids_stab = [(i, od) for (od, i) in product(['rew', 'not_rew', 'CSmt'], range(n_chunks))]\n",
    "# all_patterns = patterns_bs, patterns_odor1, patterns_odor3, patterns_odor5\n",
    "corrmat_distr_stab, corrmat_stab = compute_similarity_matrix(pattern_ids_stab, all_patterns_stab)"
   ]
  },
  {
   "cell_type": "code",
   "execution_count": null,
   "metadata": {
    "collapsed": false
   },
   "outputs": [],
   "source": [
    "fig, ax = pl.subplots(1, 1, figsize=(2, 2))\n",
    "\n",
    "# im = ax.imshow(corrmat, vmin=0.14, vmax=0.26)\n",
    "im = ax.imshow(corrmat_stab)\n",
    "ax.set_yticks(range(len(all_patterns_stab)))\n",
    "ax.set_xticks(range(len(all_patterns_stab)))\n",
    "ax.set_xticklabels([\"%s (%d)\"%(p[1], p[0]+1) for p in pattern_ids_stab], rotation=75)\n",
    "ax.set_yticklabels([\"%s (%d)\"%(p[1], p[0]+1) for p in pattern_ids_stab])\n",
    "pl.colorbar(im)\n",
    "ax.set_title('Stability of CS\\npattern similarity', fontsize=7)\n",
    "ax.vlines(np.linspace(0, 9, 4)-0.5, 0-0.5, 9-0.5, color='r', lw=.5)\n",
    "ax.hlines(np.linspace(0, 9, 4)-0.5, 0-0.5, 9-0.5, color='r', lw=.5)\n",
    "pt.nicer_plot(ax)\n",
    "for v in ax.spines.itervalues():\n",
    "    v.set_visible(False)"
   ]
  },
  {
   "cell_type": "code",
   "execution_count": null,
   "metadata": {
    "collapsed": true
   },
   "outputs": [],
   "source": [
    "all_patterns_stab = [compute_mean_activity_patterns(time_ax, events, cycles[eval('is_%s'%od) * (chunk_ids==i)],\n",
    "                                         (CS_START-CYCLE_START+CS_DURATION, CS_START-CYCLE_START+CS_DURATION+DELAY))\n",
    "            for (od, i) in product(['rewarded', 'not_rewarded', 'CSmt'], range(n_chunks))]\n",
    "baseline = -2\n",
    "all_patterns_stab.append(compute_mean_activity_patterns(time_ax, events, cycles,\n",
    "                                               (CS_START-CYCLE_START+baseline,\n",
    "                                                CS_START-CYCLE_START+CS_DURATION+baseline)))\n",
    "\n",
    "pattern_ids_stab = [(i, od) for (od, i) in product(['rew', 'not_rew', 'CSmt'], range(n_chunks))]\n",
    "# all_patterns = patterns_bs, patterns_odor1, patterns_odor3, patterns_odor5\n",
    "corrmat_distr_stab, corrmat_stab = compute_similarity_matrix(pattern_ids_stab, all_patterns_stab)"
   ]
  },
  {
   "cell_type": "code",
   "execution_count": null,
   "metadata": {
    "collapsed": false
   },
   "outputs": [],
   "source": [
    "fig, ax = pl.subplots(1, 1, figsize=(2, 2))\n",
    "\n",
    "# im = ax.imshow(corrmat, vmin=0.14, vmax=0.26)\n",
    "im = ax.imshow(corrmat_stab)\n",
    "ax.set_yticks(range(len(all_patterns_stab)))\n",
    "ax.set_xticks(range(len(all_patterns_stab)))\n",
    "ax.set_xticklabels([\"%s (%d)\"%(p[1], p[0]+1) for p in pattern_ids_stab], rotation=75)\n",
    "ax.set_yticklabels([\"%s (%d)\"%(p[1], p[0]+1) for p in pattern_ids_stab])\n",
    "pl.colorbar(im)\n",
    "ax.set_title('Stability of trace\\npattern similarity', fontsize=7)\n",
    "ax.vlines(np.linspace(0, 9, 4)-0.5, 0-0.5, 9-0.5, color='r', lw=.5)\n",
    "ax.hlines(np.linspace(0, 9, 4)-0.5, 0-0.5, 9-0.5, color='r', lw=.5)\n",
    "pt.nicer_plot(ax)\n",
    "for v in ax.spines.itervalues():\n",
    "    v.set_visible(False)"
   ]
  },
  {
   "cell_type": "code",
   "execution_count": null,
   "metadata": {
    "collapsed": false
   },
   "outputs": [],
   "source": [
    "all_patterns_stab = [compute_mean_activity_patterns(time_ax, events, cycles[eval('is_%s'%od) * (chunk_ids==i)],\n",
    "                                         (US_START-CYCLE_START, US_START-CYCLE_START+US_DURATION))\n",
    "            for (od, i) in product(['rewarded', 'not_rewarded', 'CSmt'], range(n_chunks))]\n",
    "baseline = -2\n",
    "all_patterns_stab.append(compute_mean_activity_patterns(time_ax, events, cycles,\n",
    "                                               (CS_START-CYCLE_START+baseline,\n",
    "                                                CS_START-CYCLE_START+CS_DURATION+baseline)))\n",
    "\n",
    "pattern_ids_stab = [(i, od) for (od, i) in product(['rew', 'not_rew', 'CSmt'], range(n_chunks))]\n",
    "# all_patterns = patterns_bs, patterns_odor1, patterns_odor3, patterns_odor5\n",
    "corrmat_distr_stab, corrmat_stab = compute_similarity_matrix(pattern_ids_stab, all_patterns_stab)"
   ]
  },
  {
   "cell_type": "code",
   "execution_count": null,
   "metadata": {
    "collapsed": false
   },
   "outputs": [],
   "source": [
    "fig, ax = pl.subplots(1, 1, figsize=(2, 2))\n",
    "\n",
    "# im = ax.imshow(corrmat, vmin=0.14, vmax=0.26)\n",
    "im = ax.imshow(corrmat_stab)\n",
    "ax.set_yticks(range(len(all_patterns_stab)))\n",
    "ax.set_xticks(range(len(all_patterns_stab)))\n",
    "ax.set_xticklabels([\"%s (%d)\"%(p[1], p[0]+1) for p in pattern_ids_stab], rotation=75)\n",
    "ax.set_yticklabels([\"%s (%d)\"%(p[1], p[0]+1) for p in pattern_ids_stab])\n",
    "pl.colorbar(im)\n",
    "ax.set_title('Stability of US\\npattern similarity', fontsize=7)\n",
    "ax.vlines(np.linspace(0, 9, 4)-0.5, 0-0.5, 9-0.5, color='r', lw=.5)\n",
    "ax.hlines(np.linspace(0, 9, 4)-0.5, 0-0.5, 9-0.5, color='r', lw=.5)\n",
    "pt.nicer_plot(ax)\n",
    "for v in ax.spines.itervalues():\n",
    "    v.set_visible(False)"
   ]
  },
  {
   "cell_type": "markdown",
   "metadata": {},
   "source": [
    " # Activity trends"
   ]
  },
  {
   "cell_type": "code",
   "execution_count": null,
   "metadata": {
    "collapsed": false
   },
   "outputs": [],
   "source": [
    "def compute_activity_trend(time_ax, traces, events_of_interest,\n",
    "                           which_cells=None, tpre=0, tpost=2):\n",
    "    if which_cells is None:\n",
    "        which_cells = range(traces.shape[1])\n",
    "    \n",
    "    extracted_traces = ut.extract_traces_around_event(time_ax, traces, events_of_interest, tpre, tpost)\n",
    "    return extracted_traces.mean(1)[:, which_cells].mean(1)\n",
    "\n",
    "def plot_activity_trend(trend, smooth_win=10, ax=None):\n",
    "    if ax is None:\n",
    "        fig, ax = pl.subplots(1, 1, figsize=(3, 2))\n",
    "    ax.plot(trend, lw=.5, color='0.8')\n",
    "    \n",
    "    ax.plot(np.convolve(trend, np.ones(smooth_win).astype(float)/smooth_win, mode='same', ), lw=1, color='C0')\n",
    "\n",
    "    ymin, ymax = 0, ax.axis()[-1]\n",
    "    \n",
    "    \n",
    "    ax.vlines([smooth_win/2., len(trend)-smooth_win/2.], 0, ymax, color='0.7', linestyles='dotted', lw=1, zorder=0)\n",
    "\n",
    "    ax.set_xlabel('Trial #')\n",
    "    ax.set_ylabel('Mean overall activity')\n",
    "    ax.set_ylim((ymin, ymax))\n",
    "    ax.set_xlim((-5, len(trend)+len(trend)/10))\n",
    "    pt.nicer_plot(ax)\n",
    "\n",
    "    return ax"
   ]
  },
  {
   "cell_type": "code",
   "execution_count": null,
   "metadata": {
    "collapsed": false
   },
   "outputs": [],
   "source": [
    "which_cycles = is_rewarded\n",
    "events_of_interest = cycles[which_cycles][:, 0] + first_reward_times - CYCLE_START\n",
    "\n",
    "activity_trend_frt = compute_activity_trend(time_ax, traces, events_of_interest,\n",
    "                                            which_cells=None,\n",
    "                                            tpre=0, tpost=2)\n",
    "ax = plot_activity_trend(activity_trend_frt, smooth_win=10, ax=None)\n",
    "\n",
    "ax.set_ylabel('Mean activity of all cells in 2s \\nperiod after reward delivery onset')\n"
   ]
  },
  {
   "cell_type": "code",
   "execution_count": null,
   "metadata": {
    "collapsed": false
   },
   "outputs": [],
   "source": [
    "which_cycles = is_rewarded\n",
    "events_of_interest = cycles[which_cycles][:, 0] + first_reward_times - CYCLE_START\n",
    "\n",
    "activity_trend_frt = compute_activity_trend(time_ax, traces, events_of_interest,\n",
    "                                            which_cells=tuned_cells['reward_onset'][0],\n",
    "                                            tpre=0, tpost=2)\n",
    "ax = plot_activity_trend(activity_trend_frt, smooth_win=10, ax=None)\n",
    "\n",
    "ax.set_ylabel('Mean activity of +tuned rew cells in 2s \\nperiod after reward delivery onset')\n"
   ]
  },
  {
   "cell_type": "code",
   "execution_count": null,
   "metadata": {
    "collapsed": false
   },
   "outputs": [],
   "source": [
    "which_cycles = is_rewarded\n",
    "events_of_interest = cycles[which_cycles][:, 0] + CS_START - CYCLE_START\n",
    "\n",
    "activity_trend_frt = compute_activity_trend(time_ax, traces, events_of_interest,\n",
    "                                            which_cells=tuned_cells['reward_onset'][0],\n",
    "                                            tpre=0, tpost=2)\n",
    "ax = plot_activity_trend(activity_trend_frt, smooth_win=10, ax=None)\n",
    "\n",
    "ax.set_ylabel('Mean activity of +tuned rew+ cells \\nduring 2s CS period of rewCS+ trials')"
   ]
  },
  {
   "cell_type": "code",
   "execution_count": null,
   "metadata": {
    "collapsed": false
   },
   "outputs": [],
   "source": [
    "which_cycles = is_rewarded\n",
    "events_of_interest = cycles_starts[which_cycles] + CS_START +CS_DURATION - CYCLE_START\n",
    "\n",
    "activity_trend_frt = compute_activity_trend(time_ax, traces, events_of_interest,\n",
    "                                            which_cells=tuned_cells['rewarded_tc'][0],\n",
    "                                            tpre=0, tpost=2)\n",
    "ax = plot_activity_trend(activity_trend_frt, smooth_win=10, ax=None)\n",
    "\n",
    "ax.set_ylabel('Mean activity of +tuned tr cells \\nduring 2s trace period of rewCS+ trials')"
   ]
  },
  {
   "cell_type": "code",
   "execution_count": null,
   "metadata": {
    "collapsed": false
   },
   "outputs": [],
   "source": [
    "which_cycles = is_rewarded\n",
    "events_of_interest = cycles_starts[which_cycles] + CS_START - CYCLE_START\n",
    "\n",
    "activity_trend_frt = compute_activity_trend(time_ax, traces, events_of_interest,\n",
    "                                            which_cells=tuned_cells['rewarded'][0],\n",
    "                                            tpre=0, tpost=2)\n",
    "ax = plot_activity_trend(activity_trend_frt, smooth_win=10, ax=None)\n",
    "\n",
    "ax.set_ylabel('Mean activity of +tuned CS cells \\nduring 2s CS period of rewCS+ trials')\n"
   ]
  },
  {
   "cell_type": "code",
   "execution_count": null,
   "metadata": {
    "collapsed": false
   },
   "outputs": [],
   "source": [
    "save_workspace(db)"
   ]
  },
  {
   "cell_type": "code",
   "execution_count": null,
   "metadata": {
    "collapsed": true
   },
   "outputs": [],
   "source": []
  }
 ],
 "metadata": {
  "anaconda-cloud": {},
  "kernelspec": {
   "display_name": "Python [default]",
   "language": "python",
   "name": "python2"
  },
  "language_info": {
   "codemirror_mode": {
    "name": "ipython",
    "version": 2
   },
   "file_extension": ".py",
   "mimetype": "text/x-python",
   "name": "python",
   "nbconvert_exporter": "python",
   "pygments_lexer": "ipython2",
   "version": "2.7.12"
  }
 },
 "nbformat": 4,
 "nbformat_minor": 2
}
