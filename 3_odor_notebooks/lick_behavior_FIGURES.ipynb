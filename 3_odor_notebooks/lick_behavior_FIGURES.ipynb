{
 "cells": [
  {
   "cell_type": "code",
   "execution_count": 17,
   "metadata": {
    "collapsed": false
   },
   "outputs": [
    {
     "data": {
      "text/html": [
       "<script>jQuery(function() {if (jQuery(\"body.notebook_app\").length == 0) { jQuery(\".input_area\").toggle(); jQuery(\".prompt\").toggle();}});</script>"
      ]
     },
     "metadata": {},
     "output_type": "display_data"
    },
    {
     "data": {
      "text/html": [
       "<button onclick=\"jQuery('.input_area').toggle(); jQuery('.prompt').toggle();\">Toggle code</button>"
      ]
     },
     "metadata": {},
     "output_type": "display_data"
    }
   ],
   "source": [
    "from IPython.display import display\n",
    "from IPython.display import HTML\n",
    "import IPython.core.display as di # Example: di.display_html('<h3>%s:</h3>' % str, raw=True)\n",
    "\n",
    "# This line will hide code by default when the notebook is exported as HTML\n",
    "di.display_html('<script>jQuery(function() {if (jQuery(\"body.notebook_app\").length == 0) { jQuery(\".input_area\").toggle(); jQuery(\".prompt\").toggle();}});</script>', raw=True)\n",
    "\n",
    "# This line will add a button to toggle visibility of code blocks, for use with the HTML export version\n",
    "di.display_html('''<button onclick=\"jQuery('.input_area').toggle(); jQuery('.prompt').toggle();\">Toggle code</button>''', raw=True)\n"
   ]
  },
  {
   "cell_type": "code",
   "execution_count": 18,
   "metadata": {
    "collapsed": false
   },
   "outputs": [],
   "source": [
    "# all modules necessary for this nb\n",
    "import os\n",
    "import sys\n",
    "import pickle\n",
    "\n",
    "import numpy as np\n",
    "import pylab as pl\n",
    "import scipy.stats as sstats\n",
    "\n",
    "# setting parameters for default matplotlib plots\n",
    "%matplotlib inline\n",
    "\n",
    "#this will cause text to be exported as 'true text' which can be edited in Adobe Illustrator\n",
    "pl.rcParams['pdf.fonttype']=42\n",
    "pl.rcParams['ps.fonttype']=42"
   ]
  },
  {
   "cell_type": "code",
   "execution_count": 19,
   "metadata": {
    "collapsed": false
   },
   "outputs": [],
   "source": [
    "pl.style.use('fabiostyle')\n",
    "\n",
    "# needs to find the library of functions\n",
    "sys.path.append('../../../code/')  # to be replaced!\n",
    "\n",
    "import utils as ut\n",
    "import plots as pt"
   ]
  },
  {
   "cell_type": "code",
   "execution_count": 20,
   "metadata": {
    "collapsed": false
   },
   "outputs": [],
   "source": [
    "# NOTEBOOK_NAME = NOTEBOOK_NAME.split('/')[-1][:-6]\n",
    "NOTEBOOK_NAME = 'lick_behavior_FIGURES'"
   ]
  },
  {
   "cell_type": "code",
   "execution_count": 21,
   "metadata": {
    "collapsed": false
   },
   "outputs": [],
   "source": [
    "from pickleshare import PickleShareDB\n",
    "\n",
    "autorestore_folder = os.path.join(os.getcwd(), 'autorestore', NOTEBOOK_NAME)\n",
    "db = PickleShareDB(autorestore_folder)\n",
    "import sys\n",
    "from workspace import *\n",
    "import IPython\n",
    "ip = IPython.get_ipython()\n",
    "\n",
    "# this will restore all the saved variables. ignore the errors listed.\n",
    "load_workspace(ip, db)\n",
    "\n",
    "# use `save_worspace(db)` to save variables at the end"
   ]
  },
  {
   "cell_type": "code",
   "execution_count": 22,
   "metadata": {
    "collapsed": false,
    "scrolled": false
   },
   "outputs": [],
   "source": [
    "from itertools import product\n",
    "def load_all_animals_vars(varname, animal_list, pilot_list=None, notebook='preprocessing'):\n",
    "    all_of_them = {}\n",
    "    for ani in animal_list:\n",
    "        folder = '../%s/notebooks/autorestore/%s/' % (ani, notebook)\n",
    "        all_of_them.update({ani: ut.load_variable(varname, folder)})\n",
    "    return all_of_them"
   ]
  },
  {
   "cell_type": "code",
   "execution_count": 23,
   "metadata": {
    "collapsed": true
   },
   "outputs": [],
   "source": [
    "def report_stats (array1, array2, sig_func=None,mcc=1):\n",
    "    if sig_func is None:\n",
    "        sig_func = lambda x, y: sstats.mannwhitneyu(x, y, alternative='two-sided')\n",
    "        U = sig_func(array1, array2)[0]\n",
    "        z = ((U-((loops*loops)/2))/(np.sqrt(((loops*loops)*(loops+loops+1))/12)))\n",
    "        r = z/np.sqrt(loops*2)\n",
    "        p = sig_func(array1, array2)[-1]\n",
    "        print \"U =\",U,\"p =\",p*mcc,\"r =\",r\n",
    "    if sig_func is 'ttest':\n",
    "        sig_func = lambda x, y: sstats.ttest_ind(x, y)\n",
    "        cohens_d = (np.mean(array1)-np.mean(array2))/np.sqrt((np.std(array1)**2+np.std(array2)**2)/2)\n",
    "        p = sig_func(array1, array2)[-1]\n",
    "        print sig_func(array1, array2),\"d =\", cohens_d, 'corrected p =',p*mcc\n",
    "\n",
    "def report_stats_chance (array1, chance=0.5, sig_func=None,mcc=1):\n",
    "    if sig_func is None:\n",
    "        sig_func = lambda x: sstats.wilcoxon(x)\n",
    "        subtracted = [x-chance for x in array1]\n",
    "        U = sig_func(subtracted)[0]\n",
    "        z = ((U-((loops*loops)/2))/(np.sqrt(((loops*loops)*(loops+loops+1))/12)))\n",
    "        r = z/np.sqrt(loops*2)\n",
    "        print sig_func(subtracted),\"r =\",r\n",
    "    elif sig_func is 'ttest':\n",
    "        sig_func = lambda x, y: sstats.ttest_1samp(x,y)\n",
    "        cohens_d = (np.mean(array1)-chance)/np.std(array1)\n",
    "        print sig_func(array1,chance),\"d =\",cohens_d"
   ]
  },
  {
   "cell_type": "code",
   "execution_count": 24,
   "metadata": {
    "collapsed": true
   },
   "outputs": [],
   "source": [
    "sessions ='pre', 'post'"
   ]
  },
  {
   "cell_type": "code",
   "execution_count": 25,
   "metadata": {
    "collapsed": false
   },
   "outputs": [],
   "source": [
    "#same for pre_rev and post_rev\n",
    "pre_animals_vHPC  =  'c3f3', 'c3f2', 'c3m1', 'c3m2', 'c4m4', 'c10m8', '90', '91', '92', '93'\n",
    "pre_animals_dHPC =  'dhpcg1','dhpcg20','dhpc24'\n",
    "post_animals_vHPC ='c3f3', 'c3f2', 'c3m1', 'c3m2', 'c4m4', 'c10m8', '90', '91', '92', '93','91b','92b','93b'\n",
    "tot_animals_pre = pre_animals_dHPC + pre_animals_vHPC\n",
    "tot_animals_post = pre_animals_dHPC + post_animals_vHPC"
   ]
  },
  {
   "cell_type": "code",
   "execution_count": 26,
   "metadata": {
    "collapsed": false
   },
   "outputs": [],
   "source": [
    "for area in ['v','d','t']:\n",
    "    for trial in ['CSm','reward','sh']:\n",
    "        for day in ['pre','post','pre_rev','post_rev']:\n",
    "            exec(\"%s_tc_%s_%s = []\"%(day,area,trial))\n",
    "            if area == 'v':\n",
    "                if day == 'pre' or day == 'pre_rev':\n",
    "                    for ani in pre_animals_vHPC:\n",
    "                        exec(\"licks_tc=ut.load_variable('licks_tc','../%s/3odor_%s/notebooks/autorestore/preprocessing')\"%(ani,day))\n",
    "                        exec(\"%s=ut.load_variable('is_%st','../%s/3odor_%s/notebooks/autorestore/preprocessing')\"%(trial,trial,ani,day))\n",
    "                        exec(\"%s_tc_%s_%s.append(np.mean(licks_tc[%s]))\"%(day,area,trial,trial))\n",
    "                else:\n",
    "                     for ani in post_animals_vHPC:\n",
    "                        exec(\"licks_tc=ut.load_variable('licks_tc','../%s/3odor_%s/notebooks/autorestore/preprocessing')\"%(ani,day))\n",
    "                        exec(\"%s=ut.load_variable('is_%st','../%s/3odor_%s/notebooks/autorestore/preprocessing')\"%(trial,trial,ani,day))\n",
    "                        exec(\"%s_tc_%s_%s.append(np.mean(licks_tc[%s]))\"%(day,area,trial,trial))\n",
    "            elif area == 'd':\n",
    "                for ani in pre_animals_dHPC:\n",
    "                    exec(\"licks_tc=ut.load_variable('licks_tc','../%s/3odor_%s/notebooks/autorestore/preprocessing')\"%(ani,day))\n",
    "                    exec(\"%s=ut.load_variable('is_%st','../%s/3odor_%s/notebooks/autorestore/preprocessing')\"%(trial,trial,ani,day))\n",
    "                    exec(\"%s_tc_%s_%s.append(np.mean(licks_tc[%s]))\"%(day,area,trial,trial))\n",
    "            else:\n",
    "                if day == 'pre' or day =='pre_rev':\n",
    "                    for ani in tot_animals_pre:\n",
    "                        exec(\"licks_tc=ut.load_variable('licks_tc','../%s/3odor_%s/notebooks/autorestore/preprocessing')\"%(ani,day))\n",
    "                        exec(\"%s=ut.load_variable('is_%st','../%s/3odor_%s/notebooks/autorestore/preprocessing')\"%(trial,trial,ani,day))\n",
    "                        exec(\"%s_tc_%s_%s.append(np.mean(licks_tc[%s]))\"%(day,area,trial,trial))\n",
    "                else:\n",
    "                    for ani in tot_animals_post:\n",
    "                        exec(\"licks_tc=ut.load_variable('licks_tc','../%s/3odor_%s/notebooks/autorestore/preprocessing')\"%(ani,day))\n",
    "                        exec(\"%s=ut.load_variable('is_%st','../%s/3odor_%s/notebooks/autorestore/preprocessing')\"%(trial,trial,ani,day))\n",
    "                        exec(\"%s_tc_%s_%s.append(np.mean(licks_tc[%s]))\"%(day,area,trial,trial))\n",
    "                             "
   ]
  },
  {
   "cell_type": "code",
   "execution_count": 27,
   "metadata": {
    "collapsed": false
   },
   "outputs": [],
   "source": [
    "for area in ['v','d','t']:\n",
    "    for day in ['pre','post','pre_rev','post_rev']:\n",
    "        exec(\"%s_di_%s = []\"%(day,area))\n",
    "        if area == 'v':\n",
    "            if day == 'pre' or day =='pre_rev':\n",
    "                for ani in pre_animals_vHPC:\n",
    "                    exec(\"%s_di_%s.append(ut.load_variable('lick_di','../%s/3odor_%s/notebooks/autorestore/preprocessing'))\"%(day,area,ani,day))\n",
    "            else:\n",
    "                for ani in post_animals_vHPC:\n",
    "                    exec(\"%s_di_%s.append(ut.load_variable('lick_di','../%s/3odor_%s/notebooks/autorestore/preprocessing'))\"%(day,area,ani,day))\n",
    "        elif area == 'd':\n",
    "            for ani in pre_animals_dHPC:\n",
    "                exec(\"%s_di_%s.append(ut.load_variable('lick_di','../%s/3odor_%s/notebooks/autorestore/preprocessing'))\"%(day,area,ani,day))\n",
    "        else:\n",
    "            if day == 'pre' or day =='pre_rev':\n",
    "                for ani in tot_animals_pre:\n",
    "                    exec(\"%s_di_%s.append(ut.load_variable('lick_di','../%s/3odor_%s/notebooks/autorestore/preprocessing'))\"%(day,area,ani,day))\n",
    "            else:\n",
    "                for ani in tot_animals_post:\n",
    "                    exec(\"%s_di_%s.append(ut.load_variable('lick_di','../%s/3odor_%s/notebooks/autorestore/preprocessing'))\"%(day,area,ani,day))\n",
    "            "
   ]
  },
  {
   "cell_type": "code",
   "execution_count": 28,
   "metadata": {
    "collapsed": true
   },
   "outputs": [],
   "source": [
    "from scipy.stats import sem\n",
    "from matplotlib.lines import Line2D\n",
    "def add_significance(ax, array1, array2, x1, x2, y, ticksize=0.02, sig_func=None, thresholds=(0.05, 0.01, 0.001),mcc=1):\n",
    "    if sig_func is None:\n",
    "        sig_func = lambda x, y: sstats.mannwhitneyu(x, y,)\n",
    "    p = sig_func(array1, array2)[-1]\n",
    "    print p\n",
    "    sig_value = sig_func(array1, array2)[0]\n",
    "    deltay = np.diff(ax.axis()[-2:])*ticksize\n",
    "    line = Line2D([x1, x1, x2, x2], [y-deltay, y, y, y-deltay], lw=.5, color='k', clip_on=False)\n",
    "    ax.add_line(line)\n",
    "    ax.text(np.mean([x1, x2]), y+.2,\n",
    "            'n.s.' if p > thresholds[0]/mcc else\n",
    "            '*' if p > thresholds[1]/mcc else\n",
    "            '**' if p > thresholds[2]/mcc else\n",
    "            '***',\n",
    "            ha='center', fontsize=5)\n",
    "    return sig_value, p"
   ]
  },
  {
   "cell_type": "code",
   "execution_count": 30,
   "metadata": {
    "collapsed": false
   },
   "outputs": [
    {
     "data": {
      "image/png": "[encoded data removed]",
      "text/plain": [
       "<matplotlib.figure.Figure at 0x7f55640a0590>"
      ]
     },
     "metadata": {},
     "output_type": "display_data"
    }
   ],
   "source": [
    "from matplotlib.patches import Patch\n",
    "labels = ['Early','Late']\n",
    "area = 't'\n",
    "loops = len(pre_tc_t_CSm)\n",
    "\n",
    "x = np.arange(len(labels))  # the label locations\n",
    "width = 0.25  # the width of the bars\n",
    "\n",
    "to_plot = ['pre','post']\n",
    "\n",
    "dark_co = ('forestgreen','darkcyan','firebrick','lightgrey','dimgrey','goldenrod')\n",
    "fig, ax = pl.subplots(figsize=(.9,1.2))\n",
    "pvs=[]\n",
    "\n",
    "for day,i in zip(to_plot,range(2)):\n",
    "    if i ==0:\n",
    "        exec(\"%s_tc_%s_CSm = [x/2 for x in %s_tc_%s_CSm]\"%(day,area,day,area))\n",
    "        exec(\"e = np.array(sstats.sem(%s_tc_%s_CSm))\"%(day,area))\n",
    "        exec(\"ax.bar(i + 2*width-width/2, np.mean(%s_tc_%s_CSm), width,color='c',yerr=e)\"%(day,area))\n",
    "        exec(\"ax.scatter(i+2*width-width/2+np.random.random(np.array(%s_tc_%s_CSm).size)*width/2-width/4.5,%s_tc_%s_CSm,\\\n",
    "               color='whitesmoke',s=1.7,zorder=2,alpha=.7,linewidths=.4,edgecolor='k')\"%(day,area,day,area))\n",
    "        exec(\"%s_tc_%s_reward = [x/2 for x in %s_tc_%s_reward]\"%(day,area,day,area))\n",
    "        exec(\"l= np.array(sstats.sem(%s_tc_%s_reward))\"%(day,area))\n",
    "        exec(\"ax.bar(i - width/2,  np.mean(%s_tc_%s_reward), width,color='m',yerr=l)\"%(day,area))\n",
    "        exec(\"ax.scatter(i-width/2+np.random.random(np.array(%s_tc_%s_reward).size)*width/2-width/4.5,%s_tc_%s_reward,\\\n",
    "               color='whitesmoke',s=1.7,zorder=2,alpha=.7,linewidths=.4,edgecolor='k')\"%(day,area,day,area))\n",
    "        exec(\"%s_tc_%s_sh = [x/2 for x in %s_tc_%s_sh]\"%(day,area,day,area))\n",
    "        exec(\"l= np.array(sstats.sem(%s_tc_%s_sh))\"%(day,area))\n",
    "        exec(\"ax.bar(i + width/2,  np.mean(%s_tc_%s_sh), width,color='orange',yerr=l)\"%(day,area))\n",
    "        exec(\"ax.scatter(i+width/2+np.random.random(np.array(%s_tc_%s_sh).size)*width/2-width/4.5,%s_tc_%s_sh,\\\n",
    "               color='whitesmoke',s=1.7,zorder=2,alpha=.7,linewidths=.4,edgecolor='k')\"%(day,area,day,area))\n",
    "    else:\n",
    "        exec(\"%s_tc_%s_CSm = [x/2 for x in %s_tc_%s_CSm]\"%(day,area,day,area))\n",
    "        exec(\"e = np.array(sstats.sem(%s_tc_%s_CSm))\"%(day,area))\n",
    "        exec(\"ax.bar(i + 2*width-width/2, np.mean(%s_tc_%s_CSm), width,color='c',yerr=e)\"%(day,area))\n",
    "        exec(\"ax.scatter(i+2*width-width/2+np.random.random(np.array(%s_tc_%s_CSm).size)*width/2-width/4.5,%s_tc_%s_CSm,\\\n",
    "               color='whitesmoke',s=1.7,zorder=2,alpha=.7,linewidths=.4,edgecolor='k')\"%(day,area,day,area))\n",
    "        exec(\"%s_tc_%s_reward = [x/2 for x in %s_tc_%s_reward]\"%(day,area,day,area))\n",
    "        exec(\"l= np.array(sstats.sem(%s_tc_%s_reward))\"%(day,area))\n",
    "        exec(\"ax.bar(i - width/2,  np.mean(%s_tc_%s_reward), width,color='m',yerr=l)\"%(day,area))\n",
    "        exec(\"ax.scatter(i-width/2+np.random.random(np.array(%s_tc_%s_reward).size)*width/2-width/4.5,%s_tc_%s_reward,\\\n",
    "               color='whitesmoke',s=1.7,zorder=2,alpha=.7,linewidths=.4,edgecolor='k')\"%(day,area,day,area))\n",
    "        exec(\"%s_tc_%s_sh = [x/2 for x in %s_tc_%s_sh]\"%(day,area,day,area))\n",
    "        exec(\"l= np.array(sstats.sem(%s_tc_%s_sh))\"%(day,area))\n",
    "        exec(\"ax.bar(i + width/2,  np.mean(%s_tc_%s_sh), width,color='orange',yerr=l)\"%(day,area))\n",
    "        exec(\"ax.scatter(i+width/2+np.random.random(np.array(%s_tc_%s_sh).size)*width/2-width/4.5,%s_tc_%s_sh,\\\n",
    "               color='whitesmoke',s=1.7,zorder=2,alpha=.7,linewidths=.4,edgecolor='k')\"%(day,area,day,area))\n",
    "        \n",
    "\n",
    "# Add some text for labels, title and custom x-axis tick labels, etc.\n",
    "ax.set_ylabel('Trace Lick Rate (Hz)',fontsize=6)\n",
    "#ax.set_title('Decoding During CS')\n",
    "ax.set_ylim(0,6.1)\n",
    "x = [.1,1.1]\n",
    "ax.set_xticks(x)\n",
    "ax.set_xticklabels(labels)\n",
    "ax.legend([Patch(facecolor='m'),Patch(facecolor='c'),Patch(facecolor='orange')],['Reward','CSm','Shock'],loc=(1,.8),frameon=False)\n",
    "ax.tick_params(axis='x',bottom=False)\n",
    "\n",
    "        #max(np.mean(mean_scores_gmin_tb_6_vhpc[sess][:loops])*100+v[sess],\n",
    "        #    np.mean(mean_scores_gmin_tb_6_dhpc[sess][:loops])*100+d[sess])+6))\n",
    "    #pvs.append(sig_vs_chance(ax,mean_scores_gmin_tb_6_vhpc[sess][:loops],.5,-.2+i,\n",
    "    #           np.mean(mean_scores_gmin_tb_6_vhpc[sess][:loops])*100+v[sess]+1,loops=loops,sig_func=None,colors='k'))\n",
    "    #pvs.append(sig_vs_chance(ax,mean_scores_gmin_tb_6_dhpc[sess][:loops],.5, .2+i,\n",
    "    #           np.mean(mean_scores_gmin_tb_6_dhpc[sess][:loops])*100+d[sess]+1,loops=loops,sig_func=None,colors='k'))\n",
    "pl.suptitle('Avg. Lick Rates',y=1.06,fontsize=6)\n",
    "\n",
    "fig.savefig('../figures/%s_3odor_all_mice_trace_lick_bars.pdf'%NOTEBOOK_NAME)"
   ]
  },
  {
   "cell_type": "code",
   "execution_count": null,
   "metadata": {
    "collapsed": true
   },
   "outputs": [],
   "source": []
  },
  {
   "cell_type": "code",
   "execution_count": null,
   "metadata": {
    "collapsed": false
   },
   "outputs": [],
   "source": [
    "from matplotlib.patches import Patch\n",
    "labels = ['Early','Late']\n",
    "area = 'd'\n",
    "\n",
    "x = np.arange(len(labels))  # the label locations\n",
    "width = 0.25  # the width of the bars\n",
    "\n",
    "to_plot = ['pre','post']\n",
    "\n",
    "dark_co = ('forestgreen','darkcyan','firebrick','lightgrey','dimgrey','goldenrod')\n",
    "fig, ax = pl.subplots(figsize=(.6,1.2))\n",
    "pvs=[]\n",
    "\n",
    "for day,i in zip(to_plot,range(2)):\n",
    "    if i ==0:\n",
    "        exec(\"%s_tc_%s_CSm = [x/2 for x in %s_tc_%s_CSm]\"%(day,area,day,area))\n",
    "        exec(\"e = np.array(sstats.sem(%s_tc_%s_CSm))\"%(day,area))\n",
    "        exec(\"ax.bar(i - width/2, np.mean(%s_tc_%s_CSm), width,color='c',yerr=e)\"%(day,area))\n",
    "        exec(\"%s_tc_%s_reward = [x/2 for x in %s_tc_%s_reward]\"%(day,area,day,area))\n",
    "        exec(\"l= np.array(sstats.sem(%s_tc_%s_reward))\"%(day,area))\n",
    "        exec(\"ax.bar(i + width/2,  np.mean(%s_tc_%s_reward), width,color='m',yerr=l)\"%(day,area))\n",
    "    else:\n",
    "        exec(\"%s_tc_%s_CSm = [x/2 for x in %s_tc_%s_CSm]\"%(day,area,day,area))\n",
    "        exec(\"e = np.array(sstats.sem(%s_tc_%s_CSm))\"%(day,area))\n",
    "        exec(\"ax.bar(i-.4 - width/2, np.mean(%s_tc_%s_CSm), width, color='c',yerr=e)\"%(day,area))\n",
    "        exec(\"%s_tc_%s_reward = [x/2 for x in %s_tc_%s_reward]\"%(day,area,day,area))\n",
    "        exec(\"l= np.array(sstats.sem(%s_tc_%s_reward))\"%(day,area))\n",
    "        exec(\"ax.bar(i-.4 + width/2,  np.mean(%s_tc_%s_reward), width,color='m',yerr=l)\"%(day,area))\n",
    "        \n",
    "for day in to_plot:\n",
    "    if day =='pre':\n",
    "        exec(\"pvs.append(add_significance(ax, %s_tc_%s_CSm, %s_tc_%s_reward,-.12,0.12,4.9))\"%(day,area,day,area))\n",
    "    else:\n",
    "        exec(\"pvs.append(add_significance(ax, %s_tc_%s_CSm, %s_tc_%s_reward,-.12+.6,0.12+.6,4.9))\"%(day,area,day,area))\n",
    "# Add some text for labels, title and custom x-axis tick labels, etc.\n",
    "ax.set_ylabel('Trace Lick Rate (Hz)',fontsize=6)\n",
    "#ax.set_title('Decoding During CS')\n",
    "ax.set_ylim(0,5)\n",
    "x = [0,.65]\n",
    "ax.set_xticks(x)\n",
    "ax.set_xticklabels(labels)\n",
    "ax.legend([Patch(facecolor='m'),Patch(facecolor='c')],['Reward','CSm'],loc=(1,.8),frameon=False)\n",
    "ax.tick_params(axis='x',bottom=False)\n",
    "\n",
    "        #max(np.mean(mean_scores_gmin_tb_6_vhpc[sess][:loops])*100+v[sess],\n",
    "        #    np.mean(mean_scores_gmin_tb_6_dhpc[sess][:loops])*100+d[sess])+6))\n",
    "    #pvs.append(sig_vs_chance(ax,mean_scores_gmin_tb_6_vhpc[sess][:loops],.5,-.2+i,\n",
    "    #           np.mean(mean_scores_gmin_tb_6_vhpc[sess][:loops])*100+v[sess]+1,loops=loops,sig_func=None,colors='k'))\n",
    "    #pvs.append(sig_vs_chance(ax,mean_scores_gmin_tb_6_dhpc[sess][:loops],.5, .2+i,\n",
    "    #           np.mean(mean_scores_gmin_tb_6_dhpc[sess][:loops])*100+d[sess]+1,loops=loops,sig_func=None,colors='k'))\n",
    "pl.suptitle('Avg. Lick Rates dHPC',y=1.06,fontsize=6)\n",
    "\n",
    "fig.savefig('../../../results/final-ish figures/%s_3odor_dorsal_mice_trace_lick_bars.pdf'%NOTEBOOK_NAME)"
   ]
  },
  {
   "cell_type": "code",
   "execution_count": null,
   "metadata": {
    "collapsed": false
   },
   "outputs": [],
   "source": [
    "from matplotlib.patches import Patch\n",
    "labels = ['Early','Late']\n",
    "area = 'v'\n",
    "\n",
    "x = np.arange(len(labels))  # the label locations\n",
    "width = 0.25  # the width of the bars\n",
    "\n",
    "to_plot = ['pre','post']\n",
    "\n",
    "dark_co = ('forestgreen','darkcyan','firebrick','lightgrey','dimgrey','goldenrod')\n",
    "fig, ax = pl.subplots(figsize=(.6,1.2))\n",
    "pvs=[]\n",
    "\n",
    "for day,i in zip(to_plot,range(2)):\n",
    "    if i ==0:\n",
    "        exec(\"%s_tc_%s_CSm = [x/2 for x in %s_tc_%s_CSm]\"%(day,area,day,area))\n",
    "        exec(\"e = np.array(sstats.sem(%s_tc_%s_CSm))\"%(day,area))\n",
    "        exec(\"ax.bar(i - width/2, np.mean(%s_tc_%s_CSm), width,color='c',yerr=e)\"%(day,area))\n",
    "        exec(\"%s_tc_%s_reward = [x/2 for x in %s_tc_%s_reward]\"%(day,area,day,area))\n",
    "        exec(\"l= np.array(sstats.sem(%s_tc_%s_reward))\"%(day,area))\n",
    "        exec(\"ax.bar(i + width/2,  np.mean(%s_tc_%s_reward), width,color='m',yerr=l)\"%(day,area))\n",
    "    else:\n",
    "        exec(\"%s_tc_%s_CSm = [x/2 for x in %s_tc_%s_CSm]\"%(day,area,day,area))\n",
    "        exec(\"e = np.array(sstats.sem(%s_tc_%s_CSm))\"%(day,area))\n",
    "        exec(\"ax.bar(i-.4 - width/2, np.mean(%s_tc_%s_CSm), width, color='c',yerr=e)\"%(day,area))\n",
    "        exec(\"%s_tc_%s_reward = [x/2 for x in %s_tc_%s_reward]\"%(day,area,day,area))\n",
    "        exec(\"l= np.array(sstats.sem(%s_tc_%s_reward))\"%(day,area))\n",
    "        exec(\"ax.bar(i-.4 + width/2,  np.mean(%s_tc_%s_reward), width,color='m',yerr=l)\"%(day,area))\n",
    "        \n",
    "for day in to_plot:\n",
    "    if day =='pre':\n",
    "        exec(\"pvs.append(add_significance(ax, %s_tc_%s_CSm, %s_tc_%s_reward,-.12,0.12,4.9))\"%(day,area,day,area))\n",
    "    else:\n",
    "        exec(\"pvs.append(add_significance(ax, %s_tc_%s_CSm, %s_tc_%s_reward,-.12+.6,0.12+.6,4.9))\"%(day,area,day,area))\n",
    "# Add some text for labels, title and custom x-axis tick labels, etc.\n",
    "ax.set_ylabel('Trace Lick Rate (Hz)',fontsize=6)\n",
    "#ax.set_title('Decoding During CS')\n",
    "ax.set_ylim(0,5)\n",
    "x = [0,.65]\n",
    "ax.set_xticks(x)\n",
    "ax.set_xticklabels(labels)\n",
    "ax.legend([Patch(facecolor='m'),Patch(facecolor='c')],['Reward','CSm'],loc=(1,.8),frameon=False)\n",
    "ax.tick_params(axis='x',bottom=False)\n",
    "\n",
    "        #max(np.mean(mean_scores_gmin_tb_6_vhpc[sess][:loops])*100+v[sess],\n",
    "        #    np.mean(mean_scores_gmin_tb_6_dhpc[sess][:loops])*100+d[sess])+6))\n",
    "    #pvs.append(sig_vs_chance(ax,mean_scores_gmin_tb_6_vhpc[sess][:loops],.5,-.2+i,\n",
    "    #           np.mean(mean_scores_gmin_tb_6_vhpc[sess][:loops])*100+v[sess]+1,loops=loops,sig_func=None,colors='k'))\n",
    "    #pvs.append(sig_vs_chance(ax,mean_scores_gmin_tb_6_dhpc[sess][:loops],.5, .2+i,\n",
    "    #           np.mean(mean_scores_gmin_tb_6_dhpc[sess][:loops])*100+d[sess]+1,loops=loops,sig_func=None,colors='k'))\n",
    "pl.suptitle('Avg. Lick Rates vHPC',y=1.06,fontsize=6)\n",
    "\n",
    "fig.savefig('../../../results/final-ish figures/%s_3odor_ventral_mice_trace_lick_bars.pdf'%NOTEBOOK_NAME)"
   ]
  },
  {
   "cell_type": "code",
   "execution_count": null,
   "metadata": {
    "collapsed": false
   },
   "outputs": [],
   "source": [
    "from matplotlib.patches import Patch\n",
    "labels = ['Early\\nRev','Late\\nRev']\n",
    "area = 't'\n",
    "\n",
    "x = np.arange(len(labels))  # the label locations\n",
    "width = 0.25  # the width of the bars\n",
    "\n",
    "to_plot = ['pre_rev','post_rev']\n",
    "\n",
    "dark_co = ('forestgreen','darkcyan','firebrick','lightgrey','dimgrey','goldenrod')\n",
    "fig, ax = pl.subplots(figsize=(.9,1.2))\n",
    "pvs=[]\n",
    "\n",
    "for day,i in zip(to_plot,range(2)):\n",
    "    if i ==0:\n",
    "        exec(\"%s_tc_%s_CSm = [x/2 for x in %s_tc_%s_CSm]\"%(day,area,day,area))\n",
    "        exec(\"e = np.array(sstats.sem(%s_tc_%s_CSm))\"%(day,area))\n",
    "        exec(\"ax.bar(i + 2*width-width/2, np.mean(%s_tc_%s_CSm), width,color='c',yerr=e)\"%(day,area))\n",
    "        exec(\"ax.scatter(i+2*width-width/2+np.random.random(np.array(%s_tc_%s_CSm).size)*width/2-width/4.5,%s_tc_%s_CSm,\\\n",
    "               color='whitesmoke',s=1.7,zorder=2,alpha=.7,linewidths=.4,edgecolor='k')\"%(day,area,day,area))\n",
    "        exec(\"%s_tc_%s_reward = [x/2 for x in %s_tc_%s_reward]\"%(day,area,day,area))\n",
    "        exec(\"l= np.array(sstats.sem(%s_tc_%s_reward))\"%(day,area))\n",
    "        exec(\"ax.bar(i - width/2,  np.mean(%s_tc_%s_reward), width,color='m',yerr=l)\"%(day,area))\n",
    "        exec(\"ax.scatter(i-width/2+np.random.random(np.array(%s_tc_%s_reward).size)*width/2-width/4.5,%s_tc_%s_reward,\\\n",
    "               color='whitesmoke',s=1.7,zorder=2,alpha=.7,linewidths=.4,edgecolor='k')\"%(day,area,day,area))\n",
    "        exec(\"%s_tc_%s_sh = [x/2 for x in %s_tc_%s_sh]\"%(day,area,day,area))\n",
    "        exec(\"l= np.array(sstats.sem(%s_tc_%s_sh))\"%(day,area))\n",
    "        exec(\"ax.bar(i + width/2,  np.mean(%s_tc_%s_sh), width,color='orange',yerr=l)\"%(day,area))\n",
    "        exec(\"ax.scatter(i+width/2+np.random.random(np.array(%s_tc_%s_sh).size)*width/2-width/4.5,%s_tc_%s_sh,\\\n",
    "               color='whitesmoke',s=1.7,zorder=2,alpha=.7,linewidths=.4,edgecolor='k')\"%(day,area,day,area))\n",
    "    else:\n",
    "        exec(\"%s_tc_%s_CSm = [x/2 for x in %s_tc_%s_CSm]\"%(day,area,day,area))\n",
    "        exec(\"e = np.array(sstats.sem(%s_tc_%s_CSm))\"%(day,area))\n",
    "        exec(\"ax.bar(i + 2*width-width/2, np.mean(%s_tc_%s_CSm), width,color='c',yerr=e)\"%(day,area))\n",
    "        exec(\"ax.scatter(i+2*width-width/2+np.random.random(np.array(%s_tc_%s_CSm).size)*width/2-width/4.5,%s_tc_%s_CSm,\\\n",
    "               color='whitesmoke',s=1.7,zorder=2,alpha=.7,linewidths=.4,edgecolor='k')\"%(day,area,day,area))\n",
    "        exec(\"%s_tc_%s_reward = [x/2 for x in %s_tc_%s_reward]\"%(day,area,day,area))\n",
    "        exec(\"l= np.array(sstats.sem(%s_tc_%s_reward))\"%(day,area))\n",
    "        exec(\"ax.bar(i - width/2,  np.mean(%s_tc_%s_reward), width,color='m',yerr=l)\"%(day,area))\n",
    "        exec(\"ax.scatter(i-width/2+np.random.random(np.array(%s_tc_%s_reward).size)*width/2-width/4.5,%s_tc_%s_reward,\\\n",
    "               color='whitesmoke',s=1.7,zorder=2,alpha=.7,linewidths=.4,edgecolor='k')\"%(day,area,day,area))\n",
    "        exec(\"%s_tc_%s_sh = [x/2 for x in %s_tc_%s_sh]\"%(day,area,day,area))\n",
    "        exec(\"l= np.array(sstats.sem(%s_tc_%s_sh))\"%(day,area))\n",
    "        exec(\"ax.bar(i + width/2,  np.mean(%s_tc_%s_sh), width,color='orange',yerr=l)\"%(day,area))\n",
    "        exec(\"ax.scatter(i+width/2+np.random.random(np.array(%s_tc_%s_sh).size)*width/2-width/4.5,%s_tc_%s_sh,\\\n",
    "               color='whitesmoke',s=1.7,zorder=2,alpha=.7,linewidths=.4,edgecolor='k')\"%(day,area,day,area))\n",
    "       \n",
    "        \n",
    "for day in to_plot:\n",
    "    if day =='pre_rev':\n",
    "        exec(\"pvs.append(add_significance(ax, %s_tc_%s_CSm, %s_tc_%s_reward,-.12,0.38,6.8))\"%(day,area,day,area))\n",
    "        exec(\"pvs.append(add_significance(ax, %s_tc_%s_sh, %s_tc_%s_reward,-.12,0.10,6))\"%(day,area,day,area))\n",
    "        exec(\"pvs.append(add_significance(ax, %s_tc_%s_sh, %s_tc_%s_CSm,.14,0.36,6))\"%(day,area,day,area))\n",
    "        print day,\"CS- vs Rew\",report_stats(eval(\" %s_tc_%s_CSm\"%(day,area)),eval(\" %s_tc_%s_reward\"%(day,area)),mcc=2)\n",
    "        print day,\"CS- vs Shock\",report_stats(eval(\" %s_tc_%s_CSm\"%(day,area)),eval(\" %s_tc_%s_sh\"%(day,area)),mcc=2)\n",
    "        print day,\"Rew vs Shock\",report_stats(eval(\" %s_tc_%s_reward\"%(day,area)),eval(\" %s_tc_%s_sh\"%(day,area)),mcc=2)\n",
    "    else:\n",
    "        exec(\"pvs.append(add_significance(ax, %s_tc_%s_CSm, %s_tc_%s_reward,-.12+1.1,0.38+1.1,6.8))\"%(day,area,day,area))\n",
    "        exec(\"pvs.append(add_significance(ax, %s_tc_%s_sh, %s_tc_%s_reward,-.12+1.1,0.10+1.1,6))\"%(day,area,day,area))\n",
    "        exec(\"pvs.append(add_significance(ax, %s_tc_%s_sh, %s_tc_%s_CSm,.14+1.1,0.36+1.1,6))\"%(day,area,day,area))\n",
    "        print day,\"CS- vs Rew\",report_stats(eval(\" %s_tc_%s_CSm\"%(day,area)),eval(\" %s_tc_%s_reward\"%(day,area)),mcc=2)\n",
    "        print day,\"CS- vs Shock\",report_stats(eval(\" %s_tc_%s_CSm\"%(day,area)),eval(\" %s_tc_%s_sh\"%(day,area)),mcc=2)\n",
    "        print day,\"Rew vs Shock\",report_stats(eval(\" %s_tc_%s_reward\"%(day,area)),eval(\" %s_tc_%s_sh\"%(day,area)),mcc=2)\n",
    "    \n",
    "# Add some text for labels, title and custom x-axis tick labels, etc.\n",
    "ax.set_ylabel('Trace Lick Rate (Hz)',fontsize=6)\n",
    "#ax.set_title('Decoding During CS')\n",
    "ax.set_ylim(0,6.1)\n",
    "x = [.1,1.1]\n",
    "ax.set_xticks(x)\n",
    "ax.set_xticklabels(labels)\n",
    "ax.legend([Patch(facecolor='m'),Patch(facecolor='c'),Patch(facecolor='orange')],['Reward','CSm','Shock'],loc=(1,.8),frameon=False)\n",
    "ax.tick_params(axis='x',bottom=False)\n",
    "\n",
    "        #max(np.mean(mean_scores_gmin_tb_6_vhpc[sess][:loops])*100+v[sess],\n",
    "        #    np.mean(mean_scores_gmin_tb_6_dhpc[sess][:loops])*100+d[sess])+6))\n",
    "    #pvs.append(sig_vs_chance(ax,mean_scores_gmin_tb_6_vhpc[sess][:loops],.5,-.2+i,\n",
    "    #           np.mean(mean_scores_gmin_tb_6_vhpc[sess][:loops])*100+v[sess]+1,loops=loops,sig_func=None,colors='k'))\n",
    "    #pvs.append(sig_vs_chance(ax,mean_scores_gmin_tb_6_dhpc[sess][:loops],.5, .2+i,\n",
    "    #           np.mean(mean_scores_gmin_tb_6_dhpc[sess][:loops])*100+d[sess]+1,loops=loops,sig_func=None,colors='k'))\n",
    "pl.suptitle('Avg. Lick Rates',y=1.06,fontsize=6)\n",
    "\n",
    "fig.savefig('../../../results/final-ish figures/%s_3odor_all_mice_rev_trace_lick_bars.pdf'%NOTEBOOK_NAME)"
   ]
  },
  {
   "cell_type": "code",
   "execution_count": null,
   "metadata": {
    "collapsed": false
   },
   "outputs": [],
   "source": [
    "from matplotlib.patches import Patch\n",
    "labels = ['Early \\nRev','Late \\nRev']\n",
    "area = 'v'\n",
    "\n",
    "x = np.arange(len(labels))  # the label locations\n",
    "width = 0.25  # the width of the bars\n",
    "\n",
    "to_plot = ['pre_rev','post_rev']\n",
    "\n",
    "dark_co = ('forestgreen','darkcyan','firebrick','lightgrey','dimgrey','goldenrod')\n",
    "fig, ax = pl.subplots(figsize=(.6,1.2))\n",
    "pvs=[]\n",
    "\n",
    "for day,i in zip(to_plot,range(2)):\n",
    "    if i ==0:\n",
    "        exec(\"%s_tc_%s_CSm = [x/2 for x in %s_tc_%s_CSm]\"%(day,area,day,area))\n",
    "        exec(\"e = np.array(sstats.sem(%s_tc_%s_CSm))\"%(day,area))\n",
    "        exec(\"ax.bar(i - width/2, np.mean(%s_tc_%s_CSm), width,color='c',yerr=e)\"%(day,area))\n",
    "        exec(\"%s_tc_%s_reward = [x/2 for x in %s_tc_%s_reward]\"%(day,area,day,area))\n",
    "        exec(\"l= np.array(sstats.sem(%s_tc_%s_reward))\"%(day,area))\n",
    "        exec(\"ax.bar(i + width/2,  np.mean(%s_tc_%s_reward), width,color='m',yerr=l)\"%(day,area))\n",
    "    else:\n",
    "        exec(\"%s_tc_%s_CSm = [x/2 for x in %s_tc_%s_CSm]\"%(day,area,day,area))\n",
    "        exec(\"e = np.array(sstats.sem(%s_tc_%s_CSm))\"%(day,area))\n",
    "        exec(\"ax.bar(i-.4 - width/2, np.mean(%s_tc_%s_CSm), width, color='c',yerr=e)\"%(day,area))\n",
    "        exec(\"%s_tc_%s_reward = [x/2 for x in %s_tc_%s_reward]\"%(day,area,day,area))\n",
    "        exec(\"l= np.array(sstats.sem(%s_tc_%s_reward))\"%(day,area))\n",
    "        exec(\"ax.bar(i-.4 + width/2,  np.mean(%s_tc_%s_reward), width,color='m',yerr=l)\"%(day,area))\n",
    "        \n",
    "for day in to_plot:\n",
    "    if day =='pre_rev':\n",
    "        exec(\"pvs.append(add_significance(ax, %s_tc_%s_CSm, %s_tc_%s_reward,-.12,0.12,4.9))\"%(day,area,day,area))\n",
    "    else:\n",
    "        exec(\"pvs.append(add_significance(ax, %s_tc_%s_CSm, %s_tc_%s_reward,-.12+.6,0.12+.6,4.9))\"%(day,area,day,area))\n",
    "# Add some text for labels, title and custom x-axis tick labels, etc.\n",
    "ax.set_ylabel('Trace Lick Rate (Hz)',fontsize=6)\n",
    "#ax.set_title('Decoding During CS')\n",
    "ax.set_ylim(0,5)\n",
    "x = [0,.65]\n",
    "ax.set_xticks(x)\n",
    "ax.set_xticklabels(labels)\n",
    "ax.legend([Patch(facecolor='m'),Patch(facecolor='c')],['Reward','CSm'],loc=(1,.8),frameon=False)\n",
    "ax.tick_params(axis='x',bottom=False)\n",
    "\n",
    "        #max(np.mean(mean_scores_gmin_tb_6_vhpc[sess][:loops])*100+v[sess],\n",
    "        #    np.mean(mean_scores_gmin_tb_6_dhpc[sess][:loops])*100+d[sess])+6))\n",
    "    #pvs.append(sig_vs_chance(ax,mean_scores_gmin_tb_6_vhpc[sess][:loops],.5,-.2+i,\n",
    "    #           np.mean(mean_scores_gmin_tb_6_vhpc[sess][:loops])*100+v[sess]+1,loops=loops,sig_func=None,colors='k'))\n",
    "    #pvs.append(sig_vs_chance(ax,mean_scores_gmin_tb_6_dhpc[sess][:loops],.5, .2+i,\n",
    "    #           np.mean(mean_scores_gmin_tb_6_dhpc[sess][:loops])*100+d[sess]+1,loops=loops,sig_func=None,colors='k'))\n",
    "pl.suptitle('Avg. Lick Rates vHPC',y=1.06,fontsize=6)\n",
    "\n",
    "fig.savefig('../../../results/final-ish figures/%s_3odor_ventral_mice_rev_trace_lick_bars.pdf'%NOTEBOOK_NAME)"
   ]
  },
  {
   "cell_type": "code",
   "execution_count": 14,
   "metadata": {
    "collapsed": false
   },
   "outputs": [
    {
     "name": "stdout",
     "output_type": "stream",
     "text": [
      "0.040427799185\n",
      "0.0382612502375\n"
     ]
    },
    {
     "data": {
      "image/png": "[encoded data removed]",
      "text/plain": [
       "<matplotlib.figure.Figure at 0x7f55a416e9d0>"
      ]
     },
     "metadata": {},
     "output_type": "display_data"
    }
   ],
   "source": [
    "from matplotlib.patches import Patch\n",
    "labels = ['Early \\nRev','Late \\nRev']\n",
    "area = 'd'\n",
    "\n",
    "x = np.arange(len(labels))  # the label locations\n",
    "width = 0.25  # the width of the bars\n",
    "\n",
    "to_plot = ['pre_rev','post_rev']\n",
    "\n",
    "dark_co = ('forestgreen','darkcyan','firebrick','lightgrey','dimgrey','goldenrod')\n",
    "fig, ax = pl.subplots(figsize=(.6,1.2))\n",
    "pvs=[]\n",
    "\n",
    "for day,i in zip(to_plot,range(2)):\n",
    "    if i ==0:\n",
    "        exec(\"%s_tc_%s_CSm = [x/2 for x in %s_tc_%s_CSm]\"%(day,area,day,area))\n",
    "        exec(\"e = np.array(sstats.sem(%s_tc_%s_CSm))\"%(day,area))\n",
    "        exec(\"ax.bar(i - width/2, np.mean(%s_tc_%s_CSm), width,color='c',yerr=e)\"%(day,area))\n",
    "        exec(\"%s_tc_%s_reward = [x/2 for x in %s_tc_%s_reward]\"%(day,area,day,area))\n",
    "        exec(\"l= np.array(sstats.sem(%s_tc_%s_reward))\"%(day,area))\n",
    "        exec(\"ax.bar(i + width/2,  np.mean(%s_tc_%s_reward), width,color='m',yerr=l)\"%(day,area))\n",
    "    else:\n",
    "        exec(\"%s_tc_%s_CSm = [x/2 for x in %s_tc_%s_CSm]\"%(day,area,day,area))\n",
    "        exec(\"e = np.array(sstats.sem(%s_tc_%s_CSm))\"%(day,area))\n",
    "        exec(\"ax.bar(i-.4 - width/2, np.mean(%s_tc_%s_CSm), width, color='c',yerr=e)\"%(day,area))\n",
    "        exec(\"%s_tc_%s_reward = [x/2 for x in %s_tc_%s_reward]\"%(day,area,day,area))\n",
    "        exec(\"l= np.array(sstats.sem(%s_tc_%s_reward))\"%(day,area))\n",
    "        exec(\"ax.bar(i-.4 + width/2,  np.mean(%s_tc_%s_reward), width,color='m',yerr=l)\"%(day,area))\n",
    "        \n",
    "for day in to_plot:\n",
    "    if day =='pre_rev':\n",
    "        exec(\"pvs.append(add_significance(ax, %s_tc_%s_CSm, %s_tc_%s_reward,-.12,0.12,5.2))\"%(day,area,day,area))\n",
    "    else:\n",
    "        exec(\"pvs.append(add_significance(ax, %s_tc_%s_CSm, %s_tc_%s_reward,-.12+.6,0.12+.6,5.2))\"%(day,area,day,area))\n",
    "# Add some text for labels, title and custom x-axis tick labels, etc.\n",
    "ax.set_ylabel('Trace Lick Rate (Hz)',fontsize=6)\n",
    "#ax.set_title('Decoding During CS')\n",
    "ax.set_ylim(0,5)\n",
    "x = [0,.65]\n",
    "ax.set_xticks(x)\n",
    "ax.set_xticklabels(labels)\n",
    "ax.legend([Patch(facecolor='m'),Patch(facecolor='c')],['Reward','CSm'],loc=(1,.8),frameon=False)\n",
    "ax.tick_params(axis='x',bottom=False)\n",
    "\n",
    "        #max(np.mean(mean_scores_gmin_tb_6_vhpc[sess][:loops])*100+v[sess],\n",
    "        #    np.mean(mean_scores_gmin_tb_6_dhpc[sess][:loops])*100+d[sess])+6))\n",
    "    #pvs.append(sig_vs_chance(ax,mean_scores_gmin_tb_6_vhpc[sess][:loops],.5,-.2+i,\n",
    "    #           np.mean(mean_scores_gmin_tb_6_vhpc[sess][:loops])*100+v[sess]+1,loops=loops,sig_func=None,colors='k'))\n",
    "    #pvs.append(sig_vs_chance(ax,mean_scores_gmin_tb_6_dhpc[sess][:loops],.5, .2+i,\n",
    "    #           np.mean(mean_scores_gmin_tb_6_dhpc[sess][:loops])*100+d[sess]+1,loops=loops,sig_func=None,colors='k'))\n",
    "pl.suptitle('Avg. Lick Rates dHPC',y=1.06,fontsize=6)\n",
    "\n",
    "fig.savefig('../../../results/final-ish figures/%s_3odor_dorsal_mice_rev_trace_lick_bars.pdf'%NOTEBOOK_NAME)"
   ]
  },
  {
   "cell_type": "code",
   "execution_count": 160,
   "metadata": {
    "collapsed": true
   },
   "outputs": [],
   "source": [
    "from scipy.stats import sem\n",
    "from matplotlib.lines import Line2D\n",
    "def add_significance(ax, array1, array2, x1, x2, y, ticksize=0.02, sig_func=None, thresholds=(0.05, 0.01, 0.001),mcc=1):\n",
    "    if sig_func is None:\n",
    "        sig_func = lambda x, y: sstats.mannwhitneyu(x, y,)\n",
    "    p = sig_func(array1, array2)[-1]\n",
    "    print p\n",
    "    sig_value = sig_func(array1, array2)[0]\n",
    "    deltay = np.diff(ax.axis()[-2:])*ticksize\n",
    "    line = Line2D([x1, x1, x2, x2], [y-deltay, y, y, y-deltay], lw=.5, color='k', clip_on=False)\n",
    "    ax.add_line(line)\n",
    "    ax.text(np.mean([x1, x2]), y+.15,\n",
    "            'n.s.' if p > thresholds[0]/mcc else\n",
    "            '*' if p > thresholds[1]/mcc else\n",
    "            '**' if p > thresholds[2]/mcc else\n",
    "            '***',\n",
    "            ha='center', fontsize=4)\n",
    "    return sig_value, p"
   ]
  },
  {
   "cell_type": "code",
   "execution_count": 161,
   "metadata": {
    "collapsed": false
   },
   "outputs": [
    {
     "name": "stdout",
     "output_type": "stream",
     "text": [
      "0.000244870569321\n"
     ]
    },
    {
     "data": {
      "image/png": "[encoded data removed]",
      "text/plain": [
       "<matplotlib.figure.Figure at 0x7efd982bf510>"
      ]
     },
     "metadata": {},
     "output_type": "display_data"
    }
   ],
   "source": [
    "from matplotlib.patches import Patch\n",
    "labels = ['Early','Late']\n",
    "area = 't'\n",
    "\n",
    "#x = np.arange(len(labels))  # the label locations\n",
    "width = 0.38  # the width of the bars\n",
    "\n",
    "to_plot = ['pre','post']\n",
    "\n",
    "dark_co = ('forestgreen','darkcyan','firebrick','lightgrey','dimgrey','goldenrod')\n",
    "fig, ax = pl.subplots(figsize=(.6,1.2))\n",
    "pvs=[]\n",
    "\n",
    "for day in to_plot:\n",
    "    if day == 'pre':\n",
    "        exec(\"e = np.array(np.std(%s_di_%s))\"%(day,area))\n",
    "        exec(\"ax.bar(0 + width/2, np.mean(%s_di_%s), width, color='k',yerr=e)\"%(day,area))\n",
    "    if day == 'post':\n",
    "        exec(\"l = np.array(np.std(%s_di_%s))\"%(day,area))\n",
    "        exec(\"ax.bar(0 + width+width/2,  np.mean(%s_di_%s), width,color='whitesmoke', edgecolor='k',yerr=l)\"%(day,area))\n",
    "exec(\"pvs.append(add_significance(ax, pre_di_%s, post_di_%s,width/2,width+width/2,2.8))\"%(area,area))\n",
    "   \n",
    "# Add some text for labels, title and custom x-axis tick labels, etc.\n",
    "ax.set_ylabel('Discrimination Index')\n",
    "#ax.set_title('Decoding During CS')\n",
    "ax.set_ylim(0,3)\n",
    "x=[width/2,width/2+width]\n",
    "ax.set_xticks(x)\n",
    "ax.set_xticklabels(labels)\n",
    "ax.tick_params(axis='x',bottom=False)\n",
    "\n",
    "        #max(np.mean(mean_scores_gmin_tb_6Discrimination_vhpc[sess][:loops])*100+v[sess],\n",
    "        #    np.mean(mean_scores_gmin_tb_6_dhpc[sess][:loops])*100+d[sess])+6))\n",
    "    #pvs.append(sig_vs_chance(ax,mean_scores_gmin_tb_6_vhpc[sess][:loops],.5,-.2+i,\n",
    "    #           np.mean(mean_scores_gmin_tb_6_vhpc[sess][:loops])*100+v[sess]+1,loops=loops,sig_func=None,colors='k'))\n",
    "    #pvs.append(sig_vs_chance(ax,mean_scores_gmin_tb_6_dhpc[sess][:loops],.5, .2+i,\n",
    "    #           np.mean(mean_scores_gmin_tb_6_dhpc[sess][:loops])*100+d[sess]+1,loops=loops,sig_func=None,colors='k'))\n",
    "#pl.suptitle('Discrimination Index',y=1.06,fontsize=8)\n",
    "fig.savefig('../../../results/final-ish figures/%s_3odor_all_mice_di_bars.pdf'%NOTEBOOK_NAME)\n"
   ]
  },
  {
   "cell_type": "code",
   "execution_count": 162,
   "metadata": {
    "collapsed": false
   },
   "outputs": [
    {
     "name": "stdout",
     "output_type": "stream",
     "text": [
      "0.00419772498866\n"
     ]
    },
    {
     "data": {
      "image/png": "[encoded data removed]",
      "text/plain": [
       "<matplotlib.figure.Figure at 0x7efdf8062690>"
      ]
     },
     "metadata": {},
     "output_type": "display_data"
    }
   ],
   "source": [
    "from matplotlib.patches import Patch\n",
    "labels = ['Early','Late']\n",
    "area = 'v'\n",
    "\n",
    "#x = np.arange(len(labels))  # the label locations\n",
    "width = 0.38  # the width of the bars\n",
    "\n",
    "to_plot = ['pre','post']\n",
    "\n",
    "dark_co = ('forestgreen','darkcyan','firebrick','lightgrey','dimgrey','goldenrod')\n",
    "fig, ax = pl.subplots(figsize=(.6,1.2))\n",
    "pvs=[]\n",
    "\n",
    "for day in to_plot:\n",
    "    if day == 'pre':\n",
    "        exec(\"e = np.array(np.std(%s_di_%s))\"%(day,area))\n",
    "        exec(\"ax.bar(0 + width/2, np.mean(%s_di_%s), width, color='k',yerr=e)\"%(day,area))\n",
    "    if day == 'post':\n",
    "        exec(\"l = np.array(np.std(%s_di_%s))\"%(day,area))\n",
    "        exec(\"ax.bar(0 + width+width/2,  np.mean(%s_di_%s), width,color='whitesmoke', edgecolor='k',yerr=l)\"%(day,area))\n",
    "exec(\"pvs.append(add_significance(ax, pre_di_%s, post_di_%s,width/2,width+width/2,2.8))\"%(area,area))\n",
    "   \n",
    "# Add some text for labels, title and custom x-axis tick labels, etc.\n",
    "ax.set_ylabel('Discrimination Index')\n",
    "#ax.set_title('Decoding During CS')\n",
    "ax.set_ylim(0,3)\n",
    "x=[width/2,width/2+width]\n",
    "ax.set_xticks(x)\n",
    "ax.set_xticklabels(labels)\n",
    "ax.tick_params(axis='x',bottom=False)\n",
    "\n",
    "        #max(np.mean(mean_scores_gmin_tb_6Discrimination_vhpc[sess][:loops])*100+v[sess],\n",
    "        #    np.mean(mean_scores_gmin_tb_6_dhpc[sess][:loops])*100+d[sess])+6))\n",
    "    #pvs.append(sig_vs_chance(ax,mean_scores_gmin_tb_6_vhpc[sess][:loops],.5,-.2+i,\n",
    "    #           np.mean(mean_scores_gmin_tb_6_vhpc[sess][:loops])*100+v[sess]+1,loops=loops,sig_func=None,colors='k'))\n",
    "    #pvs.append(sig_vs_chance(ax,mean_scores_gmin_tb_6_dhpc[sess][:loops],.5, .2+i,\n",
    "    #           np.mean(mean_scores_gmin_tb_6_dhpc[sess][:loops])*100+d[sess]+1,loops=loops,sig_func=None,colors='k'))\n",
    "#pl.suptitle('Discrimination Index',y=1.06,fontsize=8)\n",
    "\n",
    "fig.savefig('../../../results/final-ish figures/%s_3odor_ventral_mice_di_bars.pdf'%NOTEBOOK_NAME)"
   ]
  },
  {
   "cell_type": "code",
   "execution_count": 163,
   "metadata": {
    "collapsed": false
   },
   "outputs": [
    {
     "name": "stdout",
     "output_type": "stream",
     "text": [
      "0.040427799185\n"
     ]
    },
    {
     "data": {
      "image/png": "[encoded data removed]",
      "text/plain": [
       "<matplotlib.figure.Figure at 0x7efd981ccb50>"
      ]
     },
     "metadata": {},
     "output_type": "display_data"
    }
   ],
   "source": [
    "from matplotlib.patches import Patch\n",
    "labels = ['Early','Late']\n",
    "area = 'd'\n",
    "\n",
    "#x = np.arange(len(labels))  # the label locations\n",
    "width = 0.38  # the width of the bars\n",
    "\n",
    "to_plot = ['pre','post']\n",
    "\n",
    "dark_co = ('forestgreen','darkcyan','firebrick','lightgrey','dimgrey','goldenrod')\n",
    "fig, ax = pl.subplots(figsize=(.6,1.2))\n",
    "pvs=[]\n",
    "\n",
    "for day in to_plot:\n",
    "    if day == 'pre':\n",
    "        exec(\"e = np.array(np.std(%s_di_%s))\"%(day,area))\n",
    "        exec(\"ax.bar(0 + width/2, np.mean(%s_di_%s), width, color='k',yerr=e)\"%(day,area))\n",
    "    if day == 'post':\n",
    "        exec(\"l = np.array(np.std(%s_di_%s))\"%(day,area))\n",
    "        exec(\"ax.bar(0 + width+width/2,  np.mean(%s_di_%s), width,color='whitesmoke', edgecolor='k',yerr=l)\"%(day,area))\n",
    "exec(\"pvs.append(add_significance(ax, pre_di_%s, post_di_%s,width/2,width+width/2,2.8))\"%(area,area))\n",
    "   \n",
    "# Add some text for labels, title and custom x-axis tick labels, etc.\n",
    "ax.set_ylabel('Discrimination Index')\n",
    "#ax.set_title('Decoding During CS')\n",
    "ax.set_ylim(0,3)\n",
    "x=[width/2,width/2+width]\n",
    "ax.set_xticks(x)\n",
    "ax.set_xticklabels(labels)\n",
    "ax.tick_params(axis='x',bottom=False)\n",
    "\n",
    "        #max(np.mean(mean_scores_gmin_tb_6Discrimination_vhpc[sess][:loops])*100+v[sess],\n",
    "        #    np.mean(mean_scores_gmin_tb_6_dhpc[sess][:loops])*100+d[sess])+6))\n",
    "    #pvs.append(sig_vs_chance(ax,mean_scores_gmin_tb_6_vhpc[sess][:loops],.5,-.2+i,\n",
    "    #           np.mean(mean_scores_gmin_tb_6_vhpc[sess][:loops])*100+v[sess]+1,loops=loops,sig_func=None,colors='k'))\n",
    "    #pvs.append(sig_vs_chance(ax,mean_scores_gmin_tb_6_dhpc[sess][:loops],.5, .2+i,\n",
    "    #           np.mean(mean_scores_gmin_tb_6_dhpc[sess][:loops])*100+d[sess]+1,loops=loops,sig_func=None,colors='k'))\n",
    "#pl.suptitle('Discrimination Index',y=1.06,fontsize=8)\n",
    "fig.savefig('../../../results/final-ish figures/%s_3odor_dorsal_mice_di_bars.pdf'%NOTEBOOK_NAME)"
   ]
  },
  {
   "cell_type": "code",
   "execution_count": 164,
   "metadata": {
    "collapsed": false
   },
   "outputs": [
    {
     "name": "stdout",
     "output_type": "stream",
     "text": [
      "Could not store variable 'di'. Skipping...\n",
      "Could not store variable 'os'. Skipping...\n",
      "Could not store variable 'IPython'. Skipping...\n",
      "Could not store variable 'pt'. Skipping...\n",
      "Could not store variable 'sstats'. Skipping...\n",
      "Could not store variable 'pl'. Skipping...\n",
      "Could not store variable 'ut'. Skipping...\n",
      "Could not store variable 'pickle'. Skipping...\n",
      "Could not store variable 'ip'. Skipping...\n",
      "Could not store variable 'np'. Skipping...\n",
      "Could not store variable 'sys'. Skipping...\n"
     ]
    }
   ],
   "source": [
    "save_workspace(db)"
   ]
  },
  {
   "cell_type": "code",
   "execution_count": null,
   "metadata": {
    "collapsed": true
   },
   "outputs": [],
   "source": []
  }
 ],
 "metadata": {
  "anaconda-cloud": {},
  "kernelspec": {
   "display_name": "Python [default]",
   "language": "python",
   "name": "python2"
  },
  "language_info": {
   "codemirror_mode": {
    "name": "ipython",
    "version": 2
   },
   "file_extension": ".py",
   "mimetype": "text/x-python",
   "name": "python",
   "nbconvert_exporter": "python",
   "pygments_lexer": "ipython2",
   "version": "2.7.12"
  },
  "nbpresent": {
   "slides": {
    "0d986ed2-5f0a-4fb5-bef8-671b9a7944c2": {
     "id": "0d986ed2-5f0a-4fb5-bef8-671b9a7944c2",
     "layout": "grid",
     "prev": null,
     "regions": {
      "8225e319-a034-4787-b6c3-67ba18e539df": {
       "attrs": {
        "height": 1,
        "pad": 0.01,
        "treemap:weight": 1,
        "width": 0.5,
        "x": 0.5,
        "y": 0
       },
       "id": "8225e319-a034-4787-b6c3-67ba18e539df"
      },
      "da963486-c522-4461-b750-f656e415a1be": {
       "attrs": {
        "height": 1,
        "pad": 0.01,
        "treemap:weight": 1,
        "width": 0.5,
        "x": 0,
        "y": 0
       },
       "id": "da963486-c522-4461-b750-f656e415a1be"
      }
     }
    },
    "1735d954-277d-4120-b50d-1eda74274968": {
     "id": "1735d954-277d-4120-b50d-1eda74274968",
     "prev": "0d986ed2-5f0a-4fb5-bef8-671b9a7944c2",
     "regions": {
      "a6210379-c2c0-4a0b-b180-def0b2e45d5a": {
       "attrs": {
        "height": 1,
        "width": 1,
        "x": 0,
        "y": 0
       },
       "content": {
        "cell": "58ed5f85-9757-4f05-94ef-a631c3d9dd51",
        "part": "outputs"
       },
       "id": "a6210379-c2c0-4a0b-b180-def0b2e45d5a"
      }
     }
    },
    "17414c21-2d5e-4e85-a979-be0a81228952": {
     "id": "17414c21-2d5e-4e85-a979-be0a81228952",
     "prev": "3ba851ce-b3eb-409e-8809-d72887d124c6",
     "regions": {
      "8b369589-ef7b-40d4-986f-89079045d9ea": {
       "attrs": {
        "height": 1,
        "width": 1,
        "x": 0,
        "y": 0
       },
       "id": "8b369589-ef7b-40d4-986f-89079045d9ea"
      }
     }
    },
    "3ba851ce-b3eb-409e-8809-d72887d124c6": {
     "id": "3ba851ce-b3eb-409e-8809-d72887d124c6",
     "prev": "1735d954-277d-4120-b50d-1eda74274968",
     "regions": {
      "a70ad6eb-6c6c-4a9b-b2e6-844787805048": {
       "attrs": {
        "height": 0.7020408163265306,
        "width": 0.8377551020408163,
        "x": 0.1622448979591837,
        "y": 0.2979591836734694
       },
       "content": {
        "cell": "c50576db-4f27-48e8-a63a-42de45527151",
        "part": "outputs"
       },
       "id": "a70ad6eb-6c6c-4a9b-b2e6-844787805048"
      },
      "bebea0da-137b-4a60-9392-618d040c348d": {
       "attrs": {
        "height": 0.1360544217687075,
        "width": 0.8604591836734694,
        "x": 0.1,
        "y": 0.1
       },
       "id": "bebea0da-137b-4a60-9392-618d040c348d"
      }
     }
    }
   },
   "themes": {}
  }
 },
 "nbformat": 4,
 "nbformat_minor": 2
}
