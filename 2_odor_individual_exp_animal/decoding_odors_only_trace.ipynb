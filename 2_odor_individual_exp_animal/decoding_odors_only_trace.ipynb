{
 "cells": [
  {
   "cell_type": "code",
   "execution_count": 1,
   "metadata": {
    "collapsed": false
   },
   "outputs": [
    {
     "data": {
      "text/html": [
       "<script>jQuery(function() {if (jQuery(\"body.notebook_app\").length == 0) { jQuery(\".input_area\").toggle(); jQuery(\".prompt\").toggle();}});</script>"
      ]
     },
     "metadata": {},
     "output_type": "display_data"
    },
    {
     "data": {
      "text/html": [
       "<button onclick=\"jQuery('.input_area').toggle(); jQuery('.prompt').toggle();\">Toggle code</button>"
      ]
     },
     "metadata": {},
     "output_type": "display_data"
    }
   ],
   "source": [
    "from IPython.display import display\n",
    "from IPython.display import HTML\n",
    "import IPython.core.display as di # Example: di.display_html('<h3>%s:</h3>' % str, raw=True)\n",
    "\n",
    "# This line will hide code by default when the notebook is exported as HTML\n",
    "di.display_html('<script>jQuery(function() {if (jQuery(\"body.notebook_app\").length == 0) { jQuery(\".input_area\").toggle(); jQuery(\".prompt\").toggle();}});</script>', raw=True)\n",
    "\n",
    "# This line will add a button to toggle visibility of code blocks, for use with the HTML export version\n",
    "di.display_html('''<button onclick=\"jQuery('.input_area').toggle(); jQuery('.prompt').toggle();\">Toggle code</button>''', raw=True)\n"
   ]
  },
  {
   "cell_type": "code",
   "execution_count": 2,
   "metadata": {
    "collapsed": true
   },
   "outputs": [],
   "source": [
    "# all modules necessary for this nb\n",
    "import os\n",
    "import sys\n",
    "import pickle\n",
    "\n",
    "import numpy as np\n",
    "import pylab as pl\n",
    "\n",
    "# setting parameters for default matplotlib plots\n",
    "%matplotlib inline"
   ]
  },
  {
   "cell_type": "code",
   "execution_count": 3,
   "metadata": {
    "collapsed": false
   },
   "outputs": [],
   "source": [
    "pl.style.use('fabiostyle')\n",
    "# needs to find the library of functions\n",
    "sys.path.append('../../../../code/')  # to be replaced!\n",
    "\n",
    "import utils as ut\n",
    "import plots as pt"
   ]
  },
  {
   "cell_type": "code",
   "execution_count": 4,
   "metadata": {
    "collapsed": false
   },
   "outputs": [],
   "source": [
    "# %%javascript\n",
    "# var nb = IPython.notebook;\n",
    "# var kernel = IPython.notebook.kernel;\n",
    "# var command = \"NOTEBOOK_NAME = '\" + nb.base_url + nb.notebook_path + \"'\";\n",
    "# kernel.execute(command);"
   ]
  },
  {
   "cell_type": "code",
   "execution_count": 5,
   "metadata": {
    "collapsed": true
   },
   "outputs": [],
   "source": [
    "# NOTEBOOK_NAME = NOTEBOOK_NAME.split('/')[-1][:-6]\n",
    "NOTEBOOK_NAME = 'decoding_odors_only_trace'"
   ]
  },
  {
   "cell_type": "code",
   "execution_count": 6,
   "metadata": {
    "collapsed": false
   },
   "outputs": [],
   "source": [
    "from pickleshare import PickleShareDB\n",
    "\n",
    "autorestore_folder = os.path.join(os.getcwd(), 'autorestore', NOTEBOOK_NAME)\n",
    "db = PickleShareDB(autorestore_folder)\n",
    "import sys\n",
    "from workspace import *\n",
    "import IPython\n",
    "ip = IPython.get_ipython()\n",
    "\n",
    "# this will restore all the saved variables. ignore the errors listed.\n",
    "load_workspace(ip, db)\n",
    "\n",
    "# use `save_worspace(db)` to save variables at the end"
   ]
  },
  {
   "cell_type": "code",
   "execution_count": 7,
   "metadata": {
    "collapsed": false
   },
   "outputs": [],
   "source": [
    "folder = './autorestore/preprocessing'\n",
    "for var in ('time_ax', 'traces', 'events', 'areas', 'cycles',\n",
    "            'is_rewardt', 'is_CSmt', 'CYCLE_START', 'CS_DURATION', 'DELAY'): \n",
    "    exec('%s = ut.load_variable(\\'%s\\', folder=\\'%s\\')'%(var, var, folder))"
   ]
  },
  {
   "cell_type": "code",
   "execution_count": 8,
   "metadata": {
    "collapsed": false
   },
   "outputs": [],
   "source": [
    "from sklearn.svm import SVC\n",
    "from sklearn.naive_bayes import MultinomialNB"
   ]
  },
  {
   "cell_type": "code",
   "execution_count": 9,
   "metadata": {
    "collapsed": true
   },
   "outputs": [],
   "source": [
    "n_loops = 10"
   ]
  },
  {
   "cell_type": "code",
   "execution_count": 10,
   "metadata": {
    "collapsed": true
   },
   "outputs": [],
   "source": [
    "# %%time\n",
    "# %%px\n",
    "\n",
    "from sklearn.model_selection import cross_val_score, LeaveOneOut\n",
    "from sklearn.svm import SVC, LinearSVC\n",
    "import numpy as np\n",
    "\n",
    "decoder = SVC(kernel='linear', decision_function_shape='ovo')\n",
    "# decoder = LinearSVC()\n",
    "# decoder = MultinomialNB()"
   ]
  },
  {
   "cell_type": "code",
   "execution_count": 11,
   "metadata": {
    "collapsed": false
   },
   "outputs": [],
   "source": [
    "patterns = ut.extract_patterns(time_ax, traces, cycles, CYCLE_START, CS_DURATION, CS_DURATION+DELAY)\n",
    "patterns_evs = ut.extract_patterns(time_ax, events, cycles, CYCLE_START, CS_DURATION, CS_DURATION+DELAY)\n",
    "labels = (np.r_[is_rewardt] * 0) + (np.r_[is_CSmt] * 1)"
   ]
  },
  {
   "cell_type": "code",
   "execution_count": 12,
   "metadata": {
    "collapsed": false
   },
   "outputs": [
    {
     "name": "stdout",
     "output_type": "stream",
     "text": [
      "CPU times: user 3.47 s, sys: 1.53 s, total: 5 s\n",
      "Wall time: 6.44 s\n"
     ]
    }
   ],
   "source": [
    "%%time\n",
    "\n",
    "scores, scores_chance = ut.decode(patterns_evs, labels, cv=LeaveOneOut(), n_jobs=10, decoder=decoder)"
   ]
  },
  {
   "cell_type": "code",
   "execution_count": 13,
   "metadata": {
    "collapsed": false
   },
   "outputs": [
    {
     "data": {
      "text/plain": [
       "<matplotlib.text.Text at 0x7fde941340d0>"
      ]
     },
     "execution_count": 13,
     "metadata": {},
     "output_type": "execute_result"
    },
    {
     "data": {
      "image/png": "[encoded data removed]",
      "text/plain": [
       "<matplotlib.figure.Figure at 0x7fde94144fd0>"
      ]
     },
     "metadata": {},
     "output_type": "display_data"
    }
   ],
   "source": [
    "fig, ax = pl.subplots(1, 1, figsize=(1, 2))\n",
    "\n",
    "values = [scores_chance*100, scores*100, ]\n",
    "\n",
    "xpos = np.r_[[0, 1]]\n",
    "pt.plot_bars(values, xpos=xpos, colors=['0.7', 'k']*4, ax=ax)\n",
    "pt.nicer_plot(ax)\n",
    "pt.add_significance(ax, values[0], values[1], 0, 1, 110)\n",
    "\n",
    "ax.set_ylim(0, 100)\n",
    "ax.set_xticks(range(2))\n",
    "ax.set_xticklabels(['Chance', \"Data\"])\n",
    "\n",
    "ax.set_ylabel('Decoding Accuracy %')"
   ]
  },
  {
   "cell_type": "code",
   "execution_count": 14,
   "metadata": {
    "collapsed": false
   },
   "outputs": [
    {
     "name": "stdout",
     "output_type": "stream",
     "text": [
      "CPU times: user 5.15 s, sys: 3.62 s, total: 8.77 s\n",
      "Wall time: 12.2 s\n"
     ]
    }
   ],
   "source": [
    "%%time\n",
    "\n",
    "scores_early, scores_early_chance = ut.decode(patterns_evs[:40], labels[:40], cv=LeaveOneOut(), n_jobs=10, decoder=decoder)\n",
    "scores_mid, scores_mid_chance = ut.decode(patterns_evs[40:80], labels[40:80], cv=LeaveOneOut(), n_jobs=10, decoder=decoder)\n",
    "scores_late, scores_late_chance = ut.decode(patterns_evs[80:], labels[80:], cv=LeaveOneOut(), n_jobs=10, decoder=decoder)"
   ]
  },
  {
   "cell_type": "code",
   "execution_count": 15,
   "metadata": {
    "collapsed": false
   },
   "outputs": [
    {
     "data": {
      "text/plain": [
       "<matplotlib.text.Text at 0x7fde94121490>"
      ]
     },
     "execution_count": 15,
     "metadata": {},
     "output_type": "execute_result"
    },
    {
     "data": {
      "image/png": "[encoded data removed]",
      "text/plain": [
       "<matplotlib.figure.Figure at 0x7fde94049390>"
      ]
     },
     "metadata": {},
     "output_type": "display_data"
    }
   ],
   "source": [
    "fig, ax = pl.subplots(1, 1, figsize=(2, 2))\n",
    "\n",
    "values = [scores_early_chance*100, scores_early*100,\n",
    "          scores_mid_chance*100, scores_mid*100,\n",
    "          scores_late_chance*100, scores_late*100,]\n",
    "\n",
    "xpos = np.r_[[0, 1, 3, 4,5,6]]\n",
    "pt.plot_bars(values, xpos=xpos, colors=['0.7', 'k']*2, ax=ax)\n",
    "pt.nicer_plot(ax)\n",
    "for v1, v2, x in zip(values[::2], values[1::2], xpos[::2]):\n",
    "    pt.add_significance(ax, v1, v2, x, x+1, 110)\n",
    "\n",
    "ax.set_ylim(0, 100)\n",
    "ax.set_xticks(xpos[::2]+0.5)\n",
    "ax.set_xticklabels(['Early','Mid', 'Late'])\n",
    "\n",
    "ax.set_ylabel('Decoding Accuracy %')"
   ]
  },
  {
   "cell_type": "code",
   "execution_count": 18,
   "metadata": {
    "collapsed": true
   },
   "outputs": [],
   "source": [
    "di_avg_score = []\n",
    "\n",
    "for i in range(len(scores)/2):\n",
    "    \n",
    "    di_avg_score.append(np.mean([scores[np.where(is_rewardt)[0][i]],scores[np.where(is_CSmt)[0][i]]]))\n",
    "    \n"
   ]
  },
  {
   "cell_type": "code",
   "execution_count": 19,
   "metadata": {
    "collapsed": false
   },
   "outputs": [
    {
     "name": "stdout",
     "output_type": "stream",
     "text": [
      "Could not store variable 'di'. Skipping...\n",
      "Could not store variable 'os'. Skipping...\n",
      "Could not store variable 'IPython'. Skipping...\n",
      "Could not store variable 'pt'. Skipping...\n",
      "Could not store variable 'pl'. Skipping...\n",
      "Could not store variable 'ut'. Skipping...\n",
      "Could not store variable 'pickle'. Skipping...\n",
      "Could not store variable 'ip'. Skipping...\n",
      "Could not store variable 'np'. Skipping...\n",
      "Could not store variable 'sys'. Skipping...\n"
     ]
    }
   ],
   "source": [
    "save_workspace(db)"
   ]
  },
  {
   "cell_type": "code",
   "execution_count": 18,
   "metadata": {
    "collapsed": true
   },
   "outputs": [],
   "source": []
  }
 ],
 "metadata": {
  "anaconda-cloud": {},
  "kernelspec": {
   "display_name": "Python [default]",
   "language": "python",
   "name": "python2"
  },
  "language_info": {
   "codemirror_mode": {
    "name": "ipython",
    "version": 2
   },
   "file_extension": ".py",
   "mimetype": "text/x-python",
   "name": "python",
   "nbconvert_exporter": "python",
   "pygments_lexer": "ipython2",
   "version": "2.7.12"
  }
 },
 "nbformat": 4,
 "nbformat_minor": 2
}
