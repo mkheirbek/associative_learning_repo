{
 "cells": [
  {
   "cell_type": "code",
   "execution_count": 1,
   "metadata": {
    "collapsed": false
   },
   "outputs": [
    {
     "data": {
      "text/html": [
       "<script>jQuery(function() {if (jQuery(\"body.notebook_app\").length == 0) { jQuery(\".input_area\").toggle(); jQuery(\".prompt\").toggle();}});</script>"
      ]
     },
     "metadata": {},
     "output_type": "display_data"
    },
    {
     "data": {
      "text/html": [
       "<button onclick=\"jQuery('.input_area').toggle(); jQuery('.prompt').toggle();\">Toggle code</button>"
      ]
     },
     "metadata": {},
     "output_type": "display_data"
    }
   ],
   "source": [
    "### from IPython.display import display\n",
    "from IPython.display import HTML\n",
    "import IPython.core.display as di # Example: di.display_html('<h3>%s:</h3>' % str, raw=True)\n",
    "\n",
    "# This line will hide code by default when the notebook is exported as HTML\n",
    "di.display_html('<script>jQuery(function() {if (jQuery(\"body.notebook_app\").length == 0) { jQuery(\".input_area\").toggle(); jQuery(\".prompt\").toggle();}});</script>', raw=True)\n",
    "\n",
    "# This line will add a button to toggle visibility of code blocks, for use with the HTML export version\n",
    "di.display_html('''<button onclick=\"jQuery('.input_area').toggle(); jQuery('.prompt').toggle();\">Toggle code</button>''', raw=True)\n"
   ]
  },
  {
   "cell_type": "code",
   "execution_count": 2,
   "metadata": {
    "collapsed": true
   },
   "outputs": [],
   "source": [
    "# all modules necessary for this nb\n",
    "import os\n",
    "import sys\n",
    "import pickle\n",
    "\n",
    "import numpy as np\n",
    "import pylab as pl\n",
    "\n",
    "# setting parameters for default matplotlib plots\n",
    "%matplotlib inline"
   ]
  },
  {
   "cell_type": "code",
   "execution_count": 3,
   "metadata": {
    "collapsed": false
   },
   "outputs": [],
   "source": [
    "pl.style.use('fabiostyle')\n",
    "# needs to find the library of functions\n",
    "sys.path.append('../../../../code/')  # to be replaced!\n",
    "\n",
    "import utils as ut\n",
    "import plots as pt"
   ]
  },
  {
   "cell_type": "code",
   "execution_count": 4,
   "metadata": {
    "collapsed": false
   },
   "outputs": [],
   "source": [
    "# %%javascript\n",
    "# var nb = IPython.notebook;\n",
    "# var kernel = IPython.notebook.kernel;\n",
    "# var command = \"NOTEBOOK_NAME = '\" + nb.base_url + nb.notebook_path + \"'\";\n",
    "# kernel.execute(command);"
   ]
  },
  {
   "cell_type": "code",
   "execution_count": 5,
   "metadata": {
    "collapsed": true
   },
   "outputs": [],
   "source": [
    "# NOTEBOOK_NAME = NOTEBOOK_NAME.split('/')[-1][:-6]\n",
    "NOTEBOOK_NAME = 'selectivity_time_bins'"
   ]
  },
  {
   "cell_type": "code",
   "execution_count": 6,
   "metadata": {
    "collapsed": false
   },
   "outputs": [],
   "source": [
    "from pickleshare import PickleShareDB\n",
    "\n",
    "autorestore_folder = os.path.join(os.getcwd(), 'autorestore', NOTEBOOK_NAME)\n",
    "db = PickleShareDB(autorestore_folder)\n",
    "import sys\n",
    "from workspace import *\n",
    "import IPython\n",
    "ip = IPython.get_ipython()\n",
    "\n",
    "# this will restore all the saved variables. ignore the errors listed.\n",
    "#load_workspace(ip, db)\n",
    "\n",
    "# use `save_worspace(db)` to save variables at the end"
   ]
  },
  {
   "cell_type": "code",
   "execution_count": 7,
   "metadata": {
    "collapsed": false
   },
   "outputs": [],
   "source": [
    "folder = './autorestore/preprocessing'\n",
    "for var in ('time_ax', 'traces', 'events', 'areas', 'cycles',\n",
    "            'is_rewardt', 'is_CSmt', 'CYCLE_START', 'CS_DURATION', 'DELAY'): \n",
    "    exec('%s = ut.load_variable(\\'%s\\', folder=\\'%s\\')'%(var, var, folder))\n",
    "    \n",
    "folder = './autorestore/lambo'\n",
    "for var in ('reward_times', 'is_rewarded'): \n",
    "    exec('%s = ut.load_variable(\\'%s\\', folder=\\'%s\\')'%(var, var, folder))"
   ]
  },
  {
   "cell_type": "code",
   "execution_count": 8,
   "metadata": {
    "collapsed": true
   },
   "outputs": [],
   "source": [
    "def update_selectivity(selectivity, trial_types, between_what, and_what, append='', append_trial='t'):\n",
    "\n",
    "    for t in trial_types:\n",
    "\n",
    "        # this one selects which trials to consider\n",
    "        which_cycles = eval('is_%s'%(t+append_trial))\n",
    "#         print sum(which_cycles)\n",
    "\n",
    "        if not np.any(which_cycles):\n",
    "            continue\n",
    "        \n",
    "        selectivity[t+append] = ut.compute_selectivity(time_ax, events, cycles[which_cycles],\n",
    "                                                       between_what, and_what)"
   ]
  },
  {
   "cell_type": "code",
   "execution_count": 9,
   "metadata": {
    "collapsed": false
   },
   "outputs": [],
   "source": [
    "#since CYCLE_START = -5, CS onset is at time 5\n",
    "baseline_05s = (4.5,5)\n",
    "durations_05s = (5,5.5),(5.5,6),(6,6.5),(6.5,7),(7,7.5),(7.5,8),(8,8.5),(8.5,9),(9,9.5),(9.5,10),(10,10.5),(10.5,11),(11,11.5),(11.5,12)\n",
    "baseline_1s = (4,5)\n",
    "durations_1s = (5,6),(6,7),(7,8),(8,9),(9,10),(10,11),(11,12)\n",
    "baseline_2s = (3,5)\n",
    "durations_2s = (5,7),(7,9),(9,11),(11,13)"
   ]
  },
  {
   "cell_type": "code",
   "execution_count": 10,
   "metadata": {
    "collapsed": false
   },
   "outputs": [],
   "source": [
    "selectivity_05s = {}\n",
    "selectivity_1s = {}\n",
    "selectivity_2s = {}\n",
    "\n",
    "for dur in durations_05s:\n",
    "    update_selectivity(selectivity_05s, ['CSmt', 'rewardt'],dur, baseline_05s, eval(\"'_%ss'\"%(dur[0]-5)), append_trial='')\n",
    "for dur in durations_1s:\n",
    "    update_selectivity(selectivity_1s, ['CSmt', 'rewardt'],dur, baseline_1s, eval(\"'_%ss'\"%(dur[0]-5)), append_trial='')\n",
    "for dur in durations_2s:\n",
    "    update_selectivity(selectivity_2s, ['CSmt', 'rewardt'],dur, baseline_2s, eval(\"'_%ss'\"%(dur[0]-5)), append_trial='')\n",
    "\n",
    "times = reward_times[is_rewarded]\n",
    "us_timeframe_licks_05 = np.c_[9+times,9+times+.5]\n",
    "us_timeframe_licks_1 = np.c_[9+times,9+times+1]\n",
    "us_timeframe_licks_2 = np.c_[9+times,9+times+2]\n",
    "selectivity_05s['rewardt_licks'] = ut.compute_selectivity(time_ax, events, cycles[is_rewardt][is_rewarded],\n",
    "                                               us_timeframe_licks_05, baseline_05s)\n",
    "selectivity_1s['rewardt_licks'] = ut.compute_selectivity(time_ax, events, cycles[is_rewardt][is_rewarded],\n",
    "                                               us_timeframe_licks_1, baseline_1s)\n",
    "selectivity_2s['rewardt_licks'] = ut.compute_selectivity(time_ax, events, cycles[is_rewardt][is_rewarded],\n",
    "                                               us_timeframe_licks_2, baseline_2s)"
   ]
  },
  {
   "cell_type": "code",
   "execution_count": 11,
   "metadata": {
    "collapsed": true
   },
   "outputs": [],
   "source": [
    "#cs_timeframe = (-CYCLE_START, CS_DURATION-CYCLE_START)\n",
    "#tr_timeframe = (-CYCLE_START+CS_DURATION, -CYCLE_START+CS_DURATION+DELAY)\n",
    "#cs_tr_timeframe = (-CYCLE_START, CS_DURATION-CYCLE_START+DELAY)\n",
    "#us_timeframe = (CS_DURATION-CYCLE_START+DELAY, CS_DURATION-CYCLE_START+DELAY+2)\n",
    "#prebaseline_timeframe = (-CYCLE_START-4, -CYCLE_START-2)\n",
    "#baseline_timeframe = (-CYCLE_START-2, -CYCLE_START)\n",
    "#baseline_cstr_timeframe = (-CYCLE_START-4, -CYCLE_START)\n",
    "#selectivity = {}\n",
    "#\n",
    "#update_selectivity(selectivity, ['CSmt', 'rewardt'], (cs_timeframe), baseline_timeframe, '', append_trial='')\n",
    "#update_selectivity(selectivity, ['CSmt', 'rewardt'], tr_timeframe, baseline_timeframe, '_tr', append_trial='')\n",
    "#update_selectivity(selectivity, ['CSmt', 'rewardt'], cs_tr_timeframe, baseline_cstr_timeframe, '_cstr', append_trial='')\n",
    "#update_selectivity(selectivity, ['CSmt', 'rewardt'], us_timeframe, baseline_timeframe, '_us', append_trial='')\n",
    "#update_selectivity(selectivity, ['CSmt', 'rewardt'], prebaseline_timeframe, baseline_timeframe, '_prebs', append_trial='')\n",
    "#\n",
    "#times = reward_times[is_rewarded]\n",
    "#us_timeframe_licks = np.c_[us_timeframe[0]+times, us_timeframe[0]+times+2]\n",
    "#selectivity['rewardt_licks'] = ut.compute_selectivity(time_ax, events, cycles[is_rewardt][is_rewarded],\n",
    "#                                               us_timeframe_licks, baseline_timeframe)"
   ]
  },
  {
   "cell_type": "code",
   "execution_count": 12,
   "metadata": {
    "collapsed": false
   },
   "outputs": [
    {
     "name": "stdout",
     "output_type": "stream",
     "text": [
      "CSmt_0s 0.0943396226415\n",
      "CSmt_1s 0.169811320755\n",
      "CSmt_2s 0.0943396226415\n",
      "CSmt_3s 0.0377358490566\n",
      "CSmt_4s 0.11320754717\n",
      "CSmt_5s 0.0943396226415\n",
      "CSmt_6s 0.169811320755\n",
      "rewardt_0s 0.0943396226415\n",
      "rewardt_1s 0.0943396226415\n",
      "rewardt_2s 0.0943396226415\n",
      "rewardt_3s 0.132075471698\n",
      "rewardt_4s 0.169811320755\n",
      "rewardt_5s 0.22641509434\n",
      "rewardt_6s 0.207547169811\n",
      "rewardt_licks 0.0943396226415\n"
     ]
    }
   ],
   "source": [
    "significance = 0.05\n",
    "\n",
    "for t in np.sort(selectivity_1s.keys()):\n",
    "    print t, np.mean([s[1]<significance for s in selectivity_1s[t][:, 0]])"
   ]
  },
  {
   "cell_type": "code",
   "execution_count": 13,
   "metadata": {
    "collapsed": false
   },
   "outputs": [
    {
     "name": "stdout",
     "output_type": "stream",
     "text": [
      "CSmt_0s 0.0\n",
      "CSmt_1s 0.0754716981132\n",
      "CSmt_2s 0.0188679245283\n",
      "CSmt_3s 0.0\n",
      "CSmt_4s 0.0\n",
      "CSmt_5s 0.0\n",
      "CSmt_6s 0.0188679245283\n",
      "rewardt_0s 0.0188679245283\n",
      "rewardt_1s 0.0\n",
      "rewardt_2s 0.0\n",
      "rewardt_3s 0.0943396226415\n",
      "rewardt_4s 0.0377358490566\n",
      "rewardt_5s 0.0\n",
      "rewardt_6s 0.0\n",
      "rewardt_licks 0.0188679245283\n"
     ]
    }
   ],
   "source": [
    "significance = 0.05\n",
    "\n",
    "for t in np.sort(selectivity_1s.keys()):\n",
    "    print t, np.mean(ut.adjust_pvalues([s[1] for s in selectivity_1s[t][:, 0]])<significance)"
   ]
  },
  {
   "cell_type": "code",
   "execution_count": 14,
   "metadata": {
    "collapsed": false
   },
   "outputs": [
    {
     "data": {
      "text/plain": [
       "(0, 100)"
      ]
     },
     "execution_count": 14,
     "metadata": {},
     "output_type": "execute_result"
    },
    {
     "data": {
      "image/png": "[encoded data removed]",
      "text/plain": [
       "<matplotlib.figure.Figure at 0x7faa98052090>"
      ]
     },
     "metadata": {},
     "output_type": "display_data"
    }
   ],
   "source": [
    "significance = 0.05\n",
    "\n",
    "fig, ax = pl.subplots(1, 1, figsize=(5, 1.5))\n",
    "values = [np.mean(ut.adjust_pvalues([s[1] for s in selectivity_1s[t][:, 0]])<significance)*100\n",
    "          for t in np.sort(selectivity_1s.keys())]\n",
    "pt.plot_bars(values, ax=ax)\n",
    "ax.set_xticks(range(len(selectivity_1s)))\n",
    "ax.set_xticklabels(np.sort(selectivity_1s.keys()), rotation=45)\n",
    "pt.nicer_plot(ax)\n",
    "ax.set_ylabel('Proportion of Selective cells %')\n",
    "ax.set_ylim(0, 100)"
   ]
  },
  {
   "cell_type": "code",
   "execution_count": 15,
   "metadata": {
    "collapsed": false
   },
   "outputs": [
    {
     "name": "stdout",
     "output_type": "stream",
     "text": [
      "Could not store variable 'IPython'. Skipping...\n",
      "Could not store variable 'pt'. Skipping...\n",
      "Could not store variable 'pl'. Skipping...\n",
      "Could not store variable 'di'. Skipping...\n",
      "Could not store variable 'ut'. Skipping...\n",
      "Could not store variable 'ip'. Skipping...\n",
      "Could not store variable 'np'. Skipping...\n",
      "Could not store variable 'sys'. Skipping...\n",
      "Could not store variable 'pickle'. Skipping...\n",
      "Could not store variable 'os'. Skipping...\n"
     ]
    }
   ],
   "source": [
    "save_workspace(db)"
   ]
  },
  {
   "cell_type": "code",
   "execution_count": 16,
   "metadata": {
    "collapsed": true
   },
   "outputs": [],
   "source": []
  }
 ],
 "metadata": {
  "anaconda-cloud": {},
  "kernelspec": {
   "display_name": "Python [default]",
   "language": "python",
   "name": "python2"
  },
  "language_info": {
   "codemirror_mode": {
    "name": "ipython",
    "version": 2
   },
   "file_extension": ".py",
   "mimetype": "text/x-python",
   "name": "python",
   "nbconvert_exporter": "python",
   "pygments_lexer": "ipython2",
   "version": "2.7.12"
  }
 },
 "nbformat": 4,
 "nbformat_minor": 2
}
