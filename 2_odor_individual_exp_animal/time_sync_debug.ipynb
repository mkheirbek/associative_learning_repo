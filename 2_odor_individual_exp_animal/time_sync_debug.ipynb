{
 "cells": [
  {
   "cell_type": "code",
   "execution_count": 1,
   "metadata": {
    "collapsed": false,
    "nbpresent": {
     "id": "35e69eaa-c300-457b-b392-5dab8232a04e"
    }
   },
   "outputs": [
    {
     "data": {
      "text/html": [
       "<script>jQuery(function() {if (jQuery(\"body.notebook_app\").length == 0) { jQuery(\".input_area\").toggle(); jQuery(\".prompt\").toggle();}});</script>"
      ]
     },
     "metadata": {},
     "output_type": "display_data"
    },
    {
     "data": {
      "text/html": [
       "<button onclick=\"jQuery('.input_area').toggle(); jQuery('.prompt').toggle();\">Toggle code</button>"
      ]
     },
     "metadata": {},
     "output_type": "display_data"
    }
   ],
   "source": [
    "from IPython.display import display\n",
    "from IPython.display import HTML\n",
    "import IPython.core.display as di # Example: di.display_html('<h3>%s:</h3>' % str, raw=True)\n",
    "# This line will hide code by default when the notebook is exported as HTML\n",
    "di.display_html('<script>jQuery(function() {if (jQuery(\"body.notebook_app\").length == 0) { jQuery(\".input_area\").toggle(); jQuery(\".prompt\").toggle();}});</script>', raw=True)\n",
    "\n",
    "# This line will add a button to toggle visibility of code blocks, for use with the HTML export version\n",
    "di.display_html('''<button onclick=\"jQuery('.input_area').toggle(); jQuery('.prompt').toggle();\">Toggle code</button>''', raw=True)\n"
   ]
  },
  {
   "cell_type": "code",
   "execution_count": 2,
   "metadata": {
    "collapsed": true
   },
   "outputs": [],
   "source": [
    "# all modules necessary for this nb\n",
    "import os\n",
    "import sys\n",
    "import pickle\n",
    "\n",
    "import numpy as np\n",
    "import pylab as pl\n",
    "from sklearn.covariance import EmpiricalCovariance\n",
    "from sklearn.cluster import KMeans, AffinityPropagation\n",
    "from sklearn.metrics import silhouette_score as clust_score\n",
    "from sklearn.preprocessing import StandardScaler\n",
    "from scipy import stats as sstats\n",
    "\n",
    "# setting parameters for default matplotlib plots\n",
    "%matplotlib inline"
   ]
  },
  {
   "cell_type": "code",
   "execution_count": 3,
   "metadata": {
    "collapsed": false,
    "nbpresent": {
     "id": "1ecc8373-9119-4667-83f9-f5bc9201bb45"
    }
   },
   "outputs": [],
   "source": [
    "pl.style.use('fabiostyle')\n",
    "from ipywidgets import interact\n",
    "\n",
    "# needs to find the library of functions\n",
    "sys.path.append('../../../../code/')  # to be replaced!\n",
    "\n",
    "import utils as ut\n",
    "import plots as pt"
   ]
  },
  {
   "cell_type": "code",
   "execution_count": 4,
   "metadata": {
    "collapsed": true,
    "nbpresent": {
     "id": "067b03ca-045a-473b-a84a-e28c04b89c5e"
    }
   },
   "outputs": [],
   "source": [
    "# a double percentage sign indicates a magic function. in this case, now we are writing this cell in javascript."
   ]
  },
  {
   "cell_type": "code",
   "execution_count": 5,
   "metadata": {
    "collapsed": false,
    "nbpresent": {
     "id": "d1667834-b8c5-483c-9a93-52b661269d10"
    }
   },
   "outputs": [],
   "source": [
    "NOTEBOOK_NAME = 'time_sync_debug'"
   ]
  },
  {
   "cell_type": "code",
   "execution_count": 6,
   "metadata": {
    "collapsed": false,
    "nbpresent": {
     "id": "5d65f7bf-9758-4cd0-bae3-1e4bde68c823"
    }
   },
   "outputs": [],
   "source": [
    "from pickleshare import PickleShareDB\n",
    "\n",
    "autorestore_folder = os.path.join(os.getcwd(), 'autorestore', NOTEBOOK_NAME)\n",
    "db = PickleShareDB(autorestore_folder)\n",
    "import sys\n",
    "from workspace import *\n",
    "import IPython\n",
    "ip = IPython.get_ipython()\n",
    "\n",
    "# this will restore all the saved variables. ignore the errors listed.\n",
    "load_workspace(ip, db)\n",
    "\n",
    "# use `save_worspace(db)` to save variables at the end"
   ]
  },
  {
   "cell_type": "code",
   "execution_count": 7,
   "metadata": {
    "collapsed": false,
    "nbpresent": {
     "id": "352934cb-6888-4106-b917-44360d0e2884"
    }
   },
   "outputs": [],
   "source": [
    "data_folder = '../data'"
   ]
  },
  {
   "cell_type": "code",
   "execution_count": 8,
   "metadata": {
    "collapsed": true
   },
   "outputs": [],
   "source": [
    "traces = np.loadtxt(os.path.join(data_folder, 'C.txt')).T #denoised traces"
   ]
  },
  {
   "cell_type": "code",
   "execution_count": 9,
   "metadata": {
    "collapsed": false,
    "nbpresent": {
     "id": "23571208-3ac5-4945-ac54-56ae02dc4a1a"
    },
    "pixiedust": {
     "displayParams": {}
    }
   },
   "outputs": [],
   "source": [
    "filename = os.path.join(data_folder, 'behavior_codes.txt')\n",
    "behavior = ut.read_behavior(filename)\n",
    "events_list = np.unique([b[1] for b in behavior])"
   ]
  },
  {
   "cell_type": "code",
   "execution_count": 10,
   "metadata": {
    "collapsed": false,
    "nbpresent": {
     "id": "19c9550d-fb20-4dd3-80d7-2fb748b0da9a"
    }
   },
   "outputs": [
    {
     "name": "stdout",
     "output_type": "stream",
     "text": [
      "I infer the time axis from:\n",
      "../data/tseries.xml\n"
     ]
    }
   ],
   "source": [
    "# grab time axis from the xml file\n",
    "\n",
    "import xml.etree.ElementTree as ET\n",
    "xmlfile = os.path.join(data_folder, 'tseries.xml')\n",
    "print \"I infer the time axis from:\\n\", xmlfile\n",
    "tree = ET.parse(xmlfile)\n",
    "root = tree.getroot()\n",
    "\n",
    "# unfortunately we miss the first frame\n",
    "time_ax = np.r_[[child.attrib['absoluteTime']\n",
    "                 for child in root.iter('Frame')]].astype(float)"
   ]
  },
  {
   "cell_type": "code",
   "execution_count": 11,
   "metadata": {
    "collapsed": false,
    "nbpresent": {
     "id": "6cf4b2d7-e46e-4b15-bfea-94464e4b4428"
    }
   },
   "outputs": [],
   "source": [
    "# sync times\n",
    "start_2p = ut.parse_behavior(behavior, 'BEGIN')[0]\n",
    "behavior = [[float(b[0])-start_2p, b[1]] for b in behavior]\n",
    "time_ax -= time_ax[0]"
   ]
  },
  {
   "cell_type": "code",
   "execution_count": 12,
   "metadata": {
    "collapsed": true
   },
   "outputs": [],
   "source": [
    "# fix behavior event names\n",
    "behavior = [[b[0], 'TONE_RW' if b[1]=='TONE_PR' else b[1]] for b in behavior]\n",
    "behavior = [[b[0], 'REWARD' if b[1]=='PRE-REWARD' else b[1]] for b in behavior]"
   ]
  },
  {
   "cell_type": "code",
   "execution_count": 13,
   "metadata": {
    "collapsed": false
   },
   "outputs": [],
   "source": [
    "# and centered around tone onset\n",
    "CYCLE_START = -5  # seconds\n",
    "CS_DURATION = 2  # seconds\n",
    "DELAY = 2  # seconds\n",
    "AFTER_DELAY_DURATION = 4  # seconds\n",
    "US_START = 4\n",
    "CYCLE_DURATION = abs(CYCLE_START) + CS_DURATION + DELAY + AFTER_DELAY_DURATION\n",
    "\n",
    "cycles_starts = ut.parse_behavior(behavior, '^TONE_*', offset=CYCLE_START) #looks for arduino line that begins w/ either 'R' or 'S'\n",
    "cycles_ends = ut.parse_behavior(behavior, '^TONE_*', offset=CYCLE_DURATION+CYCLE_START)\n",
    "\n",
    "cycle_subtract = 0   #do we need to subtract off the last cycle because it's too short???\n",
    "if cycle_subtract !=0:\n",
    "    cycles = np.r_[zip(cycles_starts,  # offset will be ADDED, with sign\n",
    "                   cycles_ends)][:cycle_subtract]\n",
    "else:\n",
    "    cycles = np.r_[zip(cycles_starts,  # offset will be ADDED, with sign\n",
    "                   cycles_ends)]"
   ]
  },
  {
   "cell_type": "code",
   "execution_count": 14,
   "metadata": {
    "collapsed": false
   },
   "outputs": [
    {
     "data": {
      "text/plain": [
       "<matplotlib.legend.Legend at 0x7fb234e7bd90>"
      ]
     },
     "execution_count": 14,
     "metadata": {},
     "output_type": "execute_result"
    },
    {
     "data": {
      "image/png": "[encoded data removed]",
      "text/plain": [
       "<matplotlib.figure.Figure at 0x7fb234e4bfd0>"
      ]
     },
     "metadata": {},
     "output_type": "display_data"
    }
   ],
   "source": [
    "ITIs = np.r_[[sn-ep for ep, sn in zip(cycles_ends, cycles_starts[1:])]]-6\n",
    "\n",
    "delta_ts = np.diff(time_ax)\n",
    "pl.hist(delta_ts[delta_ts>0.5], histtype='step', bins=np.linspace(0, 7, 50), color='0.7', lw=0.5);\n",
    "pl.xlabel('Time (s)')\n",
    "# pl.vlines(ITIs, 0, 6, 'r', lw=0.5)\n",
    "# pl.hist(ITIs[ITIs>0.5], histtype='step', bins=50, color='r', lw=0.5);\n",
    "pl.hist(ITIs[ITIs>0.5], histtype='step', bins=np.linspace(0, 7, 50), color='r', lw=0.5);\n",
    "pl.legend(['XML', 'Arduino cycle_end->cycle_start'], loc=(1.1, 0))"
   ]
  },
  {
   "cell_type": "code",
   "execution_count": 15,
   "metadata": {
    "collapsed": false
   },
   "outputs": [],
   "source": [
    "cycle_starts_from_xml = np.r_[0, time_ax[np.where(np.diff(time_ax)>0.5)[0]+1]]\n",
    "cycle_starts_from_ard = cycles[:, 0]"
   ]
  },
  {
   "cell_type": "code",
   "execution_count": 16,
   "metadata": {
    "collapsed": false
   },
   "outputs": [
    {
     "data": {
      "text/plain": [
       "(0, 200)"
      ]
     },
     "execution_count": 16,
     "metadata": {},
     "output_type": "execute_result"
    },
    {
     "data": {
      "image/png": "[encoded data removed]",
      "text/plain": [
       "<matplotlib.figure.Figure at 0x7fb231a07a10>"
      ]
     },
     "metadata": {},
     "output_type": "display_data"
    }
   ],
   "source": [
    "pl.vlines(cycle_starts_from_xml, 0, 1, color='0.7')\n",
    "pl.vlines(cycle_starts_from_ard, 1, 2, color='r')\n",
    "pl.xlim(0, 200)"
   ]
  },
  {
   "cell_type": "code",
   "execution_count": null,
   "metadata": {
    "collapsed": true
   },
   "outputs": [],
   "source": []
  }
 ],
 "metadata": {
  "anaconda-cloud": {},
  "kernelspec": {
   "display_name": "Python [default]",
   "language": "python",
   "name": "python2"
  },
  "language_info": {
   "codemirror_mode": {
    "name": "ipython",
    "version": 2
   },
   "file_extension": ".py",
   "mimetype": "text/x-python",
   "name": "python",
   "nbconvert_exporter": "python",
   "pygments_lexer": "ipython2",
   "version": "2.7.12"
  },
  "nbpresent": {
   "slides": {
    "00e955d4-b8ba-4b17-81e5-43baedeb2361": {
     "id": "00e955d4-b8ba-4b17-81e5-43baedeb2361",
     "prev": "1bca8a3a-3553-4f3b-9bcb-ffd3d0057af1",
     "regions": {
      "85a060cd-1199-4c38-9bc8-f4f3040a61a5": {
       "attrs": {
        "height": 0.8,
        "width": 0.8,
        "x": 0.1,
        "y": 0.1
       },
       "content": {
        "cell": "19c9550d-fb20-4dd3-80d7-2fb748b0da9a",
        "part": "whole"
       },
       "id": "85a060cd-1199-4c38-9bc8-f4f3040a61a5"
      }
     }
    },
    "0b089aaa-c13e-40f6-9390-889c23e76e1c": {
     "id": "0b089aaa-c13e-40f6-9390-889c23e76e1c",
     "prev": "0cd10ea8-a9b5-4bca-826c-653df69eebd2",
     "regions": {
      "e0d9e8a7-a535-4e4c-afae-99248d6a8a34": {
       "attrs": {
        "height": 0.8,
        "width": 0.8,
        "x": 0.1,
        "y": 0.1
       },
       "content": {
        "cell": "d785ca23-adb2-4e52-8447-0da8168f8fac",
        "part": "whole"
       },
       "id": "e0d9e8a7-a535-4e4c-afae-99248d6a8a34"
      }
     }
    },
    "0cd10ea8-a9b5-4bca-826c-653df69eebd2": {
     "id": "0cd10ea8-a9b5-4bca-826c-653df69eebd2",
     "prev": "9fd1b104-1a97-44b4-87da-ff358c64f526",
     "regions": {
      "982be569-5775-4937-89fc-1e0dd61a5230": {
       "attrs": {
        "height": 0.8,
        "width": 0.8,
        "x": 0.1,
        "y": 0.1
       },
       "content": {
        "cell": "0d7f97ee-8316-4400-8bba-3d178636322d",
        "part": "whole"
       },
       "id": "982be569-5775-4937-89fc-1e0dd61a5230"
      }
     }
    },
    "104d75da-c8fb-4574-b071-c9f2e2cd236d": {
     "id": "104d75da-c8fb-4574-b071-c9f2e2cd236d",
     "prev": "5b312478-b1d7-4eb7-85a4-ee46fe02f3e5",
     "regions": {
      "31d13de7-e0fe-4a8c-a05c-db59aa25d3fe": {
       "attrs": {
        "height": 0.8,
        "width": 0.8,
        "x": 0.1,
        "y": 0.1
       },
       "content": {
        "cell": "5168996d-fed8-4cd0-ad6e-527fab332096",
        "part": "whole"
       },
       "id": "31d13de7-e0fe-4a8c-a05c-db59aa25d3fe"
      }
     }
    },
    "1bca8a3a-3553-4f3b-9bcb-ffd3d0057af1": {
     "id": "1bca8a3a-3553-4f3b-9bcb-ffd3d0057af1",
     "prev": "f6e7a3a7-f945-42a5-8963-ddb902ca2cd0",
     "regions": {
      "77e78e71-eb7a-4b45-970b-034db8e052e1": {
       "attrs": {
        "height": 0.8,
        "width": 0.8,
        "x": 0.1,
        "y": 0.1
       },
       "content": {
        "cell": "23571208-3ac5-4945-ac54-56ae02dc4a1a",
        "part": "whole"
       },
       "id": "77e78e71-eb7a-4b45-970b-034db8e052e1"
      }
     }
    },
    "328f8b6b-1856-461e-a1ed-7cda44f73dcd": {
     "id": "328f8b6b-1856-461e-a1ed-7cda44f73dcd",
     "prev": "104d75da-c8fb-4574-b071-c9f2e2cd236d",
     "regions": {
      "555dd9dc-407d-44ce-b7f4-f1a263b23951": {
       "attrs": {
        "height": 0.8,
        "width": 0.8,
        "x": 0.1,
        "y": 0.1
       },
       "content": {
        "cell": "06d0740a-c08c-4c9b-bd8f-617babbe455f",
        "part": "whole"
       },
       "id": "555dd9dc-407d-44ce-b7f4-f1a263b23951"
      }
     }
    },
    "399cdb35-276c-4181-bff5-67fe6e8f3f3b": {
     "id": "399cdb35-276c-4181-bff5-67fe6e8f3f3b",
     "prev": "0b089aaa-c13e-40f6-9390-889c23e76e1c",
     "regions": {
      "3795fd7e-4706-422a-8c0c-fd96fff0fce4": {
       "attrs": {
        "height": 0.8,
        "width": 0.8,
        "x": 0.1,
        "y": 0.1
       },
       "content": {
        "cell": "5b80fb7a-8b6b-4aa9-917d-a0c85fef22ad",
        "part": "whole"
       },
       "id": "3795fd7e-4706-422a-8c0c-fd96fff0fce4"
      }
     }
    },
    "3a56a3af-a4aa-43a2-94b0-d7f4172381e7": {
     "id": "3a56a3af-a4aa-43a2-94b0-d7f4172381e7",
     "prev": "00e955d4-b8ba-4b17-81e5-43baedeb2361",
     "regions": {
      "ce36f531-ea23-4ae4-a5de-a9f849648400": {
       "attrs": {
        "height": 0.8,
        "width": 0.8,
        "x": 0.1,
        "y": 0.1
       },
       "content": {
        "cell": "6cf4b2d7-e46e-4b15-bfea-94464e4b4428",
        "part": "whole"
       },
       "id": "ce36f531-ea23-4ae4-a5de-a9f849648400"
      }
     }
    },
    "41750996-7fc7-4ad2-af37-fce34c94e645": {
     "id": "41750996-7fc7-4ad2-af37-fce34c94e645",
     "prev": "e7e9b24b-a2f0-4034-ac91-afe56c2b4793",
     "regions": {
      "ebac1fbc-c10a-48ce-a6e3-23fc9887befe": {
       "attrs": {
        "height": 0.8,
        "width": 0.8,
        "x": 0.1,
        "y": 0.1
       },
       "content": {
        "cell": "d1667834-b8c5-483c-9a93-52b661269d10",
        "part": "whole"
       },
       "id": "ebac1fbc-c10a-48ce-a6e3-23fc9887befe"
      }
     }
    },
    "4e11b5d1-0277-4573-ad0c-0f69ec981885": {
     "id": "4e11b5d1-0277-4573-ad0c-0f69ec981885",
     "prev": "328f8b6b-1856-461e-a1ed-7cda44f73dcd",
     "regions": {
      "b8466f2d-1ff0-4b19-bc74-f1938e7d07d6": {
       "attrs": {
        "height": 0.8,
        "width": 0.8,
        "x": 0.1,
        "y": 0.1
       },
       "content": {
        "cell": "2089f799-2028-4b38-9493-69a65590eb83",
        "part": "whole"
       },
       "id": "b8466f2d-1ff0-4b19-bc74-f1938e7d07d6"
      }
     }
    },
    "5b312478-b1d7-4eb7-85a4-ee46fe02f3e5": {
     "id": "5b312478-b1d7-4eb7-85a4-ee46fe02f3e5",
     "prev": "399cdb35-276c-4181-bff5-67fe6e8f3f3b",
     "regions": {
      "9b353fac-e545-47c0-9474-da02e6aaf3dc": {
       "attrs": {
        "height": 0.8,
        "width": 0.8,
        "x": 0.1,
        "y": 0.1
       },
       "content": {
        "cell": "0ada281f-fce3-475b-94f7-fa33e94c6295",
        "part": "whole"
       },
       "id": "9b353fac-e545-47c0-9474-da02e6aaf3dc"
      }
     }
    },
    "709b17cd-e8bf-47bf-ace9-ed44268de90e": {
     "id": "709b17cd-e8bf-47bf-ace9-ed44268de90e",
     "prev": null,
     "regions": {
      "99a98bbc-232d-4872-badf-9323d935d6a2": {
       "attrs": {
        "height": 0.8,
        "width": 0.8,
        "x": 0.1,
        "y": 0.1
       },
       "content": {
        "cell": "35e69eaa-c300-457b-b392-5dab8232a04e",
        "part": "whole"
       },
       "id": "99a98bbc-232d-4872-badf-9323d935d6a2"
      }
     }
    },
    "74197d98-8b9d-402d-bc46-6816d6778dbc": {
     "id": "74197d98-8b9d-402d-bc46-6816d6778dbc",
     "prev": "709b17cd-e8bf-47bf-ace9-ed44268de90e",
     "regions": {
      "581ec6c5-d0ec-4c43-bd69-ba1312313f98": {
       "attrs": {
        "height": 0.8,
        "width": 0.8,
        "x": 0.1,
        "y": 0.1
       },
       "content": {
        "cell": "1ecc8373-9119-4667-83f9-f5bc9201bb45",
        "part": "whole"
       },
       "id": "581ec6c5-d0ec-4c43-bd69-ba1312313f98"
      }
     }
    },
    "9fd1b104-1a97-44b4-87da-ff358c64f526": {
     "id": "9fd1b104-1a97-44b4-87da-ff358c64f526",
     "prev": "3a56a3af-a4aa-43a2-94b0-d7f4172381e7",
     "regions": {
      "78cb5cff-5b2e-4845-85ba-7f1a9575f5d3": {
       "attrs": {
        "height": 0.8,
        "width": 0.8,
        "x": 0.1,
        "y": 0.1
       },
       "content": {
        "cell": "c4822fc1-95f9-4314-a250-4753d0aeafcd",
        "part": "whole"
       },
       "id": "78cb5cff-5b2e-4845-85ba-7f1a9575f5d3"
      }
     }
    },
    "da9e9710-630c-4220-ba83-1836bc985052": {
     "id": "da9e9710-630c-4220-ba83-1836bc985052",
     "prev": "41750996-7fc7-4ad2-af37-fce34c94e645",
     "regions": {
      "8bf1b138-d68f-438c-801d-13ac9c814034": {
       "attrs": {
        "height": 0.8,
        "width": 0.8,
        "x": 0.1,
        "y": 0.1
       },
       "content": {
        "cell": "5d65f7bf-9758-4cd0-bae3-1e4bde68c823",
        "part": "whole"
       },
       "id": "8bf1b138-d68f-438c-801d-13ac9c814034"
      }
     }
    },
    "e7e9b24b-a2f0-4034-ac91-afe56c2b4793": {
     "id": "e7e9b24b-a2f0-4034-ac91-afe56c2b4793",
     "prev": "74197d98-8b9d-402d-bc46-6816d6778dbc",
     "regions": {
      "fe00a816-d5bd-4899-8835-72a6d42ad575": {
       "attrs": {
        "height": 0.8,
        "width": 0.8,
        "x": 0.1,
        "y": 0.1
       },
       "content": {
        "cell": "067b03ca-045a-473b-a84a-e28c04b89c5e",
        "part": "whole"
       },
       "id": "fe00a816-d5bd-4899-8835-72a6d42ad575"
      }
     }
    },
    "f6e7a3a7-f945-42a5-8963-ddb902ca2cd0": {
     "id": "f6e7a3a7-f945-42a5-8963-ddb902ca2cd0",
     "prev": "da9e9710-630c-4220-ba83-1836bc985052",
     "regions": {
      "93075a4f-0072-4076-b989-3cd5ac2c669d": {
       "attrs": {
        "height": 0.8,
        "width": 0.8,
        "x": 0.1,
        "y": 0.1
       },
       "content": {
        "cell": "352934cb-6888-4106-b917-44360d0e2884",
        "part": "whole"
       },
       "id": "93075a4f-0072-4076-b989-3cd5ac2c669d"
      }
     }
    }
   },
   "themes": {}
  }
 },
 "nbformat": 4,
 "nbformat_minor": 2
}
