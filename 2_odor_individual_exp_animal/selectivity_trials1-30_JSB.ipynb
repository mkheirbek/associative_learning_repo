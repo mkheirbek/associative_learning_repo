{
 "cells": [
  {
   "cell_type": "code",
   "execution_count": 1,
   "metadata": {
    "collapsed": false
   },
   "outputs": [
    {
     "data": {
      "text/html": [
       "<script>jQuery(function() {if (jQuery(\"body.notebook_app\").length == 0) { jQuery(\".input_area\").toggle(); jQuery(\".prompt\").toggle();}});</script>"
      ]
     },
     "metadata": {},
     "output_type": "display_data"
    },
    {
     "data": {
      "text/html": [
       "<button onclick=\"jQuery('.input_area').toggle(); jQuery('.prompt').toggle();\">Toggle code</button>"
      ]
     },
     "metadata": {},
     "output_type": "display_data"
    }
   ],
   "source": [
    "from IPython.display import display\n",
    "from IPython.display import HTML\n",
    "import IPython.core.display as di # Example: di.display_html('<h3>%s:</h3>' % str, raw=True)\n",
    "\n",
    "# This line will hide code by default when the notebook is exported as HTML\n",
    "di.display_html('<script>jQuery(function() {if (jQuery(\"body.notebook_app\").length == 0) { jQuery(\".input_area\").toggle(); jQuery(\".prompt\").toggle();}});</script>', raw=True)\n",
    "\n",
    "# This line will add a button to toggle visibility of code blocks, for use with the HTML export version\n",
    "di.display_html('''<button onclick=\"jQuery('.input_area').toggle(); jQuery('.prompt').toggle();\">Toggle code</button>''', raw=True)\n"
   ]
  },
  {
   "cell_type": "code",
   "execution_count": 2,
   "metadata": {
    "collapsed": true
   },
   "outputs": [],
   "source": [
    "# all modules necessary for this nb\n",
    "import os\n",
    "import sys\n",
    "import pickle\n",
    "\n",
    "import numpy as np\n",
    "import pylab as pl\n",
    "\n",
    "# setting parameters for default matplotlib plots\n",
    "%matplotlib inline"
   ]
  },
  {
   "cell_type": "code",
   "execution_count": 3,
   "metadata": {
    "collapsed": true
   },
   "outputs": [],
   "source": [
    "pl.style.use('fabiostyle')\n",
    "\n",
    "# needs to find the library of functions\n",
    "sys.path.append('../../../../code/')  # to be replaced!\n",
    "\n",
    "import utils as ut\n",
    "import plots as pt"
   ]
  },
  {
   "cell_type": "code",
   "execution_count": 4,
   "metadata": {
    "collapsed": false
   },
   "outputs": [],
   "source": [
    "# %%javascript\n",
    "# var nb = IPython.notebook;\n",
    "# var kernel = IPython.notebook.kernel;\n",
    "# var command = \"NOTEBOOK_NAME = '\" + nb.base_url + nb.notebook_path + \"'\";\n",
    "# kernel.execute(command);"
   ]
  },
  {
   "cell_type": "code",
   "execution_count": 5,
   "metadata": {
    "collapsed": true
   },
   "outputs": [],
   "source": [
    "# NOTEBOOK_NAME = NOTEBOOK_NAME.split('/')[-1][:-6]\n",
    "NOTEBOOK_NAME = 'selectivity_trials1-30_JSB'"
   ]
  },
  {
   "cell_type": "code",
   "execution_count": 6,
   "metadata": {
    "collapsed": false
   },
   "outputs": [],
   "source": [
    "from pickleshare import PickleShareDB\n",
    "\n",
    "autorestore_folder = os.path.join(os.getcwd(), 'autorestore', NOTEBOOK_NAME)\n",
    "db = PickleShareDB(autorestore_folder)\n",
    "import sys\n",
    "from workspace import *\n",
    "import IPython\n",
    "ip = IPython.get_ipython()\n",
    "\n",
    "# this will restore all the saved variables. ignore the errors listed.\n",
    "#load_workspace(ip, db)\n",
    "\n",
    "# use `save_worspace(db)` to save variables at the end"
   ]
  },
  {
   "cell_type": "code",
   "execution_count": 7,
   "metadata": {
    "collapsed": false
   },
   "outputs": [],
   "source": [
    "folder = './autorestore/preprocessing'\n",
    "for var in ('time_ax', 'traces', 'events', 'areas', 'cycles', 'licks', 'rewards',\n",
    "            'is_rewardt', 'is_CSmt', 'is_rewarded', 'CYCLE_START', 'CS_DURATION', 'DELAY'): \n",
    "    exec('%s = ut.load_variable(\\'%s\\', folder=\\'%s\\')'%(var, var, folder))\n",
    "    \n",
    "folder = './autorestore/lambo'\n",
    "for var in ('reward_times', 'is_rewarded'): \n",
    "    exec('%s = ut.load_variable(\\'%s\\', folder=\\'%s\\')'%(var, var, folder))"
   ]
  },
  {
   "cell_type": "code",
   "execution_count": 8,
   "metadata": {
    "collapsed": false
   },
   "outputs": [],
   "source": [
    "is_CSmt_first15 = []\n",
    "for x in is_CSmt:\n",
    "    if sum(is_CSmt_first15) < 15:\n",
    "        is_CSmt_first15.append(x)\n",
    "    else:\n",
    "        is_CSmt_first15.append(False)\n",
    "\n",
    "is_rewardt_first15 = []\n",
    "for x in is_rewardt:\n",
    "    if sum(is_rewardt_first15) < 15:\n",
    "        is_rewardt_first15.append(x)\n",
    "    else:\n",
    "        is_rewardt_first15.append(False)"
   ]
  },
  {
   "cell_type": "code",
   "execution_count": 9,
   "metadata": {
    "collapsed": false
   },
   "outputs": [
    {
     "name": "stdout",
     "output_type": "stream",
     "text": [
      "[True, False, False, False, True, True, True, False, True, True, False, True, False, True, False, True, False, True, False, True, False, False, True, True, False, True, False, True, False, False, False, False, False, False, False, False, False, False, False, False, False, False, False, False, False, False, False, False, False, False, False, False, False, False, False, False, False, False, False, False, False, False, False, False, False, False, False, False, False, False, False, False, False, False, False, False, False, False, False, False, False, False, False, False, False, False, False, False, False, False, False, False, False, False, False, False, False, False, False, False, False, False, False, False, False, False, False, False, False, False, False, False, False, False, False, False, False, False, False, False]\n",
      "[False, True, True, True, False, False, False, True, False, False, True, False, True, False, True, False, True, False, True, False, True, True, False, False, True, False, True, False, True, True, False, False, False, False, False, False, False, False, False, False, False, False, False, False, False, False, False, False, False, False, False, False, False, False, False, False, False, False, False, False, False, False, False, False, False, False, False, False, False, False, False, False, False, False, False, False, False, False, False, False, False, False, False, False, False, False, False, False, False, False, False, False, False, False, False, False, False, False, False, False, False, False, False, False, False, False, False, False, False, False, False, False, False, False, False, False, False, False, False, False]\n"
     ]
    }
   ],
   "source": [
    "print is_CSmt_first15\n",
    "print is_rewardt_first15"
   ]
  },
  {
   "cell_type": "code",
   "execution_count": 10,
   "metadata": {
    "collapsed": true
   },
   "outputs": [],
   "source": [
    "def update_selectivity(selectivity, trial_types, between_what, and_what, append='', append_trial='t'):\n",
    "\n",
    "    for t in trial_types:\n",
    "\n",
    "        # this one selects which trials to consider\n",
    "        which_cycles = eval('is_%s_first15'%(t+append_trial))\n",
    "#         print sum(which_cycles)\n",
    "\n",
    "        if not np.any(which_cycles):\n",
    "            continue\n",
    "        \n",
    "        selectivity[t+append] = ut.compute_selectivity(time_ax, events, cycles[which_cycles],\n",
    "                                                       between_what, and_what)"
   ]
  },
  {
   "cell_type": "code",
   "execution_count": 11,
   "metadata": {
    "collapsed": false
   },
   "outputs": [],
   "source": [
    "cs_timeframe = (-CYCLE_START, CS_DURATION-CYCLE_START)\n",
    "tr_timeframe = (-CYCLE_START+CS_DURATION, -CYCLE_START+CS_DURATION+DELAY)\n",
    "cs_tr_timeframe = (-CYCLE_START, CS_DURATION-CYCLE_START+DELAY)\n",
    "us_timeframe = (CS_DURATION-CYCLE_START+DELAY, CS_DURATION-CYCLE_START+DELAY+2)\n",
    "prebaseline_timeframe = (-CYCLE_START-4, -CYCLE_START-2)\n",
    "baseline_timeframe = (-CYCLE_START-2, -CYCLE_START)\n",
    "baseline_cstr_timeframe = (-CYCLE_START-4, -CYCLE_START)\n",
    "selectivity = {}\n",
    "\n",
    "update_selectivity(selectivity, ['CSmt', 'rewardt'], cs_timeframe, baseline_timeframe, '', append_trial='')\n",
    "update_selectivity(selectivity, ['CSmt', 'rewardt'], tr_timeframe, baseline_timeframe, '_tr', append_trial='')\n",
    "update_selectivity(selectivity, ['CSmt', 'rewardt'], cs_tr_timeframe, baseline_cstr_timeframe, '_cstr', append_trial='')\n",
    "update_selectivity(selectivity, ['CSmt', 'rewardt'], us_timeframe, baseline_timeframe, '_us', append_trial='')\n",
    "update_selectivity(selectivity, ['CSmt', 'rewardt'], prebaseline_timeframe, baseline_timeframe, '_prebs', append_trial='')\n",
    "\n",
    "times = reward_times[is_rewarded]\n",
    "us_timeframe_licks = np.c_[us_timeframe[0]+times, us_timeframe[0]+times+2]\n",
    "selectivity['rewardt_licks'] = ut.compute_selectivity(time_ax, events, cycles[is_rewardt][is_rewarded],\n",
    "                                               us_timeframe_licks, baseline_timeframe)"
   ]
  },
  {
   "cell_type": "code",
   "execution_count": 12,
   "metadata": {
    "collapsed": false
   },
   "outputs": [
    {
     "data": {
      "text/plain": [
       "['CSmt_prebs',\n",
       " 'rewardt_licks',\n",
       " 'rewardt',\n",
       " 'CSmt_cstr',\n",
       " 'CSmt_tr',\n",
       " 'rewardt_cstr',\n",
       " 'CSmt_us',\n",
       " 'rewardt_prebs',\n",
       " 'CSmt',\n",
       " 'rewardt_tr',\n",
       " 'rewardt_us']"
      ]
     },
     "execution_count": 12,
     "metadata": {},
     "output_type": "execute_result"
    }
   ],
   "source": [
    "selectivity.keys()"
   ]
  },
  {
   "cell_type": "code",
   "execution_count": 13,
   "metadata": {
    "collapsed": false
   },
   "outputs": [
    {
     "name": "stdout",
     "output_type": "stream",
     "text": [
      "CSmt 0.0754716981132\n",
      "CSmt_cstr 0.0943396226415\n",
      "CSmt_prebs 0.0943396226415\n",
      "CSmt_tr 0.0943396226415\n",
      "CSmt_us 0.0188679245283\n",
      "rewardt 0.11320754717\n",
      "rewardt_cstr 0.207547169811\n",
      "rewardt_licks 0.150943396226\n",
      "rewardt_prebs 0.0943396226415\n",
      "rewardt_tr 0.132075471698\n",
      "rewardt_us 0.0754716981132\n"
     ]
    }
   ],
   "source": [
    "significance = 0.05\n",
    "\n",
    "for t in np.sort(selectivity.keys()):\n",
    "    print t, np.mean([s[1]<significance for s in selectivity[t][:, 0]])"
   ]
  },
  {
   "cell_type": "code",
   "execution_count": 14,
   "metadata": {
    "collapsed": false
   },
   "outputs": [
    {
     "name": "stdout",
     "output_type": "stream",
     "text": [
      "CSmt 0.0188679245283\n",
      "CSmt_cstr 0.0\n",
      "CSmt_prebs 0.0\n",
      "CSmt_tr 0.0\n",
      "CSmt_us 0.0\n",
      "rewardt 0.0\n",
      "rewardt_cstr 0.0\n",
      "rewardt_licks 0.0188679245283\n",
      "rewardt_prebs 0.0\n",
      "rewardt_tr 0.0\n",
      "rewardt_us 0.0\n"
     ]
    }
   ],
   "source": [
    "significance = 0.05\n",
    "\n",
    "for t in np.sort(selectivity.keys()):\n",
    "    print t, np.mean(ut.adjust_pvalues([s[1] for s in selectivity[t][:, 0]])<significance)"
   ]
  },
  {
   "cell_type": "code",
   "execution_count": 15,
   "metadata": {
    "collapsed": false
   },
   "outputs": [
    {
     "data": {
      "text/plain": [
       "(0, 100)"
      ]
     },
     "execution_count": 15,
     "metadata": {},
     "output_type": "execute_result"
    },
    {
     "data": {
      "image/png": "[encoded data removed]",
      "text/plain": [
       "<matplotlib.figure.Figure at 0x7f62680a0210>"
      ]
     },
     "metadata": {},
     "output_type": "display_data"
    }
   ],
   "source": [
    "significance = 0.05\n",
    "\n",
    "fig, ax = pl.subplots(1, 1, figsize=(2, 1.5))\n",
    "values = [np.mean(ut.adjust_pvalues([s[1] for s in selectivity[t][:, 0]])<significance)*100\n",
    "          for t in np.sort(selectivity.keys())]\n",
    "pt.plot_bars(values, ax=ax)\n",
    "ax.set_xticks(range(len(selectivity)))\n",
    "ax.set_xticklabels(np.sort(selectivity.keys()), rotation=45)\n",
    "pt.nicer_plot(ax)\n",
    "ax.set_ylabel('Proportion of Selective cells %')\n",
    "ax.set_ylim(0, 100)"
   ]
  },
  {
   "cell_type": "code",
   "execution_count": 16,
   "metadata": {
    "collapsed": false
   },
   "outputs": [
    {
     "name": "stdout",
     "output_type": "stream",
     "text": [
      "Could not store variable 'IPython'. Skipping...\n",
      "Could not store variable 'pt'. Skipping...\n",
      "Could not store variable 'pl'. Skipping...\n",
      "Could not store variable 'di'. Skipping...\n",
      "Could not store variable 'np'. Skipping...\n",
      "Could not store variable 'ut'. Skipping...\n",
      "Could not store variable 'ip'. Skipping...\n",
      "Could not store variable 'sys'. Skipping...\n",
      "Could not store variable 'pickle'. Skipping...\n",
      "Could not store variable 'os'. Skipping...\n"
     ]
    }
   ],
   "source": [
    "save_workspace(db)"
   ]
  },
  {
   "cell_type": "code",
   "execution_count": 17,
   "metadata": {
    "collapsed": true
   },
   "outputs": [],
   "source": []
  }
 ],
 "metadata": {
  "anaconda-cloud": {},
  "kernelspec": {
   "display_name": "Python [default]",
   "language": "python",
   "name": "python2"
  },
  "language_info": {
   "codemirror_mode": {
    "name": "ipython",
    "version": 2
   },
   "file_extension": ".py",
   "mimetype": "text/x-python",
   "name": "python",
   "nbconvert_exporter": "python",
   "pygments_lexer": "ipython2",
   "version": "2.7.12"
  }
 },
 "nbformat": 4,
 "nbformat_minor": 2
}
