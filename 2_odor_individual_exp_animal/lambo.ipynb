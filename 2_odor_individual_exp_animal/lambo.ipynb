{
 "cells": [
  {
   "cell_type": "code",
   "execution_count": 1,
   "metadata": {
    "collapsed": true
   },
   "outputs": [],
   "source": [
    "import os\n",
    "import sys\n",
    "\n",
    "import numpy as np\n",
    "import pylab as pl\n",
    "\n",
    "%matplotlib inline"
   ]
  },
  {
   "cell_type": "code",
   "execution_count": 2,
   "metadata": {
    "collapsed": true
   },
   "outputs": [],
   "source": [
    "pl.style.use('fabiostyle')\n",
    "\n",
    "# import pandas\n",
    "\n",
    "sys.path.append('../../../../code/')  # to be replaced!\n",
    "import utils as ut\n",
    "import plots as pt"
   ]
  },
  {
   "cell_type": "code",
   "execution_count": 3,
   "metadata": {
    "collapsed": true
   },
   "outputs": [],
   "source": [
    "NOTEBOOK_NAME = 'lambo'"
   ]
  },
  {
   "cell_type": "code",
   "execution_count": 4,
   "metadata": {
    "collapsed": false
   },
   "outputs": [],
   "source": [
    "from pickleshare import PickleShareDB\n",
    "\n",
    "autorestore_folder = os.path.join(os.getcwd(), 'autorestore', NOTEBOOK_NAME)\n",
    "db = PickleShareDB(autorestore_folder)\n",
    "import sys\n",
    "from workspace import *\n",
    "import IPython\n",
    "ip = IPython.get_ipython()\n",
    "\n",
    "# this will restore all the saved variables. ignore the errors listed.\n",
    "# load_workspace(ip, db)\n",
    "\n",
    "# use `save_worspace(db)` to save variables at the end"
   ]
  },
  {
   "cell_type": "code",
   "execution_count": 5,
   "metadata": {
    "collapsed": false
   },
   "outputs": [],
   "source": [
    "folder = './autorestore/preprocessing'\n",
    "for var in ('time_ax', 'traces', 'events', 'areas', 'cycles', 'licks', 'odor_CSm_ons', 'odor_rw_ons', 'rewards',\n",
    "            'is_rewardt', 'is_CSmt', 'CYCLE_DURATION', 'CYCLE_START', 'CS_DURATION', 'DELAY', 'AFTER_DELAY_DURATION'): \n",
    "    exec('%s = ut.load_variable(\\'%s\\', folder=\\'%s\\')'%(var, var, folder))"
   ]
  },
  {
   "cell_type": "code",
   "execution_count": 6,
   "metadata": {
    "collapsed": false
   },
   "outputs": [
    {
     "data": {
      "text/plain": [
       "-5"
      ]
     },
     "execution_count": 6,
     "metadata": {},
     "output_type": "execute_result"
    }
   ],
   "source": [
    "CYCLE_START"
   ]
  },
  {
   "cell_type": "code",
   "execution_count": 7,
   "metadata": {
    "collapsed": false
   },
   "outputs": [
    {
     "name": "stdout",
     "output_type": "stream",
     "text": [
      "1\n",
      "41\n",
      "[ 0.  0.  0.  0.  4.  0.  0.  0.  0.  0.  0.  0.  0.  0.  0.  0.  0.  0.\n",
      "  0.  0.  0.  1.  3.  0.  0.  0.  0.  0.  3.  1.  0.  0.  0.  1.  0.  0.\n",
      "  0.  0.  0.  0.  2.  0.  0.  1.  0.  2.  0.  2.  0.  0.  0.  1.  0.  0.\n",
      "  0.  0.  0.  1.  0.  1.  1.  0.  0.  1.  0.  0.  0.  0.  0.  0.  0.  0.\n",
      "  3.  0.  0.  1.  0.  0.  0.  0.  1.  0.  0.  2.  0.  0.  0.  0.  0.  0.\n",
      "  0.  0.  0.  0.  3.  0.  0.  0.  0.  0.  0.  0.  0.  0.  0.  0.  0.  0.\n",
      "  0.  1.  0.  0.  0.  0.  5.  1.  0.  0.  2.  0.]\n"
     ]
    },
    {
     "name": "stderr",
     "output_type": "stream",
     "text": [
      "/home/fabios/anaconda2/lib/python2.7/site-packages/ipykernel/__main__.py:21: RuntimeWarning: invalid value encountered in divide\n"
     ]
    }
   ],
   "source": [
    "## in preprocessing odor_ass\n",
    "licks_bs = 1.*ut.compute_licks_during(licks, cycles,\n",
    "                                      start=-CYCLE_START-DELAY,\n",
    "                                      end=-CYCLE_START)  # w.r.t. cycle start\n",
    "licks_cs = 1.*ut.compute_licks_during(licks, cycles,\n",
    "                                      start=-CYCLE_START,\n",
    "                                      end=-CYCLE_START+CS_DURATION)\n",
    "licks_tc = 1.*ut.compute_licks_during(licks, cycles,\n",
    "                                      start=-CYCLE_START+CS_DURATION,\n",
    "                                         end=-CYCLE_START+CS_DURATION+DELAY)\n",
    "licks_cs_tc = 1.*ut.compute_licks_during(licks, cycles,\n",
    "                                         start=-CYCLE_START,\n",
    "                                         end=-CYCLE_START+CS_DURATION+DELAY)\n",
    "licks_tc_us = 1.*ut.compute_licks_during(licks, cycles,\n",
    "                                         start=-CYCLE_START+CS_DURATION,\n",
    "                                         end=-CYCLE_START+CS_DURATION+DELAY+AFTER_DELAY_DURATION)\n",
    "licks_cs_tc_us = 1.*ut.compute_licks_during(licks, cycles,\n",
    "                                      start=-CYCLE_START,\n",
    "                                      end=-CYCLE_START+CS_DURATION+DELAY+AFTER_DELAY_DURATION)\n",
    "lickrates_bs = 1.*licks_bs/(DELAY+AFTER_DELAY_DURATION)\n",
    "lick_ratios = np.nan_to_num(1.*(licks_tc_us-licks_bs)/(licks_tc_us+licks_bs))\n",
    "lick_di = np.nan_to_num(1.*(np.mean(licks_tc[is_rewardt]-licks_bs[is_rewardt]) -\n",
    "                            np.mean(licks_tc[is_CSmt]-licks_bs[is_CSmt]))/np.sqrt(0.5*(np.std(licks_tc)**2+np.std(licks_bs)**2)))\n",
    "good_lick_trials = (licks_bs+licks_tc_us) >= 5\n",
    "\n",
    "is_errCSmt = (lick_ratios>0.8) * ((licks_tc_us+licks_bs) > 4) * is_CSmt\n",
    "print is_errCSmt.sum()\n",
    "\n",
    "is_corrCSmt = ((licks_tc_us)==0) * is_CSmt\n",
    "print is_corrCSmt.sum()\n",
    "print licks_bs"
   ]
  },
  {
   "cell_type": "code",
   "execution_count": 8,
   "metadata": {
    "collapsed": false
   },
   "outputs": [
    {
     "name": "stderr",
     "output_type": "stream",
     "text": [
      "/home/fabios/anaconda2/lib/python2.7/site-packages/ipykernel/__main__.py:8: RuntimeWarning: invalid value encountered in double_scalars\n"
     ]
    },
    {
     "name": "stdout",
     "output_type": "stream",
     "text": [
      "[ 0.         -1.          0.          0.          0.          0.          0.\n",
      "  0.          0.          0.         -1.          0.          0.          0.\n",
      "  0.          1.          0.          0.          0.          0.          1.\n",
      "  1.          1.          1.          1.          1.          0.         -1.\n",
      "  1.          0.          0.          0.          0.          0.          1.\n",
      "  0.         -1.          0.          0.          0.          0.          0.\n",
      "  0.          0.          0.          0.          0.          0.33333333\n",
      "  0.         -1.          0.         -1.          0.          0.          0.\n",
      "  0.          0.          0.          0.          0.        ]\n",
      "-0.230769230769\n",
      "0.666666666667\n",
      "-0.333333333333\n"
     ]
    },
    {
     "data": {
      "image/png": "[encoded data removed]",
      "text/plain": [
       "<matplotlib.figure.Figure at 0x7f2418103090>"
      ]
     },
     "metadata": {},
     "output_type": "display_data"
    }
   ],
   "source": [
    "#copied from woods_et_al lambo, diff def of lick_dis then below, includes all trials instead of only 104\n",
    "pseudorands = np.c_[np.where(is_CSmt)[0], np.where(is_rewardt)[0]]\n",
    "\n",
    "lick_dis = []\n",
    "for p in pseudorands:\n",
    "    a = (licks_tc[p[1]]) - np.mean((licks_tc[p[0]]))\n",
    "    b = (licks_tc[p[1]]) + np.mean((licks_tc[p[0]]))\n",
    "    lick_dis.append(a/b)\n",
    "            \n",
    "lick_dis = np.nan_to_num(lick_dis)\n",
    "\n",
    "def calc_di(licks_tc, pseudorands, odor1=1, odor2=0):\n",
    "    a = np.mean(((licks_tc[[p[odor1] for p in pseudorands]]) -\n",
    "         np.mean((licks_tc[[p[odor2] for p in pseudorands]]))))\n",
    "    b = np.mean(((licks_tc[[p[odor1] for p in pseudorands]]) +\n",
    "         np.mean((licks_tc[[p[odor2] for p in pseudorands]]))))\n",
    "    return a/b\n",
    "\n",
    "first_third = len(lick_dis)/3\n",
    "second_third = (len(lick_dis)/3)*2\n",
    "\n",
    "lick_dis_early = calc_di(licks_tc, pseudorands[:first_third])\n",
    "lick_dis_mid = calc_di(licks_tc, pseudorands[first_third:second_third])\n",
    "lick_dis_late = calc_di(licks_tc, pseudorands[-first_third:])\n",
    "\n",
    "pl.plot([lick_dis_early, lick_dis_mid, lick_dis_late])\n",
    "print lick_dis\n",
    "print lick_dis_early\n",
    "print lick_dis_mid\n",
    "print lick_dis_late\n"
   ]
  },
  {
   "cell_type": "code",
   "execution_count": 9,
   "metadata": {
    "collapsed": false
   },
   "outputs": [
    {
     "name": "stderr",
     "output_type": "stream",
     "text": [
      "/home/fabios/anaconda2/lib/python2.7/site-packages/ipykernel/__main__.py:8: RuntimeWarning: invalid value encountered in double_scalars\n"
     ]
    },
    {
     "name": "stdout",
     "output_type": "stream",
     "text": [
      "-0.222222222222\n",
      "0.448275862069\n",
      "0.157894736842\n"
     ]
    },
    {
     "data": {
      "image/png": "[encoded data removed]",
      "text/plain": [
       "<matplotlib.figure.Figure at 0x7f24080ebd90>"
      ]
     },
     "metadata": {},
     "output_type": "display_data"
    }
   ],
   "source": [
    "#copied from woods_et_al lambo, diff def of lick_dis then below, includes all trials instead of only 104\n",
    "pseudorands = np.c_[np.where(is_CSmt)[0], np.where(is_rewardt)[0]]\n",
    "\n",
    "lick_dis_cs = []\n",
    "for p in pseudorands:\n",
    "    a = (licks_cs[p[1]]+licks_tc[p[1]]) - np.mean((licks_cs[p[0]]+licks_tc[p[0]]))\n",
    "    b = (licks_cs[p[1]]+licks_tc[p[1]]) + np.mean((licks_cs[p[0]]+licks_tc[p[0]]))\n",
    "    lick_dis_cs.append(a/b)\n",
    "            \n",
    "lick_dis_cs = np.nan_to_num(lick_dis_cs)\n",
    "\n",
    "def calc_di(licks_cs, licks_tc, pseudorands, odor1=1, odor2=0):\n",
    "    a = np.mean(((licks_cs[[p[odor1] for p in pseudorands]]+licks_tc[[p[odor1] for p in pseudorands]]) -\n",
    "         np.mean((licks_cs[[p[odor2] for p in pseudorands]]+licks_tc[[p[odor2] for p in pseudorands]]))))\n",
    "    b = np.mean(((licks_cs[[p[odor1] for p in pseudorands]]+licks_tc[[p[odor1] for p in pseudorands]]) +\n",
    "         np.mean((licks_cs[[p[odor2] for p in pseudorands]]+licks_tc[[p[odor2] for p in pseudorands]]))))\n",
    "    return a/b\n",
    "\n",
    "first_third = len(lick_dis_cs)/3\n",
    "second_third = (len(lick_dis_cs)/3)*2\n",
    "\n",
    "lick_dis_cs_early = calc_di(licks_cs, licks_tc, pseudorands[:first_third])\n",
    "lick_dis_cs_mid = calc_di(licks_cs, licks_tc, pseudorands[first_third:second_third])\n",
    "lick_dis_cs_late = calc_di(licks_cs, licks_tc, pseudorands[-first_third:])\n",
    "\n",
    "pl.plot([lick_dis_cs_early, lick_dis_cs_mid, lick_dis_cs_late])\n",
    "\n",
    "print lick_dis_cs_early\n",
    "print lick_dis_cs_mid\n",
    "print lick_dis_cs_late\n"
   ]
  },
  {
   "cell_type": "code",
   "execution_count": 10,
   "metadata": {
    "collapsed": false
   },
   "outputs": [],
   "source": [
    "def plot_licks(tone_onsets, licks, ax=None):\n",
    "    if ax is None:\n",
    "        fig, ax = pl.subplots(1, 1)\n",
    "    for i, tone_ons in enumerate(tone_onsets):\n",
    "        lick_filt = ((licks-tone_ons)>CYCLE_START) * ((licks-tone_ons)<CYCLE_DURATION)\n",
    "        ax.vlines((licks-tone_ons)[lick_filt], i, i+1, lw=0.5)\n",
    "    return ax"
   ]
  },
  {
   "cell_type": "code",
   "execution_count": 11,
   "metadata": {
    "collapsed": false
   },
   "outputs": [],
   "source": [
    "reward_times = []\n",
    "for s, e in cycles[is_rewardt]:\n",
    "# s, e = cycles[np.where(is_rewardt)[0][i]]\n",
    "    try:\n",
    "        r = rewards[(rewards>=s)*(rewards<e)][0]\n",
    "        later_licks = licks-r\n",
    "        reward_times.append(later_licks[(later_licks>=0)][0])\n",
    "    except:\n",
    "        reward_times.append(np.nan)"
   ]
  },
  {
   "cell_type": "code",
   "execution_count": 12,
   "metadata": {
    "collapsed": false
   },
   "outputs": [],
   "source": [
    "reward_times = np.r_[reward_times]"
   ]
  },
  {
   "cell_type": "code",
   "execution_count": 13,
   "metadata": {
    "collapsed": true
   },
   "outputs": [],
   "source": [
    "is_rewarded = reward_times<2"
   ]
  },
  {
   "cell_type": "code",
   "execution_count": 14,
   "metadata": {
    "collapsed": false
   },
   "outputs": [
    {
     "data": {
      "text/plain": [
       "<matplotlib.text.Text at 0x7f23e4131350>"
      ]
     },
     "execution_count": 14,
     "metadata": {},
     "output_type": "execute_result"
    },
    {
     "data": {
      "image/png": "[encoded data removed]",
      "text/plain": [
       "<matplotlib.figure.Figure at 0x7f24180615d0>"
      ]
     },
     "metadata": {},
     "output_type": "display_data"
    }
   ],
   "source": [
    "fig, ax = pl.subplots(1, 1)\n",
    "ax.hist(reward_times[reward_times<2], bins=np.linspace(0, 2, 30), histtype='step');\n",
    "ax.hist((reward_times>=2)*2.5, bins=[2.5, 2.5+2./30], histtype='step', color='r');\n",
    "ax.set_xticks(np.r_[np.arange(0, 2.1, 0.5), 2.5+1./30])\n",
    "ax.set_xticklabels([i for i in np.arange(0, 2.1, 0.5)] + ['Non rewarded'])\n",
    "\n",
    "ax.vlines(np.median(reward_times), 0, 9, 'r')\n",
    "\n",
    "ax.set_xlabel('Time from trace offset (s)')\n",
    "ax.set_ylabel('Frequency')"
   ]
  },
  {
   "cell_type": "code",
   "execution_count": 15,
   "metadata": {
    "collapsed": false
   },
   "outputs": [
    {
     "data": {
      "image/png": "[encoded data removed]",
      "text/plain": [
       "<matplotlib.figure.Figure at 0x7f23e40bbf10>"
      ]
     },
     "metadata": {},
     "output_type": "display_data"
    }
   ],
   "source": [
    "fig, axs = pl.subplots(1, 2, figsize=(3, 1.5), sharey=True)\n",
    "plot_licks(odor_CSm_ons, licks, ax=axs[0])\n",
    "axs[0].set_title('CS-')\n",
    "plot_licks(odor_rw_ons, licks, ax=axs[1])\n",
    "axs[1].set_title('CS+')\n",
    "for c, ax in zip(['r', 'g'], axs):\n",
    "    ax.set_xlim(CYCLE_START, CYCLE_START+CYCLE_DURATION)\n",
    "    \n",
    "    ax.set_ylim(-2, len(odor_CSm_ons))\n",
    "    ax.set_xlim(-3, 10)\n",
    "    \n",
    "    pt.plot_period_bar(ax, 0, color=c, start_end=(0, CS_DURATION), alpha=0.2, zorder=0, delta_y=len(odor_CSm_ons))\n",
    "    pt.plot_period_bar(ax, 0, color='0.7', start_end=(CS_DURATION, CS_DURATION+DELAY),\n",
    "                       delta_y=len(odor_CSm_ons), alpha=0.2, zorder=0)\n",
    "    \n",
    "    pt.nicer_plot(ax)\n",
    "\n",
    "[axs[1].text(10, i, \"-\", color=\"r\") for i, v in enumerate(np.r_[is_rewarded]) if v];\n",
    "[axs[1].text(10, i, \"-\", color=\"b\") for i, v in enumerate(np.r_[is_rewarded]) if not v];\n",
    "# fig.savefig(\"../img/lambo.pdf\")"
   ]
  },
  {
   "cell_type": "code",
   "execution_count": 16,
   "metadata": {
    "collapsed": false
   },
   "outputs": [],
   "source": [
    "from sklearn.linear_model import LinearRegression\n",
    "from sklearn.model_selection import cross_val_score"
   ]
  },
  {
   "cell_type": "code",
   "execution_count": 17,
   "metadata": {
    "collapsed": true
   },
   "outputs": [],
   "source": [
    "lr = LinearRegression()\n",
    "labels = (np.r_[is_rewardt] * 0) + (np.r_[is_CSmt] * 1)"
   ]
  },
  {
   "cell_type": "code",
   "execution_count": 18,
   "metadata": {
    "collapsed": false
   },
   "outputs": [
    {
     "name": "stdout",
     "output_type": "stream",
     "text": [
      "CPU times: user 52 ms, sys: 0 ns, total: 52 ms\n",
      "Wall time: 49.4 ms\n"
     ]
    }
   ],
   "source": [
    "%%time\n",
    "lick_scores = []\n",
    "n_train = 10\n",
    "n_test = 4\n",
    "for i in range(len(labels)-n_train-n_test):\n",
    "    which_train = range(i, i+n_train)\n",
    "    which_test = range(i+1+n_train, i+1+n_train+n_test)\n",
    "    lr.fit(lick_ratios[which_train].reshape(-1, 1), labels[which_train])\n",
    "    lick_scores.append(lr.score(lick_ratios[which_test].reshape(-1, 1), labels[which_test]))\n",
    "    \n",
    "lick_scores = np.r_[lick_scores]"
   ]
  },
  {
   "cell_type": "code",
   "execution_count": 19,
   "metadata": {
    "collapsed": false
   },
   "outputs": [
    {
     "name": "stdout",
     "output_type": "stream",
     "text": [
      "CPU times: user 788 ms, sys: 4 ms, total: 792 ms\n",
      "Wall time: 786 ms\n"
     ]
    }
   ],
   "source": [
    "%%time\n",
    "lick_scores_cv = []\n",
    "n_train = 10\n",
    "n_test = 4\n",
    "for i in range(len(labels)-n_train-n_test):\n",
    "    which = range(i, i+n_train+n_test)\n",
    "    lick_scores_cv.append(cross_val_score(lr, lick_ratios[which].reshape(-1, 1), labels[which], cv=5))\n",
    "    \n",
    "lick_scores_cv = np.r_[lick_scores_cv]"
   ]
  },
  {
   "cell_type": "code",
   "execution_count": 20,
   "metadata": {
    "collapsed": true
   },
   "outputs": [],
   "source": [
    "n_licks = np.r_[[((licks>=(s-CYCLE_START+CS_DURATION)) * (licks<(s-CYCLE_START+CS_DURATION+DELAY))).sum() for s, e in cycles]]"
   ]
  },
  {
   "cell_type": "code",
   "execution_count": 21,
   "metadata": {
    "collapsed": false
   },
   "outputs": [
    {
     "name": "stdout",
     "output_type": "stream",
     "text": [
      "[ 0.          0.          0.          0.          0.          0.          0.\n",
      "  0.          0.          0.          0.          0.          0.          0.\n",
      "  0.5         1.          1.          1.          1.          1.          1.\n",
      "  0.          0.          0.          0.          0.          0.          1.\n",
      "  1.          1.          1.          1.          1.          1.          1.\n",
      "  1.          1.          1.          1.          0.          0.          1.\n",
      "  0.33333333  0.33333333  0.33333333  0.          0.          0.          0.\n",
      "  0.          0.          0.          0.          0.          1.          1.\n",
      "  1.          1.          0.          0.          0.          0.          0.\n",
      "  0.          0.          0.          0.          0.          0.          0.\n",
      "  0.          0.          0.          0.          0.          0.          0.\n",
      "  0.          0.          1.          1.          1.          0.66666667\n",
      "  0.          0.          0.          0.          0.          0.          0.\n",
      "  0.          0.          0.          0.          0.          0.          0.\n",
      "  0.          0.          0.          0.          0.          0.          0.\n",
      "  0.          0.        ]\n"
     ]
    }
   ],
   "source": [
    "# %%time tr only\n",
    "lick_dis_train = []\n",
    "n_train = 10\n",
    "n_test = 4\n",
    "for i in range(len(n_licks)-n_train-n_test):\n",
    "    which_test = range(i+1+n_train, i+1+n_train+n_test)\n",
    "    l_CSmt = n_licks[which_test][np.r_[is_CSmt][which_test]].sum()\n",
    "    l_rewardt = n_licks[which_test][np.r_[is_rewardt][which_test]].sum()\n",
    "    # compute lick DIs here:\n",
    "    try:\n",
    "        lick_dis_train.append(1.*l_rewardt/(l_rewardt+l_CSmt))\n",
    "    except ZeroDivisionError:\n",
    "        lick_dis_train.append(0)\n",
    "    \n",
    "lick_dis_train = np.r_[lick_dis_train]\n",
    "\n",
    "print lick_dis_train"
   ]
  },
  {
   "cell_type": "code",
   "execution_count": 22,
   "metadata": {
    "collapsed": false
   },
   "outputs": [
    {
     "name": "stdout",
     "output_type": "stream",
     "text": [
      "[ 0.          0.          0.          0.          0.          0.          0.\n",
      "  0.          0.          0.          0.          0.          0.          0.\n",
      "  0.42857143  1.          1.          1.          1.          1.          1.\n",
      "  0.          0.          0.          1.          1.          1.          1.\n",
      "  1.          1.          1.          1.          1.          1.          1.\n",
      "  1.          1.          1.          1.          1.          1.          1.\n",
      "  0.5         0.33333333  0.2         0.          0.          0.          0.\n",
      "  0.          0.          0.          0.          0.          1.          1.\n",
      "  1.          1.          0.          0.          0.          0.5         0.5\n",
      "  1.          1.          0.          0.          0.          0.          0.\n",
      "  0.          0.          0.          0.          0.          0.\n",
      "  0.33333333  0.33333333  1.          1.          0.66666667  0.66666667\n",
      "  0.5         0.          0.          0.          0.          0.          0.\n",
      "  0.          0.          0.          0.          0.          0.          0.\n",
      "  0.          0.          0.          0.          1.          1.          1.\n",
      "  1.          0.          0.        ]\n"
     ]
    }
   ],
   "source": [
    "# %%time includes cs and tr\n",
    "n_licks = np.r_[[((licks>=(s-CYCLE_START)) * (licks<(s-CYCLE_START+CS_DURATION+DELAY))).sum() for s, e in cycles]]\n",
    "\n",
    "lick_dis_cs_train = []\n",
    "n_train = 10\n",
    "n_test = 4\n",
    "for i in range(len(n_licks)-n_train-n_test):\n",
    "    which_test = range(i+1+n_train, i+1+n_train+n_test)\n",
    "    l_CSmt = n_licks[which_test][np.r_[is_CSmt][which_test]].sum()\n",
    "    l_rewardt = n_licks[which_test][np.r_[is_rewardt][which_test]].sum()\n",
    "    # compute lick DIs here:\n",
    "    try:\n",
    "        lick_dis_cs_train.append(1.*l_rewardt/(l_rewardt+l_CSmt))\n",
    "    except ZeroDivisionError:\n",
    "        lick_dis_cs_train.append(0)\n",
    "    \n",
    "lick_dis_cs_train = np.r_[lick_dis_cs_train]\n",
    "\n",
    "print lick_dis_cs_train"
   ]
  },
  {
   "cell_type": "code",
   "execution_count": 23,
   "metadata": {
    "collapsed": false
   },
   "outputs": [
    {
     "name": "stdout",
     "output_type": "stream",
     "text": [
      "Could not store variable 'os'. Skipping...\n",
      "Could not store variable 'IPython'. Skipping...\n",
      "Could not store variable 'pt'. Skipping...\n",
      "Could not store variable 'pl'. Skipping...\n",
      "Could not store variable 'ut'. Skipping...\n",
      "Could not store variable 'ip'. Skipping...\n",
      "Could not store variable 'np'. Skipping...\n",
      "Could not store variable 'sys'. Skipping...\n"
     ]
    }
   ],
   "source": [
    "save_workspace(db)"
   ]
  },
  {
   "cell_type": "code",
   "execution_count": 24,
   "metadata": {
    "collapsed": false
   },
   "outputs": [
    {
     "data": {
      "text/plain": [
       "array([ 0.        , -1.        ,  0.        ,  0.        ,  0.        ,\n",
       "        0.        ,  0.        ,  0.        ,  0.        ,  0.        ,\n",
       "       -1.        ,  0.        ,  0.        ,  0.        ,  0.        ,\n",
       "        1.        ,  0.        ,  0.        ,  0.        ,  0.        ,\n",
       "        1.        ,  1.        ,  1.        ,  1.        ,  1.        ,\n",
       "        1.        ,  0.        , -1.        ,  1.        ,  0.        ,\n",
       "        0.        ,  0.        ,  0.        ,  0.        ,  1.        ,\n",
       "        0.        , -1.        ,  0.        ,  0.        ,  0.        ,\n",
       "        0.        ,  0.        ,  0.        ,  0.        ,  0.        ,\n",
       "        0.        ,  0.        ,  0.33333333,  0.        , -1.        ,\n",
       "        0.        , -1.        ,  0.        ,  0.        ,  0.        ,\n",
       "        0.        ,  0.        ,  0.        ,  0.        ,  0.        ])"
      ]
     },
     "execution_count": 24,
     "metadata": {},
     "output_type": "execute_result"
    }
   ],
   "source": [
    "lick_dis"
   ]
  },
  {
   "cell_type": "code",
   "execution_count": 25,
   "metadata": {
    "collapsed": false
   },
   "outputs": [
    {
     "data": {
      "text/plain": [
       "array([ 0.        , -1.        ,  0.        ,  0.        ,  0.        ,\n",
       "        0.        ,  0.        ,  0.        ,  0.        ,  0.        ,\n",
       "       -1.        ,  0.        ,  0.        , -0.14285714,  0.        ,\n",
       "        1.        ,  0.        ,  0.        ,  1.        ,  0.        ,\n",
       "        1.        ,  1.        ,  1.        ,  1.        ,  1.        ,\n",
       "        1.        ,  0.        , -0.33333333, -0.33333333, -1.        ,\n",
       "        0.        ,  0.        ,  0.        ,  0.        ,  1.        ,\n",
       "        0.        , -1.        ,  1.        ,  0.        ,  0.        ,\n",
       "        0.        ,  0.        ,  0.        , -1.        ,  0.        ,\n",
       "        1.        , -1.        ,  0.33333333,  0.        , -1.        ,\n",
       "        0.        , -1.        ,  0.        ,  0.        ,  0.        ,\n",
       "       -1.        ,  0.        ,  1.        ,  0.        ,  0.        ])"
      ]
     },
     "execution_count": 25,
     "metadata": {},
     "output_type": "execute_result"
    }
   ],
   "source": [
    "lick_dis_cs"
   ]
  },
  {
   "cell_type": "code",
   "execution_count": 26,
   "metadata": {
    "collapsed": false
   },
   "outputs": [
    {
     "data": {
      "text/plain": [
       "0.098022729204954778"
      ]
     },
     "execution_count": 26,
     "metadata": {},
     "output_type": "execute_result"
    }
   ],
   "source": [
    "lick_di"
   ]
  },
  {
   "cell_type": "code",
   "execution_count": 27,
   "metadata": {
    "collapsed": false
   },
   "outputs": [],
   "source": []
  },
  {
   "cell_type": "code",
   "execution_count": 27,
   "metadata": {
    "collapsed": true
   },
   "outputs": [],
   "source": []
  }
 ],
 "metadata": {
  "anaconda-cloud": {},
  "kernelspec": {
   "display_name": "Python [default]",
   "language": "python",
   "name": "python2"
  },
  "language_info": {
   "codemirror_mode": {
    "name": "ipython",
    "version": 2
   },
   "file_extension": ".py",
   "mimetype": "text/x-python",
   "name": "python",
   "nbconvert_exporter": "python",
   "pygments_lexer": "ipython2",
   "version": "2.7.12"
  }
 },
 "nbformat": 4,
 "nbformat_minor": 1
}
