{
 "cells": [
  {
   "cell_type": "raw",
   "metadata": {
    "collapsed": false
   },
   "source": [
    "### from IPython.display import display\n",
    "from IPython.display import HTML\n",
    "import IPython.core.display as di # Example: di.display_html('<h3>%s:</h3>' % str, raw=True)\n",
    "\n",
    "# This line will hide code by default when the notebook is exported as HTML\n",
    "di.display_html('<script>jQuery(function() {if (jQuery(\"body.notebook_app\").length == 0) { jQuery(\".input_area\").toggle(); jQuery(\".prompt\").toggle();}});</script>', raw=True)\n",
    "\n",
    "# This line will add a button to toggle visibility of code blocks, for use with the HTML export version\n",
    "di.display_html('''<button onclick=\"jQuery('.input_area').toggle(); jQuery('.prompt').toggle();\">Toggle code</button>''', raw=True)\n"
   ]
  },
  {
   "cell_type": "code",
   "execution_count": 1,
   "metadata": {
    "collapsed": true
   },
   "outputs": [],
   "source": [
    "# all modules necessary for this nb\n",
    "import os\n",
    "import sys\n",
    "import pickle\n",
    "\n",
    "import numpy as np\n",
    "import pylab as pl\n",
    "import scipy.stats as sstats\n",
    "\n",
    "# setting parameters for default matplotlib plots\n",
    "%matplotlib inline"
   ]
  },
  {
   "cell_type": "code",
   "execution_count": 2,
   "metadata": {
    "collapsed": false
   },
   "outputs": [],
   "source": [
    "pl.style.use('fabiostyle')\n",
    "# needs to find the library of functions\n",
    "sys.path.append('../../../../code/')  # to be replaced!\n",
    "\n",
    "import utils as ut\n",
    "import plots as pt"
   ]
  },
  {
   "cell_type": "code",
   "execution_count": 3,
   "metadata": {
    "collapsed": false
   },
   "outputs": [],
   "source": [
    "# %%javascript\n",
    "# var nb = IPython.notebook;\n",
    "# var kernel = IPython.notebook.kernel;\n",
    "# var command = \"NOTEBOOK_NAME = '\" + nb.base_url + nb.notebook_path + \"'\";\n",
    "# kernel.execute(command);"
   ]
  },
  {
   "cell_type": "code",
   "execution_count": 4,
   "metadata": {
    "collapsed": true
   },
   "outputs": [],
   "source": [
    "# NOTEBOOK_NAME = NOTEBOOK_NAME.split('/')[-1][:-6]\n",
    "NOTEBOOK_NAME = 'decoding_around_onset_0.5sec'"
   ]
  },
  {
   "cell_type": "code",
   "execution_count": 5,
   "metadata": {
    "collapsed": false
   },
   "outputs": [],
   "source": [
    "from pickleshare import PickleShareDB\n",
    "\n",
    "autorestore_folder = os.path.join(os.getcwd(), 'autorestore', NOTEBOOK_NAME)\n",
    "db = PickleShareDB(autorestore_folder)\n",
    "import sys\n",
    "from workspace import *\n",
    "import IPython\n",
    "ip = IPython.get_ipython()\n",
    "\n",
    "# this will restore all the saved variables. ignore the errors listed.\n",
    "#load_workspace(ip, db)\n",
    "\n",
    "# use `save_worspace(db)` to save variables at the end"
   ]
  },
  {
   "cell_type": "code",
   "execution_count": 6,
   "metadata": {
    "collapsed": false
   },
   "outputs": [],
   "source": [
    "folder = './autorestore/preprocessing'\n",
    "for var in ('time_ax', 'traces', 'events', 'areas', 'cycles',\n",
    "            'is_rewardt', 'is_CSmt', 'CYCLE_START', 'CS_DURATION', 'DELAY'): \n",
    "    exec('%s = ut.load_variable(\\'%s\\', folder=\\'%s\\')'%(var, var, folder))\n",
    "    \n",
    "folder = './autorestore/decoding_odors/'\n",
    "for var in ('labels',): \n",
    "    exec('%s = ut.load_variable(\\'%s\\', folder=\\'%s\\')'%(var, var, folder))"
   ]
  },
  {
   "cell_type": "code",
   "execution_count": 7,
   "metadata": {
    "collapsed": false
   },
   "outputs": [],
   "source": [
    "delta_t0 = 0.5\n",
    "\n",
    "t_start0 = -4.5  # sec\n",
    "t_stop0 = 10.5  # sec\n",
    "\n",
    "# Shape of the following is (N_time_bins, N_patterns, N_cells)\n",
    "patterns_tb = np.r_[[ut.extract_activity(time_ax, events, cycles, CYCLE_START, i*delta_t0, (i+1)*delta_t0,\n",
    "                                      offset=t_start0)\n",
    "                     for i in xrange(int((t_stop0-t_start0)/delta_t0))]]\n",
    "\n",
    "# Shape of the following is (N_time_bins, N_patterns)\n",
    "# labels_tb = np.r_[[extract_activity(time_ax, labels_time_ax, cycles, CYCLE_START, i*delta_t, (i+1)*delta_t, offset=-3)\n",
    "#                      for i in xrange(int(10./delta_t))]]\n"
   ]
  },
  {
   "cell_type": "code",
   "execution_count": 8,
   "metadata": {
    "collapsed": true
   },
   "outputs": [],
   "source": [
    "from sklearn.svm import LinearSVC"
   ]
  },
  {
   "cell_type": "code",
   "execution_count": 9,
   "metadata": {
    "collapsed": false
   },
   "outputs": [],
   "source": [
    "decodor = LinearSVC()\n",
    "\n",
    "# which_trials = labels>1  # only flower and banana\n",
    "which_trials = [True] * len(labels)  # all odors and air\n",
    "# which_trials = (labels==1) * (labels==5)  # only air and banana\n",
    "\n",
    "labels_tb = np.r_[[[l]*patterns_tb.shape[0] for l in labels]].T\n",
    "from sklearn.model_selection import cross_val_score, LeaveOneOut\n",
    "scores = []\n",
    "for i, (p, l) in enumerate(zip(patterns_tb, labels_tb)):\n",
    "    # for every time bin\n",
    "    scores.append(cross_val_score(decodor, p[which_trials], l[which_trials], cv=LeaveOneOut()))\n",
    "# scores_tb3.append(scores_tb3)\n",
    "scores = np.r_[scores]"
   ]
  },
  {
   "cell_type": "code",
   "execution_count": 10,
   "metadata": {
    "collapsed": false
   },
   "outputs": [
    {
     "data": {
      "text/plain": [
       "(120, 53)"
      ]
     },
     "execution_count": 10,
     "metadata": {},
     "output_type": "execute_result"
    }
   ],
   "source": [
    "patterns_tb[0].shape"
   ]
  },
  {
   "cell_type": "code",
   "execution_count": 11,
   "metadata": {
    "collapsed": false
   },
   "outputs": [
    {
     "name": "stdout",
     "output_type": "stream",
     "text": [
      "[ 1.  1.  0.  0.  0.  1.  0.  0.  0.  0.  0.  0.  1.  0.  1.  0.  0.  0.\n",
      "  0.  0.  0.  0.  1.  1.  0.  1.  1.  1.  1.  0.  1.  0.  0.  1.  1.  1.\n",
      "  0.  0.  0.  0.  0.  1.  1.  1.  0.  0.  0.  0.  1.  0.  0.  0.  0.  0.\n",
      "  0.  0.  0.  1.  0.  0.  1.  0.  0.  1.  1.  0.  1.  1.  1.  1.  1.  1.\n",
      "  0.  0.  1.  0.  1.  1.  0.  0.  1.  1.  0.  0.  0.  0.  1.  1.  0.  0.\n",
      "  0.  0.  0.  0.  1.  0.  1.  1.  0.  0.  1.  1.  0.  1.  0.  0.  0.  0.\n",
      "  0.  0.  0.  1.  1.  0.  1.  0.  1.  1.  0.  0.]\n"
     ]
    }
   ],
   "source": [
    "print (scores[0])"
   ]
  },
  {
   "cell_type": "code",
   "execution_count": 12,
   "metadata": {
    "collapsed": false
   },
   "outputs": [
    {
     "data": {
      "text/plain": [
       "<matplotlib.collections.LineCollection at 0x7fe12c147250>"
      ]
     },
     "execution_count": 12,
     "metadata": {},
     "output_type": "execute_result"
    },
    {
     "data": {
      "image/png": "[encoded data removed]",
      "text/plain": [
       "<matplotlib.figure.Figure at 0x7fe12c189810>"
      ]
     },
     "metadata": {},
     "output_type": "display_data"
    }
   ],
   "source": [
    "fig, ax = pl.subplots(1, 1, figsize=(2, 1))\n",
    "\n",
    "t = np.arange(t_start0, t_stop0, delta_t0)\n",
    "# ax.fill_between(t+np.diff(t)[0]/2.,\n",
    "#                 (scores.mean(1) + np.std(scores, 1))*100,\n",
    "#                 (scores.mean(1) - np.std(scores, 1))*100,\n",
    "#                 lw=0, color='0.8')\n",
    "ax.plot(t+np.diff(t)[0]/2., scores.mean(1)*100, 'ko', lw=.5, zorder=19,ms=2)\n",
    "m = scores.mean(1)*100\n",
    "s = np.std(scores, 1)*100 / np.sqrt(scores.shape[1]-1)\n",
    "ax.errorbar(t+np.diff(t)[0]/2., m, s, lw=0, zorder=0, color= 'k', elinewidth=1)\n",
    "ax.set_ylim(0, 100)\n",
    "ax.set_xlim(-5, 11)\n",
    "ax.set_xticks(np.arange(t_start0+0.5, t_stop0+0.5, 2))\n",
    "ax.hlines(50, t_start0, t_stop0, color='k', lw=1, linestyles='dotted')\n",
    "# ax.step(t, scores_tb3.mean(1), lw=.5, zorder=19, where='post')\n",
    "# ax.vlines(t, 0, 100, zorder=0, lw=0.5, color='0.8')\n",
    "pt.nicer_plot(ax)\n",
    "ax.set_xlabel('Time from odor onset (s)')\n",
    "ax.set_ylabel('Performance %')\n",
    "pt.plot_period_bar(ax, 25, start_end=(0, 2), color='r', delta_y=3)\n",
    "# pt.plot_period_bar(ax, 25, start_end=(2, 4), color='0.7', delta_y=2)\n",
    "pt.plot_period_bar(ax, 25, start_end=(4, 4.2), color='b', delta_y=3)\n",
    "ax.hlines(25+1, 2, 4, color='k', lw=0.5, linestyles='dotted')\n",
    "\n",
    "\n",
    "\n",
    "# fig.savefig('img/proposal_decoding_timebased.svg')"
   ]
  },
  {
   "cell_type": "code",
   "execution_count": 13,
   "metadata": {
    "collapsed": false
   },
   "outputs": [
    {
     "name": "stdout",
     "output_type": "stream",
     "text": [
      "Could not store variable 'os'. Skipping...\n",
      "Could not store variable 'IPython'. Skipping...\n",
      "Could not store variable 'pt'. Skipping...\n",
      "Could not store variable 'sstats'. Skipping...\n",
      "Could not store variable 'pl'. Skipping...\n",
      "Could not store variable 'ut'. Skipping...\n",
      "Could not store variable 'pickle'. Skipping...\n",
      "Could not store variable 'ip'. Skipping...\n",
      "Could not store variable 'np'. Skipping...\n",
      "Could not store variable 'sys'. Skipping...\n"
     ]
    }
   ],
   "source": [
    "save_workspace(db)"
   ]
  },
  {
   "cell_type": "code",
   "execution_count": 14,
   "metadata": {
    "collapsed": true
   },
   "outputs": [],
   "source": []
  }
 ],
 "metadata": {
  "anaconda-cloud": {},
  "kernelspec": {
   "display_name": "Python [default]",
   "language": "python",
   "name": "python2"
  },
  "language_info": {
   "codemirror_mode": {
    "name": "ipython",
    "version": 2
   },
   "file_extension": ".py",
   "mimetype": "text/x-python",
   "name": "python",
   "nbconvert_exporter": "python",
   "pygments_lexer": "ipython2",
   "version": "2.7.12"
  }
 },
 "nbformat": 4,
 "nbformat_minor": 2
}
