{
 "cells": [
  {
   "cell_type": "code",
   "execution_count": null,
   "metadata": {
    "collapsed": false,
    "nbpresent": {
     "id": "35e69eaa-c300-457b-b392-5dab8232a04e"
    }
   },
   "outputs": [],
   "source": [
    "from IPython.display import display\n",
    "from IPython.display import HTML\n",
    "import IPython.core.display as di # Example: di.display_html('<h3>%s:</h3>' % str, raw=True)\n",
    "# This line will hide code by default when the notebook is exported as HTML\n",
    "di.display_html('<script>jQuery(function() {if (jQuery(\"body.notebook_app\").length == 0) { jQuery(\".input_area\").toggle(); jQuery(\".prompt\").toggle();}});</script>', raw=True)\n",
    "\n",
    "# This line will add a button to toggle visibility of code blocks, for use with the HTML export version\n",
    "di.display_html('''<button onclick=\"jQuery('.input_area').toggle(); jQuery('.prompt').toggle();\">Toggle code</button>''', raw=True)\n"
   ]
  },
  {
   "cell_type": "code",
   "execution_count": null,
   "metadata": {
    "collapsed": true
   },
   "outputs": [],
   "source": [
    "# all modules necessary for this nb\n",
    "import os\n",
    "import sys\n",
    "import pickle\n",
    "\n",
    "import numpy as np\n",
    "import pylab as pl\n",
    "from sklearn.covariance import EmpiricalCovariance\n",
    "from sklearn.cluster import KMeans, AffinityPropagation\n",
    "from sklearn.metrics import silhouette_score as clust_score\n",
    "from sklearn.preprocessing import StandardScaler\n",
    "from scipy import stats as sstats\n",
    "\n",
    "# setting parameters for default matplotlib plots\n",
    "%matplotlib inline"
   ]
  },
  {
   "cell_type": "code",
   "execution_count": null,
   "metadata": {
    "collapsed": false,
    "nbpresent": {
     "id": "1ecc8373-9119-4667-83f9-f5bc9201bb45"
    }
   },
   "outputs": [],
   "source": [
    "pl.rcParams['savefig.dpi'] = 300 # dpi for most publications\n",
    "pl.rcParams['figure.dpi'] = 300 # dpi for most publications\n",
    "pl.rcParams['xtick.labelsize'] = 7\n",
    "pl.rcParams['ytick.labelsize'] = 7\n",
    "pl.rcParams['axes.labelsize'] = 7\n",
    "from ipywidgets import interact\n",
    "\n",
    "# needs to find the library of functions\n",
    "sys.path.append('../../../../code/')  # to be replaced!\n",
    "\n",
    "import utils as ut\n",
    "import plots as pt"
   ]
  },
  {
   "cell_type": "code",
   "execution_count": null,
   "metadata": {
    "collapsed": true,
    "nbpresent": {
     "id": "067b03ca-045a-473b-a84a-e28c04b89c5e"
    }
   },
   "outputs": [],
   "source": [
    "# a double percentage sign indicates a magic function. in this case, now we are writing this cell in javascript."
   ]
  },
  {
   "cell_type": "code",
   "execution_count": null,
   "metadata": {
    "collapsed": false,
    "nbpresent": {
     "id": "d1667834-b8c5-483c-9a93-52b661269d10"
    }
   },
   "outputs": [],
   "source": [
    "NOTEBOOK_NAME = 'cellregs'"
   ]
  },
  {
   "cell_type": "code",
   "execution_count": null,
   "metadata": {
    "collapsed": false,
    "nbpresent": {
     "id": "5d65f7bf-9758-4cd0-bae3-1e4bde68c823"
    }
   },
   "outputs": [],
   "source": [
    "from pickleshare import PickleShareDB\n",
    "\n",
    "autorestore_folder = os.path.join(os.getcwd(), 'autorestore', NOTEBOOK_NAME)\n",
    "db = PickleShareDB(autorestore_folder)\n",
    "import sys\n",
    "from workspace import *\n",
    "import IPython\n",
    "ip = IPython.get_ipython()\n",
    "\n",
    "# this will restore all the saved variables. ignore the errors listed.\n",
    "load_workspace(ip, db)\n",
    "\n",
    "# use `save_worspace(db)` to save variables at the end"
   ]
  },
  {
   "cell_type": "code",
   "execution_count": null,
   "metadata": {
    "collapsed": false
   },
   "outputs": [],
   "source": [
    "import h5py\n",
    "try:\n",
    "    filepath = '../data/cellreg_pre_vs_post.mat'\n",
    "    arrays = {}\n",
    "    f = h5py.File(filepath)\n",
    "    cellreg_map = np.array(f['cell_registered_struct']['cell_to_index_map'])-1\n",
    "    keep = np.prod(cellreg_map, 0)>=0\n",
    "    cellregs_pre_vs_post = dict(zip(['pre', 'post'], cellreg_map.T[keep].T.astype(int)))\n",
    "except:\n",
    "    print 'failed d1_vs_d2'"
   ]
  },
  {
   "cell_type": "code",
   "execution_count": null,
   "metadata": {
    "collapsed": false
   },
   "outputs": [],
   "source": [
    "import h5py\n",
    "try:\n",
    "    filepath = '../data/cellreg_expo_vs_pre.mat'\n",
    "    arrays = {}\n",
    "    f = h5py.File(filepath)\n",
    "    cellreg_map = np.array(f['cell_registered_struct']['cell_to_index_map'])-1\n",
    "    keep = np.prod(cellreg_map, 0)>=0\n",
    "    cellregs_pre_vs_mid = dict(zip(['expo', 'pre'], cellreg_map.T[keep].T.astype(int)))\n",
    "except:\n",
    "    print 'failed prevmid'"
   ]
  },
  {
   "cell_type": "code",
   "execution_count": null,
   "metadata": {
    "collapsed": false
   },
   "outputs": [],
   "source": [
    "import h5py\n",
    "try:\n",
    "    filepath = '../data/cellreg_expo_vs_post.mat'\n",
    "    arrays = {}\n",
    "    f = h5py.File(filepath)\n",
    "    cellreg_map = np.array(f['cell_registered_struct']['cell_to_index_map'])-1\n",
    "    keep = np.prod(cellreg_map, 0)>=0\n",
    "    cellregs_mid_vs_post = dict(zip(['expo', 'post'], cellreg_map.T[keep].T.astype(int)))\n",
    "except:\n",
    "    print 'failed midvpost'"
   ]
  },
  {
   "cell_type": "code",
   "execution_count": null,
   "metadata": {
    "collapsed": false,
    "nbpresent": {
     "id": "06d0740a-c08c-4c9b-bd8f-617babbe455f"
    }
   },
   "outputs": [],
   "source": [
    "save_workspace(db)"
   ]
  },
  {
   "cell_type": "code",
   "execution_count": null,
   "metadata": {
    "collapsed": true
   },
   "outputs": [],
   "source": []
  },
  {
   "cell_type": "markdown",
   "metadata": {
    "collapsed": true
   },
   "source": [
    "### "
   ]
  }
 ],
 "metadata": {
  "anaconda-cloud": {},
  "kernelspec": {
   "display_name": "Python [default]",
   "language": "python",
   "name": "python2"
  },
  "language_info": {
   "codemirror_mode": {
    "name": "ipython",
    "version": 2
   },
   "file_extension": ".py",
   "mimetype": "text/x-python",
   "name": "python",
   "nbconvert_exporter": "python",
   "pygments_lexer": "ipython2",
   "version": "2.7.12"
  },
  "nbpresent": {
   "slides": {
    "00e955d4-b8ba-4b17-81e5-43baedeb2361": {
     "id": "00e955d4-b8ba-4b17-81e5-43baedeb2361",
     "prev": "1bca8a3a-3553-4f3b-9bcb-ffd3d0057af1",
     "regions": {
      "85a060cd-1199-4c38-9bc8-f4f3040a61a5": {
       "attrs": {
        "height": 0.8,
        "width": 0.8,
        "x": 0.1,
        "y": 0.1
       },
       "content": {
        "cell": "19c9550d-fb20-4dd3-80d7-2fb748b0da9a",
        "part": "whole"
       },
       "id": "85a060cd-1199-4c38-9bc8-f4f3040a61a5"
      }
     }
    },
    "0b089aaa-c13e-40f6-9390-889c23e76e1c": {
     "id": "0b089aaa-c13e-40f6-9390-889c23e76e1c",
     "prev": "0cd10ea8-a9b5-4bca-826c-653df69eebd2",
     "regions": {
      "e0d9e8a7-a535-4e4c-afae-99248d6a8a34": {
       "attrs": {
        "height": 0.8,
        "width": 0.8,
        "x": 0.1,
        "y": 0.1
       },
       "content": {
        "cell": "d785ca23-adb2-4e52-8447-0da8168f8fac",
        "part": "whole"
       },
       "id": "e0d9e8a7-a535-4e4c-afae-99248d6a8a34"
      }
     }
    },
    "0cd10ea8-a9b5-4bca-826c-653df69eebd2": {
     "id": "0cd10ea8-a9b5-4bca-826c-653df69eebd2",
     "prev": "9fd1b104-1a97-44b4-87da-ff358c64f526",
     "regions": {
      "982be569-5775-4937-89fc-1e0dd61a5230": {
       "attrs": {
        "height": 0.8,
        "width": 0.8,
        "x": 0.1,
        "y": 0.1
       },
       "content": {
        "cell": "0d7f97ee-8316-4400-8bba-3d178636322d",
        "part": "whole"
       },
       "id": "982be569-5775-4937-89fc-1e0dd61a5230"
      }
     }
    },
    "104d75da-c8fb-4574-b071-c9f2e2cd236d": {
     "id": "104d75da-c8fb-4574-b071-c9f2e2cd236d",
     "prev": "5b312478-b1d7-4eb7-85a4-ee46fe02f3e5",
     "regions": {
      "31d13de7-e0fe-4a8c-a05c-db59aa25d3fe": {
       "attrs": {
        "height": 0.8,
        "width": 0.8,
        "x": 0.1,
        "y": 0.1
       },
       "content": {
        "cell": "5168996d-fed8-4cd0-ad6e-527fab332096",
        "part": "whole"
       },
       "id": "31d13de7-e0fe-4a8c-a05c-db59aa25d3fe"
      }
     }
    },
    "1bca8a3a-3553-4f3b-9bcb-ffd3d0057af1": {
     "id": "1bca8a3a-3553-4f3b-9bcb-ffd3d0057af1",
     "prev": "f6e7a3a7-f945-42a5-8963-ddb902ca2cd0",
     "regions": {
      "77e78e71-eb7a-4b45-970b-034db8e052e1": {
       "attrs": {
        "height": 0.8,
        "width": 0.8,
        "x": 0.1,
        "y": 0.1
       },
       "content": {
        "cell": "23571208-3ac5-4945-ac54-56ae02dc4a1a",
        "part": "whole"
       },
       "id": "77e78e71-eb7a-4b45-970b-034db8e052e1"
      }
     }
    },
    "328f8b6b-1856-461e-a1ed-7cda44f73dcd": {
     "id": "328f8b6b-1856-461e-a1ed-7cda44f73dcd",
     "prev": "104d75da-c8fb-4574-b071-c9f2e2cd236d",
     "regions": {
      "555dd9dc-407d-44ce-b7f4-f1a263b23951": {
       "attrs": {
        "height": 0.8,
        "width": 0.8,
        "x": 0.1,
        "y": 0.1
       },
       "content": {
        "cell": "06d0740a-c08c-4c9b-bd8f-617babbe455f",
        "part": "whole"
       },
       "id": "555dd9dc-407d-44ce-b7f4-f1a263b23951"
      }
     }
    },
    "399cdb35-276c-4181-bff5-67fe6e8f3f3b": {
     "id": "399cdb35-276c-4181-bff5-67fe6e8f3f3b",
     "prev": "0b089aaa-c13e-40f6-9390-889c23e76e1c",
     "regions": {
      "3795fd7e-4706-422a-8c0c-fd96fff0fce4": {
       "attrs": {
        "height": 0.8,
        "width": 0.8,
        "x": 0.1,
        "y": 0.1
       },
       "content": {
        "cell": "5b80fb7a-8b6b-4aa9-917d-a0c85fef22ad",
        "part": "whole"
       },
       "id": "3795fd7e-4706-422a-8c0c-fd96fff0fce4"
      }
     }
    },
    "3a56a3af-a4aa-43a2-94b0-d7f4172381e7": {
     "id": "3a56a3af-a4aa-43a2-94b0-d7f4172381e7",
     "prev": "00e955d4-b8ba-4b17-81e5-43baedeb2361",
     "regions": {
      "ce36f531-ea23-4ae4-a5de-a9f849648400": {
       "attrs": {
        "height": 0.8,
        "width": 0.8,
        "x": 0.1,
        "y": 0.1
       },
       "content": {
        "cell": "6cf4b2d7-e46e-4b15-bfea-94464e4b4428",
        "part": "whole"
       },
       "id": "ce36f531-ea23-4ae4-a5de-a9f849648400"
      }
     }
    },
    "41750996-7fc7-4ad2-af37-fce34c94e645": {
     "id": "41750996-7fc7-4ad2-af37-fce34c94e645",
     "prev": "e7e9b24b-a2f0-4034-ac91-afe56c2b4793",
     "regions": {
      "ebac1fbc-c10a-48ce-a6e3-23fc9887befe": {
       "attrs": {
        "height": 0.8,
        "width": 0.8,
        "x": 0.1,
        "y": 0.1
       },
       "content": {
        "cell": "d1667834-b8c5-483c-9a93-52b661269d10",
        "part": "whole"
       },
       "id": "ebac1fbc-c10a-48ce-a6e3-23fc9887befe"
      }
     }
    },
    "4e11b5d1-0277-4573-ad0c-0f69ec981885": {
     "id": "4e11b5d1-0277-4573-ad0c-0f69ec981885",
     "prev": "328f8b6b-1856-461e-a1ed-7cda44f73dcd",
     "regions": {
      "b8466f2d-1ff0-4b19-bc74-f1938e7d07d6": {
       "attrs": {
        "height": 0.8,
        "width": 0.8,
        "x": 0.1,
        "y": 0.1
       },
       "content": {
        "cell": "2089f799-2028-4b38-9493-69a65590eb83",
        "part": "whole"
       },
       "id": "b8466f2d-1ff0-4b19-bc74-f1938e7d07d6"
      }
     }
    },
    "5b312478-b1d7-4eb7-85a4-ee46fe02f3e5": {
     "id": "5b312478-b1d7-4eb7-85a4-ee46fe02f3e5",
     "prev": "399cdb35-276c-4181-bff5-67fe6e8f3f3b",
     "regions": {
      "9b353fac-e545-47c0-9474-da02e6aaf3dc": {
       "attrs": {
        "height": 0.8,
        "width": 0.8,
        "x": 0.1,
        "y": 0.1
       },
       "content": {
        "cell": "0ada281f-fce3-475b-94f7-fa33e94c6295",
        "part": "whole"
       },
       "id": "9b353fac-e545-47c0-9474-da02e6aaf3dc"
      }
     }
    },
    "709b17cd-e8bf-47bf-ace9-ed44268de90e": {
     "id": "709b17cd-e8bf-47bf-ace9-ed44268de90e",
     "prev": null,
     "regions": {
      "99a98bbc-232d-4872-badf-9323d935d6a2": {
       "attrs": {
        "height": 0.8,
        "width": 0.8,
        "x": 0.1,
        "y": 0.1
       },
       "content": {
        "cell": "35e69eaa-c300-457b-b392-5dab8232a04e",
        "part": "whole"
       },
       "id": "99a98bbc-232d-4872-badf-9323d935d6a2"
      }
     }
    },
    "74197d98-8b9d-402d-bc46-6816d6778dbc": {
     "id": "74197d98-8b9d-402d-bc46-6816d6778dbc",
     "prev": "709b17cd-e8bf-47bf-ace9-ed44268de90e",
     "regions": {
      "581ec6c5-d0ec-4c43-bd69-ba1312313f98": {
       "attrs": {
        "height": 0.8,
        "width": 0.8,
        "x": 0.1,
        "y": 0.1
       },
       "content": {
        "cell": "1ecc8373-9119-4667-83f9-f5bc9201bb45",
        "part": "whole"
       },
       "id": "581ec6c5-d0ec-4c43-bd69-ba1312313f98"
      }
     }
    },
    "9fd1b104-1a97-44b4-87da-ff358c64f526": {
     "id": "9fd1b104-1a97-44b4-87da-ff358c64f526",
     "prev": "3a56a3af-a4aa-43a2-94b0-d7f4172381e7",
     "regions": {
      "78cb5cff-5b2e-4845-85ba-7f1a9575f5d3": {
       "attrs": {
        "height": 0.8,
        "width": 0.8,
        "x": 0.1,
        "y": 0.1
       },
       "content": {
        "cell": "c4822fc1-95f9-4314-a250-4753d0aeafcd",
        "part": "whole"
       },
       "id": "78cb5cff-5b2e-4845-85ba-7f1a9575f5d3"
      }
     }
    },
    "da9e9710-630c-4220-ba83-1836bc985052": {
     "id": "da9e9710-630c-4220-ba83-1836bc985052",
     "prev": "41750996-7fc7-4ad2-af37-fce34c94e645",
     "regions": {
      "8bf1b138-d68f-438c-801d-13ac9c814034": {
       "attrs": {
        "height": 0.8,
        "width": 0.8,
        "x": 0.1,
        "y": 0.1
       },
       "content": {
        "cell": "5d65f7bf-9758-4cd0-bae3-1e4bde68c823",
        "part": "whole"
       },
       "id": "8bf1b138-d68f-438c-801d-13ac9c814034"
      }
     }
    },
    "e7e9b24b-a2f0-4034-ac91-afe56c2b4793": {
     "id": "e7e9b24b-a2f0-4034-ac91-afe56c2b4793",
     "prev": "74197d98-8b9d-402d-bc46-6816d6778dbc",
     "regions": {
      "fe00a816-d5bd-4899-8835-72a6d42ad575": {
       "attrs": {
        "height": 0.8,
        "width": 0.8,
        "x": 0.1,
        "y": 0.1
       },
       "content": {
        "cell": "067b03ca-045a-473b-a84a-e28c04b89c5e",
        "part": "whole"
       },
       "id": "fe00a816-d5bd-4899-8835-72a6d42ad575"
      }
     }
    },
    "f6e7a3a7-f945-42a5-8963-ddb902ca2cd0": {
     "id": "f6e7a3a7-f945-42a5-8963-ddb902ca2cd0",
     "prev": "da9e9710-630c-4220-ba83-1836bc985052",
     "regions": {
      "93075a4f-0072-4076-b989-3cd5ac2c669d": {
       "attrs": {
        "height": 0.8,
        "width": 0.8,
        "x": 0.1,
        "y": 0.1
       },
       "content": {
        "cell": "352934cb-6888-4106-b917-44360d0e2884",
        "part": "whole"
       },
       "id": "93075a4f-0072-4076-b989-3cd5ac2c669d"
      }
     }
    }
   },
   "themes": {}
  }
 },
 "nbformat": 4,
 "nbformat_minor": 2
}
