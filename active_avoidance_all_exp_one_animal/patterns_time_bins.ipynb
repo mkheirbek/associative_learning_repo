{
 "cells": [
  {
   "cell_type": "code",
   "execution_count": null,
   "metadata": {
    "collapsed": false
   },
   "outputs": [],
   "source": [
    "from IPython.display import display\n",
    "from IPython.display import HTML\n",
    "import IPython.core.display as di # Example: di.display_html('<h3>%s:</h3>' % str, raw=True)\n",
    "\n",
    "# This line will hide code by default when the notebook is exported as HTML\n",
    "di.display_html('<script>jQuery(function() {if (jQuery(\"body.notebook_app\").length == 0) { jQuery(\".input_area\").toggle(); jQuery(\".prompt\").toggle();}});</script>', raw=True)\n",
    "\n",
    "# This line will add a button to toggle visibility of code blocks, for use with the HTML export version\n",
    "di.display_html('''<button onclick=\"jQuery('.input_area').toggle(); jQuery('.prompt').toggle();\">Toggle code</button>''', raw=True)\n"
   ]
  },
  {
   "cell_type": "code",
   "execution_count": null,
   "metadata": {
    "collapsed": true
   },
   "outputs": [],
   "source": [
    "# all modules necessary for this nb\n",
    "import os\n",
    "import sys\n",
    "import pickle\n",
    "\n",
    "import numpy as np\n",
    "import pylab as pl\n",
    "\n",
    "# setting parameters for default matplotlib plots\n",
    "%matplotlib inline"
   ]
  },
  {
   "cell_type": "code",
   "execution_count": null,
   "metadata": {
    "collapsed": true
   },
   "outputs": [],
   "source": [
    "pl.style.use('fabiostyle')\n",
    "# needs to find the library of functions\n",
    "sys.path.append('../../../../code/')  # to be replaced!\n",
    "\n",
    "import utils as ut\n",
    "import plots as pt"
   ]
  },
  {
   "cell_type": "code",
   "execution_count": null,
   "metadata": {
    "collapsed": true
   },
   "outputs": [],
   "source": [
    "NOTEBOOK_NAME = 'patterns_time_bins'"
   ]
  },
  {
   "cell_type": "code",
   "execution_count": null,
   "metadata": {
    "collapsed": false
   },
   "outputs": [],
   "source": [
    "from pickleshare import PickleShareDB\n",
    "\n",
    "autorestore_folder = os.path.join(os.getcwd(), 'autorestore', NOTEBOOK_NAME)\n",
    "db = PickleShareDB(autorestore_folder)\n",
    "import sys\n",
    "from workspace import *\n",
    "import IPython\n",
    "ip = IPython.get_ipython()\n",
    "\n",
    "# this will restore all the saved variables. ignore the errors listed.\n",
    "load_workspace(ip, db)\n",
    "\n",
    "# use `save_worspace(db)` to save variables at the end"
   ]
  },
  {
   "cell_type": "code",
   "execution_count": null,
   "metadata": {
    "collapsed": false
   },
   "outputs": [],
   "source": [
    "sessions = 'post',#'expo','d1','d3'"
   ]
  },
  {
   "cell_type": "code",
   "execution_count": null,
   "metadata": {
    "collapsed": false
   },
   "outputs": [],
   "source": [
    "#import variables.\n",
    "for sess in sessions:\n",
    "    try:\n",
    "        exec(\"folder = '../%s/notebooks/autorestore/preprocessing'\")%sess\n",
    "        for var in ('time_ax', 'traces', 'events', 'cycles',\n",
    "                'is_STIM5t', 'is_STIM6t', 'is_STIM7t','is_consumed_STIM5t','is_CSm_enabledt',\n",
    "                'rewards','shocks','licks','punished','avoided','enabled',\n",
    "                'CSm_enabled','armed','is_rewardedt','is_shockedt',\n",
    "                'is_avoidedt','consumption_times','CYCLE_START','CS_DURATION','DELAY','US_START'): \n",
    "            exec('%s_%s = ut.load_variable(\\'%s\\', folder=\\'%s\\')'%(var, sess, var, folder))\n",
    "    except:\n",
    "        print ('%s failed')%sess"
   ]
  },
  {
   "cell_type": "code",
   "execution_count": null,
   "metadata": {
    "collapsed": false
   },
   "outputs": [],
   "source": [
    "#this is how data are extracted in the cellregs nb\n",
    "import h5py\n",
    "try:\n",
    "    filepath = '../data/cellreg_pre_vs_post.mat'\n",
    "    arrays = {}\n",
    "    f = h5py.File(filepath)\n",
    "    cellreg_map = np.array(f['cell_registered_struct']['cell_to_index_map'])-1\n",
    "    keep = np.prod(cellreg_map, 0)>=0\n",
    "    cellregs_pre_vs_post = dict(zip(['pre', 'post'], cellreg_map.T[keep].T.astype(int)))\n",
    "except:\n",
    "    print 'failed pre_vs_post'"
   ]
  },
  {
   "cell_type": "code",
   "execution_count": null,
   "metadata": {
    "collapsed": false
   },
   "outputs": [],
   "source": [
    "try:\n",
    "    conditions = ['pre', 'post']\n",
    "    cellregs_all = ut.load_variable('cellregs_pre_vs_post', './autorestore/cellregs')\n",
    "except:\n",
    "    print 'failed'"
   ]
  },
  {
   "cell_type": "code",
   "execution_count": null,
   "metadata": {
    "collapsed": false
   },
   "outputs": [],
   "source": [
    "try:\n",
    "    conditions = ['expo', 'pre']\n",
    "    cellregs_all = ut.load_variable('cellregs_pre_vs_expo', './autorestore/cellregs')\n",
    "except:\n",
    "    print 'failed'"
   ]
  },
  {
   "cell_type": "code",
   "execution_count": null,
   "metadata": {
    "collapsed": false
   },
   "outputs": [],
   "source": [
    "try:\n",
    "    conditions = ['expo', 'post']\n",
    "    cellregs_all = ut.load_variable('cellregs_expo_vs_post', './autorestore/cellregs')\n",
    "except:\n",
    "    print 'failed'"
   ]
  },
  {
   "cell_type": "code",
   "execution_count": null,
   "metadata": {
    "collapsed": false
   },
   "outputs": [],
   "source": [
    "#0.5sec time bins\n",
    "delta_t0 = 0.5\n",
    "t_start0 = -3  # sec\n",
    "t_stop0 = 11.5  # sec\n",
    "\n",
    "for sess in sessions:\n",
    "    try:\n",
    "        exec(\"patterns_evs_05s_%s = np.r_[[ut.extract_activity(time_ax_%s,events_%s, cycles_%s,\\\n",
    "                                       CYCLE_START_%s,i*delta_t0, (i+1)*delta_t0, offset=t_start0)\\\n",
    "                                       for i in xrange(int((t_stop0-t_start0)/delta_t0))]]\"%(sess,sess,sess,sess,sess))\n",
    "    except:\n",
    "        print 'nope %s'%(sess)"
   ]
  },
  {
   "cell_type": "code",
   "execution_count": null,
   "metadata": {
    "collapsed": false
   },
   "outputs": [],
   "source": [
    "#1sec time bins\n",
    "delta_t0 = 1\n",
    "t_start0 = -3  # sec\n",
    "t_stop0 = 11  # sec\n",
    "\n",
    "for sess in sessions:\n",
    "    try:\n",
    "        exec(\"patterns_evs_1s_%s = np.r_[[ut.extract_activity(time_ax_%s,events_%s, cycles_%s,\\\n",
    "                                       CYCLE_START_%s,i*delta_t0, (i+1)*delta_t0, offset=t_start0)\\\n",
    "                                       for i in xrange(int((t_stop0-t_start0)/delta_t0))]]\"%(sess,sess,sess,sess,sess))\n",
    "    except:\n",
    "        print 'nope %s'%(sess)"
   ]
  },
  {
   "cell_type": "code",
   "execution_count": null,
   "metadata": {
    "collapsed": true
   },
   "outputs": [],
   "source": [
    "#1sec time bins centered on the half-second\n",
    "delta_t0 = 1\n",
    "t_start0 = -3.5  # sec\n",
    "t_stop0 = 10.5  # sec\n",
    "\n",
    "for sess in sessions:\n",
    "    try:\n",
    "        exec(\"patterns_evs_15s_%s = np.r_[[ut.extract_activity(time_ax_%s,events_%s, cycles_%s,\\\n",
    "                                       CYCLE_START_%s,i*delta_t0, (i+1)*delta_t0, offset=t_start0)\\\n",
    "                                       for i in xrange(int((t_stop0-t_start0)/delta_t0))]]\"%(sess,sess,sess,sess,sess))\n",
    "    except:\n",
    "        print 'nope %s'%(sess)"
   ]
  },
  {
   "cell_type": "code",
   "execution_count": null,
   "metadata": {
    "collapsed": false
   },
   "outputs": [],
   "source": [
    "#2sec time bins\n",
    "delta_t0 = 2\n",
    "t_start0 = -2  # sec\n",
    "t_stop0 = 10  # sec\n",
    "\n",
    "for sess in sessions:\n",
    "    try:\n",
    "        exec(\"patterns_evs_2s_%s = np.r_[[ut.extract_activity(time_ax_%s,events_%s, cycles_%s,\\\n",
    "                                       CYCLE_START_%s,i*delta_t0, (i+1)*delta_t0, offset=t_start0)\\\n",
    "                                       for i in xrange(int((t_stop0-t_start0)/delta_t0))]]\"%(sess,sess,sess,sess,sess))\n",
    "    except:\n",
    "        print 'nope %s'%(sess)"
   ]
  },
  {
   "cell_type": "code",
   "execution_count": null,
   "metadata": {
    "collapsed": false
   },
   "outputs": [],
   "source": [
    "#replace all nan values with 0\n",
    "for tb in ['05s','1s','15s','2s']:\n",
    "    for sess in sessions:\n",
    "        try:\n",
    "            for x in np.argwhere(np.isnan(eval(\"patterns_evs_%s_%s\"%(tb,sess)))):\n",
    "                print x,\n",
    "                exec(\"patterns_evs_%s_%s[x[0],x[1],x[2]]=0\"%(tb,sess))\n",
    "        except:\n",
    "            print 'nope',tb,sess"
   ]
  },
  {
   "cell_type": "code",
   "execution_count": null,
   "metadata": {
    "collapsed": false
   },
   "outputs": [],
   "source": [
    "#make sure no more nan values remain (nothing should be printed when run)\n",
    "for tb in ['05s','1s','15s','2s']:\n",
    "        for sess in sessions:\n",
    "            try:\n",
    "                for x in np.argwhere(np.isnan(eval(\"patterns_evs_%s_%s\"%(tb,sess)))):\n",
    "                    print x,\n",
    "            except:\n",
    "                print 'nope',tb,sess"
   ]
  },
  {
   "cell_type": "code",
   "execution_count": null,
   "metadata": {
    "collapsed": false
   },
   "outputs": [],
   "source": [
    "for sess in sessions:\n",
    "    try:\n",
    "        exec('labels_%s = ((np.r_[is_STIM5t_%s]*1)+(np.r_[is_STIM6t_%s]*2)+(np.r_[is_STIM7t_%s]*3)+(np.r_[is_rewardedt_%s]*3)\\\n",
    "        +(np.r_[is_consumed_STIM5t_%s]*1)+(np.r_[is_CSm_enabledt_%s]*4)+(np.r_[is_avoidedt_%s]*4))'%(sess,sess,sess,sess,sess,sess,sess,sess))\n",
    "    except:\n",
    "        print'nope %s'%(sess)"
   ]
  },
  {
   "cell_type": "code",
   "execution_count": null,
   "metadata": {
    "collapsed": true
   },
   "outputs": [],
   "source": [
    "#trial type labels:\n",
    "#reward w/o eliciting sucrose = 1, rew eliciting reward but not collecting within 1.5s of delivery=+ = 4, rew w/ consumption = 5\n",
    "#CSm w/o running > threshold= 2, CSm w/ running > threshold = 6\n",
    "#AA shocked= 3, AA avoided shock (running > threshold) = 7"
   ]
  },
  {
   "cell_type": "code",
   "execution_count": null,
   "metadata": {
    "collapsed": true
   },
   "outputs": [],
   "source": [
    "##making list for extracting cellreg comparisons\n",
    "#CR_comparisons = [['pre','mid'],['pre','post'],['mid','post']]"
   ]
  },
  {
   "cell_type": "code",
   "execution_count": null,
   "metadata": {
    "collapsed": false
   },
   "outputs": [],
   "source": [
    "##extract patterns using only registered cells\n",
    "#for tb in ['05s','1s','2s']:\n",
    "#    for cr in CR_comparisons:\n",
    "#            try:\n",
    "#                exec(\"patterns_evs_reg_%s_%s_%s = patterns_evs_%s_%s[:, :, cellregs_%s_vs_%s['%s']]\"%(tb,cr[0],cr[1],\n",
    "#                                                                  tb,cr[0],cr[0],cr[1]))\n",
    "#                exec(\"patterns_evs_reg_%s_%s_%s = patterns_evs_%s_%s_%s[:, :, cellregs_%s_vs_%s['%s']]\"%(tb,cr[1],cr[0],\n",
    "#                                                                  tb,cr[1],cr[0],cr[1]))\n",
    "#            except:\n",
    "#                print 'nope %s'%tb,cr,"
   ]
  },
  {
   "cell_type": "code",
   "execution_count": null,
   "metadata": {
    "collapsed": false
   },
   "outputs": [],
   "source": [
    "save_workspace(db);"
   ]
  },
  {
   "cell_type": "code",
   "execution_count": null,
   "metadata": {
    "collapsed": true
   },
   "outputs": [],
   "source": []
  }
 ],
 "metadata": {
  "anaconda-cloud": {},
  "kernelspec": {
   "display_name": "Python [default]",
   "language": "python",
   "name": "python2"
  },
  "language_info": {
   "codemirror_mode": {
    "name": "ipython",
    "version": 2
   },
   "file_extension": ".py",
   "mimetype": "text/x-python",
   "name": "python",
   "nbconvert_exporter": "python",
   "pygments_lexer": "ipython2",
   "version": "2.7.12"
  }
 },
 "nbformat": 4,
 "nbformat_minor": 2
}
