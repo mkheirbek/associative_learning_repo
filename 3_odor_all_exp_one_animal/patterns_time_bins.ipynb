{
 "cells": [
  {
   "cell_type": "code",
   "execution_count": 1,
   "metadata": {
    "collapsed": false
   },
   "outputs": [
    {
     "data": {
      "text/html": [
       "<script>jQuery(function() {if (jQuery(\"body.notebook_app\").length == 0) { jQuery(\".input_area\").toggle(); jQuery(\".prompt\").toggle();}});</script>"
      ]
     },
     "metadata": {},
     "output_type": "display_data"
    },
    {
     "data": {
      "text/html": [
       "<button onclick=\"jQuery('.input_area').toggle(); jQuery('.prompt').toggle();\">Toggle code</button>"
      ]
     },
     "metadata": {},
     "output_type": "display_data"
    }
   ],
   "source": [
    "from IPython.display import display\n",
    "from IPython.display import HTML\n",
    "import IPython.core.display as di # Example: di.display_html('<h3>%s:</h3>' % str, raw=True)\n",
    "\n",
    "# This line will hide code by default when the notebook is exported as HTML\n",
    "di.display_html('<script>jQuery(function() {if (jQuery(\"body.notebook_app\").length == 0) { jQuery(\".input_area\").toggle(); jQuery(\".prompt\").toggle();}});</script>', raw=True)\n",
    "\n",
    "# This line will add a button to toggle visibility of code blocks, for use with the HTML export version\n",
    "di.display_html('''<button onclick=\"jQuery('.input_area').toggle(); jQuery('.prompt').toggle();\">Toggle code</button>''', raw=True)\n"
   ]
  },
  {
   "cell_type": "code",
   "execution_count": 2,
   "metadata": {
    "collapsed": true
   },
   "outputs": [],
   "source": [
    "# all modules necessary for this nb\n",
    "import os\n",
    "import sys\n",
    "import pickle\n",
    "\n",
    "import numpy as np\n",
    "import pylab as pl\n",
    "\n",
    "# setting parameters for default matplotlib plots\n",
    "%matplotlib inline"
   ]
  },
  {
   "cell_type": "code",
   "execution_count": 3,
   "metadata": {
    "collapsed": false
   },
   "outputs": [],
   "source": [
    "pl.style.use('fabiostyle')\n",
    "# needs to find the library of functions\n",
    "sys.path.append('../../../../code/')  # to be replaced!\n",
    "\n",
    "import utils as ut\n",
    "import plots as pt"
   ]
  },
  {
   "cell_type": "code",
   "execution_count": 4,
   "metadata": {
    "collapsed": true
   },
   "outputs": [],
   "source": [
    "NOTEBOOK_NAME = 'patterns_time_bins'"
   ]
  },
  {
   "cell_type": "code",
   "execution_count": 5,
   "metadata": {
    "collapsed": false
   },
   "outputs": [
    {
     "name": "stderr",
     "output_type": "stream",
     "text": [
      "Exception KeyError: KeyError(0,) in 'h5py._objects.ObjectID.__dealloc__' ignored\n"
     ]
    },
    {
     "name": "stdout",
     "output_type": "stream",
     "text": [
      "Unable to restore variable 'f', ignoring (use %store -d to forget!)\n",
      "('The error was:', <type 'exceptions.KeyError'>)\n"
     ]
    }
   ],
   "source": [
    "from pickleshare import PickleShareDB\n",
    "\n",
    "autorestore_folder = os.path.join(os.getcwd(), 'autorestore', NOTEBOOK_NAME)\n",
    "db = PickleShareDB(autorestore_folder)\n",
    "import sys\n",
    "from workspace import *\n",
    "import IPython\n",
    "ip = IPython.get_ipython()\n",
    "\n",
    "# this will restore all the saved variables. ignore the errors listed.\n",
    "load_workspace(ip, db)\n",
    "\n",
    "# use `save_worspace(db)` to save variables at the end"
   ]
  },
  {
   "cell_type": "code",
   "execution_count": 6,
   "metadata": {
    "collapsed": false
   },
   "outputs": [],
   "source": [
    "vars_pre = {}\n",
    "folder = '../3odor_pre/notebooks/autorestore/preprocessing'\n",
    "for var in ('time_ax', 'events', 'cycles', 'is_CSmt', 'is_rewardt', 'is_sht',\n",
    "            'CYCLE_START', 'CS_DURATION', 'DELAY'):\n",
    "    vars_pre.update({var:ut.load_variable(var, folder=folder)})\n",
    "    \n",
    "vars_d2 = {}\n",
    "folder = '../3odor_d2/notebooks/autorestore/preprocessing'\n",
    "for var in ('time_ax', 'events', 'cycles', 'is_CSmt', 'is_rewardt', 'is_sht',\n",
    "            'CYCLE_START', 'CS_DURATION', 'DELAY'):\n",
    "    vars_d2.update({var:ut.load_variable(var, folder=folder)})\n",
    "    \n",
    "vars_post = {}\n",
    "folder = '../3odor_post/notebooks/autorestore/preprocessing'\n",
    "for var in ('time_ax', 'events', 'cycles', 'is_CSmt', 'is_rewardt', 'is_sht',\n",
    "            'CYCLE_START', 'CS_DURATION', 'DELAY'):\n",
    "    vars_post.update({var:ut.load_variable(var, folder=folder)})\n",
    "    \n",
    "vars_pre_rev = {}\n",
    "folder = '../3odor_pre_rev/notebooks/autorestore/preprocessing'\n",
    "for var in ('time_ax', 'events', 'cycles', 'is_CSmt', 'is_rewardt', 'is_sht',\n",
    "            'CYCLE_START', 'CS_DURATION', 'DELAY'):\n",
    "    vars_pre_rev.update({var:ut.load_variable(var, folder=folder)})\n",
    "    \n",
    "vars_post_rev = {}\n",
    "folder = '../3odor_post_rev/notebooks/autorestore/preprocessing'\n",
    "for var in ('time_ax', 'events', 'cycles', 'is_CSmt', 'is_rewardt', 'is_sht',\n",
    "            'CYCLE_START', 'CS_DURATION', 'DELAY'):\n",
    "    vars_post_rev.update({var:ut.load_variable(var, folder=folder)})\n",
    "    \n",
    "vars_catch = {}\n",
    "folder = '../3odor_catch/notebooks/autorestore/preprocessing'\n",
    "for var in ('time_ax', 'events', 'cycles', 'is_CSmt', 'is_rewardt', 'is_sht', 'is_reward_catcht','is_sh_catcht',\n",
    "            'is_reward_or_catcht','is_sh_or_catcht',\n",
    "            'CYCLE_START', 'CS_DURATION', 'DELAY'):\n",
    "    vars_catch.update({var:ut.load_variable(var, folder=folder)})"
   ]
  },
  {
   "cell_type": "code",
   "execution_count": 7,
   "metadata": {
    "collapsed": false
   },
   "outputs": [],
   "source": [
    "try:\n",
    "    import h5py\n",
    "    filepath = '../CellReg/cellreg_preVSpost.mat'\n",
    "    arrays = {}\n",
    "    f = h5py.File(filepath)\n",
    "    cellreg_map = np.array(f['cell_registered_struct']['cell_to_index_map'])-1\n",
    "    keep = np.prod(cellreg_map, 0)>0\n",
    "    cellregs_preVSpost = dict(zip(['pre_post', 'post_pre'], cellreg_map.T[keep].T.astype(int)))\n",
    "except:\n",
    "    print \"no preVSpost\""
   ]
  },
  {
   "cell_type": "code",
   "execution_count": 8,
   "metadata": {
    "collapsed": true
   },
   "outputs": [],
   "source": [
    "try:\n",
    "    import h5py\n",
    "    filepath = '../CellReg/cellreg_preVSpre_rev.mat'\n",
    "    arrays = {}\n",
    "    f = h5py.File(filepath)\n",
    "    cellreg_map = np.array(f['cell_registered_struct']['cell_to_index_map'])-1\n",
    "    keep = np.prod(cellreg_map, 0)>0\n",
    "    cellregs_preVSpre_rev = dict(zip(['pre_pre_rev', 'pre_rev_pre'], cellreg_map.T[keep].T.astype(int)))\n",
    "except:\n",
    "    print \"no preVSpre_rev\""
   ]
  },
  {
   "cell_type": "code",
   "execution_count": 9,
   "metadata": {
    "collapsed": true
   },
   "outputs": [],
   "source": [
    "try:\n",
    "    import h5py\n",
    "    filepath = '../CellReg/cellreg_preVSpost_rev.mat'\n",
    "    arrays = {}\n",
    "    f = h5py.File(filepath)\n",
    "    cellreg_map = np.array(f['cell_registered_struct']['cell_to_index_map'])-1\n",
    "    keep = np.prod(cellreg_map, 0)>0\n",
    "    cellregs_preVSpost_rev = dict(zip(['pre_post_rev', 'post_rev_pre'], cellreg_map.T[keep].T.astype(int)))\n",
    "except:\n",
    "    print \"no preVSpost_rev\""
   ]
  },
  {
   "cell_type": "code",
   "execution_count": 10,
   "metadata": {
    "collapsed": true
   },
   "outputs": [],
   "source": [
    "try:\n",
    "    import h5py\n",
    "    filepath = '../CellReg/cellreg_postVSpost_rev.mat'\n",
    "    arrays = {}\n",
    "    f = h5py.File(filepath)\n",
    "    cellreg_map = np.array(f['cell_registered_struct']['cell_to_index_map'])-1\n",
    "    keep = np.prod(cellreg_map, 0)>0\n",
    "    cellregs_postVSpost_rev = dict(zip(['post_post_rev', 'post_rev_post'], cellreg_map.T[keep].T.astype(int)))\n",
    "except:\n",
    "    print \"no postVSpost_rev\""
   ]
  },
  {
   "cell_type": "code",
   "execution_count": 11,
   "metadata": {
    "collapsed": true
   },
   "outputs": [],
   "source": [
    "try:\n",
    "    import h5py\n",
    "    filepath = '../CellReg/cellreg_postVSpre_rev.mat'\n",
    "    arrays = {}\n",
    "    f = h5py.File(filepath)\n",
    "    cellreg_map = np.array(f['cell_registered_struct']['cell_to_index_map'])-1\n",
    "    keep = np.prod(cellreg_map, 0)>0\n",
    "    cellregs_postVSpre_rev = dict(zip(['post_pre_rev', 'pre_rev_post'], cellreg_map.T[keep].T.astype(int)))\n",
    "except:\n",
    "    print \"no postVSpre_rev\""
   ]
  },
  {
   "cell_type": "code",
   "execution_count": 12,
   "metadata": {
    "collapsed": true
   },
   "outputs": [],
   "source": [
    "try:\n",
    "    import h5py\n",
    "    filepath = '../CellReg/cellreg_pre_revVSpost_rev.mat'\n",
    "    arrays = {}\n",
    "    f = h5py.File(filepath)\n",
    "    cellreg_map = np.array(f['cell_registered_struct']['cell_to_index_map'])-1\n",
    "    keep = np.prod(cellreg_map, 0)>0\n",
    "    cellregs_pre_revVSpost_rev = dict(zip(['pre_rev_post_rev', 'post_rev_pre_rev'], cellreg_map.T[keep].T.astype(int)))\n",
    "except:\n",
    "    print \"no pre_revVSpost_rev\""
   ]
  },
  {
   "cell_type": "code",
   "execution_count": 13,
   "metadata": {
    "collapsed": false
   },
   "outputs": [],
   "source": [
    "try:\n",
    "    import h5py\n",
    "    filepath = '../CellReg/cellreg_postVScatch_rev.mat'\n",
    "    arrays = {}\n",
    "    f = h5py.File(filepath)\n",
    "    cellreg_map = np.array(f['cell_registered_struct']['cell_to_index_map'])-1\n",
    "    keep = np.prod(cellreg_map, 0)>0\n",
    "    cellregs_postVScatch = dict(zip(['post_catch', 'catch_post'], cellreg_map.T[keep].T.astype(int)))\n",
    "except:\n",
    "    print \"no postVScatch\""
   ]
  },
  {
   "cell_type": "code",
   "execution_count": 14,
   "metadata": {
    "collapsed": true
   },
   "outputs": [],
   "source": [
    "try:\n",
    "    import h5py\n",
    "    filepath = '../CellReg/cellreg_post_revVScatch_rev.mat'\n",
    "    arrays = {}\n",
    "    f = h5py.File(filepath)\n",
    "    cellreg_map = np.array(f['cell_registered_struct']['cell_to_index_map'])-1\n",
    "    keep = np.prod(cellreg_map, 0)>0\n",
    "    cellregs_post_revVScatch = dict(zip(['post_rev_catch', 'catch_post_rev'], cellreg_map.T[keep].T.astype(int)))\n",
    "except:\n",
    "    print \"no post_revVScatch\""
   ]
  },
  {
   "cell_type": "code",
   "execution_count": 15,
   "metadata": {
    "collapsed": true
   },
   "outputs": [],
   "source": [
    "sessions = 'pre','d2','post','pre_rev','post_rev','catch'"
   ]
  },
  {
   "cell_type": "code",
   "execution_count": 16,
   "metadata": {
    "collapsed": false
   },
   "outputs": [],
   "source": [
    "#create event pattern time bins\n",
    "t_start0 = -3  # sec\n",
    "t_stop0 = 11  # sec\n",
    "\n",
    "for dur in zip((0.5,1,2),(5,1,2)):\n",
    "    delta_t0=dur[0]\n",
    "    for sess in sessions:\n",
    "        # Shape of the following is (N_time_bins, N_patterns, N_cells)\n",
    "        exec(\"patterns_tb_%s_%s = np.r_[[ut.extract_activity(vars_%s['time_ax'], vars_%s['events'], vars_%s['cycles'],\\\n",
    "                                        vars_%s['CYCLE_START'], i*delta_t0, (i+1)*delta_t0, offset=t_start0)\\\n",
    "                             for i in xrange(int((t_stop0-t_start0)/delta_t0))]]\"%(sess,dur[1],sess,sess,sess,sess))"
   ]
  },
  {
   "cell_type": "code",
   "execution_count": 17,
   "metadata": {
    "collapsed": false
   },
   "outputs": [],
   "source": [
    "labels_pre1 = (np.r_[vars_pre['is_rewardt']] * 1)\n",
    "labels_pre2 = ((np.r_[vars_pre['is_sht']] * 2))\n",
    "labels_pre = labels_pre1 + labels_pre2\n",
    "labels_d21 = (np.r_[vars_d2['is_rewardt']] * 1)\n",
    "labels_d22 = ((np.r_[vars_d2['is_sht']] * 2))\n",
    "labels_d2 = labels_d21 + labels_d22\n",
    "labels_post1 = (np.r_[vars_post['is_rewardt']] * 1)\n",
    "labels_post2 = (np.r_[vars_post['is_sht']] * 2)\n",
    "labels_post = labels_post1 + labels_post2\n",
    "labels_pre_rev1 = (np.r_[vars_pre_rev['is_rewardt']] * 1)\n",
    "labels_pre_rev2 = (np.r_[vars_pre_rev['is_sht']] * 2)\n",
    "labels_pre_rev = labels_pre_rev1 + labels_pre_rev2\n",
    "labels_post_rev1 = (np.r_[vars_post_rev['is_rewardt']] * 1)\n",
    "labels_post_rev2 = (np.r_[vars_post_rev['is_sht']] * 2)\n",
    "labels_post_rev = labels_post_rev1 + labels_post_rev2\n",
    "labels_catch1 = (np.r_[vars_catch['is_rewardt']] * 1)\n",
    "labels_catch2 = (np.r_[vars_catch['is_sht']] * 2)\n",
    "labels_catch3= (np.r_[vars_catch['is_reward_catcht']] * -1)\n",
    "labels_catch4 = (np.r_[vars_catch['is_sh_catcht']] * -2)\n",
    "labels_catch = labels_catch1 + labels_catch2 + labels_catch3 + labels_catch4 \n",
    "#catch trials\n",
    "labels_catch1_nd = (np.r_[vars_catch['is_reward_catcht']] * 1)\n",
    "labels_catch2_nd = (np.r_[vars_catch['is_sh_catcht']] * 2)\n",
    "labels_catch3_nd= (np.r_[vars_catch['is_rewardt']] * -1)\n",
    "labels_catch4_nd = (np.r_[vars_catch['is_sht']] * -2)\n",
    "labels_catch_nd = labels_catch1_nd + labels_catch2_nd +labels_catch3_nd + labels_catch4_nd"
   ]
  },
  {
   "cell_type": "code",
   "execution_count": 18,
   "metadata": {
    "collapsed": false
   },
   "outputs": [
    {
     "data": {
      "text/plain": [
       "array([1, 0, 1, 0, 0, 1, 1, 0, 1, 0, 0, 0, 0, 1, 0, 1, 0, 1, 0, 0, 0, 0, 0,\n",
       "       0, 0, 1, 0, 0, 1, 1, 0, 0, 1, 0, 0, 0, 0, 0, 1, 1, 1, 0, 0, 0, 0, 1,\n",
       "       0, 0, 0, 1, 0, 0, 1, 1, 0, 0, 0, 0, 1, 1, 0, 1, 1, 0, 1, 0, 0, 0, 0,\n",
       "       0, 0, 0, 0, 1, 0, 0, 1, 0, 1, 0, 1, 0, 0, 0, 0, 1, 0, 1, 0, 0, 0, 0,\n",
       "       0, 0, 0, 1, 1, 0, 1, 0, 0, 0, 0, 0, 1, 1, 0, 0, 1, 0, 1, 1, 0, 1, 0,\n",
       "       1, 0, 0, 0, 0, 0, 0, 0, 1, 1, 0, 0, 1, 0, 0, 1, 0, 0, 0, 1, 0, 0, 0,\n",
       "       0, 0])"
      ]
     },
     "execution_count": 18,
     "metadata": {},
     "output_type": "execute_result"
    }
   ],
   "source": [
    "labels_catch1"
   ]
  },
  {
   "cell_type": "code",
   "execution_count": 19,
   "metadata": {
    "collapsed": true
   },
   "outputs": [],
   "source": [
    "comparisons = 'preVSpost','preVSpre_rev','preVSpost_rev','postVSpre_rev','postVSpost_rev','pre_revVSpost_rev','postVScatch','post_revVScatch'"
   ]
  },
  {
   "cell_type": "code",
   "execution_count": 20,
   "metadata": {
    "collapsed": false
   },
   "outputs": [],
   "source": [
    "#extract patterns using only registered cells\n",
    "for comp in comparisons:\n",
    "    for dur in 5,1,2:\n",
    "        exec(\"%s_patterns_%s_%s = patterns_tb_%s_%s[:,:,cellregs_%s['%s_%s']]\"%(comp,comp.split('VS')[0],dur,comp.split('VS')[0],\n",
    "                                                                                    dur,comp,comp.split('VS')[0],comp.split('VS')[1]))\n",
    "        exec(\"%s_patterns_%s_%s = patterns_tb_%s_%s[:,:,cellregs_%s['%s_%s']]\"%(comp,comp.split('VS')[1],dur,comp.split('VS')[1],\n",
    "                                                                                    dur,comp,comp.split('VS')[1],comp.split('VS')[0]))\n",
    "            \n",
    "#patterns_evs_2s_pre_post =   patterns_evs_2s_pre[:, :, cellregs_preVSpost['pre_post']]\n",
    "#patterns_evs_2s_post_pre =   patterns_evs_2s_post[:, :, cellregs_preVSpost['post_pre']]"
   ]
  },
  {
   "cell_type": "code",
   "execution_count": 21,
   "metadata": {
    "collapsed": false
   },
   "outputs": [
    {
     "name": "stdout",
     "output_type": "stream",
     "text": [
      "Could not store variable 'di'. Skipping...\n",
      "Could not store variable 'np'. Skipping...\n",
      "Could not store variable 'h5py'. Skipping...\n",
      "Could not store variable 'os'. Skipping...\n",
      "Could not store variable 'IPython'. Skipping...\n",
      "Could not store variable 'pt'. Skipping...\n",
      "Could not store variable 'pl'. Skipping...\n",
      "Could not store variable 'ut'. Skipping...\n",
      "Could not store variable 'pickle'. Skipping...\n",
      "Could not store variable 'ip'. Skipping...\n",
      "Could not store variable 'sys'. Skipping...\n"
     ]
    }
   ],
   "source": [
    "save_workspace(db);"
   ]
  },
  {
   "cell_type": "code",
   "execution_count": null,
   "metadata": {
    "collapsed": true
   },
   "outputs": [],
   "source": []
  }
 ],
 "metadata": {
  "anaconda-cloud": {},
  "kernelspec": {
   "display_name": "Python [default]",
   "language": "python",
   "name": "python2"
  },
  "language_info": {
   "codemirror_mode": {
    "name": "ipython",
    "version": 2
   },
   "file_extension": ".py",
   "mimetype": "text/x-python",
   "name": "python",
   "nbconvert_exporter": "python",
   "pygments_lexer": "ipython2",
   "version": "2.7.12"
  }
 },
 "nbformat": 4,
 "nbformat_minor": 2
}
