{
 "cells": [
  {
   "cell_type": "code",
   "execution_count": 16,
   "metadata": {
    "collapsed": false
   },
   "outputs": [
    {
     "data": {
      "text/html": [
       "<script>jQuery(function() {if (jQuery(\"body.notebook_app\").length == 0) { jQuery(\".input_area\").toggle(); jQuery(\".prompt\").toggle();}});</script>"
      ]
     },
     "metadata": {},
     "output_type": "display_data"
    },
    {
     "data": {
      "text/html": [
       "<button onclick=\"jQuery('.input_area').toggle(); jQuery('.prompt').toggle();\">Toggle code</button>"
      ]
     },
     "metadata": {},
     "output_type": "display_data"
    }
   ],
   "source": [
    "from IPython.display import display\n",
    "from IPython.display import HTML\n",
    "import IPython.core.display as di # Example: di.display_html('<h3>%s:</h3>' % str, raw=True)\n",
    "\n",
    "# This line will hide code by default when the notebook is exported as HTML\n",
    "di.display_html('<script>jQuery(function() {if (jQuery(\"body.notebook_app\").length == 0) { jQuery(\".input_area\").toggle(); jQuery(\".prompt\").toggle();}});</script>', raw=True)\n",
    "\n",
    "# This line will add a button to toggle visibility of code blocks, for use with the HTML export version\n",
    "di.display_html('''<button onclick=\"jQuery('.input_area').toggle(); jQuery('.prompt').toggle();\">Toggle code</button>''', raw=True)\n"
   ]
  },
  {
   "cell_type": "code",
   "execution_count": 17,
   "metadata": {
    "collapsed": true
   },
   "outputs": [],
   "source": [
    "# all modules necessary for this nb\n",
    "import os\n",
    "import sys\n",
    "import pickle\n",
    "\n",
    "import numpy as np\n",
    "import pylab as pl\n",
    "\n",
    "# setting parameters for default matplotlib plots\n",
    "%matplotlib inline"
   ]
  },
  {
   "cell_type": "code",
   "execution_count": 18,
   "metadata": {
    "collapsed": true
   },
   "outputs": [],
   "source": [
    "pl.style.use('fabiostyle')\n",
    "# needs to find the library of functions\n",
    "sys.path.append('../../../../code/')  # to be replaced!\n",
    "\n",
    "import utils as ut\n",
    "import plots as pt"
   ]
  },
  {
   "cell_type": "code",
   "execution_count": 19,
   "metadata": {
    "collapsed": true
   },
   "outputs": [],
   "source": [
    "NOTEBOOK_NAME = 'decoding_postVSpost_rev'"
   ]
  },
  {
   "cell_type": "code",
   "execution_count": 20,
   "metadata": {
    "collapsed": false
   },
   "outputs": [],
   "source": [
    "from pickleshare import PickleShareDB\n",
    "\n",
    "autorestore_folder = os.path.join(os.getcwd(), 'autorestore', NOTEBOOK_NAME)\n",
    "db = PickleShareDB(autorestore_folder)\n",
    "import sys\n",
    "from workspace import *\n",
    "import IPython\n",
    "ip = IPython.get_ipython()\n",
    "\n",
    "# this will restore all the saved variables. ignore the errors listed.\n",
    "load_workspace(ip, db)\n",
    "\n",
    "# use `save_worspace(db)` to save variables at the end"
   ]
  },
  {
   "cell_type": "code",
   "execution_count": 21,
   "metadata": {
    "collapsed": false
   },
   "outputs": [],
   "source": [
    "vars_post_rev= {}\n",
    "folder = '../3odor_post_rev/notebooks/autorestore/preprocessing'\n",
    "for var in ('time_ax', 'events', 'cycles', 'is_CSmt', 'is_rewardt',\n",
    "            'CYCLE_START', 'CS_DURATION', 'DELAY'):\n",
    "    vars_post_rev.update({var:ut.load_variable(var, folder=folder)})\n",
    "    \n",
    "vars_post = {}\n",
    "folder = '../3odor_post/notebooks/autorestore/preprocessing'\n",
    "for var in ('time_ax', 'events', 'cycles', 'is_CSmt', 'is_rewardt',\n",
    "            'CYCLE_START', 'CS_DURATION', 'DELAY'):\n",
    "    vars_post.update({var:ut.load_variable(var, folder=folder)})"
   ]
  },
  {
   "cell_type": "code",
   "execution_count": 22,
   "metadata": {
    "collapsed": false
   },
   "outputs": [],
   "source": [
    "import h5py\n",
    "filepath = '../CellReg/cellreg_postVSpost_rev.mat'\n",
    "arrays = {}\n",
    "f = h5py.File(filepath)\n",
    "cellreg_map = np.array(f['cell_registered_struct']['cell_to_index_map'])-1\n",
    "keep = np.prod(cellreg_map, 0)>=0\n",
    "cellregs = dict(zip(['post', 'post_rev'], cellreg_map.T[keep].T.astype(int)))"
   ]
  },
  {
   "cell_type": "code",
   "execution_count": 23,
   "metadata": {
    "collapsed": false
   },
   "outputs": [
    {
     "data": {
      "text/plain": [
       "45"
      ]
     },
     "execution_count": 23,
     "metadata": {},
     "output_type": "execute_result"
    }
   ],
   "source": [
    "len(cellregs['post'])"
   ]
  },
  {
   "cell_type": "code",
   "execution_count": 24,
   "metadata": {
    "collapsed": false
   },
   "outputs": [],
   "source": [
    "patterns_evs_post_rev = ut.extract_patterns(vars_post_rev['time_ax'], vars_post_rev['events'], vars_post_rev['cycles'],\n",
    "                                      vars_post_rev['CYCLE_START'], vars_post_rev['CS_DURATION'], vars_post_rev['CS_DURATION'] + vars_post_rev['DELAY'])\n",
    "labels_post_rev = (np.r_[vars_post_rev['is_rewardt']] * 1)\n",
    "\n",
    "patterns_evs_post = ut.extract_patterns(vars_post['time_ax'], vars_post['events'], vars_post['cycles'],\n",
    "                                       vars_post['CYCLE_START'], vars_post['CS_DURATION'], vars_post['CS_DURATION'] + vars_post['DELAY'])\n",
    "labels_post = (np.r_[vars_post['is_rewardt']] * 1)"
   ]
  },
  {
   "cell_type": "code",
   "execution_count": 25,
   "metadata": {
    "collapsed": false
   },
   "outputs": [],
   "source": [
    "patterns_evs_post_rev = patterns_evs_post_rev[:, cellregs['post_rev']]\n",
    "patterns_evs_post = patterns_evs_post[:, cellregs['post']]"
   ]
  },
  {
   "cell_type": "code",
   "execution_count": 26,
   "metadata": {
    "collapsed": false
   },
   "outputs": [
    {
     "data": {
      "text/plain": [
       "(45, 45)"
      ]
     },
     "execution_count": 26,
     "metadata": {},
     "output_type": "execute_result"
    }
   ],
   "source": [
    "patterns_evs_post_rev.shape[1], patterns_evs_post.shape[1]"
   ]
  },
  {
   "cell_type": "code",
   "execution_count": 27,
   "metadata": {
    "collapsed": false
   },
   "outputs": [],
   "source": [
    "from sklearn.naive_bayes import MultinomialNB\n",
    "from sklearn.svm import LinearSVC, SVC\n",
    "\n",
    "from sklearn.model_selection import cross_val_score, StratifiedKFold"
   ]
  },
  {
   "cell_type": "markdown",
   "metadata": {},
   "source": [
    "# Decoding odor"
   ]
  },
  {
   "cell_type": "markdown",
   "metadata": {},
   "source": [
    "  ## Train/test on same day"
   ]
  },
  {
   "cell_type": "code",
   "execution_count": 28,
   "metadata": {
    "collapsed": false
   },
   "outputs": [],
   "source": [
    "# decoder = LinearSVC()\n",
    "decoder = SVC(kernel='linear', decision_function_shape='ovo')\n",
    "# decoder = MultinomialNB()\n",
    "cv = StratifiedKFold(n_splits=30)\n",
    "perf_post_rev = cross_val_score(decoder, patterns_evs_post_rev, labels_post_rev, cv=cv)\n",
    "perf_post = cross_val_score(decoder, patterns_evs_post, labels_post, cv=cv)"
   ]
  },
  {
   "cell_type": "code",
   "execution_count": 29,
   "metadata": {
    "collapsed": false
   },
   "outputs": [
    {
     "data": {
      "text/plain": [
       "0.77722222222222226"
      ]
     },
     "execution_count": 29,
     "metadata": {},
     "output_type": "execute_result"
    }
   ],
   "source": [
    "perf_post.mean()"
   ]
  },
  {
   "cell_type": "markdown",
   "metadata": {},
   "source": [
    "## Train on pre test on post and vv."
   ]
  },
  {
   "cell_type": "code",
   "execution_count": 31,
   "metadata": {
    "collapsed": false
   },
   "outputs": [],
   "source": [
    "perf_post_revpost = []\n",
    "\n",
    "decoder.fit(patterns_evs_post_rev, labels_post_rev)\n",
    "perf_post_revpost.append(decoder.score(patterns_evs_post, labels_post))\n",
    "\n",
    "decoder.fit(patterns_evs_post, labels_post)\n",
    "perf_post_revpost.append(decoder.score(patterns_evs_post_rev, labels_post_rev))"
   ]
  },
  {
   "cell_type": "code",
   "execution_count": 32,
   "metadata": {
    "collapsed": true
   },
   "outputs": [],
   "source": [
    "from matplotlib.lines import Line2D"
   ]
  },
  {
   "cell_type": "code",
   "execution_count": 33,
   "metadata": {
    "collapsed": false
   },
   "outputs": [
    {
     "data": {
      "text/plain": [
       "0.77722222222222226"
      ]
     },
     "execution_count": 33,
     "metadata": {},
     "output_type": "execute_result"
    }
   ],
   "source": [
    "perf_post.mean()"
   ]
  },
  {
   "cell_type": "code",
   "execution_count": 34,
   "metadata": {
    "collapsed": false
   },
   "outputs": [
    {
     "data": {
      "text/plain": [
       "(0, 100)"
      ]
     },
     "execution_count": 34,
     "metadata": {},
     "output_type": "execute_result"
    },
    {
     "data": {
      "image/png": "[encoded data removed]",
      "text/plain": [
       "<matplotlib.figure.Figure at 0x7fc6802ea550>"
      ]
     },
     "metadata": {},
     "output_type": "display_data"
    }
   ],
   "source": [
    "fig, ax = pl.subplots(1, 1, figsize=(1, 2))\n",
    "\n",
    "values = [np.concatenate([perf_post_rev, perf_post]),  # 3 odors, same day\n",
    "         ]\n",
    "\n",
    "pt.plot_bars(np.r_[values]*100, xpos=np.arange(len(values))*3-0.5, colors='0.7', ax=ax, stderr=True)\n",
    "\n",
    "values = [perf_post_revpost,  # 3 odors, cross day\n",
    "         ]\n",
    "\n",
    "pt.plot_bars(np.r_[values]*100, xpos=np.arange(len(values))*3+0.5, colors='k', ax=ax, stderr=True)\n",
    "ax.set_xticks(np.arange(1))\n",
    "\n",
    "pt.nicer_plot(ax)\n",
    "ax.spines['bottom'].set_bounds(-1.2, 1.2)\n",
    "\n",
    "ax.set_xticklabels(['CS+ vs CS-',])\n",
    "\n",
    "ax.hlines(50, -1.2, 1.2, linestyles='dotted', lw=1)\n",
    "\n",
    "ax.legend((Line2D('', '', color='0.7', lw=1),\n",
    "           Line2D('', '', color='k', lw=1),\n",
    "           Line2D('', '', color='k', linestyle='dotted', lw=1)),\n",
    "          ['Same day', 'Across days', 'Chance'],\n",
    "          fontsize=5, loc=(1.01, 0))\n",
    "\n",
    "ax.set_ylabel('% Odor decoding accuracy')\n",
    "\n",
    "ax.set_ylim(0, 100)\n",
    "\n",
    "# pl.savefig('decoding_renewpost_all_odors', format=\"pdf\", bbox_inches=\"tight\")"
   ]
  },
  {
   "cell_type": "code",
   "execution_count": 35,
   "metadata": {
    "collapsed": false
   },
   "outputs": [
    {
     "name": "stdout",
     "output_type": "stream",
     "text": [
      "Could not store variable 'di'. Skipping...\n",
      "Could not store variable 'h5py'. Skipping...\n",
      "Could not store variable 'os'. Skipping...\n",
      "Could not store variable 'IPython'. Skipping...\n",
      "Could not store variable 'pt'. Skipping...\n",
      "Could not store variable 'pl'. Skipping...\n",
      "Could not store variable 'ut'. Skipping...\n",
      "Could not store variable 'pickle'. Skipping...\n",
      "Could not store variable 'ip'. Skipping...\n",
      "Could not store variable 'np'. Skipping...\n",
      "Could not store variable 'sys'. Skipping...\n"
     ]
    }
   ],
   "source": [
    "save_workspace(db);"
   ]
  },
  {
   "cell_type": "code",
   "execution_count": null,
   "metadata": {
    "collapsed": true
   },
   "outputs": [],
   "source": []
  }
 ],
 "metadata": {
  "anaconda-cloud": {},
  "kernelspec": {
   "display_name": "Python [default]",
   "language": "python",
   "name": "python2"
  },
  "language_info": {
   "codemirror_mode": {
    "name": "ipython",
    "version": 2
   },
   "file_extension": ".py",
   "mimetype": "text/x-python",
   "name": "python",
   "nbconvert_exporter": "python",
   "pygments_lexer": "ipython2",
   "version": "2.7.12"
  }
 },
 "nbformat": 4,
 "nbformat_minor": 2
}
