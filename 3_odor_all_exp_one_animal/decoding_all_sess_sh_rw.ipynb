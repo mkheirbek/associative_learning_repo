{
 "cells": [
  {
   "cell_type": "code",
   "execution_count": 1,
   "metadata": {
    "collapsed": false
   },
   "outputs": [
    {
     "data": {
      "text/html": [
       "<script>jQuery(function() {if (jQuery(\"body.notebook_app\").length == 0) { jQuery(\".input_area\").toggle(); jQuery(\".prompt\").toggle();}});</script>"
      ]
     },
     "metadata": {},
     "output_type": "display_data"
    },
    {
     "data": {
      "text/html": [
       "<button onclick=\"jQuery('.input_area').toggle(); jQuery('.prompt').toggle();\">Toggle code</button>"
      ]
     },
     "metadata": {},
     "output_type": "display_data"
    }
   ],
   "source": [
    "from IPython.display import display\n",
    "from IPython.display import HTML\n",
    "import IPython.core.display as di # Example: di.display_html('<h3>%s:</h3>' % str, raw=True)\n",
    "\n",
    "# This line will hide code by default when the notebook is exported as HTML\n",
    "di.display_html('<script>jQuery(function() {if (jQuery(\"body.notebook_app\").length == 0) { jQuery(\".input_area\").toggle(); jQuery(\".prompt\").toggle();}});</script>', raw=True)\n",
    "\n",
    "# This line will add a button to toggle visibility of code blocks, for use with the HTML export version\n",
    "di.display_html('''<button onclick=\"jQuery('.input_area').toggle(); jQuery('.prompt').toggle();\">Toggle code</button>''', raw=True)\n"
   ]
  },
  {
   "cell_type": "code",
   "execution_count": 2,
   "metadata": {
    "collapsed": true
   },
   "outputs": [],
   "source": [
    "# all modules necessary for this nb\n",
    "import os\n",
    "import sys\n",
    "import pickle\n",
    "\n",
    "import numpy as np\n",
    "import pylab as pl\n",
    "from scipy import stats as sstats\n",
    "\n",
    "# setting parameters for default matplotlib plots\n",
    "%matplotlib inline"
   ]
  },
  {
   "cell_type": "code",
   "execution_count": 3,
   "metadata": {
    "collapsed": true
   },
   "outputs": [],
   "source": [
    "pl.style.use('fabiostyle')\n",
    "\n",
    "# needs to find the library of functions\n",
    "sys.path.append('../../../../code/')  # to be replaced!\n",
    "\n",
    "import utils as ut\n",
    "import plots as pt"
   ]
  },
  {
   "cell_type": "code",
   "execution_count": 4,
   "metadata": {
    "collapsed": true
   },
   "outputs": [],
   "source": [
    "NOTEBOOK_NAME = 'decoding_all_sess_sh_rw'"
   ]
  },
  {
   "cell_type": "code",
   "execution_count": 5,
   "metadata": {
    "collapsed": false
   },
   "outputs": [],
   "source": [
    "from pickleshare import PickleShareDB\n",
    "\n",
    "autorestore_folder = os.path.join(os.getcwd(), 'autorestore', NOTEBOOK_NAME)\n",
    "db = PickleShareDB(autorestore_folder)\n",
    "import sys\n",
    "from workspace import *\n",
    "import IPython\n",
    "ip = IPython.get_ipython()\n",
    "\n",
    "# this will restore all the saved variables. ignore the errors listed.\n",
    "load_workspace(ip, db)\n",
    "\n",
    "# use `save_worspace(db)` to save variables at the end"
   ]
  },
  {
   "cell_type": "code",
   "execution_count": 6,
   "metadata": {
    "collapsed": false
   },
   "outputs": [],
   "source": [
    "vars_pre = {}\n",
    "folder = '../3odor_pre/notebooks/autorestore/preprocessing'\n",
    "for var in ('time_ax', 'traces', 'events', 'areas', 'cycles',\n",
    "            'is_rewardt', 'is_CSmt', 'CYCLE_START', 'CS_DURATION'):\n",
    "    vars_pre.update({var:ut.load_variable(var, folder=folder)})\n",
    "    \n",
    "folder = '../3odor_pre/notebooks/autorestore/decoding_odors_sh_rw'\n",
    "for var in ('patterns_evs', 'labels', 'scores'):\n",
    "    vars_pre.update({var:ut.load_variable(var, folder=folder)})\n",
    "\n",
    "vars_post = {}\n",
    "folder = '../3odor_post/notebooks/autorestore/preprocessing'\n",
    "for var in ('time_ax', 'traces', 'events', 'areas', 'cycles',\n",
    "            'is_rewardt', 'is_CSmt', 'CYCLE_START', 'CS_DURATION'):\n",
    "    vars_post.update({var:ut.load_variable(var, folder=folder)})\n",
    "    \n",
    "folder = '../3odor_post/notebooks/autorestore/decoding_odors_sh_rw'\n",
    "for var in ('patterns_evs', 'labels', 'scores'):\n",
    "    vars_post.update({var:ut.load_variable(var, folder=folder)})\n",
    "    \n",
    "vars_pre_rev = {}\n",
    "folder = '../3odor_pre_rev/notebooks/autorestore/preprocessing'\n",
    "for var in ('time_ax', 'traces', 'events', 'areas', 'cycles',\n",
    "            'is_rewardt', 'is_CSmt', 'CYCLE_START', 'CS_DURATION'):\n",
    "    vars_pre_rev.update({var:ut.load_variable(var, folder=folder)})\n",
    "    \n",
    "folder = '../3odor_pre_rev/notebooks/autorestore/decoding_odors_sh_rw'\n",
    "for var in ('patterns_evs', 'labels', 'scores'):\n",
    "    vars_pre_rev.update({var:ut.load_variable(var, folder=folder)})\n",
    "    \n",
    "vars_post_rev = {}\n",
    "folder = '../3odor_post_rev/notebooks/autorestore/preprocessing'\n",
    "for var in ('time_ax', 'traces', 'events', 'areas', 'cycles',\n",
    "            'is_rewardt', 'is_CSmt', 'CYCLE_START', 'CS_DURATION'):\n",
    "    vars_post_rev.update({var:ut.load_variable(var, folder=folder)})\n",
    "    \n",
    "folder = '../3odor_post_rev/notebooks/autorestore/decoding_odors_sh_rw'\n",
    "for var in ('patterns_evs', 'labels', 'scores'):\n",
    "    vars_post_rev.update({var:ut.load_variable(var, folder=folder)})\n",
    "    \n",
    "#vars_catch = {}\n",
    "#folder = '../3odor_catch/notebooks/autorestore/preprocessing'\n",
    "#for var in ('time_ax', 'traces', 'events', 'areas', 'cycles',\n",
    "#            'is_rewardt', 'is_CSmt', 'CYCLE_START', 'CS_DURATION'):\n",
    "#    vars_catch.update({var:ut.load_variable(var, folder=folder)})\n",
    "    \n",
    "#folder = '../3odor_catch/notebooks/autorestore/decoding_odors_rw_csm'\n",
    "#for var in ('patterns_evs', 'labels', 'scores'):\n",
    "#    vars_catch.update({var:ut.load_variable(var, folder=folder)})\n"
   ]
  },
  {
   "cell_type": "code",
   "execution_count": 7,
   "metadata": {
    "collapsed": false
   },
   "outputs": [],
   "source": [
    "# patterns_evs_pre = vars_pre['patterns_evs']\n",
    "# labels_pre = vars_pre['labels']\n",
    "# patterns_evs_post = vars_post['patterns_evs']\n",
    "# labels_post = vars_post['labels']"
   ]
  },
  {
   "cell_type": "code",
   "execution_count": 8,
   "metadata": {
    "collapsed": false
   },
   "outputs": [],
   "source": [
    "# patterns_evs_pre = patterns_evs_pre[:, cellregs['d1']]\n",
    "# patterns_evs_post = patterns_evs_post[:, cellregs['d3']]"
   ]
  },
  {
   "cell_type": "code",
   "execution_count": 9,
   "metadata": {
    "collapsed": false
   },
   "outputs": [],
   "source": [
    "def sig_95(vals):\n",
    "    return [0, 0 if ((np.mean(vals)-50)/(sstats.sem(vals)*2))>=1 else 1]"
   ]
  },
  {
   "cell_type": "code",
   "execution_count": 10,
   "metadata": {
    "collapsed": false
   },
   "outputs": [
    {
     "data": {
      "text/plain": [
       "<matplotlib.text.Text at 0x7f453c160750>"
      ]
     },
     "execution_count": 10,
     "metadata": {},
     "output_type": "execute_result"
    },
    {
     "data": {
      "image/png": "[encoded data removed]",
      "text/plain": [
       "<matplotlib.figure.Figure at 0x7f455c086610>"
      ]
     },
     "metadata": {},
     "output_type": "display_data"
    }
   ],
   "source": [
    "fig, ax = pl.subplots(1, 1, figsize=(3, 2))\n",
    "\n",
    "values = [vars_pre['scores']*100, vars_post['scores']*100, vars_pre_rev['scores']*100, vars_post_rev['scores']*100] #vars_post_rev['scores']*100]\n",
    "#vars_catch['scores']*100]\n",
    "\n",
    "xpos = np.r_[[0, 1, 2, 3,]]\n",
    "pt.plot_bars(values, xpos=xpos, colors=['0.7', 'k', '0.5'], ax=ax, stderr=True)\n",
    "pt.nicer_plot(ax)\n",
    "pt.add_significance(ax, values[0], values[1], 0, 1, 110)\n",
    "pt.add_significance(ax, values[1], values[2], 1, 2, 115)\n",
    "pt.add_significance(ax, values[2], values[3], 2, 3, 115)\n",
    "#pt.add_significance(ax, values[3], values[4], 3, 4, 115)\n",
    "pt.add_significance(ax, values[0], 0.5, 0, 0, 100, sig_func=lambda x, y: sig_95(x), ticksize=0)\n",
    "pt.add_significance(ax, values[1], 0.5, 1, 1, 100, sig_func=lambda x, y: sig_95(x), ticksize=0)\n",
    "pt.add_significance(ax, values[2], 0.5, 2, 2, 100, sig_func=lambda x, y: sig_95(x), ticksize=0)\n",
    "pt.add_significance(ax, values[3], 0.5, 3, 3, 100, sig_func=lambda x, y: sig_95(x), ticksize=0)\n",
    "#pt.add_significance(ax, values[4], 0.5, 4, 4, 100, sig_func=lambda x, y: sig_95(x), ticksize=0)\n",
    "\n",
    "ax.hlines(50, -0.5, 4.5, linestyles='dashed', lw=0.5, color='0.5', zorder=0)\n",
    "\n",
    "ax.set_ylim(0, 100)\n",
    "ax.set_xticks(range(4))\n",
    "ax.set_xticklabels(['Pre', 'Post', 'Pre_rev','Post_rev', ])#'Renew'])\n",
    "ax.set_xlim(-0.5, 4.5)\n",
    "\n",
    "ax.set_ylabel('Decoding Accuracy %')"
   ]
  },
  {
   "cell_type": "code",
   "execution_count": 11,
   "metadata": {
    "collapsed": false
   },
   "outputs": [
    {
     "name": "stdout",
     "output_type": "stream",
     "text": [
      "Could not store variable 'ip'. Skipping...\n",
      "Could not store variable 'ut'. Skipping...\n",
      "Could not store variable 'sstats'. Skipping...\n",
      "Could not store variable 'IPython'. Skipping...\n",
      "Could not store variable 'pt'. Skipping...\n",
      "Could not store variable 'np'. Skipping...\n",
      "Could not store variable 'pl'. Skipping...\n",
      "Could not store variable 'di'. Skipping...\n",
      "Could not store variable 'sys'. Skipping...\n",
      "Could not store variable 'pickle'. Skipping...\n",
      "Could not store variable 'os'. Skipping...\n"
     ]
    }
   ],
   "source": [
    "save_workspace(db);"
   ]
  },
  {
   "cell_type": "code",
   "execution_count": null,
   "metadata": {
    "collapsed": true
   },
   "outputs": [],
   "source": []
  }
 ],
 "metadata": {
  "anaconda-cloud": {},
  "kernelspec": {
   "display_name": "Python [default]",
   "language": "python",
   "name": "python2"
  },
  "language_info": {
   "codemirror_mode": {
    "name": "ipython",
    "version": 2
   },
   "file_extension": ".py",
   "mimetype": "text/x-python",
   "name": "python",
   "nbconvert_exporter": "python",
   "pygments_lexer": "ipython2",
   "version": "2.7.12"
  }
 },
 "nbformat": 4,
 "nbformat_minor": 2
}
